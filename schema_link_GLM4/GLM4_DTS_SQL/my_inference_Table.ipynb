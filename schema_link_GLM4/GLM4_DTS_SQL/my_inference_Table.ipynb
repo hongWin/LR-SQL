{
 "cells": [
  {
   "cell_type": "code",
   "execution_count": 1,
   "id": "f5713b27",
   "metadata": {},
   "outputs": [
    {
     "name": "stderr",
     "output_type": "stream",
     "text": [
      "/home/vipuser/anaconda3/envs/GLM4/lib/python3.10/site-packages/tqdm/auto.py:21: TqdmWarning: IProgress not found. Please update jupyter and ipywidgets. See https://ipywidgets.readthedocs.io/en/stable/user_install.html\n",
      "  from .autonotebook import tqdm as notebook_tqdm\n"
     ]
    }
   ],
   "source": [
    "import torch\n",
    "from peft import AutoPeftModelForCausalLM\n",
    "from transformers import AutoModelForCausalLM, AutoTokenizer\n",
    "import pandas as pd"
   ]
  },
  {
   "cell_type": "code",
   "execution_count": 2,
   "id": "890cc0df",
   "metadata": {},
   "outputs": [],
   "source": [
    "model_path = '/home/LLM_para/para_glm4'\n",
    "lora_path = './final_checkpoint_GLM4_Table_SFT_cropped'\n",
    "# val_dataset_path = \"/home/code/chat_SQL/Dataset/GLM4/ENG_ori/My_idea_dataset/T2Q_GLM4_SFT_val_table.jsonl\""
   ]
  },
  {
   "cell_type": "code",
   "execution_count": 3,
   "id": "dc0d02ac",
   "metadata": {},
   "outputs": [
    {
     "name": "stderr",
     "output_type": "stream",
     "text": [
      "Loading checkpoint shards: 100%|████████████████████████████████████████████████████████| 10/10 [01:36<00:00,  9.66s/it]\n"
     ]
    }
   ],
   "source": [
    "model = AutoPeftModelForCausalLM.from_pretrained(\n",
    "        lora_path, trust_remote_code= True, device_map='auto')"
   ]
  },
  {
   "cell_type": "code",
   "execution_count": 4,
   "id": "8579551c",
   "metadata": {},
   "outputs": [
    {
     "name": "stderr",
     "output_type": "stream",
     "text": [
      "Special tokens have been added in the vocabulary, make sure the associated word embeddings are fine-tuned or trained.\n"
     ]
    }
   ],
   "source": [
    "tokenizer = AutoTokenizer.from_pretrained(model_path, trust_remote_code=True)"
   ]
  },
  {
   "cell_type": "code",
   "execution_count": 5,
   "id": "24ae3b5e",
   "metadata": {},
   "outputs": [],
   "source": [
    "def filter_descibe(sql_statement):\n",
    "    modified_sql = re.sub(r'(\\w+)\\s+(INTEGER|int|NUMERIC|INT|REAL|TEXT|DATETIME|datetime|bigint\\(?\\d*\\)?|CHAR\\(?\\d*\\)?|char\\(?\\d*\\)?|varchar2\\(?\\d*\\)|VARCHAR\\(?\\d*\\)|varchar\\(?\\d*\\)|DECIMAL\\(?\\d*,\\s*\\d*\\)?)', r'\\1', sql_statement)\n",
    "    return  modified_sql"
   ]
  },
  {
   "cell_type": "code",
   "execution_count": 6,
   "id": "3500436d",
   "metadata": {},
   "outputs": [
    {
     "name": "stderr",
     "output_type": "stream",
     "text": [
      "100%|███████████████████████████████████████████████████████████████████████████████| 142/142 [00:00<00:00, 3980.48it/s]\n",
      "100%|████████████████████████████████████████████████████████████████████████████████| 30/30 [00:00<00:00, 10137.70it/s]"
     ]
    },
    {
     "name": "stdout",
     "output_type": "stream",
     "text": [
      "4900\n"
     ]
    },
    {
     "name": "stderr",
     "output_type": "stream",
     "text": [
      "\n"
     ]
    }
   ],
   "source": [
    "from tqdm import tqdm\n",
    "import copy\n",
    "import re\n",
    "\n",
    "# 获取REF表数据\n",
    "tab_str = \"\"\n",
    "count = 0\n",
    "df = pd.read_csv(\"./mydataset_new/table_schema_Reference_cropped.csv\", encoding=\"utf-8\")\n",
    "for index, row in tqdm(df.iterrows(), total=len(df)):\n",
    "    table_group = row['Reference_group']\n",
    "    table_group = filter_descibe(table_group)\n",
    "    table_group = table_group.replace(\"\\r\",\"\")\n",
    "    table_group = table_group.replace(\"\\n\",\"\")\n",
    "    table_group = table_group.replace(\"  \",\" \")\n",
    "    tab_str += table_group + \"\\n\"\n",
    "    \n",
    "df = pd.read_csv(\"./mydataset_new/table_schema_noReference_cropped.csv\", encoding=\"utf-8\")\n",
    "for index, row in tqdm(df.iterrows(), total=len(df)):\n",
    "    table_group = row['noReference_group']\n",
    "    table_group = filter_descibe(table_group)\n",
    "    table_group = table_group.replace(\"\\r\", \"\")\n",
    "    table_group = table_group.replace(\"\\n\", \"\")\n",
    "    table_group = table_group.replace(\"  \", \" \")\n",
    "    tab_str += table_group + \"\\n\"\n",
    "\n",
    "schema_str = tab_str.strip()\n",
    "check_token = tokenizer(f\"{schema_str}\", add_special_tokens=False)\n",
    "print(len(check_token[\"input_ids\"]))\n",
    "max_token = 5200"
   ]
  },
  {
   "cell_type": "code",
   "execution_count": 7,
   "id": "32ec16ba",
   "metadata": {},
   "outputs": [],
   "source": [
    "def predict(messages, model, tokenizer):\n",
    "    device = \"cuda\"\n",
    "    text = tokenizer.apply_chat_template(\n",
    "        messages,\n",
    "        tokenize=False,\n",
    "        add_generation_prompt=True\n",
    "    )\n",
    "    model_inputs = tokenizer([text], return_tensors=\"pt\").to(device)\n",
    "\n",
    "    generated_ids = model.generate(\n",
    "        model_inputs.input_ids,\n",
    "        max_new_tokens=512\n",
    "    )\n",
    "    generated_ids = [\n",
    "        output_ids[len(input_ids):] for input_ids, output_ids in zip(model_inputs.input_ids, generated_ids)\n",
    "    ]\n",
    "    \n",
    "    response = tokenizer.batch_decode(generated_ids, skip_special_tokens=True)[0]\n",
    "    \n",
    "#     print(response)\n",
    "     \n",
    "    return response\n",
    "\n",
    "# instruction = row['instruction']\n",
    "# input_value = row['input']\n",
    "def get_instruction(schema):\n",
    "    instruction = f\" I want you to act as a relation extraction robot for a sample SQL table. You only need to return the tables related to the user's input question. Below are instructions describing the relationship between tables. Please write a response that appropriately completes the request. \\n##instruction:{schema}\"\n",
    "    return instruction\n",
    "\n",
    "def get_input_value(question):\n",
    "    input_value = f\"{question}\"\n",
    "    return input_value"
   ]
  },
  {
   "cell_type": "code",
   "execution_count": 8,
   "id": "c39a6635",
   "metadata": {},
   "outputs": [
    {
     "name": "stderr",
     "output_type": "stream",
     "text": [
      "  1%|▍                                                                                  | 1/178 [00:04<12:01,  4.08s/it]"
     ]
    },
    {
     "name": "stdout",
     "output_type": "stream",
     "text": [
      "++++++++++++++++index:0++++++++++++++++++++++++\n",
      "预测表名： products, manufacturers\n",
      "正确表名： products, manufacturers\n",
      "############################################\n"
     ]
    },
    {
     "name": "stderr",
     "output_type": "stream",
     "text": [
      "\r",
      "  1%|▉                                                                                  | 2/178 [00:05<06:51,  2.34s/it]"
     ]
    },
    {
     "name": "stdout",
     "output_type": "stream",
     "text": [
      "++++++++++++++++index:1++++++++++++++++++++++++\n",
      "预测表名： products\n",
      "正确表名： products\n",
      "############################################\n"
     ]
    },
    {
     "name": "stderr",
     "output_type": "stream",
     "text": [
      "\r",
      "  2%|█▍                                                                                 | 3/178 [00:06<05:11,  1.78s/it]"
     ]
    },
    {
     "name": "stdout",
     "output_type": "stream",
     "text": [
      "++++++++++++++++index:2++++++++++++++++++++++++\n",
      "预测表名： manufacturers\n",
      "正确表名： manufacturers\n",
      "############################################\n"
     ]
    },
    {
     "name": "stderr",
     "output_type": "stream",
     "text": [
      "\r",
      "  2%|█▊                                                                                 | 4/178 [00:07<04:24,  1.52s/it]"
     ]
    },
    {
     "name": "stdout",
     "output_type": "stream",
     "text": [
      "++++++++++++++++index:3++++++++++++++++++++++++\n",
      "预测表名： manufacturers\n",
      "正确表名： manufacturers\n",
      "############################################\n"
     ]
    },
    {
     "name": "stderr",
     "output_type": "stream",
     "text": [
      "\r",
      "  3%|██▎                                                                                | 5/178 [00:08<03:58,  1.38s/it]"
     ]
    },
    {
     "name": "stdout",
     "output_type": "stream",
     "text": [
      "++++++++++++++++index:4++++++++++++++++++++++++\n",
      "预测表名： manufacturers\n",
      "正确表名： manufacturers\n",
      "############################################\n"
     ]
    },
    {
     "name": "stderr",
     "output_type": "stream",
     "text": [
      "\r",
      "  3%|██▊                                                                                | 6/178 [00:09<03:46,  1.32s/it]"
     ]
    },
    {
     "name": "stdout",
     "output_type": "stream",
     "text": [
      "++++++++++++++++index:5++++++++++++++++++++++++\n",
      "预测表名： products, manufacturers\n",
      "正确表名： products, manufacturers\n",
      "############################################\n"
     ]
    },
    {
     "name": "stderr",
     "output_type": "stream",
     "text": [
      "\r",
      "  4%|███▎                                                                               | 7/178 [00:10<03:34,  1.26s/it]"
     ]
    },
    {
     "name": "stdout",
     "output_type": "stream",
     "text": [
      "++++++++++++++++index:6++++++++++++++++++++++++\n",
      "预测表名： manufacturers\n",
      "正确表名： manufacturers\n",
      "############################################\n"
     ]
    },
    {
     "name": "stderr",
     "output_type": "stream",
     "text": [
      "\r",
      "  4%|███▋                                                                               | 8/178 [00:12<03:26,  1.21s/it]"
     ]
    },
    {
     "name": "stdout",
     "output_type": "stream",
     "text": [
      "++++++++++++++++index:7++++++++++++++++++++++++\n",
      "预测表名： products\n",
      "正确表名： products\n",
      "############################################\n"
     ]
    },
    {
     "name": "stderr",
     "output_type": "stream",
     "text": [
      "\r",
      "  5%|████▏                                                                              | 9/178 [00:13<03:27,  1.23s/it]"
     ]
    },
    {
     "name": "stdout",
     "output_type": "stream",
     "text": [
      "++++++++++++++++index:8++++++++++++++++++++++++\n",
      "预测表名： student, sportsinfo\n",
      "正确表名： student, sportsinfo\n",
      "############################################\n"
     ]
    },
    {
     "name": "stderr",
     "output_type": "stream",
     "text": [
      "\r",
      "  6%|████▌                                                                             | 10/178 [00:14<03:29,  1.25s/it]"
     ]
    },
    {
     "name": "stdout",
     "output_type": "stream",
     "text": [
      "++++++++++++++++index:9++++++++++++++++++++++++\n",
      "预测表名： plays_games, video_games\n",
      "正确表名： plays_games, video_games\n",
      "############################################\n"
     ]
    },
    {
     "name": "stderr",
     "output_type": "stream",
     "text": [
      "\r",
      "  6%|█████                                                                             | 11/178 [00:15<03:23,  1.22s/it]"
     ]
    },
    {
     "name": "stdout",
     "output_type": "stream",
     "text": [
      "++++++++++++++++index:10++++++++++++++++++++++++\n",
      "预测表名： video_games\n",
      "正确表名： video_games\n",
      "############################################\n"
     ]
    },
    {
     "name": "stderr",
     "output_type": "stream",
     "text": [
      "\r",
      "  7%|█████▌                                                                            | 12/178 [00:16<03:19,  1.20s/it]"
     ]
    },
    {
     "name": "stdout",
     "output_type": "stream",
     "text": [
      "++++++++++++++++index:11++++++++++++++++++++++++\n",
      "预测表名： video_games\n",
      "正确表名： video_games\n",
      "############################################\n"
     ]
    },
    {
     "name": "stderr",
     "output_type": "stream",
     "text": [
      "\r",
      "  7%|█████▉                                                                            | 13/178 [00:18<03:16,  1.19s/it]"
     ]
    },
    {
     "name": "stdout",
     "output_type": "stream",
     "text": [
      "++++++++++++++++index:12++++++++++++++++++++++++\n",
      "预测表名： video_games\n",
      "正确表名： video_games\n",
      "############################################\n"
     ]
    },
    {
     "name": "stderr",
     "output_type": "stream",
     "text": [
      "\r",
      "  8%|██████▍                                                                           | 14/178 [00:19<03:18,  1.21s/it]"
     ]
    },
    {
     "name": "stdout",
     "output_type": "stream",
     "text": [
      "++++++++++++++++index:13++++++++++++++++++++++++\n",
      "预测表名： sportsinfo, student\n",
      "正确表名： sportsinfo, student\n",
      "############################################\n"
     ]
    },
    {
     "name": "stderr",
     "output_type": "stream",
     "text": [
      "\r",
      "  8%|██████▉                                                                           | 15/178 [00:20<03:18,  1.22s/it]"
     ]
    },
    {
     "name": "stdout",
     "output_type": "stream",
     "text": [
      "++++++++++++++++index:14++++++++++++++++++++++++\n",
      "预测表名： student, plays_games\n",
      "正确表名： student, plays_games\n",
      "############################################\n"
     ]
    },
    {
     "name": "stderr",
     "output_type": "stream",
     "text": [
      "\r",
      "  9%|███████▎                                                                          | 16/178 [00:21<03:22,  1.25s/it]"
     ]
    },
    {
     "name": "stdout",
     "output_type": "stream",
     "text": [
      "++++++++++++++++index:15++++++++++++++++++++++++\n",
      "预测表名： student, sportsinfo\n",
      "正确表名： student, sportsinfo\n",
      "############################################\n"
     ]
    },
    {
     "name": "stderr",
     "output_type": "stream",
     "text": [
      "\r",
      " 10%|███████▊                                                                          | 17/178 [00:22<03:15,  1.22s/it]"
     ]
    },
    {
     "name": "stdout",
     "output_type": "stream",
     "text": [
      "++++++++++++++++index:16++++++++++++++++++++++++\n",
      "预测表名： musical\n",
      "正确表名： musical\n",
      "############################################\n"
     ]
    },
    {
     "name": "stderr",
     "output_type": "stream",
     "text": [
      "\r",
      " 10%|████████▎                                                                         | 18/178 [00:24<03:14,  1.22s/it]"
     ]
    },
    {
     "name": "stdout",
     "output_type": "stream",
     "text": [
      "++++++++++++++++index:17++++++++++++++++++++++++\n",
      "预测表名： actor, musical\n",
      "正确表名： actor, musical\n",
      "############################################\n"
     ]
    },
    {
     "name": "stderr",
     "output_type": "stream",
     "text": [
      "\r",
      " 11%|████████▊                                                                         | 19/178 [00:25<03:13,  1.21s/it]"
     ]
    },
    {
     "name": "stdout",
     "output_type": "stream",
     "text": [
      "++++++++++++++++index:18++++++++++++++++++++++++\n",
      "预测表名： musical, actor\n",
      "正确表名： musical, actor\n",
      "############################################\n"
     ]
    },
    {
     "name": "stderr",
     "output_type": "stream",
     "text": [
      "\r",
      " 11%|█████████▏                                                                        | 20/178 [00:26<03:11,  1.21s/it]"
     ]
    },
    {
     "name": "stdout",
     "output_type": "stream",
     "text": [
      "++++++++++++++++index:19++++++++++++++++++++++++\n",
      "预测表名： actor, musical\n",
      "正确表名： actor, musical\n",
      "############################################\n"
     ]
    },
    {
     "name": "stderr",
     "output_type": "stream",
     "text": [
      "\r",
      " 12%|█████████▋                                                                        | 21/178 [00:27<03:05,  1.18s/it]"
     ]
    },
    {
     "name": "stdout",
     "output_type": "stream",
     "text": [
      "++++++++++++++++index:20++++++++++++++++++++++++\n",
      "预测表名： entrepreneur\n",
      "正确表名： entrepreneur, people\n",
      "############################################\n"
     ]
    },
    {
     "name": "stderr",
     "output_type": "stream",
     "text": [
      "\r",
      " 12%|██████████▏                                                                       | 22/178 [00:28<03:05,  1.19s/it]"
     ]
    },
    {
     "name": "stdout",
     "output_type": "stream",
     "text": [
      "++++++++++++++++index:21++++++++++++++++++++++++\n",
      "预测表名： entrepreneur, people\n",
      "正确表名： entrepreneur, people\n",
      "############################################\n"
     ]
    },
    {
     "name": "stderr",
     "output_type": "stream",
     "text": [
      "\r",
      " 13%|██████████▌                                                                       | 23/178 [00:30<03:00,  1.16s/it]"
     ]
    },
    {
     "name": "stdout",
     "output_type": "stream",
     "text": [
      "++++++++++++++++index:22++++++++++++++++++++++++\n",
      "预测表名： people\n",
      "正确表名： people\n",
      "############################################\n"
     ]
    },
    {
     "name": "stderr",
     "output_type": "stream",
     "text": [
      "\r",
      " 13%|███████████                                                                       | 24/178 [00:31<02:57,  1.15s/it]"
     ]
    },
    {
     "name": "stdout",
     "output_type": "stream",
     "text": [
      "++++++++++++++++index:23++++++++++++++++++++++++\n",
      "预测表名： entrepreneur\n",
      "正确表名： entrepreneur\n",
      "############################################\n"
     ]
    },
    {
     "name": "stderr",
     "output_type": "stream",
     "text": [
      "\r",
      " 14%|███████████▌                                                                      | 25/178 [00:32<03:07,  1.22s/it]"
     ]
    },
    {
     "name": "stdout",
     "output_type": "stream",
     "text": [
      "++++++++++++++++index:24++++++++++++++++++++++++\n",
      "预测表名： tourist_attractions, visitors, visits\n",
      "正确表名： tourist_attractions, visitors, visits\n",
      "############################################\n"
     ]
    },
    {
     "name": "stderr",
     "output_type": "stream",
     "text": [
      "\r",
      " 15%|███████████▉                                                                      | 26/178 [00:33<03:01,  1.19s/it]"
     ]
    },
    {
     "name": "stdout",
     "output_type": "stream",
     "text": [
      "++++++++++++++++index:25++++++++++++++++++++++++\n",
      "预测表名： visits\n",
      "正确表名： visits\n",
      "############################################\n"
     ]
    },
    {
     "name": "stderr",
     "output_type": "stream",
     "text": [
      "\r",
      " 15%|████████████▍                                                                     | 27/178 [00:34<03:05,  1.23s/it]"
     ]
    },
    {
     "name": "stdout",
     "output_type": "stream",
     "text": [
      "++++++++++++++++index:26++++++++++++++++++++++++\n",
      "预测表名： locations, tourist_attractions\n",
      "正确表名： locations, tourist_attractions\n",
      "############################################\n"
     ]
    },
    {
     "name": "stderr",
     "output_type": "stream",
     "text": [
      "\r",
      " 16%|████████████▉                                                                     | 28/178 [00:36<03:03,  1.22s/it]"
     ]
    },
    {
     "name": "stdout",
     "output_type": "stream",
     "text": [
      "++++++++++++++++index:27++++++++++++++++++++++++\n",
      "预测表名： tourist_attractions\n",
      "正确表名： tourist_attractions\n",
      "############################################\n"
     ]
    },
    {
     "name": "stderr",
     "output_type": "stream",
     "text": [
      "\r",
      " 16%|█████████████▎                                                                    | 29/178 [00:37<03:06,  1.25s/it]"
     ]
    },
    {
     "name": "stdout",
     "output_type": "stream",
     "text": [
      "++++++++++++++++index:28++++++++++++++++++++++++\n",
      "预测表名： museums, tourist_attractions\n",
      "正确表名： museums, tourist_attractions\n",
      "############################################\n"
     ]
    },
    {
     "name": "stderr",
     "output_type": "stream",
     "text": [
      "\r",
      " 17%|█████████████▊                                                                    | 30/178 [00:38<03:10,  1.28s/it]"
     ]
    },
    {
     "name": "stdout",
     "output_type": "stream",
     "text": [
      "++++++++++++++++index:29++++++++++++++++++++++++\n",
      "预测表名： locations, tourist_attractions\n",
      "正确表名： locations, tourist_attractions\n",
      "############################################\n"
     ]
    },
    {
     "name": "stderr",
     "output_type": "stream",
     "text": [
      "\r",
      " 17%|██████████████▎                                                                   | 31/178 [00:39<03:01,  1.23s/it]"
     ]
    },
    {
     "name": "stdout",
     "output_type": "stream",
     "text": [
      "++++++++++++++++index:30++++++++++++++++++++++++\n",
      "预测表名： photos\n",
      "正确表名： photos\n",
      "############################################\n"
     ]
    },
    {
     "name": "stderr",
     "output_type": "stream",
     "text": [
      "\r",
      " 18%|██████████████▋                                                                   | 32/178 [00:41<03:02,  1.25s/it]"
     ]
    },
    {
     "name": "stdout",
     "output_type": "stream",
     "text": [
      "++++++++++++++++index:31++++++++++++++++++++++++\n",
      "预测表名： staff, tourist_attractions\n",
      "正确表名： staff, tourist_attractions\n",
      "############################################\n"
     ]
    },
    {
     "name": "stderr",
     "output_type": "stream",
     "text": [
      "\r",
      " 19%|███████████████▏                                                                  | 33/178 [00:42<02:55,  1.21s/it]"
     ]
    },
    {
     "name": "stdout",
     "output_type": "stream",
     "text": [
      "++++++++++++++++index:32++++++++++++++++++++++++\n",
      "预测表名： elimination\n",
      "正确表名： elimination\n",
      "############################################\n"
     ]
    },
    {
     "name": "stderr",
     "output_type": "stream",
     "text": [
      "\r",
      " 19%|███████████████▋                                                                  | 34/178 [00:43<02:50,  1.18s/it]"
     ]
    },
    {
     "name": "stdout",
     "output_type": "stream",
     "text": [
      "++++++++++++++++index:33++++++++++++++++++++++++\n",
      "预测表名： wrestler\n",
      "正确表名： wrestler\n",
      "############################################\n"
     ]
    },
    {
     "name": "stderr",
     "output_type": "stream",
     "text": [
      "\r",
      " 20%|████████████████                                                                  | 35/178 [00:44<02:46,  1.16s/it]"
     ]
    },
    {
     "name": "stdout",
     "output_type": "stream",
     "text": [
      "++++++++++++++++index:34++++++++++++++++++++++++\n",
      "预测表名： wrestler\n",
      "正确表名： wrestler\n",
      "############################################\n"
     ]
    },
    {
     "name": "stderr",
     "output_type": "stream",
     "text": [
      "\r",
      " 20%|████████████████▌                                                                 | 36/178 [00:45<02:43,  1.15s/it]"
     ]
    },
    {
     "name": "stdout",
     "output_type": "stream",
     "text": [
      "++++++++++++++++index:35++++++++++++++++++++++++\n",
      "预测表名： elimination\n",
      "正确表名： elimination\n",
      "############################################\n"
     ]
    },
    {
     "name": "stderr",
     "output_type": "stream",
     "text": [
      "\r",
      " 21%|█████████████████                                                                 | 37/178 [00:46<02:44,  1.17s/it]"
     ]
    },
    {
     "name": "stdout",
     "output_type": "stream",
     "text": [
      "++++++++++++++++index:36++++++++++++++++++++++++\n",
      "预测表名： user, tip\n",
      "正确表名： user, tip\n",
      "############################################\n"
     ]
    },
    {
     "name": "stderr",
     "output_type": "stream",
     "text": [
      "\r",
      " 21%|█████████████████▌                                                                | 38/178 [00:48<02:53,  1.24s/it]"
     ]
    },
    {
     "name": "stdout",
     "output_type": "stream",
     "text": [
      "++++++++++++++++index:37++++++++++++++++++++++++\n",
      "预测表名： category, business, review, user\n",
      "正确表名： category, business, review, user\n",
      "############################################\n"
     ]
    },
    {
     "name": "stderr",
     "output_type": "stream",
     "text": [
      "\r",
      " 22%|█████████████████▉                                                                | 39/178 [00:49<02:55,  1.26s/it]"
     ]
    },
    {
     "name": "stdout",
     "output_type": "stream",
     "text": [
      "++++++++++++++++index:38++++++++++++++++++++++++\n",
      "预测表名： category, business, review\n",
      "正确表名： category, business, review, user\n",
      "############################################\n"
     ]
    },
    {
     "name": "stderr",
     "output_type": "stream",
     "text": [
      "\r",
      " 22%|██████████████████▍                                                               | 40/178 [00:50<02:55,  1.27s/it]"
     ]
    },
    {
     "name": "stdout",
     "output_type": "stream",
     "text": [
      "++++++++++++++++index:39++++++++++++++++++++++++\n",
      "预测表名： category, business, neighbourhood\n",
      "正确表名： category, business, neighbourhood\n",
      "############################################\n"
     ]
    },
    {
     "name": "stderr",
     "output_type": "stream",
     "text": [
      "\r",
      " 23%|██████████████████▉                                                               | 41/178 [00:52<02:51,  1.25s/it]"
     ]
    },
    {
     "name": "stdout",
     "output_type": "stream",
     "text": [
      "++++++++++++++++index:40++++++++++++++++++++++++\n",
      "预测表名： category, business\n",
      "正确表名： category, business\n",
      "############################################\n"
     ]
    },
    {
     "name": "stderr",
     "output_type": "stream",
     "text": [
      "\r",
      " 24%|███████████████████▎                                                              | 42/178 [00:53<02:48,  1.24s/it]"
     ]
    },
    {
     "name": "stdout",
     "output_type": "stream",
     "text": [
      "++++++++++++++++index:41++++++++++++++++++++++++\n",
      "预测表名： user, review\n",
      "正确表名： user, review\n",
      "############################################\n"
     ]
    },
    {
     "name": "stderr",
     "output_type": "stream",
     "text": [
      "\r",
      " 24%|███████████████████▊                                                              | 43/178 [00:54<02:46,  1.24s/it]"
     ]
    },
    {
     "name": "stdout",
     "output_type": "stream",
     "text": [
      "++++++++++++++++index:42++++++++++++++++++++++++\n",
      "预测表名： category, business\n",
      "正确表名： category, business\n",
      "############################################\n"
     ]
    },
    {
     "name": "stderr",
     "output_type": "stream",
     "text": [
      "\r",
      " 25%|████████████████████▎                                                             | 44/178 [00:55<02:48,  1.26s/it]"
     ]
    },
    {
     "name": "stdout",
     "output_type": "stream",
     "text": [
      "++++++++++++++++index:43++++++++++++++++++++++++\n",
      "预测表名： review, business, user\n",
      "正确表名： user, review\n",
      "############################################\n"
     ]
    },
    {
     "name": "stderr",
     "output_type": "stream",
     "text": [
      "\r",
      " 25%|████████████████████▋                                                             | 45/178 [00:57<02:49,  1.28s/it]"
     ]
    },
    {
     "name": "stdout",
     "output_type": "stream",
     "text": [
      "++++++++++++++++index:44++++++++++++++++++++++++\n",
      "预测表名： review, business, user\n",
      "正确表名： review, business, user\n",
      "############################################\n"
     ]
    },
    {
     "name": "stderr",
     "output_type": "stream",
     "text": [
      "\r",
      " 26%|█████████████████████▏                                                            | 46/178 [00:58<02:46,  1.26s/it]"
     ]
    },
    {
     "name": "stdout",
     "output_type": "stream",
     "text": [
      "++++++++++++++++index:45++++++++++++++++++++++++\n",
      "预测表名： user, tip\n",
      "正确表名： tip, business, user\n",
      "############################################\n"
     ]
    },
    {
     "name": "stderr",
     "output_type": "stream",
     "text": [
      "\r",
      " 26%|█████████████████████▋                                                            | 47/178 [00:59<02:43,  1.25s/it]"
     ]
    },
    {
     "name": "stdout",
     "output_type": "stream",
     "text": [
      "++++++++++++++++index:46++++++++++++++++++++++++\n",
      "预测表名： review, business\n",
      "正确表名： review, business\n",
      "############################################\n"
     ]
    },
    {
     "name": "stderr",
     "output_type": "stream",
     "text": [
      "\r",
      " 27%|██████████████████████                                                            | 48/178 [01:00<02:40,  1.24s/it]"
     ]
    },
    {
     "name": "stdout",
     "output_type": "stream",
     "text": [
      "++++++++++++++++index:47++++++++++++++++++++++++\n",
      "预测表名： behavior_incident\n",
      "正确表名： behavior_incident\n",
      "############################################\n"
     ]
    },
    {
     "name": "stderr",
     "output_type": "stream",
     "text": [
      "\r",
      " 28%|██████████████████████▌                                                           | 49/178 [01:02<02:38,  1.23s/it]"
     ]
    },
    {
     "name": "stdout",
     "output_type": "stream",
     "text": [
      "++++++++++++++++index:48++++++++++++++++++++++++\n",
      "预测表名： student_addresses\n",
      "正确表名： student_addresses\n",
      "############################################\n"
     ]
    },
    {
     "name": "stderr",
     "output_type": "stream",
     "text": [
      "\r",
      " 28%|███████████████████████                                                           | 50/178 [01:03<02:35,  1.21s/it]"
     ]
    },
    {
     "name": "stdout",
     "output_type": "stream",
     "text": [
      "++++++++++++++++index:49++++++++++++++++++++++++\n",
      "预测表名： teachers\n",
      "正确表名： teachers\n",
      "############################################\n"
     ]
    },
    {
     "name": "stderr",
     "output_type": "stream",
     "text": [
      "\r",
      " 29%|███████████████████████▍                                                          | 51/178 [01:04<02:39,  1.25s/it]"
     ]
    },
    {
     "name": "stdout",
     "output_type": "stream",
     "text": [
      "++++++++++++++++index:50++++++++++++++++++++++++\n",
      "预测表名： detention, students_in_detention\n",
      "正确表名： students_in_detention\n",
      "############################################\n"
     ]
    },
    {
     "name": "stderr",
     "output_type": "stream",
     "text": [
      "\r",
      " 29%|███████████████████████▉                                                          | 52/178 [01:05<02:33,  1.22s/it]"
     ]
    },
    {
     "name": "stdout",
     "output_type": "stream",
     "text": [
      "++++++++++++++++index:51++++++++++++++++++++++++\n",
      "预测表名： film\n",
      "正确表名： film\n",
      "############################################\n"
     ]
    },
    {
     "name": "stderr",
     "output_type": "stream",
     "text": [
      "\r",
      " 30%|████████████████████████▍                                                         | 53/178 [01:06<02:28,  1.19s/it]"
     ]
    },
    {
     "name": "stdout",
     "output_type": "stream",
     "text": [
      "++++++++++++++++index:52++++++++++++++++++++++++\n",
      "预测表名： film\n",
      "正确表名： film\n",
      "############################################\n"
     ]
    },
    {
     "name": "stderr",
     "output_type": "stream",
     "text": [
      "\r",
      " 30%|████████████████████████▉                                                         | 54/178 [01:08<02:29,  1.21s/it]"
     ]
    },
    {
     "name": "stdout",
     "output_type": "stream",
     "text": [
      "++++++++++++++++index:53++++++++++++++++++++++++\n",
      "预测表名： film_market_estimation\n",
      "正确表名： film_market_estimation\n",
      "############################################\n"
     ]
    },
    {
     "name": "stderr",
     "output_type": "stream",
     "text": [
      "\r",
      " 31%|█████████████████████████▎                                                        | 55/178 [01:09<02:25,  1.18s/it]"
     ]
    },
    {
     "name": "stdout",
     "output_type": "stream",
     "text": [
      "++++++++++++++++index:54++++++++++++++++++++++++\n",
      "预测表名： film\n",
      "正确表名： film\n",
      "############################################\n"
     ]
    },
    {
     "name": "stderr",
     "output_type": "stream",
     "text": [
      "\r",
      " 31%|█████████████████████████▊                                                        | 56/178 [01:10<02:34,  1.27s/it]"
     ]
    },
    {
     "name": "stdout",
     "output_type": "stream",
     "text": [
      "++++++++++++++++index:55++++++++++++++++++++++++\n",
      "预测表名： catalog_contents, catalog_contents_Additional_Attributes\n",
      "正确表名： catalog_contents, catalog_contents_Additional_Attributes\n",
      "############################################\n"
     ]
    },
    {
     "name": "stderr",
     "output_type": "stream",
     "text": [
      "\r",
      " 32%|██████████████████████████▎                                                       | 57/178 [01:11<02:29,  1.24s/it]"
     ]
    },
    {
     "name": "stdout",
     "output_type": "stream",
     "text": [
      "++++++++++++++++index:56++++++++++++++++++++++++\n",
      "预测表名： catalog_structure\n",
      "正确表名： catalog_structure\n",
      "############################################\n"
     ]
    },
    {
     "name": "stderr",
     "output_type": "stream",
     "text": [
      "\r",
      " 33%|██████████████████████████▋                                                       | 58/178 [01:13<02:24,  1.20s/it]"
     ]
    },
    {
     "name": "stdout",
     "output_type": "stream",
     "text": [
      "++++++++++++++++index:57++++++++++++++++++++++++\n",
      "预测表名： catalogs\n",
      "正确表名： catalogs\n",
      "############################################\n"
     ]
    },
    {
     "name": "stderr",
     "output_type": "stream",
     "text": [
      "\r",
      " 33%|███████████████████████████▏                                                      | 59/178 [01:14<02:22,  1.19s/it]"
     ]
    },
    {
     "name": "stdout",
     "output_type": "stream",
     "text": [
      "++++++++++++++++index:58++++++++++++++++++++++++\n",
      "预测表名： catalog_contents\n",
      "正确表名： catalog_contents\n",
      "############################################\n"
     ]
    },
    {
     "name": "stderr",
     "output_type": "stream",
     "text": [
      "\r",
      " 34%|███████████████████████████▋                                                      | 60/178 [01:15<02:18,  1.18s/it]"
     ]
    },
    {
     "name": "stdout",
     "output_type": "stream",
     "text": [
      "++++++++++++++++index:59++++++++++++++++++++++++\n",
      "预测表名： airports\n",
      "正确表名： airports\n",
      "############################################\n"
     ]
    },
    {
     "name": "stderr",
     "output_type": "stream",
     "text": [
      "\r",
      " 34%|████████████████████████████                                                      | 61/178 [01:16<02:15,  1.16s/it]"
     ]
    },
    {
     "name": "stdout",
     "output_type": "stream",
     "text": [
      "++++++++++++++++index:60++++++++++++++++++++++++\n",
      "预测表名： airports\n",
      "正确表名： airports\n",
      "############################################\n"
     ]
    },
    {
     "name": "stderr",
     "output_type": "stream",
     "text": [
      "\r",
      " 35%|████████████████████████████▌                                                     | 62/178 [01:17<02:13,  1.15s/it]"
     ]
    },
    {
     "name": "stdout",
     "output_type": "stream",
     "text": [
      "++++++++++++++++index:61++++++++++++++++++++++++\n",
      "预测表名： airports\n",
      "正确表名： airports\n",
      "############################################\n"
     ]
    },
    {
     "name": "stderr",
     "output_type": "stream",
     "text": [
      "\r",
      " 35%|█████████████████████████████                                                     | 63/178 [01:18<02:11,  1.14s/it]"
     ]
    },
    {
     "name": "stdout",
     "output_type": "stream",
     "text": [
      "++++++++++++++++index:62++++++++++++++++++++++++\n",
      "预测表名： airlines\n",
      "正确表名： airlines\n",
      "############################################\n"
     ]
    },
    {
     "name": "stderr",
     "output_type": "stream",
     "text": [
      "\r",
      " 36%|█████████████████████████████▍                                                    | 64/178 [01:19<02:10,  1.14s/it]"
     ]
    },
    {
     "name": "stdout",
     "output_type": "stream",
     "text": [
      "++++++++++++++++index:63++++++++++++++++++++++++\n",
      "预测表名： airports\n",
      "正确表名： airports\n",
      "############################################\n"
     ]
    },
    {
     "name": "stderr",
     "output_type": "stream",
     "text": [
      "\r",
      " 37%|█████████████████████████████▉                                                    | 65/178 [01:20<02:08,  1.14s/it]"
     ]
    },
    {
     "name": "stdout",
     "output_type": "stream",
     "text": [
      "++++++++++++++++index:64++++++++++++++++++++++++\n",
      "预测表名： airports\n",
      "正确表名： airports\n",
      "############################################\n"
     ]
    },
    {
     "name": "stderr",
     "output_type": "stream",
     "text": [
      "\r",
      " 37%|██████████████████████████████▍                                                   | 66/178 [01:22<02:06,  1.13s/it]"
     ]
    },
    {
     "name": "stdout",
     "output_type": "stream",
     "text": [
      "++++++++++++++++index:65++++++++++++++++++++++++\n",
      "预测表名： airlines\n",
      "正确表名： airlines\n",
      "############################################\n"
     ]
    },
    {
     "name": "stderr",
     "output_type": "stream",
     "text": [
      "\r",
      " 38%|██████████████████████████████▊                                                   | 67/178 [01:23<02:10,  1.18s/it]"
     ]
    },
    {
     "name": "stdout",
     "output_type": "stream",
     "text": [
      "++++++++++++++++index:66++++++++++++++++++++++++\n",
      "预测表名： airlines, routes\n",
      "正确表名： airlines, routes\n",
      "############################################\n"
     ]
    },
    {
     "name": "stderr",
     "output_type": "stream",
     "text": [
      "\r",
      " 38%|███████████████████████████████▎                                                  | 68/178 [01:24<02:07,  1.16s/it]"
     ]
    },
    {
     "name": "stdout",
     "output_type": "stream",
     "text": [
      "++++++++++++++++index:67++++++++++++++++++++++++\n",
      "预测表名： game\n",
      "正确表名： game\n",
      "############################################\n"
     ]
    },
    {
     "name": "stderr",
     "output_type": "stream",
     "text": [
      "\r",
      " 39%|███████████████████████████████▊                                                  | 69/178 [01:25<02:08,  1.18s/it]"
     ]
    },
    {
     "name": "stdout",
     "output_type": "stream",
     "text": [
      "++++++++++++++++index:68++++++++++++++++++++++++\n",
      "预测表名： physician, patient\n",
      "正确表名： physician, patient\n",
      "############################################\n"
     ]
    },
    {
     "name": "stderr",
     "output_type": "stream",
     "text": [
      "\r",
      " 39%|████████████████████████████████▏                                                 | 70/178 [01:26<02:05,  1.16s/it]"
     ]
    },
    {
     "name": "stdout",
     "output_type": "stream",
     "text": [
      "++++++++++++++++index:69++++++++++++++++++++++++\n",
      "预测表名： department\n",
      "正确表名： department\n",
      "############################################\n"
     ]
    },
    {
     "name": "stderr",
     "output_type": "stream",
     "text": [
      "\r",
      " 40%|████████████████████████████████▋                                                 | 71/178 [01:27<02:02,  1.15s/it]"
     ]
    },
    {
     "name": "stdout",
     "output_type": "stream",
     "text": [
      "++++++++++++++++index:70++++++++++++++++++++++++\n",
      "预测表名： procedures\n",
      "正确表名： procedures\n",
      "############################################\n"
     ]
    },
    {
     "name": "stderr",
     "output_type": "stream",
     "text": [
      "\r",
      " 40%|█████████████████████████████████▏                                                | 72/178 [01:29<02:08,  1.21s/it]"
     ]
    },
    {
     "name": "stdout",
     "output_type": "stream",
     "text": [
      "++++++++++++++++index:71++++++++++++++++++++++++\n",
      "预测表名： physician, trained_in, procedures\n",
      "正确表名： procedures, physician, trained_in\n",
      "############################################\n"
     ]
    },
    {
     "name": "stderr",
     "output_type": "stream",
     "text": [
      "\r",
      " 41%|█████████████████████████████████▋                                                | 73/178 [01:30<02:08,  1.22s/it]"
     ]
    },
    {
     "name": "stdout",
     "output_type": "stream",
     "text": [
      "++++++++++++++++index:72++++++++++++++++++++++++\n",
      "预测表名： physician, prescribes\n",
      "正确表名： physician, prescribes\n",
      "############################################\n"
     ]
    },
    {
     "name": "stderr",
     "output_type": "stream",
     "text": [
      "\r",
      " 42%|██████████████████████████████████                                                | 74/178 [01:31<02:03,  1.19s/it]"
     ]
    },
    {
     "name": "stdout",
     "output_type": "stream",
     "text": [
      "++++++++++++++++index:73++++++++++++++++++++++++\n",
      "预测表名： appointment\n",
      "正确表名： appointment\n",
      "############################################\n"
     ]
    },
    {
     "name": "stderr",
     "output_type": "stream",
     "text": [
      "\r",
      " 42%|██████████████████████████████████▌                                               | 75/178 [01:32<02:04,  1.21s/it]"
     ]
    },
    {
     "name": "stdout",
     "output_type": "stream",
     "text": [
      "++++++++++++++++index:74++++++++++++++++++++++++\n",
      "预测表名： nurse, on_call\n",
      "正确表名： nurse, on_call\n",
      "############################################\n"
     ]
    },
    {
     "name": "stderr",
     "output_type": "stream",
     "text": [
      "\r",
      " 43%|███████████████████████████████████                                               | 76/178 [01:34<02:07,  1.25s/it]"
     ]
    },
    {
     "name": "stdout",
     "output_type": "stream",
     "text": [
      "++++++++++++++++index:75++++++++++++++++++++++++\n",
      "预测表名： procedures, physician, trained_in\n",
      "正确表名： procedures, physician, trained_in\n",
      "############################################\n"
     ]
    },
    {
     "name": "stderr",
     "output_type": "stream",
     "text": [
      "\r",
      " 43%|███████████████████████████████████▍                                              | 77/178 [01:35<02:02,  1.21s/it]"
     ]
    },
    {
     "name": "stdout",
     "output_type": "stream",
     "text": [
      "++++++++++++++++index:76++++++++++++++++++++++++\n",
      "预测表名： department\n",
      "正确表名： department\n",
      "############################################\n"
     ]
    },
    {
     "name": "stderr",
     "output_type": "stream",
     "text": [
      "\r",
      " 44%|███████████████████████████████████▉                                              | 78/178 [01:36<02:05,  1.26s/it]"
     ]
    },
    {
     "name": "stdout",
     "output_type": "stream",
     "text": [
      "++++++++++++++++index:77++++++++++++++++++++++++\n",
      "预测表名： physician, trained_in, procedures\n",
      "正确表名： procedures, physician, trained_in\n",
      "############################################\n"
     ]
    },
    {
     "name": "stderr",
     "output_type": "stream",
     "text": [
      "\r",
      " 44%|████████████████████████████████████▍                                             | 79/178 [01:37<02:00,  1.22s/it]"
     ]
    },
    {
     "name": "stdout",
     "output_type": "stream",
     "text": [
      "++++++++++++++++index:78++++++++++++++++++++++++\n",
      "预测表名： buildings\n",
      "正确表名： buildings\n",
      "############################################\n"
     ]
    },
    {
     "name": "stderr",
     "output_type": "stream",
     "text": [
      "\r",
      " 45%|████████████████████████████████████▊                                             | 80/178 [01:39<01:56,  1.19s/it]"
     ]
    },
    {
     "name": "stdout",
     "output_type": "stream",
     "text": [
      "++++++++++++++++index:79++++++++++++++++++++++++\n",
      "预测表名： companies\n",
      "正确表名： companies\n",
      "############################################\n"
     ]
    },
    {
     "name": "stderr",
     "output_type": "stream",
     "text": [
      "\r",
      " 46%|█████████████████████████████████████▎                                            | 81/178 [01:40<01:54,  1.18s/it]"
     ]
    },
    {
     "name": "stdout",
     "output_type": "stream",
     "text": [
      "++++++++++++++++index:80++++++++++++++++++++++++\n",
      "预测表名： companies\n",
      "正确表名： companies\n",
      "############################################\n"
     ]
    },
    {
     "name": "stderr",
     "output_type": "stream",
     "text": [
      "\r",
      " 46%|█████████████████████████████████████▊                                            | 82/178 [01:41<01:51,  1.16s/it]"
     ]
    },
    {
     "name": "stdout",
     "output_type": "stream",
     "text": [
      "++++++++++++++++index:81++++++++++++++++++++++++\n",
      "预测表名： buildings\n",
      "正确表名： buildings\n",
      "############################################\n"
     ]
    },
    {
     "name": "stderr",
     "output_type": "stream",
     "text": [
      "\r",
      " 47%|██████████████████████████████████████▏                                           | 83/178 [01:42<01:49,  1.15s/it]"
     ]
    },
    {
     "name": "stdout",
     "output_type": "stream",
     "text": [
      "++++++++++++++++index:82++++++++++++++++++++++++\n",
      "预测表名： party\n",
      "正确表名： party\n",
      "############################################\n"
     ]
    },
    {
     "name": "stderr",
     "output_type": "stream",
     "text": [
      "\r",
      " 47%|██████████████████████████████████████▋                                           | 84/178 [01:43<01:47,  1.15s/it]"
     ]
    },
    {
     "name": "stdout",
     "output_type": "stream",
     "text": [
      "++++++++++++++++index:83++++++++++++++++++++++++\n",
      "预测表名： party\n",
      "正确表名： party\n",
      "############################################\n"
     ]
    },
    {
     "name": "stderr",
     "output_type": "stream",
     "text": [
      "\r",
      " 48%|███████████████████████████████████████▏                                          | 85/178 [01:44<01:46,  1.14s/it]"
     ]
    },
    {
     "name": "stdout",
     "output_type": "stream",
     "text": [
      "++++++++++++++++index:84++++++++++++++++++++++++\n",
      "预测表名： party\n",
      "正确表名： party\n",
      "############################################\n"
     ]
    },
    {
     "name": "stderr",
     "output_type": "stream",
     "text": [
      "\r",
      " 48%|███████████████████████████████████████▌                                          | 86/178 [01:45<01:48,  1.18s/it]"
     ]
    },
    {
     "name": "stdout",
     "output_type": "stream",
     "text": [
      "++++++++++++++++index:85++++++++++++++++++++++++\n",
      "预测表名： party_events, party\n",
      "正确表名： party_events, party\n",
      "############################################\n"
     ]
    },
    {
     "name": "stderr",
     "output_type": "stream",
     "text": [
      "\r",
      " 49%|████████████████████████████████████████                                          | 87/178 [01:47<01:59,  1.32s/it]"
     ]
    },
    {
     "name": "stdout",
     "output_type": "stream",
     "text": [
      "++++++++++++++++index:86++++++++++++++++++++++++\n",
      "预测表名： accelerator_compatible_browser, web_client_accelerator, browser\n",
      "正确表名： browser, accelerator_compatible_browser, web_client_accelerator\n",
      "############################################\n"
     ]
    },
    {
     "name": "stderr",
     "output_type": "stream",
     "text": [
      "\r",
      " 49%|████████████████████████████████████████▌                                         | 88/178 [01:48<01:59,  1.32s/it]"
     ]
    },
    {
     "name": "stdout",
     "output_type": "stream",
     "text": [
      "++++++++++++++++index:87++++++++++++++++++++++++\n",
      "预测表名： transactions, transactions_lots\n",
      "正确表名： transactions, transactions_lots\n",
      "############################################\n"
     ]
    },
    {
     "name": "stderr",
     "output_type": "stream",
     "text": [
      "\r",
      " 50%|█████████████████████████████████████████                                         | 89/178 [01:50<01:53,  1.28s/it]"
     ]
    },
    {
     "name": "stdout",
     "output_type": "stream",
     "text": [
      "++++++++++++++++index:88++++++++++++++++++++++++\n",
      "预测表名： investors\n",
      "正确表名： investors\n",
      "############################################\n"
     ]
    },
    {
     "name": "stderr",
     "output_type": "stream",
     "text": [
      "\r",
      " 51%|█████████████████████████████████████████▍                                        | 90/178 [01:51<01:54,  1.30s/it]"
     ]
    },
    {
     "name": "stdout",
     "output_type": "stream",
     "text": [
      "++++++++++++++++index:89++++++++++++++++++++++++\n",
      "预测表名： lots, transactions_lots\n",
      "正确表名： lots, transactions_lots\n",
      "############################################\n"
     ]
    },
    {
     "name": "stderr",
     "output_type": "stream",
     "text": [
      "\r",
      " 51%|█████████████████████████████████████████▉                                        | 91/178 [01:52<01:49,  1.25s/it]"
     ]
    },
    {
     "name": "stdout",
     "output_type": "stream",
     "text": [
      "++++++++++++++++index:90++++++++++++++++++++++++\n",
      "预测表名： transactions\n",
      "正确表名： transactions\n",
      "############################################\n"
     ]
    },
    {
     "name": "stderr",
     "output_type": "stream",
     "text": [
      "\r",
      " 52%|██████████████████████████████████████████▍                                       | 92/178 [01:53<01:44,  1.22s/it]"
     ]
    },
    {
     "name": "stdout",
     "output_type": "stream",
     "text": [
      "++++++++++++++++index:91++++++++++++++++++++++++\n",
      "预测表名： university\n",
      "正确表名： university\n",
      "############################################\n"
     ]
    },
    {
     "name": "stderr",
     "output_type": "stream",
     "text": [
      "\r",
      " 52%|██████████████████████████████████████████▊                                       | 93/178 [01:54<01:41,  1.20s/it]"
     ]
    },
    {
     "name": "stdout",
     "output_type": "stream",
     "text": [
      "++++++++++++++++index:92++++++++++++++++++++++++\n",
      "预测表名： university\n",
      "正确表名： university\n",
      "############################################\n"
     ]
    },
    {
     "name": "stderr",
     "output_type": "stream",
     "text": [
      "\r",
      " 53%|███████████████████████████████████████████▎                                      | 94/178 [01:56<01:39,  1.18s/it]"
     ]
    },
    {
     "name": "stdout",
     "output_type": "stream",
     "text": [
      "++++++++++++++++index:93++++++++++++++++++++++++\n",
      "预测表名： university\n",
      "正确表名： university\n",
      "############################################\n"
     ]
    },
    {
     "name": "stderr",
     "output_type": "stream",
     "text": [
      "\r",
      " 53%|███████████████████████████████████████████▊                                      | 95/178 [01:57<01:40,  1.22s/it]"
     ]
    },
    {
     "name": "stdout",
     "output_type": "stream",
     "text": [
      "++++++++++++++++index:94++++++++++++++++++++++++\n",
      "预测表名： university, basketball_match\n",
      "正确表名： university, basketball_match\n",
      "############################################\n"
     ]
    },
    {
     "name": "stderr",
     "output_type": "stream",
     "text": [
      "\r",
      " 54%|████████████████████████████████████████████▏                                     | 96/178 [01:58<01:42,  1.25s/it]"
     ]
    },
    {
     "name": "stdout",
     "output_type": "stream",
     "text": [
      "++++++++++++++++index:95++++++++++++++++++++++++\n",
      "预测表名： restaurant, geographic, location\n",
      "正确表名： restaurant, geographic, location\n",
      "############################################\n"
     ]
    },
    {
     "name": "stderr",
     "output_type": "stream",
     "text": [
      "\r",
      " 54%|████████████████████████████████████████████▋                                     | 97/178 [01:59<01:41,  1.25s/it]"
     ]
    },
    {
     "name": "stdout",
     "output_type": "stream",
     "text": [
      "++++++++++++++++index:96++++++++++++++++++++++++\n",
      "预测表名： restaurant, location\n",
      "正确表名： restaurant, location\n",
      "############################################\n"
     ]
    },
    {
     "name": "stderr",
     "output_type": "stream",
     "text": [
      "\r",
      " 55%|█████████████████████████████████████████████▏                                    | 98/178 [02:01<01:41,  1.27s/it]"
     ]
    },
    {
     "name": "stdout",
     "output_type": "stream",
     "text": [
      "++++++++++++++++index:97++++++++++++++++++++++++\n",
      "预测表名： location, restaurant, geographic\n",
      "正确表名： location, restaurant, geographic\n",
      "############################################\n"
     ]
    },
    {
     "name": "stderr",
     "output_type": "stream",
     "text": [
      "\r",
      " 56%|█████████████████████████████████████████████▌                                    | 99/178 [02:02<01:39,  1.26s/it]"
     ]
    },
    {
     "name": "stdout",
     "output_type": "stream",
     "text": [
      "++++++++++++++++index:98++++++++++++++++++++++++\n",
      "预测表名： restaurant, location\n",
      "正确表名： restaurant, location\n",
      "############################################\n"
     ]
    },
    {
     "name": "stderr",
     "output_type": "stream",
     "text": [
      "\r",
      " 56%|█████████████████████████████████████████████▌                                   | 100/178 [02:03<01:37,  1.25s/it]"
     ]
    },
    {
     "name": "stdout",
     "output_type": "stream",
     "text": [
      "++++++++++++++++index:99++++++++++++++++++++++++\n",
      "预测表名： restaurant, location\n",
      "正确表名： restaurant, location\n",
      "############################################\n"
     ]
    },
    {
     "name": "stderr",
     "output_type": "stream",
     "text": [
      "\r",
      " 57%|█████████████████████████████████████████████▉                                   | 101/178 [02:04<01:37,  1.27s/it]"
     ]
    },
    {
     "name": "stdout",
     "output_type": "stream",
     "text": [
      "++++++++++++++++index:100++++++++++++++++++++++++\n",
      "预测表名： restaurant, location\n",
      "正确表名： restaurant, location\n",
      "############################################\n"
     ]
    },
    {
     "name": "stderr",
     "output_type": "stream",
     "text": [
      "\r",
      " 57%|██████████████████████████████████████████████▍                                  | 102/178 [02:06<01:35,  1.25s/it]"
     ]
    },
    {
     "name": "stdout",
     "output_type": "stream",
     "text": [
      "++++++++++++++++index:101++++++++++++++++++++++++\n",
      "预测表名： restaurant, location\n",
      "正确表名： restaurant, location\n",
      "############################################\n"
     ]
    },
    {
     "name": "stderr",
     "output_type": "stream",
     "text": [
      "\r",
      " 58%|██████████████████████████████████████████████▊                                  | 103/178 [02:07<01:33,  1.24s/it]"
     ]
    },
    {
     "name": "stdout",
     "output_type": "stream",
     "text": [
      "++++++++++++++++index:102++++++++++++++++++++++++\n",
      "预测表名： restaurant, location\n",
      "正确表名： restaurant, location\n",
      "############################################\n"
     ]
    },
    {
     "name": "stderr",
     "output_type": "stream",
     "text": [
      "\r",
      " 58%|███████████████████████████████████████████████▎                                 | 104/178 [02:08<01:31,  1.24s/it]"
     ]
    },
    {
     "name": "stdout",
     "output_type": "stream",
     "text": [
      "++++++++++++++++index:103++++++++++++++++++++++++\n",
      "预测表名： restaurant, location\n",
      "正确表名： restaurant, location\n",
      "############################################\n"
     ]
    },
    {
     "name": "stderr",
     "output_type": "stream",
     "text": [
      "\r",
      " 59%|███████████████████████████████████████████████▊                                 | 105/178 [02:09<01:32,  1.27s/it]"
     ]
    },
    {
     "name": "stdout",
     "output_type": "stream",
     "text": [
      "++++++++++++++++index:104++++++++++++++++++++++++\n",
      "预测表名： restaurant, geographic, location\n",
      "正确表名： restaurant, geographic, location\n",
      "############################################\n"
     ]
    },
    {
     "name": "stderr",
     "output_type": "stream",
     "text": [
      "\r",
      " 60%|████████████████████████████████████████████████▏                                | 106/178 [02:11<01:32,  1.29s/it]"
     ]
    },
    {
     "name": "stdout",
     "output_type": "stream",
     "text": [
      "++++++++++++++++index:105++++++++++++++++++++++++\n",
      "预测表名： restaurant, geographic, location\n",
      "正确表名： restaurant, geographic, location\n",
      "############################################\n"
     ]
    },
    {
     "name": "stderr",
     "output_type": "stream",
     "text": [
      "\r",
      " 60%|████████████████████████████████████████████████▋                                | 107/178 [02:12<01:30,  1.27s/it]"
     ]
    },
    {
     "name": "stdout",
     "output_type": "stream",
     "text": [
      "++++++++++++++++index:106++++++++++++++++++++++++\n",
      "预测表名： restaurant, location\n",
      "正确表名： restaurant, location\n",
      "############################################\n"
     ]
    },
    {
     "name": "stderr",
     "output_type": "stream",
     "text": [
      "\r",
      " 61%|█████████████████████████████████████████████████▏                               | 108/178 [02:13<01:27,  1.25s/it]"
     ]
    },
    {
     "name": "stdout",
     "output_type": "stream",
     "text": [
      "++++++++++++++++index:107++++++++++++++++++++++++\n",
      "预测表名： user_profiles\n",
      "正确表名： user_profiles\n",
      "############################################\n"
     ]
    },
    {
     "name": "stderr",
     "output_type": "stream",
     "text": [
      "\r",
      " 61%|█████████████████████████████████████████████████▌                               | 109/178 [02:14<01:24,  1.23s/it]"
     ]
    },
    {
     "name": "stdout",
     "output_type": "stream",
     "text": [
      "++++++++++++++++index:108++++++++++++++++++++++++\n",
      "预测表名： user_profiles\n",
      "正确表名： user_profiles\n",
      "############################################\n"
     ]
    },
    {
     "name": "stderr",
     "output_type": "stream",
     "text": [
      "\r",
      " 62%|██████████████████████████████████████████████████                               | 110/178 [02:16<01:21,  1.20s/it]"
     ]
    },
    {
     "name": "stdout",
     "output_type": "stream",
     "text": [
      "++++++++++++++++index:109++++++++++++++++++++++++\n",
      "预测表名： weather\n",
      "正确表名： weather\n",
      "############################################\n"
     ]
    },
    {
     "name": "stderr",
     "output_type": "stream",
     "text": [
      "\r",
      " 62%|██████████████████████████████████████████████████▌                              | 111/178 [02:17<01:20,  1.21s/it]"
     ]
    },
    {
     "name": "stdout",
     "output_type": "stream",
     "text": [
      "++++++++++++++++index:110++++++++++++++++++++++++\n",
      "预测表名： weather, trip\n",
      "正确表名： weather, trip\n",
      "############################################\n"
     ]
    },
    {
     "name": "stderr",
     "output_type": "stream",
     "text": [
      "\r",
      " 63%|██████████████████████████████████████████████████▉                              | 112/178 [02:18<01:20,  1.22s/it]"
     ]
    },
    {
     "name": "stdout",
     "output_type": "stream",
     "text": [
      "++++++++++++++++index:111++++++++++++++++++++++++\n",
      "预测表名： weather, trip\n",
      "正确表名： trip, weather\n",
      "############################################\n"
     ]
    },
    {
     "name": "stderr",
     "output_type": "stream",
     "text": [
      "\r",
      " 63%|███████████████████████████████████████████████████▍                             | 113/178 [02:19<01:17,  1.19s/it]"
     ]
    },
    {
     "name": "stdout",
     "output_type": "stream",
     "text": [
      "++++++++++++++++index:112++++++++++++++++++++++++\n",
      "预测表名： trip\n",
      "正确表名： trip\n",
      "############################################\n"
     ]
    },
    {
     "name": "stderr",
     "output_type": "stream",
     "text": [
      "\r",
      " 64%|███████████████████████████████████████████████████▉                             | 114/178 [02:20<01:17,  1.20s/it]"
     ]
    },
    {
     "name": "stdout",
     "output_type": "stream",
     "text": [
      "++++++++++++++++index:113++++++++++++++++++++++++\n",
      "预测表名： station, status\n",
      "正确表名： station, status\n",
      "############################################\n"
     ]
    },
    {
     "name": "stderr",
     "output_type": "stream",
     "text": [
      "\r",
      " 65%|████████████████████████████████████████████████████▎                            | 115/178 [02:22<01:14,  1.19s/it]"
     ]
    },
    {
     "name": "stdout",
     "output_type": "stream",
     "text": [
      "++++++++++++++++index:114++++++++++++++++++++++++\n",
      "预测表名： trip\n",
      "正确表名： trip\n",
      "############################################\n"
     ]
    },
    {
     "name": "stderr",
     "output_type": "stream",
     "text": [
      "\r",
      " 65%|████████████████████████████████████████████████████▊                            | 116/178 [02:23<01:13,  1.18s/it]"
     ]
    },
    {
     "name": "stdout",
     "output_type": "stream",
     "text": [
      "++++++++++++++++index:115++++++++++++++++++++++++\n",
      "预测表名： weather\n",
      "正确表名： weather\n",
      "############################################\n"
     ]
    },
    {
     "name": "stderr",
     "output_type": "stream",
     "text": [
      "\r",
      " 66%|█████████████████████████████████████████████████████▏                           | 117/178 [02:24<01:11,  1.17s/it]"
     ]
    },
    {
     "name": "stdout",
     "output_type": "stream",
     "text": [
      "++++++++++++++++index:116++++++++++++++++++++++++\n",
      "预测表名： station\n",
      "正确表名： station\n",
      "############################################\n"
     ]
    },
    {
     "name": "stderr",
     "output_type": "stream",
     "text": [
      "\r",
      " 66%|█████████████████████████████████████████████████████▋                           | 118/178 [02:25<01:10,  1.17s/it]"
     ]
    },
    {
     "name": "stdout",
     "output_type": "stream",
     "text": [
      "++++++++++++++++index:117++++++++++++++++++++++++\n",
      "预测表名： trip\n",
      "正确表名： trip\n",
      "############################################\n"
     ]
    },
    {
     "name": "stderr",
     "output_type": "stream",
     "text": [
      "\r",
      " 67%|██████████████████████████████████████████████████████▏                          | 119/178 [02:26<01:10,  1.19s/it]"
     ]
    },
    {
     "name": "stdout",
     "output_type": "stream",
     "text": [
      "++++++++++++++++index:118++++++++++++++++++++++++\n",
      "预测表名： station, trip\n",
      "正确表名： trip\n",
      "############################################\n"
     ]
    },
    {
     "name": "stderr",
     "output_type": "stream",
     "text": [
      "\r",
      " 67%|██████████████████████████████████████████████████████▌                          | 120/178 [02:27<01:07,  1.17s/it]"
     ]
    },
    {
     "name": "stdout",
     "output_type": "stream",
     "text": [
      "++++++++++++++++index:119++++++++++++++++++++++++\n",
      "预测表名： campuses\n",
      "正确表名： campuses\n",
      "############################################\n"
     ]
    },
    {
     "name": "stderr",
     "output_type": "stream",
     "text": [
      "\r",
      " 68%|███████████████████████████████████████████████████████                          | 121/178 [02:29<01:05,  1.16s/it]"
     ]
    },
    {
     "name": "stdout",
     "output_type": "stream",
     "text": [
      "++++++++++++++++index:120++++++++++++++++++++++++\n",
      "预测表名： campuses\n",
      "正确表名： campuses\n",
      "############################################\n"
     ]
    },
    {
     "name": "stderr",
     "output_type": "stream",
     "text": [
      "\r",
      " 69%|███████████████████████████████████████████████████████▌                         | 122/178 [02:30<01:04,  1.15s/it]"
     ]
    },
    {
     "name": "stdout",
     "output_type": "stream",
     "text": [
      "++++++++++++++++index:121++++++++++++++++++++++++\n",
      "预测表名： campuses\n",
      "正确表名： campuses\n",
      "############################################\n"
     ]
    },
    {
     "name": "stderr",
     "output_type": "stream",
     "text": [
      "\r",
      " 69%|███████████████████████████████████████████████████████▉                         | 123/178 [02:31<01:02,  1.14s/it]"
     ]
    },
    {
     "name": "stdout",
     "output_type": "stream",
     "text": [
      "++++++++++++++++index:122++++++++++++++++++++++++\n",
      "预测表名： campuses\n",
      "正确表名： campuses\n",
      "############################################\n"
     ]
    },
    {
     "name": "stderr",
     "output_type": "stream",
     "text": [
      "\r",
      " 70%|████████████████████████████████████████████████████████▍                        | 124/178 [02:32<01:02,  1.16s/it]"
     ]
    },
    {
     "name": "stdout",
     "output_type": "stream",
     "text": [
      "++++++++++++++++index:123++++++++++++++++++++++++\n",
      "预测表名： campuses, degrees\n",
      "正确表名： campuses, degrees\n",
      "############################################\n"
     ]
    },
    {
     "name": "stderr",
     "output_type": "stream",
     "text": [
      "\r",
      " 70%|████████████████████████████████████████████████████████▉                        | 125/178 [02:33<01:02,  1.18s/it]"
     ]
    },
    {
     "name": "stdout",
     "output_type": "stream",
     "text": [
      "++++++++++++++++index:124++++++++++++++++++++++++\n",
      "预测表名： faculty, campuses\n",
      "正确表名： faculty, campuses\n",
      "############################################\n"
     ]
    },
    {
     "name": "stderr",
     "output_type": "stream",
     "text": [
      "\r",
      " 71%|█████████████████████████████████████████████████████████▎                       | 126/178 [02:34<01:00,  1.16s/it]"
     ]
    },
    {
     "name": "stdout",
     "output_type": "stream",
     "text": [
      "++++++++++++++++index:125++++++++++++++++++++++++\n",
      "预测表名： campuses\n",
      "正确表名： campuses\n",
      "############################################\n"
     ]
    },
    {
     "name": "stderr",
     "output_type": "stream",
     "text": [
      "\r",
      " 71%|█████████████████████████████████████████████████████████▊                       | 127/178 [02:35<00:58,  1.15s/it]"
     ]
    },
    {
     "name": "stdout",
     "output_type": "stream",
     "text": [
      "++++++++++++++++index:126++++++++++++++++++++++++\n",
      "预测表名： journalist\n",
      "正确表名： journalist\n",
      "############################################\n"
     ]
    },
    {
     "name": "stderr",
     "output_type": "stream",
     "text": [
      "\r",
      " 72%|██████████████████████████████████████████████████████████▏                      | 128/178 [02:37<01:00,  1.21s/it]"
     ]
    },
    {
     "name": "stdout",
     "output_type": "stream",
     "text": [
      "++++++++++++++++index:127++++++++++++++++++++++++\n",
      "预测表名： authors, authorship, papers\n",
      "正确表名： authors, authorship, papers\n",
      "############################################\n"
     ]
    },
    {
     "name": "stderr",
     "output_type": "stream",
     "text": [
      "\r",
      " 72%|██████████████████████████████████████████████████████████▋                      | 129/178 [02:38<01:01,  1.25s/it]"
     ]
    },
    {
     "name": "stdout",
     "output_type": "stream",
     "text": [
      "++++++++++++++++index:128++++++++++++++++++++++++\n",
      "预测表名： papers, authorship, inst\n",
      "正确表名： papers, authorship, inst\n",
      "############################################\n"
     ]
    },
    {
     "name": "stderr",
     "output_type": "stream",
     "text": [
      "\r",
      " 73%|███████████████████████████████████████████████████████████▏                     | 130/178 [02:39<01:01,  1.28s/it]"
     ]
    },
    {
     "name": "stdout",
     "output_type": "stream",
     "text": [
      "++++++++++++++++index:129++++++++++++++++++++++++\n",
      "预测表名： papers, authorship, inst\n",
      "正确表名： inst, authorship, papers\n",
      "############################################\n"
     ]
    },
    {
     "name": "stderr",
     "output_type": "stream",
     "text": [
      "\r",
      " 74%|███████████████████████████████████████████████████████████▌                     | 131/178 [02:41<01:01,  1.30s/it]"
     ]
    },
    {
     "name": "stdout",
     "output_type": "stream",
     "text": [
      "++++++++++++++++index:130++++++++++++++++++++++++\n",
      "预测表名： authors, authorship, papers\n",
      "正确表名： authors, authorship, papers\n",
      "############################################\n"
     ]
    },
    {
     "name": "stderr",
     "output_type": "stream",
     "text": [
      "\r",
      " 74%|████████████████████████████████████████████████████████████                     | 132/178 [02:42<01:00,  1.32s/it]"
     ]
    },
    {
     "name": "stdout",
     "output_type": "stream",
     "text": [
      "++++++++++++++++index:131++++++++++++++++++++++++\n",
      "预测表名： authors, authorship, papers\n",
      "正确表名： inst, authorship, papers\n",
      "############################################\n"
     ]
    },
    {
     "name": "stderr",
     "output_type": "stream",
     "text": [
      "\r",
      " 75%|████████████████████████████████████████████████████████████▌                    | 133/178 [02:44<00:59,  1.33s/it]"
     ]
    },
    {
     "name": "stdout",
     "output_type": "stream",
     "text": [
      "++++++++++++++++index:132++++++++++++++++++++++++\n",
      "预测表名： authors, authorship, papers\n",
      "正确表名： authors, authorship, papers\n",
      "############################################\n"
     ]
    },
    {
     "name": "stderr",
     "output_type": "stream",
     "text": [
      "\r",
      " 75%|████████████████████████████████████████████████████████████▉                    | 134/178 [02:45<00:55,  1.26s/it]"
     ]
    },
    {
     "name": "stdout",
     "output_type": "stream",
     "text": [
      "++++++++++++++++index:133++++++++++++++++++++++++\n",
      "预测表名： furniture\n",
      "正确表名： furniture\n",
      "############################################\n"
     ]
    },
    {
     "name": "stderr",
     "output_type": "stream",
     "text": [
      "\r",
      " 76%|█████████████████████████████████████████████████████████████▍                   | 135/178 [02:46<00:54,  1.27s/it]"
     ]
    },
    {
     "name": "stdout",
     "output_type": "stream",
     "text": [
      "++++++++++++++++index:134++++++++++++++++++++++++\n",
      "预测表名： person, personFriend\n",
      "正确表名： person, personFriend\n",
      "############################################\n"
     ]
    },
    {
     "name": "stderr",
     "output_type": "stream",
     "text": [
      "\r",
      " 76%|█████████████████████████████████████████████████████████████▉                   | 136/178 [02:47<00:53,  1.27s/it]"
     ]
    },
    {
     "name": "stdout",
     "output_type": "stream",
     "text": [
      "++++++++++++++++index:135++++++++++++++++++++++++\n",
      "预测表名： person, personFriend\n",
      "正确表名： person, personfriend\n",
      "############################################\n"
     ]
    },
    {
     "name": "stderr",
     "output_type": "stream",
     "text": [
      "\r",
      " 77%|██████████████████████████████████████████████████████████████▎                  | 137/178 [02:48<00:51,  1.27s/it]"
     ]
    },
    {
     "name": "stdout",
     "output_type": "stream",
     "text": [
      "++++++++++++++++index:136++++++++++++++++++++++++\n",
      "预测表名： person, personFriend\n",
      "正确表名： person, personFriend\n",
      "############################################\n"
     ]
    },
    {
     "name": "stderr",
     "output_type": "stream",
     "text": [
      "\r",
      " 78%|██████████████████████████████████████████████████████████████▊                  | 138/178 [02:50<00:49,  1.23s/it]"
     ]
    },
    {
     "name": "stdout",
     "output_type": "stream",
     "text": [
      "++++++++++++++++index:137++++++++++++++++++++++++\n",
      "预测表名： person\n",
      "正确表名： person\n",
      "############################################\n"
     ]
    },
    {
     "name": "stderr",
     "output_type": "stream",
     "text": [
      "\r",
      " 78%|███████████████████████████████████████████████████████████████▎                 | 139/178 [02:51<00:46,  1.19s/it]"
     ]
    },
    {
     "name": "stdout",
     "output_type": "stream",
     "text": [
      "++++++++++++++++index:138++++++++++++++++++++++++\n",
      "预测表名： person\n",
      "正确表名： person\n",
      "############################################\n"
     ]
    },
    {
     "name": "stderr",
     "output_type": "stream",
     "text": [
      "\r",
      " 79%|███████████████████████████████████████████████████████████████▋                 | 140/178 [02:52<00:44,  1.17s/it]"
     ]
    },
    {
     "name": "stdout",
     "output_type": "stream",
     "text": [
      "++++++++++++++++index:139++++++++++++++++++++++++\n",
      "预测表名： person\n",
      "正确表名： person\n",
      "############################################\n"
     ]
    },
    {
     "name": "stderr",
     "output_type": "stream",
     "text": [
      "\r",
      " 79%|████████████████████████████████████████████████████████████████▏                | 141/178 [02:53<00:44,  1.19s/it]"
     ]
    },
    {
     "name": "stdout",
     "output_type": "stream",
     "text": [
      "++++++++++++++++index:140++++++++++++++++++++++++\n",
      "预测表名： personfriend, person\n",
      "正确表名： personfriend, person\n",
      "############################################\n"
     ]
    },
    {
     "name": "stderr",
     "output_type": "stream",
     "text": [
      "\r",
      " 80%|████████████████████████████████████████████████████████████████▌                | 142/178 [02:54<00:42,  1.17s/it]"
     ]
    },
    {
     "name": "stdout",
     "output_type": "stream",
     "text": [
      "++++++++++++++++index:141++++++++++++++++++++++++\n",
      "预测表名： person\n",
      "正确表名： person\n",
      "############################################\n"
     ]
    },
    {
     "name": "stderr",
     "output_type": "stream",
     "text": [
      "\r",
      " 80%|█████████████████████████████████████████████████████████████████                | 143/178 [02:55<00:40,  1.16s/it]"
     ]
    },
    {
     "name": "stdout",
     "output_type": "stream",
     "text": [
      "++++++++++++++++index:142++++++++++++++++++++++++\n",
      "预测表名： enzyme\n",
      "正确表名： enzyme\n",
      "############################################\n"
     ]
    },
    {
     "name": "stderr",
     "output_type": "stream",
     "text": [
      "\r",
      " 81%|█████████████████████████████████████████████████████████████████▌               | 144/178 [02:56<00:38,  1.15s/it]"
     ]
    },
    {
     "name": "stdout",
     "output_type": "stream",
     "text": [
      "++++++++++++++++index:143++++++++++++++++++++++++\n",
      "预测表名： enzyme\n",
      "正确表名： enzyme\n",
      "############################################\n"
     ]
    },
    {
     "name": "stderr",
     "output_type": "stream",
     "text": [
      "\r",
      " 81%|█████████████████████████████████████████████████████████████████▉               | 145/178 [02:58<00:37,  1.14s/it]"
     ]
    },
    {
     "name": "stdout",
     "output_type": "stream",
     "text": [
      "++++++++++++++++index:144++++++++++++++++++++++++\n",
      "预测表名： enzyme\n",
      "正确表名： enzyme\n",
      "############################################\n"
     ]
    },
    {
     "name": "stderr",
     "output_type": "stream",
     "text": [
      "\r",
      " 82%|██████████████████████████████████████████████████████████████████▍              | 146/178 [02:59<00:38,  1.22s/it]"
     ]
    },
    {
     "name": "stdout",
     "output_type": "stream",
     "text": [
      "++++++++++++++++index:145++++++++++++++++++++++++\n",
      "预测表名： medicine, medicine_enzyme_interaction\n",
      "正确表名： medicine, medicine_enzyme_interaction\n",
      "############################################\n"
     ]
    },
    {
     "name": "stderr",
     "output_type": "stream",
     "text": [
      "\r",
      " 83%|██████████████████████████████████████████████████████████████████▉              | 147/178 [03:00<00:38,  1.24s/it]"
     ]
    },
    {
     "name": "stdout",
     "output_type": "stream",
     "text": [
      "++++++++++++++++index:146++++++++++++++++++++++++\n",
      "预测表名： apartment_bookings, apartments\n",
      "正确表名： apartment_bookings, apartments\n",
      "############################################\n"
     ]
    },
    {
     "name": "stderr",
     "output_type": "stream",
     "text": [
      "\r",
      " 83%|███████████████████████████████████████████████████████████████████▎             | 148/178 [03:02<00:37,  1.26s/it]"
     ]
    },
    {
     "name": "stdout",
     "output_type": "stream",
     "text": [
      "++++++++++++++++index:147++++++++++++++++++++++++\n",
      "预测表名： apartment_bookings, guests\n",
      "正确表名： apartment_bookings, guests\n",
      "############################################\n"
     ]
    },
    {
     "name": "stderr",
     "output_type": "stream",
     "text": [
      "\r",
      " 84%|███████████████████████████████████████████████████████████████████▊             | 149/178 [03:03<00:36,  1.28s/it]"
     ]
    },
    {
     "name": "stdout",
     "output_type": "stream",
     "text": [
      "++++++++++++++++index:148++++++++++++++++++++++++\n",
      "预测表名： apartment_buildings, apartments\n",
      "正确表名： apartment_buildings, apartments\n",
      "############################################\n"
     ]
    },
    {
     "name": "stderr",
     "output_type": "stream",
     "text": [
      "\r",
      " 84%|████████████████████████████████████████████████████████████████████▎            | 150/178 [03:04<00:35,  1.28s/it]"
     ]
    },
    {
     "name": "stdout",
     "output_type": "stream",
     "text": [
      "++++++++++++++++index:149++++++++++++++++++++++++\n",
      "预测表名： apartment_bookings, guests\n",
      "正确表名： apartment_bookings, guests\n",
      "############################################\n"
     ]
    },
    {
     "name": "stderr",
     "output_type": "stream",
     "text": [
      "\r",
      " 85%|████████████████████████████████████████████████████████████████████▋            | 151/178 [03:05<00:34,  1.29s/it]"
     ]
    },
    {
     "name": "stdout",
     "output_type": "stream",
     "text": [
      "++++++++++++++++index:150++++++++++++++++++++++++\n",
      "预测表名： apartment_facilities, apartments\n",
      "正确表名： apartment_facilities, apartments\n",
      "############################################\n"
     ]
    },
    {
     "name": "stderr",
     "output_type": "stream",
     "text": [
      "\r",
      " 85%|█████████████████████████████████████████████████████████████████████▏           | 152/178 [03:07<00:32,  1.24s/it]"
     ]
    },
    {
     "name": "stdout",
     "output_type": "stream",
     "text": [
      "++++++++++++++++index:151++++++++++++++++++++++++\n",
      "预测表名： apartments\n",
      "正确表名： apartments\n",
      "############################################\n"
     ]
    },
    {
     "name": "stderr",
     "output_type": "stream",
     "text": [
      "\r",
      " 86%|█████████████████████████████████████████████████████████████████████▌           | 153/178 [03:08<00:30,  1.20s/it]"
     ]
    },
    {
     "name": "stdout",
     "output_type": "stream",
     "text": [
      "++++++++++++++++index:152++++++++++++++++++++++++\n",
      "预测表名： apartments\n",
      "正确表名： apartments\n",
      "############################################\n"
     ]
    },
    {
     "name": "stderr",
     "output_type": "stream",
     "text": [
      "\r",
      " 87%|██████████████████████████████████████████████████████████████████████           | 154/178 [03:09<00:28,  1.21s/it]"
     ]
    },
    {
     "name": "stdout",
     "output_type": "stream",
     "text": [
      "++++++++++++++++index:153++++++++++++++++++++++++\n",
      "预测表名： apartment_buildings\n",
      "正确表名： apartment_buildings\n",
      "############################################\n"
     ]
    },
    {
     "name": "stderr",
     "output_type": "stream",
     "text": [
      "\r",
      " 87%|██████████████████████████████████████████████████████████████████████▌          | 155/178 [03:10<00:27,  1.18s/it]"
     ]
    },
    {
     "name": "stdout",
     "output_type": "stream",
     "text": [
      "++++++++++++++++index:154++++++++++++++++++++++++\n",
      "预测表名： program\n",
      "正确表名： program\n",
      "############################################\n"
     ]
    },
    {
     "name": "stderr",
     "output_type": "stream",
     "text": [
      "\r",
      " 88%|██████████████████████████████████████████████████████████████████████▉          | 156/178 [03:11<00:26,  1.21s/it]"
     ]
    },
    {
     "name": "stdout",
     "output_type": "stream",
     "text": [
      "++++++++++++++++index:155++++++++++++++++++++++++\n",
      "预测表名： program, broadcast\n",
      "正确表名： program, broadcast\n",
      "############################################\n"
     ]
    },
    {
     "name": "stderr",
     "output_type": "stream",
     "text": [
      "\r",
      " 88%|███████████████████████████████████████████████████████████████████████▍         | 157/178 [03:12<00:24,  1.19s/it]"
     ]
    },
    {
     "name": "stdout",
     "output_type": "stream",
     "text": [
      "++++++++++++++++index:156++++++++++++++++++++++++\n",
      "预测表名： channel\n",
      "正确表名： channel\n",
      "############################################\n"
     ]
    },
    {
     "name": "stderr",
     "output_type": "stream",
     "text": [
      "\r",
      " 89%|███████████████████████████████████████████████████████████████████████▉         | 158/178 [03:14<00:23,  1.17s/it]"
     ]
    },
    {
     "name": "stdout",
     "output_type": "stream",
     "text": [
      "++++++++++++++++index:157++++++++++++++++++++++++\n",
      "预测表名： channel\n",
      "正确表名： channel\n",
      "############################################\n"
     ]
    },
    {
     "name": "stderr",
     "output_type": "stream",
     "text": [
      "\r",
      " 89%|████████████████████████████████████████████████████████████████████████▎        | 159/178 [03:15<00:22,  1.19s/it]"
     ]
    },
    {
     "name": "stdout",
     "output_type": "stream",
     "text": [
      "++++++++++++++++index:158++++++++++++++++++++++++\n",
      "预测表名： customer_master_index\n",
      "正确表名： customer_master_index\n",
      "############################################\n"
     ]
    },
    {
     "name": "stderr",
     "output_type": "stream",
     "text": [
      "\r",
      " 90%|████████████████████████████████████████████████████████████████████████▊        | 160/178 [03:16<00:21,  1.17s/it]"
     ]
    },
    {
     "name": "stdout",
     "output_type": "stream",
     "text": [
      "++++++++++++++++index:159++++++++++++++++++++++++\n",
      "预测表名： district\n",
      "正确表名： district\n",
      "############################################\n"
     ]
    },
    {
     "name": "stderr",
     "output_type": "stream",
     "text": [
      "\r",
      " 90%|█████████████████████████████████████████████████████████████████████████▎       | 161/178 [03:17<00:19,  1.16s/it]"
     ]
    },
    {
     "name": "stdout",
     "output_type": "stream",
     "text": [
      "++++++++++++++++index:160++++++++++++++++++++++++\n",
      "预测表名： district\n",
      "正确表名： district\n",
      "############################################\n"
     ]
    },
    {
     "name": "stderr",
     "output_type": "stream",
     "text": [
      "\r",
      " 91%|█████████████████████████████████████████████████████████████████████████▋       | 162/178 [03:18<00:18,  1.15s/it]"
     ]
    },
    {
     "name": "stdout",
     "output_type": "stream",
     "text": [
      "++++++++++++++++index:161++++++++++++++++++++++++\n",
      "预测表名： district\n",
      "正确表名： district\n",
      "############################################\n"
     ]
    },
    {
     "name": "stderr",
     "output_type": "stream",
     "text": [
      "\r",
      " 92%|██████████████████████████████████████████████████████████████████████████▏      | 163/178 [03:19<00:17,  1.14s/it]"
     ]
    },
    {
     "name": "stdout",
     "output_type": "stream",
     "text": [
      "++++++++++++++++index:162++++++++++++++++++++++++\n",
      "预测表名： district\n",
      "正确表名： district\n",
      "############################################\n"
     ]
    },
    {
     "name": "stderr",
     "output_type": "stream",
     "text": [
      "\r",
      " 92%|██████████████████████████████████████████████████████████████████████████▋      | 164/178 [03:21<00:16,  1.15s/it]"
     ]
    },
    {
     "name": "stdout",
     "output_type": "stream",
     "text": [
      "++++++++++++++++index:163++++++++++++++++++++++++\n",
      "预测表名： gas_station\n",
      "正确表名： gas_station\n",
      "############################################\n"
     ]
    },
    {
     "name": "stderr",
     "output_type": "stream",
     "text": [
      "\r",
      " 93%|███████████████████████████████████████████████████████████████████████████      | 165/178 [03:22<00:14,  1.15s/it]"
     ]
    },
    {
     "name": "stdout",
     "output_type": "stream",
     "text": [
      "++++++++++++++++index:164++++++++++++++++++++++++\n",
      "预测表名： company\n",
      "正确表名： company\n",
      "############################################\n"
     ]
    },
    {
     "name": "stderr",
     "output_type": "stream",
     "text": [
      "\r",
      " 93%|███████████████████████████████████████████████████████████████████████████▌     | 166/178 [03:23<00:13,  1.15s/it]"
     ]
    },
    {
     "name": "stdout",
     "output_type": "stream",
     "text": [
      "++++++++++++++++index:165++++++++++++++++++++++++\n",
      "预测表名： company\n",
      "正确表名： company\n",
      "############################################\n"
     ]
    },
    {
     "name": "stderr",
     "output_type": "stream",
     "text": [
      "\r",
      " 94%|███████████████████████████████████████████████████████████████████████████▉     | 167/178 [03:24<00:13,  1.23s/it]"
     ]
    },
    {
     "name": "stdout",
     "output_type": "stream",
     "text": [
      "++++++++++++++++index:166++++++++++++++++++++++++\n",
      "预测表名： station_company, company, gas_station\n",
      "正确表名： station_company, company, gas_station\n",
      "############################################\n"
     ]
    },
    {
     "name": "stderr",
     "output_type": "stream",
     "text": [
      "\r",
      " 94%|████████████████████████████████████████████████████████████████████████████▍    | 168/178 [03:25<00:12,  1.21s/it]"
     ]
    },
    {
     "name": "stdout",
     "output_type": "stream",
     "text": [
      "++++++++++++++++index:167++++++++++++++++++++++++\n",
      "预测表名： festival_detail\n",
      "正确表名： festival_detail\n",
      "############################################\n"
     ]
    },
    {
     "name": "stderr",
     "output_type": "stream",
     "text": [
      "\r",
      " 95%|████████████████████████████████████████████████████████████████████████████▉    | 169/178 [03:27<00:10,  1.20s/it]"
     ]
    },
    {
     "name": "stdout",
     "output_type": "stream",
     "text": [
      "++++++++++++++++index:168++++++++++++++++++++++++\n",
      "预测表名： festival_detail\n",
      "正确表名： festival_detail\n",
      "############################################\n"
     ]
    },
    {
     "name": "stderr",
     "output_type": "stream",
     "text": [
      "\r",
      " 96%|█████████████████████████████████████████████████████████████████████████████▎   | 170/178 [03:28<00:09,  1.21s/it]"
     ]
    },
    {
     "name": "stdout",
     "output_type": "stream",
     "text": [
      "++++++++++++++++index:169++++++++++++++++++++++++\n",
      "预测表名： building, institution\n",
      "正确表名： building, institution\n",
      "############################################\n"
     ]
    },
    {
     "name": "stderr",
     "output_type": "stream",
     "text": [
      "\r",
      " 96%|█████████████████████████████████████████████████████████████████████████████▊   | 171/178 [03:29<00:08,  1.22s/it]"
     ]
    },
    {
     "name": "stdout",
     "output_type": "stream",
     "text": [
      "++++++++++++++++index:170++++++++++++++++++++++++\n",
      "预测表名： building, institution\n",
      "正确表名： building, institution\n",
      "############################################\n"
     ]
    },
    {
     "name": "stderr",
     "output_type": "stream",
     "text": [
      "\r",
      " 97%|██████████████████████████████████████████████████████████████████████████████▎  | 172/178 [03:30<00:07,  1.24s/it]"
     ]
    },
    {
     "name": "stdout",
     "output_type": "stream",
     "text": [
      "++++++++++++++++index:171++++++++++++++++++++++++\n",
      "预测表名： roller_coaster\n",
      "正确表名： roller_coaster\n",
      "############################################\n"
     ]
    },
    {
     "name": "stderr",
     "output_type": "stream",
     "text": [
      "\r",
      " 97%|██████████████████████████████████████████████████████████████████████████████▋  | 173/178 [03:31<00:06,  1.21s/it]"
     ]
    },
    {
     "name": "stdout",
     "output_type": "stream",
     "text": [
      "++++++++++++++++index:172++++++++++++++++++++++++\n",
      "预测表名： participants\n",
      "正确表名： participants\n",
      "############################################\n"
     ]
    },
    {
     "name": "stderr",
     "output_type": "stream",
     "text": [
      "\r",
      " 98%|███████████████████████████████████████████████████████████████████████████████▏ | 174/178 [03:33<00:04,  1.20s/it]"
     ]
    },
    {
     "name": "stdout",
     "output_type": "stream",
     "text": [
      "++++++++++++++++index:173++++++++++++++++++++++++\n",
      "预测表名： mill\n",
      "正确表名： mill\n",
      "############################################\n"
     ]
    },
    {
     "name": "stderr",
     "output_type": "stream",
     "text": [
      "\r",
      " 98%|███████████████████████████████████████████████████████████████████████████████▋ | 175/178 [03:34<00:03,  1.18s/it]"
     ]
    },
    {
     "name": "stdout",
     "output_type": "stream",
     "text": [
      "++++++++++++++++index:174++++++++++++++++++++++++\n",
      "预测表名： railway\n",
      "正确表名： railway\n",
      "############################################\n"
     ]
    },
    {
     "name": "stderr",
     "output_type": "stream",
     "text": [
      "\r",
      " 99%|████████████████████████████████████████████████████████████████████████████████ | 176/178 [03:35<00:02,  1.16s/it]"
     ]
    },
    {
     "name": "stdout",
     "output_type": "stream",
     "text": [
      "++++++++++++++++index:175++++++++++++++++++++++++\n",
      "预测表名： railway\n",
      "正确表名： railway\n",
      "############################################\n"
     ]
    },
    {
     "name": "stderr",
     "output_type": "stream",
     "text": [
      "\r",
      " 99%|████████████████████████████████████████████████████████████████████████████████▌| 177/178 [03:36<00:01,  1.15s/it]"
     ]
    },
    {
     "name": "stdout",
     "output_type": "stream",
     "text": [
      "++++++++++++++++index:176++++++++++++++++++++++++\n",
      "预测表名： book\n",
      "正确表名： book\n",
      "############################################\n"
     ]
    },
    {
     "name": "stderr",
     "output_type": "stream",
     "text": [
      "100%|█████████████████████████████████████████████████████████████████████████████████| 178/178 [03:37<00:00,  1.22s/it]"
     ]
    },
    {
     "name": "stdout",
     "output_type": "stream",
     "text": [
      "++++++++++++++++index:177++++++++++++++++++++++++\n",
      "预测表名： book, publication\n",
      "正确表名： book, publication\n",
      "############################################\n",
      "17\n"
     ]
    },
    {
     "name": "stderr",
     "output_type": "stream",
     "text": [
      "\n"
     ]
    }
   ],
   "source": [
    "import re\n",
    "df = pd.read_csv(\"./mydataset_new/validation_dataset_formatted_cropped.csv\",encoding=\"utf-8\")\n",
    "outer_index = 0\n",
    "import re\n",
    "import time\n",
    "start_time = time.time() \n",
    "pattern = re.compile(r'-- Tables: ([\\w, ]+);')\n",
    "results = []\n",
    "instruction = get_instruction(schema_str)\n",
    "#  schema_slicing\n",
    "for index, row in tqdm(df.iterrows(), total=len(df)):\n",
    "    question = row['question']\n",
    "    ref_tables = row['correct_tables']\n",
    "    messages = [\n",
    "    {\"role\": \"system\", \"content\": f\"{instruction}\"},\n",
    "    {\"role\": \"user\", \"content\": f\"{question}\"}]\n",
    "    response = predict(messages, model, tokenizer)\n",
    "    match = re.search(pattern, response)\n",
    "    if match:\n",
    "    # 提取匹配的表名字符串\n",
    "        table_names_str = match.group(1)\n",
    "\n",
    "        # 使用中文逗号分隔表名，这里我们替换中文逗号为英文逗号并去除空格\n",
    "    #         table_names = [name.strip() for name in table_names_str.replace('，', ',').split(',')]\n",
    "        table_names = table_names_str.split(', ')\n",
    "        # 将table_names整合成一个由英文逗号分隔的字符串\n",
    "        predict_table = ', '.join(table_names)\n",
    "        print(f\"++++++++++++++++index:{index}++++++++++++++++++++++++\")\n",
    "        print(\"预测表名：\", predict_table)\n",
    "        print(\"正确表名：\", ref_tables)\n",
    "        print(\"############################################\")\n",
    "    else:\n",
    "        predict_table = \"None\"\n",
    "    results.append([ref_tables,predict_table])\n",
    "end_time = time.time() \n",
    "print(len(predict_table))  "
   ]
  },
  {
   "cell_type": "code",
   "execution_count": 9,
   "id": "5ae1fb2c",
   "metadata": {},
   "outputs": [],
   "source": [
    "new_df = pd.DataFrame(results, columns = ['reference_tables','predicted_tables'])"
   ]
  },
  {
   "cell_type": "code",
   "execution_count": 10,
   "id": "7def6952",
   "metadata": {},
   "outputs": [
    {
     "name": "stdout",
     "output_type": "stream",
     "text": [
      "Total Accuracy: 0.9606741573033708\n",
      "Filtered Accuracy: 0.9775280898876404\n",
      "Average Precision: 0.99063670411985\n",
      "Average Recall: 0.9920411985018726\n"
     ]
    }
   ],
   "source": [
    "total_samples = len(new_df)\n",
    "total_accuracy = 0\n",
    "filtered_accuracy = 0\n",
    "total_precision = 0\n",
    "total_recall = 0\n",
    "count = 0\n",
    "for index, row in new_df.iterrows():\n",
    "#     count+=1\n",
    "#     print(\"index:\",count)\n",
    "    if not row['predicted_tables'] or pd.isna(row['predicted_tables']):\n",
    "        continue\n",
    "    predicted_tables = row['predicted_tables'].split(\",\")\n",
    "    reference_tables = row['reference_tables'].split(\",\")\n",
    "    \n",
    "    # Convert to lowercase and strip whitespace for comparison\n",
    "    predicted_tables = [x.lower().replace(\"--\",\"\").replace(\"**\",\"\").strip() for x in predicted_tables]\n",
    "    reference_tables = [x.lower().strip() for x in reference_tables]\n",
    "    \n",
    "    # Calculate accuracy\n",
    "    if set(predicted_tables) == set(reference_tables):\n",
    "        total_accuracy += 1\n",
    "\n",
    "    # Calculate precision and recall\n",
    "    true_positives = len(set(predicted_tables) & set(reference_tables))\n",
    "    false_positives = len(set(predicted_tables) - set(reference_tables))\n",
    "    false_negatives = len(set(reference_tables) - set(predicted_tables))\n",
    "\n",
    "    if true_positives == len(reference_tables):\n",
    "        filtered_accuracy += 1\n",
    "    \n",
    "    if len(predicted_tables) > 0:\n",
    "        precision = true_positives / (true_positives + false_positives)\n",
    "        recall = true_positives / (true_positives + false_negatives)\n",
    "    \n",
    "    total_precision += precision\n",
    "    total_recall += recall\n",
    "\n",
    "# Calculate average precision and recall\n",
    "avg_precision = total_precision / total_samples\n",
    "avg_recall = total_recall / total_samples\n",
    "\n",
    "# Calculate total accuracy\n",
    "accuracy = total_accuracy / total_samples\n",
    "filtered_accuracy = filtered_accuracy / total_samples\n",
    "\n",
    "print(\"Total Accuracy:\", accuracy)\n",
    "print(\"Filtered Accuracy:\", filtered_accuracy)\n",
    "print(\"Average Precision:\", avg_precision)\n",
    "print(\"Average Recall:\", avg_recall)"
   ]
  },
  {
   "cell_type": "code",
   "execution_count": null,
   "id": "faac209d",
   "metadata": {},
   "outputs": [],
   "source": []
  },
  {
   "cell_type": "code",
   "execution_count": 11,
   "id": "c5b1fdf1",
   "metadata": {},
   "outputs": [
    {
     "name": "stdout",
     "output_type": "stream",
     "text": [
      "1.2234598384814317\n"
     ]
    }
   ],
   "source": [
    "total_data = len(df['question'])\n",
    "total_time = end_time - start_time\n",
    "# print(total_data)\n",
    "signal_infernece_time = total_time/total_data\n",
    "print(signal_infernece_time)"
   ]
  },
  {
   "cell_type": "code",
   "execution_count": 13,
   "id": "45764df1",
   "metadata": {},
   "outputs": [],
   "source": [
    "new_df.to_csv(\"pre_DTS_SQL_table.csv\", encoding=\"utf-8\")"
   ]
  },
  {
   "cell_type": "code",
   "execution_count": null,
   "id": "cd06989a",
   "metadata": {},
   "outputs": [],
   "source": []
  },
  {
   "cell_type": "code",
   "execution_count": null,
   "id": "35fc6039",
   "metadata": {},
   "outputs": [],
   "source": []
  },
  {
   "cell_type": "code",
   "execution_count": null,
   "id": "13b4a8bc",
   "metadata": {},
   "outputs": [],
   "source": []
  },
  {
   "cell_type": "code",
   "execution_count": null,
   "id": "e3719867",
   "metadata": {},
   "outputs": [],
   "source": []
  }
 ],
 "metadata": {
  "kernelspec": {
   "display_name": "GLM4",
   "language": "python",
   "name": "glm4"
  },
  "language_info": {
   "codemirror_mode": {
    "name": "ipython",
    "version": 3
   },
   "file_extension": ".py",
   "mimetype": "text/x-python",
   "name": "python",
   "nbconvert_exporter": "python",
   "pygments_lexer": "ipython3",
   "version": "3.10.14"
  }
 },
 "nbformat": 4,
 "nbformat_minor": 5
}
