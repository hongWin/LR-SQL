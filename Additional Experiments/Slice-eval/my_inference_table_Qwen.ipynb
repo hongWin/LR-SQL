{
 "cells": [
  {
   "cell_type": "code",
   "execution_count": 1,
   "id": "f5713b27",
   "metadata": {},
   "outputs": [
    {
     "name": "stderr",
     "output_type": "stream",
     "text": [
      "/home/vipuser/anaconda3/envs/lr-sql/lib/python3.10/site-packages/tqdm/auto.py:21: TqdmWarning: IProgress not found. Please update jupyter and ipywidgets. See https://ipywidgets.readthedocs.io/en/stable/user_install.html\n",
      "  from .autonotebook import tqdm as notebook_tqdm\n"
     ]
    }
   ],
   "source": [
    "import torch\n",
    "from peft import AutoPeftModelForCausalLM\n",
    "from transformers import AutoModelForCausalLM, AutoTokenizer\n",
    "import pandas as pd"
   ]
  },
  {
   "cell_type": "code",
   "execution_count": 3,
   "id": "890cc0df",
   "metadata": {},
   "outputs": [],
   "source": [
    "model_path = '/home/model/para_Qwen' \n",
    "lora_path = './Qwen2_SFT_Table/final_checkpoint'\n",
    "# val_dataset_path = \"/home/code/chat_SQL/Dataset/GLM4/ENG_ori/My_idea_dataset/T2Q_GLM4_SFT_val_table.jsonl\""
   ]
  },
  {
   "cell_type": "code",
   "execution_count": 4,
   "id": "dc0d02ac",
   "metadata": {},
   "outputs": [
    {
     "name": "stderr",
     "output_type": "stream",
     "text": [
      "Loading checkpoint shards: 100%|██████████████████████████████████████████████████████████| 4/4 [00:39<00:00,  9.96s/it]\n"
     ]
    }
   ],
   "source": [
    "# model = AutoPeftModelForCausalLM.from_pretrained(\n",
    "#         lora_path, attn_implementation=\"flash_attention_2\",torch_dtype=torch.bfloat16,trust_remote_code= True, device_map='auto')\n",
    "model = AutoPeftModelForCausalLM.from_pretrained(\n",
    "        lora_path,torch_dtype=torch.bfloat16,trust_remote_code= True, device_map='auto')"
   ]
  },
  {
   "cell_type": "code",
   "execution_count": 6,
   "id": "8579551c",
   "metadata": {},
   "outputs": [
    {
     "name": "stderr",
     "output_type": "stream",
     "text": [
      "Special tokens have been added in the vocabulary, make sure the associated word embeddings are fine-tuned or trained.\n"
     ]
    }
   ],
   "source": [
    "tokenizer = AutoTokenizer.from_pretrained(model_path, trust_remote_code=True)"
   ]
  },
  {
   "cell_type": "code",
   "execution_count": 8,
   "id": "3500436d",
   "metadata": {},
   "outputs": [
    {
     "name": "stderr",
     "output_type": "stream",
     "text": [
      "100%|███████████████████████████████████████████████████████████████████████████████| 142/142 [00:00<00:00, 1155.49it/s]\n"
     ]
    },
    {
     "name": "stdout",
     "output_type": "stream",
     "text": [
      "6\n"
     ]
    },
    {
     "name": "stderr",
     "output_type": "stream",
     "text": [
      "100%|█████████████████████████████████████████████████████████████████████████████████| 30/30 [00:00<00:00, 1037.12it/s]"
     ]
    },
    {
     "name": "stdout",
     "output_type": "stream",
     "text": [
      "8\n",
      "['manufacturers', 'products', 'student', 'plays_games', 'sportsinfo', 'actor', 'entrepreneur', 'people', 'ref_hotel_star_ratings', 'ref_attraction_types', 'hotels', 'tourist_attractions', 'street_markets', 'shops', 'museums', 'royal_family', 'theme_parks', 'visits', 'photos', 'staff']\n",
      "['tourist_attraction_features', 'wrestler', 'elimination', 'business', 'category', 'checkin', 'neighbourhood', 'review', 'tip', 'ref_detention_type', 'ref_incident_type', 'addresses', 'students', 'teachers', 'assessment_notes', 'behavior_incident', 'detention']\n",
      "['student_addresses', 'students_in_detention', 'film', 'film_market_estimation', 'catalogs', 'catalog_structure', 'catalog_contents', 'catalog_contents_additional_attributes', 'routes', 'airports', 'stadium', 'game', 'injury_accident', 'physician', 'department', 'affiliated_with', 'trained_in', 'patient', 'nurse']\n",
      "['appointment', 'prescribes', 'block', 'room', 'on_call', 'stay', 'undergoes', 'buildings', 'office_locations', 'region', 'party', 'member', 'party_events', 'web_client_accelerator', 'accelerator_compatible_browser', 'investors', 'lots', 'transactions', 'sales', 'purchases', 'transactions_lots']\n",
      "['basketball_match', 'university', 'geographic', 'restaurant', 'location', 'follows', 'tweets', 'user_profiles', 'station', 'status', 'campuses', 'csu_fees', 'degrees', 'discipline_enrollments', 'enrollments', 'faculty', 'journalist', 'news_report', 'authors', 'authorship', 'manufacturer', 'furniture_manufacte', 'person', 'personfriend']\n",
      "['enzyme', 'medicine_enzyme_interaction', 'apartment_buildings', 'apartments', 'apartment_facilities', 'apartment_bookings', 'view_unit_status', 'channel', 'broadcast', 'broadcast_share', 'customer_master_index', 'cmi_cross_references', 'council_tax', 'business_rates', 'benefits_overpayments', 'parking_fines', 'rent_arrears', 'electoral_register', 'store', 'store_product', 'store_district', 'gas_station', 'station_company']\n",
      "['artwork', 'nomination', 'building', 'institution', 'protein', 'roller_coaster', 'country', 'services', 'events', 'participants_in_events', 'architect', 'bridge', 'mill', 'railway', 'train', 'railway_manage', 'publication', 'book', 'video_games', 'musical', 'locations', 'visitors', 'features', 'user', 'ref_address_types', 'market']\n",
      "['attribute_definitions', 'airlines', 'procedures', 'medication', 'companies', 'browser', 'ref_transaction_types', 'trip', 'weather', 'event', 'inst', 'papers', 'furniture', 'medicine', 'guests', 'program', 'product', 'district', 'company', 'festival_detail', 'participants', 'manager']\n",
      "172\n"
     ]
    },
    {
     "name": "stderr",
     "output_type": "stream",
     "text": [
      "\n"
     ]
    }
   ],
   "source": [
    "# 拆解训练集\n",
    "# 提供每次训练token数\n",
    "from tqdm import tqdm\n",
    "import copy \n",
    "import re\n",
    "max_token = 1100\n",
    "#  保证特殊字符能被识别\n",
    "accept_toekn = max_token - 170\n",
    "#获取REF表数据\n",
    "tab_str = \"\"\n",
    "schema_slicing = []\n",
    "df = pd.read_csv(\"./dataset2/table_schema_Reference_cropped.csv\",encoding=\"utf-8\")\n",
    "for index, row in tqdm(df.iterrows(), total=len(df)):\n",
    "    table_group = row['Reference_group']\n",
    "    tab_str_elder = copy.deepcopy(tab_str)\n",
    "    tab_str += table_group + \"\\n\"\n",
    "    check_token = tokenizer(f\"{tab_str}\", add_special_tokens=False)\n",
    "    if len(check_token[\"input_ids\"]) > accept_toekn:\n",
    "        schema_slicing.append(tab_str_elder)\n",
    "        tab_str = table_group + \"\\n\"\n",
    "\n",
    "    \n",
    "print(len(schema_slicing))\n",
    "\n",
    "# print(ReF_group[5])\n",
    "# print(\"#############################\")\n",
    "# print(ReF_group[6])\n",
    "\n",
    "\n",
    "#获取noREF表数据\n",
    "df = pd.read_csv(\"./dataset2/table_schema_noReference_cropped.csv\",encoding=\"utf-8\")\n",
    "for index, row in tqdm(df.iterrows(), total=len(df)):\n",
    "    table_group = row['noReference_group']\n",
    "    tab_str_elder = copy.deepcopy(tab_str)\n",
    "    tab_str += table_group + \"\\n\"\n",
    "    check_token = tokenizer(f\"{tab_str}\", add_special_tokens=False)\n",
    "    if len(check_token[\"input_ids\"]) > accept_toekn:\n",
    "#         print(\"+++++++++++\")\n",
    "        schema_slicing.append(tab_str_elder)\n",
    "        tab_str = table_group + \"\\n\"\n",
    "        \n",
    "        \n",
    "if len(tab_str) > 0:\n",
    "    schema_slicing.append(tab_str)\n",
    "\n",
    "print(len(schema_slicing))\n",
    "# print(schema_slicing[6])\n",
    "# print(\"#############################\")\n",
    "# print(schema_slicing[7])\n",
    "# print(schema_slicing[8])\n",
    "\n",
    "create_table_pattern = re.compile(r'CREATE TABLE `[^`]+` \\([^;]+\\);')\n",
    "table_name_group = []\n",
    "test_total = set()\n",
    "count = 0\n",
    "for piece in schema_slicing:\n",
    "    create_table_statements = create_table_pattern.findall(piece)\n",
    "    temp_list = []\n",
    "    for table in create_table_statements:\n",
    "        table_name = re.search(r\"CREATE TABLE `([^`]+)`\", table).group(1)\n",
    "        temp_list.append(table_name.lower())\n",
    "        test_total.add(table_name.lower())\n",
    "        count+=1\n",
    "    print(temp_list)\n",
    "    table_name_group.append(temp_list)\n",
    "# print(count)\n",
    "print(len(test_total))\n",
    "#     table_name_group.append()"
   ]
  },
  {
   "cell_type": "code",
   "execution_count": 9,
   "id": "81aea72b",
   "metadata": {},
   "outputs": [
    {
     "name": "stdout",
     "output_type": "stream",
     "text": [
      "172\n",
      "['CREATE TABLE `Manufacturers` (\\r\\n  Code INTEGER,\\r\\n  Name VARCHAR(255),\\r\\n  Headquarter VARCHAR(255),\\r\\n  Founder VARCHAR(255),\\r\\n  Revenue REAL\\r\\n);', 'CREATE TABLE `Products` (\\r\\n  Code INTEGER,\\r\\n  Name VARCHAR(255),\\r\\n  Price DECIMAL,\\r\\n  Manufacturer INTEGER REFERENCES Manufacturers(Code)\\r\\n);', 'CREATE TABLE `Student` (\\r\\n  StuID INTEGER,\\r\\n  LName VARCHAR(12),\\r\\n  Fname VARCHAR(12),\\r\\n  Age INTEGER,\\r\\n  Sex VARCHAR(1),\\r\\n  Major INTEGER,\\r\\n  Advisor INTEGER,\\r\\n  city_code VARCHAR(3)\\r\\n);', 'CREATE TABLE `Plays_Games` (\\r\\n  StuID INTEGER REFERENCES Student(StuID),\\r\\n  GameID INTEGER REFERENCES Video_Games(GameID),\\r\\n  Hours_Played INTEGER\\r\\n);', 'CREATE TABLE `SportsInfo` (\\r\\n  StuID INTEGER REFERENCES Student(StuID),\\r\\n  SportName VARCHAR(32),\\r\\n  HoursPerWeek INTEGER,\\r\\n  GamesPlayed INTEGER,\\r\\n  OnScholarship VARCHAR(1)\\r\\n);', 'CREATE TABLE `actor` (\\r\\n  Actor_ID INT PRIMARY KEY,\\r\\n  Name TEXT,\\r\\n  Musical_ID INT REFERENCES actor(Actor_ID),\\r\\n  Character TEXT,\\r\\n  Duration TEXT,\\r\\n  age INT\\r\\n);', 'CREATE TABLE `entrepreneur` (\\r\\n  Entrepreneur_ID INT PRIMARY KEY,\\r\\n  People_ID INT REFERENCES people(People_ID),\\r\\n  Company TEXT,\\r\\n  Money_Requested REAL,\\r\\n  Investor TEXT\\r\\n);', 'CREATE TABLE `people` (\\r\\n  People_ID INT PRIMARY KEY,\\r\\n  Name TEXT,\\r\\n  Height REAL,\\r\\n  Weight REAL,\\r\\n  Date_of_Birth TEXT\\r\\n);', 'CREATE TABLE `Ref_Hotel_Star_Ratings` (\\r\\n  star_rating_code CHAR(15) PRIMARY KEY,\\r\\n  star_rating_description VARCHAR(80)\\r\\n);', 'CREATE TABLE `Ref_Attraction_Types` (\\r\\n  Attraction_Type_Code CHAR(15) PRIMARY KEY,\\r\\n  Attraction_Type_Description VARCHAR(255)\\r\\n);', 'CREATE TABLE `Hotels` (\\r\\n  hotel_id INTEGER,\\r\\n  star_rating_code CHAR(15) REFERENCES Ref_Hotel_Star_Ratings(star_rating_code),\\r\\n  pets_allowed_yn CHAR(1),\\r\\n  price_range REAL,\\r\\n  other_hotel_details VARCHAR(255)\\r\\n);', 'CREATE TABLE `Tourist_Attractions` (\\r\\n  Tourist_Attraction_ID INTEGER,\\r\\n  Attraction_Type_Code CHAR(15) REFERENCES Ref_Attraction_Types(Attraction_Type_Code),\\r\\n  Location_ID INTEGER REFERENCES Locations(Location_ID),\\r\\n  How_to_Get_There VARCHAR(255),\\r\\n  Name VARCHAR(255),\\r\\n  Description VARCHAR(255),\\r\\n  Opening_Hours VARCHAR(255),\\r\\n  Other_Details VARCHAR(255)\\r\\n);', 'CREATE TABLE `Street_Markets` (\\r\\n  Market_ID INTEGER REFERENCES Tourist_Attractions(Tourist_Attraction_ID),\\r\\n  Market_Details VARCHAR(255)\\r\\n);', 'CREATE TABLE `Shops` (\\r\\n  Shop_ID INTEGER REFERENCES Tourist_Attractions(Tourist_Attraction_ID),\\r\\n  Shop_Details VARCHAR(255)\\r\\n);', 'CREATE TABLE `Museums` (\\r\\n  Museum_ID INTEGER REFERENCES Tourist_Attractions(Tourist_Attraction_ID),\\r\\n  Museum_Details VARCHAR(255)\\r\\n);', 'CREATE TABLE `Royal_Family` (\\r\\n  Royal_Family_ID INTEGER REFERENCES Tourist_Attractions(Tourist_Attraction_ID),\\r\\n  Royal_Family_Details VARCHAR(255)\\r\\n);', 'CREATE TABLE `Theme_Parks` (\\r\\n  Theme_Park_ID INTEGER REFERENCES Tourist_Attractions(Tourist_Attraction_ID),\\r\\n  Theme_Park_Details VARCHAR(255)\\r\\n);', 'CREATE TABLE `Visits` (\\r\\n  Visit_ID INTEGER,\\r\\n  Tourist_Attraction_ID INTEGER REFERENCES Tourist_Attractions(Tourist_Attraction_ID),\\r\\n  Tourist_ID INTEGER REFERENCES Visitors(Tourist_ID),\\r\\n  Visit_Date DATETIME,\\r\\n  Visit_Details VARCHAR(40)\\r\\n);', 'CREATE TABLE `Photos` (\\r\\n  Photo_ID INTEGER,\\r\\n  Tourist_Attraction_ID INTEGER REFERENCES Tourist_Attractions(Tourist_Attraction_ID),\\r\\n  Name VARCHAR(255),\\r\\n  Description VARCHAR(255),\\r\\n  Filename VARCHAR(255),\\r\\n  Other_Details VARCHAR(255)\\r\\n);', 'CREATE TABLE `Staff` (\\r\\n  Staff_ID INTEGER,\\r\\n  Tourist_Attraction_ID INTEGER REFERENCES Tourist_Attractions(Tourist_Attraction_ID),\\r\\n  Name VARCHAR(40),\\r\\n  Other_Details VARCHAR(255)\\r\\n);', 'CREATE TABLE `Tourist_Attraction_Features` (\\r\\n  Tourist_Attraction_ID INTEGER PRIMARY KEY REFERENCES Tourist_Attractions(Tourist_Attraction_ID),\\r\\n  Feature_ID INTEGER PRIMARY KEY REFERENCES Features(Feature_ID)\\r\\n);', 'CREATE TABLE `wrestler` (\\r\\n  Wrestler_ID INT PRIMARY KEY,\\r\\n  Name TEXT,\\r\\n  Reign TEXT,\\r\\n  Days_held TEXT,\\r\\n  Location TEXT,\\r\\n  Event TEXT\\r\\n);', 'CREATE TABLE `Elimination` (\\r\\n  Elimination_ID TEXT PRIMARY KEY,\\r\\n  Wrestler_ID TEXT REFERENCES wrestler(Wrestler_ID),\\r\\n  Team TEXT,\\r\\n  Eliminated_By TEXT,\\r\\n  Elimination_Move TEXT,\\r\\n  Time TEXT\\r\\n);', 'CREATE TABLE `business` (\\r\\n  bid INT PRIMARY KEY,\\r\\n  business_id TEXT,\\r\\n  name TEXT,\\r\\n  full_address TEXT,\\r\\n  city TEXT,\\r\\n  latitude TEXT,\\r\\n  longitude TEXT,\\r\\n  review_count INT,\\r\\n  is_open INT,\\r\\n  rating REAL,\\r\\n  state TEXT\\r\\n);', 'CREATE TABLE `category` (\\r\\n  id INT PRIMARY KEY,\\r\\n  business_id TEXT REFERENCES business(business_id),\\r\\n  category_name TEXT\\r\\n);', 'CREATE TABLE `checkin` (\\r\\n  cid INT PRIMARY KEY,\\r\\n  business_id TEXT REFERENCES business(business_id),\\r\\n  count INT,\\r\\n  day TEXT\\r\\n);', 'CREATE TABLE `neighbourhood` (\\r\\n  id INT PRIMARY KEY,\\r\\n  business_id TEXT REFERENCES business(business_id),\\r\\n  neighbourhood_name TEXT\\r\\n);', 'CREATE TABLE `review` (\\r\\n  rid INT PRIMARY KEY,\\r\\n  business_id TEXT REFERENCES business(business_id),\\r\\n  user_id TEXT REFERENCES user(user_id),\\r\\n  rating REAL,\\r\\n  text TEXT,\\r\\n  year INT,\\r\\n  month TEXT\\r\\n);', 'CREATE TABLE `tip` (\\r\\n  tip_id INT PRIMARY KEY,\\r\\n  business_id TEXT REFERENCES business(business_id),\\r\\n  text TEXT,\\r\\n  user_id TEXT REFERENCES user(user_id),\\r\\n  likes INT,\\r\\n  year INT,\\r\\n  month TEXT\\r\\n);', 'CREATE TABLE `Ref_Detention_Type` (\\r\\n  detention_type_code VARCHAR(10) PRIMARY KEY,\\r\\n  detention_type_description VARCHAR(80)\\r\\n);', 'CREATE TABLE `Ref_Incident_Type` (\\r\\n  incident_type_code VARCHAR(10) PRIMARY KEY,\\r\\n  incident_type_description VARCHAR(80)\\r\\n);', 'CREATE TABLE `Addresses` (\\r\\n  address_id INTEGER,\\r\\n  line_1 VARCHAR(120),\\r\\n  line_2 VARCHAR(120),\\r\\n  line_3 VARCHAR(120),\\r\\n  city VARCHAR(80),\\r\\n  zip_postcode VARCHAR(20),\\r\\n  state_province_county VARCHAR(50),\\r\\n  country VARCHAR(50),\\r\\n  other_address_details VARCHAR(255)\\r\\n);', 'CREATE TABLE `Students` (\\r\\n  student_id INTEGER,\\r\\n  address_id INTEGER REFERENCES Addresses(address_id),\\r\\n  first_name VARCHAR(80),\\r\\n  middle_name VARCHAR(40),\\r\\n  last_name VARCHAR(40),\\r\\n  cell_mobile_number VARCHAR(40),\\r\\n  email_address VARCHAR(40),\\r\\n  date_first_rental DATETIME,\\r\\n  date_left_university DATETIME,\\r\\n  other_student_details VARCHAR(255)\\r\\n);', 'CREATE TABLE `Teachers` (\\r\\n  teacher_id INTEGER,\\r\\n  address_id INTEGER REFERENCES Addresses(address_id),\\r\\n  first_name VARCHAR(80),\\r\\n  middle_name VARCHAR(80),\\r\\n  last_name VARCHAR(80),\\r\\n  gender VARCHAR(1),\\r\\n  cell_mobile_number VARCHAR(40),\\r\\n  email_address VARCHAR(40),\\r\\n  other_details VARCHAR(255)\\r\\n);', 'CREATE TABLE `Assessment_Notes` (\\r\\n  notes_id INTEGER,\\r\\n  student_id INTEGER REFERENCES Students(student_id),\\r\\n  teacher_id INTEGER REFERENCES Teachers(teacher_id),\\r\\n  date_of_notes DATETIME,\\r\\n  text_of_notes VARCHAR(255),\\r\\n  other_details VARCHAR(255)\\r\\n);', 'CREATE TABLE `Behavior_Incident` (\\r\\n  incident_id INTEGER,\\r\\n  incident_type_code VARCHAR(10) REFERENCES Ref_Incident_Type(incident_type_code),\\r\\n  student_id INTEGER REFERENCES Students(student_id),\\r\\n  date_incident_start DATETIME,\\r\\n  date_incident_end DATETIME,\\r\\n  incident_summary VARCHAR(255),\\r\\n  recommendations VARCHAR(255),\\r\\n  other_details VARCHAR(255)\\r\\n);', 'CREATE TABLE `Detention` (\\r\\n  detention_id INTEGER,\\r\\n  detention_type_code VARCHAR(10) REFERENCES Ref_Detention_Type(detention_type_code),\\r\\n  teacher_id INTEGER REFERENCES Teachers(teacher_id),\\r\\n  datetime_detention_start DATETIME,\\r\\n  datetime_detention_end DATETIME,\\r\\n  detention_summary VARCHAR(255),\\r\\n  other_details VARCHAR(255)\\r\\n);', 'CREATE TABLE `Student_Addresses` (\\r\\n  student_id INTEGER REFERENCES Students(student_id),\\r\\n  address_id INTEGER REFERENCES Addresses(address_id),\\r\\n  date_address_from DATETIME,\\r\\n  date_address_to DATETIME,\\r\\n  monthly_rental DECIMAL(19,4),\\r\\n  other_details VARCHAR(255)\\r\\n);', 'CREATE TABLE `Students_in_Detention` (\\r\\n  student_id INTEGER REFERENCES Students(student_id),\\r\\n  detention_id INTEGER REFERENCES Detention(detention_id),\\r\\n  incident_id INTEGER REFERENCES Behavior_Incident(incident_id)\\r\\n);', 'CREATE TABLE `film` (\\r\\n  Film_ID INT PRIMARY KEY,\\r\\n  Title TEXT,\\r\\n  Studio TEXT,\\r\\n  Director TEXT,\\r\\n  Gross_in_dollar INT\\r\\n);', 'CREATE TABLE `film_market_estimation` (\\r\\n  Estimation_ID INT PRIMARY KEY,\\r\\n  Low_Estimate REAL,\\r\\n  High_Estimate REAL,\\r\\n  Film_ID INT REFERENCES film(Film_ID),\\r\\n  Type TEXT,\\r\\n  Market_ID INT REFERENCES market(Market_ID),\\r\\n  Year INT\\r\\n);', 'CREATE TABLE `Catalogs` (\\r\\n  catalog_id INTEGER,\\r\\n  catalog_name VARCHAR(50),\\r\\n  catalog_publisher VARCHAR(80),\\r\\n  date_of_publication DATETIME,\\r\\n  date_of_latest_revision DATETIME\\r\\n);', 'CREATE TABLE `Catalog_Structure` (\\r\\n  catalog_level_number INTEGER,\\r\\n  catalog_id INTEGER REFERENCES Catalogs(catalog_id),\\r\\n  catalog_level_name VARCHAR(50)\\r\\n);', 'CREATE TABLE `Catalog_Contents` (\\r\\n  catalog_entry_id INTEGER,\\r\\n  catalog_level_number INTEGER REFERENCES Catalog_Structure(catalog_level_number),\\r\\n  parent_entry_id INTEGER,\\r\\n  previous_entry_id INTEGER,\\r\\n  next_entry_id INTEGER,\\r\\n  catalog_entry_name VARCHAR(80),\\r\\n  product_stock_number VARCHAR(50),\\r\\n  price_in_dollars DOUBLE,\\r\\n  price_in_euros DOUBLE,\\r\\n  price_in_pounds DOUBLE,\\r\\n  capacity VARCHAR(20),\\r\\n  length VARCHAR(20),\\r\\n  height VARCHAR(20),\\r\\n  width VARCHAR(20)\\r\\n);', 'CREATE TABLE `Catalog_Contents_Additional_Attributes` (\\r\\n  catalog_entry_id INTEGER REFERENCES Catalog_Contents(catalog_entry_id),\\r\\n  catalog_level_number INTEGER REFERENCES Catalog_Structure(catalog_level_number),\\r\\n  attribute_id INTEGER,\\r\\n  attribute_value VARCHAR(255)\\r\\n);', 'CREATE TABLE `routes` (\\r\\n  rid INTEGER,\\r\\n  dst_apid INTEGER REFERENCES airports(apid),\\r\\n  dst_ap varchar(4),\\r\\n  src_apid bigint REFERENCES airports(apid),\\r\\n  src_ap varchar(4),\\r\\n  alid bigint REFERENCES airlines(alid),\\r\\n  airline varchar(4),\\r\\n  codeshare TEXT\\r\\n);', 'CREATE TABLE `airports` (\\r\\n  apid INTEGER,\\r\\n  name TEXT,\\r\\n  city TEXT,\\r\\n  country TEXT,\\r\\n  x REAL,\\r\\n  y REAL,\\r\\n  elevation bigint,\\r\\n  iata character varchar(3),\\r\\n  icao character varchar(4)\\r\\n);', 'CREATE TABLE `stadium` (\\r\\n  id INT PRIMARY KEY,\\r\\n  name TEXT,\\r\\n  Home_Games INT,\\r\\n  Average_Attendance REAL,\\r\\n  Total_Attendance REAL,\\r\\n  Capacity_Percentage REAL\\r\\n);', 'CREATE TABLE `game` (\\r\\n  stadium_id INT REFERENCES stadium(id),\\r\\n  id INT PRIMARY KEY,\\r\\n  Season INT,\\r\\n  Date TEXT,\\r\\n  Home_team TEXT,\\r\\n  Away_team TEXT,\\r\\n  Score TEXT,\\r\\n  Competition TEXT\\r\\n);', 'CREATE TABLE `injury_accident` (\\r\\n  game_id INT REFERENCES game(id),\\r\\n  id INT PRIMARY KEY,\\r\\n  Player TEXT,\\r\\n  Injury TEXT,\\r\\n  Number_of_matches TEXT,\\r\\n  Source TEXT\\r\\n);', 'CREATE TABLE `Physician` (\\r\\n  EmployeeID INTEGER,\\r\\n  Name VARCHAR(30),\\r\\n  Position VARCHAR(30),\\r\\n  SSN INTEGER\\r\\n);', 'CREATE TABLE `Department` (\\r\\n  DepartmentID INTEGER,\\r\\n  Name VARCHAR(30),\\r\\n  Head INTEGER REFERENCES Physician(EmployeeID)\\r\\n);', 'CREATE TABLE `Affiliated_With` (\\r\\n  Physician INTEGER PRIMARY KEY REFERENCES Physician(EmployeeID),\\r\\n  Department INTEGER PRIMARY KEY REFERENCES Department(DepartmentID),\\r\\n  PrimaryAffiliation BOOLEAN\\r\\n);', 'CREATE TABLE `Trained_In` (\\r\\n  Physician INTEGER PRIMARY KEY REFERENCES Physician(EmployeeID),\\r\\n  Treatment INTEGER PRIMARY KEY REFERENCES Procedures(Code),\\r\\n  CertificationDate DATETIME,\\r\\n  CertificationExpires DATETIME\\r\\n);', 'CREATE TABLE `Patient` (\\r\\n  SSN INTEGER,\\r\\n  Name VARCHAR(30),\\r\\n  Address VARCHAR(30),\\r\\n  Phone VARCHAR(30),\\r\\n  InsuranceID INTEGER,\\r\\n  PCP INTEGER REFERENCES Physician(EmployeeID)\\r\\n);', 'CREATE TABLE `Nurse` (\\r\\n  EmployeeID INTEGER,\\r\\n  Name VARCHAR(30),\\r\\n  Position VARCHAR(30),\\r\\n  Registered BOOLEAN,\\r\\n  SSN INTEGER\\r\\n);', 'CREATE TABLE `Appointment` (\\r\\n  AppointmentID INTEGER,\\r\\n  Patient INTEGER REFERENCES Patient(SSN),\\r\\n  PrepNurse INTEGER REFERENCES Nurse(EmployeeID),\\r\\n  Physician INTEGER REFERENCES Physician(EmployeeID),\\r\\n  Start DATETIME,\\r\\n  End DATETIME,\\r\\n  ExaminationRoom TEXT\\r\\n);', 'CREATE TABLE `Prescribes` (\\r\\n  Physician INTEGER PRIMARY KEY REFERENCES Physician(EmployeeID),\\r\\n  Patient INTEGER PRIMARY KEY REFERENCES Patient(SSN),\\r\\n  Medication INTEGER PRIMARY KEY REFERENCES Medication(Code),\\r\\n  Date DATETIME PRIMARY KEY,\\r\\n  Appointment INTEGER REFERENCES Appointment(AppointmentID),\\r\\n  Dose VARCHAR(30)\\r\\n);', 'CREATE TABLE `Block` (\\r\\n  BlockFloor INTEGER PRIMARY KEY,\\r\\n  BlockCode INTEGER PRIMARY KEY\\r\\n);', 'CREATE TABLE `Room` (\\r\\n  RoomNumber INTEGER,\\r\\n  RoomType VARCHAR(30),\\r\\n  BlockFloor INTEGER REFERENCES Block(BlockFloor),\\r\\n  BlockCode INTEGER REFERENCES Block(BlockCode),\\r\\n  Unavailable BOOLEAN\\r\\n);', 'CREATE TABLE `On_Call` (\\r\\n  Nurse INTEGER PRIMARY KEY REFERENCES Nurse(EmployeeID),\\r\\n  BlockFloor INTEGER PRIMARY KEY REFERENCES Block(BlockFloor),\\r\\n  BlockCode INTEGER PRIMARY KEY REFERENCES Block(BlockCode),\\r\\n  OnCallStart DATETIME PRIMARY KEY,\\r\\n  OnCallEnd DATETIME PRIMARY KEY\\r\\n);', 'CREATE TABLE `Stay` (\\r\\n  StayID INTEGER,\\r\\n  Patient INTEGER REFERENCES Patient(SSN),\\r\\n  Room INTEGER REFERENCES Room(RoomNumber),\\r\\n  StayStart DATETIME,\\r\\n  StayEnd DATETIME\\r\\n);', 'CREATE TABLE `Undergoes` (\\r\\n  Patient INTEGER PRIMARY KEY REFERENCES Patient(SSN),\\r\\n  Procedures INTEGER PRIMARY KEY REFERENCES Procedures(Code),\\r\\n  Stay INTEGER PRIMARY KEY REFERENCES Stay(StayID),\\r\\n  DateUndergoes DATETIME PRIMARY KEY,\\r\\n  Physician INTEGER REFERENCES Physician(EmployeeID),\\r\\n  AssistingNurse INTEGER REFERENCES Nurse(EmployeeID)\\r\\n);', 'CREATE TABLE `buildings` (\\r\\n  id INT PRIMARY KEY,\\r\\n  name TEXT,\\r\\n  City TEXT,\\r\\n  Height INT,\\r\\n  Stories INT,\\r\\n  Status TEXT\\r\\n);', 'CREATE TABLE `Office_locations` (\\r\\n  building_id INT PRIMARY KEY REFERENCES buildings(id),\\r\\n  company_id INT PRIMARY KEY REFERENCES Companies(id),\\r\\n  move_in_year INT\\r\\n);', 'CREATE TABLE `region` (\\r\\n  Region_ID INT PRIMARY KEY,\\r\\n  Region_name TEXT,\\r\\n  Date TEXT,\\r\\n  Label TEXT,\\r\\n  Format TEXT,\\r\\n  Catalogue TEXT\\r\\n);', 'CREATE TABLE `party` (\\r\\n  Party_ID INT PRIMARY KEY,\\r\\n  Minister TEXT,\\r\\n  Took_office TEXT,\\r\\n  Left_office TEXT,\\r\\n  Region_ID INT REFERENCES region(Region_ID),\\r\\n  Party_name TEXT\\r\\n);', 'CREATE TABLE `member` (\\r\\n  Member_ID INT PRIMARY KEY,\\r\\n  Member_Name TEXT,\\r\\n  Party_ID TEXT REFERENCES party(Party_ID),\\r\\n  In_office TEXT\\r\\n);', 'CREATE TABLE `party_events` (\\r\\n  Event_ID INT PRIMARY KEY,\\r\\n  Event_Name TEXT,\\r\\n  Party_ID INT REFERENCES party(Party_ID),\\r\\n  Member_in_charge_ID INT REFERENCES member(Member_ID)\\r\\n);', 'CREATE TABLE `Web_client_accelerator` (\\r\\n  id INT PRIMARY KEY,\\r\\n  name TEXT,\\r\\n  Operating_system TEXT,\\r\\n  Client TEXT,\\r\\n  Connection TEXT\\r\\n);', 'CREATE TABLE `accelerator_compatible_browser` (\\r\\n  accelerator_id INT PRIMARY KEY REFERENCES Web_client_accelerator(id),\\r\\n  browser_id INT PRIMARY KEY REFERENCES browser(id),\\r\\n  compatible_since_year INT\\r\\n);', 'CREATE TABLE `Investors` (\\r\\n  investor_id INTEGER,\\r\\n  Investor_details VARCHAR(255)\\r\\n);', 'CREATE TABLE `Lots` (\\r\\n  lot_id INTEGER,\\r\\n  investor_id INTEGER REFERENCES Investors(investor_id),\\r\\n  lot_details VARCHAR(255)\\r\\n);', 'CREATE TABLE `Transactions` (\\r\\n  transaction_id INTEGER,\\r\\n  investor_id INTEGER REFERENCES Investors(investor_id),\\r\\n  transaction_type_code VARCHAR(10) REFERENCES Ref_Transaction_Types(transaction_type_code),\\r\\n  date_of_transaction DATETIME,\\r\\n  amount_of_transaction DECIMAL(19,4),\\r\\n  share_count VARCHAR(40),\\r\\n  other_details VARCHAR(255)\\r\\n);', 'CREATE TABLE `Sales` (\\r\\n  sales_transaction_id INTEGER REFERENCES Transactions(transaction_id),\\r\\n  sales_details VARCHAR(255)\\r\\n);', 'CREATE TABLE `Purchases` (\\r\\n  purchase_transaction_id INTEGER REFERENCES Transactions(transaction_id),\\r\\n  purchase_details VARCHAR(255)\\r\\n);', 'CREATE TABLE `Transactions_Lots` (\\r\\n  transaction_id INTEGER REFERENCES Transactions(transaction_id),\\r\\n  lot_id INTEGER REFERENCES Lots(lot_id)\\r\\n);', 'CREATE TABLE `basketball_match` (\\r\\n  Team_ID INT PRIMARY KEY,\\r\\n  School_ID INT REFERENCES university(School_ID),\\r\\n  Team_Name TEXT,\\r\\n  ACC_Regular_Season TEXT,\\r\\n  ACC_Percent TEXT,\\r\\n  ACC_Home TEXT,\\r\\n  ACC_Road TEXT,\\r\\n  All_Games TEXT,\\r\\n  All_Games_Percent INT,\\r\\n  All_Home TEXT,\\r\\n  All_Road TEXT,\\r\\n  All_Neutral TEXT\\r\\n);', 'CREATE TABLE `university` (\\r\\n  School_ID INT PRIMARY KEY,\\r\\n  School TEXT,\\r\\n  Location TEXT,\\r\\n  Founded REAL,\\r\\n  Affiliation TEXT,\\r\\n  Enrollment REAL,\\r\\n  Nickname TEXT,\\r\\n  Primary_conference TEXT\\r\\n);', 'CREATE TABLE `GEOGRAPHIC` (\\r\\n  CITY_NAME TEXT PRIMARY KEY,\\r\\n  COUNTY TEXT,\\r\\n  REGION TEXT\\r\\n);', 'CREATE TABLE `RESTAURANT` (\\r\\n  ID INT PRIMARY KEY,\\r\\n  NAME TEXT,\\r\\n  FOOD_TYPE TEXT,\\r\\n  CITY_NAME TEXT REFERENCES GEOGRAPHIC(CITY_NAME),\\r\\n  RATING REAL\\r\\n);', 'CREATE TABLE `LOCATION` (\\r\\n  RESTAURANT_ID INT PRIMARY KEY REFERENCES RESTAURANT(RESTAURANT_ID),\\r\\n  HOUSE_NUMBER INT,\\r\\n  STREET_NAME TEXT,\\r\\n  CITY_NAME TEXT REFERENCES GEOGRAPHIC(CITY_NAME)\\r\\n);', 'CREATE TABLE `follows` (\\r\\n  f1 int(11) PRIMARY KEY REFERENCES user_profiles(uid),\\r\\n  f2 int(11) PRIMARY KEY REFERENCES user_profiles(uid)\\r\\n);', 'CREATE TABLE `tweets` (\\r\\n  id bigint(20) PRIMARY KEY,\\r\\n  uid int(11) REFERENCES user_profiles(uid),\\r\\n  text char(140),\\r\\n  createdate datetime\\r\\n);', 'CREATE TABLE `user_profiles` (\\r\\n  uid int(11) PRIMARY KEY,\\r\\n  name varchar(255),\\r\\n  email varchar(255),\\r\\n  partitionid int(11),\\r\\n  followers int(11)\\r\\n);', 'CREATE TABLE `station` (\\r\\n  id INTEGER,\\r\\n  name TEXT,\\r\\n  lat NUMERIC,\\r\\n  long NUMERIC,\\r\\n  dock_count INTEGER,\\r\\n  city TEXT,\\r\\n  installation_date TEXT\\r\\n);', 'CREATE TABLE `status` (\\r\\n  station_id INTEGER REFERENCES station(id),\\r\\n  bikes_available INTEGER,\\r\\n  docks_available INTEGER,\\r\\n  time TEXT\\r\\n);', 'CREATE TABLE `Campuses` (\\r\\n  Id INTEGER,\\r\\n  Campus TEXT,\\r\\n  Location TEXT,\\r\\n  County TEXT,\\r\\n  Year INTEGER\\r\\n);', 'CREATE TABLE `csu_fees` (\\r\\n  Campus INTEGER REFERENCES Campuses(Id),\\r\\n  Year INTEGER,\\r\\n  CampusFee INTEGER\\r\\n);', 'CREATE TABLE `degrees` (\\r\\n  Year INTEGER PRIMARY KEY,\\r\\n  Campus INTEGER PRIMARY KEY REFERENCES Campuses(Id),\\r\\n  Degrees INTEGER\\r\\n);', 'CREATE TABLE `discipline_enrollments` (\\r\\n  Campus INTEGER PRIMARY KEY REFERENCES Campuses(Id),\\r\\n  Discipline INTEGER PRIMARY KEY,\\r\\n  Year INTEGER,\\r\\n  Undergraduate INTEGER,\\r\\n  Graduate INTEGER\\r\\n);', 'CREATE TABLE `enrollments` (\\r\\n  Campus INTEGER PRIMARY KEY REFERENCES Campuses(Id),\\r\\n  Year INTEGER PRIMARY KEY,\\r\\n  TotalEnrollment_AY INTEGER,\\r\\n  FTE_AY INTEGER\\r\\n);', 'CREATE TABLE `faculty` (\\r\\n  Campus INTEGER REFERENCES Campuses(Id),\\r\\n  Year INTEGER,\\r\\n  Faculty REAL\\r\\n);', 'CREATE TABLE `journalist` (\\r\\n  journalist_ID INT PRIMARY KEY,\\r\\n  Name TEXT,\\r\\n  Nationality TEXT,\\r\\n  Age TEXT,\\r\\n  Years_working INT\\r\\n);', 'CREATE TABLE `news_report` (\\r\\n  journalist_ID INT PRIMARY KEY REFERENCES journalist(journalist_ID),\\r\\n  Event_ID INT PRIMARY KEY REFERENCES event(Event_ID),\\r\\n  Work_Type TEXT\\r\\n);', 'CREATE TABLE `Authors` (\\r\\n  authID INTEGER,\\r\\n  lname TEXT,\\r\\n  fname TEXT\\r\\n);', 'CREATE TABLE `Authorship` (\\r\\n  authID INTEGER PRIMARY KEY REFERENCES Authors(authID),\\r\\n  instID INTEGER PRIMARY KEY REFERENCES Inst(instID),\\r\\n  paperID INTEGER PRIMARY KEY REFERENCES Papers(paperID),\\r\\n  authOrder INTEGER\\r\\n);', 'CREATE TABLE `manufacturer` (\\r\\n  Manufacturer_ID INT PRIMARY KEY,\\r\\n  Open_Year REAL,\\r\\n  Name TEXT,\\r\\n  Num_of_Factories INT,\\r\\n  Num_of_Shops INT\\r\\n);', 'CREATE TABLE `furniture_manufacte` (\\r\\n  Manufacturer_ID INT PRIMARY KEY REFERENCES manufacturer(Manufacturer_ID),\\r\\n  Furniture_ID INT PRIMARY KEY REFERENCES furniture(Furniture_ID),\\r\\n  Price_in_Dollar REAL\\r\\n);', 'CREATE TABLE `Person` (\\r\\n  name varchar(20) PRIMARY KEY,\\r\\n  age INTEGER,\\r\\n  city TEXT,\\r\\n  gender TEXT,\\r\\n  job TEXT\\r\\n);', 'CREATE TABLE `PersonFriend` (\\r\\n  name varchar(20) REFERENCES Person(name),\\r\\n  friend varchar(20) REFERENCES Person(name),\\r\\n  year INTEGER\\r\\n);', 'CREATE TABLE `enzyme` (\\r\\n  id INT PRIMARY KEY,\\r\\n  name TEXT,\\r\\n  Location TEXT,\\r\\n  Product TEXT,\\r\\n  Chromosome TEXT,\\r\\n  OMIM INT,\\r\\n  Porphyria TEXT\\r\\n);', 'CREATE TABLE `medicine_enzyme_interaction` (\\r\\n  enzyme_id INT PRIMARY KEY REFERENCES enzyme(id),\\r\\n  medicine_id INT PRIMARY KEY REFERENCES medicine(id),\\r\\n  interaction_type TEXT\\r\\n);', 'CREATE TABLE `Apartment_Buildings` (\\r\\n  building_id INTEGER PRIMARY KEY,\\r\\n  building_short_name CHAR(15),\\r\\n  building_full_name VARCHAR(80),\\r\\n  building_description VARCHAR(255),\\r\\n  building_address VARCHAR(255),\\r\\n  building_manager VARCHAR(50),\\r\\n  building_phone VARCHAR(80)\\r\\n);', 'CREATE TABLE `Apartments` (\\r\\n  apt_id INTEGER PRIMARY KEY,\\r\\n  building_id INTEGER REFERENCES Apartment_Buildings(building_id),\\r\\n  apt_type_code CHAR(15),\\r\\n  apt_number CHAR(10),\\r\\n  bathroom_count INTEGER,\\r\\n  bedroom_count INTEGER,\\r\\n  room_count CHAR(5)\\r\\n);', 'CREATE TABLE `Apartment_Facilities` (\\r\\n  apt_id INTEGER PRIMARY KEY REFERENCES Apartments(apt_id),\\r\\n  facility_code CHAR(15) PRIMARY KEY\\r\\n);', 'CREATE TABLE `Apartment_Bookings` (\\r\\n  apt_booking_id INTEGER PRIMARY KEY,\\r\\n  apt_id INTEGER REFERENCES Apartments(apt_id),\\r\\n  guest_id INTEGER REFERENCES Guests(guest_id),\\r\\n  booking_status_code CHAR(15),\\r\\n  booking_start_date DATETIME,\\r\\n  booking_end_date DATETIME\\r\\n);', 'CREATE TABLE `View_Unit_Status` (\\r\\n  apt_id INTEGER REFERENCES Apartments(apt_id),\\r\\n  apt_booking_id INTEGER REFERENCES Apartment_Bookings(apt_booking_id),\\r\\n  status_date DATETIME PRIMARY KEY,\\r\\n  available_yn BIT\\r\\n);', 'CREATE TABLE `channel` (\\r\\n  Channel_ID INT PRIMARY KEY,\\r\\n  Name TEXT,\\r\\n  Owner TEXT,\\r\\n  Share_in_percent REAL,\\r\\n  Rating_in_percent REAL\\r\\n);', 'CREATE TABLE `broadcast` (\\r\\n  Channel_ID INT PRIMARY KEY REFERENCES channel(Channel_ID),\\r\\n  Program_ID INT PRIMARY KEY REFERENCES program(Program_ID),\\r\\n  Time_of_day TEXT\\r\\n);', 'CREATE TABLE `broadcast_share` (\\r\\n  Channel_ID INT PRIMARY KEY REFERENCES channel(Channel_ID),\\r\\n  Program_ID INT PRIMARY KEY REFERENCES program(Program_ID),\\r\\n  Date TEXT,\\r\\n  Share_in_percent REAL\\r\\n);', 'CREATE TABLE `Customer_Master_Index` (\\r\\n  master_customer_id INTEGER,\\r\\n  cmi_details VARCHAR(255)\\r\\n);', 'CREATE TABLE `CMI_Cross_References` (\\r\\n  cmi_cross_ref_id INTEGER,\\r\\n  master_customer_id INTEGER REFERENCES Customer_Master_Index(master_customer_id),\\r\\n  source_system_code CHAR(15)\\r\\n);', 'CREATE TABLE `Council_Tax` (\\r\\n  council_tax_id INTEGER,\\r\\n  cmi_cross_ref_id INTEGER REFERENCES CMI_Cross_References(cmi_cross_ref_id)\\r\\n);', 'CREATE TABLE `Business_Rates` (\\r\\n  business_rates_id INTEGER,\\r\\n  cmi_cross_ref_id INTEGER REFERENCES CMI_Cross_References(cmi_cross_ref_id)\\r\\n);', 'CREATE TABLE `Benefits_Overpayments` (\\r\\n  council_tax_id INTEGER,\\r\\n  cmi_cross_ref_id INTEGER REFERENCES CMI_Cross_References(cmi_cross_ref_id)\\r\\n);', 'CREATE TABLE `Parking_Fines` (\\r\\n  council_tax_id INTEGER,\\r\\n  cmi_cross_ref_id INTEGER REFERENCES CMI_Cross_References(cmi_cross_ref_id)\\r\\n);', 'CREATE TABLE `Rent_Arrears` (\\r\\n  council_tax_id INTEGER,\\r\\n  cmi_cross_ref_id INTEGER REFERENCES CMI_Cross_References(cmi_cross_ref_id)\\r\\n);', 'CREATE TABLE `Electoral_Register` (\\r\\n  electoral_register_id INTEGER,\\r\\n  cmi_cross_ref_id INTEGER REFERENCES CMI_Cross_References(cmi_cross_ref_id)\\r\\n);', 'CREATE TABLE `store` (\\r\\n  Store_ID INT PRIMARY KEY,\\r\\n  Store_Name TEXT,\\r\\n  Type TEXT,\\r\\n  Area_size REAL,\\r\\n  Number_of_product_category REAL,\\r\\n  Ranking INT\\r\\n);', 'CREATE TABLE `store_product` (\\r\\n  Store_ID INT PRIMARY KEY REFERENCES store(Store_ID),\\r\\n  Product_ID INT PRIMARY KEY REFERENCES product(Product_ID)\\r\\n);', 'CREATE TABLE `store_district` (\\r\\n  Store_ID INT PRIMARY KEY REFERENCES store(Store_ID),\\r\\n  District_ID INT REFERENCES district(District_ID)\\r\\n);', 'CREATE TABLE `gas_station` (\\r\\n  Station_ID INT PRIMARY KEY,\\r\\n  Open_Year INT,\\r\\n  Location TEXT,\\r\\n  Manager_Name TEXT,\\r\\n  Vice_Manager_Name TEXT,\\r\\n  Representative_Name TEXT\\r\\n);', 'CREATE TABLE `station_company` (\\r\\n  Station_ID INT PRIMARY KEY REFERENCES gas_station(Station_ID),\\r\\n  Company_ID INT PRIMARY KEY REFERENCES company(Company_ID),\\r\\n  Rank_of_the_Year INT\\r\\n);', 'CREATE TABLE `artwork` (\\r\\n  Artwork_ID INT PRIMARY KEY,\\r\\n  Type TEXT,\\r\\n  Name TEXT\\r\\n);', 'CREATE TABLE `nomination` (\\r\\n  Artwork_ID INT PRIMARY KEY REFERENCES artwork(Artwork_ID),\\r\\n  Festival_ID INT PRIMARY KEY REFERENCES festival_detail(Festival_ID),\\r\\n  Result TEXT\\r\\n);', 'CREATE TABLE `building` (\\r\\n  building_id TEXT PRIMARY KEY,\\r\\n  Name TEXT,\\r\\n  Street_address TEXT,\\r\\n  Years_as_tallest TEXT,\\r\\n  Height_feet INT,\\r\\n  Floors INT\\r\\n);', 'CREATE TABLE `Institution` (\\r\\n  Institution_id TEXT PRIMARY KEY,\\r\\n  Institution TEXT,\\r\\n  Location TEXT,\\r\\n  Founded REAL,\\r\\n  Type TEXT,\\r\\n  Enrollment INT,\\r\\n  Team TEXT,\\r\\n  Primary_Conference TEXT,\\r\\n  building_id TEXT REFERENCES building(building_id)\\r\\n);', 'CREATE TABLE `protein` (\\r\\n  common_name TEXT PRIMARY KEY,\\r\\n  protein_name TEXT,\\r\\n  divergence_from_human_lineage REAL,\\r\\n  accession_number TEXT,\\r\\n  sequence_length REAL,\\r\\n  sequence_identity_to_human_protein TEXT,\\r\\n  Institution_id TEXT REFERENCES Institution(Institution_id)\\r\\n);', 'CREATE TABLE `roller_coaster` (\\r\\n  Roller_Coaster_ID INT PRIMARY KEY,\\r\\n  Name TEXT,\\r\\n  Park TEXT,\\r\\n  Country_ID INT REFERENCES country(Country_ID),\\r\\n  Length REAL,\\r\\n  Height REAL,\\r\\n  Speed TEXT,\\r\\n  Opened TEXT,\\r\\n  Status TEXT\\r\\n);', 'CREATE TABLE `country` (\\r\\n  Country_ID INT PRIMARY KEY,\\r\\n  Name TEXT,\\r\\n  Population INT,\\r\\n  Area INT,\\r\\n  Languages TEXT\\r\\n);', 'CREATE TABLE `Services` (\\r\\n  Service_ID INTEGER,\\r\\n  Service_Type_Code CHAR(15)\\r\\n);', 'CREATE TABLE `Events` (\\r\\n  Event_ID INTEGER,\\r\\n  Service_ID INTEGER REFERENCES Services(Service_ID),\\r\\n  Event_Details VARCHAR(255)\\r\\n);', 'CREATE TABLE `Participants_in_Events` (\\r\\n  Event_ID INTEGER PRIMARY KEY REFERENCES Events(Event_ID),\\r\\n  Participant_ID INTEGER PRIMARY KEY REFERENCES Participants(Participant_ID)\\r\\n);', 'CREATE TABLE `architect` (\\r\\n  id TEXT PRIMARY KEY,\\r\\n  name TEXT,\\r\\n  nationality TEXT,\\r\\n  gender TEXT\\r\\n);', 'CREATE TABLE `bridge` (\\r\\n  architect_id INT REFERENCES architect(id),\\r\\n  id INT PRIMARY KEY,\\r\\n  name TEXT,\\r\\n  location TEXT,\\r\\n  length_meters REAL,\\r\\n  length_feet REAL\\r\\n);', 'CREATE TABLE `mill` (\\r\\n  architect_id INT REFERENCES architect(id),\\r\\n  id INT PRIMARY KEY,\\r\\n  location TEXT,\\r\\n  name TEXT,\\r\\n  type TEXT,\\r\\n  built_year INT,\\r\\n  notes TEXT\\r\\n);', 'CREATE TABLE `railway` (\\r\\n  Railway_ID INT PRIMARY KEY,\\r\\n  Railway TEXT,\\r\\n  Builder TEXT,\\r\\n  Built TEXT,\\r\\n  Wheels TEXT,\\r\\n  Location TEXT,\\r\\n  ObjectNumber TEXT\\r\\n);', 'CREATE TABLE `train` (\\r\\n  Train_ID INT PRIMARY KEY,\\r\\n  Train_Num TEXT,\\r\\n  Name TEXT,\\r\\n  From TEXT,\\r\\n  Arrival TEXT,\\r\\n  Railway_ID INT REFERENCES railway(Railway_ID)\\r\\n);', 'CREATE TABLE `railway_manage` (\\r\\n  Railway_ID INT PRIMARY KEY REFERENCES railway(Railway_ID),\\r\\n  Manager_ID INT PRIMARY KEY REFERENCES manager(Manager_ID),\\r\\n  From_Year TEXT\\r\\n);', 'CREATE TABLE `publication` (\\r\\n  Publication_ID INT PRIMARY KEY,\\r\\n  Book_ID INT REFERENCES book(Book_ID),\\r\\n  Publisher TEXT,\\r\\n  Publication_Date TEXT,\\r\\n  Price REAL\\r\\n);', 'CREATE TABLE `book` (\\r\\n  Book_ID INT PRIMARY KEY,\\r\\n  Title TEXT,\\r\\n  Issues REAL,\\r\\n  Writer TEXT\\r\\n);', 'CREATE TABLE `Video_Games` (\\r\\n  GameID INTEGER,\\r\\n  GName VARCHAR(40),\\r\\n  GType VARCHAR(40)\\r\\n);', 'CREATE TABLE `musical` (\\r\\n  Musical_ID INT PRIMARY KEY,\\r\\n  Name TEXT,\\r\\n  Year INT,\\r\\n  Award TEXT,\\r\\n  Category TEXT,\\r\\n  Nominee TEXT,\\r\\n  Result TEXT\\r\\n);', 'CREATE TABLE `Locations` (\\r\\n  Location_ID INTEGER,\\r\\n  Location_Name VARCHAR(255),\\r\\n  Address VARCHAR(255),\\r\\n  Other_Details VARCHAR(255)\\r\\n);', 'CREATE TABLE `Visitors` (\\r\\n  Tourist_ID INTEGER PRIMARY KEY,\\r\\n  Tourist_Details VARCHAR(255)\\r\\n);', 'CREATE TABLE `Features` (\\r\\n  Feature_ID INTEGER,\\r\\n  Feature_Details VARCHAR(255)\\r\\n);', 'CREATE TABLE `user` (\\r\\n  uid INT PRIMARY KEY,\\r\\n  user_id TEXT,\\r\\n  name TEXT\\r\\n);', 'CREATE TABLE `Ref_Address_Types` (\\r\\n  address_type_code VARCHAR(15) PRIMARY KEY,\\r\\n  address_type_description VARCHAR(80)\\r\\n);', 'CREATE TABLE `market` (\\r\\n  Market_ID INT PRIMARY KEY,\\r\\n  Country TEXT,\\r\\n  Number_cities INT\\r\\n);', 'CREATE TABLE `Attribute_Definitions` (\\r\\n  attribute_id INTEGER,\\r\\n  attribute_name VARCHAR(30),\\r\\n  attribute_data_type VARCHAR(10)\\r\\n);', 'CREATE TABLE `airlines` (\\r\\n  alid INTEGER,\\r\\n  name TEXT,\\r\\n  iata varchar(2),\\r\\n  icao varchar(3),\\r\\n  callsign TEXT,\\r\\n  country TEXT,\\r\\n  active varchar(2)\\r\\n);', 'CREATE TABLE `Procedures` (\\r\\n  Code INTEGER,\\r\\n  Name VARCHAR(30),\\r\\n  Cost REAL\\r\\n);', 'CREATE TABLE `Medication` (\\r\\n  Code INTEGER,\\r\\n  Name VARCHAR(30),\\r\\n  Brand VARCHAR(30),\\r\\n  Description VARCHAR(30)\\r\\n);', 'CREATE TABLE `Companies` (\\r\\n  id INT PRIMARY KEY,\\r\\n  name TEXT,\\r\\n  Headquarters TEXT,\\r\\n  Industry TEXT,\\r\\n  Sales_billion REAL,\\r\\n  Profits_billion REAL,\\r\\n  Assets_billion REAL,\\r\\n  Market_Value_billion TEXT\\r\\n);', 'CREATE TABLE `browser` (\\r\\n  id INT PRIMARY KEY,\\r\\n  name TEXT,\\r\\n  market_share REAL\\r\\n);', 'CREATE TABLE `Ref_Transaction_Types` (\\r\\n  transaction_type_code VARCHAR(10) PRIMARY KEY,\\r\\n  transaction_type_description VARCHAR(80)\\r\\n);', 'CREATE TABLE `trip` (\\r\\n  id INTEGER,\\r\\n  duration INTEGER,\\r\\n  start_date TEXT,\\r\\n  start_station_name TEXT,\\r\\n  start_station_id INTEGER,\\r\\n  end_date TEXT,\\r\\n  end_station_name TEXT,\\r\\n  end_station_id INTEGER,\\r\\n  bike_id INTEGER,\\r\\n  subscription_type TEXT,\\r\\n  zip_code INTEGER\\r\\n);', 'CREATE TABLE `weather` (\\r\\n  date TEXT,\\r\\n  max_temperature_f INTEGER,\\r\\n  mean_temperature_f INTEGER,\\r\\n  min_temperature_f INTEGER,\\r\\n  max_dew_point_f INTEGER,\\r\\n  mean_dew_point_f INTEGER,\\r\\n  min_dew_point_f INTEGER,\\r\\n  max_humidity INTEGER,\\r\\n  mean_humidity INTEGER,\\r\\n  min_humidity INTEGER,\\r\\n  max_sea_level_pressure_inches NUMERIC,\\r\\n  mean_sea_level_pressure_inches NUMERIC,\\r\\n  min_sea_level_pressure_inches NUMERIC,\\r\\n  max_visibility_miles INTEGER,\\r\\n  mean_visibility_miles INTEGER,\\r\\n  min_visibility_miles INTEGER,\\r\\n  max_wind_Speed_mph INTEGER,\\r\\n  mean_wind_speed_mph INTEGER,\\r\\n  max_gust_speed_mph INTEGER,\\r\\n  precipitation_inches INTEGER,\\r\\n  cloud_cover INTEGER,\\r\\n  events TEXT,\\r\\n  wind_dir_degrees INTEGER,\\r\\n  zip_code INTEGER\\r\\n);', 'CREATE TABLE `event` (\\r\\n  Event_ID INT PRIMARY KEY,\\r\\n  Date TEXT,\\r\\n  Venue TEXT,\\r\\n  Name TEXT,\\r\\n  Event_Attendance INT\\r\\n);', 'CREATE TABLE `Inst` (\\r\\n  instID INTEGER,\\r\\n  name TEXT,\\r\\n  country TEXT\\r\\n);', 'CREATE TABLE `Papers` (\\r\\n  paperID INTEGER,\\r\\n  title TEXT\\r\\n);', 'CREATE TABLE `furniture` (\\r\\n  Furniture_ID INT PRIMARY KEY,\\r\\n  Name TEXT,\\r\\n  Num_of_Component INT,\\r\\n  Market_Rate REAL\\r\\n);', 'CREATE TABLE `medicine` (\\r\\n  id INT PRIMARY KEY,\\r\\n  name TEXT,\\r\\n  Trade_Name TEXT,\\r\\n  FDA_approved TEXT\\r\\n);', 'CREATE TABLE `Guests` (\\r\\n  guest_id INTEGER PRIMARY KEY,\\r\\n  gender_code CHAR(1),\\r\\n  guest_first_name VARCHAR(80),\\r\\n  guest_last_name VARCHAR(80),\\r\\n  date_of_birth DATETIME\\r\\n);', 'CREATE TABLE `program` (\\r\\n  Program_ID INT PRIMARY KEY,\\r\\n  Name TEXT,\\r\\n  Origin TEXT,\\r\\n  Launch REAL,\\r\\n  Owner TEXT\\r\\n);', 'CREATE TABLE `product` (\\r\\n  product_id INT PRIMARY KEY,\\r\\n  product TEXT,\\r\\n  dimensions TEXT,\\r\\n  dpi REAL,\\r\\n  pages_per_minute_color REAL,\\r\\n  max_page_size TEXT,\\r\\n  interface TEXT\\r\\n);', 'CREATE TABLE `district` (\\r\\n  District_ID INT PRIMARY KEY,\\r\\n  District_name TEXT,\\r\\n  Headquartered_City TEXT,\\r\\n  City_Population REAL,\\r\\n  City_Area REAL\\r\\n);', 'CREATE TABLE `company` (\\r\\n  Company_ID INT PRIMARY KEY,\\r\\n  Rank INT,\\r\\n  Company TEXT,\\r\\n  Headquarters TEXT,\\r\\n  Main_Industry TEXT,\\r\\n  Sales_billion REAL,\\r\\n  Profits_billion REAL,\\r\\n  Assets_billion REAL,\\r\\n  Market_Value REAL\\r\\n);', 'CREATE TABLE `festival_detail` (\\r\\n  Festival_ID INT PRIMARY KEY,\\r\\n  Festival_Name TEXT,\\r\\n  Chair_Name TEXT,\\r\\n  Location TEXT,\\r\\n  Year INT,\\r\\n  Num_of_Audience INT\\r\\n);', 'CREATE TABLE `Participants` (\\r\\n  Participant_ID INTEGER,\\r\\n  Participant_Type_Code CHAR(15),\\r\\n  Participant_Details VARCHAR(255)\\r\\n);', 'CREATE TABLE `manager` (\\r\\n  Manager_ID INT PRIMARY KEY,\\r\\n  Name TEXT,\\r\\n  Country TEXT,\\r\\n  Working_year_starts TEXT,\\r\\n  Age INT,\\r\\n  Level INT\\r\\n);']\n"
     ]
    }
   ],
   "source": [
    "# create_random_slice   \n",
    "import random\n",
    "w = 8\n",
    "create_table_pattern = re.compile(r'CREATE TABLE `[^`]+` \\([^;]+\\);')\n",
    "table_name_group = []\n",
    "test_total = set()\n",
    "count = 0\n",
    "total_table_list = []\n",
    "for piece in schema_slicing:\n",
    "    create_table_statements = create_table_pattern.findall(piece)\n",
    "    for table in create_table_statements:\n",
    "        total_table_list.append(table)\n",
    "print(len(total_table_list))\n",
    "print(total_table_list)"
   ]
  },
  {
   "cell_type": "code",
   "execution_count": 10,
   "id": "85e4a411",
   "metadata": {},
   "outputs": [
    {
     "name": "stdout",
     "output_type": "stream",
     "text": [
      "['CREATE TABLE `Ref_Incident_Type` (\\r\\n  incident_type_code VARCHAR(10) PRIMARY KEY,\\r\\n  incident_type_description VARCHAR(80)\\r\\n);', 'CREATE TABLE `Stay` (\\r\\n  StayID INTEGER,\\r\\n  Patient INTEGER REFERENCES Patient(SSN),\\r\\n  Room INTEGER REFERENCES Room(RoomNumber),\\r\\n  StayStart DATETIME,\\r\\n  StayEnd DATETIME\\r\\n);', 'CREATE TABLE `Medication` (\\r\\n  Code INTEGER,\\r\\n  Name VARCHAR(30),\\r\\n  Brand VARCHAR(30),\\r\\n  Description VARCHAR(30)\\r\\n);', 'CREATE TABLE `CMI_Cross_References` (\\r\\n  cmi_cross_ref_id INTEGER,\\r\\n  master_customer_id INTEGER REFERENCES Customer_Master_Index(master_customer_id),\\r\\n  source_system_code CHAR(15)\\r\\n);', 'CREATE TABLE `country` (\\r\\n  Country_ID INT PRIMARY KEY,\\r\\n  Name TEXT,\\r\\n  Population INT,\\r\\n  Area INT,\\r\\n  Languages TEXT\\r\\n);', 'CREATE TABLE `Affiliated_With` (\\r\\n  Physician INTEGER PRIMARY KEY REFERENCES Physician(EmployeeID),\\r\\n  Department INTEGER PRIMARY KEY REFERENCES Department(DepartmentID),\\r\\n  PrimaryAffiliation BOOLEAN\\r\\n);', 'CREATE TABLE `Ref_Address_Types` (\\r\\n  address_type_code VARCHAR(15) PRIMARY KEY,\\r\\n  address_type_description VARCHAR(80)\\r\\n);', 'CREATE TABLE `Student` (\\r\\n  StuID INTEGER,\\r\\n  LName VARCHAR(12),\\r\\n  Fname VARCHAR(12),\\r\\n  Age INTEGER,\\r\\n  Sex VARCHAR(1),\\r\\n  Major INTEGER,\\r\\n  Advisor INTEGER,\\r\\n  city_code VARCHAR(3)\\r\\n);', 'CREATE TABLE `furniture` (\\r\\n  Furniture_ID INT PRIMARY KEY,\\r\\n  Name TEXT,\\r\\n  Num_of_Component INT,\\r\\n  Market_Rate REAL\\r\\n);', 'CREATE TABLE `Office_locations` (\\r\\n  building_id INT PRIMARY KEY REFERENCES buildings(id),\\r\\n  company_id INT PRIMARY KEY REFERENCES Companies(id),\\r\\n  move_in_year INT\\r\\n);', 'CREATE TABLE `station_company` (\\r\\n  Station_ID INT PRIMARY KEY REFERENCES gas_station(Station_ID),\\r\\n  Company_ID INT PRIMARY KEY REFERENCES company(Company_ID),\\r\\n  Rank_of_the_Year INT\\r\\n);', 'CREATE TABLE `publication` (\\r\\n  Publication_ID INT PRIMARY KEY,\\r\\n  Book_ID INT REFERENCES book(Book_ID),\\r\\n  Publisher TEXT,\\r\\n  Publication_Date TEXT,\\r\\n  Price REAL\\r\\n);', 'CREATE TABLE `Companies` (\\r\\n  id INT PRIMARY KEY,\\r\\n  name TEXT,\\r\\n  Headquarters TEXT,\\r\\n  Industry TEXT,\\r\\n  Sales_billion REAL,\\r\\n  Profits_billion REAL,\\r\\n  Assets_billion REAL,\\r\\n  Market_Value_billion TEXT\\r\\n);', 'CREATE TABLE `Visitors` (\\r\\n  Tourist_ID INTEGER PRIMARY KEY,\\r\\n  Tourist_Details VARCHAR(255)\\r\\n);', 'CREATE TABLE `region` (\\r\\n  Region_ID INT PRIMARY KEY,\\r\\n  Region_name TEXT,\\r\\n  Date TEXT,\\r\\n  Label TEXT,\\r\\n  Format TEXT,\\r\\n  Catalogue TEXT\\r\\n);', 'CREATE TABLE `Staff` (\\r\\n  Staff_ID INTEGER,\\r\\n  Tourist_Attraction_ID INTEGER REFERENCES Tourist_Attractions(Tourist_Attraction_ID),\\r\\n  Name VARCHAR(40),\\r\\n  Other_Details VARCHAR(255)\\r\\n);', 'CREATE TABLE `bridge` (\\r\\n  architect_id INT REFERENCES architect(id),\\r\\n  id INT PRIMARY KEY,\\r\\n  name TEXT,\\r\\n  location TEXT,\\r\\n  length_meters REAL,\\r\\n  length_feet REAL\\r\\n);', 'CREATE TABLE `tweets` (\\r\\n  id bigint(20) PRIMARY KEY,\\r\\n  uid int(11) REFERENCES user_profiles(uid),\\r\\n  text char(140),\\r\\n  createdate datetime\\r\\n);', 'CREATE TABLE `party` (\\r\\n  Party_ID INT PRIMARY KEY,\\r\\n  Minister TEXT,\\r\\n  Took_office TEXT,\\r\\n  Left_office TEXT,\\r\\n  Region_ID INT REFERENCES region(Region_ID),\\r\\n  Party_name TEXT\\r\\n);', 'CREATE TABLE `enzyme` (\\r\\n  id INT PRIMARY KEY,\\r\\n  name TEXT,\\r\\n  Location TEXT,\\r\\n  Product TEXT,\\r\\n  Chromosome TEXT,\\r\\n  OMIM INT,\\r\\n  Porphyria TEXT\\r\\n);', 'CREATE TABLE `Shops` (\\r\\n  Shop_ID INTEGER REFERENCES Tourist_Attractions(Tourist_Attraction_ID),\\r\\n  Shop_Details VARCHAR(255)\\r\\n);', 'CREATE TABLE `Catalog_Contents` (\\r\\n  catalog_entry_id INTEGER,\\r\\n  catalog_level_number INTEGER REFERENCES Catalog_Structure(catalog_level_number),\\r\\n  parent_entry_id INTEGER,\\r\\n  previous_entry_id INTEGER,\\r\\n  next_entry_id INTEGER,\\r\\n  catalog_entry_name VARCHAR(80),\\r\\n  product_stock_number VARCHAR(50),\\r\\n  price_in_dollars DOUBLE,\\r\\n  price_in_euros DOUBLE,\\r\\n  price_in_pounds DOUBLE,\\r\\n  capacity VARCHAR(20),\\r\\n  length VARCHAR(20),\\r\\n  height VARCHAR(20),\\r\\n  width VARCHAR(20)\\r\\n);', 'CREATE TABLE `store` (\\r\\n  Store_ID INT PRIMARY KEY,\\r\\n  Store_Name TEXT,\\r\\n  Type TEXT,\\r\\n  Area_size REAL,\\r\\n  Number_of_product_category REAL,\\r\\n  Ranking INT\\r\\n);', 'CREATE TABLE `university` (\\r\\n  School_ID INT PRIMARY KEY,\\r\\n  School TEXT,\\r\\n  Location TEXT,\\r\\n  Founded REAL,\\r\\n  Affiliation TEXT,\\r\\n  Enrollment REAL,\\r\\n  Nickname TEXT,\\r\\n  Primary_conference TEXT\\r\\n);', 'CREATE TABLE `Institution` (\\r\\n  Institution_id TEXT PRIMARY KEY,\\r\\n  Institution TEXT,\\r\\n  Location TEXT,\\r\\n  Founded REAL,\\r\\n  Type TEXT,\\r\\n  Enrollment INT,\\r\\n  Team TEXT,\\r\\n  Primary_Conference TEXT,\\r\\n  building_id TEXT REFERENCES building(building_id)\\r\\n);', 'CREATE TABLE `Catalog_Structure` (\\r\\n  catalog_level_number INTEGER,\\r\\n  catalog_id INTEGER REFERENCES Catalogs(catalog_id),\\r\\n  catalog_level_name VARCHAR(50)\\r\\n);', 'CREATE TABLE `injury_accident` (\\r\\n  game_id INT REFERENCES game(id),\\r\\n  id INT PRIMARY KEY,\\r\\n  Player TEXT,\\r\\n  Injury TEXT,\\r\\n  Number_of_matches TEXT,\\r\\n  Source TEXT\\r\\n);', 'CREATE TABLE `Detention` (\\r\\n  detention_id INTEGER,\\r\\n  detention_type_code VARCHAR(10) REFERENCES Ref_Detention_Type(detention_type_code),\\r\\n  teacher_id INTEGER REFERENCES Teachers(teacher_id),\\r\\n  datetime_detention_start DATETIME,\\r\\n  datetime_detention_end DATETIME,\\r\\n  detention_summary VARCHAR(255),\\r\\n  other_details VARCHAR(255)\\r\\n);', 'CREATE TABLE `Visits` (\\r\\n  Visit_ID INTEGER,\\r\\n  Tourist_Attraction_ID INTEGER REFERENCES Tourist_Attractions(Tourist_Attraction_ID),\\r\\n  Tourist_ID INTEGER REFERENCES Visitors(Tourist_ID),\\r\\n  Visit_Date DATETIME,\\r\\n  Visit_Details VARCHAR(40)\\r\\n);', 'CREATE TABLE `store_district` (\\r\\n  Store_ID INT PRIMARY KEY REFERENCES store(Store_ID),\\r\\n  District_ID INT REFERENCES district(District_ID)\\r\\n);', 'CREATE TABLE `Events` (\\r\\n  Event_ID INTEGER,\\r\\n  Service_ID INTEGER REFERENCES Services(Service_ID),\\r\\n  Event_Details VARCHAR(255)\\r\\n);', 'CREATE TABLE `Catalog_Contents_Additional_Attributes` (\\r\\n  catalog_entry_id INTEGER REFERENCES Catalog_Contents(catalog_entry_id),\\r\\n  catalog_level_number INTEGER REFERENCES Catalog_Structure(catalog_level_number),\\r\\n  attribute_id INTEGER,\\r\\n  attribute_value VARCHAR(255)\\r\\n);', 'CREATE TABLE `Manufacturers` (\\r\\n  Code INTEGER,\\r\\n  Name VARCHAR(255),\\r\\n  Headquarter VARCHAR(255),\\r\\n  Founder VARCHAR(255),\\r\\n  Revenue REAL\\r\\n);', 'CREATE TABLE `product` (\\r\\n  product_id INT PRIMARY KEY,\\r\\n  product TEXT,\\r\\n  dimensions TEXT,\\r\\n  dpi REAL,\\r\\n  pages_per_minute_color REAL,\\r\\n  max_page_size TEXT,\\r\\n  interface TEXT\\r\\n);', 'CREATE TABLE `Services` (\\r\\n  Service_ID INTEGER,\\r\\n  Service_Type_Code CHAR(15)\\r\\n);', 'CREATE TABLE `Transactions_Lots` (\\r\\n  transaction_id INTEGER REFERENCES Transactions(transaction_id),\\r\\n  lot_id INTEGER REFERENCES Lots(lot_id)\\r\\n);', 'CREATE TABLE `Trained_In` (\\r\\n  Physician INTEGER PRIMARY KEY REFERENCES Physician(EmployeeID),\\r\\n  Treatment INTEGER PRIMARY KEY REFERENCES Procedures(Code),\\r\\n  CertificationDate DATETIME,\\r\\n  CertificationExpires DATETIME\\r\\n);', 'CREATE TABLE `Parking_Fines` (\\r\\n  council_tax_id INTEGER,\\r\\n  cmi_cross_ref_id INTEGER REFERENCES CMI_Cross_References(cmi_cross_ref_id)\\r\\n);', 'CREATE TABLE `Purchases` (\\r\\n  purchase_transaction_id INTEGER REFERENCES Transactions(transaction_id),\\r\\n  purchase_details VARCHAR(255)\\r\\n);', 'CREATE TABLE `Students_in_Detention` (\\r\\n  student_id INTEGER REFERENCES Students(student_id),\\r\\n  detention_id INTEGER REFERENCES Detention(detention_id),\\r\\n  incident_id INTEGER REFERENCES Behavior_Incident(incident_id)\\r\\n);', 'CREATE TABLE `Patient` (\\r\\n  SSN INTEGER,\\r\\n  Name VARCHAR(30),\\r\\n  Address VARCHAR(30),\\r\\n  Phone VARCHAR(30),\\r\\n  InsuranceID INTEGER,\\r\\n  PCP INTEGER REFERENCES Physician(EmployeeID)\\r\\n);', 'CREATE TABLE `Procedures` (\\r\\n  Code INTEGER,\\r\\n  Name VARCHAR(30),\\r\\n  Cost REAL\\r\\n);', 'CREATE TABLE `Web_client_accelerator` (\\r\\n  id INT PRIMARY KEY,\\r\\n  name TEXT,\\r\\n  Operating_system TEXT,\\r\\n  Client TEXT,\\r\\n  Connection TEXT\\r\\n);', 'CREATE TABLE `Participants_in_Events` (\\r\\n  Event_ID INTEGER PRIMARY KEY REFERENCES Events(Event_ID),\\r\\n  Participant_ID INTEGER PRIMARY KEY REFERENCES Participants(Participant_ID)\\r\\n);', 'CREATE TABLE `Benefits_Overpayments` (\\r\\n  council_tax_id INTEGER,\\r\\n  cmi_cross_ref_id INTEGER REFERENCES CMI_Cross_References(cmi_cross_ref_id)\\r\\n);', 'CREATE TABLE `Plays_Games` (\\r\\n  StuID INTEGER REFERENCES Student(StuID),\\r\\n  GameID INTEGER REFERENCES Video_Games(GameID),\\r\\n  Hours_Played INTEGER\\r\\n);', 'CREATE TABLE `store_product` (\\r\\n  Store_ID INT PRIMARY KEY REFERENCES store(Store_ID),\\r\\n  Product_ID INT PRIMARY KEY REFERENCES product(Product_ID)\\r\\n);', 'CREATE TABLE `train` (\\r\\n  Train_ID INT PRIMARY KEY,\\r\\n  Train_Num TEXT,\\r\\n  Name TEXT,\\r\\n  From TEXT,\\r\\n  Arrival TEXT,\\r\\n  Railway_ID INT REFERENCES railway(Railway_ID)\\r\\n);', 'CREATE TABLE `Students` (\\r\\n  student_id INTEGER,\\r\\n  address_id INTEGER REFERENCES Addresses(address_id),\\r\\n  first_name VARCHAR(80),\\r\\n  middle_name VARCHAR(40),\\r\\n  last_name VARCHAR(40),\\r\\n  cell_mobile_number VARCHAR(40),\\r\\n  email_address VARCHAR(40),\\r\\n  date_first_rental DATETIME,\\r\\n  date_left_university DATETIME,\\r\\n  other_student_details VARCHAR(255)\\r\\n);', 'CREATE TABLE `district` (\\r\\n  District_ID INT PRIMARY KEY,\\r\\n  District_name TEXT,\\r\\n  Headquartered_City TEXT,\\r\\n  City_Population REAL,\\r\\n  City_Area REAL\\r\\n);', 'CREATE TABLE `Museums` (\\r\\n  Museum_ID INTEGER REFERENCES Tourist_Attractions(Tourist_Attraction_ID),\\r\\n  Museum_Details VARCHAR(255)\\r\\n);', 'CREATE TABLE `mill` (\\r\\n  architect_id INT REFERENCES architect(id),\\r\\n  id INT PRIMARY KEY,\\r\\n  location TEXT,\\r\\n  name TEXT,\\r\\n  type TEXT,\\r\\n  built_year INT,\\r\\n  notes TEXT\\r\\n);', 'CREATE TABLE `checkin` (\\r\\n  cid INT PRIMARY KEY,\\r\\n  business_id TEXT REFERENCES business(business_id),\\r\\n  count INT,\\r\\n  day TEXT\\r\\n);', 'CREATE TABLE `Attribute_Definitions` (\\r\\n  attribute_id INTEGER,\\r\\n  attribute_name VARCHAR(30),\\r\\n  attribute_data_type VARCHAR(10)\\r\\n);', 'CREATE TABLE `journalist` (\\r\\n  journalist_ID INT PRIMARY KEY,\\r\\n  Name TEXT,\\r\\n  Nationality TEXT,\\r\\n  Age TEXT,\\r\\n  Years_working INT\\r\\n);', 'CREATE TABLE `broadcast` (\\r\\n  Channel_ID INT PRIMARY KEY REFERENCES channel(Channel_ID),\\r\\n  Program_ID INT PRIMARY KEY REFERENCES program(Program_ID),\\r\\n  Time_of_day TEXT\\r\\n);', 'CREATE TABLE `On_Call` (\\r\\n  Nurse INTEGER PRIMARY KEY REFERENCES Nurse(EmployeeID),\\r\\n  BlockFloor INTEGER PRIMARY KEY REFERENCES Block(BlockFloor),\\r\\n  BlockCode INTEGER PRIMARY KEY REFERENCES Block(BlockCode),\\r\\n  OnCallStart DATETIME PRIMARY KEY,\\r\\n  OnCallEnd DATETIME PRIMARY KEY\\r\\n);', 'CREATE TABLE `Theme_Parks` (\\r\\n  Theme_Park_ID INTEGER REFERENCES Tourist_Attractions(Tourist_Attraction_ID),\\r\\n  Theme_Park_Details VARCHAR(255)\\r\\n);', 'CREATE TABLE `Lots` (\\r\\n  lot_id INTEGER,\\r\\n  investor_id INTEGER REFERENCES Investors(investor_id),\\r\\n  lot_details VARCHAR(255)\\r\\n);', 'CREATE TABLE `Apartments` (\\r\\n  apt_id INTEGER PRIMARY KEY,\\r\\n  building_id INTEGER REFERENCES Apartment_Buildings(building_id),\\r\\n  apt_type_code CHAR(15),\\r\\n  apt_number CHAR(10),\\r\\n  bathroom_count INTEGER,\\r\\n  bedroom_count INTEGER,\\r\\n  room_count CHAR(5)\\r\\n);', 'CREATE TABLE `Person` (\\r\\n  name varchar(20) PRIMARY KEY,\\r\\n  age INTEGER,\\r\\n  city TEXT,\\r\\n  gender TEXT,\\r\\n  job TEXT\\r\\n);', 'CREATE TABLE `Royal_Family` (\\r\\n  Royal_Family_ID INTEGER REFERENCES Tourist_Attractions(Tourist_Attraction_ID),\\r\\n  Royal_Family_Details VARCHAR(255)\\r\\n);', 'CREATE TABLE `gas_station` (\\r\\n  Station_ID INT PRIMARY KEY,\\r\\n  Open_Year INT,\\r\\n  Location TEXT,\\r\\n  Manager_Name TEXT,\\r\\n  Vice_Manager_Name TEXT,\\r\\n  Representative_Name TEXT\\r\\n);', 'CREATE TABLE `Teachers` (\\r\\n  teacher_id INTEGER,\\r\\n  address_id INTEGER REFERENCES Addresses(address_id),\\r\\n  first_name VARCHAR(80),\\r\\n  middle_name VARCHAR(80),\\r\\n  last_name VARCHAR(80),\\r\\n  gender VARCHAR(1),\\r\\n  cell_mobile_number VARCHAR(40),\\r\\n  email_address VARCHAR(40),\\r\\n  other_details VARCHAR(255)\\r\\n);', 'CREATE TABLE `Photos` (\\r\\n  Photo_ID INTEGER,\\r\\n  Tourist_Attraction_ID INTEGER REFERENCES Tourist_Attractions(Tourist_Attraction_ID),\\r\\n  Name VARCHAR(255),\\r\\n  Description VARCHAR(255),\\r\\n  Filename VARCHAR(255),\\r\\n  Other_Details VARCHAR(255)\\r\\n);', 'CREATE TABLE `Apartment_Buildings` (\\r\\n  building_id INTEGER PRIMARY KEY,\\r\\n  building_short_name CHAR(15),\\r\\n  building_full_name VARCHAR(80),\\r\\n  building_description VARCHAR(255),\\r\\n  building_address VARCHAR(255),\\r\\n  building_manager VARCHAR(50),\\r\\n  building_phone VARCHAR(80)\\r\\n);', 'CREATE TABLE `Papers` (\\r\\n  paperID INTEGER,\\r\\n  title TEXT\\r\\n);', 'CREATE TABLE `buildings` (\\r\\n  id INT PRIMARY KEY,\\r\\n  name TEXT,\\r\\n  City TEXT,\\r\\n  Height INT,\\r\\n  Stories INT,\\r\\n  Status TEXT\\r\\n);', 'CREATE TABLE `nomination` (\\r\\n  Artwork_ID INT PRIMARY KEY REFERENCES artwork(Artwork_ID),\\r\\n  Festival_ID INT PRIMARY KEY REFERENCES festival_detail(Festival_ID),\\r\\n  Result TEXT\\r\\n);', 'CREATE TABLE `Sales` (\\r\\n  sales_transaction_id INTEGER REFERENCES Transactions(transaction_id),\\r\\n  sales_details VARCHAR(255)\\r\\n);', 'CREATE TABLE `review` (\\r\\n  rid INT PRIMARY KEY,\\r\\n  business_id TEXT REFERENCES business(business_id),\\r\\n  user_id TEXT REFERENCES user(user_id),\\r\\n  rating REAL,\\r\\n  text TEXT,\\r\\n  year INT,\\r\\n  month TEXT\\r\\n);', 'CREATE TABLE `user` (\\r\\n  uid INT PRIMARY KEY,\\r\\n  user_id TEXT,\\r\\n  name TEXT\\r\\n);', 'CREATE TABLE `faculty` (\\r\\n  Campus INTEGER REFERENCES Campuses(Id),\\r\\n  Year INTEGER,\\r\\n  Faculty REAL\\r\\n);', 'CREATE TABLE `Department` (\\r\\n  DepartmentID INTEGER,\\r\\n  Name VARCHAR(30),\\r\\n  Head INTEGER REFERENCES Physician(EmployeeID)\\r\\n);', 'CREATE TABLE `Locations` (\\r\\n  Location_ID INTEGER,\\r\\n  Location_Name VARCHAR(255),\\r\\n  Address VARCHAR(255),\\r\\n  Other_Details VARCHAR(255)\\r\\n);', 'CREATE TABLE `SportsInfo` (\\r\\n  StuID INTEGER REFERENCES Student(StuID),\\r\\n  SportName VARCHAR(32),\\r\\n  HoursPerWeek INTEGER,\\r\\n  GamesPlayed INTEGER,\\r\\n  OnScholarship VARCHAR(1)\\r\\n);', 'CREATE TABLE `market` (\\r\\n  Market_ID INT PRIMARY KEY,\\r\\n  Country TEXT,\\r\\n  Number_cities INT\\r\\n);', 'CREATE TABLE `weather` (\\r\\n  date TEXT,\\r\\n  max_temperature_f INTEGER,\\r\\n  mean_temperature_f INTEGER,\\r\\n  min_temperature_f INTEGER,\\r\\n  max_dew_point_f INTEGER,\\r\\n  mean_dew_point_f INTEGER,\\r\\n  min_dew_point_f INTEGER,\\r\\n  max_humidity INTEGER,\\r\\n  mean_humidity INTEGER,\\r\\n  min_humidity INTEGER,\\r\\n  max_sea_level_pressure_inches NUMERIC,\\r\\n  mean_sea_level_pressure_inches NUMERIC,\\r\\n  min_sea_level_pressure_inches NUMERIC,\\r\\n  max_visibility_miles INTEGER,\\r\\n  mean_visibility_miles INTEGER,\\r\\n  min_visibility_miles INTEGER,\\r\\n  max_wind_Speed_mph INTEGER,\\r\\n  mean_wind_speed_mph INTEGER,\\r\\n  max_gust_speed_mph INTEGER,\\r\\n  precipitation_inches INTEGER,\\r\\n  cloud_cover INTEGER,\\r\\n  events TEXT,\\r\\n  wind_dir_degrees INTEGER,\\r\\n  zip_code INTEGER\\r\\n);', 'CREATE TABLE `Catalogs` (\\r\\n  catalog_id INTEGER,\\r\\n  catalog_name VARCHAR(50),\\r\\n  catalog_publisher VARCHAR(80),\\r\\n  date_of_publication DATETIME,\\r\\n  date_of_latest_revision DATETIME\\r\\n);', 'CREATE TABLE `Participants` (\\r\\n  Participant_ID INTEGER,\\r\\n  Participant_Type_Code CHAR(15),\\r\\n  Participant_Details VARCHAR(255)\\r\\n);', 'CREATE TABLE `book` (\\r\\n  Book_ID INT PRIMARY KEY,\\r\\n  Title TEXT,\\r\\n  Issues REAL,\\r\\n  Writer TEXT\\r\\n);', 'CREATE TABLE `news_report` (\\r\\n  journalist_ID INT PRIMARY KEY REFERENCES journalist(journalist_ID),\\r\\n  Event_ID INT PRIMARY KEY REFERENCES event(Event_ID),\\r\\n  Work_Type TEXT\\r\\n);', 'CREATE TABLE `Authors` (\\r\\n  authID INTEGER,\\r\\n  lname TEXT,\\r\\n  fname TEXT\\r\\n);', 'CREATE TABLE `Apartment_Facilities` (\\r\\n  apt_id INTEGER PRIMARY KEY REFERENCES Apartments(apt_id),\\r\\n  facility_code CHAR(15) PRIMARY KEY\\r\\n);', 'CREATE TABLE `browser` (\\r\\n  id INT PRIMARY KEY,\\r\\n  name TEXT,\\r\\n  market_share REAL\\r\\n);', 'CREATE TABLE `PersonFriend` (\\r\\n  name varchar(20) REFERENCES Person(name),\\r\\n  friend varchar(20) REFERENCES Person(name),\\r\\n  year INTEGER\\r\\n);', 'CREATE TABLE `protein` (\\r\\n  common_name TEXT PRIMARY KEY,\\r\\n  protein_name TEXT,\\r\\n  divergence_from_human_lineage REAL,\\r\\n  accession_number TEXT,\\r\\n  sequence_length REAL,\\r\\n  sequence_identity_to_human_protein TEXT,\\r\\n  Institution_id TEXT REFERENCES Institution(Institution_id)\\r\\n);', 'CREATE TABLE `party_events` (\\r\\n  Event_ID INT PRIMARY KEY,\\r\\n  Event_Name TEXT,\\r\\n  Party_ID INT REFERENCES party(Party_ID),\\r\\n  Member_in_charge_ID INT REFERENCES member(Member_ID)\\r\\n);', 'CREATE TABLE `wrestler` (\\r\\n  Wrestler_ID INT PRIMARY KEY,\\r\\n  Name TEXT,\\r\\n  Reign TEXT,\\r\\n  Days_held TEXT,\\r\\n  Location TEXT,\\r\\n  Event TEXT\\r\\n);', 'CREATE TABLE `medicine_enzyme_interaction` (\\r\\n  enzyme_id INT PRIMARY KEY REFERENCES enzyme(id),\\r\\n  medicine_id INT PRIMARY KEY REFERENCES medicine(id),\\r\\n  interaction_type TEXT\\r\\n);', 'CREATE TABLE `basketball_match` (\\r\\n  Team_ID INT PRIMARY KEY,\\r\\n  School_ID INT REFERENCES university(School_ID),\\r\\n  Team_Name TEXT,\\r\\n  ACC_Regular_Season TEXT,\\r\\n  ACC_Percent TEXT,\\r\\n  ACC_Home TEXT,\\r\\n  ACC_Road TEXT,\\r\\n  All_Games TEXT,\\r\\n  All_Games_Percent INT,\\r\\n  All_Home TEXT,\\r\\n  All_Road TEXT,\\r\\n  All_Neutral TEXT\\r\\n);', 'CREATE TABLE `Ref_Attraction_Types` (\\r\\n  Attraction_Type_Code CHAR(15) PRIMARY KEY,\\r\\n  Attraction_Type_Description VARCHAR(255)\\r\\n);', 'CREATE TABLE `follows` (\\r\\n  f1 int(11) PRIMARY KEY REFERENCES user_profiles(uid),\\r\\n  f2 int(11) PRIMARY KEY REFERENCES user_profiles(uid)\\r\\n);', 'CREATE TABLE `Video_Games` (\\r\\n  GameID INTEGER,\\r\\n  GName VARCHAR(40),\\r\\n  GType VARCHAR(40)\\r\\n);', 'CREATE TABLE `degrees` (\\r\\n  Year INTEGER PRIMARY KEY,\\r\\n  Campus INTEGER PRIMARY KEY REFERENCES Campuses(Id),\\r\\n  Degrees INTEGER\\r\\n);', 'CREATE TABLE `Assessment_Notes` (\\r\\n  notes_id INTEGER,\\r\\n  student_id INTEGER REFERENCES Students(student_id),\\r\\n  teacher_id INTEGER REFERENCES Teachers(teacher_id),\\r\\n  date_of_notes DATETIME,\\r\\n  text_of_notes VARCHAR(255),\\r\\n  other_details VARCHAR(255)\\r\\n);', 'CREATE TABLE `station` (\\r\\n  id INTEGER,\\r\\n  name TEXT,\\r\\n  lat NUMERIC,\\r\\n  long NUMERIC,\\r\\n  dock_count INTEGER,\\r\\n  city TEXT,\\r\\n  installation_date TEXT\\r\\n);', 'CREATE TABLE `railway` (\\r\\n  Railway_ID INT PRIMARY KEY,\\r\\n  Railway TEXT,\\r\\n  Builder TEXT,\\r\\n  Built TEXT,\\r\\n  Wheels TEXT,\\r\\n  Location TEXT,\\r\\n  ObjectNumber TEXT\\r\\n);', 'CREATE TABLE `routes` (\\r\\n  rid INTEGER,\\r\\n  dst_apid INTEGER REFERENCES airports(apid),\\r\\n  dst_ap varchar(4),\\r\\n  src_apid bigint REFERENCES airports(apid),\\r\\n  src_ap varchar(4),\\r\\n  alid bigint REFERENCES airlines(alid),\\r\\n  airline varchar(4),\\r\\n  codeshare TEXT\\r\\n);', 'CREATE TABLE `stadium` (\\r\\n  id INT PRIMARY KEY,\\r\\n  name TEXT,\\r\\n  Home_Games INT,\\r\\n  Average_Attendance REAL,\\r\\n  Total_Attendance REAL,\\r\\n  Capacity_Percentage REAL\\r\\n);', 'CREATE TABLE `Tourist_Attraction_Features` (\\r\\n  Tourist_Attraction_ID INTEGER PRIMARY KEY REFERENCES Tourist_Attractions(Tourist_Attraction_ID),\\r\\n  Feature_ID INTEGER PRIMARY KEY REFERENCES Features(Feature_ID)\\r\\n);', 'CREATE TABLE `Electoral_Register` (\\r\\n  electoral_register_id INTEGER,\\r\\n  cmi_cross_ref_id INTEGER REFERENCES CMI_Cross_References(cmi_cross_ref_id)\\r\\n);', 'CREATE TABLE `LOCATION` (\\r\\n  RESTAURANT_ID INT PRIMARY KEY REFERENCES RESTAURANT(RESTAURANT_ID),\\r\\n  HOUSE_NUMBER INT,\\r\\n  STREET_NAME TEXT,\\r\\n  CITY_NAME TEXT REFERENCES GEOGRAPHIC(CITY_NAME)\\r\\n);', 'CREATE TABLE `Block` (\\r\\n  BlockFloor INTEGER PRIMARY KEY,\\r\\n  BlockCode INTEGER PRIMARY KEY\\r\\n);', 'CREATE TABLE `program` (\\r\\n  Program_ID INT PRIMARY KEY,\\r\\n  Name TEXT,\\r\\n  Origin TEXT,\\r\\n  Launch REAL,\\r\\n  Owner TEXT\\r\\n);', 'CREATE TABLE `game` (\\r\\n  stadium_id INT REFERENCES stadium(id),\\r\\n  id INT PRIMARY KEY,\\r\\n  Season INT,\\r\\n  Date TEXT,\\r\\n  Home_team TEXT,\\r\\n  Away_team TEXT,\\r\\n  Score TEXT,\\r\\n  Competition TEXT\\r\\n);', 'CREATE TABLE `Street_Markets` (\\r\\n  Market_ID INTEGER REFERENCES Tourist_Attractions(Tourist_Attraction_ID),\\r\\n  Market_Details VARCHAR(255)\\r\\n);', 'CREATE TABLE `Customer_Master_Index` (\\r\\n  master_customer_id INTEGER,\\r\\n  cmi_details VARCHAR(255)\\r\\n);', 'CREATE TABLE `building` (\\r\\n  building_id TEXT PRIMARY KEY,\\r\\n  Name TEXT,\\r\\n  Street_address TEXT,\\r\\n  Years_as_tallest TEXT,\\r\\n  Height_feet INT,\\r\\n  Floors INT\\r\\n);', 'CREATE TABLE `artwork` (\\r\\n  Artwork_ID INT PRIMARY KEY,\\r\\n  Type TEXT,\\r\\n  Name TEXT\\r\\n);', 'CREATE TABLE `furniture_manufacte` (\\r\\n  Manufacturer_ID INT PRIMARY KEY REFERENCES manufacturer(Manufacturer_ID),\\r\\n  Furniture_ID INT PRIMARY KEY REFERENCES furniture(Furniture_ID),\\r\\n  Price_in_Dollar REAL\\r\\n);', 'CREATE TABLE `Ref_Detention_Type` (\\r\\n  detention_type_code VARCHAR(10) PRIMARY KEY,\\r\\n  detention_type_description VARCHAR(80)\\r\\n);', 'CREATE TABLE `user_profiles` (\\r\\n  uid int(11) PRIMARY KEY,\\r\\n  name varchar(255),\\r\\n  email varchar(255),\\r\\n  partitionid int(11),\\r\\n  followers int(11)\\r\\n);', 'CREATE TABLE `actor` (\\r\\n  Actor_ID INT PRIMARY KEY,\\r\\n  Name TEXT,\\r\\n  Musical_ID INT REFERENCES actor(Actor_ID),\\r\\n  Character TEXT,\\r\\n  Duration TEXT,\\r\\n  age INT\\r\\n);', 'CREATE TABLE `event` (\\r\\n  Event_ID INT PRIMARY KEY,\\r\\n  Date TEXT,\\r\\n  Venue TEXT,\\r\\n  Name TEXT,\\r\\n  Event_Attendance INT\\r\\n);', 'CREATE TABLE `discipline_enrollments` (\\r\\n  Campus INTEGER PRIMARY KEY REFERENCES Campuses(Id),\\r\\n  Discipline INTEGER PRIMARY KEY,\\r\\n  Year INTEGER,\\r\\n  Undergraduate INTEGER,\\r\\n  Graduate INTEGER\\r\\n);', 'CREATE TABLE `architect` (\\r\\n  id TEXT PRIMARY KEY,\\r\\n  name TEXT,\\r\\n  nationality TEXT,\\r\\n  gender TEXT\\r\\n);', 'CREATE TABLE `Transactions` (\\r\\n  transaction_id INTEGER,\\r\\n  investor_id INTEGER REFERENCES Investors(investor_id),\\r\\n  transaction_type_code VARCHAR(10) REFERENCES Ref_Transaction_Types(transaction_type_code),\\r\\n  date_of_transaction DATETIME,\\r\\n  amount_of_transaction DECIMAL(19,4),\\r\\n  share_count VARCHAR(40),\\r\\n  other_details VARCHAR(255)\\r\\n);', 'CREATE TABLE `airports` (\\r\\n  apid INTEGER,\\r\\n  name TEXT,\\r\\n  city TEXT,\\r\\n  country TEXT,\\r\\n  x REAL,\\r\\n  y REAL,\\r\\n  elevation bigint,\\r\\n  iata character varchar(3),\\r\\n  icao character varchar(4)\\r\\n);', 'CREATE TABLE `broadcast_share` (\\r\\n  Channel_ID INT PRIMARY KEY REFERENCES channel(Channel_ID),\\r\\n  Program_ID INT PRIMARY KEY REFERENCES program(Program_ID),\\r\\n  Date TEXT,\\r\\n  Share_in_percent REAL\\r\\n);', 'CREATE TABLE `Council_Tax` (\\r\\n  council_tax_id INTEGER,\\r\\n  cmi_cross_ref_id INTEGER REFERENCES CMI_Cross_References(cmi_cross_ref_id)\\r\\n);', 'CREATE TABLE `GEOGRAPHIC` (\\r\\n  CITY_NAME TEXT PRIMARY KEY,\\r\\n  COUNTY TEXT,\\r\\n  REGION TEXT\\r\\n);', 'CREATE TABLE `RESTAURANT` (\\r\\n  ID INT PRIMARY KEY,\\r\\n  NAME TEXT,\\r\\n  FOOD_TYPE TEXT,\\r\\n  CITY_NAME TEXT REFERENCES GEOGRAPHIC(CITY_NAME),\\r\\n  RATING REAL\\r\\n);', 'CREATE TABLE `Apartment_Bookings` (\\r\\n  apt_booking_id INTEGER PRIMARY KEY,\\r\\n  apt_id INTEGER REFERENCES Apartments(apt_id),\\r\\n  guest_id INTEGER REFERENCES Guests(guest_id),\\r\\n  booking_status_code CHAR(15),\\r\\n  booking_start_date DATETIME,\\r\\n  booking_end_date DATETIME\\r\\n);', 'CREATE TABLE `Student_Addresses` (\\r\\n  student_id INTEGER REFERENCES Students(student_id),\\r\\n  address_id INTEGER REFERENCES Addresses(address_id),\\r\\n  date_address_from DATETIME,\\r\\n  date_address_to DATETIME,\\r\\n  monthly_rental DECIMAL(19,4),\\r\\n  other_details VARCHAR(255)\\r\\n);', 'CREATE TABLE `company` (\\r\\n  Company_ID INT PRIMARY KEY,\\r\\n  Rank INT,\\r\\n  Company TEXT,\\r\\n  Headquarters TEXT,\\r\\n  Main_Industry TEXT,\\r\\n  Sales_billion REAL,\\r\\n  Profits_billion REAL,\\r\\n  Assets_billion REAL,\\r\\n  Market_Value REAL\\r\\n);', 'CREATE TABLE `Hotels` (\\r\\n  hotel_id INTEGER,\\r\\n  star_rating_code CHAR(15) REFERENCES Ref_Hotel_Star_Ratings(star_rating_code),\\r\\n  pets_allowed_yn CHAR(1),\\r\\n  price_range REAL,\\r\\n  other_hotel_details VARCHAR(255)\\r\\n);', 'CREATE TABLE `Authorship` (\\r\\n  authID INTEGER PRIMARY KEY REFERENCES Authors(authID),\\r\\n  instID INTEGER PRIMARY KEY REFERENCES Inst(instID),\\r\\n  paperID INTEGER PRIMARY KEY REFERENCES Papers(paperID),\\r\\n  authOrder INTEGER\\r\\n);', 'CREATE TABLE `Addresses` (\\r\\n  address_id INTEGER,\\r\\n  line_1 VARCHAR(120),\\r\\n  line_2 VARCHAR(120),\\r\\n  line_3 VARCHAR(120),\\r\\n  city VARCHAR(80),\\r\\n  zip_postcode VARCHAR(20),\\r\\n  state_province_county VARCHAR(50),\\r\\n  country VARCHAR(50),\\r\\n  other_address_details VARCHAR(255)\\r\\n);', 'CREATE TABLE `Rent_Arrears` (\\r\\n  council_tax_id INTEGER,\\r\\n  cmi_cross_ref_id INTEGER REFERENCES CMI_Cross_References(cmi_cross_ref_id)\\r\\n);', 'CREATE TABLE `Tourist_Attractions` (\\r\\n  Tourist_Attraction_ID INTEGER,\\r\\n  Attraction_Type_Code CHAR(15) REFERENCES Ref_Attraction_Types(Attraction_Type_Code),\\r\\n  Location_ID INTEGER REFERENCES Locations(Location_ID),\\r\\n  How_to_Get_There VARCHAR(255),\\r\\n  Name VARCHAR(255),\\r\\n  Description VARCHAR(255),\\r\\n  Opening_Hours VARCHAR(255),\\r\\n  Other_Details VARCHAR(255)\\r\\n);', 'CREATE TABLE `member` (\\r\\n  Member_ID INT PRIMARY KEY,\\r\\n  Member_Name TEXT,\\r\\n  Party_ID TEXT REFERENCES party(Party_ID),\\r\\n  In_office TEXT\\r\\n);', 'CREATE TABLE `csu_fees` (\\r\\n  Campus INTEGER REFERENCES Campuses(Id),\\r\\n  Year INTEGER,\\r\\n  CampusFee INTEGER\\r\\n);', 'CREATE TABLE `enrollments` (\\r\\n  Campus INTEGER PRIMARY KEY REFERENCES Campuses(Id),\\r\\n  Year INTEGER PRIMARY KEY,\\r\\n  TotalEnrollment_AY INTEGER,\\r\\n  FTE_AY INTEGER\\r\\n);', 'CREATE TABLE `category` (\\r\\n  id INT PRIMARY KEY,\\r\\n  business_id TEXT REFERENCES business(business_id),\\r\\n  category_name TEXT\\r\\n);', 'CREATE TABLE `manufacturer` (\\r\\n  Manufacturer_ID INT PRIMARY KEY,\\r\\n  Open_Year REAL,\\r\\n  Name TEXT,\\r\\n  Num_of_Factories INT,\\r\\n  Num_of_Shops INT\\r\\n);', 'CREATE TABLE `trip` (\\r\\n  id INTEGER,\\r\\n  duration INTEGER,\\r\\n  start_date TEXT,\\r\\n  start_station_name TEXT,\\r\\n  start_station_id INTEGER,\\r\\n  end_date TEXT,\\r\\n  end_station_name TEXT,\\r\\n  end_station_id INTEGER,\\r\\n  bike_id INTEGER,\\r\\n  subscription_type TEXT,\\r\\n  zip_code INTEGER\\r\\n);', 'CREATE TABLE `Guests` (\\r\\n  guest_id INTEGER PRIMARY KEY,\\r\\n  gender_code CHAR(1),\\r\\n  guest_first_name VARCHAR(80),\\r\\n  guest_last_name VARCHAR(80),\\r\\n  date_of_birth DATETIME\\r\\n);', 'CREATE TABLE `status` (\\r\\n  station_id INTEGER REFERENCES station(id),\\r\\n  bikes_available INTEGER,\\r\\n  docks_available INTEGER,\\r\\n  time TEXT\\r\\n);', 'CREATE TABLE `Ref_Transaction_Types` (\\r\\n  transaction_type_code VARCHAR(10) PRIMARY KEY,\\r\\n  transaction_type_description VARCHAR(80)\\r\\n);', 'CREATE TABLE `film` (\\r\\n  Film_ID INT PRIMARY KEY,\\r\\n  Title TEXT,\\r\\n  Studio TEXT,\\r\\n  Director TEXT,\\r\\n  Gross_in_dollar INT\\r\\n);', 'CREATE TABLE `Features` (\\r\\n  Feature_ID INTEGER,\\r\\n  Feature_Details VARCHAR(255)\\r\\n);', 'CREATE TABLE `Campuses` (\\r\\n  Id INTEGER,\\r\\n  Campus TEXT,\\r\\n  Location TEXT,\\r\\n  County TEXT,\\r\\n  Year INTEGER\\r\\n);', 'CREATE TABLE `Inst` (\\r\\n  instID INTEGER,\\r\\n  name TEXT,\\r\\n  country TEXT\\r\\n);', 'CREATE TABLE `film_market_estimation` (\\r\\n  Estimation_ID INT PRIMARY KEY,\\r\\n  Low_Estimate REAL,\\r\\n  High_Estimate REAL,\\r\\n  Film_ID INT REFERENCES film(Film_ID),\\r\\n  Type TEXT,\\r\\n  Market_ID INT REFERENCES market(Market_ID),\\r\\n  Year INT\\r\\n);', 'CREATE TABLE `Products` (\\r\\n  Code INTEGER,\\r\\n  Name VARCHAR(255),\\r\\n  Price DECIMAL,\\r\\n  Manufacturer INTEGER REFERENCES Manufacturers(Code)\\r\\n);', 'CREATE TABLE `Investors` (\\r\\n  investor_id INTEGER,\\r\\n  Investor_details VARCHAR(255)\\r\\n);', 'CREATE TABLE `Business_Rates` (\\r\\n  business_rates_id INTEGER,\\r\\n  cmi_cross_ref_id INTEGER REFERENCES CMI_Cross_References(cmi_cross_ref_id)\\r\\n);', 'CREATE TABLE `Appointment` (\\r\\n  AppointmentID INTEGER,\\r\\n  Patient INTEGER REFERENCES Patient(SSN),\\r\\n  PrepNurse INTEGER REFERENCES Nurse(EmployeeID),\\r\\n  Physician INTEGER REFERENCES Physician(EmployeeID),\\r\\n  Start DATETIME,\\r\\n  End DATETIME,\\r\\n  ExaminationRoom TEXT\\r\\n);', 'CREATE TABLE `View_Unit_Status` (\\r\\n  apt_id INTEGER REFERENCES Apartments(apt_id),\\r\\n  apt_booking_id INTEGER REFERENCES Apartment_Bookings(apt_booking_id),\\r\\n  status_date DATETIME PRIMARY KEY,\\r\\n  available_yn BIT\\r\\n);', 'CREATE TABLE `manager` (\\r\\n  Manager_ID INT PRIMARY KEY,\\r\\n  Name TEXT,\\r\\n  Country TEXT,\\r\\n  Working_year_starts TEXT,\\r\\n  Age INT,\\r\\n  Level INT\\r\\n);', 'CREATE TABLE `Physician` (\\r\\n  EmployeeID INTEGER,\\r\\n  Name VARCHAR(30),\\r\\n  Position VARCHAR(30),\\r\\n  SSN INTEGER\\r\\n);', 'CREATE TABLE `musical` (\\r\\n  Musical_ID INT PRIMARY KEY,\\r\\n  Name TEXT,\\r\\n  Year INT,\\r\\n  Award TEXT,\\r\\n  Category TEXT,\\r\\n  Nominee TEXT,\\r\\n  Result TEXT\\r\\n);', 'CREATE TABLE `festival_detail` (\\r\\n  Festival_ID INT PRIMARY KEY,\\r\\n  Festival_Name TEXT,\\r\\n  Chair_Name TEXT,\\r\\n  Location TEXT,\\r\\n  Year INT,\\r\\n  Num_of_Audience INT\\r\\n);', 'CREATE TABLE `roller_coaster` (\\r\\n  Roller_Coaster_ID INT PRIMARY KEY,\\r\\n  Name TEXT,\\r\\n  Park TEXT,\\r\\n  Country_ID INT REFERENCES country(Country_ID),\\r\\n  Length REAL,\\r\\n  Height REAL,\\r\\n  Speed TEXT,\\r\\n  Opened TEXT,\\r\\n  Status TEXT\\r\\n);', 'CREATE TABLE `Room` (\\r\\n  RoomNumber INTEGER,\\r\\n  RoomType VARCHAR(30),\\r\\n  BlockFloor INTEGER REFERENCES Block(BlockFloor),\\r\\n  BlockCode INTEGER REFERENCES Block(BlockCode),\\r\\n  Unavailable BOOLEAN\\r\\n);', 'CREATE TABLE `Nurse` (\\r\\n  EmployeeID INTEGER,\\r\\n  Name VARCHAR(30),\\r\\n  Position VARCHAR(30),\\r\\n  Registered BOOLEAN,\\r\\n  SSN INTEGER\\r\\n);', 'CREATE TABLE `business` (\\r\\n  bid INT PRIMARY KEY,\\r\\n  business_id TEXT,\\r\\n  name TEXT,\\r\\n  full_address TEXT,\\r\\n  city TEXT,\\r\\n  latitude TEXT,\\r\\n  longitude TEXT,\\r\\n  review_count INT,\\r\\n  is_open INT,\\r\\n  rating REAL,\\r\\n  state TEXT\\r\\n);', 'CREATE TABLE `people` (\\r\\n  People_ID INT PRIMARY KEY,\\r\\n  Name TEXT,\\r\\n  Height REAL,\\r\\n  Weight REAL,\\r\\n  Date_of_Birth TEXT\\r\\n);', 'CREATE TABLE `Ref_Hotel_Star_Ratings` (\\r\\n  star_rating_code CHAR(15) PRIMARY KEY,\\r\\n  star_rating_description VARCHAR(80)\\r\\n);', 'CREATE TABLE `channel` (\\r\\n  Channel_ID INT PRIMARY KEY,\\r\\n  Name TEXT,\\r\\n  Owner TEXT,\\r\\n  Share_in_percent REAL,\\r\\n  Rating_in_percent REAL\\r\\n);', 'CREATE TABLE `airlines` (\\r\\n  alid INTEGER,\\r\\n  name TEXT,\\r\\n  iata varchar(2),\\r\\n  icao varchar(3),\\r\\n  callsign TEXT,\\r\\n  country TEXT,\\r\\n  active varchar(2)\\r\\n);', 'CREATE TABLE `Elimination` (\\r\\n  Elimination_ID TEXT PRIMARY KEY,\\r\\n  Wrestler_ID TEXT REFERENCES wrestler(Wrestler_ID),\\r\\n  Team TEXT,\\r\\n  Eliminated_By TEXT,\\r\\n  Elimination_Move TEXT,\\r\\n  Time TEXT\\r\\n);', 'CREATE TABLE `railway_manage` (\\r\\n  Railway_ID INT PRIMARY KEY REFERENCES railway(Railway_ID),\\r\\n  Manager_ID INT PRIMARY KEY REFERENCES manager(Manager_ID),\\r\\n  From_Year TEXT\\r\\n);', 'CREATE TABLE `neighbourhood` (\\r\\n  id INT PRIMARY KEY,\\r\\n  business_id TEXT REFERENCES business(business_id),\\r\\n  neighbourhood_name TEXT\\r\\n);', 'CREATE TABLE `Behavior_Incident` (\\r\\n  incident_id INTEGER,\\r\\n  incident_type_code VARCHAR(10) REFERENCES Ref_Incident_Type(incident_type_code),\\r\\n  student_id INTEGER REFERENCES Students(student_id),\\r\\n  date_incident_start DATETIME,\\r\\n  date_incident_end DATETIME,\\r\\n  incident_summary VARCHAR(255),\\r\\n  recommendations VARCHAR(255),\\r\\n  other_details VARCHAR(255)\\r\\n);', 'CREATE TABLE `Prescribes` (\\r\\n  Physician INTEGER PRIMARY KEY REFERENCES Physician(EmployeeID),\\r\\n  Patient INTEGER PRIMARY KEY REFERENCES Patient(SSN),\\r\\n  Medication INTEGER PRIMARY KEY REFERENCES Medication(Code),\\r\\n  Date DATETIME PRIMARY KEY,\\r\\n  Appointment INTEGER REFERENCES Appointment(AppointmentID),\\r\\n  Dose VARCHAR(30)\\r\\n);', 'CREATE TABLE `Undergoes` (\\r\\n  Patient INTEGER PRIMARY KEY REFERENCES Patient(SSN),\\r\\n  Procedures INTEGER PRIMARY KEY REFERENCES Procedures(Code),\\r\\n  Stay INTEGER PRIMARY KEY REFERENCES Stay(StayID),\\r\\n  DateUndergoes DATETIME PRIMARY KEY,\\r\\n  Physician INTEGER REFERENCES Physician(EmployeeID),\\r\\n  AssistingNurse INTEGER REFERENCES Nurse(EmployeeID)\\r\\n);', 'CREATE TABLE `accelerator_compatible_browser` (\\r\\n  accelerator_id INT PRIMARY KEY REFERENCES Web_client_accelerator(id),\\r\\n  browser_id INT PRIMARY KEY REFERENCES browser(id),\\r\\n  compatible_since_year INT\\r\\n);', 'CREATE TABLE `entrepreneur` (\\r\\n  Entrepreneur_ID INT PRIMARY KEY,\\r\\n  People_ID INT REFERENCES people(People_ID),\\r\\n  Company TEXT,\\r\\n  Money_Requested REAL,\\r\\n  Investor TEXT\\r\\n);', 'CREATE TABLE `tip` (\\r\\n  tip_id INT PRIMARY KEY,\\r\\n  business_id TEXT REFERENCES business(business_id),\\r\\n  text TEXT,\\r\\n  user_id TEXT REFERENCES user(user_id),\\r\\n  likes INT,\\r\\n  year INT,\\r\\n  month TEXT\\r\\n);', 'CREATE TABLE `medicine` (\\r\\n  id INT PRIMARY KEY,\\r\\n  name TEXT,\\r\\n  Trade_Name TEXT,\\r\\n  FDA_approved TEXT\\r\\n);']\n"
     ]
    }
   ],
   "source": [
    "def shuffle_list(lst, seed=42):\n",
    "    random.seed(seed)              # 固定随机种子\n",
    "    shuffled = lst[:]              # 复制一份，避免修改原列表\n",
    "    random.shuffle(shuffled)       \n",
    "    return shuffled\n",
    "total_table_list = shuffle_list(total_table_list)\n",
    "print(total_table_list)"
   ]
  },
  {
   "cell_type": "code",
   "execution_count": 11,
   "id": "fec7c014",
   "metadata": {},
   "outputs": [
    {
     "name": "stdout",
     "output_type": "stream",
     "text": [
      "['ref_incident_type', 'stay', 'medication', 'cmi_cross_references', 'country', 'affiliated_with', 'ref_address_types', 'student', 'furniture', 'office_locations', 'station_company', 'publication', 'companies', 'visitors', 'region', 'staff', 'bridge', 'tweets', 'party', 'enzyme', 'shops', 'catalog_contents']\n",
      "['store', 'university', 'institution', 'catalog_structure', 'injury_accident', 'detention', 'visits', 'store_district', 'events', 'catalog_contents_additional_attributes', 'manufacturers', 'product', 'services', 'transactions_lots', 'trained_in', 'parking_fines', 'purchases', 'students_in_detention', 'patient', 'procedures', 'web_client_accelerator', 'participants_in_events']\n",
      "['benefits_overpayments', 'plays_games', 'store_product', 'train', 'students', 'district', 'museums', 'mill', 'checkin', 'attribute_definitions', 'journalist', 'broadcast', 'on_call', 'theme_parks', 'lots', 'apartments', 'person', 'royal_family', 'gas_station', 'teachers', 'photos', 'apartment_buildings']\n",
      "['papers', 'buildings', 'nomination', 'sales', 'review', 'user', 'faculty', 'department', 'locations', 'sportsinfo', 'market', 'weather', 'catalogs', 'participants', 'book', 'news_report', 'authors', 'apartment_facilities', 'browser', 'personfriend', 'protein', 'party_events']\n",
      "['wrestler', 'medicine_enzyme_interaction', 'basketball_match', 'ref_attraction_types', 'follows', 'video_games', 'degrees', 'assessment_notes', 'station', 'railway', 'routes', 'stadium', 'tourist_attraction_features', 'electoral_register', 'location', 'block', 'program', 'game', 'street_markets', 'customer_master_index', 'building']\n",
      "['artwork', 'furniture_manufacte', 'ref_detention_type', 'user_profiles', 'actor', 'event', 'discipline_enrollments', 'architect', 'transactions', 'airports', 'broadcast_share', 'council_tax', 'geographic', 'restaurant', 'apartment_bookings', 'student_addresses', 'company', 'hotels', 'authorship', 'addresses', 'rent_arrears']\n",
      "['tourist_attractions', 'member', 'csu_fees', 'enrollments', 'category', 'manufacturer', 'trip', 'guests', 'status', 'ref_transaction_types', 'film', 'features', 'campuses', 'inst', 'film_market_estimation', 'products', 'investors', 'business_rates', 'appointment', 'view_unit_status', 'manager']\n",
      "['physician', 'musical', 'festival_detail', 'roller_coaster', 'room', 'nurse', 'business', 'people', 'ref_hotel_star_ratings', 'channel', 'airlines', 'elimination', 'railway_manage', 'neighbourhood', 'behavior_incident', 'prescribes', 'undergoes', 'accelerator_compatible_browser', 'entrepreneur', 'tip', 'medicine']\n",
      "172\n"
     ]
    }
   ],
   "source": [
    "def split_list(lst, parts=8):\n",
    "    \"\"\"把列表均分成 parts 份，返回字符串列表，每个子列表用换行符连接\"\"\"\n",
    "    n = len(lst)\n",
    "    avg = n // parts\n",
    "    remainder = n % parts\n",
    "    \n",
    "    result = []\n",
    "    start = 0\n",
    "    for i in range(parts):\n",
    "        end = start + avg + (1 if i < remainder else 0)\n",
    "        # 把子列表转成字符串，用 \\n 连接\n",
    "        chunk_str = \"\\n\".join(map(str, lst[start:end]))\n",
    "        result.append(chunk_str)\n",
    "        start = end\n",
    "    return result\n",
    "schema_slicing = split_list(total_table_list, parts=8)\n",
    "\n",
    "# for i, sub in enumerate(schema_slicing, 1):\n",
    "#     print(f\"子列表{i}: {sub}\")\n",
    "\n",
    "\n",
    "create_table_pattern = re.compile(r'CREATE TABLE `[^`]+` \\([^;]+\\);')\n",
    "table_name_group = []\n",
    "test_total = set()\n",
    "count = 0\n",
    "for piece in schema_slicing:\n",
    "#     print(piece)\n",
    "    create_table_statements = create_table_pattern.findall(piece)\n",
    "    temp_list = []\n",
    "    for table in create_table_statements:\n",
    "        table_name = re.search(r\"CREATE TABLE `([^`]+)`\", table).group(1)\n",
    "        temp_list.append(table_name.lower())\n",
    "        test_total.add(table_name.lower())\n",
    "        count+=1\n",
    "    print(temp_list)\n",
    "    table_name_group.append(temp_list)\n",
    "# print(count)\n",
    "print(len(test_total))"
   ]
  },
  {
   "cell_type": "code",
   "execution_count": 13,
   "id": "32ec16ba",
   "metadata": {},
   "outputs": [],
   "source": [
    "def predict(messages, model, tokenizer):\n",
    "    device = \"cuda\"\n",
    "    text = tokenizer.apply_chat_template(\n",
    "        messages,\n",
    "        tokenize=False,\n",
    "        add_generation_prompt=True\n",
    "    )\n",
    "    model_inputs = tokenizer([text], return_tensors=\"pt\").to(device)\n",
    "\n",
    "    generated_ids = model.generate(\n",
    "        model_inputs.input_ids,\n",
    "        max_new_tokens=512,\n",
    "        pad_token_id=tokenizer.eos_token_id \n",
    "    )\n",
    "    generated_ids = [\n",
    "        output_ids[len(input_ids):] for input_ids, output_ids in zip(model_inputs.input_ids, generated_ids)\n",
    "    ]\n",
    "    \n",
    "    response = tokenizer.batch_decode(generated_ids, skip_special_tokens=True)[0]\n",
    "    \n",
    "#     print(response)\n",
    "     \n",
    "    return response\n",
    "\n",
    "# instruction = row['instruction']\n",
    "# input_value = row['input']\n",
    "def get_instruction(schema):\n",
    "    instruction = f\" I want you to act as a relation extraction robot for a sample SQL table. You only need to return the tables related to the user's input question. Below are instructions describing the relationship between tables. Please write a response that appropriately completes the request. \\n##instruction:{schema}\"\n",
    "    return instruction\n",
    "\n",
    "def get_input_value(question, selected_table):\n",
    "    input_value = f\"{question}######selected_table: {selected_table}.\"\n",
    "    return input_value"
   ]
  },
  {
   "cell_type": "code",
   "execution_count": null,
   "id": "deb8f2af",
   "metadata": {},
   "outputs": [],
   "source": []
  },
  {
   "cell_type": "code",
   "execution_count": 14,
   "id": "c39a6635",
   "metadata": {},
   "outputs": [
    {
     "name": "stderr",
     "output_type": "stream",
     "text": [
      "  1%|▍                                                                                  | 1/178 [00:04<13:28,  4.57s/it]"
     ]
    },
    {
     "name": "stdout",
     "output_type": "stream",
     "text": [
      "++++++++++++++++index:0++++++++++++++++++++++++\n",
      "正确表名： products, manufacturers\n",
      "预测表名： products, manufacturers\n",
      "############################################\n"
     ]
    },
    {
     "name": "stderr",
     "output_type": "stream",
     "text": [
      "\r",
      "  1%|▉                                                                                  | 2/178 [00:08<11:57,  4.08s/it]"
     ]
    },
    {
     "name": "stdout",
     "output_type": "stream",
     "text": [
      "++++++++++++++++index:1++++++++++++++++++++++++\n",
      "正确表名： products\n",
      "预测表名： products\n",
      "############################################\n"
     ]
    },
    {
     "name": "stderr",
     "output_type": "stream",
     "text": [
      "\r",
      "  2%|█▍                                                                                 | 3/178 [00:12<11:27,  3.93s/it]"
     ]
    },
    {
     "name": "stdout",
     "output_type": "stream",
     "text": [
      "++++++++++++++++index:2++++++++++++++++++++++++\n",
      "正确表名： manufacturers\n",
      "预测表名： manufacturers\n",
      "############################################\n"
     ]
    },
    {
     "name": "stderr",
     "output_type": "stream",
     "text": [
      "\r",
      "  2%|█▊                                                                                 | 4/178 [00:15<11:14,  3.88s/it]"
     ]
    },
    {
     "name": "stdout",
     "output_type": "stream",
     "text": [
      "++++++++++++++++index:3++++++++++++++++++++++++\n",
      "正确表名： manufacturers\n",
      "预测表名： None\n",
      "############################################\n"
     ]
    },
    {
     "name": "stderr",
     "output_type": "stream",
     "text": [
      "\r",
      "  3%|██▎                                                                                | 5/178 [00:19<11:02,  3.83s/it]"
     ]
    },
    {
     "name": "stdout",
     "output_type": "stream",
     "text": [
      "++++++++++++++++index:4++++++++++++++++++++++++\n",
      "正确表名： manufacturers\n",
      "预测表名： manufacturers\n",
      "############################################\n"
     ]
    },
    {
     "name": "stderr",
     "output_type": "stream",
     "text": [
      "\r",
      "  3%|██▊                                                                                | 6/178 [00:23<10:54,  3.80s/it]"
     ]
    },
    {
     "name": "stdout",
     "output_type": "stream",
     "text": [
      "++++++++++++++++index:5++++++++++++++++++++++++\n",
      "正确表名： products, manufacturers\n",
      "预测表名： products\n",
      "############################################\n"
     ]
    },
    {
     "name": "stderr",
     "output_type": "stream",
     "text": [
      "\r",
      "  4%|███▎                                                                               | 7/178 [00:27<10:48,  3.79s/it]"
     ]
    },
    {
     "name": "stdout",
     "output_type": "stream",
     "text": [
      "++++++++++++++++index:6++++++++++++++++++++++++\n",
      "正确表名： manufacturers\n",
      "预测表名： manufacturers\n",
      "############################################\n"
     ]
    },
    {
     "name": "stderr",
     "output_type": "stream",
     "text": [
      "\r",
      "  4%|███▋                                                                               | 8/178 [00:30<10:41,  3.78s/it]"
     ]
    },
    {
     "name": "stdout",
     "output_type": "stream",
     "text": [
      "++++++++++++++++index:7++++++++++++++++++++++++\n",
      "正确表名： products\n",
      "预测表名： products\n",
      "############################################\n"
     ]
    },
    {
     "name": "stderr",
     "output_type": "stream",
     "text": [
      "\r",
      "  5%|████▏                                                                              | 9/178 [00:34<10:35,  3.76s/it]"
     ]
    },
    {
     "name": "stdout",
     "output_type": "stream",
     "text": [
      "++++++++++++++++index:8++++++++++++++++++++++++\n",
      "正确表名： student, sportsinfo\n",
      "预测表名： student, sportsinfo\n",
      "############################################\n"
     ]
    },
    {
     "name": "stderr",
     "output_type": "stream",
     "text": [
      "\r",
      "  6%|████▌                                                                             | 10/178 [00:38<10:31,  3.76s/it]"
     ]
    },
    {
     "name": "stdout",
     "output_type": "stream",
     "text": [
      "++++++++++++++++index:9++++++++++++++++++++++++\n",
      "正确表名： plays_games, video_games\n",
      "预测表名： plays_games, video_games\n",
      "############################################\n"
     ]
    },
    {
     "name": "stderr",
     "output_type": "stream",
     "text": [
      "\r",
      "  6%|█████                                                                             | 11/178 [00:42<10:28,  3.76s/it]"
     ]
    },
    {
     "name": "stdout",
     "output_type": "stream",
     "text": [
      "++++++++++++++++index:10++++++++++++++++++++++++\n",
      "正确表名： video_games\n",
      "预测表名： video_games\n",
      "############################################\n"
     ]
    },
    {
     "name": "stderr",
     "output_type": "stream",
     "text": [
      "\r",
      "  7%|█████▌                                                                            | 12/178 [00:45<10:25,  3.77s/it]"
     ]
    },
    {
     "name": "stdout",
     "output_type": "stream",
     "text": [
      "++++++++++++++++index:11++++++++++++++++++++++++\n",
      "正确表名： video_games\n",
      "预测表名： video_games\n",
      "############################################\n"
     ]
    },
    {
     "name": "stderr",
     "output_type": "stream",
     "text": [
      "\r",
      "  7%|█████▉                                                                            | 13/178 [00:49<10:21,  3.77s/it]"
     ]
    },
    {
     "name": "stdout",
     "output_type": "stream",
     "text": [
      "++++++++++++++++index:12++++++++++++++++++++++++\n",
      "正确表名： video_games\n",
      "预测表名： video_games\n",
      "############################################\n"
     ]
    },
    {
     "name": "stderr",
     "output_type": "stream",
     "text": [
      "\r",
      "  8%|██████▍                                                                           | 14/178 [00:53<10:17,  3.76s/it]"
     ]
    },
    {
     "name": "stdout",
     "output_type": "stream",
     "text": [
      "++++++++++++++++index:13++++++++++++++++++++++++\n",
      "正确表名： sportsinfo, student\n",
      "预测表名： sportsinfo, plays_games\n",
      "############################################\n"
     ]
    },
    {
     "name": "stderr",
     "output_type": "stream",
     "text": [
      "\r",
      "  8%|██████▉                                                                           | 15/178 [00:57<10:26,  3.84s/it]"
     ]
    },
    {
     "name": "stdout",
     "output_type": "stream",
     "text": [
      "++++++++++++++++index:14++++++++++++++++++++++++\n",
      "正确表名： student, plays_games\n",
      "预测表名： plays_games\n",
      "############################################\n"
     ]
    },
    {
     "name": "stderr",
     "output_type": "stream",
     "text": [
      "\r",
      "  9%|███████▎                                                                          | 16/178 [01:01<10:23,  3.85s/it]"
     ]
    },
    {
     "name": "stdout",
     "output_type": "stream",
     "text": [
      "++++++++++++++++index:15++++++++++++++++++++++++\n",
      "正确表名： student, sportsinfo\n",
      "预测表名： sportsinfo\n",
      "############################################\n"
     ]
    },
    {
     "name": "stderr",
     "output_type": "stream",
     "text": [
      "\r",
      " 10%|███████▊                                                                          | 17/178 [01:05<10:20,  3.86s/it]"
     ]
    },
    {
     "name": "stdout",
     "output_type": "stream",
     "text": [
      "++++++++++++++++index:16++++++++++++++++++++++++\n",
      "正确表名： musical\n",
      "预测表名： musical\n",
      "############################################\n"
     ]
    },
    {
     "name": "stderr",
     "output_type": "stream",
     "text": [
      "\r",
      " 10%|████████▎                                                                         | 18/178 [01:09<10:16,  3.86s/it]"
     ]
    },
    {
     "name": "stdout",
     "output_type": "stream",
     "text": [
      "++++++++++++++++index:17++++++++++++++++++++++++\n",
      "正确表名： actor, musical\n",
      "预测表名： musical, actor\n",
      "############################################\n"
     ]
    },
    {
     "name": "stderr",
     "output_type": "stream",
     "text": [
      "\r",
      " 11%|████████▊                                                                         | 19/178 [01:12<10:10,  3.84s/it]"
     ]
    },
    {
     "name": "stdout",
     "output_type": "stream",
     "text": [
      "++++++++++++++++index:18++++++++++++++++++++++++\n",
      "正确表名： musical, actor\n",
      "预测表名： musical, actor\n",
      "############################################\n"
     ]
    },
    {
     "name": "stderr",
     "output_type": "stream",
     "text": [
      "\r",
      " 11%|█████████▏                                                                        | 20/178 [01:16<10:11,  3.87s/it]"
     ]
    },
    {
     "name": "stdout",
     "output_type": "stream",
     "text": [
      "++++++++++++++++index:19++++++++++++++++++++++++\n",
      "正确表名： actor, musical\n",
      "预测表名： musical, actor\n",
      "############################################\n"
     ]
    },
    {
     "name": "stderr",
     "output_type": "stream",
     "text": [
      "\r",
      " 12%|█████████▋                                                                        | 21/178 [01:20<10:09,  3.88s/it]"
     ]
    },
    {
     "name": "stdout",
     "output_type": "stream",
     "text": [
      "++++++++++++++++index:20++++++++++++++++++++++++\n",
      "正确表名： entrepreneur, people\n",
      "预测表名： entrepreneur, people\n",
      "############################################\n"
     ]
    },
    {
     "name": "stderr",
     "output_type": "stream",
     "text": [
      "\r",
      " 12%|██████████▏                                                                       | 22/178 [01:24<10:05,  3.88s/it]"
     ]
    },
    {
     "name": "stdout",
     "output_type": "stream",
     "text": [
      "++++++++++++++++index:21++++++++++++++++++++++++\n",
      "正确表名： entrepreneur, people\n",
      "预测表名： entrepreneur, people\n",
      "############################################\n"
     ]
    },
    {
     "name": "stderr",
     "output_type": "stream",
     "text": [
      "\r",
      " 13%|██████████▌                                                                       | 23/178 [01:28<09:58,  3.86s/it]"
     ]
    },
    {
     "name": "stdout",
     "output_type": "stream",
     "text": [
      "++++++++++++++++index:22++++++++++++++++++++++++\n",
      "正确表名： people\n",
      "预测表名： people\n",
      "############################################\n"
     ]
    },
    {
     "name": "stderr",
     "output_type": "stream",
     "text": [
      "\r",
      " 13%|███████████                                                                       | 24/178 [01:32<09:55,  3.87s/it]"
     ]
    },
    {
     "name": "stdout",
     "output_type": "stream",
     "text": [
      "++++++++++++++++index:23++++++++++++++++++++++++\n",
      "正确表名： entrepreneur\n",
      "预测表名： None\n",
      "############################################\n"
     ]
    },
    {
     "name": "stderr",
     "output_type": "stream",
     "text": [
      "\r",
      " 14%|███████████▌                                                                      | 25/178 [01:36<09:47,  3.84s/it]"
     ]
    },
    {
     "name": "stdout",
     "output_type": "stream",
     "text": [
      "++++++++++++++++index:24++++++++++++++++++++++++\n",
      "正确表名： tourist_attractions, visitors, visits\n",
      "预测表名： visitors, tourist_attractions, visits\n",
      "############################################\n"
     ]
    },
    {
     "name": "stderr",
     "output_type": "stream",
     "text": [
      "\r",
      " 15%|███████████▉                                                                      | 26/178 [01:39<09:42,  3.83s/it]"
     ]
    },
    {
     "name": "stdout",
     "output_type": "stream",
     "text": [
      "++++++++++++++++index:25++++++++++++++++++++++++\n",
      "正确表名： visits\n",
      "预测表名： visits\n",
      "############################################\n"
     ]
    },
    {
     "name": "stderr",
     "output_type": "stream",
     "text": [
      "\r",
      " 15%|████████████▍                                                                     | 27/178 [01:43<09:39,  3.84s/it]"
     ]
    },
    {
     "name": "stdout",
     "output_type": "stream",
     "text": [
      "++++++++++++++++index:26++++++++++++++++++++++++\n",
      "正确表名： locations, tourist_attractions\n",
      "预测表名： tourist_attractions\n",
      "############################################\n"
     ]
    },
    {
     "name": "stderr",
     "output_type": "stream",
     "text": [
      "\r",
      " 16%|████████████▉                                                                     | 28/178 [01:47<09:42,  3.88s/it]"
     ]
    },
    {
     "name": "stdout",
     "output_type": "stream",
     "text": [
      "++++++++++++++++index:27++++++++++++++++++++++++\n",
      "正确表名： tourist_attractions\n",
      "预测表名： tourist_attractions\n",
      "############################################\n"
     ]
    },
    {
     "name": "stderr",
     "output_type": "stream",
     "text": [
      "\r",
      " 16%|█████████████▎                                                                    | 29/178 [01:51<09:43,  3.92s/it]"
     ]
    },
    {
     "name": "stdout",
     "output_type": "stream",
     "text": [
      "++++++++++++++++index:28++++++++++++++++++++++++\n",
      "正确表名： museums, tourist_attractions\n",
      "预测表名： museums, tourist_attractions\n",
      "############################################\n"
     ]
    },
    {
     "name": "stderr",
     "output_type": "stream",
     "text": [
      "\r",
      " 17%|█████████████▊                                                                    | 30/178 [01:55<09:42,  3.93s/it]"
     ]
    },
    {
     "name": "stdout",
     "output_type": "stream",
     "text": [
      "++++++++++++++++index:29++++++++++++++++++++++++\n",
      "正确表名： locations, tourist_attractions\n",
      "预测表名： tourist_attractions\n",
      "############################################\n"
     ]
    },
    {
     "name": "stderr",
     "output_type": "stream",
     "text": [
      "\r",
      " 17%|██████████████▎                                                                   | 31/178 [01:59<09:38,  3.94s/it]"
     ]
    },
    {
     "name": "stdout",
     "output_type": "stream",
     "text": [
      "++++++++++++++++index:30++++++++++++++++++++++++\n",
      "正确表名： photos\n",
      "预测表名： photos\n",
      "############################################\n"
     ]
    },
    {
     "name": "stderr",
     "output_type": "stream",
     "text": [
      "\r",
      " 18%|██████████████▋                                                                   | 32/178 [02:03<09:31,  3.91s/it]"
     ]
    },
    {
     "name": "stdout",
     "output_type": "stream",
     "text": [
      "++++++++++++++++index:31++++++++++++++++++++++++\n",
      "正确表名： staff, tourist_attractions\n",
      "预测表名： tourist_attractions, staff\n",
      "############################################\n"
     ]
    },
    {
     "name": "stderr",
     "output_type": "stream",
     "text": [
      "\r",
      " 19%|███████████████▏                                                                  | 33/178 [02:07<09:28,  3.92s/it]"
     ]
    },
    {
     "name": "stdout",
     "output_type": "stream",
     "text": [
      "++++++++++++++++index:32++++++++++++++++++++++++\n",
      "正确表名： elimination\n",
      "预测表名： elimination\n",
      "############################################\n"
     ]
    },
    {
     "name": "stderr",
     "output_type": "stream",
     "text": [
      "\r",
      " 19%|███████████████▋                                                                  | 34/178 [02:11<09:22,  3.91s/it]"
     ]
    },
    {
     "name": "stdout",
     "output_type": "stream",
     "text": [
      "++++++++++++++++index:33++++++++++++++++++++++++\n",
      "正确表名： wrestler\n",
      "预测表名： wrestler\n",
      "############################################\n"
     ]
    },
    {
     "name": "stderr",
     "output_type": "stream",
     "text": [
      "\r",
      " 20%|████████████████                                                                  | 35/178 [02:15<09:16,  3.89s/it]"
     ]
    },
    {
     "name": "stdout",
     "output_type": "stream",
     "text": [
      "++++++++++++++++index:34++++++++++++++++++++++++\n",
      "正确表名： wrestler\n",
      "预测表名： wrestler\n",
      "############################################\n"
     ]
    },
    {
     "name": "stderr",
     "output_type": "stream",
     "text": [
      "\r",
      " 20%|████████████████▌                                                                 | 36/178 [02:18<09:09,  3.87s/it]"
     ]
    },
    {
     "name": "stdout",
     "output_type": "stream",
     "text": [
      "++++++++++++++++index:35++++++++++++++++++++++++\n",
      "正确表名： elimination\n",
      "预测表名： elimination\n",
      "############################################\n"
     ]
    },
    {
     "name": "stderr",
     "output_type": "stream",
     "text": [
      "\r",
      " 21%|█████████████████                                                                 | 37/178 [02:22<09:05,  3.87s/it]"
     ]
    },
    {
     "name": "stdout",
     "output_type": "stream",
     "text": [
      "++++++++++++++++index:36++++++++++++++++++++++++\n",
      "正确表名： user, tip\n",
      "预测表名： tip\n",
      "############################################\n"
     ]
    },
    {
     "name": "stderr",
     "output_type": "stream",
     "text": [
      "\r",
      " 21%|█████████████████▌                                                                | 38/178 [02:26<09:05,  3.90s/it]"
     ]
    },
    {
     "name": "stdout",
     "output_type": "stream",
     "text": [
      "++++++++++++++++index:37++++++++++++++++++++++++\n",
      "正确表名： category, business, review, user\n",
      "预测表名： category, business, review, user\n",
      "############################################\n"
     ]
    },
    {
     "name": "stderr",
     "output_type": "stream",
     "text": [
      "\r",
      " 22%|█████████████████▉                                                                | 39/178 [02:30<09:05,  3.92s/it]"
     ]
    },
    {
     "name": "stdout",
     "output_type": "stream",
     "text": [
      "++++++++++++++++index:38++++++++++++++++++++++++\n",
      "正确表名： category, business, review, user\n",
      "预测表名： business, review, user\n",
      "############################################\n"
     ]
    },
    {
     "name": "stderr",
     "output_type": "stream",
     "text": [
      "\r",
      " 22%|██████████████████▍                                                               | 40/178 [02:34<09:00,  3.92s/it]"
     ]
    },
    {
     "name": "stdout",
     "output_type": "stream",
     "text": [
      "++++++++++++++++index:39++++++++++++++++++++++++\n",
      "正确表名： category, business, neighbourhood\n",
      "预测表名： neighbourhood, business\n",
      "############################################\n"
     ]
    },
    {
     "name": "stderr",
     "output_type": "stream",
     "text": [
      "\r",
      " 23%|██████████████████▉                                                               | 41/178 [02:38<08:53,  3.90s/it]"
     ]
    },
    {
     "name": "stdout",
     "output_type": "stream",
     "text": [
      "++++++++++++++++index:40++++++++++++++++++++++++\n",
      "正确表名： category, business\n",
      "预测表名： business\n",
      "############################################\n"
     ]
    },
    {
     "name": "stderr",
     "output_type": "stream",
     "text": [
      "\r",
      " 24%|███████████████████▎                                                              | 42/178 [02:42<08:49,  3.89s/it]"
     ]
    },
    {
     "name": "stdout",
     "output_type": "stream",
     "text": [
      "++++++++++++++++index:41++++++++++++++++++++++++\n",
      "正确表名： user, review\n",
      "预测表名： review, user\n",
      "############################################\n"
     ]
    },
    {
     "name": "stderr",
     "output_type": "stream",
     "text": [
      "\r",
      " 24%|███████████████████▊                                                              | 43/178 [02:46<08:40,  3.86s/it]"
     ]
    },
    {
     "name": "stdout",
     "output_type": "stream",
     "text": [
      "++++++++++++++++index:42++++++++++++++++++++++++\n",
      "正确表名： category, business\n",
      "预测表名： category, business\n",
      "############################################\n"
     ]
    },
    {
     "name": "stderr",
     "output_type": "stream",
     "text": [
      "\r",
      " 25%|████████████████████▎                                                             | 44/178 [02:50<08:37,  3.86s/it]"
     ]
    },
    {
     "name": "stdout",
     "output_type": "stream",
     "text": [
      "++++++++++++++++index:43++++++++++++++++++++++++\n",
      "正确表名： user, review\n",
      "预测表名： review, user\n",
      "############################################\n"
     ]
    },
    {
     "name": "stderr",
     "output_type": "stream",
     "text": [
      "\r",
      " 25%|████████████████████▋                                                             | 45/178 [02:53<08:31,  3.85s/it]"
     ]
    },
    {
     "name": "stdout",
     "output_type": "stream",
     "text": [
      "++++++++++++++++index:44++++++++++++++++++++++++\n",
      "正确表名： review, business, user\n",
      "预测表名： business, review, user\n",
      "############################################\n"
     ]
    },
    {
     "name": "stderr",
     "output_type": "stream",
     "text": [
      "\r",
      " 26%|█████████████████████▏                                                            | 46/178 [02:57<08:33,  3.89s/it]"
     ]
    },
    {
     "name": "stdout",
     "output_type": "stream",
     "text": [
      "++++++++++++++++index:45++++++++++++++++++++++++\n",
      "正确表名： tip, business, user\n",
      "预测表名： tip, business\n",
      "############################################\n"
     ]
    },
    {
     "name": "stderr",
     "output_type": "stream",
     "text": [
      "\r",
      " 26%|█████████████████████▋                                                            | 47/178 [03:01<08:26,  3.87s/it]"
     ]
    },
    {
     "name": "stdout",
     "output_type": "stream",
     "text": [
      "++++++++++++++++index:46++++++++++++++++++++++++\n",
      "正确表名： review, business\n",
      "预测表名： business, review\n",
      "############################################\n"
     ]
    },
    {
     "name": "stderr",
     "output_type": "stream",
     "text": [
      "\r",
      " 27%|██████████████████████                                                            | 48/178 [03:05<08:26,  3.90s/it]"
     ]
    },
    {
     "name": "stdout",
     "output_type": "stream",
     "text": [
      "++++++++++++++++index:47++++++++++++++++++++++++\n",
      "正确表名： behavior_incident\n",
      "预测表名： behavior_incident, ref_incident_type\n",
      "############################################\n"
     ]
    },
    {
     "name": "stderr",
     "output_type": "stream",
     "text": [
      "\r",
      " 28%|██████████████████████▌                                                           | 49/178 [03:09<08:21,  3.89s/it]"
     ]
    },
    {
     "name": "stdout",
     "output_type": "stream",
     "text": [
      "++++++++++++++++index:48++++++++++++++++++++++++\n",
      "正确表名： student_addresses\n",
      "预测表名： student_addresses\n",
      "############################################\n"
     ]
    },
    {
     "name": "stderr",
     "output_type": "stream",
     "text": [
      "\r",
      " 28%|███████████████████████                                                           | 50/178 [03:13<08:16,  3.88s/it]"
     ]
    },
    {
     "name": "stdout",
     "output_type": "stream",
     "text": [
      "++++++++++++++++index:49++++++++++++++++++++++++\n",
      "正确表名： teachers\n",
      "预测表名： teachers\n",
      "############################################\n"
     ]
    },
    {
     "name": "stderr",
     "output_type": "stream",
     "text": [
      "\r",
      " 29%|███████████████████████▍                                                          | 51/178 [03:17<08:22,  3.95s/it]"
     ]
    },
    {
     "name": "stdout",
     "output_type": "stream",
     "text": [
      "++++++++++++++++index:50++++++++++++++++++++++++\n",
      "正确表名： students_in_detention\n",
      "预测表名： students_in_detention\n",
      "############################################\n"
     ]
    },
    {
     "name": "stderr",
     "output_type": "stream",
     "text": [
      "\r",
      " 29%|███████████████████████▉                                                          | 52/178 [03:21<08:18,  3.96s/it]"
     ]
    },
    {
     "name": "stdout",
     "output_type": "stream",
     "text": [
      "++++++++++++++++index:51++++++++++++++++++++++++\n",
      "正确表名： film\n",
      "预测表名： film\n",
      "############################################\n"
     ]
    },
    {
     "name": "stderr",
     "output_type": "stream",
     "text": [
      "\r",
      " 30%|████████████████████████▍                                                         | 53/178 [03:25<08:10,  3.92s/it]"
     ]
    },
    {
     "name": "stdout",
     "output_type": "stream",
     "text": [
      "++++++++++++++++index:52++++++++++++++++++++++++\n",
      "正确表名： film\n",
      "预测表名： film\n",
      "############################################\n"
     ]
    },
    {
     "name": "stderr",
     "output_type": "stream",
     "text": [
      "\r",
      " 30%|████████████████████████▉                                                         | 54/178 [03:29<08:09,  3.95s/it]"
     ]
    },
    {
     "name": "stdout",
     "output_type": "stream",
     "text": [
      "++++++++++++++++index:53++++++++++++++++++++++++\n",
      "正确表名： film_market_estimation\n",
      "预测表名： film_market_estimation\n",
      "############################################\n"
     ]
    },
    {
     "name": "stderr",
     "output_type": "stream",
     "text": [
      "\r",
      " 31%|█████████████████████████▎                                                        | 55/178 [03:33<08:01,  3.92s/it]"
     ]
    },
    {
     "name": "stdout",
     "output_type": "stream",
     "text": [
      "++++++++++++++++index:54++++++++++++++++++++++++\n",
      "正确表名： film\n",
      "预测表名： film\n",
      "############################################\n"
     ]
    },
    {
     "name": "stderr",
     "output_type": "stream",
     "text": [
      "\r",
      " 31%|█████████████████████████▊                                                        | 56/178 [03:37<08:04,  3.97s/it]"
     ]
    },
    {
     "name": "stdout",
     "output_type": "stream",
     "text": [
      "++++++++++++++++index:55++++++++++++++++++++++++\n",
      "正确表名： catalog_contents, catalog_contents_Additional_Attributes\n",
      "预测表名： catalog_contents_Additional_Attributes, catalog_contents\n",
      "############################################\n"
     ]
    },
    {
     "name": "stderr",
     "output_type": "stream",
     "text": [
      "\r",
      " 32%|██████████████████████████▎                                                       | 57/178 [03:41<08:00,  3.97s/it]"
     ]
    },
    {
     "name": "stdout",
     "output_type": "stream",
     "text": [
      "++++++++++++++++index:56++++++++++++++++++++++++\n",
      "正确表名： catalog_structure\n",
      "预测表名： catalog_contents, catalog_structure\n",
      "############################################\n"
     ]
    },
    {
     "name": "stderr",
     "output_type": "stream",
     "text": [
      "\r",
      " 33%|██████████████████████████▋                                                       | 58/178 [03:45<07:56,  3.97s/it]"
     ]
    },
    {
     "name": "stdout",
     "output_type": "stream",
     "text": [
      "++++++++++++++++index:57++++++++++++++++++++++++\n",
      "正确表名： catalogs\n",
      "预测表名： catalogs\n",
      "############################################\n"
     ]
    },
    {
     "name": "stderr",
     "output_type": "stream",
     "text": [
      "\r",
      " 33%|███████████████████████████▏                                                      | 59/178 [03:49<07:48,  3.94s/it]"
     ]
    },
    {
     "name": "stdout",
     "output_type": "stream",
     "text": [
      "++++++++++++++++index:58++++++++++++++++++++++++\n",
      "正确表名： catalog_contents\n",
      "预测表名： catalog_contents\n",
      "############################################\n"
     ]
    },
    {
     "name": "stderr",
     "output_type": "stream",
     "text": [
      "\r",
      " 34%|███████████████████████████▋                                                      | 60/178 [03:52<07:41,  3.91s/it]"
     ]
    },
    {
     "name": "stdout",
     "output_type": "stream",
     "text": [
      "++++++++++++++++index:59++++++++++++++++++++++++\n",
      "正确表名： airports\n",
      "预测表名： airports\n",
      "############################################\n"
     ]
    },
    {
     "name": "stderr",
     "output_type": "stream",
     "text": [
      "\r",
      " 34%|████████████████████████████                                                      | 61/178 [03:56<07:34,  3.89s/it]"
     ]
    },
    {
     "name": "stdout",
     "output_type": "stream",
     "text": [
      "++++++++++++++++index:60++++++++++++++++++++++++\n",
      "正确表名： airports\n",
      "预测表名： airports\n",
      "############################################\n"
     ]
    },
    {
     "name": "stderr",
     "output_type": "stream",
     "text": [
      "\r",
      " 35%|████████████████████████████▌                                                     | 62/178 [04:00<07:29,  3.87s/it]"
     ]
    },
    {
     "name": "stdout",
     "output_type": "stream",
     "text": [
      "++++++++++++++++index:61++++++++++++++++++++++++\n",
      "正确表名： airports\n",
      "预测表名： airports\n",
      "############################################\n"
     ]
    },
    {
     "name": "stderr",
     "output_type": "stream",
     "text": [
      "\r",
      " 35%|█████████████████████████████                                                     | 63/178 [04:04<07:23,  3.86s/it]"
     ]
    },
    {
     "name": "stdout",
     "output_type": "stream",
     "text": [
      "++++++++++++++++index:62++++++++++++++++++++++++\n",
      "正确表名： airlines\n",
      "预测表名： airlines\n",
      "############################################\n"
     ]
    },
    {
     "name": "stderr",
     "output_type": "stream",
     "text": [
      "\r",
      " 36%|█████████████████████████████▍                                                    | 64/178 [04:08<07:22,  3.88s/it]"
     ]
    },
    {
     "name": "stdout",
     "output_type": "stream",
     "text": [
      "++++++++++++++++index:63++++++++++++++++++++++++\n",
      "正确表名： airports\n",
      "预测表名： airports\n",
      "############################################\n"
     ]
    },
    {
     "name": "stderr",
     "output_type": "stream",
     "text": [
      "\r",
      " 37%|█████████████████████████████▉                                                    | 65/178 [04:12<07:19,  3.89s/it]"
     ]
    },
    {
     "name": "stdout",
     "output_type": "stream",
     "text": [
      "++++++++++++++++index:64++++++++++++++++++++++++\n",
      "正确表名： airports\n",
      "预测表名： airports\n",
      "############################################\n"
     ]
    },
    {
     "name": "stderr",
     "output_type": "stream",
     "text": [
      "\r",
      " 37%|██████████████████████████████▍                                                   | 66/178 [04:16<07:14,  3.88s/it]"
     ]
    },
    {
     "name": "stdout",
     "output_type": "stream",
     "text": [
      "++++++++++++++++index:65++++++++++++++++++++++++\n",
      "正确表名： airlines\n",
      "预测表名： airlines\n",
      "############################################\n"
     ]
    },
    {
     "name": "stderr",
     "output_type": "stream",
     "text": [
      "\r",
      " 38%|██████████████████████████████▊                                                   | 67/178 [04:19<07:08,  3.86s/it]"
     ]
    },
    {
     "name": "stdout",
     "output_type": "stream",
     "text": [
      "++++++++++++++++index:66++++++++++++++++++++++++\n",
      "正确表名： airlines, routes\n",
      "预测表名： routes, airlines\n",
      "############################################\n"
     ]
    },
    {
     "name": "stderr",
     "output_type": "stream",
     "text": [
      "\r",
      " 38%|███████████████████████████████▎                                                  | 68/178 [04:23<07:07,  3.88s/it]"
     ]
    },
    {
     "name": "stdout",
     "output_type": "stream",
     "text": [
      "++++++++++++++++index:67++++++++++++++++++++++++\n",
      "正确表名： game\n",
      "预测表名： game\n",
      "############################################\n"
     ]
    },
    {
     "name": "stderr",
     "output_type": "stream",
     "text": [
      "\r",
      " 39%|███████████████████████████████▊                                                  | 69/178 [04:27<07:02,  3.87s/it]"
     ]
    },
    {
     "name": "stdout",
     "output_type": "stream",
     "text": [
      "++++++++++++++++index:68++++++++++++++++++++++++\n",
      "正确表名： physician, patient\n",
      "预测表名： patient, physician\n",
      "############################################\n"
     ]
    },
    {
     "name": "stderr",
     "output_type": "stream",
     "text": [
      "\r",
      " 39%|████████████████████████████████▏                                                 | 70/178 [04:31<07:00,  3.90s/it]"
     ]
    },
    {
     "name": "stdout",
     "output_type": "stream",
     "text": [
      "++++++++++++++++index:69++++++++++++++++++++++++\n",
      "正确表名： department\n",
      "预测表名： None\n",
      "############################################\n"
     ]
    },
    {
     "name": "stderr",
     "output_type": "stream",
     "text": [
      "\r",
      " 40%|████████████████████████████████▋                                                 | 71/178 [04:35<06:58,  3.91s/it]"
     ]
    },
    {
     "name": "stdout",
     "output_type": "stream",
     "text": [
      "++++++++++++++++index:70++++++++++++++++++++++++\n",
      "正确表名： procedures\n",
      "预测表名： procedures\n",
      "############################################\n"
     ]
    },
    {
     "name": "stderr",
     "output_type": "stream",
     "text": [
      "\r",
      " 40%|█████████████████████████████████▏                                                | 72/178 [04:39<06:59,  3.96s/it]"
     ]
    },
    {
     "name": "stdout",
     "output_type": "stream",
     "text": [
      "++++++++++++++++index:71++++++++++++++++++++++++\n",
      "正确表名： procedures, physician, trained_in\n",
      "预测表名： procedures, trained_in\n",
      "############################################\n"
     ]
    },
    {
     "name": "stderr",
     "output_type": "stream",
     "text": [
      "\r",
      " 41%|█████████████████████████████████▋                                                | 73/178 [04:43<06:57,  3.98s/it]"
     ]
    },
    {
     "name": "stdout",
     "output_type": "stream",
     "text": [
      "++++++++++++++++index:72++++++++++++++++++++++++\n",
      "正确表名： physician, prescribes\n",
      "预测表名： physician, prescribes\n",
      "############################################\n"
     ]
    },
    {
     "name": "stderr",
     "output_type": "stream",
     "text": [
      "\r",
      " 42%|██████████████████████████████████                                                | 74/178 [04:47<06:49,  3.93s/it]"
     ]
    },
    {
     "name": "stdout",
     "output_type": "stream",
     "text": [
      "++++++++++++++++index:73++++++++++++++++++++++++\n",
      "正确表名： appointment\n",
      "预测表名： appointment\n",
      "############################################\n"
     ]
    },
    {
     "name": "stderr",
     "output_type": "stream",
     "text": [
      "\r",
      " 42%|██████████████████████████████████▌                                               | 75/178 [04:51<06:41,  3.90s/it]"
     ]
    },
    {
     "name": "stdout",
     "output_type": "stream",
     "text": [
      "++++++++++++++++index:74++++++++++++++++++++++++\n",
      "正确表名： nurse, on_call\n",
      "预测表名： on_call, nurse\n",
      "############################################\n"
     ]
    },
    {
     "name": "stderr",
     "output_type": "stream",
     "text": [
      "\r",
      " 43%|███████████████████████████████████                                               | 76/178 [04:55<06:36,  3.89s/it]"
     ]
    },
    {
     "name": "stdout",
     "output_type": "stream",
     "text": [
      "++++++++++++++++index:75++++++++++++++++++++++++\n",
      "正确表名： procedures, physician, trained_in\n",
      "预测表名： procedures, trained_in, physician\n",
      "############################################\n"
     ]
    },
    {
     "name": "stderr",
     "output_type": "stream",
     "text": [
      "\r",
      " 43%|███████████████████████████████████▍                                              | 77/178 [04:59<06:32,  3.89s/it]"
     ]
    },
    {
     "name": "stdout",
     "output_type": "stream",
     "text": [
      "++++++++++++++++index:76++++++++++++++++++++++++\n",
      "正确表名： department\n",
      "预测表名： None\n",
      "############################################\n"
     ]
    },
    {
     "name": "stderr",
     "output_type": "stream",
     "text": [
      "\r",
      " 44%|███████████████████████████████████▉                                              | 78/178 [05:02<06:27,  3.88s/it]"
     ]
    },
    {
     "name": "stdout",
     "output_type": "stream",
     "text": [
      "++++++++++++++++index:77++++++++++++++++++++++++\n",
      "正确表名： procedures, physician, trained_in\n",
      "预测表名： procedures, trained_in, physician\n",
      "############################################\n"
     ]
    },
    {
     "name": "stderr",
     "output_type": "stream",
     "text": [
      "\r",
      " 44%|████████████████████████████████████▍                                             | 79/178 [05:06<06:21,  3.85s/it]"
     ]
    },
    {
     "name": "stdout",
     "output_type": "stream",
     "text": [
      "++++++++++++++++index:78++++++++++++++++++++++++\n",
      "正确表名： buildings\n",
      "预测表名： buildings\n",
      "############################################\n"
     ]
    },
    {
     "name": "stderr",
     "output_type": "stream",
     "text": [
      "\r",
      " 45%|████████████████████████████████████▊                                             | 80/178 [05:10<06:17,  3.85s/it]"
     ]
    },
    {
     "name": "stdout",
     "output_type": "stream",
     "text": [
      "++++++++++++++++index:79++++++++++++++++++++++++\n",
      "正确表名： companies\n",
      "预测表名： companies\n",
      "############################################\n"
     ]
    },
    {
     "name": "stderr",
     "output_type": "stream",
     "text": [
      "\r",
      " 46%|█████████████████████████████████████▎                                            | 81/178 [05:14<06:12,  3.84s/it]"
     ]
    },
    {
     "name": "stdout",
     "output_type": "stream",
     "text": [
      "++++++++++++++++index:80++++++++++++++++++++++++\n",
      "正确表名： companies\n",
      "预测表名： company\n",
      "############################################\n"
     ]
    },
    {
     "name": "stderr",
     "output_type": "stream",
     "text": [
      "\r",
      " 46%|█████████████████████████████████████▊                                            | 82/178 [05:18<06:08,  3.83s/it]"
     ]
    },
    {
     "name": "stdout",
     "output_type": "stream",
     "text": [
      "++++++++++++++++index:81++++++++++++++++++++++++\n",
      "正确表名： buildings\n",
      "预测表名： buildings\n",
      "############################################\n"
     ]
    },
    {
     "name": "stderr",
     "output_type": "stream",
     "text": [
      "\r",
      " 47%|██████████████████████████████████████▏                                           | 83/178 [05:22<06:09,  3.89s/it]"
     ]
    },
    {
     "name": "stdout",
     "output_type": "stream",
     "text": [
      "++++++++++++++++index:82++++++++++++++++++++++++\n",
      "正确表名： party\n",
      "预测表名： party\n",
      "############################################\n"
     ]
    },
    {
     "name": "stderr",
     "output_type": "stream",
     "text": [
      "\r",
      " 47%|██████████████████████████████████████▋                                           | 84/178 [05:26<06:07,  3.91s/it]"
     ]
    },
    {
     "name": "stdout",
     "output_type": "stream",
     "text": [
      "++++++++++++++++index:83++++++++++++++++++++++++\n",
      "正确表名： party\n",
      "预测表名： party\n",
      "############################################\n"
     ]
    },
    {
     "name": "stderr",
     "output_type": "stream",
     "text": [
      "\r",
      " 48%|███████████████████████████████████████▏                                          | 85/178 [05:30<06:06,  3.94s/it]"
     ]
    },
    {
     "name": "stdout",
     "output_type": "stream",
     "text": [
      "++++++++++++++++index:84++++++++++++++++++++++++\n",
      "正确表名： party\n",
      "预测表名： party\n",
      "############################################\n"
     ]
    },
    {
     "name": "stderr",
     "output_type": "stream",
     "text": [
      "\r",
      " 48%|███████████████████████████████████████▌                                          | 86/178 [05:34<05:59,  3.91s/it]"
     ]
    },
    {
     "name": "stdout",
     "output_type": "stream",
     "text": [
      "++++++++++++++++index:85++++++++++++++++++++++++\n",
      "正确表名： party_events, party\n",
      "预测表名： party_events, party\n",
      "############################################\n"
     ]
    },
    {
     "name": "stderr",
     "output_type": "stream",
     "text": [
      "\r",
      " 49%|████████████████████████████████████████                                          | 87/178 [05:37<05:56,  3.92s/it]"
     ]
    },
    {
     "name": "stdout",
     "output_type": "stream",
     "text": [
      "++++++++++++++++index:86++++++++++++++++++++++++\n",
      "正确表名： browser, accelerator_compatible_browser, web_client_accelerator\n",
      "预测表名： browser, accelerator_compatible_browser, web_client_accelerator\n",
      "############################################\n"
     ]
    },
    {
     "name": "stderr",
     "output_type": "stream",
     "text": [
      "\r",
      " 49%|████████████████████████████████████████▌                                         | 88/178 [05:41<05:51,  3.90s/it]"
     ]
    },
    {
     "name": "stdout",
     "output_type": "stream",
     "text": [
      "++++++++++++++++index:87++++++++++++++++++++++++\n",
      "正确表名： transactions, transactions_lots\n",
      "预测表名： transactions_lots, transactions\n",
      "############################################\n"
     ]
    },
    {
     "name": "stderr",
     "output_type": "stream",
     "text": [
      "\r",
      " 50%|█████████████████████████████████████████                                         | 89/178 [05:45<05:48,  3.91s/it]"
     ]
    },
    {
     "name": "stdout",
     "output_type": "stream",
     "text": [
      "++++++++++++++++index:88++++++++++++++++++++++++\n",
      "正确表名： investors\n",
      "预测表名： investors\n",
      "############################################\n"
     ]
    },
    {
     "name": "stderr",
     "output_type": "stream",
     "text": [
      "\r",
      " 51%|█████████████████████████████████████████▍                                        | 90/178 [05:49<05:44,  3.91s/it]"
     ]
    },
    {
     "name": "stdout",
     "output_type": "stream",
     "text": [
      "++++++++++++++++index:89++++++++++++++++++++++++\n",
      "正确表名： lots, transactions_lots\n",
      "预测表名： transactions_lots, lots\n",
      "############################################\n"
     ]
    },
    {
     "name": "stderr",
     "output_type": "stream",
     "text": [
      "\r",
      " 51%|█████████████████████████████████████████▉                                        | 91/178 [05:53<05:39,  3.91s/it]"
     ]
    },
    {
     "name": "stdout",
     "output_type": "stream",
     "text": [
      "++++++++++++++++index:90++++++++++++++++++++++++\n",
      "正确表名： transactions\n",
      "预测表名： transactions\n",
      "############################################\n"
     ]
    },
    {
     "name": "stderr",
     "output_type": "stream",
     "text": [
      "\r",
      " 52%|██████████████████████████████████████████▍                                       | 92/178 [05:57<05:33,  3.88s/it]"
     ]
    },
    {
     "name": "stdout",
     "output_type": "stream",
     "text": [
      "++++++++++++++++index:91++++++++++++++++++++++++\n",
      "正确表名： university\n",
      "预测表名： university\n",
      "############################################\n"
     ]
    },
    {
     "name": "stderr",
     "output_type": "stream",
     "text": [
      "\r",
      " 52%|██████████████████████████████████████████▊                                       | 93/178 [06:01<05:28,  3.87s/it]"
     ]
    },
    {
     "name": "stdout",
     "output_type": "stream",
     "text": [
      "++++++++++++++++index:92++++++++++++++++++++++++\n",
      "正确表名： university\n",
      "预测表名： university\n",
      "############################################\n"
     ]
    },
    {
     "name": "stderr",
     "output_type": "stream",
     "text": [
      "\r",
      " 53%|███████████████████████████████████████████▎                                      | 94/178 [06:05<05:23,  3.85s/it]"
     ]
    },
    {
     "name": "stdout",
     "output_type": "stream",
     "text": [
      "++++++++++++++++index:93++++++++++++++++++++++++\n",
      "正确表名： university\n",
      "预测表名： university\n",
      "############################################\n"
     ]
    },
    {
     "name": "stderr",
     "output_type": "stream",
     "text": [
      "\r",
      " 53%|███████████████████████████████████████████▊                                      | 95/178 [06:08<05:18,  3.84s/it]"
     ]
    },
    {
     "name": "stdout",
     "output_type": "stream",
     "text": [
      "++++++++++++++++index:94++++++++++++++++++++++++\n",
      "正确表名： university, basketball_match\n",
      "预测表名： basketball_match, university\n",
      "############################################\n"
     ]
    },
    {
     "name": "stderr",
     "output_type": "stream",
     "text": [
      "\r",
      " 54%|████████████████████████████████████████████▏                                     | 96/178 [06:12<05:14,  3.84s/it]"
     ]
    },
    {
     "name": "stdout",
     "output_type": "stream",
     "text": [
      "++++++++++++++++index:95++++++++++++++++++++++++\n",
      "正确表名： restaurant, geographic, location\n",
      "预测表名： location, geographic, restaurant\n",
      "############################################\n"
     ]
    },
    {
     "name": "stderr",
     "output_type": "stream",
     "text": [
      "\r",
      " 54%|████████████████████████████████████████████▋                                     | 97/178 [06:16<05:08,  3.81s/it]"
     ]
    },
    {
     "name": "stdout",
     "output_type": "stream",
     "text": [
      "++++++++++++++++index:96++++++++++++++++++++++++\n",
      "正确表名： restaurant, location\n",
      "预测表名： location, restaurant\n",
      "############################################\n"
     ]
    },
    {
     "name": "stderr",
     "output_type": "stream",
     "text": [
      "\r",
      " 55%|█████████████████████████████████████████████▏                                    | 98/178 [06:20<05:06,  3.84s/it]"
     ]
    },
    {
     "name": "stdout",
     "output_type": "stream",
     "text": [
      "++++++++++++++++index:97++++++++++++++++++++++++\n",
      "正确表名： location, restaurant, geographic\n",
      "预测表名： location, geographic, restaurant\n",
      "############################################\n"
     ]
    },
    {
     "name": "stderr",
     "output_type": "stream",
     "text": [
      "\r",
      " 56%|█████████████████████████████████████████████▌                                    | 99/178 [06:24<05:02,  3.83s/it]"
     ]
    },
    {
     "name": "stdout",
     "output_type": "stream",
     "text": [
      "++++++++++++++++index:98++++++++++++++++++++++++\n",
      "正确表名： restaurant, location\n",
      "预测表名： location, restaurant\n",
      "############################################\n"
     ]
    },
    {
     "name": "stderr",
     "output_type": "stream",
     "text": [
      "\r",
      " 56%|█████████████████████████████████████████████▌                                   | 100/178 [06:27<04:57,  3.82s/it]"
     ]
    },
    {
     "name": "stdout",
     "output_type": "stream",
     "text": [
      "++++++++++++++++index:99++++++++++++++++++++++++\n",
      "正确表名： restaurant, location\n",
      "预测表名： location, restaurant\n",
      "############################################\n"
     ]
    },
    {
     "name": "stderr",
     "output_type": "stream",
     "text": [
      "\r",
      " 57%|█████████████████████████████████████████████▉                                   | 101/178 [06:31<04:59,  3.89s/it]"
     ]
    },
    {
     "name": "stdout",
     "output_type": "stream",
     "text": [
      "++++++++++++++++index:100++++++++++++++++++++++++\n",
      "正确表名： restaurant, location\n",
      "预测表名： location, restaurant\n",
      "############################################\n"
     ]
    },
    {
     "name": "stderr",
     "output_type": "stream",
     "text": [
      "\r",
      " 57%|██████████████████████████████████████████████▍                                  | 102/178 [06:35<04:54,  3.88s/it]"
     ]
    },
    {
     "name": "stdout",
     "output_type": "stream",
     "text": [
      "++++++++++++++++index:101++++++++++++++++++++++++\n",
      "正确表名： restaurant, location\n",
      "预测表名： location, restaurant\n",
      "############################################\n"
     ]
    },
    {
     "name": "stderr",
     "output_type": "stream",
     "text": [
      "\r",
      " 58%|██████████████████████████████████████████████▊                                  | 103/178 [06:39<04:49,  3.86s/it]"
     ]
    },
    {
     "name": "stdout",
     "output_type": "stream",
     "text": [
      "++++++++++++++++index:102++++++++++++++++++++++++\n",
      "正确表名： restaurant, location\n",
      "预测表名： location, restaurant\n",
      "############################################\n"
     ]
    },
    {
     "name": "stderr",
     "output_type": "stream",
     "text": [
      "\r",
      " 58%|███████████████████████████████████████████████▎                                 | 104/178 [06:43<04:45,  3.86s/it]"
     ]
    },
    {
     "name": "stdout",
     "output_type": "stream",
     "text": [
      "++++++++++++++++index:103++++++++++++++++++++++++\n",
      "正确表名： restaurant, location\n",
      "预测表名： location, restaurant\n",
      "############################################\n"
     ]
    },
    {
     "name": "stderr",
     "output_type": "stream",
     "text": [
      "\r",
      " 59%|███████████████████████████████████████████████▊                                 | 105/178 [06:47<04:41,  3.85s/it]"
     ]
    },
    {
     "name": "stdout",
     "output_type": "stream",
     "text": [
      "++++++++++++++++index:104++++++++++++++++++++++++\n",
      "正确表名： restaurant, geographic, location\n",
      "预测表名： location, geographic, restaurant\n",
      "############################################\n"
     ]
    },
    {
     "name": "stderr",
     "output_type": "stream",
     "text": [
      "\r",
      " 60%|████████████████████████████████████████████████▏                                | 106/178 [06:51<04:36,  3.84s/it]"
     ]
    },
    {
     "name": "stdout",
     "output_type": "stream",
     "text": [
      "++++++++++++++++index:105++++++++++++++++++++++++\n",
      "正确表名： restaurant, geographic, location\n",
      "预测表名： location, geographic, restaurant\n",
      "############################################\n"
     ]
    },
    {
     "name": "stderr",
     "output_type": "stream",
     "text": [
      "\r",
      " 60%|████████████████████████████████████████████████▋                                | 107/178 [06:54<04:31,  3.82s/it]"
     ]
    },
    {
     "name": "stdout",
     "output_type": "stream",
     "text": [
      "++++++++++++++++index:106++++++++++++++++++++++++\n",
      "正确表名： restaurant, location\n",
      "预测表名： location, restaurant\n",
      "############################################\n"
     ]
    },
    {
     "name": "stderr",
     "output_type": "stream",
     "text": [
      "\r",
      " 61%|█████████████████████████████████████████████████▏                               | 108/178 [06:58<04:26,  3.81s/it]"
     ]
    },
    {
     "name": "stdout",
     "output_type": "stream",
     "text": [
      "++++++++++++++++index:107++++++++++++++++++++++++\n",
      "正确表名： user_profiles\n",
      "预测表名： follows, user_profiles\n",
      "############################################\n"
     ]
    },
    {
     "name": "stderr",
     "output_type": "stream",
     "text": [
      "\r",
      " 61%|█████████████████████████████████████████████████▌                               | 109/178 [07:02<04:24,  3.83s/it]"
     ]
    },
    {
     "name": "stdout",
     "output_type": "stream",
     "text": [
      "++++++++++++++++index:108++++++++++++++++++++++++\n",
      "正确表名： user_profiles\n",
      "预测表名： follows, user_profiles\n",
      "############################################\n"
     ]
    },
    {
     "name": "stderr",
     "output_type": "stream",
     "text": [
      "\r",
      " 62%|██████████████████████████████████████████████████                               | 110/178 [07:06<04:21,  3.85s/it]"
     ]
    },
    {
     "name": "stdout",
     "output_type": "stream",
     "text": [
      "++++++++++++++++index:109++++++++++++++++++++++++\n",
      "正确表名： weather\n",
      "预测表名： weather\n",
      "############################################\n"
     ]
    },
    {
     "name": "stderr",
     "output_type": "stream",
     "text": [
      "\r",
      " 62%|██████████████████████████████████████████████████▌                              | 111/178 [07:10<04:18,  3.85s/it]"
     ]
    },
    {
     "name": "stdout",
     "output_type": "stream",
     "text": [
      "++++++++++++++++index:110++++++++++++++++++++++++\n",
      "正确表名： weather, trip\n",
      "预测表名： trip, weather\n",
      "############################################\n"
     ]
    },
    {
     "name": "stderr",
     "output_type": "stream",
     "text": [
      "\r",
      " 63%|██████████████████████████████████████████████████▉                              | 112/178 [07:14<04:14,  3.85s/it]"
     ]
    },
    {
     "name": "stdout",
     "output_type": "stream",
     "text": [
      "++++++++++++++++index:111++++++++++++++++++++++++\n",
      "正确表名： trip, weather\n",
      "预测表名： trip, weather\n",
      "############################################\n"
     ]
    },
    {
     "name": "stderr",
     "output_type": "stream",
     "text": [
      "\r",
      " 63%|███████████████████████████████████████████████████▍                             | 113/178 [07:18<04:13,  3.90s/it]"
     ]
    },
    {
     "name": "stdout",
     "output_type": "stream",
     "text": [
      "++++++++++++++++index:112++++++++++++++++++++++++\n",
      "正确表名： trip\n",
      "预测表名： trip\n",
      "############################################\n"
     ]
    },
    {
     "name": "stderr",
     "output_type": "stream",
     "text": [
      "\r",
      " 64%|███████████████████████████████████████████████████▉                             | 114/178 [07:22<04:08,  3.88s/it]"
     ]
    },
    {
     "name": "stdout",
     "output_type": "stream",
     "text": [
      "++++++++++++++++index:113++++++++++++++++++++++++\n",
      "正确表名： station, status\n",
      "预测表名： status, station\n",
      "############################################\n"
     ]
    },
    {
     "name": "stderr",
     "output_type": "stream",
     "text": [
      "\r",
      " 65%|████████████████████████████████████████████████████▎                            | 115/178 [07:25<04:04,  3.88s/it]"
     ]
    },
    {
     "name": "stdout",
     "output_type": "stream",
     "text": [
      "++++++++++++++++index:114++++++++++++++++++++++++\n",
      "正确表名： trip\n",
      "预测表名： trip\n",
      "############################################\n"
     ]
    },
    {
     "name": "stderr",
     "output_type": "stream",
     "text": [
      "\r",
      " 65%|████████████████████████████████████████████████████▊                            | 116/178 [07:29<04:00,  3.88s/it]"
     ]
    },
    {
     "name": "stdout",
     "output_type": "stream",
     "text": [
      "++++++++++++++++index:115++++++++++++++++++++++++\n",
      "正确表名： weather\n",
      "预测表名： weather\n",
      "############################################\n"
     ]
    },
    {
     "name": "stderr",
     "output_type": "stream",
     "text": [
      "\r",
      " 66%|█████████████████████████████████████████████████████▏                           | 117/178 [07:33<03:58,  3.90s/it]"
     ]
    },
    {
     "name": "stdout",
     "output_type": "stream",
     "text": [
      "++++++++++++++++index:116++++++++++++++++++++++++\n",
      "正确表名： station\n",
      "预测表名： station\n",
      "############################################\n"
     ]
    },
    {
     "name": "stderr",
     "output_type": "stream",
     "text": [
      "\r",
      " 66%|█████████████████████████████████████████████████████▋                           | 118/178 [07:37<03:54,  3.90s/it]"
     ]
    },
    {
     "name": "stdout",
     "output_type": "stream",
     "text": [
      "++++++++++++++++index:117++++++++++++++++++++++++\n",
      "正确表名： trip\n",
      "预测表名： trip\n",
      "############################################\n"
     ]
    },
    {
     "name": "stderr",
     "output_type": "stream",
     "text": [
      "\r",
      " 67%|██████████████████████████████████████████████████████▏                          | 119/178 [07:41<03:49,  3.90s/it]"
     ]
    },
    {
     "name": "stdout",
     "output_type": "stream",
     "text": [
      "++++++++++++++++index:118++++++++++++++++++++++++\n",
      "正确表名： trip\n",
      "预测表名： trip\n",
      "############################################\n"
     ]
    },
    {
     "name": "stderr",
     "output_type": "stream",
     "text": [
      "\r",
      " 67%|██████████████████████████████████████████████████████▌                          | 120/178 [07:45<03:44,  3.87s/it]"
     ]
    },
    {
     "name": "stdout",
     "output_type": "stream",
     "text": [
      "++++++++++++++++index:119++++++++++++++++++++++++\n",
      "正确表名： campuses\n",
      "预测表名： campuses\n",
      "############################################\n"
     ]
    },
    {
     "name": "stderr",
     "output_type": "stream",
     "text": [
      "\r",
      " 68%|███████████████████████████████████████████████████████                          | 121/178 [07:49<03:41,  3.88s/it]"
     ]
    },
    {
     "name": "stdout",
     "output_type": "stream",
     "text": [
      "++++++++++++++++index:120++++++++++++++++++++++++\n",
      "正确表名： campuses\n",
      "预测表名： campuses\n",
      "############################################\n"
     ]
    },
    {
     "name": "stderr",
     "output_type": "stream",
     "text": [
      "\r",
      " 69%|███████████████████████████████████████████████████████▌                         | 122/178 [07:53<03:37,  3.88s/it]"
     ]
    },
    {
     "name": "stdout",
     "output_type": "stream",
     "text": [
      "++++++++++++++++index:121++++++++++++++++++++++++\n",
      "正确表名： campuses\n",
      "预测表名： campuses\n",
      "############################################\n"
     ]
    },
    {
     "name": "stderr",
     "output_type": "stream",
     "text": [
      "\r",
      " 69%|███████████████████████████████████████████████████████▉                         | 123/178 [07:57<03:33,  3.88s/it]"
     ]
    },
    {
     "name": "stdout",
     "output_type": "stream",
     "text": [
      "++++++++++++++++index:122++++++++++++++++++++++++\n",
      "正确表名： campuses\n",
      "预测表名： campuses\n",
      "############################################\n"
     ]
    },
    {
     "name": "stderr",
     "output_type": "stream",
     "text": [
      "\r",
      " 70%|████████████████████████████████████████████████████████▍                        | 124/178 [08:00<03:28,  3.86s/it]"
     ]
    },
    {
     "name": "stdout",
     "output_type": "stream",
     "text": [
      "++++++++++++++++index:123++++++++++++++++++++++++\n",
      "正确表名： campuses, degrees\n",
      "预测表名： degrees, campuses\n",
      "############################################\n"
     ]
    },
    {
     "name": "stderr",
     "output_type": "stream",
     "text": [
      "\r",
      " 70%|████████████████████████████████████████████████████████▉                        | 125/178 [08:04<03:23,  3.85s/it]"
     ]
    },
    {
     "name": "stdout",
     "output_type": "stream",
     "text": [
      "++++++++++++++++index:124++++++++++++++++++++++++\n",
      "正确表名： faculty, campuses\n",
      "预测表名： faculty, campuses\n",
      "############################################\n"
     ]
    },
    {
     "name": "stderr",
     "output_type": "stream",
     "text": [
      "\r",
      " 71%|█████████████████████████████████████████████████████████▎                       | 126/178 [08:08<03:20,  3.86s/it]"
     ]
    },
    {
     "name": "stdout",
     "output_type": "stream",
     "text": [
      "++++++++++++++++index:125++++++++++++++++++++++++\n",
      "正确表名： campuses\n",
      "预测表名： campuses\n",
      "############################################\n"
     ]
    },
    {
     "name": "stderr",
     "output_type": "stream",
     "text": [
      "\r",
      " 71%|█████████████████████████████████████████████████████████▊                       | 127/178 [08:12<03:17,  3.86s/it]"
     ]
    },
    {
     "name": "stdout",
     "output_type": "stream",
     "text": [
      "++++++++++++++++index:126++++++++++++++++++++++++\n",
      "正确表名： journalist\n",
      "预测表名： journalist\n",
      "############################################\n"
     ]
    },
    {
     "name": "stderr",
     "output_type": "stream",
     "text": [
      "\r",
      " 72%|██████████████████████████████████████████████████████████▏                      | 128/178 [08:16<03:15,  3.91s/it]"
     ]
    },
    {
     "name": "stdout",
     "output_type": "stream",
     "text": [
      "++++++++++++++++index:127++++++++++++++++++++++++\n",
      "正确表名： authors, authorship, papers\n",
      "预测表名： papers, authors, authorship\n",
      "############################################\n"
     ]
    },
    {
     "name": "stderr",
     "output_type": "stream",
     "text": [
      "\r",
      " 72%|██████████████████████████████████████████████████████████▋                      | 129/178 [08:20<03:10,  3.88s/it]"
     ]
    },
    {
     "name": "stdout",
     "output_type": "stream",
     "text": [
      "++++++++++++++++index:128++++++++++++++++++++++++\n",
      "正确表名： papers, authorship, inst\n",
      "预测表名： papers, inst, authorship\n",
      "############################################\n"
     ]
    },
    {
     "name": "stderr",
     "output_type": "stream",
     "text": [
      "\r",
      " 73%|███████████████████████████████████████████████████████████▏                     | 130/178 [08:24<03:05,  3.86s/it]"
     ]
    },
    {
     "name": "stdout",
     "output_type": "stream",
     "text": [
      "++++++++++++++++index:129++++++++++++++++++++++++\n",
      "正确表名： inst, authorship, papers\n",
      "预测表名： papers, inst, authorship\n",
      "############################################\n"
     ]
    },
    {
     "name": "stderr",
     "output_type": "stream",
     "text": [
      "\r",
      " 74%|███████████████████████████████████████████████████████████▌                     | 131/178 [08:27<03:02,  3.88s/it]"
     ]
    },
    {
     "name": "stdout",
     "output_type": "stream",
     "text": [
      "++++++++++++++++index:130++++++++++++++++++++++++\n",
      "正确表名： authors, authorship, papers\n",
      "预测表名： papers, authors, authorship\n",
      "############################################\n"
     ]
    },
    {
     "name": "stderr",
     "output_type": "stream",
     "text": [
      "\r",
      " 74%|████████████████████████████████████████████████████████████                     | 132/178 [08:31<02:57,  3.86s/it]"
     ]
    },
    {
     "name": "stdout",
     "output_type": "stream",
     "text": [
      "++++++++++++++++index:131++++++++++++++++++++++++\n",
      "正确表名： inst, authorship, papers\n",
      "预测表名： papers, authorship\n",
      "############################################\n"
     ]
    },
    {
     "name": "stderr",
     "output_type": "stream",
     "text": [
      "\r",
      " 75%|████████████████████████████████████████████████████████████▌                    | 133/178 [08:35<02:54,  3.89s/it]"
     ]
    },
    {
     "name": "stdout",
     "output_type": "stream",
     "text": [
      "++++++++++++++++index:132++++++++++++++++++++++++\n",
      "正确表名： authors, authorship, papers\n",
      "预测表名： papers, authors, authorship\n",
      "############################################\n"
     ]
    },
    {
     "name": "stderr",
     "output_type": "stream",
     "text": [
      "\r",
      " 75%|████████████████████████████████████████████████████████████▉                    | 134/178 [08:39<02:51,  3.89s/it]"
     ]
    },
    {
     "name": "stdout",
     "output_type": "stream",
     "text": [
      "++++++++++++++++index:133++++++++++++++++++++++++\n",
      "正确表名： furniture\n",
      "预测表名： furniture\n",
      "############################################\n"
     ]
    },
    {
     "name": "stderr",
     "output_type": "stream",
     "text": [
      "\r",
      " 76%|█████████████████████████████████████████████████████████████▍                   | 135/178 [08:43<02:46,  3.88s/it]"
     ]
    },
    {
     "name": "stdout",
     "output_type": "stream",
     "text": [
      "++++++++++++++++index:134++++++++++++++++++++++++\n",
      "正确表名： person, personFriend\n",
      "预测表名： person, personFriend\n",
      "############################################\n"
     ]
    },
    {
     "name": "stderr",
     "output_type": "stream",
     "text": [
      "\r",
      " 76%|█████████████████████████████████████████████████████████████▉                   | 136/178 [08:47<02:42,  3.87s/it]"
     ]
    },
    {
     "name": "stdout",
     "output_type": "stream",
     "text": [
      "++++++++++++++++index:135++++++++++++++++++++++++\n",
      "正确表名： person, personfriend\n",
      "预测表名： personfriend, person\n",
      "############################################\n"
     ]
    },
    {
     "name": "stderr",
     "output_type": "stream",
     "text": [
      "\r",
      " 77%|██████████████████████████████████████████████████████████████▎                  | 137/178 [08:51<02:38,  3.87s/it]"
     ]
    },
    {
     "name": "stdout",
     "output_type": "stream",
     "text": [
      "++++++++++++++++index:136++++++++++++++++++++++++\n",
      "正确表名： person, personFriend\n",
      "预测表名： person\n",
      "############################################\n"
     ]
    },
    {
     "name": "stderr",
     "output_type": "stream",
     "text": [
      "\r",
      " 78%|██████████████████████████████████████████████████████████████▊                  | 138/178 [08:55<02:35,  3.89s/it]"
     ]
    },
    {
     "name": "stdout",
     "output_type": "stream",
     "text": [
      "++++++++++++++++index:137++++++++++++++++++++++++\n",
      "正确表名： person\n",
      "预测表名： person\n",
      "############################################\n"
     ]
    },
    {
     "name": "stderr",
     "output_type": "stream",
     "text": [
      "\r",
      " 78%|███████████████████████████████████████████████████████████████▎                 | 139/178 [08:59<02:31,  3.88s/it]"
     ]
    },
    {
     "name": "stdout",
     "output_type": "stream",
     "text": [
      "++++++++++++++++index:138++++++++++++++++++++++++\n",
      "正确表名： person\n",
      "预测表名： person\n",
      "############################################\n"
     ]
    },
    {
     "name": "stderr",
     "output_type": "stream",
     "text": [
      "\r",
      " 79%|███████████████████████████████████████████████████████████████▋                 | 140/178 [09:03<02:29,  3.92s/it]"
     ]
    },
    {
     "name": "stdout",
     "output_type": "stream",
     "text": [
      "++++++++++++++++index:139++++++++++++++++++++++++\n",
      "正确表名： person\n",
      "预测表名： person\n",
      "############################################\n"
     ]
    },
    {
     "name": "stderr",
     "output_type": "stream",
     "text": [
      "\r",
      " 79%|████████████████████████████████████████████████████████████████▏                | 141/178 [09:07<02:25,  3.93s/it]"
     ]
    },
    {
     "name": "stdout",
     "output_type": "stream",
     "text": [
      "++++++++++++++++index:140++++++++++++++++++++++++\n",
      "正确表名： personfriend, person\n",
      "预测表名： personfriend\n",
      "############################################\n"
     ]
    },
    {
     "name": "stderr",
     "output_type": "stream",
     "text": [
      "\r",
      " 80%|████████████████████████████████████████████████████████████████▌                | 142/178 [09:10<02:21,  3.92s/it]"
     ]
    },
    {
     "name": "stdout",
     "output_type": "stream",
     "text": [
      "++++++++++++++++index:141++++++++++++++++++++++++\n",
      "正确表名： person\n",
      "预测表名： person\n",
      "############################################\n"
     ]
    },
    {
     "name": "stderr",
     "output_type": "stream",
     "text": [
      "\r",
      " 80%|█████████████████████████████████████████████████████████████████                | 143/178 [09:14<02:17,  3.93s/it]"
     ]
    },
    {
     "name": "stdout",
     "output_type": "stream",
     "text": [
      "++++++++++++++++index:142++++++++++++++++++++++++\n",
      "正确表名： enzyme\n",
      "预测表名： enzyme\n",
      "############################################\n"
     ]
    },
    {
     "name": "stderr",
     "output_type": "stream",
     "text": [
      "\r",
      " 81%|█████████████████████████████████████████████████████████████████▌               | 144/178 [09:18<02:13,  3.91s/it]"
     ]
    },
    {
     "name": "stdout",
     "output_type": "stream",
     "text": [
      "++++++++++++++++index:143++++++++++++++++++++++++\n",
      "正确表名： enzyme\n",
      "预测表名： enzyme\n",
      "############################################\n"
     ]
    },
    {
     "name": "stderr",
     "output_type": "stream",
     "text": [
      "\r",
      " 81%|█████████████████████████████████████████████████████████████████▉               | 145/178 [09:22<02:08,  3.90s/it]"
     ]
    },
    {
     "name": "stdout",
     "output_type": "stream",
     "text": [
      "++++++++++++++++index:144++++++++++++++++++++++++\n",
      "正确表名： enzyme\n",
      "预测表名： enzyme\n",
      "############################################\n"
     ]
    },
    {
     "name": "stderr",
     "output_type": "stream",
     "text": [
      "\r",
      " 82%|██████████████████████████████████████████████████████████████████▍              | 146/178 [09:26<02:06,  3.97s/it]"
     ]
    },
    {
     "name": "stdout",
     "output_type": "stream",
     "text": [
      "++++++++++++++++index:145++++++++++++++++++++++++\n",
      "正确表名： medicine, medicine_enzyme_interaction\n",
      "预测表名： medicine_enzyme_interaction, medicine\n",
      "############################################\n"
     ]
    },
    {
     "name": "stderr",
     "output_type": "stream",
     "text": [
      "\r",
      " 83%|██████████████████████████████████████████████████████████████████▉              | 147/178 [09:30<02:03,  4.00s/it]"
     ]
    },
    {
     "name": "stdout",
     "output_type": "stream",
     "text": [
      "++++++++++++++++index:146++++++++++++++++++++++++\n",
      "正确表名： apartment_bookings, apartments\n",
      "预测表名： apartments, apartment_bookings\n",
      "############################################\n"
     ]
    },
    {
     "name": "stderr",
     "output_type": "stream",
     "text": [
      "\r",
      " 83%|███████████████████████████████████████████████████████████████████▎             | 148/178 [09:34<01:59,  3.98s/it]"
     ]
    },
    {
     "name": "stdout",
     "output_type": "stream",
     "text": [
      "++++++++++++++++index:147++++++++++++++++++++++++\n",
      "正确表名： apartment_bookings, guests\n",
      "预测表名： guests, apartment_bookings\n",
      "############################################\n"
     ]
    },
    {
     "name": "stderr",
     "output_type": "stream",
     "text": [
      "\r",
      " 84%|███████████████████████████████████████████████████████████████████▊             | 149/178 [09:38<01:57,  4.04s/it]"
     ]
    },
    {
     "name": "stdout",
     "output_type": "stream",
     "text": [
      "++++++++++++++++index:148++++++++++++++++++++++++\n",
      "正确表名： apartment_buildings, apartments\n",
      "预测表名： apartments, apartment_buildings\n",
      "############################################\n"
     ]
    },
    {
     "name": "stderr",
     "output_type": "stream",
     "text": [
      "\r",
      " 84%|████████████████████████████████████████████████████████████████████▎            | 150/178 [09:42<01:51,  3.98s/it]"
     ]
    },
    {
     "name": "stdout",
     "output_type": "stream",
     "text": [
      "++++++++++++++++index:149++++++++++++++++++++++++\n",
      "正确表名： apartment_bookings, guests\n",
      "预测表名： guests, apartment_bookings\n",
      "############################################\n"
     ]
    },
    {
     "name": "stderr",
     "output_type": "stream",
     "text": [
      "\r",
      " 85%|████████████████████████████████████████████████████████████████████▋            | 151/178 [09:46<01:46,  3.96s/it]"
     ]
    },
    {
     "name": "stdout",
     "output_type": "stream",
     "text": [
      "++++++++++++++++index:150++++++++++++++++++++++++\n",
      "正确表名： apartment_facilities, apartments\n",
      "预测表名： apartments, apartment_facilities\n",
      "############################################\n"
     ]
    },
    {
     "name": "stderr",
     "output_type": "stream",
     "text": [
      "\r",
      " 85%|█████████████████████████████████████████████████████████████████████▏           | 152/178 [09:50<01:42,  3.93s/it]"
     ]
    },
    {
     "name": "stdout",
     "output_type": "stream",
     "text": [
      "++++++++++++++++index:151++++++++++++++++++++++++\n",
      "正确表名： apartments\n",
      "预测表名： apartments\n",
      "############################################\n"
     ]
    },
    {
     "name": "stderr",
     "output_type": "stream",
     "text": [
      "\r",
      " 86%|█████████████████████████████████████████████████████████████████████▌           | 153/178 [09:54<01:37,  3.91s/it]"
     ]
    },
    {
     "name": "stdout",
     "output_type": "stream",
     "text": [
      "++++++++++++++++index:152++++++++++++++++++++++++\n",
      "正确表名： apartments\n",
      "预测表名： apartments\n",
      "############################################\n"
     ]
    },
    {
     "name": "stderr",
     "output_type": "stream",
     "text": [
      "\r",
      " 87%|██████████████████████████████████████████████████████████████████████           | 154/178 [09:58<01:34,  3.92s/it]"
     ]
    },
    {
     "name": "stdout",
     "output_type": "stream",
     "text": [
      "++++++++++++++++index:153++++++++++++++++++++++++\n",
      "正确表名： apartment_buildings\n",
      "预测表名： apartment_buildings\n",
      "############################################\n"
     ]
    },
    {
     "name": "stderr",
     "output_type": "stream",
     "text": [
      "\r",
      " 87%|██████████████████████████████████████████████████████████████████████▌          | 155/178 [10:02<01:29,  3.91s/it]"
     ]
    },
    {
     "name": "stdout",
     "output_type": "stream",
     "text": [
      "++++++++++++++++index:154++++++++++++++++++++++++\n",
      "正确表名： program\n",
      "预测表名： program\n",
      "############################################\n"
     ]
    },
    {
     "name": "stderr",
     "output_type": "stream",
     "text": [
      "\r",
      " 88%|██████████████████████████████████████████████████████████████████████▉          | 156/178 [10:06<01:25,  3.88s/it]"
     ]
    },
    {
     "name": "stdout",
     "output_type": "stream",
     "text": [
      "++++++++++++++++index:155++++++++++++++++++++++++\n",
      "正确表名： program, broadcast\n",
      "预测表名： program, broadcast\n",
      "############################################\n"
     ]
    },
    {
     "name": "stderr",
     "output_type": "stream",
     "text": [
      "\r",
      " 88%|███████████████████████████████████████████████████████████████████████▍         | 157/178 [10:09<01:21,  3.87s/it]"
     ]
    },
    {
     "name": "stdout",
     "output_type": "stream",
     "text": [
      "++++++++++++++++index:156++++++++++++++++++++++++\n",
      "正确表名： channel\n",
      "预测表名： channel\n",
      "############################################\n"
     ]
    },
    {
     "name": "stderr",
     "output_type": "stream",
     "text": [
      "\r",
      " 89%|███████████████████████████████████████████████████████████████████████▉         | 158/178 [10:13<01:17,  3.89s/it]"
     ]
    },
    {
     "name": "stdout",
     "output_type": "stream",
     "text": [
      "++++++++++++++++index:157++++++++++++++++++++++++\n",
      "正确表名： channel\n",
      "预测表名： channel\n",
      "############################################\n"
     ]
    },
    {
     "name": "stderr",
     "output_type": "stream",
     "text": [
      "\r",
      " 89%|████████████████████████████████████████████████████████████████████████▎        | 159/178 [10:17<01:14,  3.93s/it]"
     ]
    },
    {
     "name": "stdout",
     "output_type": "stream",
     "text": [
      "++++++++++++++++index:158++++++++++++++++++++++++\n",
      "正确表名： customer_master_index\n",
      "预测表名： customer_master_index\n",
      "############################################\n"
     ]
    },
    {
     "name": "stderr",
     "output_type": "stream",
     "text": [
      "\r",
      " 90%|████████████████████████████████████████████████████████████████████████▊        | 160/178 [10:21<01:10,  3.92s/it]"
     ]
    },
    {
     "name": "stdout",
     "output_type": "stream",
     "text": [
      "++++++++++++++++index:159++++++++++++++++++++++++\n",
      "正确表名： district\n",
      "预测表名： district\n",
      "############################################\n"
     ]
    },
    {
     "name": "stderr",
     "output_type": "stream",
     "text": [
      "\r",
      " 90%|█████████████████████████████████████████████████████████████████████████▎       | 161/178 [10:25<01:06,  3.91s/it]"
     ]
    },
    {
     "name": "stdout",
     "output_type": "stream",
     "text": [
      "++++++++++++++++index:160++++++++++++++++++++++++\n",
      "正确表名： district\n",
      "预测表名： district\n",
      "############################################\n"
     ]
    },
    {
     "name": "stderr",
     "output_type": "stream",
     "text": [
      "\r",
      " 91%|█████████████████████████████████████████████████████████████████████████▋       | 162/178 [10:29<01:02,  3.93s/it]"
     ]
    },
    {
     "name": "stdout",
     "output_type": "stream",
     "text": [
      "++++++++++++++++index:161++++++++++++++++++++++++\n",
      "正确表名： district\n",
      "预测表名： district\n",
      "############################################\n"
     ]
    },
    {
     "name": "stderr",
     "output_type": "stream",
     "text": [
      "\r",
      " 92%|██████████████████████████████████████████████████████████████████████████▏      | 163/178 [10:33<00:59,  3.96s/it]"
     ]
    },
    {
     "name": "stdout",
     "output_type": "stream",
     "text": [
      "++++++++++++++++index:162++++++++++++++++++++++++\n",
      "正确表名： district\n",
      "预测表名： district\n",
      "############################################\n"
     ]
    },
    {
     "name": "stderr",
     "output_type": "stream",
     "text": [
      "\r",
      " 92%|██████████████████████████████████████████████████████████████████████████▋      | 164/178 [10:37<00:55,  3.93s/it]"
     ]
    },
    {
     "name": "stdout",
     "output_type": "stream",
     "text": [
      "++++++++++++++++index:163++++++++++++++++++++++++\n",
      "正确表名： gas_station\n",
      "预测表名： gas_station, manager\n",
      "############################################\n"
     ]
    },
    {
     "name": "stderr",
     "output_type": "stream",
     "text": [
      "\r",
      " 93%|███████████████████████████████████████████████████████████████████████████      | 165/178 [10:41<00:51,  3.93s/it]"
     ]
    },
    {
     "name": "stdout",
     "output_type": "stream",
     "text": [
      "++++++++++++++++index:164++++++++++++++++++++++++\n",
      "正确表名： company\n",
      "预测表名： companies\n",
      "############################################\n"
     ]
    },
    {
     "name": "stderr",
     "output_type": "stream",
     "text": [
      "\r",
      " 93%|███████████████████████████████████████████████████████████████████████████▌     | 166/178 [10:45<00:46,  3.90s/it]"
     ]
    },
    {
     "name": "stdout",
     "output_type": "stream",
     "text": [
      "++++++++++++++++index:165++++++++++++++++++++++++\n",
      "正确表名： company\n",
      "预测表名： company\n",
      "############################################\n"
     ]
    },
    {
     "name": "stderr",
     "output_type": "stream",
     "text": [
      "\r",
      " 94%|███████████████████████████████████████████████████████████████████████████▉     | 167/178 [10:49<00:42,  3.86s/it]"
     ]
    },
    {
     "name": "stdout",
     "output_type": "stream",
     "text": [
      "++++++++++++++++index:166++++++++++++++++++++++++\n",
      "正确表名： station_company, company, gas_station\n",
      "预测表名： station_company, company, gas_station\n",
      "############################################\n"
     ]
    },
    {
     "name": "stderr",
     "output_type": "stream",
     "text": [
      "\r",
      " 94%|████████████████████████████████████████████████████████████████████████████▍    | 168/178 [10:52<00:38,  3.86s/it]"
     ]
    },
    {
     "name": "stdout",
     "output_type": "stream",
     "text": [
      "++++++++++++++++index:167++++++++++++++++++++++++\n",
      "正确表名： festival_detail\n",
      "预测表名： festival_detail\n",
      "############################################\n"
     ]
    },
    {
     "name": "stderr",
     "output_type": "stream",
     "text": [
      "\r",
      " 95%|████████████████████████████████████████████████████████████████████████████▉    | 169/178 [10:56<00:34,  3.87s/it]"
     ]
    },
    {
     "name": "stdout",
     "output_type": "stream",
     "text": [
      "++++++++++++++++index:168++++++++++++++++++++++++\n",
      "正确表名： festival_detail\n",
      "预测表名： festival_detail\n",
      "############################################\n"
     ]
    },
    {
     "name": "stderr",
     "output_type": "stream",
     "text": [
      "\r",
      " 96%|█████████████████████████████████████████████████████████████████████████████▎   | 170/178 [11:00<00:31,  3.90s/it]"
     ]
    },
    {
     "name": "stdout",
     "output_type": "stream",
     "text": [
      "++++++++++++++++index:169++++++++++++++++++++++++\n",
      "正确表名： building, institution\n",
      "预测表名： institution\n",
      "############################################\n"
     ]
    },
    {
     "name": "stderr",
     "output_type": "stream",
     "text": [
      "\r",
      " 96%|█████████████████████████████████████████████████████████████████████████████▊   | 171/178 [11:04<00:27,  3.90s/it]"
     ]
    },
    {
     "name": "stdout",
     "output_type": "stream",
     "text": [
      "++++++++++++++++index:170++++++++++++++++++++++++\n",
      "正确表名： building, institution\n",
      "预测表名： institution\n",
      "############################################\n"
     ]
    },
    {
     "name": "stderr",
     "output_type": "stream",
     "text": [
      "\r",
      " 97%|██████████████████████████████████████████████████████████████████████████████▎  | 172/178 [11:08<00:23,  3.95s/it]"
     ]
    },
    {
     "name": "stdout",
     "output_type": "stream",
     "text": [
      "++++++++++++++++index:171++++++++++++++++++++++++\n",
      "正确表名： roller_coaster\n",
      "预测表名： roller_coaster\n",
      "############################################\n"
     ]
    },
    {
     "name": "stderr",
     "output_type": "stream",
     "text": [
      "\r",
      " 97%|██████████████████████████████████████████████████████████████████████████████▋  | 173/178 [11:12<00:19,  3.92s/it]"
     ]
    },
    {
     "name": "stdout",
     "output_type": "stream",
     "text": [
      "++++++++++++++++index:172++++++++++++++++++++++++\n",
      "正确表名： participants\n",
      "预测表名： participants\n",
      "############################################\n"
     ]
    },
    {
     "name": "stderr",
     "output_type": "stream",
     "text": [
      "\r",
      " 98%|███████████████████████████████████████████████████████████████████████████████▏ | 174/178 [11:16<00:15,  3.90s/it]"
     ]
    },
    {
     "name": "stdout",
     "output_type": "stream",
     "text": [
      "++++++++++++++++index:173++++++++++++++++++++++++\n",
      "正确表名： mill\n",
      "预测表名： mill\n",
      "############################################\n"
     ]
    },
    {
     "name": "stderr",
     "output_type": "stream",
     "text": [
      "\r",
      " 98%|███████████████████████████████████████████████████████████████████████████████▋ | 175/178 [11:20<00:11,  3.89s/it]"
     ]
    },
    {
     "name": "stdout",
     "output_type": "stream",
     "text": [
      "++++++++++++++++index:174++++++++++++++++++++++++\n",
      "正确表名： railway\n",
      "预测表名： railway\n",
      "############################################\n"
     ]
    },
    {
     "name": "stderr",
     "output_type": "stream",
     "text": [
      "\r",
      " 99%|████████████████████████████████████████████████████████████████████████████████ | 176/178 [11:24<00:07,  3.89s/it]"
     ]
    },
    {
     "name": "stdout",
     "output_type": "stream",
     "text": [
      "++++++++++++++++index:175++++++++++++++++++++++++\n",
      "正确表名： railway\n",
      "预测表名： railway\n",
      "############################################\n"
     ]
    },
    {
     "name": "stderr",
     "output_type": "stream",
     "text": [
      "\r",
      " 99%|████████████████████████████████████████████████████████████████████████████████▌| 177/178 [11:28<00:03,  3.88s/it]"
     ]
    },
    {
     "name": "stdout",
     "output_type": "stream",
     "text": [
      "++++++++++++++++index:176++++++++++++++++++++++++\n",
      "正确表名： book\n",
      "预测表名： book\n",
      "############################################\n"
     ]
    },
    {
     "name": "stderr",
     "output_type": "stream",
     "text": [
      "100%|█████████████████████████████████████████████████████████████████████████████████| 178/178 [11:31<00:00,  3.89s/it]"
     ]
    },
    {
     "name": "stdout",
     "output_type": "stream",
     "text": [
      "++++++++++++++++index:177++++++++++++++++++++++++\n",
      "正确表名： book, publication\n",
      "预测表名： publication, book\n",
      "############################################\n",
      "4\n"
     ]
    },
    {
     "name": "stderr",
     "output_type": "stream",
     "text": [
      "\n"
     ]
    }
   ],
   "source": [
    "df = pd.read_csv(\"./dataset2/validation_dataset_formatted_cropped.csv\",encoding=\"utf-8\")\n",
    "outer_index = 0\n",
    "import re\n",
    "import time\n",
    "pattern = re.compile(r'-- Tables: ([\\w, ]+);')\n",
    "results = []\n",
    "#  schema_slicing\n",
    "start_time = time.time()\n",
    "for index, row in tqdm(df.iterrows(), total=len(df)):\n",
    "    question = row['question']\n",
    "    ref_tables = row['correct_tables']\n",
    "    selected_table_set = set()\n",
    "    result_count = 0\n",
    "    for schema in schema_slicing:\n",
    "        result_count += 1\n",
    "        if len(selected_table_set) > 0:\n",
    "            selected_table =  ', '.join(list(selected_table_set))\n",
    "        else:\n",
    "            selected_table = \"None\"\n",
    "        instruction = get_instruction(schema)\n",
    "        input_value = get_input_value(question,selected_table)\n",
    "        messages = [\n",
    "        {\"role\": \"system\", \"content\": f\"{instruction}\"},\n",
    "        {\"role\": \"user\", \"content\": f\"{input_value}\"}]\n",
    "        response = predict(messages, model, tokenizer)\n",
    "        if \"#None#\" not in response:\n",
    "            match = re.search(pattern, response)\n",
    "            if match:\n",
    "            # 提取匹配的表名字符串\n",
    "                table_names_str = match.group(1)\n",
    "\n",
    "                # 使用中文逗号分隔表名，这里我们替换中文逗号为英文逗号并去除空格\n",
    "        #         table_names = [name.strip() for name in table_names_str.replace('，', ',').split(',')]\n",
    "                table_names = table_names_str.split(', ')\n",
    "                # 将table_names整合成一个由英文逗号分隔的字符串\n",
    "#                 predict_table = ', '.join(table_names)\n",
    "#                 \n",
    "#                 print(\"预测表名：\", predict_table)\n",
    "#                 print(\"############################################\")\n",
    "                for predict_table in table_names:\n",
    "                    selected_table_set.add(predict_table)\n",
    "#                 if result_count == 7 or result_count == 8:\n",
    "#                     print(\"^^^^^^^^^^^^^^^^^^^^^final_select_:\",predict_table)\n",
    "            else:\n",
    "                predict_table = \"None\"\n",
    "#                 selected_table_list.append(predict_table)\n",
    "    if len(selected_table_set) > 0:\n",
    "        total_selected_table =  ', '.join(list(selected_table_set))\n",
    "    else:\n",
    "        total_selected_table = \"None\"\n",
    "    print(f\"++++++++++++++++index:{index}++++++++++++++++++++++++\")\n",
    "    print(\"正确表名：\",ref_tables)\n",
    "    print(\"预测表名：\",total_selected_table)\n",
    "    print(\"############################################\")\n",
    "    results.append([ref_tables,total_selected_table])\n",
    "end_time = time.time()\n",
    "print(len(predict_table))"
   ]
  },
  {
   "cell_type": "code",
   "execution_count": 15,
   "id": "5ae1fb2c",
   "metadata": {},
   "outputs": [],
   "source": [
    "new_df = pd.DataFrame(results, columns = ['reference_tables','predicted_tables'])"
   ]
  },
  {
   "cell_type": "code",
   "execution_count": 16,
   "id": "dc4df2ae",
   "metadata": {},
   "outputs": [
    {
     "name": "stdout",
     "output_type": "stream",
     "text": [
      "            reference_tables         predicted_tables\n",
      "0    products, manufacturers  products, manufacturers\n",
      "1                   products                 products\n",
      "2              manufacturers            manufacturers\n",
      "3              manufacturers                     None\n",
      "4              manufacturers            manufacturers\n",
      "..                       ...                      ...\n",
      "173                     mill                     mill\n",
      "174                  railway                  railway\n",
      "175                  railway                  railway\n",
      "176                     book                     book\n",
      "177        book, publication        publication, book\n",
      "\n",
      "[178 rows x 2 columns]\n"
     ]
    }
   ],
   "source": [
    "print(new_df)"
   ]
  },
  {
   "cell_type": "code",
   "execution_count": 17,
   "id": "21332fd3",
   "metadata": {},
   "outputs": [
    {
     "name": "stdout",
     "output_type": "stream",
     "text": [
      "3.887381667501471\n"
     ]
    }
   ],
   "source": [
    "total_data = len(df['question'])\n",
    "total_time = end_time - start_time\n",
    "# print(total_data)\n",
    "signal_infernece_time = total_time/total_data\n",
    "print(signal_infernece_time)"
   ]
  },
  {
   "cell_type": "code",
   "execution_count": 18,
   "id": "7def6952",
   "metadata": {},
   "outputs": [
    {
     "name": "stdout",
     "output_type": "stream",
     "text": [
      "Total Accuracy: 0.8426966292134831\n",
      "Filtered Accuracy: 0.8707865168539326\n",
      "Average Precision: 0.949438202247191\n",
      "Average Recall: 0.9236891385767791\n"
     ]
    }
   ],
   "source": [
    "total_samples = len(new_df)\n",
    "total_accuracy = 0\n",
    "filtered_accuracy = 0\n",
    "total_precision = 0\n",
    "total_recall = 0\n",
    "count = 0\n",
    "for index, row in new_df.iterrows():\n",
    "#     count+=1\n",
    "#     print(\"index:\",count)\n",
    "    if not row['predicted_tables'] or pd.isna(row['predicted_tables']):\n",
    "        continue\n",
    "    predicted_tables = row['predicted_tables'].split(\",\")\n",
    "    reference_tables = row['reference_tables'].split(\",\")\n",
    "    \n",
    "    # Convert to lowercase and strip whitespace for comparison\n",
    "    predicted_tables = [x.lower().replace(\"--\",\"\").replace(\"**\",\"\").strip() for x in predicted_tables]\n",
    "    reference_tables = [x.lower().strip() for x in reference_tables]\n",
    "    \n",
    "    # Calculate accuracy\n",
    "    if set(predicted_tables) == set(reference_tables):\n",
    "        total_accuracy += 1\n",
    "\n",
    "    # Calculate precision and recall\n",
    "    true_positives = len(set(predicted_tables) & set(reference_tables))\n",
    "    false_positives = len(set(predicted_tables) - set(reference_tables))\n",
    "    false_negatives = len(set(reference_tables) - set(predicted_tables))\n",
    "\n",
    "    if true_positives == len(reference_tables):\n",
    "        filtered_accuracy += 1\n",
    "    \n",
    "    if len(predicted_tables) > 0:\n",
    "        precision = true_positives / (true_positives + false_positives)\n",
    "        recall = true_positives / (true_positives + false_negatives)\n",
    "    \n",
    "    total_precision += precision\n",
    "    total_recall += recall\n",
    "\n",
    "# Calculate average precision and recall\n",
    "avg_precision = total_precision / total_samples\n",
    "avg_recall = total_recall / total_samples\n",
    "\n",
    "# Calculate total accuracya\n",
    "accuracy = total_accuracy / total_samples\n",
    "filtered_accuracy = filtered_accuracy / total_samples\n",
    "\n",
    "print(\"Total Accuracy:\", accuracy)\n",
    "print(\"Filtered Accuracy:\", filtered_accuracy)\n",
    "print(\"Average Precision:\", avg_precision)\n",
    "print(\"Average Recall:\", avg_recall)"
   ]
  },
  {
   "cell_type": "code",
   "execution_count": 14,
   "id": "faac209d",
   "metadata": {},
   "outputs": [],
   "source": [
    "new_df.to_csv('pre_table.csv',index=False,encoding='utf-8')"
   ]
  }
 ],
 "metadata": {
  "kernelspec": {
   "display_name": "lr-sql",
   "language": "python",
   "name": "lr-sql"
  },
  "language_info": {
   "codemirror_mode": {
    "name": "ipython",
    "version": 3
   },
   "file_extension": ".py",
   "mimetype": "text/x-python",
   "name": "python",
   "nbconvert_exporter": "python",
   "pygments_lexer": "ipython3",
   "version": "3.10.18"
  }
 },
 "nbformat": 4,
 "nbformat_minor": 5
}
