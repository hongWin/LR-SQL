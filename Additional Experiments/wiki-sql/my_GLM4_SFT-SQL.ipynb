{
 "cells": [
  {
   "cell_type": "code",
   "execution_count": 1,
   "id": "966748e8",
   "metadata": {},
   "outputs": [
    {
     "name": "stderr",
     "output_type": "stream",
     "text": [
      "/home/vipuser/anaconda3/envs/lr-sql/lib/python3.10/site-packages/tqdm/auto.py:21: TqdmWarning: IProgress not found. Please update jupyter and ipywidgets. See https://ipywidgets.readthedocs.io/en/stable/user_install.html\n",
      "  from .autonotebook import tqdm as notebook_tqdm\n"
     ]
    }
   ],
   "source": [
    "import os\n",
    "\n",
    "# os.environ[\"WANDB_API_KEY\"] = '+++++++++++'  # 将引号内的+替换成自己在wandb上的一串值\n",
    "# os.environ[\"WANDB_MODE\"] = \"offline\"  # 离线  （此行代码不用修改）\n",
    "\n",
    "import json\n",
    "\n",
    "import pandas as pd\n",
    "import torch\n",
    "from datasets import Dataset\n",
    "from peft import LoraConfig, TaskType, get_peft_model\n",
    "from transformers import AutoTokenizer, AutoModelForCausalLM, TrainingArguments\n",
    "# from swanlab.integration.huggingface import SwanLabCallback\n",
    "from transformers import DataCollatorForSeq2Seq, Trainer\n",
    "import os"
   ]
  },
  {
   "cell_type": "code",
   "execution_count": 2,
   "id": "f6da362b",
   "metadata": {},
   "outputs": [],
   "source": [
    "glm4_model_path = '/home/model/para_glm4'\n",
    "device = torch.device(\"cuda\" if torch.cuda.is_available() else \"cpu\")"
   ]
  },
  {
   "cell_type": "code",
   "execution_count": 3,
   "id": "003007a0",
   "metadata": {},
   "outputs": [
    {
     "name": "stderr",
     "output_type": "stream",
     "text": [
      "Special tokens have been added in the vocabulary, make sure the associated word embeddings are fine-tuned or trained.\n",
      "Loading checkpoint shards: 100%|████████████████████████████████████████████████████████| 10/10 [01:27<00:00,  8.79s/it]\n"
     ]
    }
   ],
   "source": [
    "# 加载训练集和测试集\n",
    "tokenizer = AutoTokenizer.from_pretrained(glm4_model_path, use_fast=False,\n",
    "                                          trust_remote_code=True)\n",
    "model = AutoModelForCausalLM.from_pretrained(glm4_model_path,\n",
    "                                             #quantization_config=bnb_config,\n",
    "                                             device_map=\"auto\", torch_dtype=torch.bfloat16,\n",
    "#                                              attn_implementation=\"flash_attention_2\",\n",
    "                                             trust_remote_code=True)\n",
    "model.config.use_cache = False"
   ]
  },
  {
   "cell_type": "code",
   "execution_count": 4,
   "id": "3193aec6",
   "metadata": {},
   "outputs": [
    {
     "name": "stdout",
     "output_type": "stream",
     "text": [
      "<|endoftext|>\n"
     ]
    },
    {
     "data": {
      "text/plain": [
       "[151331, 151333, 151329]"
      ]
     },
     "execution_count": 4,
     "metadata": {},
     "output_type": "execute_result"
    }
   ],
   "source": [
    "model.enable_input_require_grads()  #  开启梯度检查点\n",
    "tokenizer.pad_token = tokenizer.eos_token\n",
    "tokenizer.pad_token_id = tokenizer.eos_token_id\n",
    "#结束标识符\n",
    "print(tokenizer.eos_token)\n",
    "tokenizer.encode('<|endoftext|>')"
   ]
  },
  {
   "cell_type": "code",
   "execution_count": 5,
   "id": "9791f8b7",
   "metadata": {},
   "outputs": [
    {
     "name": "stdout",
     "output_type": "stream",
     "text": [
      "                                               question  \\\n",
      "0     What is the number for the international with ...   \n",
      "1     What position(s) does the player drafted #34 p...   \n",
      "2     What is the average Gold award that has a Silv...   \n",
      "3     What country came in third when there were 13 ...   \n",
      "4     What is the number of bronze when the total is...   \n",
      "...                                                 ...   \n",
      "7330  What is the rank for the player with 5 wins an...   \n",
      "7331  How many wins were there when draws were more ...   \n",
      "7332  What is the point total for the season with 2 ...   \n",
      "7333                 Which venue hosted a race in 1967?   \n",
      "7334  What is the average pick with 85 overall in a ...   \n",
      "\n",
      "                                           create_table  \\\n",
      "0     CREATE TABLE 2-17673820-2 (\\n  \"Year\" TEXT,\\n ...   \n",
      "1     CREATE TABLE 1-14650373-1 (\\n  \"Pick__\" TEXT,\\...   \n",
      "2     CREATE TABLE 2-12573588-9 (\\n  \"Rank\" TEXT,\\n ...   \n",
      "3     CREATE TABLE 2-15526447-1 (\\n  \"Season\" TEXT,\\...   \n",
      "4     CREATE TABLE 2-1877416-2 (\\n  \"Rank\" TEXT,\\n  ...   \n",
      "...                                                 ...   \n",
      "7330  CREATE TABLE 2-11621873-3 (\\n  \"Rank\" TEXT,\\n ...   \n",
      "7331  CREATE TABLE 2-17746037-5 (\\n  \"Glenelg_FL\" TE...   \n",
      "7332  CREATE TABLE 1-20505342-1 (\\n  \"Season\" TEXT,\\...   \n",
      "7333  CREATE TABLE 2-11881177-1 (\\n  \"Year\" TEXT,\\n ...   \n",
      "7334  CREATE TABLE 2-17100961-85 (\\n  \"Round\" TEXT,\\...   \n",
      "\n",
      "                                                    sql     table_name  \n",
      "0     SELECT AVG(\"International\") FROM 2-17673820-2 ...   2-17673820-2  \n",
      "1     SELECT \"Position\" FROM 1-14650373-1 WHERE \"Pic...   1-14650373-1  \n",
      "2     SELECT AVG(\"Gold\") FROM 2-12573588-9 WHERE \"Si...   2-12573588-9  \n",
      "3     SELECT \"Third\" FROM 2-15526447-1 WHERE \"Teams\"...   2-15526447-1  \n",
      "4     SELECT AVG(\"Bronze\") FROM 2-1877416-2 WHERE \"T...    2-1877416-2  \n",
      "...                                                 ...            ...  \n",
      "7330  SELECT SUM(\"Rank\") FROM 2-11621873-3 WHERE \"Wi...   2-11621873-3  \n",
      "7331  SELECT MIN(\"Wins\") FROM 2-17746037-5 WHERE \"Dr...   2-17746037-5  \n",
      "7332  SELECT MIN(\"Total_Points\") FROM 1-20505342-1 W...   1-20505342-1  \n",
      "7333  SELECT \"Venue\" FROM 2-11881177-1 WHERE \"Year\" ...   2-11881177-1  \n",
      "7334  SELECT AVG(\"Pick\") FROM 2-17100961-85 WHERE \"O...  2-17100961-85  \n",
      "\n",
      "[7335 rows x 4 columns]\n"
     ]
    }
   ],
   "source": [
    "train_dataset_path = \"wiki/wikisql_train.csv\"  \n",
    "df = pd.read_csv(train_dataset_path)\n",
    "print(df)"
   ]
  },
  {
   "cell_type": "code",
   "execution_count": 6,
   "id": "cdb3b866",
   "metadata": {},
   "outputs": [
    {
     "name": "stdout",
     "output_type": "stream",
     "text": [
      "\n",
      "You are an intelligent SQL generation assistant.  \n",
      "Your task is to generate a valid SQL query using the schema provided in <database>...</database>,  \n",
      "based on the natural language request given in <question>...</question>.  \n",
      "\n",
      "Return your answer strictly in the following format:  \n",
      "<answer>YOUR_GENERATED_SQL</answer>  \n",
      "\n"
     ]
    }
   ],
   "source": [
    "system_prompt = \"\"\"\n",
    "You are an intelligent SQL generation assistant.  \n",
    "Your task is to generate a valid SQL query using the schema provided in <database>...</database>,  \n",
    "based on the natural language request given in <question>...</question>.  \n",
    "\n",
    "Return your answer strictly in the following format:  \n",
    "<answer>YOUR_GENERATED_SQL</answer>  \n",
    "\"\"\"\n",
    "print(system_prompt)"
   ]
  },
  {
   "cell_type": "code",
   "execution_count": 7,
   "id": "7c87cac2",
   "metadata": {},
   "outputs": [],
   "source": [
    "def process_func(example):\n",
    "    \"\"\"\n",
    "    将数据集进行预处理  {example['input']}\n",
    "    \"\"\"\n",
    "    MAX_LENGTH = 700 \n",
    "    input_ids, attention_mask, labels = [], [], []\n",
    "    instruction = tokenizer(\n",
    "        f\"<|system|>\\n{system_prompt}<|endoftext|>\\n<|user|><question>{example['question']}</question>\\n<database>{example['create_table']}</database>\\n<|endoftext|>\\n<|assistant|>\\n\",\n",
    "        add_special_tokens=False,\n",
    "    )\n",
    "    response = tokenizer(f\"<answer>\\n{example['sql']}</answer>\", add_special_tokens=False)\n",
    "    input_ids = instruction[\"input_ids\"] + response[\"input_ids\"] + [tokenizer.pad_token_id]\n",
    "    attention_mask = (\n",
    "        instruction[\"attention_mask\"] + response[\"attention_mask\"] + [1]\n",
    "    )\n",
    "    labels = [-100] * len(instruction[\"input_ids\"]) + response[\"input_ids\"] + [tokenizer.pad_token_id]\n",
    "    if len(input_ids) > MAX_LENGTH:  # 做一个截断\n",
    "        input_ids = input_ids[:MAX_LENGTH]\n",
    "        attention_mask = attention_mask[:MAX_LENGTH]\n",
    "        labels = labels[:MAX_LENGTH]\n",
    "    return {\"input_ids\": input_ids, \"attention_mask\": attention_mask, \"labels\": labels}"
   ]
  },
  {
   "cell_type": "code",
   "execution_count": 8,
   "id": "f11c0f17",
   "metadata": {},
   "outputs": [
    {
     "name": "stderr",
     "output_type": "stream",
     "text": [
      "Map: 100%|█████████████████████████████████████████████████████████████████| 7335/7335 [00:06<00:00, 1077.86 examples/s]\n"
     ]
    }
   ],
   "source": [
    "train_ds = Dataset.from_pandas(df)\n",
    "train_dataset = train_ds.map(process_func, remove_columns=train_ds.column_names)"
   ]
  },
  {
   "cell_type": "code",
   "execution_count": 9,
   "id": "715e3b1b",
   "metadata": {},
   "outputs": [
    {
     "name": "stdout",
     "output_type": "stream",
     "text": [
      "Dataset({\n",
      "    features: ['input_ids', 'attention_mask', 'labels'],\n",
      "    num_rows: 7335\n",
      "})\n"
     ]
    }
   ],
   "source": [
    "print(train_dataset)"
   ]
  },
  {
   "cell_type": "code",
   "execution_count": 10,
   "id": "e6ee935f",
   "metadata": {},
   "outputs": [
    {
     "name": "stdout",
     "output_type": "stream",
     "text": [
      "=== Input ===\n",
      "\n",
      "\n",
      "You are an intelligent SQL generation assistant.  \n",
      "Your task is to generate a valid SQL query using the schema provided in <database>...</database>,  \n",
      "based on the natural language request given in <question>...</question>.  \n",
      "\n",
      "Return your answer strictly in the following format:  \n",
      "<answer>YOUR_GENERATED_SQL</answer>  \n",
      "\n",
      "<question>What is the number for the international with 669 domestic earlier than 2005?</question>\n",
      "<database>CREATE TABLE 2-17673820-2 (\n",
      "  \"Year\" TEXT,\n",
      "  \"Domestic\" TEXT,\n",
      "  \"International\" TEXT,\n",
      "  \"Total\" TEXT,\n",
      "  \"Change\" TEXT\n",
      ");</database>\n",
      "\n",
      "\n",
      "<answer>\n",
      "SELECT AVG(\"International\") FROM 2-17673820-2 WHERE \"Domestic\" = 669 AND \"Year\" < 2005</answer>\n",
      "\n",
      "=== Label ===\n",
      "<answer>\n",
      "SELECT AVG(\"International\") FROM 2-17673820-2 WHERE \"Domestic\" = 669 AND \"Year\" < 2005</answer>\n"
     ]
    }
   ],
   "source": [
    "first_item = train_dataset[0]\n",
    "\n",
    "# input_ids 解码\n",
    "decoded_input = tokenizer.decode(first_item[\"input_ids\"], skip_special_tokens=True)\n",
    "\n",
    "# labels 解码（有的任务 labels 会把 pad 部分设成 -100，要先替换回 pad_token_id）\n",
    "labels_ids = [\n",
    "    token_id if token_id != -100 else tokenizer.pad_token_id\n",
    "    for token_id in first_item[\"labels\"]\n",
    "]\n",
    "decoded_labels = tokenizer.decode(labels_ids, skip_special_tokens=True)\n",
    "\n",
    "print(\"=== Input ===\")\n",
    "print(decoded_input)\n",
    "\n",
    "print(\"\\n=== Label ===\")\n",
    "print(decoded_labels)"
   ]
  },
  {
   "cell_type": "code",
   "execution_count": 11,
   "id": "aaceadd7",
   "metadata": {},
   "outputs": [],
   "source": [
    "lora_r = 64\n",
    "lora_alpha = 32\n",
    "lora_dropout = 0.1\n",
    "output_dir = \"./A-GLM4\"\n",
    "num_train_epochs = 4\n",
    "bf16 = True\n",
    "overwrite_output_dir = True\n",
    "per_device_train_batch_size = 2\n",
    "# per_device_eval_batch_size = 2\n",
    "gradient_accumulation_steps = 16\n",
    "gradient_checkpointing = True\n",
    "evaluation_strategy = \"steps\"\n",
    "learning_rate = 5e-5\n",
    "weight_decay = 0.01\n",
    "lr_scheduler_type = \"cosine\"\n",
    "warmup_ratio = 0.01\n",
    "max_grad_norm = 0.3\n",
    "group_by_length = True\n",
    "auto_find_batch_size = False\n",
    "save_steps = 40\n",
    "logging_steps = 50\n",
    "load_best_model_at_end= False\n",
    "packing = False\n",
    "save_total_limit=2\n",
    "neftune_noise_alpha=5\n",
    "# report_to=\"wandb\"\n",
    "max_seq_length = 700"
   ]
  },
  {
   "cell_type": "code",
   "execution_count": 12,
   "id": "8ba4db67",
   "metadata": {},
   "outputs": [],
   "source": [
    "peft_config = LoraConfig(\n",
    "    lora_alpha=lora_alpha,\n",
    "    lora_dropout=lora_dropout,\n",
    "    r=lora_r,\n",
    "    target_modules=[\n",
    "       \"query_key_value\", \"dense\", \"dense_h_to_4h\", \"activation_func\", \"dense_4h_to_h\"\n",
    "    ],\n",
    "    task_type=TaskType.CAUSAL_LM,\n",
    ")"
   ]
  },
  {
   "cell_type": "code",
   "execution_count": 13,
   "id": "2641d056",
   "metadata": {},
   "outputs": [],
   "source": [
    "training_arguments = TrainingArguments(\n",
    "    output_dir=output_dir,\n",
    "    overwrite_output_dir=overwrite_output_dir,\n",
    "    num_train_epochs=num_train_epochs,\n",
    "    load_best_model_at_end=load_best_model_at_end,\n",
    "    per_device_train_batch_size=per_device_train_batch_size,\n",
    "#     evaluation_strategy=evaluation_strategy,\n",
    "    max_grad_norm = max_grad_norm,\n",
    "    auto_find_batch_size = auto_find_batch_size,\n",
    "    save_total_limit = save_total_limit,\n",
    "    gradient_accumulation_steps=gradient_accumulation_steps,\n",
    "    save_steps=save_steps,\n",
    "    logging_steps=logging_steps,\n",
    "    learning_rate=learning_rate,\n",
    "    weight_decay=weight_decay,\n",
    "    bf16=bf16,\n",
    "    warmup_ratio=warmup_ratio,\n",
    "    group_by_length=group_by_length,\n",
    "    lr_scheduler_type=lr_scheduler_type,\n",
    "    report_to=\"none\",\n",
    "    neftune_noise_alpha= neftune_noise_alpha\n",
    ")"
   ]
  },
  {
   "cell_type": "code",
   "execution_count": 14,
   "id": "357d7e65",
   "metadata": {},
   "outputs": [
    {
     "name": "stderr",
     "output_type": "stream",
     "text": [
      "Detected kernel version 5.4.0, which is below the recommended minimum of 5.5.0; this can cause the process to hang. It is recommended to upgrade the kernel to the minimum version or higher.\n"
     ]
    }
   ],
   "source": [
    "model = get_peft_model(model, peft_config)\n",
    "trainer = Trainer(\n",
    "    model=model,\n",
    "    args=training_arguments,\n",
    "    train_dataset=train_dataset,\n",
    "#     eval_dataset= val_dataset,\n",
    "    data_collator=DataCollatorForSeq2Seq(tokenizer=tokenizer, padding=True),\n",
    "#     callbacks=[swanlab_callback],\n",
    ")"
   ]
  },
  {
   "cell_type": "code",
   "execution_count": 15,
   "id": "3bd8b3d3",
   "metadata": {},
   "outputs": [
    {
     "data": {
      "text/html": [
       "\n",
       "    <div>\n",
       "      \n",
       "      <progress value='916' max='916' style='width:300px; height:20px; vertical-align: middle;'></progress>\n",
       "      [916/916 54:48, Epoch 3/4]\n",
       "    </div>\n",
       "    <table border=\"1\" class=\"dataframe\">\n",
       "  <thead>\n",
       " <tr style=\"text-align: left;\">\n",
       "      <th>Step</th>\n",
       "      <th>Training Loss</th>\n",
       "    </tr>\n",
       "  </thead>\n",
       "  <tbody>\n",
       "    <tr>\n",
       "      <td>50</td>\n",
       "      <td>0.252500</td>\n",
       "    </tr>\n",
       "    <tr>\n",
       "      <td>100</td>\n",
       "      <td>0.044000</td>\n",
       "    </tr>\n",
       "    <tr>\n",
       "      <td>150</td>\n",
       "      <td>0.033800</td>\n",
       "    </tr>\n",
       "    <tr>\n",
       "      <td>200</td>\n",
       "      <td>0.033100</td>\n",
       "    </tr>\n",
       "    <tr>\n",
       "      <td>250</td>\n",
       "      <td>0.032200</td>\n",
       "    </tr>\n",
       "    <tr>\n",
       "      <td>300</td>\n",
       "      <td>0.025700</td>\n",
       "    </tr>\n",
       "    <tr>\n",
       "      <td>350</td>\n",
       "      <td>0.024600</td>\n",
       "    </tr>\n",
       "    <tr>\n",
       "      <td>400</td>\n",
       "      <td>0.022300</td>\n",
       "    </tr>\n",
       "    <tr>\n",
       "      <td>450</td>\n",
       "      <td>0.021800</td>\n",
       "    </tr>\n",
       "    <tr>\n",
       "      <td>500</td>\n",
       "      <td>0.016900</td>\n",
       "    </tr>\n",
       "    <tr>\n",
       "      <td>550</td>\n",
       "      <td>0.017200</td>\n",
       "    </tr>\n",
       "    <tr>\n",
       "      <td>600</td>\n",
       "      <td>0.016100</td>\n",
       "    </tr>\n",
       "    <tr>\n",
       "      <td>650</td>\n",
       "      <td>0.019100</td>\n",
       "    </tr>\n",
       "    <tr>\n",
       "      <td>700</td>\n",
       "      <td>0.016400</td>\n",
       "    </tr>\n",
       "    <tr>\n",
       "      <td>750</td>\n",
       "      <td>0.013700</td>\n",
       "    </tr>\n",
       "    <tr>\n",
       "      <td>800</td>\n",
       "      <td>0.014000</td>\n",
       "    </tr>\n",
       "    <tr>\n",
       "      <td>850</td>\n",
       "      <td>0.014300</td>\n",
       "    </tr>\n",
       "    <tr>\n",
       "      <td>900</td>\n",
       "      <td>0.013900</td>\n",
       "    </tr>\n",
       "  </tbody>\n",
       "</table><p>"
      ],
      "text/plain": [
       "<IPython.core.display.HTML object>"
      ]
     },
     "metadata": {},
     "output_type": "display_data"
    },
    {
     "name": "stderr",
     "output_type": "stream",
     "text": [
      "/home/vipuser/anaconda3/envs/lr-sql/lib/python3.10/site-packages/peft/utils/save_and_load.py:154: UserWarning: Could not find a config file in /home/model/para_glm4 - will assume that the vocabulary was not modified.\n",
      "  warnings.warn(\n",
      "/home/vipuser/anaconda3/envs/lr-sql/lib/python3.10/site-packages/peft/utils/save_and_load.py:154: UserWarning: Could not find a config file in /home/model/para_glm4 - will assume that the vocabulary was not modified.\n",
      "  warnings.warn(\n",
      "/home/vipuser/anaconda3/envs/lr-sql/lib/python3.10/site-packages/peft/utils/save_and_load.py:154: UserWarning: Could not find a config file in /home/model/para_glm4 - will assume that the vocabulary was not modified.\n",
      "  warnings.warn(\n",
      "/home/vipuser/anaconda3/envs/lr-sql/lib/python3.10/site-packages/peft/utils/save_and_load.py:154: UserWarning: Could not find a config file in /home/model/para_glm4 - will assume that the vocabulary was not modified.\n",
      "  warnings.warn(\n",
      "/home/vipuser/anaconda3/envs/lr-sql/lib/python3.10/site-packages/peft/utils/save_and_load.py:154: UserWarning: Could not find a config file in /home/model/para_glm4 - will assume that the vocabulary was not modified.\n",
      "  warnings.warn(\n",
      "/home/vipuser/anaconda3/envs/lr-sql/lib/python3.10/site-packages/peft/utils/save_and_load.py:154: UserWarning: Could not find a config file in /home/model/para_glm4 - will assume that the vocabulary was not modified.\n",
      "  warnings.warn(\n",
      "/home/vipuser/anaconda3/envs/lr-sql/lib/python3.10/site-packages/peft/utils/save_and_load.py:154: UserWarning: Could not find a config file in /home/model/para_glm4 - will assume that the vocabulary was not modified.\n",
      "  warnings.warn(\n",
      "/home/vipuser/anaconda3/envs/lr-sql/lib/python3.10/site-packages/peft/utils/save_and_load.py:154: UserWarning: Could not find a config file in /home/model/para_glm4 - will assume that the vocabulary was not modified.\n",
      "  warnings.warn(\n",
      "/home/vipuser/anaconda3/envs/lr-sql/lib/python3.10/site-packages/peft/utils/save_and_load.py:154: UserWarning: Could not find a config file in /home/model/para_glm4 - will assume that the vocabulary was not modified.\n",
      "  warnings.warn(\n",
      "/home/vipuser/anaconda3/envs/lr-sql/lib/python3.10/site-packages/peft/utils/save_and_load.py:154: UserWarning: Could not find a config file in /home/model/para_glm4 - will assume that the vocabulary was not modified.\n",
      "  warnings.warn(\n",
      "/home/vipuser/anaconda3/envs/lr-sql/lib/python3.10/site-packages/peft/utils/save_and_load.py:154: UserWarning: Could not find a config file in /home/model/para_glm4 - will assume that the vocabulary was not modified.\n",
      "  warnings.warn(\n",
      "/home/vipuser/anaconda3/envs/lr-sql/lib/python3.10/site-packages/peft/utils/save_and_load.py:154: UserWarning: Could not find a config file in /home/model/para_glm4 - will assume that the vocabulary was not modified.\n",
      "  warnings.warn(\n",
      "/home/vipuser/anaconda3/envs/lr-sql/lib/python3.10/site-packages/peft/utils/save_and_load.py:154: UserWarning: Could not find a config file in /home/model/para_glm4 - will assume that the vocabulary was not modified.\n",
      "  warnings.warn(\n",
      "/home/vipuser/anaconda3/envs/lr-sql/lib/python3.10/site-packages/peft/utils/save_and_load.py:154: UserWarning: Could not find a config file in /home/model/para_glm4 - will assume that the vocabulary was not modified.\n",
      "  warnings.warn(\n",
      "/home/vipuser/anaconda3/envs/lr-sql/lib/python3.10/site-packages/peft/utils/save_and_load.py:154: UserWarning: Could not find a config file in /home/model/para_glm4 - will assume that the vocabulary was not modified.\n",
      "  warnings.warn(\n",
      "/home/vipuser/anaconda3/envs/lr-sql/lib/python3.10/site-packages/peft/utils/save_and_load.py:154: UserWarning: Could not find a config file in /home/model/para_glm4 - will assume that the vocabulary was not modified.\n",
      "  warnings.warn(\n",
      "/home/vipuser/anaconda3/envs/lr-sql/lib/python3.10/site-packages/peft/utils/save_and_load.py:154: UserWarning: Could not find a config file in /home/model/para_glm4 - will assume that the vocabulary was not modified.\n",
      "  warnings.warn(\n",
      "/home/vipuser/anaconda3/envs/lr-sql/lib/python3.10/site-packages/peft/utils/save_and_load.py:154: UserWarning: Could not find a config file in /home/model/para_glm4 - will assume that the vocabulary was not modified.\n",
      "  warnings.warn(\n",
      "/home/vipuser/anaconda3/envs/lr-sql/lib/python3.10/site-packages/peft/utils/save_and_load.py:154: UserWarning: Could not find a config file in /home/model/para_glm4 - will assume that the vocabulary was not modified.\n",
      "  warnings.warn(\n",
      "/home/vipuser/anaconda3/envs/lr-sql/lib/python3.10/site-packages/peft/utils/save_and_load.py:154: UserWarning: Could not find a config file in /home/model/para_glm4 - will assume that the vocabulary was not modified.\n",
      "  warnings.warn(\n",
      "/home/vipuser/anaconda3/envs/lr-sql/lib/python3.10/site-packages/peft/utils/save_and_load.py:154: UserWarning: Could not find a config file in /home/model/para_glm4 - will assume that the vocabulary was not modified.\n",
      "  warnings.warn(\n",
      "/home/vipuser/anaconda3/envs/lr-sql/lib/python3.10/site-packages/peft/utils/save_and_load.py:154: UserWarning: Could not find a config file in /home/model/para_glm4 - will assume that the vocabulary was not modified.\n",
      "  warnings.warn(\n"
     ]
    },
    {
     "data": {
      "text/plain": [
       "TrainOutput(global_step=916, training_loss=0.034736334887133936, metrics={'train_runtime': 3295.1572, 'train_samples_per_second': 8.904, 'train_steps_per_second': 0.278, 'total_flos': 3.104837138270945e+17, 'train_loss': 0.034736334887133936, 'epoch': 3.995637949836423})"
      ]
     },
     "execution_count": 15,
     "metadata": {},
     "output_type": "execute_result"
    }
   ],
   "source": [
    "trainer.train()"
   ]
  },
  {
   "cell_type": "code",
   "execution_count": 16,
   "id": "593c40c8",
   "metadata": {},
   "outputs": [
    {
     "name": "stderr",
     "output_type": "stream",
     "text": [
      "/home/vipuser/anaconda3/envs/lr-sql/lib/python3.10/site-packages/peft/utils/save_and_load.py:154: UserWarning: Could not find a config file in /home/model/para_glm4 - will assume that the vocabulary was not modified.\n",
      "  warnings.warn(\n"
     ]
    }
   ],
   "source": [
    "output_dir = os.path.join(\"./\", \"A-GLM4/final_adatper_GLM4\")\n",
    "trainer.model.save_pretrained(output_dir)"
   ]
  },
  {
   "cell_type": "code",
   "execution_count": 17,
   "id": "7d4c63c6",
   "metadata": {},
   "outputs": [],
   "source": [
    "# def make_user_prompt(question, database_schema):\n",
    "#     return f\"<question>{question}</question>\\n<database>{database_schema}</database>\"\n",
    "\n",
    "# def make_reponse(target_schema):\n",
    "#     return f\"<answer>\\n{target_schema}</answer>\""
   ]
  },
  {
   "cell_type": "code",
   "execution_count": 15,
   "id": "ae01f079",
   "metadata": {},
   "outputs": [],
   "source": [
    "# def make_conversation(question, database_schema,target_schema):\n",
    "#     conversation = []\n",
    "#     conversation0 = {}\n",
    "#     conversation1 = {}\n",
    "#     conversation2 = {}\n",
    "#     user_prompt = make_user_prompt(question, database_schema)\n",
    "#     assistance_prompt = make_reponse(target_schema)\n",
    "#     conversation0[\"role\"] = \"system\"\n",
    "#     conversation0[\"content\"] = system_prompt\n",
    "#     conversation1[\"role\"] = \"user\"\n",
    "#     conversation1[\"content\"] = user_prompt + \"\\n\"\n",
    "#     conversation2[\"role\"] = \"assistant\"\n",
    "#     conversation2[\"content\"] = assistance_prompt\n",
    "#     conversation.append(conversation0)\n",
    "#     conversation.append(conversation1)\n",
    "#     conversation.append(conversation2)\n",
    "#     all_info = system_prompt + user_prompt + assistance_prompt\n",
    "# #     print(conversation2[\"content\"])\n",
    "#     return conversation, all_info"
   ]
  },
  {
   "cell_type": "code",
   "execution_count": 16,
   "id": "04245be8",
   "metadata": {},
   "outputs": [],
   "source": [
    "# trans_data = {}\n",
    "# message = []\n",
    "# max_token = 0\n",
    "# for index, row in df.iterrows():\n",
    "#     conversation, all_info = make_conversation(row[\"question\"],row[\"create_table\"],row[\"sql\"])\n",
    "#     message.append(conversation)\n",
    "#     token_len = len(tokenizer(all_info, add_special_tokens=False)[\"input_ids\"])\n",
    "# #     print(all_info)\n",
    "#     if  token_len >  max_token:\n",
    "#         max_token = token_len\n",
    "# trans_data[\"messages\"] = message"
   ]
  },
  {
   "cell_type": "code",
   "execution_count": 17,
   "id": "03201910",
   "metadata": {},
   "outputs": [
    {
     "name": "stdout",
     "output_type": "stream",
     "text": [
      "{'messages': [{'content': '\\nYou are an intelligent SQL generation assistant.  \\nYour task is to generate a valid SQL query using the schema provided in <database>...</database>,  \\nbased on the natural language request given in <question>...</question>.  \\n\\nReturn your answer strictly in the following format:  \\n<answer>YOUR_GENERATED_SQL</answer>  \\n', 'role': 'system'}, {'content': '<question>What is the number for the international with 669 domestic earlier than 2005?</question>\\n<database>CREATE TABLE 2-17673820-2 (\\n  \"Year\" TEXT,\\n  \"Domestic\" TEXT,\\n  \"International\" TEXT,\\n  \"Total\" TEXT,\\n  \"Change\" TEXT\\n);</database>\\n', 'role': 'user'}, {'content': '<answer>\\nSELECT AVG(\"International\") FROM 2-17673820-2 WHERE \"Domestic\" = 669 AND \"Year\" < 2005</answer>', 'role': 'assistant'}]}\n"
     ]
    }
   ],
   "source": [
    "# trans_data = pd.DataFrame(trans_data)\n",
    "# trans_data = Dataset.from_pandas(trans_data,split=\"train\")\n",
    "# for sample in trans_data:\n",
    "#     print(sample)\n",
    "#     break  # 仅打印第一个样本"
   ]
  },
  {
   "cell_type": "code",
   "execution_count": 18,
   "id": "38b22f60",
   "metadata": {},
   "outputs": [
    {
     "name": "stdout",
     "output_type": "stream",
     "text": [
      "582\n"
     ]
    }
   ],
   "source": [
    "# print(max_token)"
   ]
  },
  {
   "cell_type": "code",
   "execution_count": null,
   "id": "2912becc",
   "metadata": {},
   "outputs": [],
   "source": [
    "# trans_data = {}\n",
    "# message = []\n",
    "# max_token = 0\n",
    "# for index, row in df.iterrows():\n",
    "#     conversation, all_info = make_conversation(row[\"question\"],row[\"database_schema\"],row[\"target_schema\"])\n",
    "#     message.append(conversation)\n",
    "#     token_len = len(tokenizer(all_info, add_special_tokens=False)[\"input_ids\"])\n",
    "# #     print(all_info)\n",
    "#     if  token_len >  max_token:\n",
    "#         max_token = token_len\n",
    "# trans_data[\"messages\"] = message"
   ]
  },
  {
   "cell_type": "code",
   "execution_count": 5,
   "id": "b1e2015f",
   "metadata": {},
   "outputs": [
    {
     "name": "stdout",
     "output_type": "stream",
     "text": [
      "max_len: 1912\n"
     ]
    }
   ],
   "source": [
    "#获取最大toekn数\n",
    "# train_path = \"/home/code/GLM4_Lora_NER-master/Gen_SQL_dataset/T2Q_GLM4_SFT_train_SQL.jsonl\"\n",
    "# max_len = 0\n",
    "# with open(train_path, \"r\") as file:\n",
    "#         for line in file:\n",
    "#             # 解析每一行的json数据\n",
    "#             example = json.loads(line)\n",
    "#             instruction = tokenizer(\n",
    "#         f\"<|system|>\\n Given the following SQL tables, your job is to generate the Sqlite SQL query given the user's question.<|endoftext|>\\n<|user|>\\n{example['input']}<|endoftext|>\\n<|assistant|>\\n\",\n",
    "#         add_special_tokens=False, )\n",
    "#             response = tokenizer(f\"{example['output']}\", add_special_tokens=False)\n",
    "#             input_ids = instruction[\"input_ids\"] + response[\"input_ids\"] + [tokenizer.pad_token_id]\n",
    "#             attention_mask = (\n",
    "#             instruction[\"attention_mask\"] + response[\"attention_mask\"] + [1])\n",
    "#             labels = [-100] * len(instruction[\"input_ids\"]) + response[\"input_ids\"] + [tokenizer.pad_token_id]\n",
    "#             if len(input_ids) > max_len:\n",
    "#                 max_len = len(input_ids)\n",
    "# print(\"max_len:\",max_len)   \n",
    "# #1810"
   ]
  },
  {
   "cell_type": "code",
   "execution_count": null,
   "id": "e3d37e48",
   "metadata": {},
   "outputs": [],
   "source": []
  },
  {
   "cell_type": "code",
   "execution_count": 6,
   "id": "bd049f6f",
   "metadata": {},
   "outputs": [],
   "source": [
    "#  和下面的max_len 作一个合并\n",
    "#  max_seq_length = 2100\n",
    "# def process_func(example):\n",
    "#     \"\"\"\n",
    "#     将数据集进行预处理\n",
    "#     \"\"\"\n",
    "#     MAX_LENGTH = 2100 \n",
    "#     input_ids, attention_mask, labels = [], [], []\n",
    "#     instruction = tokenizer(\n",
    "#         f\"<|system|>\\nGiven the following SQL tables, your job is to determine the tables that the question is referring to.<|endoftext|>\\n<|user|>\\n{example['input']}<|endoftext|>\\n<|assistant|>\\n\",\n",
    "#         add_special_tokens=False,\n",
    "#     )\n",
    "#     response = tokenizer(f\"{example['output']}\", add_special_tokens=False)\n",
    "#     input_ids = instruction[\"input_ids\"] + response[\"input_ids\"] + [tokenizer.pad_token_id]\n",
    "#     attention_mask = (\n",
    "#         instruction[\"attention_mask\"] + response[\"attention_mask\"] + [1]\n",
    "#     )\n",
    "#     labels = [-100] * len(instruction[\"input_ids\"]) + response[\"input_ids\"] + [tokenizer.pad_token_id]\n",
    "#     if len(input_ids) > MAX_LENGTH:  # 做一个截断\n",
    "#         input_ids = input_ids[:MAX_LENGTH]\n",
    "#         attention_mask = attention_mask[:MAX_LENGTH]\n",
    "#         labels = labels[:MAX_LENGTH]\n",
    "#     return {\"input_ids\": input_ids, \"attention_mask\": attention_mask, \"labels\": labels}"
   ]
  },
  {
   "cell_type": "code",
   "execution_count": 7,
   "id": "5f2fde0d",
   "metadata": {},
   "outputs": [
    {
     "name": "stderr",
     "output_type": "stream",
     "text": [
      "                                                                                                                                     \r"
     ]
    }
   ],
   "source": [
    "#  set dataset\n",
    "# train_path = \"/home/code/GLM4_Lora_NER-master/Gen_SQL_dataset/T2Q_GLM4_SFT_train_SQL.jsonl\"\n",
    "# val_path = \"/home/code/GLM4_Lora_NER-master/Gen_SQL_dataset/T2Q_GLM4_SFT_val_SQL.jsonl\"\n",
    "\n",
    "# train_df = pd.read_json(train_path, lines=True)\n",
    "# train_ds = Dataset.from_pandas(train_df)\n",
    "# train_dataset = train_ds.map(process_func, remove_columns=train_ds.column_names)\n",
    "\n",
    "\n",
    "# val_df = pd.read_json(val_path, lines=True)\n",
    "# val_ds = Dataset.from_pandas(val_df)\n",
    "# val_dataset = val_ds.map(process_func, remove_columns=val_ds.column_names)"
   ]
  },
  {
   "cell_type": "code",
   "execution_count": 8,
   "id": "f4cf51af",
   "metadata": {},
   "outputs": [],
   "source": [
    "#  train_config\n",
    "#  示例里 r 为 8\n",
    "lora_r = 8\n",
    "lora_alpha = 32\n",
    "lora_dropout = 0.1\n",
    "output_dir = \"./SFT_SQL\"\n",
    "num_train_epochs = 2\n",
    "bf16 = True\n",
    "overwrite_output_dir = True\n",
    "per_device_train_batch_size = 2\n",
    "per_device_eval_batch_size = 2\n",
    "gradient_accumulation_steps = 16\n",
    "gradient_checkpointing = True\n",
    "evaluation_strategy = \"steps\"\n",
    "learning_rate = 5e-5\n",
    "weight_decay = 0.01\n",
    "lr_scheduler_type = \"cosine\"\n",
    "warmup_ratio = 0.01\n",
    "max_grad_norm = 0.3\n",
    "group_by_length = True\n",
    "auto_find_batch_size = False\n",
    "save_steps = 50\n",
    "logging_steps = 10\n",
    "load_best_model_at_end= False\n",
    "packing = False\n",
    "save_total_limit=4\n",
    "neftune_noise_alpha=5\n",
    "# report_to=\"wandb\"\n",
    "max_seq_length = 2100"
   ]
  },
  {
   "cell_type": "code",
   "execution_count": 9,
   "id": "4a95c204",
   "metadata": {},
   "outputs": [],
   "source": [
    "peft_config = LoraConfig(\n",
    "    lora_alpha=lora_alpha,\n",
    "    lora_dropout=lora_dropout,\n",
    "    r=lora_r,\n",
    "    target_modules=[\n",
    "       \"query_key_value\", \"dense\", \"dense_h_to_4h\", \"activation_func\", \"dense_4h_to_h\"\n",
    "    ],\n",
    "    task_type=TaskType.CAUSAL_LM,\n",
    ")"
   ]
  },
  {
   "cell_type": "code",
   "execution_count": 10,
   "id": "de4180ce",
   "metadata": {},
   "outputs": [],
   "source": [
    "swanlab_callback = SwanLabCallback(\n",
    "    project=\"GLM4-SFT_T2QSQL\",\n",
    "    experiment_name=\"GLM4-9B-Chat\",\n",
    "    description=\"使用智谱GLM4-9B-Chat模型在spider数据集上微调 生成SQL。\",\n",
    "    config={\n",
    "        \"model\": \"/home/LLM_para/para_glm4\",\n",
    "        \"dataset\": \"T2Q_GLM4_SFT_train_SQL.jsonl\",\n",
    "    },\n",
    ")"
   ]
  },
  {
   "cell_type": "code",
   "execution_count": 11,
   "id": "77008805",
   "metadata": {},
   "outputs": [
    {
     "name": "stderr",
     "output_type": "stream",
     "text": [
      "/home/vipuser/anaconda3/envs/GLM4/lib/python3.10/site-packages/transformers/training_args.py:1474: FutureWarning: `evaluation_strategy` is deprecated and will be removed in version 4.46 of 🤗 Transformers. Use `eval_strategy` instead\n",
      "  warnings.warn(\n"
     ]
    }
   ],
   "source": [
    "training_arguments = TrainingArguments(\n",
    "    output_dir=output_dir,\n",
    "    overwrite_output_dir=overwrite_output_dir,\n",
    "    num_train_epochs=num_train_epochs,\n",
    "    load_best_model_at_end=load_best_model_at_end,\n",
    "    per_device_train_batch_size=per_device_train_batch_size,\n",
    "    evaluation_strategy=evaluation_strategy,\n",
    "    max_grad_norm = max_grad_norm,\n",
    "    auto_find_batch_size = auto_find_batch_size,\n",
    "    save_total_limit = save_total_limit,\n",
    "    gradient_accumulation_steps=gradient_accumulation_steps,\n",
    "    save_steps=save_steps,\n",
    "    logging_steps=logging_steps,\n",
    "    learning_rate=learning_rate,\n",
    "    weight_decay=weight_decay,\n",
    "    bf16=bf16,\n",
    "    warmup_ratio=warmup_ratio,\n",
    "    group_by_length=group_by_length,\n",
    "    lr_scheduler_type=lr_scheduler_type,\n",
    "    report_to=\"none\",\n",
    "    neftune_noise_alpha= neftune_noise_alpha\n",
    ")"
   ]
  },
  {
   "cell_type": "code",
   "execution_count": 12,
   "id": "98d5d29c",
   "metadata": {},
   "outputs": [
    {
     "name": "stderr",
     "output_type": "stream",
     "text": [
      "Detected kernel version 5.4.0, which is below the recommended minimum of 5.5.0; this can cause the process to hang. It is recommended to upgrade the kernel to the minimum version or higher.\n"
     ]
    }
   ],
   "source": [
    "# response_template = \"### Response:\"\n",
    "# collator = DataCollatorForCompletionOnlyLM(response_template, tokenizer=tokenizer)\n",
    "# collator = DataCollatorForSeq2Seq(tokenizer=tokenizer, padding=True)\n",
    "# trainer = SFTTrainer(\n",
    "#     model=model,\n",
    "#     train_dataset=dataset['train'],\n",
    "#     eval_dataset=dataset['validation'],\n",
    "#     peft_config=peft_config,\n",
    "#     data_collator=collator,\n",
    "#     args=training_arguments,\n",
    "#     max_seq_length=max_seq_length,\n",
    "#     packing=packing\n",
    "# )\n",
    "model = get_peft_model(model, peft_config)\n",
    "trainer = Trainer(\n",
    "    model=model,\n",
    "    args=training_arguments,\n",
    "    train_dataset=train_dataset,\n",
    "    eval_dataset= val_dataset,\n",
    "    data_collator=DataCollatorForSeq2Seq(tokenizer=tokenizer, padding=True),\n",
    "    callbacks=[swanlab_callback],\n",
    ")"
   ]
  },
  {
   "cell_type": "code",
   "execution_count": 13,
   "id": "b25bcf14",
   "metadata": {},
   "outputs": [
    {
     "name": "stdout",
     "output_type": "stream",
     "text": [
      "\u001b[1m\u001b[34mswanlab\u001b[0m\u001b[0m: Tracking run with swanlab version 0.3.10                                  \n",
      "\u001b[1m\u001b[34mswanlab\u001b[0m\u001b[0m: Run data will be saved locally in \u001b[35m\u001b[1m/home/code/GLM4_Lora_NER-master/swanlog/run-20240615_073134-a3b1799d\u001b[0m\u001b[0m\n",
      "\u001b[1m\u001b[34mswanlab\u001b[0m\u001b[0m: 👋 Hi \u001b[1m\u001b[39mwinhong\u001b[0m\u001b[0m, welcome to swanlab!\n",
      "\u001b[1m\u001b[34mswanlab\u001b[0m\u001b[0m: Syncing run \u001b[33mGLM4-9B-Chat_Jun15_07-31-34\u001b[0m to the cloud\n",
      "\u001b[1m\u001b[34mswanlab\u001b[0m\u001b[0m: 🌟 Run `\u001b[1mswanlab watch -l /home/code/GLM4_Lora_NER-master/swanlog\u001b[0m` to view SwanLab Experiment Dashboard locally\n",
      "\u001b[1m\u001b[34mswanlab\u001b[0m\u001b[0m: 🏠 View project at \u001b[34m\u001b[4mhttps://swanlab.cn/@winhong/GLM4-SFT_T2QSQL\u001b[0m\u001b[0m\n",
      "\u001b[1m\u001b[34mswanlab\u001b[0m\u001b[0m: 🚀 View run at \u001b[34m\u001b[4mhttps://swanlab.cn/@winhong/GLM4-SFT_T2QSQL/runs/mmk3sxabfclfrqrwmxh6c\u001b[0m\u001b[0m\n"
     ]
    },
    {
     "data": {
      "text/html": [
       "\n",
       "<!DOCTYPE html>\n",
       "<html lang=\"en\">\n",
       "<head>\n",
       "    <meta charset=\"UTF-8\">\n",
       "    <meta name=\"viewport\" content=\"width=device-width, initial-scale=1.0\">\n",
       "    <title>Show Iframe</title>\n",
       "    \n",
       "        <script>\n",
       "            function showIframe() {\n",
       "                var iframeHtml = '<iframe src=\"https://swanlab.cn/@winhong/GLM4-SFT_T2QSQL/runs/mmk3sxabfclfrqrwmxh6c\" width=100% height=\"600\" frameborder=\"no\"></iframe>';\n",
       "                document.getElementById('iframeContainer').innerHTML = iframeHtml;\n",
       "            }\n",
       "        </script>\n",
       "        \n",
       "</head>\n",
       "<body>\n",
       "    <style>\n",
       "        .interactive-button {\n",
       "            display: flex;\n",
       "            align-items: center;\n",
       "            height: 36px;\n",
       "            border: 0px;\n",
       "            background-color: #2c8f63;\n",
       "            color: white;\n",
       "            padding: 10px 20px;\n",
       "            transition: background-color 0.3s, transform 0.2s;\n",
       "        }\n",
       "\n",
       "        .interactive-button:hover {\n",
       "            background-color: #5cab87;\n",
       "            cursor: pointer;\n",
       "        }\n",
       "\n",
       "        .interactive-button:active {\n",
       "            background-color: #217952;\n",
       "            transform: scale(0.96);\n",
       "        }\n",
       "    </style>\n",
       "    <br>\n",
       "    <button onclick=\"showIframe()\" class=\"interactive-button\">\n",
       "        <svg style=\"height: 16px; margin-right: 8px;\" viewBox=\"0 0 46 46\" fill=\"none\">\n",
       "            <path\n",
       "                d=\"M10.8439 21.1974C10.6414 21.2854 10.4477 21.3925 10.2655 21.5173L10.2069 21.5652C10.1839 21.58 10.1625 21.5969 10.1429 21.6159C6.29135 24.6118 4.22831 29.4416 5.32646 34.282C5.94656 37.0577 7.50461 39.5348 9.73801 41.2958C11.9714 43.0568 14.7436 43.994 17.5874 43.9495H18.0219C19.8864 43.8697 21.7087 43.3694 23.3526 42.486C24.9964 41.6026 26.4193 40.3589 27.5147 38.848C28.61 37.3371 29.3496 35.598 29.678 33.761C30.0065 31.9239 29.9153 30.0363 29.4112 28.2395C28.9181 26.4723 27.8919 24.8437 26.9937 23.2551C25.4158 20.4653 23.8343 17.6764 22.2492 14.8884C21.7801 14.0647 21.3057 13.2465 20.8419 12.4228C20.2315 11.3353 19.2746 10.1519 19.224 8.86183C19.1733 7.57176 20.2235 6.32701 21.5082 6.07912C23.9284 5.61801 25.0639 8.24078 25.0693 8.23812C25.363 8.94035 25.9123 9.50489 26.6063 9.81764C27.3002 10.1304 28.087 10.168 28.8077 9.92298C29.5283 9.67791 30.1291 9.1684 30.4885 8.49743C30.8479 7.82646 30.9392 7.04405 30.7439 6.30835C30.1514 4.37314 28.9133 2.69953 27.2363 1.56656C25.7615 0.511704 23.9847 -0.0372109 22.1719 0.00195984C20.9049 0.00893199 19.6532 0.27989 18.4967 0.797557C17.3402 1.31522 16.3043 2.06823 15.4551 3.00856C14.49 4.08707 13.7984 5.38193 13.4389 6.78385C13.0794 8.18576 13.0624 9.6536 13.3894 11.0635C13.52 11.593 13.6984 12.1095 13.9225 12.6067C14.5595 14.0514 15.4951 15.3681 16.284 16.7355C17.2525 18.4147 18.2209 20.0948 19.1893 21.7758C20.1578 23.4568 21.1351 25.1449 22.1213 26.8401C22.9209 28.2421 23.7925 29.4682 23.8805 31.1528C23.9175 32.0513 23.7682 32.9479 23.4419 33.7859C23.1156 34.6239 22.6194 35.3854 21.9845 36.0223C21.3496 36.6592 20.5897 37.1578 19.7527 37.4868C18.9157 37.8157 18.0196 37.9678 17.121 37.9336C14.0024 37.7923 11.6488 35.4814 11.1744 32.4588C10.58 28.6419 13.552 26.5469 13.552 26.5469C14.1782 26.1785 14.6497 25.5955 14.8791 24.906C15.1084 24.2166 15.0801 23.4673 14.7993 22.7971C14.5186 22.127 14.0044 21.5813 13.3521 21.2611C12.6998 20.941 11.9536 20.8682 11.2517 21.0561C11.1174 21.0939 10.9856 21.1402 10.8572 21.1947\"\n",
       "                fill=\"white\"\n",
       "            />\n",
       "            <path\n",
       "                d=\"M42.8101 31.5968C42.8109 30.5198 42.7218 29.4445 42.5435 28.3823C42.2663 26.7069 41.7464 25.0808 41.0002 23.5552C40.5524 22.6463 39.9874 21.7374 39.1024 21.2417C38.6593 20.9919 38.1589 20.8617 37.6502 20.8639C37.1416 20.8661 36.6423 21.0006 36.2013 21.2541C35.7604 21.5077 35.393 21.8716 35.1352 22.3101C34.8775 22.7485 34.7382 23.2466 34.7312 23.7552C34.7072 24.8773 35.3149 25.8875 35.768 26.9217C36.5212 28.6453 36.8623 30.5208 36.7642 32.3993C36.6661 34.2777 36.1315 36.1075 35.2029 37.7433C35.146 37.8404 35.0952 37.941 35.051 38.0445C34.8623 38.4842 34.7635 38.9573 34.7605 39.4358C34.7802 40.1222 35.0356 40.7808 35.4835 41.3011C35.9315 41.8214 36.5449 42.1717 37.2207 42.2932C38.8759 42.589 40.1899 41.347 40.8856 39.9609C42.1643 37.3589 42.823 34.4961 42.8101 31.5968Z\"\n",
       "                fill=\"white\"\n",
       "            />\n",
       "            <path\n",
       "                d=\"M28.2309 11.8938C28.1761 11.9043 28.1218 11.9176 28.0683 11.9338C27.9593 11.9642 27.8611 12.0249 27.7851 12.1088C27.7091 12.1928 27.6584 12.2965 27.6389 12.408C27.6193 12.5195 27.6318 12.6343 27.6748 12.7391C27.7178 12.8438 27.7895 12.9343 27.8818 12.9999C29.2375 14.0252 30.3809 15.3043 31.2482 16.7662C31.4838 17.1677 31.6888 17.5865 31.8612 18.0189C32.0052 18.3921 32.1971 18.8799 32.6822 18.8532C33.0607 18.8346 33.2153 18.512 33.3192 18.1895C33.8137 16.5125 33.9678 14.7534 33.7723 13.0159C33.6331 12.0693 33.4155 11.1359 33.122 10.2252C33.0775 10.0047 32.9744 9.80029 32.8235 9.6335C32.7273 9.54627 32.6054 9.49262 32.4761 9.4806C32.3468 9.46859 32.2171 9.49886 32.1065 9.56687C32.0016 9.65188 31.9115 9.75365 31.8399 9.86806C31.3956 10.4658 30.825 10.9581 30.1687 11.3101C29.8377 11.4861 29.4893 11.6272 29.1292 11.7312C28.828 11.8192 28.5215 11.8325 28.2309 11.8938Z\"\n",
       "                fill=\"white\"\n",
       "            />\n",
       "        </svg>\n",
       "        Display SwanLab Board\n",
       "    </button>\n",
       "    <br>\n",
       "    <div id=\"iframeContainer\"></div>\n",
       "</body>\n",
       "</html>\n"
      ],
      "text/plain": [
       "<IPython.core.display.HTML object>"
      ]
     },
     "metadata": {},
     "output_type": "display_data"
    },
    {
     "data": {
      "text/html": [
       "\n",
       "    <div>\n",
       "      \n",
       "      <progress value='786' max='786' style='width:300px; height:20px; vertical-align: middle;'></progress>\n",
       "      [786/786 3:33:03, Epoch 2/3]\n",
       "    </div>\n",
       "    <table border=\"1\" class=\"dataframe\">\n",
       "  <thead>\n",
       " <tr style=\"text-align: left;\">\n",
       "      <th>Step</th>\n",
       "      <th>Training Loss</th>\n",
       "      <th>Validation Loss</th>\n",
       "    </tr>\n",
       "  </thead>\n",
       "  <tbody>\n",
       "    <tr>\n",
       "      <td>10</td>\n",
       "      <td>2.301800</td>\n",
       "      <td>0.779119</td>\n",
       "    </tr>\n",
       "    <tr>\n",
       "      <td>20</td>\n",
       "      <td>0.521700</td>\n",
       "      <td>0.487665</td>\n",
       "    </tr>\n",
       "    <tr>\n",
       "      <td>30</td>\n",
       "      <td>0.523500</td>\n",
       "      <td>0.454727</td>\n",
       "    </tr>\n",
       "    <tr>\n",
       "      <td>40</td>\n",
       "      <td>0.523300</td>\n",
       "      <td>0.463469</td>\n",
       "    </tr>\n",
       "    <tr>\n",
       "      <td>50</td>\n",
       "      <td>0.589600</td>\n",
       "      <td>0.460688</td>\n",
       "    </tr>\n",
       "    <tr>\n",
       "      <td>60</td>\n",
       "      <td>0.469900</td>\n",
       "      <td>0.424108</td>\n",
       "    </tr>\n",
       "    <tr>\n",
       "      <td>70</td>\n",
       "      <td>0.421300</td>\n",
       "      <td>0.423039</td>\n",
       "    </tr>\n",
       "    <tr>\n",
       "      <td>80</td>\n",
       "      <td>0.384300</td>\n",
       "      <td>0.416103</td>\n",
       "    </tr>\n",
       "    <tr>\n",
       "      <td>90</td>\n",
       "      <td>0.401100</td>\n",
       "      <td>0.421988</td>\n",
       "    </tr>\n",
       "    <tr>\n",
       "      <td>100</td>\n",
       "      <td>0.434500</td>\n",
       "      <td>0.418301</td>\n",
       "    </tr>\n",
       "    <tr>\n",
       "      <td>110</td>\n",
       "      <td>0.403900</td>\n",
       "      <td>0.407516</td>\n",
       "    </tr>\n",
       "    <tr>\n",
       "      <td>120</td>\n",
       "      <td>0.371000</td>\n",
       "      <td>0.410666</td>\n",
       "    </tr>\n",
       "    <tr>\n",
       "      <td>130</td>\n",
       "      <td>0.344700</td>\n",
       "      <td>0.413632</td>\n",
       "    </tr>\n",
       "    <tr>\n",
       "      <td>140</td>\n",
       "      <td>0.356800</td>\n",
       "      <td>0.411596</td>\n",
       "    </tr>\n",
       "    <tr>\n",
       "      <td>150</td>\n",
       "      <td>0.402300</td>\n",
       "      <td>0.413583</td>\n",
       "    </tr>\n",
       "    <tr>\n",
       "      <td>160</td>\n",
       "      <td>0.365000</td>\n",
       "      <td>0.400889</td>\n",
       "    </tr>\n",
       "    <tr>\n",
       "      <td>170</td>\n",
       "      <td>0.357500</td>\n",
       "      <td>0.398985</td>\n",
       "    </tr>\n",
       "    <tr>\n",
       "      <td>180</td>\n",
       "      <td>0.345300</td>\n",
       "      <td>0.407500</td>\n",
       "    </tr>\n",
       "    <tr>\n",
       "      <td>190</td>\n",
       "      <td>0.327600</td>\n",
       "      <td>0.408513</td>\n",
       "    </tr>\n",
       "    <tr>\n",
       "      <td>200</td>\n",
       "      <td>0.344900</td>\n",
       "      <td>0.404267</td>\n",
       "    </tr>\n",
       "    <tr>\n",
       "      <td>210</td>\n",
       "      <td>0.342700</td>\n",
       "      <td>0.404550</td>\n",
       "    </tr>\n",
       "    <tr>\n",
       "      <td>220</td>\n",
       "      <td>0.331900</td>\n",
       "      <td>0.405834</td>\n",
       "    </tr>\n",
       "    <tr>\n",
       "      <td>230</td>\n",
       "      <td>0.301600</td>\n",
       "      <td>0.403893</td>\n",
       "    </tr>\n",
       "    <tr>\n",
       "      <td>240</td>\n",
       "      <td>0.289200</td>\n",
       "      <td>0.408758</td>\n",
       "    </tr>\n",
       "    <tr>\n",
       "      <td>250</td>\n",
       "      <td>0.332100</td>\n",
       "      <td>0.402703</td>\n",
       "    </tr>\n",
       "    <tr>\n",
       "      <td>260</td>\n",
       "      <td>0.317100</td>\n",
       "      <td>0.396163</td>\n",
       "    </tr>\n",
       "    <tr>\n",
       "      <td>270</td>\n",
       "      <td>0.307000</td>\n",
       "      <td>0.396957</td>\n",
       "    </tr>\n",
       "    <tr>\n",
       "      <td>280</td>\n",
       "      <td>0.271000</td>\n",
       "      <td>0.418773</td>\n",
       "    </tr>\n",
       "    <tr>\n",
       "      <td>290</td>\n",
       "      <td>0.283000</td>\n",
       "      <td>0.409420</td>\n",
       "    </tr>\n",
       "    <tr>\n",
       "      <td>300</td>\n",
       "      <td>0.248400</td>\n",
       "      <td>0.400202</td>\n",
       "    </tr>\n",
       "    <tr>\n",
       "      <td>310</td>\n",
       "      <td>0.274200</td>\n",
       "      <td>0.407368</td>\n",
       "    </tr>\n",
       "    <tr>\n",
       "      <td>320</td>\n",
       "      <td>0.301200</td>\n",
       "      <td>0.401362</td>\n",
       "    </tr>\n",
       "    <tr>\n",
       "      <td>330</td>\n",
       "      <td>0.268500</td>\n",
       "      <td>0.403541</td>\n",
       "    </tr>\n",
       "    <tr>\n",
       "      <td>340</td>\n",
       "      <td>0.265900</td>\n",
       "      <td>0.409344</td>\n",
       "    </tr>\n",
       "    <tr>\n",
       "      <td>350</td>\n",
       "      <td>0.229700</td>\n",
       "      <td>0.405804</td>\n",
       "    </tr>\n",
       "    <tr>\n",
       "      <td>360</td>\n",
       "      <td>0.294300</td>\n",
       "      <td>0.401615</td>\n",
       "    </tr>\n",
       "    <tr>\n",
       "      <td>370</td>\n",
       "      <td>0.272400</td>\n",
       "      <td>0.397138</td>\n",
       "    </tr>\n",
       "    <tr>\n",
       "      <td>380</td>\n",
       "      <td>0.262400</td>\n",
       "      <td>0.403734</td>\n",
       "    </tr>\n",
       "    <tr>\n",
       "      <td>390</td>\n",
       "      <td>0.259600</td>\n",
       "      <td>0.414546</td>\n",
       "    </tr>\n",
       "    <tr>\n",
       "      <td>400</td>\n",
       "      <td>0.232200</td>\n",
       "      <td>0.412215</td>\n",
       "    </tr>\n",
       "    <tr>\n",
       "      <td>410</td>\n",
       "      <td>0.259700</td>\n",
       "      <td>0.406964</td>\n",
       "    </tr>\n",
       "    <tr>\n",
       "      <td>420</td>\n",
       "      <td>0.281900</td>\n",
       "      <td>0.395944</td>\n",
       "    </tr>\n",
       "    <tr>\n",
       "      <td>430</td>\n",
       "      <td>0.262200</td>\n",
       "      <td>0.403043</td>\n",
       "    </tr>\n",
       "    <tr>\n",
       "      <td>440</td>\n",
       "      <td>0.264200</td>\n",
       "      <td>0.413201</td>\n",
       "    </tr>\n",
       "    <tr>\n",
       "      <td>450</td>\n",
       "      <td>0.222800</td>\n",
       "      <td>0.410118</td>\n",
       "    </tr>\n",
       "    <tr>\n",
       "      <td>460</td>\n",
       "      <td>0.253400</td>\n",
       "      <td>0.403420</td>\n",
       "    </tr>\n",
       "    <tr>\n",
       "      <td>470</td>\n",
       "      <td>0.271400</td>\n",
       "      <td>0.400440</td>\n",
       "    </tr>\n",
       "    <tr>\n",
       "      <td>480</td>\n",
       "      <td>0.241400</td>\n",
       "      <td>0.403881</td>\n",
       "    </tr>\n",
       "    <tr>\n",
       "      <td>490</td>\n",
       "      <td>0.220900</td>\n",
       "      <td>0.413454</td>\n",
       "    </tr>\n",
       "    <tr>\n",
       "      <td>500</td>\n",
       "      <td>0.215500</td>\n",
       "      <td>0.419113</td>\n",
       "    </tr>\n",
       "    <tr>\n",
       "      <td>510</td>\n",
       "      <td>0.255000</td>\n",
       "      <td>0.414489</td>\n",
       "    </tr>\n",
       "    <tr>\n",
       "      <td>520</td>\n",
       "      <td>0.262000</td>\n",
       "      <td>0.407187</td>\n",
       "    </tr>\n",
       "    <tr>\n",
       "      <td>530</td>\n",
       "      <td>0.226000</td>\n",
       "      <td>0.406424</td>\n",
       "    </tr>\n",
       "    <tr>\n",
       "      <td>540</td>\n",
       "      <td>0.210500</td>\n",
       "      <td>0.413802</td>\n",
       "    </tr>\n",
       "    <tr>\n",
       "      <td>550</td>\n",
       "      <td>0.199300</td>\n",
       "      <td>0.425082</td>\n",
       "    </tr>\n",
       "    <tr>\n",
       "      <td>560</td>\n",
       "      <td>0.182000</td>\n",
       "      <td>0.430031</td>\n",
       "    </tr>\n",
       "    <tr>\n",
       "      <td>570</td>\n",
       "      <td>0.219800</td>\n",
       "      <td>0.429109</td>\n",
       "    </tr>\n",
       "    <tr>\n",
       "      <td>580</td>\n",
       "      <td>0.215700</td>\n",
       "      <td>0.426167</td>\n",
       "    </tr>\n",
       "    <tr>\n",
       "      <td>590</td>\n",
       "      <td>0.207700</td>\n",
       "      <td>0.422812</td>\n",
       "    </tr>\n",
       "    <tr>\n",
       "      <td>600</td>\n",
       "      <td>0.197000</td>\n",
       "      <td>0.423314</td>\n",
       "    </tr>\n",
       "    <tr>\n",
       "      <td>610</td>\n",
       "      <td>0.182200</td>\n",
       "      <td>0.424327</td>\n",
       "    </tr>\n",
       "    <tr>\n",
       "      <td>620</td>\n",
       "      <td>0.219700</td>\n",
       "      <td>0.425585</td>\n",
       "    </tr>\n",
       "    <tr>\n",
       "      <td>630</td>\n",
       "      <td>0.228500</td>\n",
       "      <td>0.425830</td>\n",
       "    </tr>\n",
       "    <tr>\n",
       "      <td>640</td>\n",
       "      <td>0.201100</td>\n",
       "      <td>0.425717</td>\n",
       "    </tr>\n",
       "    <tr>\n",
       "      <td>650</td>\n",
       "      <td>0.190100</td>\n",
       "      <td>0.425320</td>\n",
       "    </tr>\n",
       "    <tr>\n",
       "      <td>660</td>\n",
       "      <td>0.182200</td>\n",
       "      <td>0.426201</td>\n",
       "    </tr>\n",
       "    <tr>\n",
       "      <td>670</td>\n",
       "      <td>0.204500</td>\n",
       "      <td>0.426873</td>\n",
       "    </tr>\n",
       "    <tr>\n",
       "      <td>680</td>\n",
       "      <td>0.215800</td>\n",
       "      <td>0.426601</td>\n",
       "    </tr>\n",
       "    <tr>\n",
       "      <td>690</td>\n",
       "      <td>0.198800</td>\n",
       "      <td>0.426597</td>\n",
       "    </tr>\n",
       "    <tr>\n",
       "      <td>700</td>\n",
       "      <td>0.183600</td>\n",
       "      <td>0.426847</td>\n",
       "    </tr>\n",
       "    <tr>\n",
       "      <td>710</td>\n",
       "      <td>0.182900</td>\n",
       "      <td>0.427028</td>\n",
       "    </tr>\n",
       "    <tr>\n",
       "      <td>720</td>\n",
       "      <td>0.210300</td>\n",
       "      <td>0.426824</td>\n",
       "    </tr>\n",
       "    <tr>\n",
       "      <td>730</td>\n",
       "      <td>0.220500</td>\n",
       "      <td>0.426813</td>\n",
       "    </tr>\n",
       "    <tr>\n",
       "      <td>740</td>\n",
       "      <td>0.199700</td>\n",
       "      <td>0.426779</td>\n",
       "    </tr>\n",
       "    <tr>\n",
       "      <td>750</td>\n",
       "      <td>0.186700</td>\n",
       "      <td>0.426801</td>\n",
       "    </tr>\n",
       "    <tr>\n",
       "      <td>760</td>\n",
       "      <td>0.187900</td>\n",
       "      <td>0.426937</td>\n",
       "    </tr>\n",
       "    <tr>\n",
       "      <td>770</td>\n",
       "      <td>0.209600</td>\n",
       "      <td>0.427153</td>\n",
       "    </tr>\n",
       "    <tr>\n",
       "      <td>780</td>\n",
       "      <td>0.216300</td>\n",
       "      <td>0.426729</td>\n",
       "    </tr>\n",
       "  </tbody>\n",
       "</table><p>"
      ],
      "text/plain": [
       "<IPython.core.display.HTML object>"
      ]
     },
     "metadata": {},
     "output_type": "display_data"
    },
    {
     "name": "stdout",
     "output_type": "stream",
     "text": [
      "\u001b[33mswanlab\u001b[0m: Step 10 on key train/epoch already exists, ignored.\n",
      "\u001b[33mswanlab\u001b[0m: Step 20 on key train/epoch already exists, ignored.\n",
      "\u001b[33mswanlab\u001b[0m: Step 30 on key train/epoch already exists, ignored.\n",
      "\u001b[33mswanlab\u001b[0m: Step 40 on key train/epoch already exists, ignored.\n",
      "\u001b[33mswanlab\u001b[0m: Step 50 on key train/epoch already exists, ignored.\n"
     ]
    },
    {
     "name": "stderr",
     "output_type": "stream",
     "text": [
      "/home/vipuser/anaconda3/envs/GLM4/lib/python3.10/site-packages/peft/utils/save_and_load.py:154: UserWarning: Could not find a config file in /home/LLM_para/para_glm4 - will assume that the vocabulary was not modified.\n",
      "  warnings.warn(\n"
     ]
    },
    {
     "name": "stdout",
     "output_type": "stream",
     "text": [
      "\u001b[33mswanlab\u001b[0m: Step 60 on key train/epoch already exists, ignored.\n",
      "\u001b[33mswanlab\u001b[0m: Step 70 on key train/epoch already exists, ignored.\n",
      "\u001b[33mswanlab\u001b[0m: Step 80 on key train/epoch already exists, ignored.\n",
      "\u001b[33mswanlab\u001b[0m: Step 90 on key train/epoch already exists, ignored.\n",
      "\u001b[33mswanlab\u001b[0m: Step 100 on key train/epoch already exists, ignored.\n"
     ]
    },
    {
     "name": "stderr",
     "output_type": "stream",
     "text": [
      "/home/vipuser/anaconda3/envs/GLM4/lib/python3.10/site-packages/peft/utils/save_and_load.py:154: UserWarning: Could not find a config file in /home/LLM_para/para_glm4 - will assume that the vocabulary was not modified.\n",
      "  warnings.warn(\n"
     ]
    },
    {
     "name": "stdout",
     "output_type": "stream",
     "text": [
      "\u001b[33mswanlab\u001b[0m: Step 110 on key train/epoch already exists, ignored.\n",
      "\u001b[33mswanlab\u001b[0m: Step 120 on key train/epoch already exists, ignored.\n",
      "\u001b[33mswanlab\u001b[0m: Step 130 on key train/epoch already exists, ignored.\n",
      "\u001b[33mswanlab\u001b[0m: Step 140 on key train/epoch already exists, ignored.\n",
      "\u001b[33mswanlab\u001b[0m: Step 150 on key train/epoch already exists, ignored.\n"
     ]
    },
    {
     "name": "stderr",
     "output_type": "stream",
     "text": [
      "/home/vipuser/anaconda3/envs/GLM4/lib/python3.10/site-packages/peft/utils/save_and_load.py:154: UserWarning: Could not find a config file in /home/LLM_para/para_glm4 - will assume that the vocabulary was not modified.\n",
      "  warnings.warn(\n"
     ]
    },
    {
     "name": "stdout",
     "output_type": "stream",
     "text": [
      "\u001b[33mswanlab\u001b[0m: Step 160 on key train/epoch already exists, ignored.\n",
      "\u001b[33mswanlab\u001b[0m: Step 170 on key train/epoch already exists, ignored.\n",
      "\u001b[33mswanlab\u001b[0m: Step 180 on key train/epoch already exists, ignored.\n",
      "\u001b[33mswanlab\u001b[0m: Step 190 on key train/epoch already exists, ignored.\n",
      "\u001b[33mswanlab\u001b[0m: Step 200 on key train/epoch already exists, ignored.\n"
     ]
    },
    {
     "name": "stderr",
     "output_type": "stream",
     "text": [
      "/home/vipuser/anaconda3/envs/GLM4/lib/python3.10/site-packages/peft/utils/save_and_load.py:154: UserWarning: Could not find a config file in /home/LLM_para/para_glm4 - will assume that the vocabulary was not modified.\n",
      "  warnings.warn(\n"
     ]
    },
    {
     "name": "stdout",
     "output_type": "stream",
     "text": [
      "\u001b[33mswanlab\u001b[0m: Step 210 on key train/epoch already exists, ignored.\n",
      "\u001b[33mswanlab\u001b[0m: Step 220 on key train/epoch already exists, ignored.\n",
      "\u001b[33mswanlab\u001b[0m: Step 230 on key train/epoch already exists, ignored.\n",
      "\u001b[33mswanlab\u001b[0m: Step 240 on key train/epoch already exists, ignored.\n",
      "\u001b[33mswanlab\u001b[0m: Step 250 on key train/epoch already exists, ignored.\n"
     ]
    },
    {
     "name": "stderr",
     "output_type": "stream",
     "text": [
      "/home/vipuser/anaconda3/envs/GLM4/lib/python3.10/site-packages/peft/utils/save_and_load.py:154: UserWarning: Could not find a config file in /home/LLM_para/para_glm4 - will assume that the vocabulary was not modified.\n",
      "  warnings.warn(\n"
     ]
    },
    {
     "name": "stdout",
     "output_type": "stream",
     "text": [
      "\u001b[33mswanlab\u001b[0m: Step 260 on key train/epoch already exists, ignored.\n",
      "\u001b[33mswanlab\u001b[0m: Step 270 on key train/epoch already exists, ignored.\n",
      "\u001b[33mswanlab\u001b[0m: Step 280 on key train/epoch already exists, ignored.\n",
      "\u001b[33mswanlab\u001b[0m: Step 290 on key train/epoch already exists, ignored.\n",
      "\u001b[33mswanlab\u001b[0m: Step 300 on key train/epoch already exists, ignored.\n"
     ]
    },
    {
     "name": "stderr",
     "output_type": "stream",
     "text": [
      "/home/vipuser/anaconda3/envs/GLM4/lib/python3.10/site-packages/peft/utils/save_and_load.py:154: UserWarning: Could not find a config file in /home/LLM_para/para_glm4 - will assume that the vocabulary was not modified.\n",
      "  warnings.warn(\n"
     ]
    },
    {
     "name": "stdout",
     "output_type": "stream",
     "text": [
      "\u001b[33mswanlab\u001b[0m: Step 310 on key train/epoch already exists, ignored.\n",
      "\u001b[33mswanlab\u001b[0m: Step 320 on key train/epoch already exists, ignored.\n",
      "\u001b[33mswanlab\u001b[0m: Step 330 on key train/epoch already exists, ignored.\n",
      "\u001b[33mswanlab\u001b[0m: Step 340 on key train/epoch already exists, ignored.\n",
      "\u001b[33mswanlab\u001b[0m: Step 350 on key train/epoch already exists, ignored.\n"
     ]
    },
    {
     "name": "stderr",
     "output_type": "stream",
     "text": [
      "/home/vipuser/anaconda3/envs/GLM4/lib/python3.10/site-packages/peft/utils/save_and_load.py:154: UserWarning: Could not find a config file in /home/LLM_para/para_glm4 - will assume that the vocabulary was not modified.\n",
      "  warnings.warn(\n"
     ]
    },
    {
     "name": "stdout",
     "output_type": "stream",
     "text": [
      "\u001b[33mswanlab\u001b[0m: Step 360 on key train/epoch already exists, ignored.\n",
      "\u001b[33mswanlab\u001b[0m: Step 370 on key train/epoch already exists, ignored.\n",
      "\u001b[33mswanlab\u001b[0m: Step 380 on key train/epoch already exists, ignored.\n",
      "\u001b[33mswanlab\u001b[0m: Step 390 on key train/epoch already exists, ignored.\n",
      "\u001b[33mswanlab\u001b[0m: Step 400 on key train/epoch already exists, ignored.\n"
     ]
    },
    {
     "name": "stderr",
     "output_type": "stream",
     "text": [
      "/home/vipuser/anaconda3/envs/GLM4/lib/python3.10/site-packages/peft/utils/save_and_load.py:154: UserWarning: Could not find a config file in /home/LLM_para/para_glm4 - will assume that the vocabulary was not modified.\n",
      "  warnings.warn(\n"
     ]
    },
    {
     "name": "stdout",
     "output_type": "stream",
     "text": [
      "\u001b[33mswanlab\u001b[0m: Step 410 on key train/epoch already exists, ignored.\n",
      "\u001b[33mswanlab\u001b[0m: Step 420 on key train/epoch already exists, ignored.\n",
      "\u001b[33mswanlab\u001b[0m: Step 430 on key train/epoch already exists, ignored.\n",
      "\u001b[33mswanlab\u001b[0m: Step 440 on key train/epoch already exists, ignored.\n",
      "\u001b[33mswanlab\u001b[0m: Step 450 on key train/epoch already exists, ignored.\n"
     ]
    },
    {
     "name": "stderr",
     "output_type": "stream",
     "text": [
      "/home/vipuser/anaconda3/envs/GLM4/lib/python3.10/site-packages/peft/utils/save_and_load.py:154: UserWarning: Could not find a config file in /home/LLM_para/para_glm4 - will assume that the vocabulary was not modified.\n",
      "  warnings.warn(\n"
     ]
    },
    {
     "name": "stdout",
     "output_type": "stream",
     "text": [
      "\u001b[33mswanlab\u001b[0m: Step 460 on key train/epoch already exists, ignored.\n",
      "\u001b[33mswanlab\u001b[0m: Step 470 on key train/epoch already exists, ignored.\n",
      "\u001b[33mswanlab\u001b[0m: Step 480 on key train/epoch already exists, ignored.\n",
      "\u001b[33mswanlab\u001b[0m: Step 490 on key train/epoch already exists, ignored.\n",
      "\u001b[33mswanlab\u001b[0m: Step 500 on key train/epoch already exists, ignored.\n"
     ]
    },
    {
     "name": "stderr",
     "output_type": "stream",
     "text": [
      "/home/vipuser/anaconda3/envs/GLM4/lib/python3.10/site-packages/peft/utils/save_and_load.py:154: UserWarning: Could not find a config file in /home/LLM_para/para_glm4 - will assume that the vocabulary was not modified.\n",
      "  warnings.warn(\n"
     ]
    },
    {
     "name": "stdout",
     "output_type": "stream",
     "text": [
      "\u001b[33mswanlab\u001b[0m: Step 510 on key train/epoch already exists, ignored.\n",
      "\u001b[33mswanlab\u001b[0m: Step 520 on key train/epoch already exists, ignored.\n",
      "\u001b[33mswanlab\u001b[0m: Step 530 on key train/epoch already exists, ignored.\n",
      "\u001b[33mswanlab\u001b[0m: Step 540 on key train/epoch already exists, ignored.\n",
      "\u001b[33mswanlab\u001b[0m: Step 550 on key train/epoch already exists, ignored.\n"
     ]
    },
    {
     "name": "stderr",
     "output_type": "stream",
     "text": [
      "/home/vipuser/anaconda3/envs/GLM4/lib/python3.10/site-packages/peft/utils/save_and_load.py:154: UserWarning: Could not find a config file in /home/LLM_para/para_glm4 - will assume that the vocabulary was not modified.\n",
      "  warnings.warn(\n"
     ]
    },
    {
     "name": "stdout",
     "output_type": "stream",
     "text": [
      "\u001b[33mswanlab\u001b[0m: Step 560 on key train/epoch already exists, ignored.\n",
      "\u001b[33mswanlab\u001b[0m: Step 570 on key train/epoch already exists, ignored.\n",
      "\u001b[33mswanlab\u001b[0m: Step 580 on key train/epoch already exists, ignored.\n",
      "\u001b[33mswanlab\u001b[0m: Step 590 on key train/epoch already exists, ignored.\n",
      "\u001b[33mswanlab\u001b[0m: Step 600 on key train/epoch already exists, ignored.\n"
     ]
    },
    {
     "name": "stderr",
     "output_type": "stream",
     "text": [
      "/home/vipuser/anaconda3/envs/GLM4/lib/python3.10/site-packages/peft/utils/save_and_load.py:154: UserWarning: Could not find a config file in /home/LLM_para/para_glm4 - will assume that the vocabulary was not modified.\n",
      "  warnings.warn(\n"
     ]
    },
    {
     "name": "stdout",
     "output_type": "stream",
     "text": [
      "\u001b[33mswanlab\u001b[0m: Step 610 on key train/epoch already exists, ignored.\n",
      "\u001b[33mswanlab\u001b[0m: Step 620 on key train/epoch already exists, ignored.\n",
      "\u001b[33mswanlab\u001b[0m: Step 630 on key train/epoch already exists, ignored.\n",
      "\u001b[33mswanlab\u001b[0m: Step 640 on key train/epoch already exists, ignored.\n",
      "\u001b[33mswanlab\u001b[0m: Step 650 on key train/epoch already exists, ignored.\n"
     ]
    },
    {
     "name": "stderr",
     "output_type": "stream",
     "text": [
      "/home/vipuser/anaconda3/envs/GLM4/lib/python3.10/site-packages/peft/utils/save_and_load.py:154: UserWarning: Could not find a config file in /home/LLM_para/para_glm4 - will assume that the vocabulary was not modified.\n",
      "  warnings.warn(\n"
     ]
    },
    {
     "name": "stdout",
     "output_type": "stream",
     "text": [
      "\u001b[33mswanlab\u001b[0m: Step 660 on key train/epoch already exists, ignored.\n",
      "\u001b[33mswanlab\u001b[0m: Step 670 on key train/epoch already exists, ignored.\n",
      "\u001b[33mswanlab\u001b[0m: Step 680 on key train/epoch already exists, ignored.\n",
      "\u001b[33mswanlab\u001b[0m: Step 690 on key train/epoch already exists, ignored.\n",
      "\u001b[33mswanlab\u001b[0m: Step 700 on key train/epoch already exists, ignored.\n"
     ]
    },
    {
     "name": "stderr",
     "output_type": "stream",
     "text": [
      "/home/vipuser/anaconda3/envs/GLM4/lib/python3.10/site-packages/peft/utils/save_and_load.py:154: UserWarning: Could not find a config file in /home/LLM_para/para_glm4 - will assume that the vocabulary was not modified.\n",
      "  warnings.warn(\n"
     ]
    },
    {
     "name": "stdout",
     "output_type": "stream",
     "text": [
      "\u001b[33mswanlab\u001b[0m: Step 710 on key train/epoch already exists, ignored.\n",
      "\u001b[33mswanlab\u001b[0m: Step 720 on key train/epoch already exists, ignored.\n",
      "\u001b[33mswanlab\u001b[0m: Step 730 on key train/epoch already exists, ignored.\n",
      "\u001b[33mswanlab\u001b[0m: Step 740 on key train/epoch already exists, ignored.\n",
      "\u001b[33mswanlab\u001b[0m: Step 750 on key train/epoch already exists, ignored.\n"
     ]
    },
    {
     "name": "stderr",
     "output_type": "stream",
     "text": [
      "/home/vipuser/anaconda3/envs/GLM4/lib/python3.10/site-packages/peft/utils/save_and_load.py:154: UserWarning: Could not find a config file in /home/LLM_para/para_glm4 - will assume that the vocabulary was not modified.\n",
      "  warnings.warn(\n"
     ]
    },
    {
     "name": "stdout",
     "output_type": "stream",
     "text": [
      "\u001b[33mswanlab\u001b[0m: Step 760 on key train/epoch already exists, ignored.\n",
      "\u001b[33mswanlab\u001b[0m: Step 770 on key train/epoch already exists, ignored.\n",
      "\u001b[33mswanlab\u001b[0m: Step 780 on key train/epoch already exists, ignored.\n"
     ]
    },
    {
     "data": {
      "text/plain": [
       "TrainOutput(global_step=786, training_loss=0.308908224712498, metrics={'train_runtime': 12813.9588, 'train_samples_per_second': 1.969, 'train_steps_per_second': 0.061, 'total_flos': 8.549260910788608e+17, 'train_loss': 0.308908224712498, 'epoch': 2.9900142653352355})"
      ]
     },
     "execution_count": 13,
     "metadata": {},
     "output_type": "execute_result"
    },
    {
     "name": "stdout",
     "output_type": "stream",
     "text": [
      "                                         instruction  \\\n",
      "0  Given the following SQL tables, your job is to...   \n",
      "1  Given the following SQL tables, your job is to...   \n",
      "2  Given the following SQL tables, your job is to...   \n",
      "3  Given the following SQL tables, your job is to...   \n",
      "4  Given the following SQL tables, your job is to...   \n",
      "5  Given the following SQL tables, your job is to...   \n",
      "6  Given the following SQL tables, your job is to...   \n",
      "7  Given the following SQL tables, your job is to...   \n",
      "8  Given the following SQL tables, your job is to...   \n",
      "9  Given the following SQL tables, your job is to...   \n",
      "\n",
      "                                               input  \\\n",
      "0  all tabels and samples:\\nCREATE TABLE `stadium...   \n",
      "1  all tabels and samples:\\nCREATE TABLE `stadium...   \n",
      "2  all tabels and samples:\\nCREATE TABLE `stadium...   \n",
      "3  all tabels and samples:\\nCREATE TABLE `stadium...   \n",
      "4  all tabels and samples:\\nCREATE TABLE `stadium...   \n",
      "5  all tabels and samples:\\nCREATE TABLE `stadium...   \n",
      "6  all tabels and samples:\\nCREATE TABLE `stadium...   \n",
      "7  all tabels and samples:\\nCREATE TABLE `stadium...   \n",
      "8  all tabels and samples:\\nCREATE TABLE `stadium...   \n",
      "9  all tabels and samples:\\nCREATE TABLE `stadium...   \n",
      "\n",
      "                                              output  \n",
      "0  ```gerenated SQL\\n-- SQL: SELECT COUNT(*) FROM...  \n",
      "1  ```gerenated SQL\\n-- SQL: SELECT COUNT(*) FROM...  \n",
      "2  ```gerenated SQL\\n-- SQL: SELECT name ,  count...  \n",
      "3  ```gerenated SQL\\n-- SQL: SELECT name ,  count...  \n",
      "4  ```gerenated SQL\\n-- SQL: SELECT AVG(age) ,  M...  \n",
      "5  ```gerenated SQL\\n-- SQL: SELECT AVG(age) ,  M...  \n",
      "6  ```gerenated SQL\\n-- SQL: SELECT song_name ,  ...  \n",
      "7  ```gerenated SQL\\n-- SQL: SELECT song_name ,  ...  \n",
      "8  ```gerenated SQL\\n-- SQL: SELECT DISTINCT coun...  \n",
      "9  ```gerenated SQL\\n-- SQL: SELECT DISTINCT coun...  \n",
      "1\n",
      "\n",
      "```gerenated SQL\n",
      "-- SQL: SELECT name FROM stadium WHERE capacity  >  15000;\n",
      "```\n",
      "\n",
      "```gerenated SQL\n",
      "-- SQL: SELECT name FROM stadium WHERE capacity  >  15000;\n",
      "```\n",
      "\n",
      "```gerenated SQL\n",
      "-- SQL: SELECT name FROM stadium WHERE capacity  >  5000;\n",
      "```\n",
      "\n",
      "```gerenated SQL\n",
      "-- SQL: SELECT name FROM stadium WHERE capacity  >  15000;\n",
      "```\n",
      "\n",
      "```gerenated SQL\n",
      "-- SQL: SELECT name FROM stadium WHERE capacity  >  15000;\n",
      "```\n",
      "\n",
      "```gerenated SQL\n",
      "-- SQL: SELECT name FROM stadium WHERE capacity  >  15000;\n",
      "```\n",
      "\n",
      "```gerenated SQL\n",
      "-- SQL: SELECT name FROM stadium WHERE capacity  >  5000;\n",
      "```\n",
      "\n",
      "```gerenated SQL\n",
      "-- SQL: SELECT name FROM stadium WHERE capacity  >  5000;\n",
      "```\n",
      "\n",
      "```gerenated SQL\n",
      "-- SQL: SELECT name FROM stadium WHERE capacity  >  5000;\n",
      "```\n",
      "\n",
      "```gerenated SQL\n",
      "-- SQL: SELECT name FROM stadium WHERE capacity  >  15000;\n",
      "```\n"
     ]
    }
   ],
   "source": [
    "trainer.train()"
   ]
  },
  {
   "cell_type": "code",
   "execution_count": 14,
   "id": "e961a8b5",
   "metadata": {},
   "outputs": [
    {
     "name": "stderr",
     "output_type": "stream",
     "text": [
      "/home/vipuser/anaconda3/envs/GLM4/lib/python3.10/site-packages/peft/utils/save_and_load.py:154: UserWarning: Could not find a config file in /home/LLM_para/para_glm4 - will assume that the vocabulary was not modified.\n",
      "  warnings.warn(\n"
     ]
    }
   ],
   "source": [
    "output_dir = os.path.join(\"./\", \"final_checkpoint_newS_SFT_SQL\")\n",
    "trainer.model.save_pretrained(output_dir)"
   ]
  },
  {
   "cell_type": "code",
   "execution_count": 15,
   "id": "c58a2e67",
   "metadata": {},
   "outputs": [],
   "source": [
    "def predict(messages, model, tokenizer):\n",
    "#     device = \"cuda\"\n",
    "    text = tokenizer.apply_chat_template(\n",
    "        messages,\n",
    "        tokenize=False,\n",
    "        add_generation_prompt=True\n",
    "    )\n",
    "    model_inputs = tokenizer([text], return_tensors=\"pt\").to(device)\n",
    "\n",
    "    generated_ids = model.generate(\n",
    "        model_inputs.input_ids,\n",
    "        max_new_tokens=512\n",
    "    )\n",
    "    generated_ids = [\n",
    "        output_ids[len(input_ids):] for input_ids, output_ids in zip(model_inputs.input_ids, generated_ids)\n",
    "    ]\n",
    "    \n",
    "    response = tokenizer.batch_decode(generated_ids, skip_special_tokens=True)[0]\n",
    "    \n",
    "    print(response)\n",
    "     \n",
    "    return response"
   ]
  },
  {
   "cell_type": "code",
   "execution_count": 16,
   "id": "5494e642",
   "metadata": {},
   "outputs": [],
   "source": [
    "# 用测试集的前10条，测试模型\n",
    "test_df = val_df[:10]\n",
    "print(test_df)\n",
    "print(1)"
   ]
  },
  {
   "cell_type": "code",
   "execution_count": 17,
   "id": "27da4ab5",
   "metadata": {},
   "outputs": [],
   "source": [
    "# import swanlab\n",
    "test_text_list = []\n",
    "for index, row in test_df.iterrows():\n",
    "    instruction = row['instruction']\n",
    "    input_value = row['input']\n",
    "    \n",
    "    messages = [\n",
    "        {\"role\": \"system\", \"content\": f\"{instruction}\"},\n",
    "        {\"role\": \"user\", \"content\": f\"{input_value}\"}\n",
    "    ]\n",
    "\n",
    "    response = predict(messages, model, tokenizer)\n",
    "#     print(response)\n",
    "#     messages.append({\"role\": \"assistant\", \"content\": f\"{response}\"})\n",
    "#     result_text = f\"{messages[0]}\\n\\n{messages[1]}\\n\\n{messages[2]}\"\n",
    "#     test_text_list.append(swanlab.Text(result_text, caption=response))\n",
    "    \n",
    "# swanlab.log({\"Prediction\": test_text_list})\n",
    "# swanlab.finish()"
   ]
  },
  {
   "cell_type": "code",
   "execution_count": null,
   "id": "0a61c430",
   "metadata": {},
   "outputs": [],
   "source": []
  }
 ],
 "metadata": {
  "kernelspec": {
   "display_name": "lr-sql",
   "language": "python",
   "name": "lr-sql"
  },
  "language_info": {
   "codemirror_mode": {
    "name": "ipython",
    "version": 3
   },
   "file_extension": ".py",
   "mimetype": "text/x-python",
   "name": "python",
   "nbconvert_exporter": "python",
   "pygments_lexer": "ipython3",
   "version": "3.10.18"
  }
 },
 "nbformat": 4,
 "nbformat_minor": 5
}
