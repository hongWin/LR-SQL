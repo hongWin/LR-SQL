{
 "cells": [
  {
   "cell_type": "code",
   "execution_count": 1,
   "id": "f5713b27",
   "metadata": {},
   "outputs": [
    {
     "name": "stderr",
     "output_type": "stream",
     "text": [
      "/home/vipuser/miniconda3/envs/schema-R1/lib/python3.11/site-packages/tqdm/auto.py:21: TqdmWarning: IProgress not found. Please update jupyter and ipywidgets. See https://ipywidgets.readthedocs.io/en/stable/user_install.html\n",
      "  from .autonotebook import tqdm as notebook_tqdm\n"
     ]
    }
   ],
   "source": [
    "import torch\n",
    "from peft import AutoPeftModelForCausalLM\n",
    "from transformers import AutoModelForCausalLM, AutoTokenizer\n",
    "import pandas as pd"
   ]
  },
  {
   "cell_type": "code",
   "execution_count": 2,
   "id": "ca0144b3",
   "metadata": {},
   "outputs": [],
   "source": [
    "from transformers import BitsAndBytesConfig\n",
    "if torch.cuda.get_device_capability()[0] >= 8:\n",
    "    torch_dtype = torch.bfloat16\n",
    "else:\n",
    "    torch_dtype = torch.float16\n",
    "\n",
    "\n",
    "model_kwargs = dict(\n",
    "    attn_implementation=\"sdpa\",  # 注意力实现机制，可以使用flash_attention_2代替\n",
    "    torch_dtype=torch_dtype, # 使用的torch dtype类型，默认为自动\n",
    "    use_cache=False,  # 我们使用梯度检查点\n",
    "    device_map=\"auto\", # define model kwargs\n",
    ")\n",
    "\n",
    "model_kwargs[\"quantization_config\"] = BitsAndBytesConfig(\n",
    "    load_in_4bit=True,\n",
    "    bnb_4bit_use_double_quant=True,\n",
    "    bnb_4bit_quant_type='nf4',\n",
    "    bnb_4bit_compute_dtype=model_kwargs['torch_dtype'],\n",
    "    bnb_4bit_quant_storage=model_kwargs['torch_dtype'],\n",
    ")"
   ]
  },
  {
   "cell_type": "code",
   "execution_count": 4,
   "id": "890cc0df",
   "metadata": {},
   "outputs": [],
   "source": [
    "model_path = './SFT_Q_S'\n",
    "lora_path = './SFT_Q_S'\n",
    "# val_dataset_path = \"/home/code/chat_SQL/Dataset/GLM4/ENG_ori/My_idea_dataset/T2Q_GLM4_SFT_val_table.jsonl\""
   ]
  },
  {
   "cell_type": "code",
   "execution_count": 5,
   "id": "dc0d02ac",
   "metadata": {},
   "outputs": [
    {
     "name": "stderr",
     "output_type": "stream",
     "text": [
      "Sliding Window Attention is enabled but not implemented for `sdpa`; unexpected results may be encountered.\n",
      "Loading checkpoint shards: 100%|██████████████████████████████████████████████████████████████████████████████| 4/4 [00:47<00:00, 11.88s/it]\n"
     ]
    }
   ],
   "source": [
    "# model = AutoPeftModelForCausalLM.from_pretrained(\n",
    "#         lora_path, attn_implementation=\"flash_attention_2\",torch_dtype=torch.bfloat16,trust_remote_code= True, device_map='auto')\n",
    "# model = AutoPeftModelForCausalLM.from_pretrained(\n",
    "#         lora_path,torch_dtype=torch.bfloat16,trust_remote_code= True, device_map='auto')\n",
    "model = AutoPeftModelForCausalLM.from_pretrained(lora_path, **model_kwargs)"
   ]
  },
  {
   "cell_type": "code",
   "execution_count": 6,
   "id": "8579551c",
   "metadata": {},
   "outputs": [],
   "source": [
    "tokenizer = AutoTokenizer.from_pretrained(model_path, trust_remote_code=True)"
   ]
  },
  {
   "cell_type": "code",
   "execution_count": 7,
   "id": "3500436d",
   "metadata": {},
   "outputs": [
    {
     "name": "stderr",
     "output_type": "stream",
     "text": [
      "100%|███████████████████████████████████████████████████████████████████████████████████████████████████| 142/142 [00:00<00:00, 1191.41it/s]\n"
     ]
    },
    {
     "name": "stdout",
     "output_type": "stream",
     "text": [
      "6\n"
     ]
    },
    {
     "name": "stderr",
     "output_type": "stream",
     "text": [
      "100%|█████████████████████████████████████████████████████████████████████████████████████████████████████| 30/30 [00:00<00:00, 1046.58it/s]"
     ]
    },
    {
     "name": "stdout",
     "output_type": "stream",
     "text": [
      "8\n",
      "['manufacturers', 'products', 'student', 'plays_games', 'sportsinfo', 'actor', 'entrepreneur', 'people', 'ref_hotel_star_ratings', 'ref_attraction_types', 'hotels', 'tourist_attractions', 'street_markets', 'shops', 'museums', 'royal_family', 'theme_parks', 'visits', 'photos', 'staff']\n",
      "['tourist_attraction_features', 'wrestler', 'elimination', 'business', 'category', 'checkin', 'neighbourhood', 'review', 'tip', 'ref_detention_type', 'ref_incident_type', 'addresses', 'students', 'teachers', 'assessment_notes', 'behavior_incident', 'detention']\n",
      "['student_addresses', 'students_in_detention', 'film', 'film_market_estimation', 'catalogs', 'catalog_structure', 'catalog_contents', 'catalog_contents_additional_attributes', 'routes', 'airports', 'stadium', 'game', 'injury_accident', 'physician', 'department', 'affiliated_with', 'trained_in', 'patient', 'nurse']\n",
      "['appointment', 'prescribes', 'block', 'room', 'on_call', 'stay', 'undergoes', 'buildings', 'office_locations', 'region', 'party', 'member', 'party_events', 'web_client_accelerator', 'accelerator_compatible_browser', 'investors', 'lots', 'transactions', 'sales', 'purchases', 'transactions_lots']\n",
      "['basketball_match', 'university', 'geographic', 'restaurant', 'location', 'follows', 'tweets', 'user_profiles', 'station', 'status', 'campuses', 'csu_fees', 'degrees', 'discipline_enrollments', 'enrollments', 'faculty', 'journalist', 'news_report', 'authors', 'authorship', 'manufacturer', 'furniture_manufacte', 'person', 'personfriend']\n",
      "['enzyme', 'medicine_enzyme_interaction', 'apartment_buildings', 'apartments', 'apartment_facilities', 'apartment_bookings', 'view_unit_status', 'channel', 'broadcast', 'broadcast_share', 'customer_master_index', 'cmi_cross_references', 'council_tax', 'business_rates', 'benefits_overpayments', 'parking_fines', 'rent_arrears', 'electoral_register', 'store', 'store_product', 'store_district', 'gas_station', 'station_company']\n",
      "['artwork', 'nomination', 'building', 'institution', 'protein', 'roller_coaster', 'country', 'services', 'events', 'participants_in_events', 'architect', 'bridge', 'mill', 'railway', 'train', 'railway_manage', 'publication', 'book', 'video_games', 'musical', 'locations', 'visitors', 'features', 'user', 'ref_address_types', 'market']\n",
      "['attribute_definitions', 'airlines', 'procedures', 'medication', 'companies', 'browser', 'ref_transaction_types', 'trip', 'weather', 'event', 'inst', 'papers', 'furniture', 'medicine', 'guests', 'program', 'product', 'district', 'company', 'festival_detail', 'participants', 'manager']\n",
      "172\n"
     ]
    },
    {
     "name": "stderr",
     "output_type": "stream",
     "text": [
      "\n"
     ]
    }
   ],
   "source": [
    "# 拆解训练集\n",
    "# 提供每次训练token数\n",
    "from tqdm import tqdm\n",
    "import copy \n",
    "import re\n",
    "max_token = 1100\n",
    "#  保证特殊字符能被识别\n",
    "accept_toekn = max_token - 170\n",
    "#获取REF表数据\n",
    "tab_str = \"\"\n",
    "schema_slicing = []\n",
    "df = pd.read_csv(\"./dataset2/table_schema_Reference_cropped.csv\",encoding=\"utf-8\")\n",
    "for index, row in tqdm(df.iterrows(), total=len(df)):\n",
    "    table_group = row['Reference_group']\n",
    "    tab_str_elder = copy.deepcopy(tab_str)\n",
    "    tab_str += table_group + \"\\n\"\n",
    "    check_token = tokenizer(f\"{tab_str}\", add_special_tokens=False)\n",
    "    if len(check_token[\"input_ids\"]) > accept_toekn:\n",
    "        schema_slicing.append(tab_str_elder)\n",
    "        tab_str = table_group + \"\\n\"\n",
    "\n",
    "    \n",
    "print(len(schema_slicing))\n",
    "\n",
    "# print(ReF_group[5])\n",
    "# print(\"#############################\")\n",
    "# print(ReF_group[6])\n",
    "\n",
    "\n",
    "#获取noREF表数据\n",
    "df = pd.read_csv(\"./dataset2/table_schema_noReference_cropped.csv\",encoding=\"utf-8\")\n",
    "for index, row in tqdm(df.iterrows(), total=len(df)):\n",
    "    table_group = row['noReference_group']\n",
    "    tab_str_elder = copy.deepcopy(tab_str)\n",
    "    tab_str += table_group + \"\\n\"\n",
    "    check_token = tokenizer(f\"{tab_str}\", add_special_tokens=False)\n",
    "    if len(check_token[\"input_ids\"]) > accept_toekn:\n",
    "#         print(\"+++++++++++\")\n",
    "        schema_slicing.append(tab_str_elder)\n",
    "        tab_str = table_group + \"\\n\"\n",
    "        \n",
    "        \n",
    "if len(tab_str) > 0:\n",
    "    schema_slicing.append(tab_str)\n",
    "\n",
    "print(len(schema_slicing))\n",
    "# print(schema_slicing[6])\n",
    "# print(\"#############################\")\n",
    "# print(schema_slicing[7])\n",
    "# print(schema_slicing[8])\n",
    "\n",
    "create_table_pattern = re.compile(r'CREATE TABLE `[^`]+` \\([^;]+\\);')\n",
    "table_name_group = []\n",
    "test_total = set()\n",
    "count = 0\n",
    "for piece in schema_slicing:\n",
    "    create_table_statements = create_table_pattern.findall(piece)\n",
    "    temp_list = []\n",
    "    for table in create_table_statements:\n",
    "        table_name = re.search(r\"CREATE TABLE `([^`]+)`\", table).group(1)\n",
    "        temp_list.append(table_name.lower())\n",
    "        test_total.add(table_name.lower())\n",
    "        count+=1\n",
    "    print(temp_list)\n",
    "    table_name_group.append(temp_list)\n",
    "# print(count)\n",
    "print(len(test_total))\n",
    "#     table_name_group.append()"
   ]
  },
  {
   "cell_type": "code",
   "execution_count": 8,
   "id": "32ec16ba",
   "metadata": {},
   "outputs": [],
   "source": [
    "def predict(messages, model, tokenizer):\n",
    "    device = \"cuda\"\n",
    "    text = tokenizer.apply_chat_template(\n",
    "        messages,\n",
    "        tokenize=False,\n",
    "        add_generation_prompt=True\n",
    "    )\n",
    "    model_inputs = tokenizer([text], return_tensors=\"pt\").to(device)\n",
    "\n",
    "    generated_ids = model.generate(\n",
    "        model_inputs.input_ids,\n",
    "        max_new_tokens=512,\n",
    "        pad_token_id=tokenizer.eos_token_id \n",
    "    )\n",
    "    generated_ids = [\n",
    "        output_ids[len(input_ids):] for input_ids, output_ids in zip(model_inputs.input_ids, generated_ids)\n",
    "    ]\n",
    "    \n",
    "    response = tokenizer.batch_decode(generated_ids, skip_special_tokens=True)[0]\n",
    "    \n",
    "#     print(response)\n",
    "     \n",
    "    return response\n",
    "\n",
    "# instruction = row['instruction']\n",
    "# input_value = row['input']\n",
    "def get_instruction(schema):\n",
    "    instruction = f\" I want you to act as a relation extraction robot for a sample SQL table. You only need to return the tables related to the user's input question. Below are instructions describing the relationship between tables. Please write a response that appropriately completes the request. \\n##instruction:{schema}\"\n",
    "    return instruction\n",
    "\n",
    "def get_input_value(question, selected_table):\n",
    "    input_value = f\"{question}######selected_table: {selected_table}.\"\n",
    "    return input_value"
   ]
  },
  {
   "cell_type": "code",
   "execution_count": null,
   "id": "deb8f2af",
   "metadata": {},
   "outputs": [],
   "source": []
  },
  {
   "cell_type": "code",
   "execution_count": 9,
   "id": "c39a6635",
   "metadata": {},
   "outputs": [
    {
     "name": "stderr",
     "output_type": "stream",
     "text": [
      "  0%|                                                                                                               | 0/178 [00:00<?, ?it/s]The attention mask is not set and cannot be inferred from input because pad token is same as eos token. As a consequence, you may observe unexpected behavior. Please pass your input's `attention_mask` to obtain reliable results.\n",
      "  1%|▌                                                                                                      | 1/178 [00:07<21:06,  7.16s/it]"
     ]
    },
    {
     "name": "stdout",
     "output_type": "stream",
     "text": [
      "++++++++++++++++index:0++++++++++++++++++++++++\n",
      "正确表名： products, manufacturers\n",
      "预测表名： None\n",
      "############################################\n"
     ]
    },
    {
     "name": "stderr",
     "output_type": "stream",
     "text": [
      "\r",
      "  1%|█▏                                                                                                     | 2/178 [00:13<20:13,  6.90s/it]"
     ]
    },
    {
     "name": "stdout",
     "output_type": "stream",
     "text": [
      "++++++++++++++++index:1++++++++++++++++++++++++\n",
      "正确表名： products\n",
      "预测表名： products\n",
      "############################################\n"
     ]
    },
    {
     "name": "stderr",
     "output_type": "stream",
     "text": [
      "\r",
      "  2%|█▋                                                                                                     | 3/178 [00:20<19:57,  6.85s/it]"
     ]
    },
    {
     "name": "stdout",
     "output_type": "stream",
     "text": [
      "++++++++++++++++index:2++++++++++++++++++++++++\n",
      "正确表名： manufacturers\n",
      "预测表名： manufacturers\n",
      "############################################\n"
     ]
    },
    {
     "name": "stderr",
     "output_type": "stream",
     "text": [
      "\r",
      "  2%|██▎                                                                                                    | 4/178 [00:27<19:47,  6.82s/it]"
     ]
    },
    {
     "name": "stdout",
     "output_type": "stream",
     "text": [
      "++++++++++++++++index:3++++++++++++++++++++++++\n",
      "正确表名： manufacturers\n",
      "预测表名： None\n",
      "############################################\n"
     ]
    },
    {
     "name": "stderr",
     "output_type": "stream",
     "text": [
      "\r",
      "  3%|██▉                                                                                                    | 5/178 [00:34<19:33,  6.78s/it]"
     ]
    },
    {
     "name": "stdout",
     "output_type": "stream",
     "text": [
      "++++++++++++++++index:4++++++++++++++++++++++++\n",
      "正确表名： manufacturers\n",
      "预测表名： manufacturers\n",
      "############################################\n"
     ]
    },
    {
     "name": "stderr",
     "output_type": "stream",
     "text": [
      "\r",
      "  3%|███▍                                                                                                   | 6/178 [00:41<19:33,  6.82s/it]"
     ]
    },
    {
     "name": "stdout",
     "output_type": "stream",
     "text": [
      "++++++++++++++++index:5++++++++++++++++++++++++\n",
      "正确表名： products, manufacturers\n",
      "预测表名： manufacturers, products\n",
      "############################################\n"
     ]
    },
    {
     "name": "stderr",
     "output_type": "stream",
     "text": [
      "\r",
      "  4%|████                                                                                                   | 7/178 [00:47<19:22,  6.80s/it]"
     ]
    },
    {
     "name": "stdout",
     "output_type": "stream",
     "text": [
      "++++++++++++++++index:6++++++++++++++++++++++++\n",
      "正确表名： manufacturers\n",
      "预测表名： manufacturers\n",
      "############################################\n"
     ]
    },
    {
     "name": "stderr",
     "output_type": "stream",
     "text": [
      "\r",
      "  4%|████▋                                                                                                  | 8/178 [00:54<19:13,  6.78s/it]"
     ]
    },
    {
     "name": "stdout",
     "output_type": "stream",
     "text": [
      "++++++++++++++++index:7++++++++++++++++++++++++\n",
      "正确表名： products\n",
      "预测表名： products\n",
      "############################################\n"
     ]
    },
    {
     "name": "stderr",
     "output_type": "stream",
     "text": [
      "\r",
      "  5%|█████▏                                                                                                 | 9/178 [01:01<19:07,  6.79s/it]"
     ]
    },
    {
     "name": "stdout",
     "output_type": "stream",
     "text": [
      "++++++++++++++++index:8++++++++++++++++++++++++\n",
      "正确表名： student, sportsinfo\n",
      "预测表名： None\n",
      "############################################\n"
     ]
    },
    {
     "name": "stderr",
     "output_type": "stream",
     "text": [
      "\r",
      "  6%|█████▋                                                                                                | 10/178 [01:08<18:56,  6.77s/it]"
     ]
    },
    {
     "name": "stdout",
     "output_type": "stream",
     "text": [
      "++++++++++++++++index:9++++++++++++++++++++++++\n",
      "正确表名： plays_games, video_games\n",
      "预测表名： video_games, plays_games\n",
      "############################################\n"
     ]
    },
    {
     "name": "stderr",
     "output_type": "stream",
     "text": [
      "\r",
      "  6%|██████▎                                                                                               | 11/178 [01:14<18:49,  6.76s/it]"
     ]
    },
    {
     "name": "stdout",
     "output_type": "stream",
     "text": [
      "++++++++++++++++index:10++++++++++++++++++++++++\n",
      "正确表名： video_games\n",
      "预测表名： video_games\n",
      "############################################\n"
     ]
    },
    {
     "name": "stderr",
     "output_type": "stream",
     "text": [
      "\r",
      "  7%|██████▉                                                                                               | 12/178 [01:21<18:43,  6.77s/it]"
     ]
    },
    {
     "name": "stdout",
     "output_type": "stream",
     "text": [
      "++++++++++++++++index:11++++++++++++++++++++++++\n",
      "正确表名： video_games\n",
      "预测表名： video_games\n",
      "############################################\n"
     ]
    },
    {
     "name": "stderr",
     "output_type": "stream",
     "text": [
      "\r",
      "  7%|███████▍                                                                                              | 13/178 [01:28<18:36,  6.77s/it]"
     ]
    },
    {
     "name": "stdout",
     "output_type": "stream",
     "text": [
      "++++++++++++++++index:12++++++++++++++++++++++++\n",
      "正确表名： video_games\n",
      "预测表名： video_game\n",
      "############################################\n"
     ]
    },
    {
     "name": "stderr",
     "output_type": "stream",
     "text": [
      "\r",
      "  8%|████████                                                                                              | 14/178 [01:35<18:30,  6.77s/it]"
     ]
    },
    {
     "name": "stdout",
     "output_type": "stream",
     "text": [
      "++++++++++++++++index:13++++++++++++++++++++++++\n",
      "正确表名： sportsinfo, student\n",
      "预测表名： None\n",
      "############################################\n"
     ]
    },
    {
     "name": "stderr",
     "output_type": "stream",
     "text": [
      "\r",
      "  8%|████████▌                                                                                             | 15/178 [01:42<18:28,  6.80s/it]"
     ]
    },
    {
     "name": "stdout",
     "output_type": "stream",
     "text": [
      "++++++++++++++++index:14++++++++++++++++++++++++\n",
      "正确表名： student, plays_games\n",
      "预测表名： sportsinfo, student\n",
      "############################################\n"
     ]
    },
    {
     "name": "stderr",
     "output_type": "stream",
     "text": [
      "\r",
      "  9%|█████████▏                                                                                            | 16/178 [01:48<18:23,  6.81s/it]"
     ]
    },
    {
     "name": "stdout",
     "output_type": "stream",
     "text": [
      "++++++++++++++++index:15++++++++++++++++++++++++\n",
      "正确表名： student, sportsinfo\n",
      "预测表名： sportsinfo, student\n",
      "############################################\n"
     ]
    },
    {
     "name": "stderr",
     "output_type": "stream",
     "text": [
      "\r",
      " 10%|█████████▋                                                                                            | 17/178 [01:55<18:13,  6.79s/it]"
     ]
    },
    {
     "name": "stdout",
     "output_type": "stream",
     "text": [
      "++++++++++++++++index:16++++++++++++++++++++++++\n",
      "正确表名： musical\n",
      "预测表名： musical\n",
      "############################################\n"
     ]
    },
    {
     "name": "stderr",
     "output_type": "stream",
     "text": [
      "\r",
      " 10%|██████████▎                                                                                           | 18/178 [02:02<17:57,  6.73s/it]"
     ]
    },
    {
     "name": "stdout",
     "output_type": "stream",
     "text": [
      "++++++++++++++++index:17++++++++++++++++++++++++\n",
      "正确表名： actor, musical\n",
      "预测表名： actor, musical\n",
      "############################################\n"
     ]
    },
    {
     "name": "stderr",
     "output_type": "stream",
     "text": [
      "\r",
      " 11%|██████████▉                                                                                           | 19/178 [02:08<17:49,  6.73s/it]"
     ]
    },
    {
     "name": "stdout",
     "output_type": "stream",
     "text": [
      "++++++++++++++++index:18++++++++++++++++++++++++\n",
      "正确表名： musical, actor\n",
      "预测表名： actor, musical\n",
      "############################################\n"
     ]
    },
    {
     "name": "stderr",
     "output_type": "stream",
     "text": [
      "\r",
      " 11%|███████████▍                                                                                          | 20/178 [02:15<17:41,  6.72s/it]"
     ]
    },
    {
     "name": "stdout",
     "output_type": "stream",
     "text": [
      "++++++++++++++++index:19++++++++++++++++++++++++\n",
      "正确表名： actor, musical\n",
      "预测表名： actor, musical\n",
      "############################################\n"
     ]
    },
    {
     "name": "stderr",
     "output_type": "stream",
     "text": [
      "\r",
      " 12%|████████████                                                                                          | 21/178 [02:22<17:32,  6.70s/it]"
     ]
    },
    {
     "name": "stdout",
     "output_type": "stream",
     "text": [
      "++++++++++++++++index:20++++++++++++++++++++++++\n",
      "正确表名： entrepreneur, people\n",
      "预测表名： entrepreneur\n",
      "############################################\n"
     ]
    },
    {
     "name": "stderr",
     "output_type": "stream",
     "text": [
      "\r",
      " 12%|████████████▌                                                                                         | 22/178 [02:29<17:29,  6.73s/it]"
     ]
    },
    {
     "name": "stdout",
     "output_type": "stream",
     "text": [
      "++++++++++++++++index:21++++++++++++++++++++++++\n",
      "正确表名： entrepreneur, people\n",
      "预测表名： entrepreneur, people\n",
      "############################################\n"
     ]
    },
    {
     "name": "stderr",
     "output_type": "stream",
     "text": [
      "\r",
      " 13%|█████████████▏                                                                                        | 23/178 [02:35<17:22,  6.73s/it]"
     ]
    },
    {
     "name": "stdout",
     "output_type": "stream",
     "text": [
      "++++++++++++++++index:22++++++++++++++++++++++++\n",
      "正确表名： people\n",
      "预测表名： people\n",
      "############################################\n"
     ]
    },
    {
     "name": "stderr",
     "output_type": "stream",
     "text": [
      "\r",
      " 13%|█████████████▊                                                                                        | 24/178 [02:42<17:17,  6.74s/it]"
     ]
    },
    {
     "name": "stdout",
     "output_type": "stream",
     "text": [
      "++++++++++++++++index:23++++++++++++++++++++++++\n",
      "正确表名： entrepreneur\n",
      "预测表名： manufacturers\n",
      "############################################\n"
     ]
    },
    {
     "name": "stderr",
     "output_type": "stream",
     "text": [
      "\r",
      " 14%|██████████████▎                                                                                       | 25/178 [02:49<17:23,  6.82s/it]"
     ]
    },
    {
     "name": "stdout",
     "output_type": "stream",
     "text": [
      "++++++++++++++++index:24++++++++++++++++++++++++\n",
      "正确表名： tourist_attractions, visitors, visits\n",
      "预测表名： visits, tourist_attractions\n",
      "############################################\n"
     ]
    },
    {
     "name": "stderr",
     "output_type": "stream",
     "text": [
      "\r",
      " 15%|██████████████▉                                                                                       | 26/178 [02:56<17:11,  6.78s/it]"
     ]
    },
    {
     "name": "stdout",
     "output_type": "stream",
     "text": [
      "++++++++++++++++index:25++++++++++++++++++++++++\n",
      "正确表名： visits\n",
      "预测表名： visits\n",
      "############################################\n"
     ]
    },
    {
     "name": "stderr",
     "output_type": "stream",
     "text": [
      "\r",
      " 15%|███████████████▍                                                                                      | 27/178 [03:03<17:07,  6.80s/it]"
     ]
    },
    {
     "name": "stdout",
     "output_type": "stream",
     "text": [
      "++++++++++++++++index:26++++++++++++++++++++++++\n",
      "正确表名： locations, tourist_attractions\n",
      "预测表名： tourist_attractions\n",
      "############################################\n"
     ]
    },
    {
     "name": "stderr",
     "output_type": "stream",
     "text": [
      "\r",
      " 16%|████████████████                                                                                      | 28/178 [03:10<17:07,  6.85s/it]"
     ]
    },
    {
     "name": "stdout",
     "output_type": "stream",
     "text": [
      "++++++++++++++++index:27++++++++++++++++++++++++\n",
      "正确表名： tourist_attractions\n",
      "预测表名： visits, tourist_attractions\n",
      "############################################\n"
     ]
    },
    {
     "name": "stderr",
     "output_type": "stream",
     "text": [
      "\r",
      " 16%|████████████████▌                                                                                     | 29/178 [03:16<16:56,  6.82s/it]"
     ]
    },
    {
     "name": "stdout",
     "output_type": "stream",
     "text": [
      "++++++++++++++++index:28++++++++++++++++++++++++\n",
      "正确表名： museums, tourist_attractions\n",
      "预测表名： museums\n",
      "############################################\n"
     ]
    },
    {
     "name": "stderr",
     "output_type": "stream",
     "text": [
      "\r",
      " 17%|█████████████████▏                                                                                    | 30/178 [03:23<16:51,  6.83s/it]"
     ]
    },
    {
     "name": "stdout",
     "output_type": "stream",
     "text": [
      "++++++++++++++++index:29++++++++++++++++++++++++\n",
      "正确表名： locations, tourist_attractions\n",
      "预测表名： tourist_attractions\n",
      "############################################\n"
     ]
    },
    {
     "name": "stderr",
     "output_type": "stream",
     "text": [
      "\r",
      " 17%|█████████████████▊                                                                                    | 31/178 [03:30<16:44,  6.83s/it]"
     ]
    },
    {
     "name": "stdout",
     "output_type": "stream",
     "text": [
      "++++++++++++++++index:30++++++++++++++++++++++++\n",
      "正确表名： photos\n",
      "预测表名： photos\n",
      "############################################\n"
     ]
    },
    {
     "name": "stderr",
     "output_type": "stream",
     "text": [
      "\r",
      " 18%|██████████████████▎                                                                                   | 32/178 [03:37<16:44,  6.88s/it]"
     ]
    },
    {
     "name": "stdout",
     "output_type": "stream",
     "text": [
      "++++++++++++++++index:31++++++++++++++++++++++++\n",
      "正确表名： staff, tourist_attractions\n",
      "预测表名： staff, tourist_attractions\n",
      "############################################\n"
     ]
    },
    {
     "name": "stderr",
     "output_type": "stream",
     "text": [
      "\r",
      " 19%|██████████████████▉                                                                                   | 33/178 [03:44<16:32,  6.84s/it]"
     ]
    },
    {
     "name": "stdout",
     "output_type": "stream",
     "text": [
      "++++++++++++++++index:32++++++++++++++++++++++++\n",
      "正确表名： elimination\n",
      "预测表名： elimination\n",
      "############################################\n"
     ]
    },
    {
     "name": "stderr",
     "output_type": "stream",
     "text": [
      "\r",
      " 19%|███████████████████▍                                                                                  | 34/178 [03:51<16:24,  6.84s/it]"
     ]
    },
    {
     "name": "stdout",
     "output_type": "stream",
     "text": [
      "++++++++++++++++index:33++++++++++++++++++++++++\n",
      "正确表名： wrestler\n",
      "预测表名： None\n",
      "############################################\n"
     ]
    },
    {
     "name": "stderr",
     "output_type": "stream",
     "text": [
      "\r",
      " 20%|████████████████████                                                                                  | 35/178 [03:57<16:11,  6.80s/it]"
     ]
    },
    {
     "name": "stdout",
     "output_type": "stream",
     "text": [
      "++++++++++++++++index:34++++++++++++++++++++++++\n",
      "正确表名： wrestler\n",
      "预测表名： wrestler\n",
      "############################################\n"
     ]
    },
    {
     "name": "stderr",
     "output_type": "stream",
     "text": [
      "\r",
      " 20%|████████████████████▋                                                                                 | 36/178 [04:04<16:02,  6.78s/it]"
     ]
    },
    {
     "name": "stdout",
     "output_type": "stream",
     "text": [
      "++++++++++++++++index:35++++++++++++++++++++++++\n",
      "正确表名： elimination\n",
      "预测表名： elimination\n",
      "############################################\n"
     ]
    },
    {
     "name": "stderr",
     "output_type": "stream",
     "text": [
      "\r",
      " 21%|█████████████████████▏                                                                                | 37/178 [04:11<15:50,  6.74s/it]"
     ]
    },
    {
     "name": "stdout",
     "output_type": "stream",
     "text": [
      "++++++++++++++++index:36++++++++++++++++++++++++\n",
      "正确表名： user, tip\n",
      "预测表名： tip, user\n",
      "############################################\n"
     ]
    },
    {
     "name": "stderr",
     "output_type": "stream",
     "text": [
      "\r",
      " 21%|█████████████████████▊                                                                                | 38/178 [04:17<15:42,  6.73s/it]"
     ]
    },
    {
     "name": "stdout",
     "output_type": "stream",
     "text": [
      "++++++++++++++++index:37++++++++++++++++++++++++\n",
      "正确表名： category, business, review, user\n",
      "预测表名： user\n",
      "############################################\n"
     ]
    },
    {
     "name": "stderr",
     "output_type": "stream",
     "text": [
      "\r",
      " 22%|██████████████████████▎                                                                               | 39/178 [04:24<15:40,  6.76s/it]"
     ]
    },
    {
     "name": "stdout",
     "output_type": "stream",
     "text": [
      "++++++++++++++++index:38++++++++++++++++++++++++\n",
      "正确表名： category, business, review, user\n",
      "预测表名： review, business\n",
      "############################################\n"
     ]
    },
    {
     "name": "stderr",
     "output_type": "stream",
     "text": [
      "\r",
      " 22%|██████████████████████▉                                                                               | 40/178 [04:31<15:41,  6.82s/it]"
     ]
    },
    {
     "name": "stdout",
     "output_type": "stream",
     "text": [
      "++++++++++++++++index:39++++++++++++++++++++++++\n",
      "正确表名： category, business, neighbourhood\n",
      "预测表名： business, category, neighbourhood\n",
      "############################################\n"
     ]
    },
    {
     "name": "stderr",
     "output_type": "stream",
     "text": [
      "\r",
      " 23%|███████████████████████▍                                                                              | 41/178 [04:38<15:33,  6.81s/it]"
     ]
    },
    {
     "name": "stdout",
     "output_type": "stream",
     "text": [
      "++++++++++++++++index:40++++++++++++++++++++++++\n",
      "正确表名： category, business\n",
      "预测表名： None\n",
      "############################################\n"
     ]
    },
    {
     "name": "stderr",
     "output_type": "stream",
     "text": [
      "\r",
      " 24%|████████████████████████                                                                              | 42/178 [04:45<15:18,  6.76s/it]"
     ]
    },
    {
     "name": "stdout",
     "output_type": "stream",
     "text": [
      "++++++++++++++++index:41++++++++++++++++++++++++\n",
      "正确表名： user, review\n",
      "预测表名： review, user\n",
      "############################################\n"
     ]
    },
    {
     "name": "stderr",
     "output_type": "stream",
     "text": [
      "\r",
      " 24%|████████████████████████▋                                                                             | 43/178 [04:51<15:15,  6.78s/it]"
     ]
    },
    {
     "name": "stdout",
     "output_type": "stream",
     "text": [
      "++++++++++++++++index:42++++++++++++++++++++++++\n",
      "正确表名： category, business\n",
      "预测表名： None\n",
      "############################################\n"
     ]
    },
    {
     "name": "stderr",
     "output_type": "stream",
     "text": [
      "\r",
      " 25%|█████████████████████████▏                                                                            | 44/178 [04:58<15:06,  6.77s/it]"
     ]
    },
    {
     "name": "stdout",
     "output_type": "stream",
     "text": [
      "++++++++++++++++index:43++++++++++++++++++++++++\n",
      "正确表名： user, review\n",
      "预测表名： user\n",
      "############################################\n"
     ]
    },
    {
     "name": "stderr",
     "output_type": "stream",
     "text": [
      "\r",
      " 25%|█████████████████████████▊                                                                            | 45/178 [05:05<15:02,  6.78s/it]"
     ]
    },
    {
     "name": "stdout",
     "output_type": "stream",
     "text": [
      "++++++++++++++++index:44++++++++++++++++++++++++\n",
      "正确表名： review, business, user\n",
      "预测表名： None\n",
      "############################################\n"
     ]
    },
    {
     "name": "stderr",
     "output_type": "stream",
     "text": [
      "\r",
      " 26%|██████████████████████████▎                                                                           | 46/178 [05:12<14:51,  6.75s/it]"
     ]
    },
    {
     "name": "stdout",
     "output_type": "stream",
     "text": [
      "++++++++++++++++index:45++++++++++++++++++++++++\n",
      "正确表名： tip, business, user\n",
      "预测表名： tip\n",
      "############################################\n"
     ]
    },
    {
     "name": "stderr",
     "output_type": "stream",
     "text": [
      "\r",
      " 26%|██████████████████████████▉                                                                           | 47/178 [05:18<14:41,  6.73s/it]"
     ]
    },
    {
     "name": "stdout",
     "output_type": "stream",
     "text": [
      "++++++++++++++++index:46++++++++++++++++++++++++\n",
      "正确表名： review, business\n",
      "预测表名： review\n",
      "############################################\n"
     ]
    },
    {
     "name": "stderr",
     "output_type": "stream",
     "text": [
      "\r",
      " 27%|███████████████████████████▌                                                                          | 48/178 [05:25<14:39,  6.77s/it]"
     ]
    },
    {
     "name": "stdout",
     "output_type": "stream",
     "text": [
      "++++++++++++++++index:47++++++++++++++++++++++++\n",
      "正确表名： behavior_incident\n",
      "预测表名： behavior_incident\n",
      "############################################\n"
     ]
    },
    {
     "name": "stderr",
     "output_type": "stream",
     "text": [
      "\r",
      " 28%|████████████████████████████                                                                          | 49/178 [05:32<14:31,  6.76s/it]"
     ]
    },
    {
     "name": "stdout",
     "output_type": "stream",
     "text": [
      "++++++++++++++++index:48++++++++++++++++++++++++\n",
      "正确表名： student_addresses\n",
      "预测表名： student_addresses\n",
      "############################################\n"
     ]
    },
    {
     "name": "stderr",
     "output_type": "stream",
     "text": [
      "\r",
      " 28%|████████████████████████████▋                                                                         | 50/178 [05:39<14:23,  6.75s/it]"
     ]
    },
    {
     "name": "stdout",
     "output_type": "stream",
     "text": [
      "++++++++++++++++index:49++++++++++++++++++++++++\n",
      "正确表名： teachers\n",
      "预测表名： teachers\n",
      "############################################\n"
     ]
    },
    {
     "name": "stderr",
     "output_type": "stream",
     "text": [
      "\r",
      " 29%|█████████████████████████████▏                                                                        | 51/178 [05:46<14:22,  6.79s/it]"
     ]
    },
    {
     "name": "stdout",
     "output_type": "stream",
     "text": [
      "++++++++++++++++index:50++++++++++++++++++++++++\n",
      "正确表名： students_in_detention\n",
      "预测表名： behavior_incident, students, detention\n",
      "############################################\n"
     ]
    },
    {
     "name": "stderr",
     "output_type": "stream",
     "text": [
      "\r",
      " 29%|█████████████████████████████▊                                                                        | 52/178 [05:52<14:16,  6.80s/it]"
     ]
    },
    {
     "name": "stdout",
     "output_type": "stream",
     "text": [
      "++++++++++++++++index:51++++++++++++++++++++++++\n",
      "正确表名： film\n",
      "预测表名： None\n",
      "############################################\n"
     ]
    },
    {
     "name": "stderr",
     "output_type": "stream",
     "text": [
      "\r",
      " 30%|██████████████████████████████▎                                                                       | 53/178 [05:59<14:13,  6.83s/it]"
     ]
    },
    {
     "name": "stdout",
     "output_type": "stream",
     "text": [
      "++++++++++++++++index:52++++++++++++++++++++++++\n",
      "正确表名： film\n",
      "预测表名： None\n",
      "############################################\n"
     ]
    },
    {
     "name": "stderr",
     "output_type": "stream",
     "text": [
      "\r",
      " 30%|██████████████████████████████▉                                                                       | 54/178 [06:06<14:10,  6.86s/it]"
     ]
    },
    {
     "name": "stdout",
     "output_type": "stream",
     "text": [
      "++++++++++++++++index:53++++++++++++++++++++++++\n",
      "正确表名： film_market_estimation\n",
      "预测表名： film_market_estimation\n",
      "############################################\n"
     ]
    },
    {
     "name": "stderr",
     "output_type": "stream",
     "text": [
      "\r",
      " 31%|███████████████████████████████▌                                                                      | 55/178 [06:13<13:59,  6.82s/it]"
     ]
    },
    {
     "name": "stdout",
     "output_type": "stream",
     "text": [
      "++++++++++++++++index:54++++++++++++++++++++++++\n",
      "正确表名： film\n",
      "预测表名： film\n",
      "############################################\n"
     ]
    },
    {
     "name": "stderr",
     "output_type": "stream",
     "text": [
      "\r",
      " 31%|████████████████████████████████                                                                      | 56/178 [06:20<13:56,  6.86s/it]"
     ]
    },
    {
     "name": "stdout",
     "output_type": "stream",
     "text": [
      "++++++++++++++++index:55++++++++++++++++++++++++\n",
      "正确表名： catalog_contents, catalog_contents_Additional_Attributes\n",
      "预测表名： catalog_contents, catalogs\n",
      "############################################\n"
     ]
    },
    {
     "name": "stderr",
     "output_type": "stream",
     "text": [
      "\r",
      " 32%|████████████████████████████████▋                                                                     | 57/178 [06:27<13:46,  6.83s/it]"
     ]
    },
    {
     "name": "stdout",
     "output_type": "stream",
     "text": [
      "++++++++++++++++index:56++++++++++++++++++++++++\n",
      "正确表名： catalog_structure\n",
      "预测表名： catalog_structure\n",
      "############################################\n"
     ]
    },
    {
     "name": "stderr",
     "output_type": "stream",
     "text": [
      "\r",
      " 33%|█████████████████████████████████▏                                                                    | 58/178 [06:33<13:35,  6.79s/it]"
     ]
    },
    {
     "name": "stdout",
     "output_type": "stream",
     "text": [
      "++++++++++++++++index:57++++++++++++++++++++++++\n",
      "正确表名： catalogs\n",
      "预测表名： catalogs\n",
      "############################################\n"
     ]
    },
    {
     "name": "stderr",
     "output_type": "stream",
     "text": [
      "\r",
      " 33%|█████████████████████████████████▊                                                                    | 59/178 [06:40<13:30,  6.81s/it]"
     ]
    },
    {
     "name": "stdout",
     "output_type": "stream",
     "text": [
      "++++++++++++++++index:58++++++++++++++++++++++++\n",
      "正确表名： catalog_contents\n",
      "预测表名： catalog_contents\n",
      "############################################\n"
     ]
    },
    {
     "name": "stderr",
     "output_type": "stream",
     "text": [
      "\r",
      " 34%|██████████████████████████████████▍                                                                   | 60/178 [06:47<13:27,  6.84s/it]"
     ]
    },
    {
     "name": "stdout",
     "output_type": "stream",
     "text": [
      "++++++++++++++++index:59++++++++++++++++++++++++\n",
      "正确表名： airports\n",
      "预测表名： airports\n",
      "############################################\n"
     ]
    },
    {
     "name": "stderr",
     "output_type": "stream",
     "text": [
      "\r",
      " 34%|██████████████████████████████████▉                                                                   | 61/178 [06:54<13:18,  6.83s/it]"
     ]
    },
    {
     "name": "stdout",
     "output_type": "stream",
     "text": [
      "++++++++++++++++index:60++++++++++++++++++++++++\n",
      "正确表名： airports\n",
      "预测表名： airports\n",
      "############################################\n"
     ]
    },
    {
     "name": "stderr",
     "output_type": "stream",
     "text": [
      "\r",
      " 35%|███████████████████████████████████▌                                                                  | 62/178 [07:01<13:08,  6.80s/it]"
     ]
    },
    {
     "name": "stdout",
     "output_type": "stream",
     "text": [
      "++++++++++++++++index:61++++++++++++++++++++++++\n",
      "正确表名： airports\n",
      "预测表名： airports\n",
      "############################################\n"
     ]
    },
    {
     "name": "stderr",
     "output_type": "stream",
     "text": [
      "\r",
      " 35%|████████████████████████████████████                                                                  | 63/178 [07:07<12:59,  6.78s/it]"
     ]
    },
    {
     "name": "stdout",
     "output_type": "stream",
     "text": [
      "++++++++++++++++index:62++++++++++++++++++++++++\n",
      "正确表名： airlines\n",
      "预测表名： airlines\n",
      "############################################\n"
     ]
    },
    {
     "name": "stderr",
     "output_type": "stream",
     "text": [
      "\r",
      " 36%|████████████████████████████████████▋                                                                 | 64/178 [07:14<12:52,  6.77s/it]"
     ]
    },
    {
     "name": "stdout",
     "output_type": "stream",
     "text": [
      "++++++++++++++++index:63++++++++++++++++++++++++\n",
      "正确表名： airports\n",
      "预测表名： airports\n",
      "############################################\n"
     ]
    },
    {
     "name": "stderr",
     "output_type": "stream",
     "text": [
      "\r",
      " 37%|█████████████████████████████████████▏                                                                | 65/178 [07:21<12:43,  6.76s/it]"
     ]
    },
    {
     "name": "stdout",
     "output_type": "stream",
     "text": [
      "++++++++++++++++index:64++++++++++++++++++++++++\n",
      "正确表名： airports\n",
      "预测表名： airports\n",
      "############################################\n"
     ]
    },
    {
     "name": "stderr",
     "output_type": "stream",
     "text": [
      "\r",
      " 37%|█████████████████████████████████████▊                                                                | 66/178 [07:28<12:35,  6.75s/it]"
     ]
    },
    {
     "name": "stdout",
     "output_type": "stream",
     "text": [
      "++++++++++++++++index:65++++++++++++++++++++++++\n",
      "正确表名： airlines\n",
      "预测表名： airlines\n",
      "############################################\n"
     ]
    },
    {
     "name": "stderr",
     "output_type": "stream",
     "text": [
      "\r",
      " 38%|██████████████████████████████████████▍                                                               | 67/178 [07:34<12:25,  6.71s/it]"
     ]
    },
    {
     "name": "stdout",
     "output_type": "stream",
     "text": [
      "++++++++++++++++index:66++++++++++++++++++++++++\n",
      "正确表名： airlines, routes\n",
      "预测表名： routes, airlines\n",
      "############################################\n"
     ]
    },
    {
     "name": "stderr",
     "output_type": "stream",
     "text": [
      "\r",
      " 38%|██████████████████████████████████████▉                                                               | 68/178 [07:41<12:22,  6.75s/it]"
     ]
    },
    {
     "name": "stdout",
     "output_type": "stream",
     "text": [
      "++++++++++++++++index:67++++++++++++++++++++++++\n",
      "正确表名： game\n",
      "预测表名： None\n",
      "############################################\n"
     ]
    },
    {
     "name": "stderr",
     "output_type": "stream",
     "text": [
      "\r",
      " 39%|███████████████████████████████████████▌                                                              | 69/178 [07:48<12:20,  6.80s/it]"
     ]
    },
    {
     "name": "stdout",
     "output_type": "stream",
     "text": [
      "++++++++++++++++index:68++++++++++++++++++++++++\n",
      "正确表名： physician, patient\n",
      "预测表名： patient, physician\n",
      "############################################\n"
     ]
    },
    {
     "name": "stderr",
     "output_type": "stream",
     "text": [
      "\r",
      " 39%|████████████████████████████████████████                                                              | 70/178 [07:55<12:14,  6.80s/it]"
     ]
    },
    {
     "name": "stdout",
     "output_type": "stream",
     "text": [
      "++++++++++++++++index:69++++++++++++++++++++++++\n",
      "正确表名： department\n",
      "预测表名： None\n",
      "############################################\n"
     ]
    },
    {
     "name": "stderr",
     "output_type": "stream",
     "text": [
      "\r",
      " 40%|████████████████████████████████████████▋                                                             | 71/178 [08:01<12:03,  6.76s/it]"
     ]
    },
    {
     "name": "stdout",
     "output_type": "stream",
     "text": [
      "++++++++++++++++index:70++++++++++++++++++++++++\n",
      "正确表名： procedures\n",
      "预测表名： procedures\n",
      "############################################\n"
     ]
    },
    {
     "name": "stderr",
     "output_type": "stream",
     "text": [
      "\r",
      " 40%|█████████████████████████████████████████▎                                                            | 72/178 [08:08<11:53,  6.74s/it]"
     ]
    },
    {
     "name": "stdout",
     "output_type": "stream",
     "text": [
      "++++++++++++++++index:71++++++++++++++++++++++++\n",
      "正确表名： procedures, physician, trained_in\n",
      "预测表名： procedures\n",
      "############################################\n"
     ]
    },
    {
     "name": "stderr",
     "output_type": "stream",
     "text": [
      "\r",
      " 41%|█████████████████████████████████████████▊                                                            | 73/178 [08:15<11:42,  6.69s/it]"
     ]
    },
    {
     "name": "stdout",
     "output_type": "stream",
     "text": [
      "++++++++++++++++index:72++++++++++++++++++++++++\n",
      "正确表名： physician, prescribes\n",
      "预测表名： prescribes, physician\n",
      "############################################\n"
     ]
    },
    {
     "name": "stderr",
     "output_type": "stream",
     "text": [
      "\r",
      " 42%|██████████████████████████████████████████▍                                                           | 74/178 [08:21<11:35,  6.69s/it]"
     ]
    },
    {
     "name": "stdout",
     "output_type": "stream",
     "text": [
      "++++++++++++++++index:73++++++++++++++++++++++++\n",
      "正确表名： appointment\n",
      "预测表名： appointment\n",
      "############################################\n"
     ]
    },
    {
     "name": "stderr",
     "output_type": "stream",
     "text": [
      "\r",
      " 42%|██████████████████████████████████████████▉                                                           | 75/178 [08:28<11:27,  6.68s/it]"
     ]
    },
    {
     "name": "stdout",
     "output_type": "stream",
     "text": [
      "++++++++++++++++index:74++++++++++++++++++++++++\n",
      "正确表名： nurse, on_call\n",
      "预测表名： nurse, on_call\n",
      "############################################\n"
     ]
    },
    {
     "name": "stderr",
     "output_type": "stream",
     "text": [
      "\r",
      " 43%|███████████████████████████████████████████▌                                                          | 76/178 [08:35<11:22,  6.69s/it]"
     ]
    },
    {
     "name": "stdout",
     "output_type": "stream",
     "text": [
      "++++++++++++++++index:75++++++++++++++++++++++++\n",
      "正确表名： procedures, physician, trained_in\n",
      "预测表名： procedures, physician\n",
      "############################################\n"
     ]
    },
    {
     "name": "stderr",
     "output_type": "stream",
     "text": [
      "\r",
      " 43%|████████████████████████████████████████████                                                          | 77/178 [08:42<11:21,  6.74s/it]"
     ]
    },
    {
     "name": "stdout",
     "output_type": "stream",
     "text": [
      "++++++++++++++++index:76++++++++++++++++++++++++\n",
      "正确表名： department\n",
      "预测表名： None\n",
      "############################################\n"
     ]
    },
    {
     "name": "stderr",
     "output_type": "stream",
     "text": [
      "\r",
      " 44%|████████████████████████████████████████████▋                                                         | 78/178 [08:48<11:10,  6.71s/it]"
     ]
    },
    {
     "name": "stdout",
     "output_type": "stream",
     "text": [
      "++++++++++++++++index:77++++++++++++++++++++++++\n",
      "正确表名： procedures, physician, trained_in\n",
      "预测表名： procedures, physician\n",
      "############################################\n"
     ]
    },
    {
     "name": "stderr",
     "output_type": "stream",
     "text": [
      "\r",
      " 44%|█████████████████████████████████████████████▎                                                        | 79/178 [08:55<11:04,  6.72s/it]"
     ]
    },
    {
     "name": "stdout",
     "output_type": "stream",
     "text": [
      "++++++++++++++++index:78++++++++++++++++++++++++\n",
      "正确表名： buildings\n",
      "预测表名： buildings\n",
      "############################################\n"
     ]
    },
    {
     "name": "stderr",
     "output_type": "stream",
     "text": [
      "\r",
      " 45%|█████████████████████████████████████████████▊                                                        | 80/178 [09:02<10:58,  6.71s/it]"
     ]
    },
    {
     "name": "stdout",
     "output_type": "stream",
     "text": [
      "++++++++++++++++index:79++++++++++++++++++++++++\n",
      "正确表名： companies\n",
      "预测表名： companies\n",
      "############################################\n"
     ]
    },
    {
     "name": "stderr",
     "output_type": "stream",
     "text": [
      "\r",
      " 46%|██████████████████████████████████████████████▍                                                       | 81/178 [09:08<10:52,  6.73s/it]"
     ]
    },
    {
     "name": "stdout",
     "output_type": "stream",
     "text": [
      "++++++++++++++++index:80++++++++++++++++++++++++\n",
      "正确表名： companies\n",
      "预测表名： companies\n",
      "############################################\n"
     ]
    },
    {
     "name": "stderr",
     "output_type": "stream",
     "text": [
      "\r",
      " 46%|██████████████████████████████████████████████▉                                                       | 82/178 [09:15<10:47,  6.75s/it]"
     ]
    },
    {
     "name": "stdout",
     "output_type": "stream",
     "text": [
      "++++++++++++++++index:81++++++++++++++++++++++++\n",
      "正确表名： buildings\n",
      "预测表名： buildings\n",
      "############################################\n"
     ]
    },
    {
     "name": "stderr",
     "output_type": "stream",
     "text": [
      "\r",
      " 47%|███████████████████████████████████████████████▌                                                      | 83/178 [09:22<10:41,  6.75s/it]"
     ]
    },
    {
     "name": "stdout",
     "output_type": "stream",
     "text": [
      "++++++++++++++++index:82++++++++++++++++++++++++\n",
      "正确表名： party\n",
      "预测表名： party\n",
      "############################################\n"
     ]
    },
    {
     "name": "stderr",
     "output_type": "stream",
     "text": [
      "\r",
      " 47%|████████████████████████████████████████████████▏                                                     | 84/178 [09:29<10:35,  6.76s/it]"
     ]
    },
    {
     "name": "stdout",
     "output_type": "stream",
     "text": [
      "++++++++++++++++index:83++++++++++++++++++++++++\n",
      "正确表名： party\n",
      "预测表名： party\n",
      "############################################\n"
     ]
    },
    {
     "name": "stderr",
     "output_type": "stream",
     "text": [
      "\r",
      " 48%|████████████████████████████████████████████████▋                                                     | 85/178 [09:36<10:27,  6.75s/it]"
     ]
    },
    {
     "name": "stdout",
     "output_type": "stream",
     "text": [
      "++++++++++++++++index:84++++++++++++++++++++++++\n",
      "正确表名： party\n",
      "预测表名： party\n",
      "############################################\n"
     ]
    },
    {
     "name": "stderr",
     "output_type": "stream",
     "text": [
      "\r",
      " 48%|█████████████████████████████████████████████████▎                                                    | 86/178 [09:42<10:21,  6.76s/it]"
     ]
    },
    {
     "name": "stdout",
     "output_type": "stream",
     "text": [
      "++++++++++++++++index:85++++++++++++++++++++++++\n",
      "正确表名： party_events, party\n",
      "预测表名： party\n",
      "############################################\n"
     ]
    },
    {
     "name": "stderr",
     "output_type": "stream",
     "text": [
      "\r",
      " 49%|█████████████████████████████████████████████████▊                                                    | 87/178 [09:49<10:27,  6.89s/it]"
     ]
    },
    {
     "name": "stdout",
     "output_type": "stream",
     "text": [
      "++++++++++++++++index:86++++++++++++++++++++++++\n",
      "正确表名： browser, accelerator_compatible_browser, web_client_accelerator\n",
      "预测表名： accelerator_compatible_browser, web_client_accelerator\n",
      "############################################\n"
     ]
    },
    {
     "name": "stderr",
     "output_type": "stream",
     "text": [
      "\r",
      " 49%|██████████████████████████████████████████████████▍                                                   | 88/178 [09:56<10:17,  6.86s/it]"
     ]
    },
    {
     "name": "stdout",
     "output_type": "stream",
     "text": [
      "++++++++++++++++index:87++++++++++++++++++++++++\n",
      "正确表名： transactions, transactions_lots\n",
      "预测表名： transactions_lots\n",
      "############################################\n"
     ]
    },
    {
     "name": "stderr",
     "output_type": "stream",
     "text": [
      "\r",
      " 50%|███████████████████████████████████████████████████                                                   | 89/178 [10:03<10:05,  6.81s/it]"
     ]
    },
    {
     "name": "stdout",
     "output_type": "stream",
     "text": [
      "++++++++++++++++index:88++++++++++++++++++++++++\n",
      "正确表名： investors\n",
      "预测表名： investors\n",
      "############################################\n"
     ]
    },
    {
     "name": "stderr",
     "output_type": "stream",
     "text": [
      "\r",
      " 51%|███████████████████████████████████████████████████▌                                                  | 90/178 [10:10<09:56,  6.78s/it]"
     ]
    },
    {
     "name": "stdout",
     "output_type": "stream",
     "text": [
      "++++++++++++++++index:89++++++++++++++++++++++++\n",
      "正确表名： lots, transactions_lots\n",
      "预测表名： lots\n",
      "############################################\n"
     ]
    },
    {
     "name": "stderr",
     "output_type": "stream",
     "text": [
      "\r",
      " 51%|████████████████████████████████████████████████████▏                                                 | 91/178 [10:16<09:49,  6.78s/it]"
     ]
    },
    {
     "name": "stdout",
     "output_type": "stream",
     "text": [
      "++++++++++++++++index:90++++++++++++++++++++++++\n",
      "正确表名： transactions\n",
      "预测表名： transactions\n",
      "############################################\n"
     ]
    },
    {
     "name": "stderr",
     "output_type": "stream",
     "text": [
      "\r",
      " 52%|████████████████████████████████████████████████████▋                                                 | 92/178 [10:23<09:42,  6.77s/it]"
     ]
    },
    {
     "name": "stdout",
     "output_type": "stream",
     "text": [
      "++++++++++++++++index:91++++++++++++++++++++++++\n",
      "正确表名： university\n",
      "预测表名： university\n",
      "############################################\n"
     ]
    },
    {
     "name": "stderr",
     "output_type": "stream",
     "text": [
      "\r",
      " 52%|█████████████████████████████████████████████████████▎                                                | 93/178 [10:30<09:34,  6.75s/it]"
     ]
    },
    {
     "name": "stdout",
     "output_type": "stream",
     "text": [
      "++++++++++++++++index:92++++++++++++++++++++++++\n",
      "正确表名： university\n",
      "预测表名： university\n",
      "############################################\n"
     ]
    },
    {
     "name": "stderr",
     "output_type": "stream",
     "text": [
      "\r",
      " 53%|█████████████████████████████████████████████████████▊                                                | 94/178 [10:37<09:27,  6.76s/it]"
     ]
    },
    {
     "name": "stdout",
     "output_type": "stream",
     "text": [
      "++++++++++++++++index:93++++++++++++++++++++++++\n",
      "正确表名： university\n",
      "预测表名： university\n",
      "############################################\n"
     ]
    },
    {
     "name": "stderr",
     "output_type": "stream",
     "text": [
      "\r",
      " 53%|██████████████████████████████████████████████████████▍                                               | 95/178 [10:43<09:21,  6.77s/it]"
     ]
    },
    {
     "name": "stdout",
     "output_type": "stream",
     "text": [
      "++++++++++++++++index:94++++++++++++++++++++++++\n",
      "正确表名： university, basketball_match\n",
      "预测表名： university\n",
      "############################################\n"
     ]
    },
    {
     "name": "stderr",
     "output_type": "stream",
     "text": [
      "\r",
      " 54%|███████████████████████████████████████████████████████                                               | 96/178 [10:50<09:19,  6.82s/it]"
     ]
    },
    {
     "name": "stdout",
     "output_type": "stream",
     "text": [
      "++++++++++++++++index:95++++++++++++++++++++++++\n",
      "正确表名： restaurant, geographic, location\n",
      "预测表名： geographic, location, restaurant\n",
      "############################################\n"
     ]
    },
    {
     "name": "stderr",
     "output_type": "stream",
     "text": [
      "\r",
      " 54%|███████████████████████████████████████████████████████▌                                              | 97/178 [10:57<09:12,  6.82s/it]"
     ]
    },
    {
     "name": "stdout",
     "output_type": "stream",
     "text": [
      "++++++++++++++++index:96++++++++++++++++++++++++\n",
      "正确表名： restaurant, location\n",
      "预测表名： location, restaurant\n",
      "############################################\n"
     ]
    },
    {
     "name": "stderr",
     "output_type": "stream",
     "text": [
      "\r",
      " 55%|████████████████████████████████████████████████████████▏                                             | 98/178 [11:04<09:04,  6.80s/it]"
     ]
    },
    {
     "name": "stdout",
     "output_type": "stream",
     "text": [
      "++++++++++++++++index:97++++++++++++++++++++++++\n",
      "正确表名： location, restaurant, geographic\n",
      "预测表名： location, restaurant\n",
      "############################################\n"
     ]
    },
    {
     "name": "stderr",
     "output_type": "stream",
     "text": [
      "\r",
      " 56%|████████████████████████████████████████████████████████▋                                             | 99/178 [11:11<08:58,  6.82s/it]"
     ]
    },
    {
     "name": "stdout",
     "output_type": "stream",
     "text": [
      "++++++++++++++++index:98++++++++++++++++++++++++\n",
      "正确表名： restaurant, location\n",
      "预测表名： location, restaurant\n",
      "############################################\n"
     ]
    },
    {
     "name": "stderr",
     "output_type": "stream",
     "text": [
      "\r",
      " 56%|████████████████████████████████████████████████████████▋                                            | 100/178 [11:18<08:53,  6.84s/it]"
     ]
    },
    {
     "name": "stdout",
     "output_type": "stream",
     "text": [
      "++++++++++++++++index:99++++++++++++++++++++++++\n",
      "正确表名： restaurant, location\n",
      "预测表名： location, restaurant\n",
      "############################################\n"
     ]
    },
    {
     "name": "stderr",
     "output_type": "stream",
     "text": [
      "\r",
      " 57%|█████████████████████████████████████████████████████████▎                                           | 101/178 [11:25<08:46,  6.84s/it]"
     ]
    },
    {
     "name": "stdout",
     "output_type": "stream",
     "text": [
      "++++++++++++++++index:100++++++++++++++++++++++++\n",
      "正确表名： restaurant, location\n",
      "预测表名： location, restaurant\n",
      "############################################\n"
     ]
    },
    {
     "name": "stderr",
     "output_type": "stream",
     "text": [
      "\r",
      " 57%|█████████████████████████████████████████████████████████▉                                           | 102/178 [11:31<08:40,  6.85s/it]"
     ]
    },
    {
     "name": "stdout",
     "output_type": "stream",
     "text": [
      "++++++++++++++++index:101++++++++++++++++++++++++\n",
      "正确表名： restaurant, location\n",
      "预测表名： location, restaurant\n",
      "############################################\n"
     ]
    },
    {
     "name": "stderr",
     "output_type": "stream",
     "text": [
      "\r",
      " 58%|██████████████████████████████████████████████████████████▍                                          | 103/178 [11:38<08:34,  6.87s/it]"
     ]
    },
    {
     "name": "stdout",
     "output_type": "stream",
     "text": [
      "++++++++++++++++index:102++++++++++++++++++++++++\n",
      "正确表名： restaurant, location\n",
      "预测表名： location, restaurant\n",
      "############################################\n"
     ]
    },
    {
     "name": "stderr",
     "output_type": "stream",
     "text": [
      "\r",
      " 58%|███████████████████████████████████████████████████████████                                          | 104/178 [11:45<08:29,  6.88s/it]"
     ]
    },
    {
     "name": "stdout",
     "output_type": "stream",
     "text": [
      "++++++++++++++++index:103++++++++++++++++++++++++\n",
      "正确表名： restaurant, location\n",
      "预测表名： location, restaurant\n",
      "############################################\n"
     ]
    },
    {
     "name": "stderr",
     "output_type": "stream",
     "text": [
      "\r",
      " 59%|███████████████████████████████████████████████████████████▌                                         | 105/178 [11:52<08:22,  6.88s/it]"
     ]
    },
    {
     "name": "stdout",
     "output_type": "stream",
     "text": [
      "++++++++++++++++index:104++++++++++++++++++++++++\n",
      "正确表名： restaurant, geographic, location\n",
      "预测表名： geographic, restaurant\n",
      "############################################\n"
     ]
    },
    {
     "name": "stderr",
     "output_type": "stream",
     "text": [
      "\r",
      " 60%|████████████████████████████████████████████████████████████▏                                        | 106/178 [11:59<08:16,  6.90s/it]"
     ]
    },
    {
     "name": "stdout",
     "output_type": "stream",
     "text": [
      "++++++++++++++++index:105++++++++++++++++++++++++\n",
      "正确表名： restaurant, geographic, location\n",
      "预测表名： None\n",
      "############################################\n"
     ]
    },
    {
     "name": "stderr",
     "output_type": "stream",
     "text": [
      "\r",
      " 60%|████████████████████████████████████████████████████████████▋                                        | 107/178 [12:06<08:08,  6.89s/it]"
     ]
    },
    {
     "name": "stdout",
     "output_type": "stream",
     "text": [
      "++++++++++++++++index:106++++++++++++++++++++++++\n",
      "正确表名： restaurant, location\n",
      "预测表名： location, restaurant\n",
      "############################################\n"
     ]
    },
    {
     "name": "stderr",
     "output_type": "stream",
     "text": [
      "\r",
      " 61%|█████████████████████████████████████████████████████████████▎                                       | 108/178 [12:13<07:59,  6.85s/it]"
     ]
    },
    {
     "name": "stdout",
     "output_type": "stream",
     "text": [
      "++++++++++++++++index:107++++++++++++++++++++++++\n",
      "正确表名： user_profiles\n",
      "预测表名： user_profiles\n",
      "############################################\n"
     ]
    },
    {
     "name": "stderr",
     "output_type": "stream",
     "text": [
      "\r",
      " 61%|█████████████████████████████████████████████████████████████▊                                       | 109/178 [12:19<07:50,  6.81s/it]"
     ]
    },
    {
     "name": "stdout",
     "output_type": "stream",
     "text": [
      "++++++++++++++++index:108++++++++++++++++++++++++\n",
      "正确表名： user_profiles\n",
      "预测表名： follows\n",
      "############################################\n"
     ]
    },
    {
     "name": "stderr",
     "output_type": "stream",
     "text": [
      "\r",
      " 62%|██████████████████████████████████████████████████████████████▍                                      | 110/178 [12:26<07:41,  6.79s/it]"
     ]
    },
    {
     "name": "stdout",
     "output_type": "stream",
     "text": [
      "++++++++++++++++index:109++++++++++++++++++++++++\n",
      "正确表名： weather\n",
      "预测表名： weather\n",
      "############################################\n"
     ]
    },
    {
     "name": "stderr",
     "output_type": "stream",
     "text": [
      "\r",
      " 62%|██████████████████████████████████████████████████████████████▉                                      | 111/178 [12:33<07:34,  6.78s/it]"
     ]
    },
    {
     "name": "stdout",
     "output_type": "stream",
     "text": [
      "++++++++++++++++index:110++++++++++++++++++++++++\n",
      "正确表名： weather, trip\n",
      "预测表名： trip\n",
      "############################################\n"
     ]
    },
    {
     "name": "stderr",
     "output_type": "stream",
     "text": [
      "\r",
      " 63%|███████████████████████████████████████████████████████████████▌                                     | 112/178 [12:40<07:29,  6.80s/it]"
     ]
    },
    {
     "name": "stdout",
     "output_type": "stream",
     "text": [
      "++++++++++++++++index:111++++++++++++++++++++++++\n",
      "正确表名： trip, weather\n",
      "预测表名： None\n",
      "############################################\n"
     ]
    },
    {
     "name": "stderr",
     "output_type": "stream",
     "text": [
      "\r",
      " 63%|████████████████████████████████████████████████████████████████                                     | 113/178 [12:47<07:20,  6.78s/it]"
     ]
    },
    {
     "name": "stdout",
     "output_type": "stream",
     "text": [
      "++++++++++++++++index:112++++++++++++++++++++++++\n",
      "正确表名： trip\n",
      "预测表名： trip\n",
      "############################################\n"
     ]
    },
    {
     "name": "stderr",
     "output_type": "stream",
     "text": [
      "\r",
      " 64%|████████████████████████████████████████████████████████████████▋                                    | 114/178 [12:53<07:15,  6.80s/it]"
     ]
    },
    {
     "name": "stdout",
     "output_type": "stream",
     "text": [
      "++++++++++++++++index:113++++++++++++++++++++++++\n",
      "正确表名： station, status\n",
      "预测表名： status, station\n",
      "############################################\n"
     ]
    },
    {
     "name": "stderr",
     "output_type": "stream",
     "text": [
      "\r",
      " 65%|█████████████████████████████████████████████████████████████████▎                                   | 115/178 [13:00<07:06,  6.77s/it]"
     ]
    },
    {
     "name": "stdout",
     "output_type": "stream",
     "text": [
      "++++++++++++++++index:114++++++++++++++++++++++++\n",
      "正确表名： trip\n",
      "预测表名： trip\n",
      "############################################\n"
     ]
    },
    {
     "name": "stderr",
     "output_type": "stream",
     "text": [
      "\r",
      " 65%|█████████████████████████████████████████████████████████████████▊                                   | 116/178 [13:07<06:58,  6.75s/it]"
     ]
    },
    {
     "name": "stdout",
     "output_type": "stream",
     "text": [
      "++++++++++++++++index:115++++++++++++++++++++++++\n",
      "正确表名： weather\n",
      "预测表名： weather\n",
      "############################################\n"
     ]
    },
    {
     "name": "stderr",
     "output_type": "stream",
     "text": [
      "\r",
      " 66%|██████████████████████████████████████████████████████████████████▍                                  | 117/178 [13:14<06:51,  6.75s/it]"
     ]
    },
    {
     "name": "stdout",
     "output_type": "stream",
     "text": [
      "++++++++++++++++index:116++++++++++++++++++++++++\n",
      "正确表名： station\n",
      "预测表名： station\n",
      "############################################\n"
     ]
    },
    {
     "name": "stderr",
     "output_type": "stream",
     "text": [
      "\r",
      " 66%|██████████████████████████████████████████████████████████████████▉                                  | 118/178 [13:20<06:44,  6.73s/it]"
     ]
    },
    {
     "name": "stdout",
     "output_type": "stream",
     "text": [
      "++++++++++++++++index:117++++++++++++++++++++++++\n",
      "正确表名： trip\n",
      "预测表名： trip\n",
      "############################################\n"
     ]
    },
    {
     "name": "stderr",
     "output_type": "stream",
     "text": [
      "\r",
      " 67%|███████████████████████████████████████████████████████████████████▌                                 | 119/178 [13:27<06:38,  6.76s/it]"
     ]
    },
    {
     "name": "stdout",
     "output_type": "stream",
     "text": [
      "++++++++++++++++index:118++++++++++++++++++++++++\n",
      "正确表名： trip\n",
      "预测表名： None\n",
      "############################################\n"
     ]
    },
    {
     "name": "stderr",
     "output_type": "stream",
     "text": [
      "\r",
      " 67%|████████████████████████████████████████████████████████████████████                                 | 120/178 [13:34<06:31,  6.75s/it]"
     ]
    },
    {
     "name": "stdout",
     "output_type": "stream",
     "text": [
      "++++++++++++++++index:119++++++++++++++++++++++++\n",
      "正确表名： campuses\n",
      "预测表名： campuses\n",
      "############################################\n"
     ]
    },
    {
     "name": "stderr",
     "output_type": "stream",
     "text": [
      "\r",
      " 68%|████████████████████████████████████████████████████████████████████▋                                | 121/178 [13:41<06:25,  6.76s/it]"
     ]
    },
    {
     "name": "stdout",
     "output_type": "stream",
     "text": [
      "++++++++++++++++index:120++++++++++++++++++++++++\n",
      "正确表名： campuses\n",
      "预测表名： campuses\n",
      "############################################\n"
     ]
    },
    {
     "name": "stderr",
     "output_type": "stream",
     "text": [
      "\r",
      " 69%|█████████████████████████████████████████████████████████████████████▏                               | 122/178 [13:47<06:18,  6.75s/it]"
     ]
    },
    {
     "name": "stdout",
     "output_type": "stream",
     "text": [
      "++++++++++++++++index:121++++++++++++++++++++++++\n",
      "正确表名： campuses\n",
      "预测表名： campuses\n",
      "############################################\n"
     ]
    },
    {
     "name": "stderr",
     "output_type": "stream",
     "text": [
      "\r",
      " 69%|█████████████████████████████████████████████████████████████████████▊                               | 123/178 [13:54<06:11,  6.76s/it]"
     ]
    },
    {
     "name": "stdout",
     "output_type": "stream",
     "text": [
      "++++++++++++++++index:122++++++++++++++++++++++++\n",
      "正确表名： campuses\n",
      "预测表名： campuses\n",
      "############################################\n"
     ]
    },
    {
     "name": "stderr",
     "output_type": "stream",
     "text": [
      "\r",
      " 70%|██████████████████████████████████████████████████████████████████████▎                              | 124/178 [14:01<06:06,  6.79s/it]"
     ]
    },
    {
     "name": "stdout",
     "output_type": "stream",
     "text": [
      "++++++++++++++++index:123++++++++++++++++++++++++\n",
      "正确表名： campuses, degrees\n",
      "预测表名： degrees, campuses\n",
      "############################################\n"
     ]
    },
    {
     "name": "stderr",
     "output_type": "stream",
     "text": [
      "\r",
      " 70%|██████████████████████████████████████████████████████████████████████▉                              | 125/178 [14:08<06:02,  6.84s/it]"
     ]
    },
    {
     "name": "stdout",
     "output_type": "stream",
     "text": [
      "++++++++++++++++index:124++++++++++++++++++++++++\n",
      "正确表名： faculty, campuses\n",
      "预测表名： faculty, campuses\n",
      "############################################\n"
     ]
    },
    {
     "name": "stderr",
     "output_type": "stream",
     "text": [
      "\r",
      " 71%|███████████████████████████████████████████████████████████████████████▍                             | 126/178 [14:15<05:53,  6.80s/it]"
     ]
    },
    {
     "name": "stdout",
     "output_type": "stream",
     "text": [
      "++++++++++++++++index:125++++++++++++++++++++++++\n",
      "正确表名： campuses\n",
      "预测表名： campuses\n",
      "############################################\n"
     ]
    },
    {
     "name": "stderr",
     "output_type": "stream",
     "text": [
      "\r",
      " 71%|████████████████████████████████████████████████████████████████████████                             | 127/178 [14:21<05:44,  6.76s/it]"
     ]
    },
    {
     "name": "stdout",
     "output_type": "stream",
     "text": [
      "++++++++++++++++index:126++++++++++++++++++++++++\n",
      "正确表名： journalist\n",
      "预测表名： journalist\n",
      "############################################\n"
     ]
    },
    {
     "name": "stderr",
     "output_type": "stream",
     "text": [
      "\r",
      " 72%|████████████████████████████████████████████████████████████████████████▋                            | 128/178 [14:28<05:38,  6.77s/it]"
     ]
    },
    {
     "name": "stdout",
     "output_type": "stream",
     "text": [
      "++++++++++++++++index:127++++++++++++++++++++++++\n",
      "正确表名： authors, authorship, papers\n",
      "预测表名： authorship, papers, authors\n",
      "############################################\n"
     ]
    },
    {
     "name": "stderr",
     "output_type": "stream",
     "text": [
      "\r",
      " 72%|█████████████████████████████████████████████████████████████████████████▏                           | 129/178 [14:35<05:32,  6.79s/it]"
     ]
    },
    {
     "name": "stdout",
     "output_type": "stream",
     "text": [
      "++++++++++++++++index:128++++++++++++++++++++++++\n",
      "正确表名： papers, authorship, inst\n",
      "预测表名： inst, authorship, campuses\n",
      "############################################\n"
     ]
    },
    {
     "name": "stderr",
     "output_type": "stream",
     "text": [
      "\r",
      " 73%|█████████████████████████████████████████████████████████████████████████▊                           | 130/178 [14:42<05:26,  6.80s/it]"
     ]
    },
    {
     "name": "stdout",
     "output_type": "stream",
     "text": [
      "++++++++++++++++index:129++++++++++++++++++++++++\n",
      "正确表名： inst, authorship, papers\n",
      "预测表名： authorship, papers, authors\n",
      "############################################\n"
     ]
    },
    {
     "name": "stderr",
     "output_type": "stream",
     "text": [
      "\r",
      " 74%|██████████████████████████████████████████████████████████████████████████▎                          | 131/178 [14:49<05:19,  6.80s/it]"
     ]
    },
    {
     "name": "stdout",
     "output_type": "stream",
     "text": [
      "++++++++++++++++index:130++++++++++++++++++++++++\n",
      "正确表名： authors, authorship, papers\n",
      "预测表名： authorship, papers, authors\n",
      "############################################\n"
     ]
    },
    {
     "name": "stderr",
     "output_type": "stream",
     "text": [
      "\r",
      " 74%|██████████████████████████████████████████████████████████████████████████▉                          | 132/178 [14:55<05:12,  6.80s/it]"
     ]
    },
    {
     "name": "stdout",
     "output_type": "stream",
     "text": [
      "++++++++++++++++index:131++++++++++++++++++++++++\n",
      "正确表名： inst, authorship, papers\n",
      "预测表名： authorship, program, authors\n",
      "############################################\n"
     ]
    },
    {
     "name": "stderr",
     "output_type": "stream",
     "text": [
      "\r",
      " 75%|███████████████████████████████████████████████████████████████████████████▍                         | 133/178 [15:02<05:05,  6.79s/it]"
     ]
    },
    {
     "name": "stdout",
     "output_type": "stream",
     "text": [
      "++++++++++++++++index:132++++++++++++++++++++++++\n",
      "正确表名： authors, authorship, papers\n",
      "预测表名： authorship, papers, authors\n",
      "############################################\n"
     ]
    },
    {
     "name": "stderr",
     "output_type": "stream",
     "text": [
      "\r",
      " 75%|████████████████████████████████████████████████████████████████████████████                         | 134/178 [15:09<04:58,  6.77s/it]"
     ]
    },
    {
     "name": "stdout",
     "output_type": "stream",
     "text": [
      "++++++++++++++++index:133++++++++++++++++++++++++\n",
      "正确表名： furniture\n",
      "预测表名： furniture\n",
      "############################################\n"
     ]
    },
    {
     "name": "stderr",
     "output_type": "stream",
     "text": [
      "\r",
      " 76%|████████████████████████████████████████████████████████████████████████████▌                        | 135/178 [15:16<04:52,  6.80s/it]"
     ]
    },
    {
     "name": "stdout",
     "output_type": "stream",
     "text": [
      "++++++++++++++++index:134++++++++++++++++++++++++\n",
      "正确表名： person, personFriend\n",
      "预测表名： personFriend, person\n",
      "############################################\n"
     ]
    },
    {
     "name": "stderr",
     "output_type": "stream",
     "text": [
      "\r",
      " 76%|█████████████████████████████████████████████████████████████████████████████▏                       | 136/178 [15:23<04:46,  6.82s/it]"
     ]
    },
    {
     "name": "stdout",
     "output_type": "stream",
     "text": [
      "++++++++++++++++index:135++++++++++++++++++++++++\n",
      "正确表名： person, personfriend\n",
      "预测表名： personfriend, person\n",
      "############################################\n"
     ]
    },
    {
     "name": "stderr",
     "output_type": "stream",
     "text": [
      "\r",
      " 77%|█████████████████████████████████████████████████████████████████████████████▋                       | 137/178 [15:30<04:41,  6.86s/it]"
     ]
    },
    {
     "name": "stdout",
     "output_type": "stream",
     "text": [
      "++++++++++++++++index:136++++++++++++++++++++++++\n",
      "正确表名： person, personFriend\n",
      "预测表名： None\n",
      "############################################\n"
     ]
    },
    {
     "name": "stderr",
     "output_type": "stream",
     "text": [
      "\r",
      " 78%|██████████████████████████████████████████████████████████████████████████████▎                      | 138/178 [15:36<04:34,  6.86s/it]"
     ]
    },
    {
     "name": "stdout",
     "output_type": "stream",
     "text": [
      "++++++++++++++++index:137++++++++++++++++++++++++\n",
      "正确表名： person\n",
      "预测表名： None\n",
      "############################################\n"
     ]
    },
    {
     "name": "stderr",
     "output_type": "stream",
     "text": [
      "\r",
      " 78%|██████████████████████████████████████████████████████████████████████████████▊                      | 139/178 [15:43<04:26,  6.82s/it]"
     ]
    },
    {
     "name": "stdout",
     "output_type": "stream",
     "text": [
      "++++++++++++++++index:138++++++++++++++++++++++++\n",
      "正确表名： person\n",
      "预测表名： person\n",
      "############################################\n"
     ]
    },
    {
     "name": "stderr",
     "output_type": "stream",
     "text": [
      "\r",
      " 79%|███████████████████████████████████████████████████████████████████████████████▍                     | 140/178 [15:50<04:18,  6.81s/it]"
     ]
    },
    {
     "name": "stdout",
     "output_type": "stream",
     "text": [
      "++++++++++++++++index:139++++++++++++++++++++++++\n",
      "正确表名： person\n",
      "预测表名： person\n",
      "############################################\n"
     ]
    },
    {
     "name": "stderr",
     "output_type": "stream",
     "text": [
      "\r",
      " 79%|████████████████████████████████████████████████████████████████████████████████                     | 141/178 [15:57<04:12,  6.83s/it]"
     ]
    },
    {
     "name": "stdout",
     "output_type": "stream",
     "text": [
      "++++++++++++++++index:140++++++++++++++++++++++++\n",
      "正确表名： personfriend, person\n",
      "预测表名： personFriend, person\n",
      "############################################\n"
     ]
    },
    {
     "name": "stderr",
     "output_type": "stream",
     "text": [
      "\r",
      " 80%|████████████████████████████████████████████████████████████████████████████████▌                    | 142/178 [16:03<04:04,  6.80s/it]"
     ]
    },
    {
     "name": "stdout",
     "output_type": "stream",
     "text": [
      "++++++++++++++++index:141++++++++++++++++++++++++\n",
      "正确表名： person\n",
      "预测表名： physician\n",
      "############################################\n"
     ]
    },
    {
     "name": "stderr",
     "output_type": "stream",
     "text": [
      "\r",
      " 80%|█████████████████████████████████████████████████████████████████████████████████▏                   | 143/178 [16:10<03:57,  6.78s/it]"
     ]
    },
    {
     "name": "stdout",
     "output_type": "stream",
     "text": [
      "++++++++++++++++index:142++++++++++++++++++++++++\n",
      "正确表名： enzyme\n",
      "预测表名： enzyme\n",
      "############################################\n"
     ]
    },
    {
     "name": "stderr",
     "output_type": "stream",
     "text": [
      "\r",
      " 81%|█████████████████████████████████████████████████████████████████████████████████▋                   | 144/178 [16:17<03:50,  6.77s/it]"
     ]
    },
    {
     "name": "stdout",
     "output_type": "stream",
     "text": [
      "++++++++++++++++index:143++++++++++++++++++++++++\n",
      "正确表名： enzyme\n",
      "预测表名： enzyme\n",
      "############################################\n"
     ]
    },
    {
     "name": "stderr",
     "output_type": "stream",
     "text": [
      "\r",
      " 81%|██████████████████████████████████████████████████████████████████████████████████▎                  | 145/178 [16:24<03:42,  6.75s/it]"
     ]
    },
    {
     "name": "stdout",
     "output_type": "stream",
     "text": [
      "++++++++++++++++index:144++++++++++++++++++++++++\n",
      "正确表名： enzyme\n",
      "预测表名： enzyme\n",
      "############################################\n"
     ]
    },
    {
     "name": "stderr",
     "output_type": "stream",
     "text": [
      "\r",
      " 82%|██████████████████████████████████████████████████████████████████████████████████▊                  | 146/178 [16:31<03:37,  6.80s/it]"
     ]
    },
    {
     "name": "stdout",
     "output_type": "stream",
     "text": [
      "++++++++++++++++index:145++++++++++++++++++++++++\n",
      "正确表名： medicine, medicine_enzyme_interaction\n",
      "预测表名： medicine_enzyme_interaction\n",
      "############################################\n"
     ]
    },
    {
     "name": "stderr",
     "output_type": "stream",
     "text": [
      "\r",
      " 83%|███████████████████████████████████████████████████████████████████████████████████▍                 | 147/178 [16:38<03:31,  6.84s/it]"
     ]
    },
    {
     "name": "stdout",
     "output_type": "stream",
     "text": [
      "++++++++++++++++index:146++++++++++++++++++++++++\n",
      "正确表名： apartment_bookings, apartments\n",
      "预测表名： apartments, apartment_bookings\n",
      "############################################\n"
     ]
    },
    {
     "name": "stderr",
     "output_type": "stream",
     "text": [
      "\r",
      " 83%|███████████████████████████████████████████████████████████████████████████████████▉                 | 148/178 [16:44<03:25,  6.84s/it]"
     ]
    },
    {
     "name": "stdout",
     "output_type": "stream",
     "text": [
      "++++++++++++++++index:147++++++++++++++++++++++++\n",
      "正确表名： apartment_bookings, guests\n",
      "预测表名： apartment_bookings\n",
      "############################################\n"
     ]
    },
    {
     "name": "stderr",
     "output_type": "stream",
     "text": [
      "\r",
      " 84%|████████████████████████████████████████████████████████████████████████████████████▌                | 149/178 [16:51<03:17,  6.80s/it]"
     ]
    },
    {
     "name": "stdout",
     "output_type": "stream",
     "text": [
      "++++++++++++++++index:148++++++++++++++++++++++++\n",
      "正确表名： apartment_buildings, apartments\n",
      "预测表名： apartments\n",
      "############################################\n"
     ]
    },
    {
     "name": "stderr",
     "output_type": "stream",
     "text": [
      "\r",
      " 84%|█████████████████████████████████████████████████████████████████████████████████████                | 150/178 [16:58<03:10,  6.80s/it]"
     ]
    },
    {
     "name": "stdout",
     "output_type": "stream",
     "text": [
      "++++++++++++++++index:149++++++++++++++++++++++++\n",
      "正确表名： apartment_bookings, guests\n",
      "预测表名： None\n",
      "############################################\n"
     ]
    },
    {
     "name": "stderr",
     "output_type": "stream",
     "text": [
      "\r",
      " 85%|█████████████████████████████████████████████████████████████████████████████████████▋               | 151/178 [17:05<03:03,  6.78s/it]"
     ]
    },
    {
     "name": "stdout",
     "output_type": "stream",
     "text": [
      "++++++++++++++++index:150++++++++++++++++++++++++\n",
      "正确表名： apartment_facilities, apartments\n",
      "预测表名： apartments\n",
      "############################################\n"
     ]
    },
    {
     "name": "stderr",
     "output_type": "stream",
     "text": [
      "\r",
      " 85%|██████████████████████████████████████████████████████████████████████████████████████▏              | 152/178 [17:11<02:56,  6.80s/it]"
     ]
    },
    {
     "name": "stdout",
     "output_type": "stream",
     "text": [
      "++++++++++++++++index:151++++++++++++++++++++++++\n",
      "正确表名： apartments\n",
      "预测表名： None\n",
      "############################################\n"
     ]
    },
    {
     "name": "stderr",
     "output_type": "stream",
     "text": [
      "\r",
      " 86%|██████████████████████████████████████████████████████████████████████████████████████▊              | 153/178 [17:18<02:49,  6.79s/it]"
     ]
    },
    {
     "name": "stdout",
     "output_type": "stream",
     "text": [
      "++++++++++++++++index:152++++++++++++++++++++++++\n",
      "正确表名： apartments\n",
      "预测表名： apartments\n",
      "############################################\n"
     ]
    },
    {
     "name": "stderr",
     "output_type": "stream",
     "text": [
      "\r",
      " 87%|███████████████████████████████████████████████████████████████████████████████████████▍             | 154/178 [17:25<02:43,  6.81s/it]"
     ]
    },
    {
     "name": "stdout",
     "output_type": "stream",
     "text": [
      "++++++++++++++++index:153++++++++++++++++++++++++\n",
      "正确表名： apartment_buildings\n",
      "预测表名： apartment_buildings\n",
      "############################################\n"
     ]
    },
    {
     "name": "stderr",
     "output_type": "stream",
     "text": [
      "\r",
      " 87%|███████████████████████████████████████████████████████████████████████████████████████▉             | 155/178 [17:32<02:37,  6.84s/it]"
     ]
    },
    {
     "name": "stdout",
     "output_type": "stream",
     "text": [
      "++++++++++++++++index:154++++++++++++++++++++++++\n",
      "正确表名： program\n",
      "预测表名： None\n",
      "############################################\n"
     ]
    },
    {
     "name": "stderr",
     "output_type": "stream",
     "text": [
      "\r",
      " 88%|████████████████████████████████████████████████████████████████████████████████████████▌            | 156/178 [17:39<02:29,  6.81s/it]"
     ]
    },
    {
     "name": "stdout",
     "output_type": "stream",
     "text": [
      "++++++++++++++++index:155++++++++++++++++++++++++\n",
      "正确表名： program, broadcast\n",
      "预测表名： program\n",
      "############################################\n"
     ]
    },
    {
     "name": "stderr",
     "output_type": "stream",
     "text": [
      "\r",
      " 88%|█████████████████████████████████████████████████████████████████████████████████████████            | 157/178 [17:45<02:22,  6.79s/it]"
     ]
    },
    {
     "name": "stdout",
     "output_type": "stream",
     "text": [
      "++++++++++++++++index:156++++++++++++++++++++++++\n",
      "正确表名： channel\n",
      "预测表名： channel\n",
      "############################################\n"
     ]
    },
    {
     "name": "stderr",
     "output_type": "stream",
     "text": [
      "\r",
      " 89%|█████████████████████████████████████████████████████████████████████████████████████████▋           | 158/178 [17:52<02:16,  6.81s/it]"
     ]
    },
    {
     "name": "stdout",
     "output_type": "stream",
     "text": [
      "++++++++++++++++index:157++++++++++++++++++++++++\n",
      "正确表名： channel\n",
      "预测表名： None\n",
      "############################################\n"
     ]
    },
    {
     "name": "stderr",
     "output_type": "stream",
     "text": [
      "\r",
      " 89%|██████████████████████████████████████████████████████████████████████████████████████████▏          | 159/178 [17:59<02:11,  6.91s/it]"
     ]
    },
    {
     "name": "stdout",
     "output_type": "stream",
     "text": [
      "++++++++++++++++index:158++++++++++++++++++++++++\n",
      "正确表名： customer_master_index\n",
      "预测表名： cmi_cross_references, customer_master_index\n",
      "############################################\n"
     ]
    },
    {
     "name": "stderr",
     "output_type": "stream",
     "text": [
      "\r",
      " 90%|██████████████████████████████████████████████████████████████████████████████████████████▊          | 160/178 [18:06<02:04,  6.90s/it]"
     ]
    },
    {
     "name": "stdout",
     "output_type": "stream",
     "text": [
      "++++++++++++++++index:159++++++++++++++++++++++++\n",
      "正确表名： district\n",
      "预测表名： None\n",
      "############################################\n"
     ]
    },
    {
     "name": "stderr",
     "output_type": "stream",
     "text": [
      "\r",
      " 90%|███████████████████████████████████████████████████████████████████████████████████████████▎         | 161/178 [18:13<01:55,  6.81s/it]"
     ]
    },
    {
     "name": "stdout",
     "output_type": "stream",
     "text": [
      "++++++++++++++++index:160++++++++++++++++++++++++\n",
      "正确表名： district\n",
      "预测表名： district\n",
      "############################################\n"
     ]
    },
    {
     "name": "stderr",
     "output_type": "stream",
     "text": [
      "\r",
      " 91%|███████████████████████████████████████████████████████████████████████████████████████████▉         | 162/178 [18:20<01:48,  6.80s/it]"
     ]
    },
    {
     "name": "stdout",
     "output_type": "stream",
     "text": [
      "++++++++++++++++index:161++++++++++++++++++++++++\n",
      "正确表名： district\n",
      "预测表名： district\n",
      "############################################\n"
     ]
    },
    {
     "name": "stderr",
     "output_type": "stream",
     "text": [
      "\r",
      " 92%|████████████████████████████████████████████████████████████████████████████████████████████▍        | 163/178 [18:26<01:41,  6.77s/it]"
     ]
    },
    {
     "name": "stdout",
     "output_type": "stream",
     "text": [
      "++++++++++++++++index:162++++++++++++++++++++++++\n",
      "正确表名： district\n",
      "预测表名： district\n",
      "############################################\n"
     ]
    },
    {
     "name": "stderr",
     "output_type": "stream",
     "text": [
      "\r",
      " 92%|█████████████████████████████████████████████████████████████████████████████████████████████        | 164/178 [18:33<01:34,  6.78s/it]"
     ]
    },
    {
     "name": "stdout",
     "output_type": "stream",
     "text": [
      "++++++++++++++++index:163++++++++++++++++++++++++\n",
      "正确表名： gas_station\n",
      "预测表名： station_company\n",
      "############################################\n"
     ]
    },
    {
     "name": "stderr",
     "output_type": "stream",
     "text": [
      "\r",
      " 93%|█████████████████████████████████████████████████████████████████████████████████████████████▌       | 165/178 [18:40<01:27,  6.77s/it]"
     ]
    },
    {
     "name": "stdout",
     "output_type": "stream",
     "text": [
      "++++++++++++++++index:164++++++++++++++++++++++++\n",
      "正确表名： company\n",
      "预测表名： companies\n",
      "############################################\n"
     ]
    },
    {
     "name": "stderr",
     "output_type": "stream",
     "text": [
      "\r",
      " 93%|██████████████████████████████████████████████████████████████████████████████████████████████▏      | 166/178 [18:47<01:21,  6.76s/it]"
     ]
    },
    {
     "name": "stdout",
     "output_type": "stream",
     "text": [
      "++++++++++++++++index:165++++++++++++++++++++++++\n",
      "正确表名： company\n",
      "预测表名： company\n",
      "############################################\n"
     ]
    },
    {
     "name": "stderr",
     "output_type": "stream",
     "text": [
      "\r",
      " 94%|██████████████████████████████████████████████████████████████████████████████████████████████▊      | 167/178 [18:54<01:14,  6.80s/it]"
     ]
    },
    {
     "name": "stdout",
     "output_type": "stream",
     "text": [
      "++++++++++++++++index:166++++++++++++++++++++++++\n",
      "正确表名： station_company, company, gas_station\n",
      "预测表名： station_company, gas_station\n",
      "############################################\n"
     ]
    },
    {
     "name": "stderr",
     "output_type": "stream",
     "text": [
      "\r",
      " 94%|███████████████████████████████████████████████████████████████████████████████████████████████▎     | 168/178 [19:00<01:07,  6.79s/it]"
     ]
    },
    {
     "name": "stdout",
     "output_type": "stream",
     "text": [
      "++++++++++++++++index:167++++++++++++++++++++++++\n",
      "正确表名： festival_detail\n",
      "预测表名： festival_detail\n",
      "############################################\n"
     ]
    },
    {
     "name": "stderr",
     "output_type": "stream",
     "text": [
      "\r",
      " 95%|███████████████████████████████████████████████████████████████████████████████████████████████▉     | 169/178 [19:07<01:01,  6.81s/it]"
     ]
    },
    {
     "name": "stdout",
     "output_type": "stream",
     "text": [
      "++++++++++++++++index:168++++++++++++++++++++++++\n",
      "正确表名： festival_detail\n",
      "预测表名： festival_detail\n",
      "############################################\n"
     ]
    },
    {
     "name": "stderr",
     "output_type": "stream",
     "text": [
      "\r",
      " 96%|████████████████████████████████████████████████████████████████████████████████████████████████▍    | 170/178 [19:14<00:54,  6.84s/it]"
     ]
    },
    {
     "name": "stdout",
     "output_type": "stream",
     "text": [
      "++++++++++++++++index:169++++++++++++++++++++++++\n",
      "正确表名： building, institution\n",
      "预测表名： None\n",
      "############################################\n"
     ]
    },
    {
     "name": "stderr",
     "output_type": "stream",
     "text": [
      "\r",
      " 96%|█████████████████████████████████████████████████████████████████████████████████████████████████    | 171/178 [19:21<00:47,  6.84s/it]"
     ]
    },
    {
     "name": "stdout",
     "output_type": "stream",
     "text": [
      "++++++++++++++++index:170++++++++++++++++++++++++\n",
      "正确表名： building, institution\n",
      "预测表名： None\n",
      "############################################\n"
     ]
    },
    {
     "name": "stderr",
     "output_type": "stream",
     "text": [
      "\r",
      " 97%|█████████████████████████████████████████████████████████████████████████████████████████████████▌   | 172/178 [19:28<00:40,  6.83s/it]"
     ]
    },
    {
     "name": "stdout",
     "output_type": "stream",
     "text": [
      "++++++++++++++++index:171++++++++++++++++++++++++\n",
      "正确表名： roller_coaster\n",
      "预测表名： roller_coaster\n",
      "############################################\n"
     ]
    },
    {
     "name": "stderr",
     "output_type": "stream",
     "text": [
      "\r",
      " 97%|██████████████████████████████████████████████████████████████████████████████████████████████████▏  | 173/178 [19:34<00:33,  6.80s/it]"
     ]
    },
    {
     "name": "stdout",
     "output_type": "stream",
     "text": [
      "++++++++++++++++index:172++++++++++++++++++++++++\n",
      "正确表名： participants\n",
      "预测表名： participants\n",
      "############################################\n"
     ]
    },
    {
     "name": "stderr",
     "output_type": "stream",
     "text": [
      "\r",
      " 98%|██████████████████████████████████████████████████████████████████████████████████████████████████▋  | 174/178 [19:41<00:27,  6.78s/it]"
     ]
    },
    {
     "name": "stdout",
     "output_type": "stream",
     "text": [
      "++++++++++++++++index:173++++++++++++++++++++++++\n",
      "正确表名： mill\n",
      "预测表名： mill\n",
      "############################################\n"
     ]
    },
    {
     "name": "stderr",
     "output_type": "stream",
     "text": [
      "\r",
      " 98%|███████████████████████████████████████████████████████████████████████████████████████████████████▎ | 175/178 [19:48<00:20,  6.79s/it]"
     ]
    },
    {
     "name": "stdout",
     "output_type": "stream",
     "text": [
      "++++++++++++++++index:174++++++++++++++++++++++++\n",
      "正确表名： railway\n",
      "预测表名： railway\n",
      "############################################\n"
     ]
    },
    {
     "name": "stderr",
     "output_type": "stream",
     "text": [
      "\r",
      " 99%|███████████████████████████████████████████████████████████████████████████████████████████████████▊ | 176/178 [19:55<00:13,  6.76s/it]"
     ]
    },
    {
     "name": "stdout",
     "output_type": "stream",
     "text": [
      "++++++++++++++++index:175++++++++++++++++++++++++\n",
      "正确表名： railway\n",
      "预测表名： railway\n",
      "############################################\n"
     ]
    },
    {
     "name": "stderr",
     "output_type": "stream",
     "text": [
      "\r",
      " 99%|████████████████████████████████████████████████████████████████████████████████████████████████████▍| 177/178 [20:01<00:06,  6.76s/it]"
     ]
    },
    {
     "name": "stdout",
     "output_type": "stream",
     "text": [
      "++++++++++++++++index:176++++++++++++++++++++++++\n",
      "正确表名： book\n",
      "预测表名： book\n",
      "############################################\n"
     ]
    },
    {
     "name": "stderr",
     "output_type": "stream",
     "text": [
      "100%|█████████████████████████████████████████████████████████████████████████████████████████████████████| 178/178 [20:08<00:00,  6.79s/it]"
     ]
    },
    {
     "name": "stdout",
     "output_type": "stream",
     "text": [
      "++++++++++++++++index:177++++++++++++++++++++++++\n",
      "正确表名： book, publication\n",
      "预测表名： book\n",
      "############################################\n",
      "4\n"
     ]
    },
    {
     "name": "stderr",
     "output_type": "stream",
     "text": [
      "\n"
     ]
    }
   ],
   "source": [
    "df = pd.read_csv(\"./dataset2/validation_dataset_formatted_cropped.csv\",encoding=\"utf-8\")\n",
    "outer_index = 0\n",
    "import re\n",
    "import time\n",
    "pattern = re.compile(r'-- Tables: ([\\w, ]+);')\n",
    "results = []\n",
    "#  schema_slicing\n",
    "start_time = time.time()\n",
    "for index, row in tqdm(df.iterrows(), total=len(df)):\n",
    "    question = row['question']\n",
    "    ref_tables = row['correct_tables']\n",
    "    selected_table_set = set()\n",
    "    result_count = 0\n",
    "    for schema in schema_slicing:\n",
    "        result_count += 1\n",
    "        if len(selected_table_set) > 0:\n",
    "            selected_table =  ', '.join(list(selected_table_set))\n",
    "        else:\n",
    "            selected_table = \"None\"\n",
    "        instruction = get_instruction(schema)\n",
    "        input_value = get_input_value(question,selected_table)\n",
    "        messages = [\n",
    "        {\"role\": \"system\", \"content\": f\"{instruction}\"},\n",
    "        {\"role\": \"user\", \"content\": f\"{input_value}\"}]\n",
    "        response = predict(messages, model, tokenizer)\n",
    "        if \"#None#\" not in response:\n",
    "            match = re.search(pattern, response)\n",
    "            if match:\n",
    "            # 提取匹配的表名字符串\n",
    "                table_names_str = match.group(1)\n",
    "\n",
    "                # 使用中文逗号分隔表名，这里我们替换中文逗号为英文逗号并去除空格\n",
    "        #         table_names = [name.strip() for name in table_names_str.replace('，', ',').split(',')]\n",
    "                table_names = table_names_str.split(', ')\n",
    "                # 将table_names整合成一个由英文逗号分隔的字符串\n",
    "#                 predict_table = ', '.join(table_names)\n",
    "#                 \n",
    "#                 print(\"预测表名：\", predict_table)\n",
    "#                 print(\"############################################\")\n",
    "                for predict_table in table_names:\n",
    "                    selected_table_set.add(predict_table)\n",
    "#                 if result_count == 7 or result_count == 8:\n",
    "#                     print(\"^^^^^^^^^^^^^^^^^^^^^final_select_:\",predict_table)\n",
    "            else:\n",
    "                predict_table = \"None\"\n",
    "#                 selected_table_list.append(predict_table)\n",
    "    if len(selected_table_set) > 0:\n",
    "        total_selected_table =  ', '.join(list(selected_table_set))\n",
    "    else:\n",
    "        total_selected_table = \"None\"\n",
    "    print(f\"++++++++++++++++index:{index}++++++++++++++++++++++++\")\n",
    "    print(\"正确表名：\",ref_tables)\n",
    "    print(\"预测表名：\",total_selected_table)\n",
    "    print(\"############################################\")\n",
    "    results.append([ref_tables,total_selected_table])\n",
    "end_time = time.time()\n",
    "print(len(predict_table))"
   ]
  },
  {
   "cell_type": "code",
   "execution_count": 10,
   "id": "5ae1fb2c",
   "metadata": {},
   "outputs": [],
   "source": [
    "new_df = pd.DataFrame(results, columns = ['reference_tables','predicted_tables'])"
   ]
  },
  {
   "cell_type": "code",
   "execution_count": 11,
   "id": "dc4df2ae",
   "metadata": {},
   "outputs": [
    {
     "name": "stdout",
     "output_type": "stream",
     "text": [
      "            reference_tables predicted_tables\n",
      "0    products, manufacturers             None\n",
      "1                   products         products\n",
      "2              manufacturers    manufacturers\n",
      "3              manufacturers             None\n",
      "4              manufacturers    manufacturers\n",
      "..                       ...              ...\n",
      "173                     mill             mill\n",
      "174                  railway          railway\n",
      "175                  railway          railway\n",
      "176                     book             book\n",
      "177        book, publication             book\n",
      "\n",
      "[178 rows x 2 columns]\n"
     ]
    }
   ],
   "source": [
    "print(new_df)"
   ]
  },
  {
   "cell_type": "code",
   "execution_count": 12,
   "id": "21332fd3",
   "metadata": {},
   "outputs": [
    {
     "name": "stdout",
     "output_type": "stream",
     "text": [
      "6.790507309892204\n"
     ]
    }
   ],
   "source": [
    "total_data = len(df['question'])\n",
    "total_time = end_time - start_time\n",
    "# print(total_data)\n",
    "signal_infernece_time = total_time/total_data\n",
    "print(signal_infernece_time)"
   ]
  },
  {
   "cell_type": "code",
   "execution_count": 13,
   "id": "7def6952",
   "metadata": {},
   "outputs": [
    {
     "name": "stdout",
     "output_type": "stream",
     "text": [
      "Total Accuracy: 0.6235955056179775\n",
      "Filtered Accuracy: 0.6348314606741573\n",
      "Average Precision: 0.801498127340824\n",
      "Average Recall: 0.7317415730337079\n"
     ]
    }
   ],
   "source": [
    "total_samples = len(new_df)\n",
    "total_accuracy = 0\n",
    "filtered_accuracy = 0\n",
    "total_precision = 0\n",
    "total_recall = 0\n",
    "count = 0\n",
    "for index, row in new_df.iterrows():\n",
    "#     count+=1\n",
    "#     print(\"index:\",count)\n",
    "    if not row['predicted_tables'] or pd.isna(row['predicted_tables']):\n",
    "        continue\n",
    "    predicted_tables = row['predicted_tables'].split(\",\")\n",
    "    reference_tables = row['reference_tables'].split(\",\")\n",
    "    \n",
    "    # Convert to lowercase and strip whitespace for comparison\n",
    "    predicted_tables = [x.lower().replace(\"--\",\"\").replace(\"**\",\"\").strip() for x in predicted_tables]\n",
    "    reference_tables = [x.lower().strip() for x in reference_tables]\n",
    "    \n",
    "    # Calculate accuracy\n",
    "    if set(predicted_tables) == set(reference_tables):\n",
    "        total_accuracy += 1\n",
    "\n",
    "    # Calculate precision and recall\n",
    "    true_positives = len(set(predicted_tables) & set(reference_tables))\n",
    "    false_positives = len(set(predicted_tables) - set(reference_tables))\n",
    "    false_negatives = len(set(reference_tables) - set(predicted_tables))\n",
    "\n",
    "    if true_positives == len(reference_tables):\n",
    "        filtered_accuracy += 1\n",
    "    \n",
    "    if len(predicted_tables) > 0:\n",
    "        precision = true_positives / (true_positives + false_positives)\n",
    "        recall = true_positives / (true_positives + false_negatives)\n",
    "    \n",
    "    total_precision += precision\n",
    "    total_recall += recall\n",
    "\n",
    "# Calculate average precision and recall\n",
    "avg_precision = total_precision / total_samples\n",
    "avg_recall = total_recall / total_samples\n",
    "\n",
    "# Calculate total accuracya\n",
    "accuracy = total_accuracy / total_samples\n",
    "filtered_accuracy = filtered_accuracy / total_samples\n",
    "\n",
    "print(\"Total Accuracy:\", accuracy)\n",
    "print(\"Filtered Accuracy:\", filtered_accuracy)\n",
    "print(\"Average Precision:\", avg_precision)\n",
    "print(\"Average Recall:\", avg_recall)"
   ]
  },
  {
   "cell_type": "code",
   "execution_count": 14,
   "id": "faac209d",
   "metadata": {},
   "outputs": [],
   "source": [
    "new_df.to_csv('pre_table.csv',index=False,encoding='utf-8')"
   ]
  }
 ],
 "metadata": {
  "kernelspec": {
   "display_name": "schema-R1",
   "language": "python",
   "name": "schema-r1"
  },
  "language_info": {
   "codemirror_mode": {
    "name": "ipython",
    "version": 3
   },
   "file_extension": ".py",
   "mimetype": "text/x-python",
   "name": "python",
   "nbconvert_exporter": "python",
   "pygments_lexer": "ipython3",
   "version": "3.11.13"
  }
 },
 "nbformat": 4,
 "nbformat_minor": 5
}
