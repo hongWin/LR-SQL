{
 "cells": [
  {
   "cell_type": "code",
   "execution_count": 1,
   "id": "966748e8",
   "metadata": {},
   "outputs": [
    {
     "name": "stderr",
     "output_type": "stream",
     "text": [
      "/home/vipuser/anaconda3/envs/GLM4/lib/python3.10/site-packages/tqdm/auto.py:21: TqdmWarning: IProgress not found. Please update jupyter and ipywidgets. See https://ipywidgets.readthedocs.io/en/stable/user_install.html\n",
      "  from .autonotebook import tqdm as notebook_tqdm\n"
     ]
    }
   ],
   "source": [
    "import os\n",
    "\n",
    "# os.environ[\"WANDB_API_KEY\"] = '+++++++++++'  # 将引号内的+替换成自己在wandb上的一串值\n",
    "# os.environ[\"WANDB_MODE\"] = \"offline\"  # 离线  （此行代码不用修改）\n",
    "\n",
    "import json\n",
    "\n",
    "import pandas as pd\n",
    "import torch\n",
    "from datasets import Dataset\n",
    "from peft import LoraConfig, TaskType, get_peft_model\n",
    "from transformers import AutoTokenizer, AutoModelForCausalLM, TrainingArguments\n",
    "from swanlab.integration.huggingface import SwanLabCallback\n",
    "from transformers import DataCollatorForSeq2Seq, Trainer\n",
    "import os"
   ]
  },
  {
   "cell_type": "code",
   "execution_count": 2,
   "id": "f6da362b",
   "metadata": {},
   "outputs": [],
   "source": [
    "glm4_model_path = '/home/LLM_para/para_glm4'\n",
    "device = torch.device(\"cuda\" if torch.cuda.is_available() else \"cpu\")"
   ]
  },
  {
   "cell_type": "code",
   "execution_count": 3,
   "id": "003007a0",
   "metadata": {},
   "outputs": [
    {
     "name": "stderr",
     "output_type": "stream",
     "text": [
      "Special tokens have been added in the vocabulary, make sure the associated word embeddings are fine-tuned or trained.\n",
      "Loading checkpoint shards: 100%|████████████████████████████████████████████████████████| 10/10 [00:06<00:00,  1.48it/s]\n"
     ]
    }
   ],
   "source": [
    "# 加载训练集和测试集\n",
    "tokenizer = AutoTokenizer.from_pretrained(glm4_model_path, use_fast=False,\n",
    "                                          trust_remote_code=True)\n",
    "model = AutoModelForCausalLM.from_pretrained(glm4_model_path,\n",
    "                                             #quantization_config=bnb_config,\n",
    "                                             device_map=\"auto\", torch_dtype=torch.bfloat16,\n",
    "#                                              attn_implementation=\"flash_attention_2\",\n",
    "                                             trust_remote_code=True)\n",
    "model.config.use_cache = False"
   ]
  },
  {
   "cell_type": "code",
   "execution_count": 4,
   "id": "a174cf95",
   "metadata": {},
   "outputs": [
    {
     "name": "stdout",
     "output_type": "stream",
     "text": [
      "<|endoftext|>\n"
     ]
    },
    {
     "data": {
      "text/plain": [
       "[151331, 151333, 151329]"
      ]
     },
     "execution_count": 4,
     "metadata": {},
     "output_type": "execute_result"
    }
   ],
   "source": [
    "model.enable_input_require_grads()  #  开启梯度检查点\n",
    "tokenizer.pad_token = tokenizer.eos_token\n",
    "tokenizer.pad_token_id = tokenizer.eos_token_id\n",
    "#结束标识符\n",
    "print(tokenizer.eos_token)\n",
    "tokenizer.encode('<|endoftext|>')"
   ]
  },
  {
   "cell_type": "code",
   "execution_count": 5,
   "id": "b1e2015f",
   "metadata": {},
   "outputs": [
    {
     "name": "stdout",
     "output_type": "stream",
     "text": [
      "<|system|>\n",
      "  I want you to act as a SQL terminal in front of an example database, you need only to return the sql command to me.Below is an instruction that describes a task, Write a response that appropriately completes the request. \n",
      "##instruction:CREATE TABLE `Manufacturers` (\n",
      "  Code INTEGER,\n",
      "  Name VARCHAR(255),\n",
      "  Headquarter VARCHAR(255),\n",
      "  Founder VARCHAR(255),\n",
      "  Revenue REAL\n",
      ");\n",
      "\n",
      ".<|endoftext|>\n",
      "<|user|>\n",
      "Find the total revenue of companies of each founder.<|endoftext|>\n",
      "<|assistant|>\n",
      "\n",
      "max_len: 407\n"
     ]
    }
   ],
   "source": [
    "#获取最大toekn数\n",
    "train_path = \"./mydataset2_SQL/T2Q_GLM4_SFT_train_sql.jsonl\"\n",
    "max_len = 0\n",
    "count = 0\n",
    "with open(train_path, \"r\") as file:\n",
    "        for line in file:\n",
    "            count+=1\n",
    "            # 解析每一行的json数据\n",
    "            example = json.loads(line)\n",
    "            if count == 1:\n",
    "                print(f\"<|system|>\\n {example['instruction']}.<|endoftext|>\\n<|user|>\\n{example['input']}<|endoftext|>\\n<|assistant|>\\n\")\n",
    "            instruction = tokenizer(\n",
    "        f\"<|system|>\\n {example['instruction']}.<|endoftext|>\\n<|user|>\\n{example['input']}<|endoftext|>\\n<|assistant|>\\n\",\n",
    "        add_special_tokens=False, )\n",
    "            response = tokenizer(f\"{example['output']}\", add_special_tokens=False)\n",
    "            input_ids = instruction[\"input_ids\"] + response[\"input_ids\"] + [tokenizer.pad_token_id]\n",
    "            attention_mask = (\n",
    "            instruction[\"attention_mask\"] + response[\"attention_mask\"] + [1])\n",
    "            labels = [-100] * len(instruction[\"input_ids\"]) + response[\"input_ids\"] + [tokenizer.pad_token_id]\n",
    "            if len(input_ids) > max_len:\n",
    "                max_len = len(input_ids)\n",
    "print(\"max_len:\",max_len)   \n",
    "#1810"
   ]
  },
  {
   "cell_type": "code",
   "execution_count": 6,
   "id": "bd049f6f",
   "metadata": {},
   "outputs": [],
   "source": [
    "#  和下面的max_len 作一个合并\n",
    "#  max_seq_length = 2100\n",
    "\n",
    "def process_func(example):\n",
    "    \"\"\"\n",
    "    将数据集进行预处理\n",
    "    \"\"\"\n",
    "    MAX_LENGTH = 700 \n",
    "    input_ids, attention_mask, labels = [], [], []\n",
    "    instruction = tokenizer(\n",
    "        f\"<|system|>\\n {example['instruction']}.<|endoftext|>\\n<|user|>\\n{example['input']}<|endoftext|>\\n<|assistant|>\\n\",\n",
    "        add_special_tokens=False,\n",
    "    )\n",
    "    response = tokenizer(f\"{example['output']}\", add_special_tokens=False)\n",
    "    input_ids = instruction[\"input_ids\"] + response[\"input_ids\"] + [tokenizer.pad_token_id]\n",
    "    attention_mask = (\n",
    "        instruction[\"attention_mask\"] + response[\"attention_mask\"] + [1]\n",
    "    )\n",
    "    labels = [-100] * len(instruction[\"input_ids\"]) + response[\"input_ids\"] + [tokenizer.pad_token_id]\n",
    "    if len(input_ids) > MAX_LENGTH:  # 做一个截断\n",
    "        input_ids = input_ids[:MAX_LENGTH]\n",
    "        attention_mask = attention_mask[:MAX_LENGTH]\n",
    "        labels = labels[:MAX_LENGTH]\n",
    "    return {\"input_ids\": input_ids, \"attention_mask\": attention_mask, \"labels\": labels}"
   ]
  },
  {
   "cell_type": "code",
   "execution_count": 7,
   "id": "5f2fde0d",
   "metadata": {},
   "outputs": [
    {
     "name": "stderr",
     "output_type": "stream",
     "text": [
      "Map: 100%|█████████████████████████████████████████████████████████████████| 1736/1736 [00:01<00:00, 1423.34 examples/s]\n",
      "Map: 100%|███████████████████████████████████████████████████████████████████| 178/178 [00:00<00:00, 1386.22 examples/s]\n"
     ]
    }
   ],
   "source": [
    "#  set dataset\n",
    "train_path = \"./mydataset2_SQL/T2Q_GLM4_SFT_train_sql.jsonl\"\n",
    "val_path = \"./mydataset2_SQL/T2Q_GLM4_SFT_val_sql.jsonl\"\n",
    "\n",
    "train_df = pd.read_json(train_path, lines=True)\n",
    "train_ds = Dataset.from_pandas(train_df)\n",
    "train_dataset = train_ds.map(process_func, remove_columns=train_ds.column_names)\n",
    "\n",
    "\n",
    "val_df = pd.read_json(val_path, lines=True)\n",
    "val_ds = Dataset.from_pandas(val_df)\n",
    "val_dataset = val_ds.map(process_func, remove_columns=val_ds.column_names)"
   ]
  },
  {
   "cell_type": "code",
   "execution_count": 8,
   "id": "f4cf51af",
   "metadata": {},
   "outputs": [],
   "source": [
    "#  train_config\n",
    "#  示例里 r 为 8\n",
    "lora_r = 64\n",
    "lora_alpha = 32\n",
    "lora_dropout = 0.1\n",
    "output_dir = \"./SFT_SQL_dataset2\"\n",
    "num_train_epochs = 8\n",
    "bf16 = True\n",
    "overwrite_output_dir = True\n",
    "per_device_train_batch_size = 4\n",
    "per_device_eval_batch_size = 2\n",
    "gradient_accumulation_steps = 16\n",
    "gradient_checkpointing = True\n",
    "evaluation_strategy = \"steps\"\n",
    "learning_rate = 5e-5\n",
    "weight_decay = 0.01\n",
    "lr_scheduler_type = \"cosine\"\n",
    "warmup_ratio = 0.01\n",
    "max_grad_norm = 0.3\n",
    "group_by_length = True\n",
    "auto_find_batch_size = False\n",
    "save_steps = 40\n",
    "logging_steps = 50\n",
    "load_best_model_at_end= False\n",
    "packing = False\n",
    "save_total_limit=4\n",
    "neftune_noise_alpha=5\n",
    "# report_to=\"wandb\"\n",
    "max_seq_length = 700"
   ]
  },
  {
   "cell_type": "code",
   "execution_count": 9,
   "id": "4a95c204",
   "metadata": {},
   "outputs": [],
   "source": [
    "peft_config = LoraConfig(\n",
    "    lora_alpha=lora_alpha,\n",
    "    lora_dropout=lora_dropout,\n",
    "    r=lora_r,\n",
    "    target_modules=[\n",
    "       \"query_key_value\", \"dense\", \"dense_h_to_4h\", \"activation_func\", \"dense_4h_to_h\"\n",
    "    ],\n",
    "    task_type=TaskType.CAUSAL_LM,\n",
    ")"
   ]
  },
  {
   "cell_type": "code",
   "execution_count": 10,
   "id": "de4180ce",
   "metadata": {},
   "outputs": [],
   "source": [
    "swanlab_callback = SwanLabCallback(\n",
    "    project=\"GLM4-SFT_T2QSQL_CN_val_train\",\n",
    "    experiment_name=\"GLM4-9B-Chat\",\n",
    "    description=\"使用智谱GLM4-9B-Chat模型在spider数据集上微调 生成SQL-CN。\",\n",
    "    config={\n",
    "        \"model\": \"/home/LLM_para/para_glm4\",\n",
    "        \"dataset\": \"T2Q_GLM4_SFT_train_SQL.jsonl\",\n",
    "    },\n",
    ")"
   ]
  },
  {
   "cell_type": "code",
   "execution_count": 11,
   "id": "77008805",
   "metadata": {},
   "outputs": [],
   "source": [
    "training_arguments = TrainingArguments(\n",
    "    output_dir=output_dir,\n",
    "    overwrite_output_dir=overwrite_output_dir,\n",
    "    num_train_epochs=num_train_epochs,\n",
    "    load_best_model_at_end=load_best_model_at_end,\n",
    "    per_device_train_batch_size=per_device_train_batch_size,\n",
    "    evaluation_strategy=evaluation_strategy,\n",
    "    max_grad_norm = max_grad_norm,\n",
    "    auto_find_batch_size = auto_find_batch_size,\n",
    "    save_total_limit = save_total_limit,\n",
    "    gradient_accumulation_steps=gradient_accumulation_steps,\n",
    "    save_steps=save_steps,\n",
    "    logging_steps=logging_steps,\n",
    "    learning_rate=learning_rate,\n",
    "    weight_decay=weight_decay,\n",
    "    bf16=bf16,\n",
    "    warmup_ratio=warmup_ratio,\n",
    "    group_by_length=group_by_length,\n",
    "    lr_scheduler_type=lr_scheduler_type,\n",
    "    report_to=\"none\",\n",
    "    neftune_noise_alpha= neftune_noise_alpha\n",
    ")"
   ]
  },
  {
   "cell_type": "code",
   "execution_count": 12,
   "id": "98d5d29c",
   "metadata": {},
   "outputs": [
    {
     "name": "stderr",
     "output_type": "stream",
     "text": [
      "Detected kernel version 5.4.0, which is below the recommended minimum of 5.5.0; this can cause the process to hang. It is recommended to upgrade the kernel to the minimum version or higher.\n"
     ]
    }
   ],
   "source": [
    "# response_template = \"### Response:\"\n",
    "# collator = DataCollatorForCompletionOnlyLM(response_template, tokenizer=tokenizer)\n",
    "# collator = DataCollatorForSeq2Seq(tokenizer=tokenizer, padding=True)\n",
    "# trainer = SFTTrainer(\n",
    "#     model=model,\n",
    "#     train_dataset=dataset['train'],\n",
    "#     eval_dataset=dataset['validation'],\n",
    "#     peft_config=peft_config,\n",
    "#     data_collator=collator,\n",
    "#     args=training_arguments,\n",
    "#     max_seq_length=max_seq_length,\n",
    "#     packing=packing\n",
    "# )\n",
    "model = get_peft_model(model, peft_config)\n",
    "trainer = Trainer(\n",
    "    model=model,\n",
    "    args=training_arguments,\n",
    "    train_dataset=train_dataset,\n",
    "    eval_dataset= val_dataset,\n",
    "    data_collator=DataCollatorForSeq2Seq(tokenizer=tokenizer, padding=True),\n",
    "    callbacks=[swanlab_callback],\n",
    ")"
   ]
  },
  {
   "cell_type": "code",
   "execution_count": 13,
   "id": "b25bcf14",
   "metadata": {},
   "outputs": [
    {
     "name": "stdout",
     "output_type": "stream",
     "text": [
      "\u001b[1m\u001b[34mswanlab\u001b[0m\u001b[0m: swanlab version 0.3.20 is available!  Upgrade: `pip install -U swanlab`\n",
      "\u001b[1m\u001b[34mswanlab\u001b[0m\u001b[0m: Tracking run with swanlab version 0.3.19                                  \n",
      "\u001b[1m\u001b[34mswanlab\u001b[0m\u001b[0m: Run data will be saved locally in \u001b[35m\u001b[1m/home/code/chat_SQL/exp1/GLM4/swanlog/run-20240915_115339-a3b1799d\u001b[0m\u001b[0m\n",
      "\u001b[1m\u001b[34mswanlab\u001b[0m\u001b[0m: 👋 Hi \u001b[1m\u001b[39mwinhong\u001b[0m\u001b[0m, welcome to swanlab!\n",
      "\u001b[1m\u001b[34mswanlab\u001b[0m\u001b[0m: Syncing run \u001b[33mGLM4-9B-Chat_Sep15_11-53-39\u001b[0m to the cloud\n",
      "\u001b[1m\u001b[34mswanlab\u001b[0m\u001b[0m: 🌟 Run `\u001b[1mswanlab watch /home/code/chat_SQL/exp1/GLM4/swanlog\u001b[0m` to view SwanLab Experiment Dashboard locally\n",
      "\u001b[1m\u001b[34mswanlab\u001b[0m\u001b[0m: 🏠 View project at \u001b[34m\u001b[4mhttps://swanlab.cn/@winhong/GLM4-SFT_T2QSQL_CN_val_train\u001b[0m\u001b[0m\n",
      "\u001b[1m\u001b[34mswanlab\u001b[0m\u001b[0m: 🚀 View run at \u001b[34m\u001b[4mhttps://swanlab.cn/@winhong/GLM4-SFT_T2QSQL_CN_val_train/runs/xvaqwyyr17ai6dzrnz20r\u001b[0m\u001b[0m\n"
     ]
    },
    {
     "data": {
      "text/html": [
       "\n",
       "<!DOCTYPE html>\n",
       "<html lang=\"en\">\n",
       "<head>\n",
       "    <meta charset=\"UTF-8\">\n",
       "    <meta name=\"viewport\" content=\"width=device-width, initial-scale=1.0\">\n",
       "    <title>Show Iframe</title>\n",
       "    \n",
       "        <script>\n",
       "            function showIframe() {\n",
       "                var iframeHtml = '<iframe src=\"https://swanlab.cn/@winhong/GLM4-SFT_T2QSQL_CN_val_train/runs/xvaqwyyr17ai6dzrnz20r\" width=100% height=\"600\" frameborder=\"no\"></iframe>';\n",
       "                document.getElementById('iframeContainer').innerHTML = iframeHtml;\n",
       "            }\n",
       "        </script>\n",
       "        \n",
       "</head>\n",
       "<body>\n",
       "    <style>\n",
       "        .interactive-button {\n",
       "            display: flex;\n",
       "            align-items: center;\n",
       "            height: 36px;\n",
       "            border: 0px;\n",
       "            background-color: #2c8f63;\n",
       "            color: white;\n",
       "            padding: 10px 20px;\n",
       "            transition: background-color 0.3s, transform 0.2s;\n",
       "        }\n",
       "\n",
       "        .interactive-button:hover {\n",
       "            background-color: #5cab87;\n",
       "            cursor: pointer;\n",
       "        }\n",
       "\n",
       "        .interactive-button:active {\n",
       "            background-color: #217952;\n",
       "            transform: scale(0.96);\n",
       "        }\n",
       "    </style>\n",
       "    <br>\n",
       "    <button onclick=\"showIframe()\" class=\"interactive-button\">\n",
       "        <svg style=\"height: 16px; margin-right: 8px;\" viewBox=\"0 0 46 46\" fill=\"none\">\n",
       "            <path\n",
       "                d=\"M10.8439 21.1974C10.6414 21.2854 10.4477 21.3925 10.2655 21.5173L10.2069 21.5652C10.1839 21.58 10.1625 21.5969 10.1429 21.6159C6.29135 24.6118 4.22831 29.4416 5.32646 34.282C5.94656 37.0577 7.50461 39.5348 9.73801 41.2958C11.9714 43.0568 14.7436 43.994 17.5874 43.9495H18.0219C19.8864 43.8697 21.7087 43.3694 23.3526 42.486C24.9964 41.6026 26.4193 40.3589 27.5147 38.848C28.61 37.3371 29.3496 35.598 29.678 33.761C30.0065 31.9239 29.9153 30.0363 29.4112 28.2395C28.9181 26.4723 27.8919 24.8437 26.9937 23.2551C25.4158 20.4653 23.8343 17.6764 22.2492 14.8884C21.7801 14.0647 21.3057 13.2465 20.8419 12.4228C20.2315 11.3353 19.2746 10.1519 19.224 8.86183C19.1733 7.57176 20.2235 6.32701 21.5082 6.07912C23.9284 5.61801 25.0639 8.24078 25.0693 8.23812C25.363 8.94035 25.9123 9.50489 26.6063 9.81764C27.3002 10.1304 28.087 10.168 28.8077 9.92298C29.5283 9.67791 30.1291 9.1684 30.4885 8.49743C30.8479 7.82646 30.9392 7.04405 30.7439 6.30835C30.1514 4.37314 28.9133 2.69953 27.2363 1.56656C25.7615 0.511704 23.9847 -0.0372109 22.1719 0.00195984C20.9049 0.00893199 19.6532 0.27989 18.4967 0.797557C17.3402 1.31522 16.3043 2.06823 15.4551 3.00856C14.49 4.08707 13.7984 5.38193 13.4389 6.78385C13.0794 8.18576 13.0624 9.6536 13.3894 11.0635C13.52 11.593 13.6984 12.1095 13.9225 12.6067C14.5595 14.0514 15.4951 15.3681 16.284 16.7355C17.2525 18.4147 18.2209 20.0948 19.1893 21.7758C20.1578 23.4568 21.1351 25.1449 22.1213 26.8401C22.9209 28.2421 23.7925 29.4682 23.8805 31.1528C23.9175 32.0513 23.7682 32.9479 23.4419 33.7859C23.1156 34.6239 22.6194 35.3854 21.9845 36.0223C21.3496 36.6592 20.5897 37.1578 19.7527 37.4868C18.9157 37.8157 18.0196 37.9678 17.121 37.9336C14.0024 37.7923 11.6488 35.4814 11.1744 32.4588C10.58 28.6419 13.552 26.5469 13.552 26.5469C14.1782 26.1785 14.6497 25.5955 14.8791 24.906C15.1084 24.2166 15.0801 23.4673 14.7993 22.7971C14.5186 22.127 14.0044 21.5813 13.3521 21.2611C12.6998 20.941 11.9536 20.8682 11.2517 21.0561C11.1174 21.0939 10.9856 21.1402 10.8572 21.1947\"\n",
       "                fill=\"white\"\n",
       "            />\n",
       "            <path\n",
       "                d=\"M42.8101 31.5968C42.8109 30.5198 42.7218 29.4445 42.5435 28.3823C42.2663 26.7069 41.7464 25.0808 41.0002 23.5552C40.5524 22.6463 39.9874 21.7374 39.1024 21.2417C38.6593 20.9919 38.1589 20.8617 37.6502 20.8639C37.1416 20.8661 36.6423 21.0006 36.2013 21.2541C35.7604 21.5077 35.393 21.8716 35.1352 22.3101C34.8775 22.7485 34.7382 23.2466 34.7312 23.7552C34.7072 24.8773 35.3149 25.8875 35.768 26.9217C36.5212 28.6453 36.8623 30.5208 36.7642 32.3993C36.6661 34.2777 36.1315 36.1075 35.2029 37.7433C35.146 37.8404 35.0952 37.941 35.051 38.0445C34.8623 38.4842 34.7635 38.9573 34.7605 39.4358C34.7802 40.1222 35.0356 40.7808 35.4835 41.3011C35.9315 41.8214 36.5449 42.1717 37.2207 42.2932C38.8759 42.589 40.1899 41.347 40.8856 39.9609C42.1643 37.3589 42.823 34.4961 42.8101 31.5968Z\"\n",
       "                fill=\"white\"\n",
       "            />\n",
       "            <path\n",
       "                d=\"M28.2309 11.8938C28.1761 11.9043 28.1218 11.9176 28.0683 11.9338C27.9593 11.9642 27.8611 12.0249 27.7851 12.1088C27.7091 12.1928 27.6584 12.2965 27.6389 12.408C27.6193 12.5195 27.6318 12.6343 27.6748 12.7391C27.7178 12.8438 27.7895 12.9343 27.8818 12.9999C29.2375 14.0252 30.3809 15.3043 31.2482 16.7662C31.4838 17.1677 31.6888 17.5865 31.8612 18.0189C32.0052 18.3921 32.1971 18.8799 32.6822 18.8532C33.0607 18.8346 33.2153 18.512 33.3192 18.1895C33.8137 16.5125 33.9678 14.7534 33.7723 13.0159C33.6331 12.0693 33.4155 11.1359 33.122 10.2252C33.0775 10.0047 32.9744 9.80029 32.8235 9.6335C32.7273 9.54627 32.6054 9.49262 32.4761 9.4806C32.3468 9.46859 32.2171 9.49886 32.1065 9.56687C32.0016 9.65188 31.9115 9.75365 31.8399 9.86806C31.3956 10.4658 30.825 10.9581 30.1687 11.3101C29.8377 11.4861 29.4893 11.6272 29.1292 11.7312C28.828 11.8192 28.5215 11.8325 28.2309 11.8938Z\"\n",
       "                fill=\"white\"\n",
       "            />\n",
       "        </svg>\n",
       "        Display SwanLab Board\n",
       "    </button>\n",
       "    <br>\n",
       "    <div id=\"iframeContainer\"></div>\n",
       "</body>\n",
       "</html>\n"
      ],
      "text/plain": [
       "<IPython.core.display.HTML object>"
      ]
     },
     "metadata": {},
     "output_type": "display_data"
    },
    {
     "data": {
      "text/html": [
       "\n",
       "    <div>\n",
       "      \n",
       "      <progress value='216' max='216' style='width:300px; height:20px; vertical-align: middle;'></progress>\n",
       "      [216/216 16:32, Epoch 7/8]\n",
       "    </div>\n",
       "    <table border=\"1\" class=\"dataframe\">\n",
       "  <thead>\n",
       " <tr style=\"text-align: left;\">\n",
       "      <th>Step</th>\n",
       "      <th>Training Loss</th>\n",
       "      <th>Validation Loss</th>\n",
       "    </tr>\n",
       "  </thead>\n",
       "  <tbody>\n",
       "    <tr>\n",
       "      <td>50</td>\n",
       "      <td>0.811300</td>\n",
       "      <td>0.095398</td>\n",
       "    </tr>\n",
       "    <tr>\n",
       "      <td>100</td>\n",
       "      <td>0.066600</td>\n",
       "      <td>0.054755</td>\n",
       "    </tr>\n",
       "    <tr>\n",
       "      <td>150</td>\n",
       "      <td>0.024500</td>\n",
       "      <td>0.048457</td>\n",
       "    </tr>\n",
       "    <tr>\n",
       "      <td>200</td>\n",
       "      <td>0.015100</td>\n",
       "      <td>0.047991</td>\n",
       "    </tr>\n",
       "  </tbody>\n",
       "</table><p>"
      ],
      "text/plain": [
       "<IPython.core.display.HTML object>"
      ]
     },
     "metadata": {},
     "output_type": "display_data"
    },
    {
     "name": "stderr",
     "output_type": "stream",
     "text": [
      "/home/vipuser/anaconda3/envs/GLM4/lib/python3.10/site-packages/peft/utils/save_and_load.py:154: UserWarning: Could not find a config file in /home/LLM_para/para_glm4 - will assume that the vocabulary was not modified.\n",
      "  warnings.warn(\n"
     ]
    },
    {
     "name": "stdout",
     "output_type": "stream",
     "text": [
      "\u001b[1m\u001b[33mswanlab\u001b[0m\u001b[0m: Step 50 on key train/epoch already exists, ignored.\n"
     ]
    },
    {
     "name": "stderr",
     "output_type": "stream",
     "text": [
      "/home/vipuser/anaconda3/envs/GLM4/lib/python3.10/site-packages/peft/utils/save_and_load.py:154: UserWarning: Could not find a config file in /home/LLM_para/para_glm4 - will assume that the vocabulary was not modified.\n",
      "  warnings.warn(\n"
     ]
    },
    {
     "name": "stdout",
     "output_type": "stream",
     "text": [
      "\u001b[1m\u001b[33mswanlab\u001b[0m\u001b[0m: Step 100 on key train/epoch already exists, ignored.\n"
     ]
    },
    {
     "name": "stderr",
     "output_type": "stream",
     "text": [
      "/home/vipuser/anaconda3/envs/GLM4/lib/python3.10/site-packages/peft/utils/save_and_load.py:154: UserWarning: Could not find a config file in /home/LLM_para/para_glm4 - will assume that the vocabulary was not modified.\n",
      "  warnings.warn(\n"
     ]
    },
    {
     "name": "stdout",
     "output_type": "stream",
     "text": [
      "\u001b[1m\u001b[33mswanlab\u001b[0m\u001b[0m: Step 150 on key train/epoch already exists, ignored.\n"
     ]
    },
    {
     "name": "stderr",
     "output_type": "stream",
     "text": [
      "/home/vipuser/anaconda3/envs/GLM4/lib/python3.10/site-packages/peft/utils/save_and_load.py:154: UserWarning: Could not find a config file in /home/LLM_para/para_glm4 - will assume that the vocabulary was not modified.\n",
      "  warnings.warn(\n"
     ]
    },
    {
     "name": "stdout",
     "output_type": "stream",
     "text": [
      "\u001b[1m\u001b[33mswanlab\u001b[0m\u001b[0m: Step 200 on key train/epoch already exists, ignored.\n"
     ]
    },
    {
     "name": "stderr",
     "output_type": "stream",
     "text": [
      "/home/vipuser/anaconda3/envs/GLM4/lib/python3.10/site-packages/peft/utils/save_and_load.py:154: UserWarning: Could not find a config file in /home/LLM_para/para_glm4 - will assume that the vocabulary was not modified.\n",
      "  warnings.warn(\n"
     ]
    },
    {
     "data": {
      "text/plain": [
       "TrainOutput(global_step=216, training_loss=0.21335852642854056, metrics={'train_runtime': 1004.1453, 'train_samples_per_second': 13.831, 'train_steps_per_second': 0.215, 'total_flos': 1.4420390486114304e+17, 'train_loss': 0.21335852642854056, 'epoch': 7.9631336405529956})"
      ]
     },
     "execution_count": 13,
     "metadata": {},
     "output_type": "execute_result"
    }
   ],
   "source": [
    "trainer.train()"
   ]
  },
  {
   "cell_type": "code",
   "execution_count": 14,
   "id": "e961a8b5",
   "metadata": {},
   "outputs": [
    {
     "name": "stderr",
     "output_type": "stream",
     "text": [
      "/home/vipuser/anaconda3/envs/GLM4/lib/python3.10/site-packages/peft/utils/save_and_load.py:154: UserWarning: Could not find a config file in /home/LLM_para/para_glm4 - will assume that the vocabulary was not modified.\n",
      "  warnings.warn(\n"
     ]
    }
   ],
   "source": [
    "# output_dir = os.path.join(\"./\", \"final_checkpoint_newS_SFT_SQL_CN_TV\")\n",
    "output_dir = os.path.join(\"./\", \"final_checkpoint_dataset2_SQL\")\n",
    "trainer.model.save_pretrained(output_dir)"
   ]
  },
  {
   "cell_type": "code",
   "execution_count": null,
   "id": "c58a2e67",
   "metadata": {},
   "outputs": [],
   "source": [
    "def predict(messages, model, tokenizer):\n",
    "#     device = \"cuda\"\n",
    "    text = tokenizer.apply_chat_template(\n",
    "        messages,\n",
    "        tokenize=False,\n",
    "        add_generation_prompt=True\n",
    "    )\n",
    "    model_inputs = tokenizer([text], return_tensors=\"pt\").to(device)\n",
    "\n",
    "    generated_ids = model.generate(\n",
    "        model_inputs.input_ids,\n",
    "        max_new_tokens=512\n",
    "    )\n",
    "    generated_ids = [\n",
    "        output_ids[len(input_ids):] for input_ids, output_ids in zip(model_inputs.input_ids, generated_ids)\n",
    "    ]\n",
    "    \n",
    "    response = tokenizer.batch_decode(generated_ids, skip_special_tokens=True)[0]\n",
    "    \n",
    "    print(response)\n",
    "     \n",
    "    return response"
   ]
  },
  {
   "cell_type": "code",
   "execution_count": null,
   "id": "5494e642",
   "metadata": {},
   "outputs": [],
   "source": [
    "# 用测试集的前10条，测试模型\n",
    "test_df = val_df[:10]\n",
    "print(test_df)\n",
    "print(1)"
   ]
  },
  {
   "cell_type": "code",
   "execution_count": null,
   "id": "27da4ab5",
   "metadata": {},
   "outputs": [],
   "source": [
    "# import swanlab\n",
    "test_text_list = []\n",
    "for index, row in test_df.iterrows():\n",
    "    instruction = row['instruction']\n",
    "    input_value = row['input']\n",
    "    \n",
    "    messages = [\n",
    "        {\"role\": \"system\", \"content\": f\"{instruction}\"},\n",
    "        {\"role\": \"user\", \"content\": f\"{input_value}\"}\n",
    "    ]\n",
    "\n",
    "    response = predict(messages, model, tokenizer)\n",
    "#     print(response)\n",
    "#     messages.append({\"role\": \"assistant\", \"content\": f\"{response}\"})\n",
    "#     result_text = f\"{messages[0]}\\n\\n{messages[1]}\\n\\n{messages[2]}\"\n",
    "#     test_text_list.append(swanlab.Text(result_text, caption=response))\n",
    "    \n",
    "# swanlab.log({\"Prediction\": test_text_list})\n",
    "# swanlab.finish()"
   ]
  },
  {
   "cell_type": "code",
   "execution_count": null,
   "id": "0a61c430",
   "metadata": {},
   "outputs": [],
   "source": []
  }
 ],
 "metadata": {
  "kernelspec": {
   "display_name": "GLM4",
   "language": "python",
   "name": "glm4"
  },
  "language_info": {
   "codemirror_mode": {
    "name": "ipython",
    "version": 3
   },
   "file_extension": ".py",
   "mimetype": "text/x-python",
   "name": "python",
   "nbconvert_exporter": "python",
   "pygments_lexer": "ipython3",
   "version": "3.10.14"
  }
 },
 "nbformat": 4,
 "nbformat_minor": 5
}
