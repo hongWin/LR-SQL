{
 "cells": [
  {
   "cell_type": "code",
   "execution_count": 1,
   "id": "f5713b27",
   "metadata": {},
   "outputs": [
    {
     "name": "stderr",
     "output_type": "stream",
     "text": [
      "/home/vipuser/anaconda3/envs/GLM_4/lib/python3.10/site-packages/tqdm/auto.py:21: TqdmWarning: IProgress not found. Please update jupyter and ipywidgets. See https://ipywidgets.readthedocs.io/en/stable/user_install.html\n",
      "  from .autonotebook import tqdm as notebook_tqdm\n"
     ]
    }
   ],
   "source": [
    "import torch\n",
    "from peft import AutoPeftModelForCausalLM\n",
    "from transformers import AutoModelForCausalLM, AutoTokenizer\n",
    "import pandas as pd"
   ]
  },
  {
   "cell_type": "code",
   "execution_count": 2,
   "id": "890cc0df",
   "metadata": {},
   "outputs": [],
   "source": [
    "model_path = '/home/LLM_para/para_glm4'\n",
    "lora_path = './final_checkpoint_GLM4_T-E_SFT_myidea'"
   ]
  },
  {
   "cell_type": "code",
   "execution_count": 3,
   "id": "dc0d02ac",
   "metadata": {},
   "outputs": [
    {
     "name": "stderr",
     "output_type": "stream",
     "text": [
      "Loading checkpoint shards: 100%|████████████████████████████████████████████████████████| 10/10 [01:45<00:00, 10.60s/it]\n"
     ]
    }
   ],
   "source": [
    "model = AutoPeftModelForCausalLM.from_pretrained(\n",
    "        lora_path, trust_remote_code= True, device_map='auto')"
   ]
  },
  {
   "cell_type": "code",
   "execution_count": 4,
   "id": "8579551c",
   "metadata": {},
   "outputs": [
    {
     "name": "stderr",
     "output_type": "stream",
     "text": [
      "Special tokens have been added in the vocabulary, make sure the associated word embeddings are fine-tuned or trained.\n"
     ]
    }
   ],
   "source": [
    "tokenizer = AutoTokenizer.from_pretrained(model_path, trust_remote_code=True)"
   ]
  },
  {
   "cell_type": "code",
   "execution_count": 8,
   "id": "3500436d",
   "metadata": {},
   "outputs": [
    {
     "name": "stderr",
     "output_type": "stream",
     "text": [
      "100%|████████████████████████████████████████████████████████████████████████████████| 142/142 [00:00<00:00, 699.66it/s]\n"
     ]
    },
    {
     "name": "stdout",
     "output_type": "stream",
     "text": [
      "6\n"
     ]
    },
    {
     "name": "stderr",
     "output_type": "stream",
     "text": [
      "100%|██████████████████████████████████████████████████████████████████████████████████| 30/30 [00:00<00:00, 702.07it/s]"
     ]
    },
    {
     "name": "stdout",
     "output_type": "stream",
     "text": [
      "8\n",
      "['manufacturers', 'products', 'student', 'plays_games', 'sportsinfo', 'actor', 'entrepreneur', 'people', 'ref_hotel_star_ratings', 'ref_attraction_types', 'hotels', 'tourist_attractions', 'street_markets', 'shops', 'museums', 'royal_family', 'theme_parks', 'visits', 'photos', 'staff', 'tourist_attraction_features', 'wrestler']\n",
      "['elimination', 'business', 'category', 'checkin', 'neighbourhood', 'review', 'tip', 'ref_detention_type', 'ref_incident_type', 'addresses', 'students', 'teachers', 'assessment_notes', 'behavior_incident', 'detention', 'student_addresses', 'students_in_detention', 'film']\n",
      "['film_market_estimation', 'catalogs', 'catalog_structure', 'catalog_contents', 'catalog_contents_additional_attributes', 'routes', 'airports', 'stadium', 'game', 'injury_accident', 'physician', 'department', 'affiliated_with', 'trained_in', 'patient', 'nurse', 'appointment', 'prescribes', 'block', 'room']\n",
      "['on_call', 'stay', 'undergoes', 'buildings', 'office_locations', 'region', 'party', 'member', 'party_events', 'web_client_accelerator', 'accelerator_compatible_browser', 'investors', 'lots', 'transactions', 'sales', 'purchases', 'transactions_lots', 'basketball_match', 'university', 'geographic', 'restaurant', 'location']\n",
      "['follows', 'tweets', 'user_profiles', 'station', 'status', 'campuses', 'csu_fees', 'degrees', 'discipline_enrollments', 'enrollments', 'faculty', 'journalist', 'news_report', 'authors', 'authorship', 'manufacturer', 'furniture_manufacte', 'person', 'personfriend', 'enzyme', 'medicine_enzyme_interaction', 'apartment_buildings', 'apartments', 'apartment_facilities', 'apartment_bookings']\n",
      "['view_unit_status', 'channel', 'broadcast', 'broadcast_share', 'customer_master_index', 'cmi_cross_references', 'council_tax', 'business_rates', 'benefits_overpayments', 'parking_fines', 'rent_arrears', 'electoral_register', 'store', 'store_product', 'store_district', 'gas_station', 'station_company', 'artwork', 'nomination', 'building', 'institution', 'protein', 'roller_coaster', 'country', 'services']\n",
      "['events', 'participants_in_events', 'architect', 'bridge', 'mill', 'railway', 'train', 'railway_manage', 'publication', 'book', 'video_games', 'musical', 'locations', 'visitors', 'features', 'user', 'ref_address_types', 'market', 'attribute_definitions', 'airlines', 'procedures', 'medication', 'companies', 'browser', 'ref_transaction_types', 'trip']\n",
      "['weather', 'event', 'inst', 'papers', 'furniture', 'medicine', 'guests', 'program', 'product', 'district', 'company', 'festival_detail', 'participants', 'manager']\n",
      "172\n"
     ]
    },
    {
     "name": "stderr",
     "output_type": "stream",
     "text": [
      "\n"
     ]
    }
   ],
   "source": [
    "# 拆解训练集\n",
    "# 提供每次训练token数\n",
    "from tqdm import tqdm\n",
    "import copy \n",
    "import re\n",
    "max_token = 1100\n",
    "# 保证特殊字符能被识别\n",
    "accept_toekn = max_token - 150\n",
    "\n",
    "tab_str = \"\"\n",
    "schema_slicing = []\n",
    "df = pd.read_csv(\"./mydataset_new/table_schema_Reference_cropped.csv\",encoding=\"utf-8\")\n",
    "for index, row in tqdm(df.iterrows(), total=len(df)):\n",
    "    table_group = row['Reference_group']\n",
    "    tab_str_elder = copy.deepcopy(tab_str)\n",
    "    tab_str += table_group + \"\\n\"\n",
    "    check_token = tokenizer(f\"{tab_str}\", add_special_tokens=False)\n",
    "    if len(check_token[\"input_ids\"]) > accept_toekn:\n",
    "        schema_slicing.append(tab_str_elder)\n",
    "        tab_str = table_group + \"\\n\"\n",
    "\n",
    "    \n",
    "print(len(schema_slicing))\n",
    "\n",
    "df = pd.read_csv(\"./mydataset_new/table_schema_noReference_cropped.csv\",encoding=\"utf-8\")\n",
    "for index, row in tqdm(df.iterrows(), total=len(df)):\n",
    "    table_group = row['noReference_group']\n",
    "    tab_str_elder = copy.deepcopy(tab_str)\n",
    "    tab_str += table_group + \"\\n\"\n",
    "    check_token = tokenizer(f\"{tab_str}\", add_special_tokens=False)\n",
    "    if len(check_token[\"input_ids\"]) > accept_toekn:\n",
    "#         print(\"+++++++++++\")\n",
    "        schema_slicing.append(tab_str_elder)\n",
    "        tab_str = table_group + \"\\n\"\n",
    "        \n",
    "        \n",
    "if len(tab_str) > 0:\n",
    "    schema_slicing.append(tab_str)\n",
    "\n",
    "print(len(schema_slicing))\n",
    "# print(schema_slicing[6])\n",
    "# print(\"#############################\")\n",
    "# print(schema_slicing[7])\n",
    "# print(schema_slicing[8])\n",
    "\n",
    "create_table_pattern = re.compile(r'CREATE TABLE `[^`]+` \\([^;]+\\);')\n",
    "table_name_group = []\n",
    "test_total = set()\n",
    "count = 0\n",
    "for piece in schema_slicing:\n",
    "    create_table_statements = create_table_pattern.findall(piece)\n",
    "    temp_list = []\n",
    "    for table in create_table_statements:\n",
    "        table_name = re.search(r\"CREATE TABLE `([^`]+)`\", table).group(1)\n",
    "        temp_list.append(table_name.lower())\n",
    "        test_total.add(table_name.lower())\n",
    "        count+=1\n",
    "    print(temp_list)\n",
    "    table_name_group.append(temp_list)\n",
    "# print(count)\n",
    "print(len(test_total))\n",
    "#     table_name_group.append()"
   ]
  },
  {
   "cell_type": "code",
   "execution_count": 9,
   "id": "32ec16ba",
   "metadata": {},
   "outputs": [],
   "source": [
    "def predict(messages, model, tokenizer):\n",
    "    device = \"cuda\"\n",
    "    text = tokenizer.apply_chat_template(\n",
    "        messages,\n",
    "        tokenize=False,\n",
    "        add_generation_prompt=True\n",
    "    )\n",
    "    model_inputs = tokenizer([text], return_tensors=\"pt\").to(device)\n",
    "\n",
    "    generated_ids = model.generate(\n",
    "        model_inputs.input_ids,\n",
    "        max_new_tokens=512\n",
    "    )\n",
    "    generated_ids = [\n",
    "        output_ids[len(input_ids):] for input_ids, output_ids in zip(model_inputs.input_ids, generated_ids)\n",
    "    ]\n",
    "    \n",
    "    response = tokenizer.batch_decode(generated_ids, skip_special_tokens=True)[0]\n",
    "    \n",
    "#     print(response)\n",
    "     \n",
    "    return response\n",
    "\n",
    "# instruction = row['instruction']\n",
    "# input_value = row['input']\n",
    "def get_instruction(schema):\n",
    "    instruction = f\" I want you to act as a relation extraction robot for a sample SQL table. You only need to return the tables related to the user's input question. Below are instructions describing the relationship between tables. Please write a response that appropriately completes the request. \\n##instruction:{schema}\"\n",
    "    return instruction\n",
    "\n",
    "def get_input_value(question):\n",
    "    input_value = f\"{question}\"\n",
    "    return input_value"
   ]
  },
  {
   "cell_type": "code",
   "execution_count": 10,
   "id": "c39a6635",
   "metadata": {},
   "outputs": [
    {
     "name": "stderr",
     "output_type": "stream",
     "text": [
      "  1%|▍                                                                                  | 1/178 [00:05<16:58,  5.76s/it]"
     ]
    },
    {
     "name": "stdout",
     "output_type": "stream",
     "text": [
      "++++++++++++++++index:0++++++++++++++++++++++++\n",
      "正确表名： products, manufacturers\n",
      "预测表名： products, manufacturers\n",
      "############################################\n"
     ]
    },
    {
     "name": "stderr",
     "output_type": "stream",
     "text": [
      "\r",
      "  1%|▉                                                                                  | 2/178 [00:11<16:35,  5.66s/it]"
     ]
    },
    {
     "name": "stdout",
     "output_type": "stream",
     "text": [
      "++++++++++++++++index:1++++++++++++++++++++++++\n",
      "正确表名： products\n",
      "预测表名： products, catalog_contents\n",
      "############################################\n"
     ]
    },
    {
     "name": "stderr",
     "output_type": "stream",
     "text": [
      "\r",
      "  2%|█▍                                                                                 | 3/178 [00:17<16:42,  5.73s/it]"
     ]
    },
    {
     "name": "stdout",
     "output_type": "stream",
     "text": [
      "++++++++++++++++index:2++++++++++++++++++++++++\n",
      "正确表名： manufacturers\n",
      "预测表名： manufacturers\n",
      "############################################\n"
     ]
    },
    {
     "name": "stderr",
     "output_type": "stream",
     "text": [
      "\r",
      "  2%|█▊                                                                                 | 4/178 [00:23<16:52,  5.82s/it]"
     ]
    },
    {
     "name": "stdout",
     "output_type": "stream",
     "text": [
      "++++++++++++++++index:3++++++++++++++++++++++++\n",
      "正确表名： manufacturers\n",
      "预测表名： manufacturers\n",
      "############################################\n"
     ]
    },
    {
     "name": "stderr",
     "output_type": "stream",
     "text": [
      "\r",
      "  3%|██▎                                                                                | 5/178 [00:28<16:49,  5.84s/it]"
     ]
    },
    {
     "name": "stdout",
     "output_type": "stream",
     "text": [
      "++++++++++++++++index:4++++++++++++++++++++++++\n",
      "正确表名： manufacturers\n",
      "预测表名： manufacturers\n",
      "############################################\n"
     ]
    },
    {
     "name": "stderr",
     "output_type": "stream",
     "text": [
      "\r",
      "  3%|██▊                                                                                | 6/178 [00:34<16:52,  5.89s/it]"
     ]
    },
    {
     "name": "stdout",
     "output_type": "stream",
     "text": [
      "++++++++++++++++index:5++++++++++++++++++++++++\n",
      "正确表名： products, manufacturers\n",
      "预测表名： products, manufacturers\n",
      "############################################\n"
     ]
    },
    {
     "name": "stderr",
     "output_type": "stream",
     "text": [
      "\r",
      "  4%|███▎                                                                               | 7/178 [00:40<16:52,  5.92s/it]"
     ]
    },
    {
     "name": "stdout",
     "output_type": "stream",
     "text": [
      "++++++++++++++++index:6++++++++++++++++++++++++\n",
      "正确表名： manufacturers\n",
      "预测表名： manufacturers\n",
      "############################################\n"
     ]
    },
    {
     "name": "stderr",
     "output_type": "stream",
     "text": [
      "\r",
      "  4%|███▋                                                                               | 8/178 [00:46<16:46,  5.92s/it]"
     ]
    },
    {
     "name": "stdout",
     "output_type": "stream",
     "text": [
      "++++++++++++++++index:7++++++++++++++++++++++++\n",
      "正确表名： products\n",
      "预测表名： products\n",
      "############################################\n"
     ]
    },
    {
     "name": "stderr",
     "output_type": "stream",
     "text": [
      "\r",
      "  5%|████▏                                                                              | 9/178 [00:52<16:47,  5.96s/it]"
     ]
    },
    {
     "name": "stdout",
     "output_type": "stream",
     "text": [
      "++++++++++++++++index:8++++++++++++++++++++++++\n",
      "正确表名： student, sportsinfo\n",
      "预测表名： student, sportsinfo\n",
      "############################################\n"
     ]
    },
    {
     "name": "stderr",
     "output_type": "stream",
     "text": [
      "\r",
      "  6%|████▌                                                                             | 10/178 [00:58<16:32,  5.91s/it]"
     ]
    },
    {
     "name": "stdout",
     "output_type": "stream",
     "text": [
      "++++++++++++++++index:9++++++++++++++++++++++++\n",
      "正确表名： plays_games, video_games\n",
      "预测表名： plays_games, video_games\n",
      "############################################\n"
     ]
    },
    {
     "name": "stderr",
     "output_type": "stream",
     "text": [
      "\r",
      "  6%|█████                                                                             | 11/178 [01:04<16:19,  5.86s/it]"
     ]
    },
    {
     "name": "stdout",
     "output_type": "stream",
     "text": [
      "++++++++++++++++index:10++++++++++++++++++++++++\n",
      "正确表名： video_games\n",
      "预测表名： video_games\n",
      "############################################\n"
     ]
    },
    {
     "name": "stderr",
     "output_type": "stream",
     "text": [
      "\r",
      "  7%|█████▌                                                                            | 12/178 [01:10<16:06,  5.83s/it]"
     ]
    },
    {
     "name": "stdout",
     "output_type": "stream",
     "text": [
      "++++++++++++++++index:11++++++++++++++++++++++++\n",
      "正确表名： video_games\n",
      "预测表名： video_games\n",
      "############################################\n"
     ]
    },
    {
     "name": "stderr",
     "output_type": "stream",
     "text": [
      "\r",
      "  7%|█████▉                                                                            | 13/178 [01:16<15:59,  5.81s/it]"
     ]
    },
    {
     "name": "stdout",
     "output_type": "stream",
     "text": [
      "++++++++++++++++index:12++++++++++++++++++++++++\n",
      "正确表名： video_games\n",
      "预测表名： video_games\n",
      "############################################\n"
     ]
    },
    {
     "name": "stderr",
     "output_type": "stream",
     "text": [
      "\r",
      "  8%|██████▍                                                                           | 14/178 [01:21<15:55,  5.83s/it]"
     ]
    },
    {
     "name": "stdout",
     "output_type": "stream",
     "text": [
      "++++++++++++++++index:13++++++++++++++++++++++++\n",
      "正确表名： sportsinfo, student\n",
      "预测表名： sportsinfo, student\n",
      "############################################\n"
     ]
    },
    {
     "name": "stderr",
     "output_type": "stream",
     "text": [
      "\r",
      "  8%|██████▉                                                                           | 15/178 [01:27<15:51,  5.84s/it]"
     ]
    },
    {
     "name": "stdout",
     "output_type": "stream",
     "text": [
      "++++++++++++++++index:14++++++++++++++++++++++++\n",
      "正确表名： student, plays_games\n",
      "预测表名： student, plays_games\n",
      "############################################\n"
     ]
    },
    {
     "name": "stderr",
     "output_type": "stream",
     "text": [
      "\r",
      "  9%|███████▎                                                                          | 16/178 [01:33<15:42,  5.82s/it]"
     ]
    },
    {
     "name": "stdout",
     "output_type": "stream",
     "text": [
      "++++++++++++++++index:15++++++++++++++++++++++++\n",
      "正确表名： student, sportsinfo\n",
      "预测表名： student, sportsinfo\n",
      "############################################\n"
     ]
    },
    {
     "name": "stderr",
     "output_type": "stream",
     "text": [
      "\r",
      " 10%|███████▊                                                                          | 17/178 [01:39<15:34,  5.80s/it]"
     ]
    },
    {
     "name": "stdout",
     "output_type": "stream",
     "text": [
      "++++++++++++++++index:16++++++++++++++++++++++++\n",
      "正确表名： musical\n",
      "预测表名： musical\n",
      "############################################\n"
     ]
    },
    {
     "name": "stderr",
     "output_type": "stream",
     "text": [
      "\r",
      " 10%|████████▎                                                                         | 18/178 [01:44<15:15,  5.72s/it]"
     ]
    },
    {
     "name": "stdout",
     "output_type": "stream",
     "text": [
      "++++++++++++++++index:17++++++++++++++++++++++++\n",
      "正确表名： actor, musical\n",
      "预测表名： actor, musical\n",
      "############################################\n"
     ]
    },
    {
     "name": "stderr",
     "output_type": "stream",
     "text": [
      "\r",
      " 11%|████████▊                                                                         | 19/178 [01:50<15:01,  5.67s/it]"
     ]
    },
    {
     "name": "stdout",
     "output_type": "stream",
     "text": [
      "++++++++++++++++index:18++++++++++++++++++++++++\n",
      "正确表名： musical, actor\n",
      "预测表名： actor, musical\n",
      "############################################\n"
     ]
    },
    {
     "name": "stderr",
     "output_type": "stream",
     "text": [
      "\r",
      " 11%|█████████▏                                                                        | 20/178 [01:55<14:52,  5.65s/it]"
     ]
    },
    {
     "name": "stdout",
     "output_type": "stream",
     "text": [
      "++++++++++++++++index:19++++++++++++++++++++++++\n",
      "正确表名： actor, musical\n",
      "预测表名： actor, musical\n",
      "############################################\n"
     ]
    },
    {
     "name": "stderr",
     "output_type": "stream",
     "text": [
      "\r",
      " 12%|█████████▋                                                                        | 21/178 [02:01<14:53,  5.69s/it]"
     ]
    },
    {
     "name": "stdout",
     "output_type": "stream",
     "text": [
      "++++++++++++++++index:20++++++++++++++++++++++++\n",
      "正确表名： entrepreneur, people\n",
      "预测表名： entrepreneur, people\n",
      "############################################\n"
     ]
    },
    {
     "name": "stderr",
     "output_type": "stream",
     "text": [
      "\r",
      " 12%|██████████▏                                                                       | 22/178 [02:07<14:56,  5.75s/it]"
     ]
    },
    {
     "name": "stdout",
     "output_type": "stream",
     "text": [
      "++++++++++++++++index:21++++++++++++++++++++++++\n",
      "正确表名： entrepreneur, people\n",
      "预测表名： entrepreneur, people\n",
      "############################################\n"
     ]
    },
    {
     "name": "stderr",
     "output_type": "stream",
     "text": [
      "\r",
      " 13%|██████████▌                                                                       | 23/178 [02:13<14:54,  5.77s/it]"
     ]
    },
    {
     "name": "stdout",
     "output_type": "stream",
     "text": [
      "++++++++++++++++index:22++++++++++++++++++++++++\n",
      "正确表名： people\n",
      "预测表名： people\n",
      "############################################\n"
     ]
    },
    {
     "name": "stderr",
     "output_type": "stream",
     "text": [
      "\r",
      " 13%|███████████                                                                       | 24/178 [02:19<14:49,  5.78s/it]"
     ]
    },
    {
     "name": "stdout",
     "output_type": "stream",
     "text": [
      "++++++++++++++++index:23++++++++++++++++++++++++\n",
      "正确表名： entrepreneur\n",
      "预测表名： None\n",
      "############################################\n"
     ]
    },
    {
     "name": "stderr",
     "output_type": "stream",
     "text": [
      "\r",
      " 14%|███████████▌                                                                      | 25/178 [02:25<14:46,  5.79s/it]"
     ]
    },
    {
     "name": "stdout",
     "output_type": "stream",
     "text": [
      "++++++++++++++++index:24++++++++++++++++++++++++\n",
      "正确表名： tourist_attractions, visitors, visits\n",
      "预测表名： tourist_attractions, visits, visitors\n",
      "############################################\n"
     ]
    },
    {
     "name": "stderr",
     "output_type": "stream",
     "text": [
      "\r",
      " 15%|███████████▉                                                                      | 26/178 [02:30<14:42,  5.81s/it]"
     ]
    },
    {
     "name": "stdout",
     "output_type": "stream",
     "text": [
      "++++++++++++++++index:25++++++++++++++++++++++++\n",
      "正确表名： visits\n",
      "预测表名： visits\n",
      "############################################\n"
     ]
    },
    {
     "name": "stderr",
     "output_type": "stream",
     "text": [
      "\r",
      " 15%|████████████▍                                                                     | 27/178 [02:36<14:33,  5.79s/it]"
     ]
    },
    {
     "name": "stdout",
     "output_type": "stream",
     "text": [
      "++++++++++++++++index:26++++++++++++++++++++++++\n",
      "正确表名： locations, tourist_attractions\n",
      "预测表名： tourist_attractions, locations\n",
      "############################################\n"
     ]
    },
    {
     "name": "stderr",
     "output_type": "stream",
     "text": [
      "\r",
      " 16%|████████████▉                                                                     | 28/178 [02:42<14:30,  5.80s/it]"
     ]
    },
    {
     "name": "stdout",
     "output_type": "stream",
     "text": [
      "++++++++++++++++index:27++++++++++++++++++++++++\n",
      "正确表名： tourist_attractions\n",
      "预测表名： tourist_attractions\n",
      "############################################\n"
     ]
    },
    {
     "name": "stderr",
     "output_type": "stream",
     "text": [
      "\r",
      " 16%|█████████████▎                                                                    | 29/178 [02:48<14:30,  5.84s/it]"
     ]
    },
    {
     "name": "stdout",
     "output_type": "stream",
     "text": [
      "++++++++++++++++index:28++++++++++++++++++++++++\n",
      "正确表名： museums, tourist_attractions\n",
      "预测表名： museums, tourist_attractions\n",
      "############################################\n"
     ]
    },
    {
     "name": "stderr",
     "output_type": "stream",
     "text": [
      "\r",
      " 17%|█████████████▊                                                                    | 30/178 [02:54<14:21,  5.82s/it]"
     ]
    },
    {
     "name": "stdout",
     "output_type": "stream",
     "text": [
      "++++++++++++++++index:29++++++++++++++++++++++++\n",
      "正确表名： locations, tourist_attractions\n",
      "预测表名： tourist_attractions, locations\n",
      "############################################\n"
     ]
    },
    {
     "name": "stderr",
     "output_type": "stream",
     "text": [
      "\r",
      " 17%|██████████████▎                                                                   | 31/178 [02:59<14:14,  5.81s/it]"
     ]
    },
    {
     "name": "stdout",
     "output_type": "stream",
     "text": [
      "++++++++++++++++index:30++++++++++++++++++++++++\n",
      "正确表名： photos\n",
      "预测表名： photos\n",
      "############################################\n"
     ]
    },
    {
     "name": "stderr",
     "output_type": "stream",
     "text": [
      "\r",
      " 18%|██████████████▋                                                                   | 32/178 [03:05<14:14,  5.85s/it]"
     ]
    },
    {
     "name": "stdout",
     "output_type": "stream",
     "text": [
      "++++++++++++++++index:31++++++++++++++++++++++++\n",
      "正确表名： staff, tourist_attractions\n",
      "预测表名： staff, tourist_attractions\n",
      "############################################\n"
     ]
    },
    {
     "name": "stderr",
     "output_type": "stream",
     "text": [
      "\r",
      " 19%|███████████████▏                                                                  | 33/178 [03:11<14:05,  5.83s/it]"
     ]
    },
    {
     "name": "stdout",
     "output_type": "stream",
     "text": [
      "++++++++++++++++index:32++++++++++++++++++++++++\n",
      "正确表名： elimination\n",
      "预测表名： elimination\n",
      "############################################\n"
     ]
    },
    {
     "name": "stderr",
     "output_type": "stream",
     "text": [
      "\r",
      " 19%|███████████████▋                                                                  | 34/178 [03:17<13:57,  5.81s/it]"
     ]
    },
    {
     "name": "stdout",
     "output_type": "stream",
     "text": [
      "++++++++++++++++index:33++++++++++++++++++++++++\n",
      "正确表名： wrestler\n",
      "预测表名： wrestler\n",
      "############################################\n"
     ]
    },
    {
     "name": "stderr",
     "output_type": "stream",
     "text": [
      "\r",
      " 20%|████████████████                                                                  | 35/178 [03:23<13:48,  5.79s/it]"
     ]
    },
    {
     "name": "stdout",
     "output_type": "stream",
     "text": [
      "++++++++++++++++index:34++++++++++++++++++++++++\n",
      "正确表名： wrestler\n",
      "预测表名： wrestler\n",
      "############################################\n"
     ]
    },
    {
     "name": "stderr",
     "output_type": "stream",
     "text": [
      "\r",
      " 20%|████████████████▌                                                                 | 36/178 [03:29<13:44,  5.81s/it]"
     ]
    },
    {
     "name": "stdout",
     "output_type": "stream",
     "text": [
      "++++++++++++++++index:35++++++++++++++++++++++++\n",
      "正确表名： elimination\n",
      "预测表名： elimination\n",
      "############################################\n"
     ]
    },
    {
     "name": "stderr",
     "output_type": "stream",
     "text": [
      "\r",
      " 21%|█████████████████                                                                 | 37/178 [03:34<13:30,  5.75s/it]"
     ]
    },
    {
     "name": "stdout",
     "output_type": "stream",
     "text": [
      "++++++++++++++++index:36++++++++++++++++++++++++\n",
      "正确表名： user, tip\n",
      "预测表名： tip, user\n",
      "############################################\n"
     ]
    },
    {
     "name": "stderr",
     "output_type": "stream",
     "text": [
      "\r",
      " 21%|█████████████████▌                                                                | 38/178 [03:40<13:26,  5.76s/it]"
     ]
    },
    {
     "name": "stdout",
     "output_type": "stream",
     "text": [
      "++++++++++++++++index:37++++++++++++++++++++++++\n",
      "正确表名： category, business, review, user\n",
      "预测表名： category, business, review, user\n",
      "############################################\n"
     ]
    },
    {
     "name": "stderr",
     "output_type": "stream",
     "text": [
      "\r",
      " 22%|█████████████████▉                                                                | 39/178 [03:46<13:25,  5.79s/it]"
     ]
    },
    {
     "name": "stdout",
     "output_type": "stream",
     "text": [
      "++++++++++++++++index:38++++++++++++++++++++++++\n",
      "正确表名： category, business, review, user\n",
      "预测表名： category, business, review, user\n",
      "############################################\n"
     ]
    },
    {
     "name": "stderr",
     "output_type": "stream",
     "text": [
      "\r",
      " 22%|██████████████████▍                                                               | 40/178 [03:52<13:25,  5.83s/it]"
     ]
    },
    {
     "name": "stdout",
     "output_type": "stream",
     "text": [
      "++++++++++++++++index:39++++++++++++++++++++++++\n",
      "正确表名： category, business, neighbourhood\n",
      "预测表名： category, business, neighbourhood\n",
      "############################################\n"
     ]
    },
    {
     "name": "stderr",
     "output_type": "stream",
     "text": [
      "\r",
      " 23%|██████████████████▉                                                               | 41/178 [03:58<13:20,  5.85s/it]"
     ]
    },
    {
     "name": "stdout",
     "output_type": "stream",
     "text": [
      "++++++++++++++++index:40++++++++++++++++++++++++\n",
      "正确表名： category, business\n",
      "预测表名： category, business\n",
      "############################################\n"
     ]
    },
    {
     "name": "stderr",
     "output_type": "stream",
     "text": [
      "\r",
      " 24%|███████████████████▎                                                              | 42/178 [04:03<13:08,  5.80s/it]"
     ]
    },
    {
     "name": "stdout",
     "output_type": "stream",
     "text": [
      "++++++++++++++++index:41++++++++++++++++++++++++\n",
      "正确表名： user, review\n",
      "预测表名： review, user\n",
      "############################################\n"
     ]
    },
    {
     "name": "stderr",
     "output_type": "stream",
     "text": [
      "\r",
      " 24%|███████████████████▊                                                              | 43/178 [04:09<13:03,  5.81s/it]"
     ]
    },
    {
     "name": "stdout",
     "output_type": "stream",
     "text": [
      "++++++++++++++++index:42++++++++++++++++++++++++\n",
      "正确表名： category, business\n",
      "预测表名： category, business, restaurant, location\n",
      "############################################\n"
     ]
    },
    {
     "name": "stderr",
     "output_type": "stream",
     "text": [
      "\r",
      " 25%|████████████████████▎                                                             | 44/178 [04:15<12:56,  5.79s/it]"
     ]
    },
    {
     "name": "stdout",
     "output_type": "stream",
     "text": [
      "++++++++++++++++index:43++++++++++++++++++++++++\n",
      "正确表名： user, review\n",
      "预测表名： review\n",
      "############################################\n"
     ]
    },
    {
     "name": "stderr",
     "output_type": "stream",
     "text": [
      "\r",
      " 25%|████████████████████▋                                                             | 45/178 [04:21<12:45,  5.76s/it]"
     ]
    },
    {
     "name": "stdout",
     "output_type": "stream",
     "text": [
      "++++++++++++++++index:44++++++++++++++++++++++++\n",
      "正确表名： review, business, user\n",
      "预测表名： review, business, user\n",
      "############################################\n"
     ]
    },
    {
     "name": "stderr",
     "output_type": "stream",
     "text": [
      "\r",
      " 26%|█████████████████████▏                                                            | 46/178 [04:26<12:41,  5.77s/it]"
     ]
    },
    {
     "name": "stdout",
     "output_type": "stream",
     "text": [
      "++++++++++++++++index:45++++++++++++++++++++++++\n",
      "正确表名： tip, business, user\n",
      "预测表名： tip, business, user\n",
      "############################################\n"
     ]
    },
    {
     "name": "stderr",
     "output_type": "stream",
     "text": [
      "\r",
      " 26%|█████████████████████▋                                                            | 47/178 [04:32<12:38,  5.79s/it]"
     ]
    },
    {
     "name": "stdout",
     "output_type": "stream",
     "text": [
      "++++++++++++++++index:46++++++++++++++++++++++++\n",
      "正确表名： review, business\n",
      "预测表名： review, business\n",
      "############################################\n"
     ]
    },
    {
     "name": "stderr",
     "output_type": "stream",
     "text": [
      "\r",
      " 27%|██████████████████████                                                            | 48/178 [04:38<12:36,  5.82s/it]"
     ]
    },
    {
     "name": "stdout",
     "output_type": "stream",
     "text": [
      "++++++++++++++++index:47++++++++++++++++++++++++\n",
      "正确表名： behavior_incident\n",
      "预测表名： behavior_incident\n",
      "############################################\n"
     ]
    },
    {
     "name": "stderr",
     "output_type": "stream",
     "text": [
      "\r",
      " 28%|██████████████████████▌                                                           | 49/178 [04:44<12:34,  5.85s/it]"
     ]
    },
    {
     "name": "stdout",
     "output_type": "stream",
     "text": [
      "++++++++++++++++index:48++++++++++++++++++++++++\n",
      "正确表名： student_addresses\n",
      "预测表名： student_addresses\n",
      "############################################\n"
     ]
    },
    {
     "name": "stderr",
     "output_type": "stream",
     "text": [
      "\r",
      " 28%|███████████████████████                                                           | 50/178 [04:50<12:25,  5.83s/it]"
     ]
    },
    {
     "name": "stdout",
     "output_type": "stream",
     "text": [
      "++++++++++++++++index:49++++++++++++++++++++++++\n",
      "正确表名： teachers\n",
      "预测表名： teachers\n",
      "############################################\n"
     ]
    },
    {
     "name": "stderr",
     "output_type": "stream",
     "text": [
      "\r",
      " 29%|███████████████████████▍                                                          | 51/178 [04:56<12:25,  5.87s/it]"
     ]
    },
    {
     "name": "stdout",
     "output_type": "stream",
     "text": [
      "++++++++++++++++index:50++++++++++++++++++++++++\n",
      "正确表名： students_in_detention\n",
      "预测表名： detention, students_in_detention\n",
      "############################################\n"
     ]
    },
    {
     "name": "stderr",
     "output_type": "stream",
     "text": [
      "\r",
      " 29%|███████████████████████▉                                                          | 52/178 [05:02<12:19,  5.87s/it]"
     ]
    },
    {
     "name": "stdout",
     "output_type": "stream",
     "text": [
      "++++++++++++++++index:51++++++++++++++++++++++++\n",
      "正确表名： film\n",
      "预测表名： film\n",
      "############################################\n"
     ]
    },
    {
     "name": "stderr",
     "output_type": "stream",
     "text": [
      "\r",
      " 30%|████████████████████████▍                                                         | 53/178 [05:07<12:11,  5.86s/it]"
     ]
    },
    {
     "name": "stdout",
     "output_type": "stream",
     "text": [
      "++++++++++++++++index:52++++++++++++++++++++++++\n",
      "正确表名： film\n",
      "预测表名： film\n",
      "############################################\n"
     ]
    },
    {
     "name": "stderr",
     "output_type": "stream",
     "text": [
      "\r",
      " 30%|████████████████████████▉                                                         | 54/178 [05:13<12:07,  5.87s/it]"
     ]
    },
    {
     "name": "stdout",
     "output_type": "stream",
     "text": [
      "++++++++++++++++index:53++++++++++++++++++++++++\n",
      "正确表名： film_market_estimation\n",
      "预测表名： film_market_estimation\n",
      "############################################\n"
     ]
    },
    {
     "name": "stderr",
     "output_type": "stream",
     "text": [
      "\r",
      " 31%|█████████████████████████▎                                                        | 55/178 [05:19<11:57,  5.83s/it]"
     ]
    },
    {
     "name": "stdout",
     "output_type": "stream",
     "text": [
      "++++++++++++++++index:54++++++++++++++++++++++++\n",
      "正确表名： film\n",
      "预测表名： film\n",
      "############################################\n"
     ]
    },
    {
     "name": "stderr",
     "output_type": "stream",
     "text": [
      "\r",
      " 31%|█████████████████████████▊                                                        | 56/178 [05:25<12:03,  5.93s/it]"
     ]
    },
    {
     "name": "stdout",
     "output_type": "stream",
     "text": [
      "++++++++++++++++index:55++++++++++++++++++++++++\n",
      "正确表名： catalog_contents, catalog_contents_Additional_Attributes\n",
      "预测表名： catalog_contents, catalog_contents_Additional_Attributes\n",
      "############################################\n"
     ]
    },
    {
     "name": "stderr",
     "output_type": "stream",
     "text": [
      "\r",
      " 32%|██████████████████████████▎                                                       | 57/178 [05:31<11:53,  5.90s/it]"
     ]
    },
    {
     "name": "stdout",
     "output_type": "stream",
     "text": [
      "++++++++++++++++index:56++++++++++++++++++++++++\n",
      "正确表名： catalog_structure\n",
      "预测表名： catalog_structure\n",
      "############################################\n"
     ]
    },
    {
     "name": "stderr",
     "output_type": "stream",
     "text": [
      "\r",
      " 33%|██████████████████████████▋                                                       | 58/178 [05:37<11:36,  5.81s/it]"
     ]
    },
    {
     "name": "stdout",
     "output_type": "stream",
     "text": [
      "++++++++++++++++index:57++++++++++++++++++++++++\n",
      "正确表名： catalogs\n",
      "预测表名： catalogs\n",
      "############################################\n"
     ]
    },
    {
     "name": "stderr",
     "output_type": "stream",
     "text": [
      "\r",
      " 33%|███████████████████████████▏                                                      | 59/178 [05:42<11:30,  5.80s/it]"
     ]
    },
    {
     "name": "stdout",
     "output_type": "stream",
     "text": [
      "++++++++++++++++index:58++++++++++++++++++++++++\n",
      "正确表名： catalog_contents\n",
      "预测表名： catalog_contents\n",
      "############################################\n"
     ]
    },
    {
     "name": "stderr",
     "output_type": "stream",
     "text": [
      "\r",
      " 34%|███████████████████████████▋                                                      | 60/178 [05:48<11:24,  5.80s/it]"
     ]
    },
    {
     "name": "stdout",
     "output_type": "stream",
     "text": [
      "++++++++++++++++index:59++++++++++++++++++++++++\n",
      "正确表名： airports\n",
      "预测表名： airports\n",
      "############################################\n"
     ]
    },
    {
     "name": "stderr",
     "output_type": "stream",
     "text": [
      "\r",
      " 34%|████████████████████████████                                                      | 61/178 [05:54<11:16,  5.78s/it]"
     ]
    },
    {
     "name": "stdout",
     "output_type": "stream",
     "text": [
      "++++++++++++++++index:60++++++++++++++++++++++++\n",
      "正确表名： airports\n",
      "预测表名： airports\n",
      "############################################\n"
     ]
    },
    {
     "name": "stderr",
     "output_type": "stream",
     "text": [
      "\r",
      " 35%|████████████████████████████▌                                                     | 62/178 [06:00<11:08,  5.76s/it]"
     ]
    },
    {
     "name": "stdout",
     "output_type": "stream",
     "text": [
      "++++++++++++++++index:61++++++++++++++++++++++++\n",
      "正确表名： airports\n",
      "预测表名： airports\n",
      "############################################\n"
     ]
    },
    {
     "name": "stderr",
     "output_type": "stream",
     "text": [
      "\r",
      " 35%|█████████████████████████████                                                     | 63/178 [06:05<10:59,  5.73s/it]"
     ]
    },
    {
     "name": "stdout",
     "output_type": "stream",
     "text": [
      "++++++++++++++++index:62++++++++++++++++++++++++\n",
      "正确表名： airlines\n",
      "预测表名： airlines\n",
      "############################################\n"
     ]
    },
    {
     "name": "stderr",
     "output_type": "stream",
     "text": [
      "\r",
      " 36%|█████████████████████████████▍                                                    | 64/178 [06:11<10:53,  5.73s/it]"
     ]
    },
    {
     "name": "stdout",
     "output_type": "stream",
     "text": [
      "++++++++++++++++index:63++++++++++++++++++++++++\n",
      "正确表名： airports\n",
      "预测表名： airports\n",
      "############################################\n"
     ]
    },
    {
     "name": "stderr",
     "output_type": "stream",
     "text": [
      "\r",
      " 37%|█████████████████████████████▉                                                    | 65/178 [06:17<10:49,  5.74s/it]"
     ]
    },
    {
     "name": "stdout",
     "output_type": "stream",
     "text": [
      "++++++++++++++++index:64++++++++++++++++++++++++\n",
      "正确表名： airports\n",
      "预测表名： airports\n",
      "############################################\n"
     ]
    },
    {
     "name": "stderr",
     "output_type": "stream",
     "text": [
      "\r",
      " 37%|██████████████████████████████▍                                                   | 66/178 [06:23<10:42,  5.74s/it]"
     ]
    },
    {
     "name": "stdout",
     "output_type": "stream",
     "text": [
      "++++++++++++++++index:65++++++++++++++++++++++++\n",
      "正确表名： airlines\n",
      "预测表名： airlines\n",
      "############################################\n"
     ]
    },
    {
     "name": "stderr",
     "output_type": "stream",
     "text": [
      "\r",
      " 38%|██████████████████████████████▊                                                   | 67/178 [06:28<10:34,  5.72s/it]"
     ]
    },
    {
     "name": "stdout",
     "output_type": "stream",
     "text": [
      "++++++++++++++++index:66++++++++++++++++++++++++\n",
      "正确表名： airlines, routes\n",
      "预测表名： routes, airlines\n",
      "############################################\n"
     ]
    },
    {
     "name": "stderr",
     "output_type": "stream",
     "text": [
      "\r",
      " 38%|███████████████████████████████▎                                                  | 68/178 [06:34<10:26,  5.70s/it]"
     ]
    },
    {
     "name": "stdout",
     "output_type": "stream",
     "text": [
      "++++++++++++++++index:67++++++++++++++++++++++++\n",
      "正确表名： game\n",
      "预测表名： game, basketball_match\n",
      "############################################\n"
     ]
    },
    {
     "name": "stderr",
     "output_type": "stream",
     "text": [
      "\r",
      " 39%|███████████████████████████████▊                                                  | 69/178 [06:40<10:24,  5.73s/it]"
     ]
    },
    {
     "name": "stdout",
     "output_type": "stream",
     "text": [
      "++++++++++++++++index:68++++++++++++++++++++++++\n",
      "正确表名： physician, patient\n",
      "预测表名： physician, patient\n",
      "############################################\n"
     ]
    },
    {
     "name": "stderr",
     "output_type": "stream",
     "text": [
      "\r",
      " 39%|████████████████████████████████▏                                                 | 70/178 [06:45<10:18,  5.73s/it]"
     ]
    },
    {
     "name": "stdout",
     "output_type": "stream",
     "text": [
      "++++++++++++++++index:69++++++++++++++++++++++++\n",
      "正确表名： department\n",
      "预测表名： None\n",
      "############################################\n"
     ]
    },
    {
     "name": "stderr",
     "output_type": "stream",
     "text": [
      "\r",
      " 40%|████████████████████████████████▋                                                 | 71/178 [06:51<10:09,  5.69s/it]"
     ]
    },
    {
     "name": "stdout",
     "output_type": "stream",
     "text": [
      "++++++++++++++++index:70++++++++++++++++++++++++\n",
      "正确表名： procedures\n",
      "预测表名： procedures\n",
      "############################################\n"
     ]
    },
    {
     "name": "stderr",
     "output_type": "stream",
     "text": [
      "\r",
      " 40%|█████████████████████████████████▏                                                | 72/178 [06:57<10:01,  5.67s/it]"
     ]
    },
    {
     "name": "stdout",
     "output_type": "stream",
     "text": [
      "++++++++++++++++index:71++++++++++++++++++++++++\n",
      "正确表名： procedures, physician, trained_in\n",
      "预测表名： physician, trained_in, procedures\n",
      "############################################\n"
     ]
    },
    {
     "name": "stderr",
     "output_type": "stream",
     "text": [
      "\r",
      " 41%|█████████████████████████████████▋                                                | 73/178 [07:02<09:58,  5.70s/it]"
     ]
    },
    {
     "name": "stdout",
     "output_type": "stream",
     "text": [
      "++++++++++++++++index:72++++++++++++++++++++++++\n",
      "正确表名： physician, prescribes\n",
      "预测表名： physician, prescribes\n",
      "############################################\n"
     ]
    },
    {
     "name": "stderr",
     "output_type": "stream",
     "text": [
      "\r",
      " 42%|██████████████████████████████████                                                | 74/178 [07:08<09:50,  5.68s/it]"
     ]
    },
    {
     "name": "stdout",
     "output_type": "stream",
     "text": [
      "++++++++++++++++index:73++++++++++++++++++++++++\n",
      "正确表名： appointment\n",
      "预测表名： appointment\n",
      "############################################\n"
     ]
    },
    {
     "name": "stderr",
     "output_type": "stream",
     "text": [
      "\r",
      " 42%|██████████████████████████████████▌                                               | 75/178 [07:14<09:42,  5.65s/it]"
     ]
    },
    {
     "name": "stdout",
     "output_type": "stream",
     "text": [
      "++++++++++++++++index:74++++++++++++++++++++++++\n",
      "正确表名： nurse, on_call\n",
      "预测表名： nurse, on_call\n",
      "############################################\n"
     ]
    },
    {
     "name": "stderr",
     "output_type": "stream",
     "text": [
      "\r",
      " 43%|███████████████████████████████████                                               | 76/178 [07:19<09:38,  5.67s/it]"
     ]
    },
    {
     "name": "stdout",
     "output_type": "stream",
     "text": [
      "++++++++++++++++index:75++++++++++++++++++++++++\n",
      "正确表名： procedures, physician, trained_in\n",
      "预测表名： physician, trained_in, procedures\n",
      "############################################\n"
     ]
    },
    {
     "name": "stderr",
     "output_type": "stream",
     "text": [
      "\r",
      " 43%|███████████████████████████████████▍                                              | 77/178 [07:25<09:34,  5.69s/it]"
     ]
    },
    {
     "name": "stdout",
     "output_type": "stream",
     "text": [
      "++++++++++++++++index:76++++++++++++++++++++++++\n",
      "正确表名： department\n",
      "预测表名： None\n",
      "############################################\n"
     ]
    },
    {
     "name": "stderr",
     "output_type": "stream",
     "text": [
      "\r",
      " 44%|███████████████████████████████████▉                                              | 78/178 [07:31<09:27,  5.67s/it]"
     ]
    },
    {
     "name": "stdout",
     "output_type": "stream",
     "text": [
      "++++++++++++++++index:77++++++++++++++++++++++++\n",
      "正确表名： procedures, physician, trained_in\n",
      "预测表名： physician, trained_in, procedures\n",
      "############################################\n"
     ]
    },
    {
     "name": "stderr",
     "output_type": "stream",
     "text": [
      "\r",
      " 44%|████████████████████████████████████▍                                             | 79/178 [07:36<09:20,  5.66s/it]"
     ]
    },
    {
     "name": "stdout",
     "output_type": "stream",
     "text": [
      "++++++++++++++++index:78++++++++++++++++++++++++\n",
      "正确表名： buildings\n",
      "预测表名： buildings\n",
      "############################################\n"
     ]
    },
    {
     "name": "stderr",
     "output_type": "stream",
     "text": [
      "\r",
      " 45%|████████████████████████████████████▊                                             | 80/178 [07:42<09:09,  5.61s/it]"
     ]
    },
    {
     "name": "stdout",
     "output_type": "stream",
     "text": [
      "++++++++++++++++index:79++++++++++++++++++++++++\n",
      "正确表名： companies\n",
      "预测表名： companies, company\n",
      "############################################\n"
     ]
    },
    {
     "name": "stderr",
     "output_type": "stream",
     "text": [
      "\r",
      " 46%|█████████████████████████████████████▎                                            | 81/178 [07:48<09:05,  5.63s/it]"
     ]
    },
    {
     "name": "stdout",
     "output_type": "stream",
     "text": [
      "++++++++++++++++index:80++++++++++++++++++++++++\n",
      "正确表名： companies\n",
      "预测表名： companies\n",
      "############################################\n"
     ]
    },
    {
     "name": "stderr",
     "output_type": "stream",
     "text": [
      "\r",
      " 46%|█████████████████████████████████████▊                                            | 82/178 [07:53<09:01,  5.64s/it]"
     ]
    },
    {
     "name": "stdout",
     "output_type": "stream",
     "text": [
      "++++++++++++++++index:81++++++++++++++++++++++++\n",
      "正确表名： buildings\n",
      "预测表名： buildings\n",
      "############################################\n"
     ]
    },
    {
     "name": "stderr",
     "output_type": "stream",
     "text": [
      "\r",
      " 47%|██████████████████████████████████████▏                                           | 83/178 [07:59<08:56,  5.65s/it]"
     ]
    },
    {
     "name": "stdout",
     "output_type": "stream",
     "text": [
      "++++++++++++++++index:82++++++++++++++++++++++++\n",
      "正确表名： party\n",
      "预测表名： party\n",
      "############################################\n"
     ]
    },
    {
     "name": "stderr",
     "output_type": "stream",
     "text": [
      "\r",
      " 47%|██████████████████████████████████████▋                                           | 84/178 [08:05<08:51,  5.65s/it]"
     ]
    },
    {
     "name": "stdout",
     "output_type": "stream",
     "text": [
      "++++++++++++++++index:83++++++++++++++++++++++++\n",
      "正确表名： party\n",
      "预测表名： party\n",
      "############################################\n"
     ]
    },
    {
     "name": "stderr",
     "output_type": "stream",
     "text": [
      "\r",
      " 48%|███████████████████████████████████████▏                                          | 85/178 [08:10<08:47,  5.67s/it]"
     ]
    },
    {
     "name": "stdout",
     "output_type": "stream",
     "text": [
      "++++++++++++++++index:84++++++++++++++++++++++++\n",
      "正确表名： party\n",
      "预测表名： party\n",
      "############################################\n"
     ]
    },
    {
     "name": "stderr",
     "output_type": "stream",
     "text": [
      "\r",
      " 48%|███████████████████████████████████████▌                                          | 86/178 [08:16<08:46,  5.72s/it]"
     ]
    },
    {
     "name": "stdout",
     "output_type": "stream",
     "text": [
      "++++++++++++++++index:85++++++++++++++++++++++++\n",
      "正确表名： party_events, party\n",
      "预测表名： party, party_events\n",
      "############################################\n"
     ]
    },
    {
     "name": "stderr",
     "output_type": "stream",
     "text": [
      "\r",
      " 49%|████████████████████████████████████████                                          | 87/178 [08:22<08:47,  5.79s/it]"
     ]
    },
    {
     "name": "stdout",
     "output_type": "stream",
     "text": [
      "++++++++++++++++index:86++++++++++++++++++++++++\n",
      "正确表名： browser, accelerator_compatible_browser, web_client_accelerator\n",
      "预测表名： accelerator_compatible_browser, web_client_accelerator, browser\n",
      "############################################\n"
     ]
    },
    {
     "name": "stderr",
     "output_type": "stream",
     "text": [
      "\r",
      " 49%|████████████████████████████████████████▌                                         | 88/178 [08:28<08:43,  5.81s/it]"
     ]
    },
    {
     "name": "stdout",
     "output_type": "stream",
     "text": [
      "++++++++++++++++index:87++++++++++++++++++++++++\n",
      "正确表名： transactions, transactions_lots\n",
      "预测表名： transactions, transactions_lots\n",
      "############################################\n"
     ]
    },
    {
     "name": "stderr",
     "output_type": "stream",
     "text": [
      "\r",
      " 50%|█████████████████████████████████████████                                         | 89/178 [08:34<08:36,  5.80s/it]"
     ]
    },
    {
     "name": "stdout",
     "output_type": "stream",
     "text": [
      "++++++++++++++++index:88++++++++++++++++++++++++\n",
      "正确表名： investors\n",
      "预测表名： investors\n",
      "############################################\n"
     ]
    },
    {
     "name": "stderr",
     "output_type": "stream",
     "text": [
      "\r",
      " 51%|█████████████████████████████████████████▍                                        | 90/178 [08:40<08:34,  5.84s/it]"
     ]
    },
    {
     "name": "stdout",
     "output_type": "stream",
     "text": [
      "++++++++++++++++index:89++++++++++++++++++++++++\n",
      "正确表名： lots, transactions_lots\n",
      "预测表名： lots, transactions_lots\n",
      "############################################\n"
     ]
    },
    {
     "name": "stderr",
     "output_type": "stream",
     "text": [
      "\r",
      " 51%|█████████████████████████████████████████▉                                        | 91/178 [08:45<08:23,  5.79s/it]"
     ]
    },
    {
     "name": "stdout",
     "output_type": "stream",
     "text": [
      "++++++++++++++++index:90++++++++++++++++++++++++\n",
      "正确表名： transactions\n",
      "预测表名： transactions\n",
      "############################################\n"
     ]
    },
    {
     "name": "stderr",
     "output_type": "stream",
     "text": [
      "\r",
      " 52%|██████████████████████████████████████████▍                                       | 92/178 [08:51<08:14,  5.75s/it]"
     ]
    },
    {
     "name": "stdout",
     "output_type": "stream",
     "text": [
      "++++++++++++++++index:91++++++++++++++++++++++++\n",
      "正确表名： university\n",
      "预测表名： university\n",
      "############################################\n"
     ]
    },
    {
     "name": "stderr",
     "output_type": "stream",
     "text": [
      "\r",
      " 52%|██████████████████████████████████████████▊                                       | 93/178 [08:57<08:06,  5.73s/it]"
     ]
    },
    {
     "name": "stdout",
     "output_type": "stream",
     "text": [
      "++++++++++++++++index:92++++++++++++++++++++++++\n",
      "正确表名： university\n",
      "预测表名： university\n",
      "############################################\n"
     ]
    },
    {
     "name": "stderr",
     "output_type": "stream",
     "text": [
      "\r",
      " 53%|███████████████████████████████████████████▎                                      | 94/178 [09:02<07:58,  5.70s/it]"
     ]
    },
    {
     "name": "stdout",
     "output_type": "stream",
     "text": [
      "++++++++++++++++index:93++++++++++++++++++++++++\n",
      "正确表名： university\n",
      "预测表名： university\n",
      "############################################\n"
     ]
    },
    {
     "name": "stderr",
     "output_type": "stream",
     "text": [
      "\r",
      " 53%|███████████████████████████████████████████▊                                      | 95/178 [09:08<07:56,  5.74s/it]"
     ]
    },
    {
     "name": "stdout",
     "output_type": "stream",
     "text": [
      "++++++++++++++++index:94++++++++++++++++++++++++\n",
      "正确表名： university, basketball_match\n",
      "预测表名： university, basketball_match\n",
      "############################################\n"
     ]
    },
    {
     "name": "stderr",
     "output_type": "stream",
     "text": [
      "\r",
      " 54%|████████████████████████████████████████████▏                                     | 96/178 [09:14<07:52,  5.76s/it]"
     ]
    },
    {
     "name": "stdout",
     "output_type": "stream",
     "text": [
      "++++++++++++++++index:95++++++++++++++++++++++++\n",
      "正确表名： restaurant, geographic, location\n",
      "预测表名： restaurant, location\n",
      "############################################\n"
     ]
    },
    {
     "name": "stderr",
     "output_type": "stream",
     "text": [
      "\r",
      " 54%|████████████████████████████████████████████▋                                     | 97/178 [09:20<07:47,  5.77s/it]"
     ]
    },
    {
     "name": "stdout",
     "output_type": "stream",
     "text": [
      "++++++++++++++++index:96++++++++++++++++++++++++\n",
      "正确表名： restaurant, location\n",
      "预测表名： restaurant, location\n",
      "############################################\n"
     ]
    },
    {
     "name": "stderr",
     "output_type": "stream",
     "text": [
      "\r",
      " 55%|█████████████████████████████████████████████▏                                    | 98/178 [09:25<07:41,  5.77s/it]"
     ]
    },
    {
     "name": "stdout",
     "output_type": "stream",
     "text": [
      "++++++++++++++++index:97++++++++++++++++++++++++\n",
      "正确表名： location, restaurant, geographic\n",
      "预测表名： restaurant, geographic, location\n",
      "############################################\n"
     ]
    },
    {
     "name": "stderr",
     "output_type": "stream",
     "text": [
      "\r",
      " 56%|█████████████████████████████████████████████▌                                    | 99/178 [09:31<07:34,  5.75s/it]"
     ]
    },
    {
     "name": "stdout",
     "output_type": "stream",
     "text": [
      "++++++++++++++++index:98++++++++++++++++++++++++\n",
      "正确表名： restaurant, location\n",
      "预测表名： restaurant, location\n",
      "############################################\n"
     ]
    },
    {
     "name": "stderr",
     "output_type": "stream",
     "text": [
      "\r",
      " 56%|█████████████████████████████████████████████▌                                   | 100/178 [09:37<07:31,  5.79s/it]"
     ]
    },
    {
     "name": "stdout",
     "output_type": "stream",
     "text": [
      "++++++++++++++++index:99++++++++++++++++++++++++\n",
      "正确表名： restaurant, location\n",
      "预测表名： restaurant, location\n",
      "############################################\n"
     ]
    },
    {
     "name": "stderr",
     "output_type": "stream",
     "text": [
      "\r",
      " 57%|█████████████████████████████████████████████▉                                   | 101/178 [09:43<07:27,  5.82s/it]"
     ]
    },
    {
     "name": "stdout",
     "output_type": "stream",
     "text": [
      "++++++++++++++++index:100++++++++++++++++++++++++\n",
      "正确表名： restaurant, location\n",
      "预测表名： restaurant, location\n",
      "############################################\n"
     ]
    },
    {
     "name": "stderr",
     "output_type": "stream",
     "text": [
      "\r",
      " 57%|██████████████████████████████████████████████▍                                  | 102/178 [09:49<07:22,  5.82s/it]"
     ]
    },
    {
     "name": "stdout",
     "output_type": "stream",
     "text": [
      "++++++++++++++++index:101++++++++++++++++++++++++\n",
      "正确表名： restaurant, location\n",
      "预测表名： restaurant, location\n",
      "############################################\n"
     ]
    },
    {
     "name": "stderr",
     "output_type": "stream",
     "text": [
      "\r",
      " 58%|██████████████████████████████████████████████▊                                  | 103/178 [09:55<07:17,  5.83s/it]"
     ]
    },
    {
     "name": "stdout",
     "output_type": "stream",
     "text": [
      "++++++++++++++++index:102++++++++++++++++++++++++\n",
      "正确表名： restaurant, location\n",
      "预测表名： restaurant, location\n",
      "############################################\n"
     ]
    },
    {
     "name": "stderr",
     "output_type": "stream",
     "text": [
      "\r",
      " 58%|███████████████████████████████████████████████▎                                 | 104/178 [10:00<07:12,  5.84s/it]"
     ]
    },
    {
     "name": "stdout",
     "output_type": "stream",
     "text": [
      "++++++++++++++++index:103++++++++++++++++++++++++\n",
      "正确表名： restaurant, location\n",
      "预测表名： restaurant, location\n",
      "############################################\n"
     ]
    },
    {
     "name": "stderr",
     "output_type": "stream",
     "text": [
      "\r",
      " 59%|███████████████████████████████████████████████▊                                 | 105/178 [10:06<07:08,  5.86s/it]"
     ]
    },
    {
     "name": "stdout",
     "output_type": "stream",
     "text": [
      "++++++++++++++++index:104++++++++++++++++++++++++\n",
      "正确表名： restaurant, geographic, location\n",
      "预测表名： restaurant, geographic, location\n",
      "############################################\n"
     ]
    },
    {
     "name": "stderr",
     "output_type": "stream",
     "text": [
      "\r",
      " 60%|████████████████████████████████████████████████▏                                | 106/178 [10:12<07:03,  5.88s/it]"
     ]
    },
    {
     "name": "stdout",
     "output_type": "stream",
     "text": [
      "++++++++++++++++index:105++++++++++++++++++++++++\n",
      "正确表名： restaurant, geographic, location\n",
      "预测表名： restaurant, geographic, location\n",
      "############################################\n"
     ]
    },
    {
     "name": "stderr",
     "output_type": "stream",
     "text": [
      "\r",
      " 60%|████████████████████████████████████████████████▋                                | 107/178 [10:18<06:57,  5.88s/it]"
     ]
    },
    {
     "name": "stdout",
     "output_type": "stream",
     "text": [
      "++++++++++++++++index:106++++++++++++++++++++++++\n",
      "正确表名： restaurant, location\n",
      "预测表名： restaurant, location\n",
      "############################################\n"
     ]
    },
    {
     "name": "stderr",
     "output_type": "stream",
     "text": [
      "\r",
      " 61%|█████████████████████████████████████████████████▏                               | 108/178 [10:24<06:51,  5.88s/it]"
     ]
    },
    {
     "name": "stdout",
     "output_type": "stream",
     "text": [
      "++++++++++++++++index:107++++++++++++++++++++++++\n",
      "正确表名： user_profiles\n",
      "预测表名： user_profiles, follows\n",
      "############################################\n"
     ]
    },
    {
     "name": "stderr",
     "output_type": "stream",
     "text": [
      "\r",
      " 61%|█████████████████████████████████████████████████▌                               | 109/178 [10:30<06:44,  5.86s/it]"
     ]
    },
    {
     "name": "stdout",
     "output_type": "stream",
     "text": [
      "++++++++++++++++index:108++++++++++++++++++++++++\n",
      "正确表名： user_profiles\n",
      "预测表名： user_profiles\n",
      "############################################\n"
     ]
    },
    {
     "name": "stderr",
     "output_type": "stream",
     "text": [
      "\r",
      " 62%|██████████████████████████████████████████████████                               | 110/178 [10:36<06:35,  5.82s/it]"
     ]
    },
    {
     "name": "stdout",
     "output_type": "stream",
     "text": [
      "++++++++++++++++index:109++++++++++++++++++++++++\n",
      "正确表名： weather\n",
      "预测表名： weather\n",
      "############################################\n"
     ]
    },
    {
     "name": "stderr",
     "output_type": "stream",
     "text": [
      "\r",
      " 62%|██████████████████████████████████████████████████▌                              | 111/178 [10:41<06:27,  5.79s/it]"
     ]
    },
    {
     "name": "stdout",
     "output_type": "stream",
     "text": [
      "++++++++++++++++index:110++++++++++++++++++++++++\n",
      "正确表名： weather, trip\n",
      "预测表名： trip, weather\n",
      "############################################\n"
     ]
    },
    {
     "name": "stderr",
     "output_type": "stream",
     "text": [
      "\r",
      " 63%|██████████████████████████████████████████████████▉                              | 112/178 [10:47<06:19,  5.76s/it]"
     ]
    },
    {
     "name": "stdout",
     "output_type": "stream",
     "text": [
      "++++++++++++++++index:111++++++++++++++++++++++++\n",
      "正确表名： trip, weather\n",
      "预测表名： trip, weather\n",
      "############################################\n"
     ]
    },
    {
     "name": "stderr",
     "output_type": "stream",
     "text": [
      "\r",
      " 63%|███████████████████████████████████████████████████▍                             | 113/178 [10:53<06:13,  5.75s/it]"
     ]
    },
    {
     "name": "stdout",
     "output_type": "stream",
     "text": [
      "++++++++++++++++index:112++++++++++++++++++++++++\n",
      "正确表名： trip\n",
      "预测表名： trip\n",
      "############################################\n"
     ]
    },
    {
     "name": "stderr",
     "output_type": "stream",
     "text": [
      "\r",
      " 64%|███████████████████████████████████████████████████▉                             | 114/178 [10:59<06:10,  5.79s/it]"
     ]
    },
    {
     "name": "stdout",
     "output_type": "stream",
     "text": [
      "++++++++++++++++index:113++++++++++++++++++++++++\n",
      "正确表名： station, status\n",
      "预测表名： station, status\n",
      "############################################\n"
     ]
    },
    {
     "name": "stderr",
     "output_type": "stream",
     "text": [
      "\r",
      " 65%|████████████████████████████████████████████████████▎                            | 115/178 [11:04<06:04,  5.78s/it]"
     ]
    },
    {
     "name": "stdout",
     "output_type": "stream",
     "text": [
      "++++++++++++++++index:114++++++++++++++++++++++++\n",
      "正确表名： trip\n",
      "预测表名： trip\n",
      "############################################\n"
     ]
    },
    {
     "name": "stderr",
     "output_type": "stream",
     "text": [
      "\r",
      " 65%|████████████████████████████████████████████████████▊                            | 116/178 [11:10<05:57,  5.77s/it]"
     ]
    },
    {
     "name": "stdout",
     "output_type": "stream",
     "text": [
      "++++++++++++++++index:115++++++++++++++++++++++++\n",
      "正确表名： weather\n",
      "预测表名： weather\n",
      "############################################\n"
     ]
    },
    {
     "name": "stderr",
     "output_type": "stream",
     "text": [
      "\r",
      " 66%|█████████████████████████████████████████████████████▏                           | 117/178 [11:16<05:51,  5.77s/it]"
     ]
    },
    {
     "name": "stdout",
     "output_type": "stream",
     "text": [
      "++++++++++++++++index:116++++++++++++++++++++++++\n",
      "正确表名： station\n",
      "预测表名： station\n",
      "############################################\n"
     ]
    },
    {
     "name": "stderr",
     "output_type": "stream",
     "text": [
      "\r",
      " 66%|█████████████████████████████████████████████████████▋                           | 118/178 [11:22<05:46,  5.77s/it]"
     ]
    },
    {
     "name": "stdout",
     "output_type": "stream",
     "text": [
      "++++++++++++++++index:117++++++++++++++++++++++++\n",
      "正确表名： trip\n",
      "预测表名： trip\n",
      "############################################\n"
     ]
    },
    {
     "name": "stderr",
     "output_type": "stream",
     "text": [
      "\r",
      " 67%|██████████████████████████████████████████████████████▏                          | 119/178 [11:27<05:38,  5.73s/it]"
     ]
    },
    {
     "name": "stdout",
     "output_type": "stream",
     "text": [
      "++++++++++++++++index:118++++++++++++++++++++++++\n",
      "正确表名： trip\n",
      "预测表名： station, trip\n",
      "############################################\n"
     ]
    },
    {
     "name": "stderr",
     "output_type": "stream",
     "text": [
      "\r",
      " 67%|██████████████████████████████████████████████████████▌                          | 120/178 [11:33<05:31,  5.72s/it]"
     ]
    },
    {
     "name": "stdout",
     "output_type": "stream",
     "text": [
      "++++++++++++++++index:119++++++++++++++++++++++++\n",
      "正确表名： campuses\n",
      "预测表名： campuses\n",
      "############################################\n"
     ]
    },
    {
     "name": "stderr",
     "output_type": "stream",
     "text": [
      "\r",
      " 68%|███████████████████████████████████████████████████████                          | 121/178 [11:39<05:26,  5.72s/it]"
     ]
    },
    {
     "name": "stdout",
     "output_type": "stream",
     "text": [
      "++++++++++++++++index:120++++++++++++++++++++++++\n",
      "正确表名： campuses\n",
      "预测表名： campuses\n",
      "############################################\n"
     ]
    },
    {
     "name": "stderr",
     "output_type": "stream",
     "text": [
      "\r",
      " 69%|███████████████████████████████████████████████████████▌                         | 122/178 [11:44<05:19,  5.71s/it]"
     ]
    },
    {
     "name": "stdout",
     "output_type": "stream",
     "text": [
      "++++++++++++++++index:121++++++++++++++++++++++++\n",
      "正确表名： campuses\n",
      "预测表名： campuses\n",
      "############################################\n"
     ]
    },
    {
     "name": "stderr",
     "output_type": "stream",
     "text": [
      "\r",
      " 69%|███████████████████████████████████████████████████████▉                         | 123/178 [11:50<05:14,  5.72s/it]"
     ]
    },
    {
     "name": "stdout",
     "output_type": "stream",
     "text": [
      "++++++++++++++++index:122++++++++++++++++++++++++\n",
      "正确表名： campuses\n",
      "预测表名： campuses\n",
      "############################################\n"
     ]
    },
    {
     "name": "stderr",
     "output_type": "stream",
     "text": [
      "\r",
      " 70%|████████████████████████████████████████████████████████▍                        | 124/178 [11:56<05:11,  5.77s/it]"
     ]
    },
    {
     "name": "stdout",
     "output_type": "stream",
     "text": [
      "++++++++++++++++index:123++++++++++++++++++++++++\n",
      "正确表名： campuses, degrees\n",
      "预测表名： campuses, degrees\n",
      "############################################\n"
     ]
    },
    {
     "name": "stderr",
     "output_type": "stream",
     "text": [
      "\r",
      " 70%|████████████████████████████████████████████████████████▉                        | 125/178 [12:02<05:06,  5.79s/it]"
     ]
    },
    {
     "name": "stdout",
     "output_type": "stream",
     "text": [
      "++++++++++++++++index:124++++++++++++++++++++++++\n",
      "正确表名： faculty, campuses\n",
      "预测表名： faculty, campuses\n",
      "############################################\n"
     ]
    },
    {
     "name": "stderr",
     "output_type": "stream",
     "text": [
      "\r",
      " 71%|█████████████████████████████████████████████████████████▎                       | 126/178 [12:08<05:00,  5.78s/it]"
     ]
    },
    {
     "name": "stdout",
     "output_type": "stream",
     "text": [
      "++++++++++++++++index:125++++++++++++++++++++++++\n",
      "正确表名： campuses\n",
      "预测表名： campuses\n",
      "############################################\n"
     ]
    },
    {
     "name": "stderr",
     "output_type": "stream",
     "text": [
      "\r",
      " 71%|█████████████████████████████████████████████████████████▊                       | 127/178 [12:13<04:55,  5.80s/it]"
     ]
    },
    {
     "name": "stdout",
     "output_type": "stream",
     "text": [
      "++++++++++++++++index:126++++++++++++++++++++++++\n",
      "正确表名： journalist\n",
      "预测表名： journalist\n",
      "############################################\n"
     ]
    },
    {
     "name": "stderr",
     "output_type": "stream",
     "text": [
      "\r",
      " 72%|██████████████████████████████████████████████████████████▏                      | 128/178 [12:19<04:51,  5.84s/it]"
     ]
    },
    {
     "name": "stdout",
     "output_type": "stream",
     "text": [
      "++++++++++++++++index:127++++++++++++++++++++++++\n",
      "正确表名： authors, authorship, papers\n",
      "预测表名： authors, authorship, papers\n",
      "############################################\n"
     ]
    },
    {
     "name": "stderr",
     "output_type": "stream",
     "text": [
      "\r",
      " 72%|██████████████████████████████████████████████████████████▋                      | 129/178 [12:25<04:44,  5.81s/it]"
     ]
    },
    {
     "name": "stdout",
     "output_type": "stream",
     "text": [
      "++++++++++++++++index:128++++++++++++++++++++++++\n",
      "正确表名： papers, authorship, inst\n",
      "预测表名： authorship, papers, inst\n",
      "############################################\n"
     ]
    },
    {
     "name": "stderr",
     "output_type": "stream",
     "text": [
      "\r",
      " 73%|███████████████████████████████████████████████████████████▏                     | 130/178 [12:31<04:37,  5.79s/it]"
     ]
    },
    {
     "name": "stdout",
     "output_type": "stream",
     "text": [
      "++++++++++++++++index:129++++++++++++++++++++++++\n",
      "正确表名： inst, authorship, papers\n",
      "预测表名： authorship, inst, papers\n",
      "############################################\n"
     ]
    },
    {
     "name": "stderr",
     "output_type": "stream",
     "text": [
      "\r",
      " 74%|███████████████████████████████████████████████████████████▌                     | 131/178 [12:37<04:30,  5.76s/it]"
     ]
    },
    {
     "name": "stdout",
     "output_type": "stream",
     "text": [
      "++++++++++++++++index:130++++++++++++++++++++++++\n",
      "正确表名： authors, authorship, papers\n",
      "预测表名： authors, authorship, papers\n",
      "############################################\n"
     ]
    },
    {
     "name": "stderr",
     "output_type": "stream",
     "text": [
      "\r",
      " 74%|████████████████████████████████████████████████████████████                     | 132/178 [12:42<04:24,  5.75s/it]"
     ]
    },
    {
     "name": "stdout",
     "output_type": "stream",
     "text": [
      "++++++++++++++++index:131++++++++++++++++++++++++\n",
      "正确表名： inst, authorship, papers\n",
      "预测表名： papers\n",
      "############################################\n"
     ]
    },
    {
     "name": "stderr",
     "output_type": "stream",
     "text": [
      "\r",
      " 75%|████████████████████████████████████████████████████████████▌                    | 133/178 [12:48<04:18,  5.74s/it]"
     ]
    },
    {
     "name": "stdout",
     "output_type": "stream",
     "text": [
      "++++++++++++++++index:132++++++++++++++++++++++++\n",
      "正确表名： authors, authorship, papers\n",
      "预测表名： authors, authorship, papers\n",
      "############################################\n"
     ]
    },
    {
     "name": "stderr",
     "output_type": "stream",
     "text": [
      "\r",
      " 75%|████████████████████████████████████████████████████████████▉                    | 134/178 [12:54<04:12,  5.73s/it]"
     ]
    },
    {
     "name": "stdout",
     "output_type": "stream",
     "text": [
      "++++++++++++++++index:133++++++++++++++++++++++++\n",
      "正确表名： furniture\n",
      "预测表名： furniture\n",
      "############################################\n"
     ]
    },
    {
     "name": "stderr",
     "output_type": "stream",
     "text": [
      "\r",
      " 76%|█████████████████████████████████████████████████████████████▍                   | 135/178 [13:00<04:07,  5.75s/it]"
     ]
    },
    {
     "name": "stdout",
     "output_type": "stream",
     "text": [
      "++++++++++++++++index:134++++++++++++++++++++++++\n",
      "正确表名： person, personFriend\n",
      "预测表名： person, personFriend\n",
      "############################################\n"
     ]
    },
    {
     "name": "stderr",
     "output_type": "stream",
     "text": [
      "\r",
      " 76%|█████████████████████████████████████████████████████████████▉                   | 136/178 [13:05<04:01,  5.75s/it]"
     ]
    },
    {
     "name": "stdout",
     "output_type": "stream",
     "text": [
      "++++++++++++++++index:135++++++++++++++++++++++++\n",
      "正确表名： person, personfriend\n",
      "预测表名： person, personFriend\n",
      "############################################\n"
     ]
    },
    {
     "name": "stderr",
     "output_type": "stream",
     "text": [
      "\r",
      " 77%|██████████████████████████████████████████████████████████████▎                  | 137/178 [13:11<03:56,  5.77s/it]"
     ]
    },
    {
     "name": "stdout",
     "output_type": "stream",
     "text": [
      "++++++++++++++++index:136++++++++++++++++++++++++\n",
      "正确表名： person, personFriend\n",
      "预测表名： person, personFriend\n",
      "############################################\n"
     ]
    },
    {
     "name": "stderr",
     "output_type": "stream",
     "text": [
      "\r",
      " 78%|██████████████████████████████████████████████████████████████▊                  | 138/178 [13:17<03:49,  5.74s/it]"
     ]
    },
    {
     "name": "stdout",
     "output_type": "stream",
     "text": [
      "++++++++++++++++index:137++++++++++++++++++++++++\n",
      "正确表名： person\n",
      "预测表名： person\n",
      "############################################\n"
     ]
    },
    {
     "name": "stderr",
     "output_type": "stream",
     "text": [
      "\r",
      " 78%|███████████████████████████████████████████████████████████████▎                 | 139/178 [13:22<03:43,  5.72s/it]"
     ]
    },
    {
     "name": "stdout",
     "output_type": "stream",
     "text": [
      "++++++++++++++++index:138++++++++++++++++++++++++\n",
      "正确表名： person\n",
      "预测表名： person\n",
      "############################################\n"
     ]
    },
    {
     "name": "stderr",
     "output_type": "stream",
     "text": [
      "\r",
      " 79%|███████████████████████████████████████████████████████████████▋                 | 140/178 [13:28<03:36,  5.69s/it]"
     ]
    },
    {
     "name": "stdout",
     "output_type": "stream",
     "text": [
      "++++++++++++++++index:139++++++++++++++++++++++++\n",
      "正确表名： person\n",
      "预测表名： person\n",
      "############################################\n"
     ]
    },
    {
     "name": "stderr",
     "output_type": "stream",
     "text": [
      "\r",
      " 79%|████████████████████████████████████████████████████████████████▏                | 141/178 [13:34<03:31,  5.73s/it]"
     ]
    },
    {
     "name": "stdout",
     "output_type": "stream",
     "text": [
      "++++++++++++++++index:140++++++++++++++++++++++++\n",
      "正确表名： personfriend, person\n",
      "预测表名： person, personFriend\n",
      "############################################\n"
     ]
    },
    {
     "name": "stderr",
     "output_type": "stream",
     "text": [
      "\r",
      " 80%|████████████████████████████████████████████████████████████████▌                | 142/178 [13:39<03:24,  5.69s/it]"
     ]
    },
    {
     "name": "stdout",
     "output_type": "stream",
     "text": [
      "++++++++++++++++index:141++++++++++++++++++++++++\n",
      "正确表名： person\n",
      "预测表名： person\n",
      "############################################\n"
     ]
    },
    {
     "name": "stderr",
     "output_type": "stream",
     "text": [
      "\r",
      " 80%|█████████████████████████████████████████████████████████████████                | 143/178 [13:45<03:18,  5.68s/it]"
     ]
    },
    {
     "name": "stdout",
     "output_type": "stream",
     "text": [
      "++++++++++++++++index:142++++++++++++++++++++++++\n",
      "正确表名： enzyme\n",
      "预测表名： enzyme\n",
      "############################################\n"
     ]
    },
    {
     "name": "stderr",
     "output_type": "stream",
     "text": [
      "\r",
      " 81%|█████████████████████████████████████████████████████████████████▌               | 144/178 [13:51<03:12,  5.68s/it]"
     ]
    },
    {
     "name": "stdout",
     "output_type": "stream",
     "text": [
      "++++++++++++++++index:143++++++++++++++++++++++++\n",
      "正确表名： enzyme\n",
      "预测表名： enzyme\n",
      "############################################\n"
     ]
    },
    {
     "name": "stderr",
     "output_type": "stream",
     "text": [
      "\r",
      " 81%|█████████████████████████████████████████████████████████████████▉               | 145/178 [13:56<03:06,  5.66s/it]"
     ]
    },
    {
     "name": "stdout",
     "output_type": "stream",
     "text": [
      "++++++++++++++++index:144++++++++++++++++++++++++\n",
      "正确表名： enzyme\n",
      "预测表名： enzyme\n",
      "############################################\n"
     ]
    },
    {
     "name": "stderr",
     "output_type": "stream",
     "text": [
      "\r",
      " 82%|██████████████████████████████████████████████████████████████████▍              | 146/178 [14:02<03:02,  5.70s/it]"
     ]
    },
    {
     "name": "stdout",
     "output_type": "stream",
     "text": [
      "++++++++++++++++index:145++++++++++++++++++++++++\n",
      "正确表名： medicine, medicine_enzyme_interaction\n",
      "预测表名： medicine_enzyme_interaction, medicine\n",
      "############################################\n"
     ]
    },
    {
     "name": "stderr",
     "output_type": "stream",
     "text": [
      "\r",
      " 83%|██████████████████████████████████████████████████████████████████▉              | 147/178 [14:08<02:58,  5.74s/it]"
     ]
    },
    {
     "name": "stdout",
     "output_type": "stream",
     "text": [
      "++++++++++++++++index:146++++++++++++++++++++++++\n",
      "正确表名： apartment_bookings, apartments\n",
      "预测表名： apartment_bookings, apartments\n",
      "############################################\n"
     ]
    },
    {
     "name": "stderr",
     "output_type": "stream",
     "text": [
      "\r",
      " 83%|███████████████████████████████████████████████████████████████████▎             | 148/178 [14:14<02:51,  5.72s/it]"
     ]
    },
    {
     "name": "stdout",
     "output_type": "stream",
     "text": [
      "++++++++++++++++index:147++++++++++++++++++++++++\n",
      "正确表名： apartment_bookings, guests\n",
      "预测表名： apartment_bookings, guests\n",
      "############################################\n"
     ]
    },
    {
     "name": "stderr",
     "output_type": "stream",
     "text": [
      "\r",
      " 84%|███████████████████████████████████████████████████████████████████▊             | 149/178 [14:20<02:47,  5.76s/it]"
     ]
    },
    {
     "name": "stdout",
     "output_type": "stream",
     "text": [
      "++++++++++++++++index:148++++++++++++++++++++++++\n",
      "正确表名： apartment_buildings, apartments\n",
      "预测表名： apartment_buildings, apartments\n",
      "############################################\n"
     ]
    },
    {
     "name": "stderr",
     "output_type": "stream",
     "text": [
      "\r",
      " 84%|████████████████████████████████████████████████████████████████████▎            | 150/178 [14:25<02:40,  5.75s/it]"
     ]
    },
    {
     "name": "stdout",
     "output_type": "stream",
     "text": [
      "++++++++++++++++index:149++++++++++++++++++++++++\n",
      "正确表名： apartment_bookings, guests\n",
      "预测表名： apartment_bookings, guests\n",
      "############################################\n"
     ]
    },
    {
     "name": "stderr",
     "output_type": "stream",
     "text": [
      "\r",
      " 85%|████████████████████████████████████████████████████████████████████▋            | 151/178 [14:31<02:35,  5.78s/it]"
     ]
    },
    {
     "name": "stdout",
     "output_type": "stream",
     "text": [
      "++++++++++++++++index:150++++++++++++++++++++++++\n",
      "正确表名： apartment_facilities, apartments\n",
      "预测表名： apartment_facilities, apartments\n",
      "############################################\n"
     ]
    },
    {
     "name": "stderr",
     "output_type": "stream",
     "text": [
      "\r",
      " 85%|█████████████████████████████████████████████████████████████████████▏           | 152/178 [14:37<02:29,  5.74s/it]"
     ]
    },
    {
     "name": "stdout",
     "output_type": "stream",
     "text": [
      "++++++++++++++++index:151++++++++++++++++++++++++\n",
      "正确表名： apartments\n",
      "预测表名： apartments\n",
      "############################################\n"
     ]
    },
    {
     "name": "stderr",
     "output_type": "stream",
     "text": [
      "\r",
      " 86%|█████████████████████████████████████████████████████████████████████▌           | 153/178 [14:42<02:22,  5.71s/it]"
     ]
    },
    {
     "name": "stdout",
     "output_type": "stream",
     "text": [
      "++++++++++++++++index:152++++++++++++++++++++++++\n",
      "正确表名： apartments\n",
      "预测表名： apartments\n",
      "############################################\n"
     ]
    },
    {
     "name": "stderr",
     "output_type": "stream",
     "text": [
      "\r",
      " 87%|██████████████████████████████████████████████████████████████████████           | 154/178 [14:48<02:17,  5.73s/it]"
     ]
    },
    {
     "name": "stdout",
     "output_type": "stream",
     "text": [
      "++++++++++++++++index:153++++++++++++++++++++++++\n",
      "正确表名： apartment_buildings\n",
      "预测表名： apartment_buildings\n",
      "############################################\n"
     ]
    },
    {
     "name": "stderr",
     "output_type": "stream",
     "text": [
      "\r",
      " 87%|██████████████████████████████████████████████████████████████████████▌          | 155/178 [14:54<02:11,  5.73s/it]"
     ]
    },
    {
     "name": "stdout",
     "output_type": "stream",
     "text": [
      "++++++++++++++++index:154++++++++++++++++++++++++\n",
      "正确表名： program\n",
      "预测表名： program\n",
      "############################################\n"
     ]
    },
    {
     "name": "stderr",
     "output_type": "stream",
     "text": [
      "\r",
      " 88%|██████████████████████████████████████████████████████████████████████▉          | 156/178 [15:00<02:05,  5.68s/it]"
     ]
    },
    {
     "name": "stdout",
     "output_type": "stream",
     "text": [
      "++++++++++++++++index:155++++++++++++++++++++++++\n",
      "正确表名： program, broadcast\n",
      "预测表名： broadcast, program\n",
      "############################################\n"
     ]
    },
    {
     "name": "stderr",
     "output_type": "stream",
     "text": [
      "\r",
      " 88%|███████████████████████████████████████████████████████████████████████▍         | 157/178 [15:05<01:59,  5.69s/it]"
     ]
    },
    {
     "name": "stdout",
     "output_type": "stream",
     "text": [
      "++++++++++++++++index:156++++++++++++++++++++++++\n",
      "正确表名： channel\n",
      "预测表名： channel\n",
      "############################################\n"
     ]
    },
    {
     "name": "stderr",
     "output_type": "stream",
     "text": [
      "\r",
      " 89%|███████████████████████████████████████████████████████████████████████▉         | 158/178 [15:11<01:53,  5.67s/it]"
     ]
    },
    {
     "name": "stdout",
     "output_type": "stream",
     "text": [
      "++++++++++++++++index:157++++++++++++++++++++++++\n",
      "正确表名： channel\n",
      "预测表名： channel\n",
      "############################################\n"
     ]
    },
    {
     "name": "stderr",
     "output_type": "stream",
     "text": [
      "\r",
      " 89%|████████████████████████████████████████████████████████████████████████▎        | 159/178 [15:17<01:49,  5.76s/it]"
     ]
    },
    {
     "name": "stdout",
     "output_type": "stream",
     "text": [
      "++++++++++++++++index:158++++++++++++++++++++++++\n",
      "正确表名： customer_master_index\n",
      "预测表名： customer_master_index\n",
      "############################################\n"
     ]
    },
    {
     "name": "stderr",
     "output_type": "stream",
     "text": [
      "\r",
      " 90%|████████████████████████████████████████████████████████████████████████▊        | 160/178 [15:22<01:42,  5.71s/it]"
     ]
    },
    {
     "name": "stdout",
     "output_type": "stream",
     "text": [
      "++++++++++++++++index:159++++++++++++++++++++++++\n",
      "正确表名： district\n",
      "预测表名： district\n",
      "############################################\n"
     ]
    },
    {
     "name": "stderr",
     "output_type": "stream",
     "text": [
      "\r",
      " 90%|█████████████████████████████████████████████████████████████████████████▎       | 161/178 [15:28<01:37,  5.74s/it]"
     ]
    },
    {
     "name": "stdout",
     "output_type": "stream",
     "text": [
      "++++++++++++++++index:160++++++++++++++++++++++++\n",
      "正确表名： district\n",
      "预测表名： district\n",
      "############################################\n"
     ]
    },
    {
     "name": "stderr",
     "output_type": "stream",
     "text": [
      "\r",
      " 91%|█████████████████████████████████████████████████████████████████████████▋       | 162/178 [15:34<01:31,  5.74s/it]"
     ]
    },
    {
     "name": "stdout",
     "output_type": "stream",
     "text": [
      "++++++++++++++++index:161++++++++++++++++++++++++\n",
      "正确表名： district\n",
      "预测表名： district\n",
      "############################################\n"
     ]
    },
    {
     "name": "stderr",
     "output_type": "stream",
     "text": [
      "\r",
      " 92%|██████████████████████████████████████████████████████████████████████████▏      | 163/178 [15:40<01:26,  5.75s/it]"
     ]
    },
    {
     "name": "stdout",
     "output_type": "stream",
     "text": [
      "++++++++++++++++index:162++++++++++++++++++++++++\n",
      "正确表名： district\n",
      "预测表名： district\n",
      "############################################\n"
     ]
    },
    {
     "name": "stderr",
     "output_type": "stream",
     "text": [
      "\r",
      " 92%|██████████████████████████████████████████████████████████████████████████▋      | 164/178 [15:46<01:21,  5.80s/it]"
     ]
    },
    {
     "name": "stdout",
     "output_type": "stream",
     "text": [
      "++++++++++++++++index:163++++++++++++++++++++++++\n",
      "正确表名： gas_station\n",
      "预测表名： station_company, gas_station\n",
      "############################################\n"
     ]
    },
    {
     "name": "stderr",
     "output_type": "stream",
     "text": [
      "\r",
      " 93%|███████████████████████████████████████████████████████████████████████████      | 165/178 [15:51<01:15,  5.78s/it]"
     ]
    },
    {
     "name": "stdout",
     "output_type": "stream",
     "text": [
      "++++++++++++++++index:164++++++++++++++++++++++++\n",
      "正确表名： company\n",
      "预测表名： company\n",
      "############################################\n"
     ]
    },
    {
     "name": "stderr",
     "output_type": "stream",
     "text": [
      "\r",
      " 93%|███████████████████████████████████████████████████████████████████████████▌     | 166/178 [15:57<01:08,  5.73s/it]"
     ]
    },
    {
     "name": "stdout",
     "output_type": "stream",
     "text": [
      "++++++++++++++++index:165++++++++++++++++++++++++\n",
      "正确表名： company\n",
      "预测表名： companies, company\n",
      "############################################\n"
     ]
    },
    {
     "name": "stderr",
     "output_type": "stream",
     "text": [
      "\r",
      " 94%|███████████████████████████████████████████████████████████████████████████▉     | 167/178 [16:03<01:03,  5.75s/it]"
     ]
    },
    {
     "name": "stdout",
     "output_type": "stream",
     "text": [
      "++++++++++++++++index:166++++++++++++++++++++++++\n",
      "正确表名： station_company, company, gas_station\n",
      "预测表名： station_company, gas_station, company\n",
      "############################################\n"
     ]
    },
    {
     "name": "stderr",
     "output_type": "stream",
     "text": [
      "\r",
      " 94%|████████████████████████████████████████████████████████████████████████████▍    | 168/178 [16:09<00:57,  5.74s/it]"
     ]
    },
    {
     "name": "stdout",
     "output_type": "stream",
     "text": [
      "++++++++++++++++index:167++++++++++++++++++++++++\n",
      "正确表名： festival_detail\n",
      "预测表名： festival_detail\n",
      "############################################\n"
     ]
    },
    {
     "name": "stderr",
     "output_type": "stream",
     "text": [
      "\r",
      " 95%|████████████████████████████████████████████████████████████████████████████▉    | 169/178 [16:14<00:51,  5.74s/it]"
     ]
    },
    {
     "name": "stdout",
     "output_type": "stream",
     "text": [
      "++++++++++++++++index:168++++++++++++++++++++++++\n",
      "正确表名： festival_detail\n",
      "预测表名： festival_detail\n",
      "############################################\n"
     ]
    },
    {
     "name": "stderr",
     "output_type": "stream",
     "text": [
      "\r",
      " 96%|█████████████████████████████████████████████████████████████████████████████▎   | 170/178 [16:20<00:46,  5.75s/it]"
     ]
    },
    {
     "name": "stdout",
     "output_type": "stream",
     "text": [
      "++++++++++++++++index:169++++++++++++++++++++++++\n",
      "正确表名： building, institution\n",
      "预测表名： building, institution\n",
      "############################################\n"
     ]
    },
    {
     "name": "stderr",
     "output_type": "stream",
     "text": [
      "\r",
      " 96%|█████████████████████████████████████████████████████████████████████████████▊   | 171/178 [16:26<00:40,  5.74s/it]"
     ]
    },
    {
     "name": "stdout",
     "output_type": "stream",
     "text": [
      "++++++++++++++++index:170++++++++++++++++++++++++\n",
      "正确表名： building, institution\n",
      "预测表名： building, institution\n",
      "############################################\n"
     ]
    },
    {
     "name": "stderr",
     "output_type": "stream",
     "text": [
      "\r",
      " 97%|██████████████████████████████████████████████████████████████████████████████▎  | 172/178 [16:32<00:34,  5.75s/it]"
     ]
    },
    {
     "name": "stdout",
     "output_type": "stream",
     "text": [
      "++++++++++++++++index:171++++++++++++++++++++++++\n",
      "正确表名： roller_coaster\n",
      "预测表名： roller_coaster\n",
      "############################################\n"
     ]
    },
    {
     "name": "stderr",
     "output_type": "stream",
     "text": [
      "\r",
      " 97%|██████████████████████████████████████████████████████████████████████████████▋  | 173/178 [16:37<00:28,  5.73s/it]"
     ]
    },
    {
     "name": "stdout",
     "output_type": "stream",
     "text": [
      "++++++++++++++++index:172++++++++++++++++++++++++\n",
      "正确表名： participants\n",
      "预测表名： participants\n",
      "############################################\n"
     ]
    },
    {
     "name": "stderr",
     "output_type": "stream",
     "text": [
      "\r",
      " 98%|███████████████████████████████████████████████████████████████████████████████▏ | 174/178 [16:43<00:22,  5.72s/it]"
     ]
    },
    {
     "name": "stdout",
     "output_type": "stream",
     "text": [
      "++++++++++++++++index:173++++++++++++++++++++++++\n",
      "正确表名： mill\n",
      "预测表名： mill\n",
      "############################################\n"
     ]
    },
    {
     "name": "stderr",
     "output_type": "stream",
     "text": [
      "\r",
      " 98%|███████████████████████████████████████████████████████████████████████████████▋ | 175/178 [16:49<00:17,  5.70s/it]"
     ]
    },
    {
     "name": "stdout",
     "output_type": "stream",
     "text": [
      "++++++++++++++++index:174++++++++++++++++++++++++\n",
      "正确表名： railway\n",
      "预测表名： railway\n",
      "############################################\n"
     ]
    },
    {
     "name": "stderr",
     "output_type": "stream",
     "text": [
      "\r",
      " 99%|████████████████████████████████████████████████████████████████████████████████ | 176/178 [16:54<00:11,  5.70s/it]"
     ]
    },
    {
     "name": "stdout",
     "output_type": "stream",
     "text": [
      "++++++++++++++++index:175++++++++++++++++++++++++\n",
      "正确表名： railway\n",
      "预测表名： railway\n",
      "############################################\n"
     ]
    },
    {
     "name": "stderr",
     "output_type": "stream",
     "text": [
      "\r",
      " 99%|████████████████████████████████████████████████████████████████████████████████▌| 177/178 [17:00<00:05,  5.70s/it]"
     ]
    },
    {
     "name": "stdout",
     "output_type": "stream",
     "text": [
      "++++++++++++++++index:176++++++++++++++++++++++++\n",
      "正确表名： book\n",
      "预测表名： book\n",
      "############################################\n"
     ]
    },
    {
     "name": "stderr",
     "output_type": "stream",
     "text": [
      "100%|█████████████████████████████████████████████████████████████████████████████████| 178/178 [17:06<00:00,  5.77s/it]"
     ]
    },
    {
     "name": "stdout",
     "output_type": "stream",
     "text": [
      "++++++++++++++++index:177++++++++++++++++++++++++\n",
      "正确表名： book, publication\n",
      "预测表名： book, publication\n",
      "############################################\n",
      "11\n"
     ]
    },
    {
     "name": "stderr",
     "output_type": "stream",
     "text": [
      "\n"
     ]
    }
   ],
   "source": [
    "df = pd.read_csv(\"./mydataset_new/validation_dataset_formatted_cropped.csv\",encoding=\"utf-8\")\n",
    "outer_index = 0\n",
    "import re\n",
    "pattern = re.compile(r'-- Tables: ([\\w, ]+);')\n",
    "results = []\n",
    "#  schema_slicing\n",
    "\n",
    "for index, row in tqdm(df.iterrows(), total=len(df)):\n",
    "    question = row['question']\n",
    "    ref_tables = row['correct_tables']\n",
    "    selected_table_list = []\n",
    "    result_count = 0\n",
    "    for schema in schema_slicing:\n",
    "        result_count += 1\n",
    "        if len(selected_table_list) > 0:\n",
    "            selected_table =  ', '.join(selected_table_list)\n",
    "        else:\n",
    "            selected_table = \"None\"\n",
    "        instruction = get_instruction(schema)\n",
    "        input_value = get_input_value(question)\n",
    "        messages = [\n",
    "        {\"role\": \"system\", \"content\": f\"{instruction}\"},\n",
    "        {\"role\": \"user\", \"content\": f\"{input_value}\"}]\n",
    "        response = predict(messages, model, tokenizer)\n",
    "        if \"#None#\" not in response:\n",
    "            match = re.search(pattern, response)\n",
    "            if match:\n",
    "                table_names_str = match.group(1)\n",
    "                table_names = table_names_str.split(', ')\n",
    "                for predict_table in table_names:\n",
    "                    selected_table_list.append(predict_table)\n",
    "            else:\n",
    "                predict_table = \"None\"\n",
    "    if len(selected_table_list) > 0:\n",
    "        total_selected_table =  ', '.join(selected_table_list)\n",
    "    else:\n",
    "        total_selected_table = \"None\"\n",
    "    print(f\"++++++++++++++++index:{index}++++++++++++++++++++++++\")\n",
    "    print(\"正确表名：\",ref_tables)\n",
    "    print(\"预测表名：\",total_selected_table)\n",
    "    print(\"############################################\")\n",
    "    results.append([ref_tables,total_selected_table])\n",
    "print(len(predict_table))"
   ]
  },
  {
   "cell_type": "code",
   "execution_count": 11,
   "id": "5ae1fb2c",
   "metadata": {},
   "outputs": [],
   "source": [
    "new_df = pd.DataFrame(results, columns = ['reference_tables','predicted_tables'])"
   ]
  },
  {
   "cell_type": "code",
   "execution_count": 12,
   "id": "dc4df2ae",
   "metadata": {},
   "outputs": [
    {
     "name": "stdout",
     "output_type": "stream",
     "text": [
      "            reference_tables            predicted_tables\n",
      "0    products, manufacturers     products, manufacturers\n",
      "1                   products  products, catalog_contents\n",
      "2              manufacturers               manufacturers\n",
      "3              manufacturers               manufacturers\n",
      "4              manufacturers               manufacturers\n",
      "..                       ...                         ...\n",
      "173                     mill                        mill\n",
      "174                  railway                     railway\n",
      "175                  railway                     railway\n",
      "176                     book                        book\n",
      "177        book, publication           book, publication\n",
      "\n",
      "[178 rows x 2 columns]\n"
     ]
    }
   ],
   "source": [
    "print(new_df)"
   ]
  },
  {
   "cell_type": "code",
   "execution_count": 13,
   "id": "7def6952",
   "metadata": {},
   "outputs": [
    {
     "name": "stdout",
     "output_type": "stream",
     "text": [
      "Total Accuracy: 0.9157303370786517\n",
      "Filtered Accuracy: 0.9662921348314607\n",
      "Average Precision: 0.9578651685393258\n",
      "Average Recall: 0.9747191011235955\n"
     ]
    }
   ],
   "source": [
    "total_samples = len(new_df)\n",
    "total_accuracy = 0\n",
    "filtered_accuracy = 0\n",
    "total_precision = 0\n",
    "total_recall = 0\n",
    "count = 0\n",
    "for index, row in new_df.iterrows():\n",
    "#     count+=1\n",
    "#     print(\"index:\",count)\n",
    "    if not row['predicted_tables'] or pd.isna(row['predicted_tables']):\n",
    "        continue\n",
    "    predicted_tables = row['predicted_tables'].split(\",\")\n",
    "    reference_tables = row['reference_tables'].split(\",\")\n",
    "    \n",
    "    # Convert to lowercase and strip whitespace for comparison\n",
    "    predicted_tables = [x.lower().replace(\"--\",\"\").replace(\"**\",\"\").strip() for x in predicted_tables]\n",
    "    reference_tables = [x.lower().strip() for x in reference_tables]\n",
    "    \n",
    "    # Calculate accuracy\n",
    "    if set(predicted_tables) == set(reference_tables):\n",
    "        total_accuracy += 1\n",
    "\n",
    "    # Calculate precision and recall\n",
    "    true_positives = len(set(predicted_tables) & set(reference_tables))\n",
    "    false_positives = len(set(predicted_tables) - set(reference_tables))\n",
    "    false_negatives = len(set(reference_tables) - set(predicted_tables))\n",
    "\n",
    "    if true_positives == len(reference_tables):\n",
    "        filtered_accuracy += 1\n",
    "    \n",
    "    if len(predicted_tables) > 0:\n",
    "        precision = true_positives / (true_positives + false_positives)\n",
    "        recall = true_positives / (true_positives + false_negatives)\n",
    "    \n",
    "    total_precision += precision\n",
    "    total_recall += recall\n",
    "\n",
    "# Calculate average precision and recall\n",
    "avg_precision = total_precision / total_samples\n",
    "avg_recall = total_recall / total_samples\n",
    "\n",
    "# Calculate total accuracy\n",
    "accuracy = total_accuracy / total_samples\n",
    "filtered_accuracy = filtered_accuracy / total_samples\n",
    "\n",
    "print(\"Total Accuracy:\", accuracy)\n",
    "print(\"Filtered Accuracy:\", filtered_accuracy)\n",
    "print(\"Average Precision:\", avg_precision)\n",
    "print(\"Average Recall:\", avg_recall)"
   ]
  },
  {
   "cell_type": "code",
   "execution_count": 15,
   "id": "faac209d",
   "metadata": {},
   "outputs": [],
   "source": [
    "new_df.to_csv(\"./predicted.csv\",encoding=\"utf-8\")"
   ]
  }
 ],
 "metadata": {
  "kernelspec": {
   "display_name": "GLM4",
   "language": "python",
   "name": "glm4"
  },
  "language_info": {
   "codemirror_mode": {
    "name": "ipython",
    "version": 3
   },
   "file_extension": ".py",
   "mimetype": "text/x-python",
   "name": "python",
   "nbconvert_exporter": "python",
   "pygments_lexer": "ipython3",
   "version": "3.10.14"
  }
 },
 "nbformat": 4,
 "nbformat_minor": 5
}
