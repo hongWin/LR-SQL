{
 "cells": [
  {
   "cell_type": "code",
   "execution_count": null,
   "metadata": {
    "colab": {
     "base_uri": "https://localhost:8080/"
    },
    "id": "ZK83JZaKSxu2",
    "outputId": "174c225b-5dbc-4412-8786-6d1832092ca4"
   },
   "outputs": [],
   "source": []
  },
  {
   "cell_type": "code",
   "execution_count": 1,
   "metadata": {
    "id": "690Zw7_2SkCU"
   },
   "outputs": [
    {
     "name": "stderr",
     "output_type": "stream",
     "text": [
      "/home/vipuser/anaconda3/envs/DTS_SQL/lib/python3.10/site-packages/tqdm/auto.py:21: TqdmWarning: IProgress not found. Please update jupyter and ipywidgets. See https://ipywidgets.readthedocs.io/en/stable/user_install.html\n",
      "  from .autonotebook import tqdm as notebook_tqdm\n"
     ]
    }
   ],
   "source": [
    "import torch\n",
    "import re\n",
    "import pandas as pd\n",
    "from transformers import AutoTokenizer, BitsAndBytesConfig\n",
    "from transformers import AutoModelForCausalLM\n",
    "from peft import PeftModel\n",
    "from torch import cuda\n",
    "from sql_metadata import Parser\n",
    "from tqdm import tqdm"
   ]
  },
  {
   "cell_type": "code",
   "execution_count": 2,
   "metadata": {
    "colab": {
     "base_uri": "https://localhost:8080/",
     "height": 67,
     "referenced_widgets": [
      "f0d5986597124099bf09d298575c5126",
      "6e2db7ee351248f4b08587a275bfde8a",
      "30c71ab2e03d40d7968624b3dc15656c",
      "16576d8e9bca4a978cf1807800d2993f",
      "4fde92ad16cc4bd18d9c48dc91d28696",
      "08d81d35451441abb5a8069816d96bf4",
      "eed7debb70434c16aeda3d744d131d30",
      "a49f174c025644d7a99e414244390a0d",
      "f30459f7d7254a7abc3cabe448a60681",
      "f87cf27bd7aa4c5fbcb796155236a983",
      "a0010a2bcdc94d609fe271442e1db441"
     ]
    },
    "id": "11wfu6AdTK1C",
    "outputId": "56652c73-e2f9-492b-ba43-826ba5cde889"
   },
   "outputs": [
    {
     "name": "stderr",
     "output_type": "stream",
     "text": [
      "Loading checkpoint shards: 100%|██████████████████████████████████████████████████████████| 2/2 [00:12<00:00,  6.30s/it]\n"
     ]
    }
   ],
   "source": [
    "device = torch.device(\"cuda\" if torch.cuda.is_available() else \"cpu\")\n",
    "model_name = \"/home/LLM_para/deepspeek_code\"\n",
    "# model_name = \"mistralai/Mistral-7B-Instruct-v0.2\"\n",
    "ibnb_config = BitsAndBytesConfig(\n",
    "    load_in_8bit=True,\n",
    "    bnb_4bit_compute_dtype = torch.float16,\n",
    "    bnb_4bit_quant_type='nf4',\n",
    "    bnb_4bit_use_double_quant=True,\n",
    ")\n",
    "model = AutoModelForCausalLM.from_pretrained(\n",
    "    model_name,\n",
    "    attn_implementation=\"flash_attention_2\", # use with amper architecture\n",
    "    torch_dtype=torch.bfloat16,\n",
    "    #quantization_config=bnb_config, # use when low on memory\n",
    "    device_map = \"auto\"\n",
    ")"
   ]
  },
  {
   "cell_type": "code",
   "execution_count": 3,
   "metadata": {
    "colab": {
     "base_uri": "https://localhost:8080/",
     "height": 542
    },
    "id": "kUqzZ2bFVdd9",
    "outputId": "5a572914-766e-4b93-cb67-a31efc786bb8"
   },
   "outputs": [
    {
     "name": "stderr",
     "output_type": "stream",
     "text": [
      "Special tokens have been added in the vocabulary, make sure the associated word embeddings are fine-tuned or trained.\n"
     ]
    }
   ],
   "source": [
    "adapter_path = \"./final_checkpoint_SFT_deepspeek_Myidea\"\n",
    "model = PeftModel.from_pretrained(model,adapter_path ,torch_dtype = torch.bfloat16)\n",
    "model = model.merge_and_unload()\n",
    "model.to(device)\n",
    "tokenizer = AutoTokenizer.from_pretrained(model_name)\n",
    "tokenizer.pad_token = tokenizer.eos_token\n",
    "tokenizer.pad_token_id = tokenizer.eos_token_id"
   ]
  },
  {
   "cell_type": "code",
   "execution_count": 4,
   "metadata": {},
   "outputs": [
    {
     "data": {
      "text/plain": [
       "[32013, 6203]"
      ]
     },
     "execution_count": 4,
     "metadata": {},
     "output_type": "execute_result"
    }
   ],
   "source": [
    "tokenizer.encode(' ;')"
   ]
  },
  {
   "cell_type": "code",
   "execution_count": 5,
   "metadata": {},
   "outputs": [
    {
     "name": "stderr",
     "output_type": "stream",
     "text": [
      "100%|████████████████████████████████████████████████████████████████████████████████| 142/142 [00:00<00:00, 483.28it/s]\n"
     ]
    },
    {
     "name": "stdout",
     "output_type": "stream",
     "text": [
      "6\n"
     ]
    },
    {
     "name": "stderr",
     "output_type": "stream",
     "text": [
      "100%|██████████████████████████████████████████████████████████████████████████████████| 30/30 [00:00<00:00, 518.70it/s]"
     ]
    },
    {
     "name": "stdout",
     "output_type": "stream",
     "text": [
      "8\n",
      "['manufacturers', 'products', 'student', 'plays_games', 'sportsinfo', 'actor', 'entrepreneur', 'people', 'ref_hotel_star_ratings', 'ref_attraction_types', 'hotels', 'tourist_attractions', 'street_markets', 'shops', 'museums', 'royal_family', 'theme_parks', 'visits', 'photos', 'staff', 'tourist_attraction_features', 'wrestler', 'elimination']\n",
      "['business', 'category', 'checkin', 'neighbourhood', 'review', 'tip', 'ref_detention_type', 'ref_incident_type', 'addresses', 'students', 'teachers', 'assessment_notes', 'behavior_incident', 'detention', 'student_addresses', 'students_in_detention', 'film', 'film_market_estimation', 'catalogs']\n",
      "['catalog_structure', 'catalog_contents', 'catalog_contents_additional_attributes', 'routes', 'airports', 'stadium', 'game', 'injury_accident', 'physician', 'department', 'affiliated_with', 'trained_in', 'patient', 'nurse', 'appointment', 'prescribes', 'block', 'room', 'on_call', 'stay']\n",
      "['undergoes', 'buildings', 'office_locations', 'region', 'party', 'member', 'party_events', 'web_client_accelerator', 'accelerator_compatible_browser', 'investors', 'lots', 'transactions', 'sales', 'purchases', 'transactions_lots', 'basketball_match', 'university', 'geographic', 'restaurant', 'location', 'follows', 'tweets', 'user_profiles']\n",
      "['station', 'status', 'campuses', 'csu_fees', 'degrees', 'discipline_enrollments', 'enrollments', 'faculty', 'journalist', 'news_report', 'authors', 'authorship', 'manufacturer', 'furniture_manufacte', 'person', 'personfriend', 'enzyme', 'medicine_enzyme_interaction', 'apartment_buildings', 'apartments', 'apartment_facilities', 'apartment_bookings', 'view_unit_status', 'channel', 'broadcast']\n",
      "['broadcast_share', 'customer_master_index', 'cmi_cross_references', 'council_tax', 'business_rates', 'benefits_overpayments', 'parking_fines', 'rent_arrears', 'electoral_register', 'store', 'store_product', 'store_district', 'gas_station', 'station_company', 'artwork', 'nomination', 'building', 'institution', 'protein', 'roller_coaster', 'country', 'services', 'events', 'participants_in_events', 'architect', 'bridge']\n",
      "['mill', 'railway', 'train', 'railway_manage', 'publication', 'book', 'video_games', 'musical', 'locations', 'visitors', 'features', 'user', 'ref_address_types', 'market', 'attribute_definitions', 'airlines', 'procedures', 'medication', 'companies', 'browser', 'ref_transaction_types', 'trip', 'weather', 'event', 'inst', 'papers']\n",
      "['furniture', 'medicine', 'guests', 'program', 'product', 'district', 'company', 'festival_detail', 'participants', 'manager']\n",
      "172\n"
     ]
    },
    {
     "name": "stderr",
     "output_type": "stream",
     "text": [
      "\n"
     ]
    }
   ],
   "source": [
    "# 拆解训练集\n",
    "# 提供每次训练token数\n",
    "from tqdm import tqdm\n",
    "import copy \n",
    "import re\n",
    "max_token = 1800\n",
    "accept_toekn = max_token - 150\n",
    "#获取REF表数据\n",
    "tab_str = \"\"\n",
    "schema_slicing = []\n",
    "df = pd.read_csv(\"./mydataset_new/table_schema_Reference_cropped.csv\",encoding=\"utf-8\")\n",
    "for index, row in tqdm(df.iterrows(), total=len(df)):\n",
    "    table_group = row['Reference_group']\n",
    "    tab_str_elder = copy.deepcopy(tab_str)\n",
    "    tab_str += table_group + \"\\n\"\n",
    "    check_token = tokenizer(f\"{tab_str}\", add_special_tokens=False)\n",
    "    if len(check_token[\"input_ids\"]) > accept_toekn:\n",
    "        schema_slicing.append(tab_str_elder)\n",
    "        tab_str = table_group + \"\\n\"\n",
    "\n",
    "    \n",
    "print(len(schema_slicing))\n",
    "\n",
    "\n",
    "#获取noREF表数据\n",
    "df = pd.read_csv(\"./mydataset_new/table_schema_noReference_cropped.csv\",encoding=\"utf-8\")\n",
    "for index, row in tqdm(df.iterrows(), total=len(df)):\n",
    "    table_group = row['noReference_group']\n",
    "    tab_str_elder = copy.deepcopy(tab_str)\n",
    "    tab_str += table_group + \"\\n\"\n",
    "    check_token = tokenizer(f\"{tab_str}\", add_special_tokens=False)\n",
    "    if len(check_token[\"input_ids\"]) > accept_toekn:\n",
    "#         print(\"+++++++++++\")\n",
    "        schema_slicing.append(tab_str_elder)\n",
    "        tab_str = table_group + \"\\n\"\n",
    "        \n",
    "        \n",
    "if len(tab_str) > 0:\n",
    "    schema_slicing.append(tab_str)\n",
    "\n",
    "print(len(schema_slicing))\n",
    "\n",
    "\n",
    "create_table_pattern = re.compile(r'CREATE TABLE `[^`]+` \\([^;]+\\);')\n",
    "table_name_group = []\n",
    "test_total = set()\n",
    "count = 0\n",
    "for piece in schema_slicing:\n",
    "    create_table_statements = create_table_pattern.findall(piece)\n",
    "    temp_list = []\n",
    "    for table in create_table_statements:\n",
    "        table_name = re.search(r\"CREATE TABLE `([^`]+)`\", table).group(1)\n",
    "        temp_list.append(table_name.lower())\n",
    "        test_total.add(table_name.lower())\n",
    "        count+=1\n",
    "    print(temp_list)\n",
    "    table_name_group.append(temp_list)\n",
    "# print(count)\n",
    "print(len(test_total))\n",
    "#     table_name_group.append()"
   ]
  },
  {
   "cell_type": "code",
   "execution_count": 6,
   "metadata": {},
   "outputs": [],
   "source": [
    "from transformers import StoppingCriteria\n",
    "# from typing import List\n",
    "# from transformers.generation.stopping_criteria import StoppingCriteria, StoppingCriteriaList,STOPPING_CRITERIA_INPUTS_DOCSTRING, add_start_docstrings\n",
    "class EosListStoppingCriteria(StoppingCriteria):\n",
    "    def __init__(self, eos_sequence = [6203]):\n",
    "    # 设置在第一个';'处停止      \n",
    "        self.eos_sequence = eos_sequence\n",
    "\n",
    "    def __call__(self, input_ids: torch.LongTensor, scores: torch.FloatTensor, **kwargs) -> bool:\n",
    "        last_ids = input_ids[:,-len(self.eos_sequence):].tolist()\n",
    "        return self.eos_sequence in last_ids\n",
    "    \n",
    "def append_string_to_file(text, file_path):\n",
    "  with open(file_path, 'a') as file:\n",
    "      file.write(text + '\\n')\n",
    "\n",
    "def remove_spaces(text):\n",
    "  return re.sub(r'\\s+', ' ', text)\n",
    "\n",
    "def call_mistral(inputs):\n",
    "    output_tokens = model.generate(inputs, max_new_tokens=30, do_sample=False, pad_token_id=tokenizer.eos_token_id, eos_token_id=tokenizer.eos_token_id, stopping_criteria = [EosListStoppingCriteria()])\n",
    "#     output_tokens = model.generate(inputs, max_new_tokens=250, do_sample=False, pad_token_id=tokenizer.eos_token_id, eos_token_id=tokenizer.eos_token_id, stopping_criteria = stopping_criteria)\n",
    "    return tokenizer.decode(output_tokens[0][len(inputs[0]):], skip_special_tokens=True)"
   ]
  },
  {
   "cell_type": "code",
   "execution_count": 7,
   "metadata": {},
   "outputs": [],
   "source": [
    "def get_input_value(question_pad, selected_table_pad, schema_pad):\n",
    "    input_value = f\"I want you to act as a relation extraction robot for a sample SQL table. You need to return the tables related to the user's input question and tables.##Question:{question_pad} ###selected_table: {selected_table_pad}.Below are instructions describing the relationship between tables. Please write a response that appropriately completes the request. \\n##instruction:{schema_pad}\"\n",
    "    return input_value "
   ]
  },
  {
   "cell_type": "code",
   "execution_count": 8,
   "metadata": {
    "scrolled": false
   },
   "outputs": [
    {
     "name": "stderr",
     "output_type": "stream",
     "text": [
      "  1%|▍                                                                                  | 1/178 [00:05<17:28,  5.92s/it]"
     ]
    },
    {
     "name": "stdout",
     "output_type": "stream",
     "text": [
      "++++++++++++++++index:0++++++++++++++++++++++++\n",
      "正确表名： products, manufacturers\n",
      "预测表名： products, manufacturers\n",
      "############################################\n"
     ]
    },
    {
     "name": "stderr",
     "output_type": "stream",
     "text": [
      "\r",
      "  1%|▉                                                                                  | 2/178 [00:10<15:10,  5.17s/it]"
     ]
    },
    {
     "name": "stdout",
     "output_type": "stream",
     "text": [
      "++++++++++++++++index:1++++++++++++++++++++++++\n",
      "正确表名： products\n",
      "预测表名： products\n",
      "############################################\n"
     ]
    },
    {
     "name": "stderr",
     "output_type": "stream",
     "text": [
      "\r",
      "  2%|█▍                                                                                 | 3/178 [00:15<14:59,  5.14s/it]"
     ]
    },
    {
     "name": "stdout",
     "output_type": "stream",
     "text": [
      "++++++++++++++++index:2++++++++++++++++++++++++\n",
      "正确表名： manufacturers\n",
      "预测表名： manufacturer\n",
      "############################################\n"
     ]
    },
    {
     "name": "stderr",
     "output_type": "stream",
     "text": [
      "\r",
      "  2%|█▊                                                                                 | 4/178 [00:20<14:39,  5.06s/it]"
     ]
    },
    {
     "name": "stdout",
     "output_type": "stream",
     "text": [
      "++++++++++++++++index:3++++++++++++++++++++++++\n",
      "正确表名： manufacturers\n",
      "预测表名： manufacturer, manufacturers\n",
      "############################################\n"
     ]
    },
    {
     "name": "stderr",
     "output_type": "stream",
     "text": [
      "\r",
      "  3%|██▎                                                                                | 5/178 [00:25<14:17,  4.96s/it]"
     ]
    },
    {
     "name": "stdout",
     "output_type": "stream",
     "text": [
      "++++++++++++++++index:4++++++++++++++++++++++++\n",
      "正确表名： manufacturers\n",
      "预测表名： manufacturers\n",
      "############################################\n"
     ]
    },
    {
     "name": "stderr",
     "output_type": "stream",
     "text": [
      "\r",
      "  3%|██▊                                                                                | 6/178 [00:30<14:10,  4.95s/it]"
     ]
    },
    {
     "name": "stdout",
     "output_type": "stream",
     "text": [
      "++++++++++++++++index:5++++++++++++++++++++++++\n",
      "正确表名： products, manufacturers\n",
      "预测表名： manufacturer, products, manufacturers\n",
      "############################################\n"
     ]
    },
    {
     "name": "stderr",
     "output_type": "stream",
     "text": [
      "\r",
      "  4%|███▎                                                                               | 7/178 [00:35<13:59,  4.91s/it]"
     ]
    },
    {
     "name": "stdout",
     "output_type": "stream",
     "text": [
      "++++++++++++++++index:6++++++++++++++++++++++++\n",
      "正确表名： manufacturers\n",
      "预测表名： manufacturers\n",
      "############################################\n"
     ]
    },
    {
     "name": "stderr",
     "output_type": "stream",
     "text": [
      "\r",
      "  4%|███▋                                                                               | 8/178 [00:40<14:05,  4.97s/it]"
     ]
    },
    {
     "name": "stdout",
     "output_type": "stream",
     "text": [
      "++++++++++++++++index:7++++++++++++++++++++++++\n",
      "正确表名： products\n",
      "预测表名： None\n",
      "############################################\n"
     ]
    },
    {
     "name": "stderr",
     "output_type": "stream",
     "text": [
      "\r",
      "  5%|████▏                                                                              | 9/178 [00:45<13:53,  4.93s/it]"
     ]
    },
    {
     "name": "stdout",
     "output_type": "stream",
     "text": [
      "++++++++++++++++index:8++++++++++++++++++++++++\n",
      "正确表名： student, sportsinfo\n",
      "预测表名： student, sportsinfo\n",
      "############################################\n"
     ]
    },
    {
     "name": "stderr",
     "output_type": "stream",
     "text": [
      "\r",
      "  6%|████▌                                                                             | 10/178 [00:50<13:56,  4.98s/it]"
     ]
    },
    {
     "name": "stdout",
     "output_type": "stream",
     "text": [
      "++++++++++++++++index:9++++++++++++++++++++++++\n",
      "正确表名： plays_games, video_games\n",
      "预测表名： plays_games, video_games\n",
      "############################################\n"
     ]
    },
    {
     "name": "stderr",
     "output_type": "stream",
     "text": [
      "\r",
      "  6%|█████                                                                             | 11/178 [00:55<14:09,  5.09s/it]"
     ]
    },
    {
     "name": "stdout",
     "output_type": "stream",
     "text": [
      "++++++++++++++++index:10++++++++++++++++++++++++\n",
      "正确表名： video_games\n",
      "预测表名： video_games\n",
      "############################################\n"
     ]
    },
    {
     "name": "stderr",
     "output_type": "stream",
     "text": [
      "\r",
      "  7%|█████▌                                                                            | 12/178 [01:00<13:55,  5.03s/it]"
     ]
    },
    {
     "name": "stdout",
     "output_type": "stream",
     "text": [
      "++++++++++++++++index:11++++++++++++++++++++++++\n",
      "正确表名： video_games\n",
      "预测表名： video_games\n",
      "############################################\n"
     ]
    },
    {
     "name": "stderr",
     "output_type": "stream",
     "text": [
      "\r",
      "  7%|█████▉                                                                            | 13/178 [01:05<13:46,  5.01s/it]"
     ]
    },
    {
     "name": "stdout",
     "output_type": "stream",
     "text": [
      "++++++++++++++++index:12++++++++++++++++++++++++\n",
      "正确表名： video_games\n",
      "预测表名： video_games\n",
      "############################################\n"
     ]
    },
    {
     "name": "stderr",
     "output_type": "stream",
     "text": [
      "\r",
      "  8%|██████▍                                                                           | 14/178 [01:10<13:33,  4.96s/it]"
     ]
    },
    {
     "name": "stdout",
     "output_type": "stream",
     "text": [
      "++++++++++++++++index:13++++++++++++++++++++++++\n",
      "正确表名： sportsinfo, student\n",
      "预测表名： sportsinfo\n",
      "############################################\n"
     ]
    },
    {
     "name": "stderr",
     "output_type": "stream",
     "text": [
      "\r",
      "  8%|██████▉                                                                           | 15/178 [01:15<13:59,  5.15s/it]"
     ]
    },
    {
     "name": "stdout",
     "output_type": "stream",
     "text": [
      "++++++++++++++++index:14++++++++++++++++++++++++\n",
      "正确表名： student, plays_games\n",
      "预测表名： student, plays_games\n",
      "############################################\n"
     ]
    },
    {
     "name": "stderr",
     "output_type": "stream",
     "text": [
      "\r",
      "  9%|███████▎                                                                          | 16/178 [01:22<15:18,  5.67s/it]"
     ]
    },
    {
     "name": "stdout",
     "output_type": "stream",
     "text": [
      "++++++++++++++++index:15++++++++++++++++++++++++\n",
      "正确表名： student, sportsinfo\n",
      "预测表名： student, sportsinfo\n",
      "############################################\n"
     ]
    },
    {
     "name": "stderr",
     "output_type": "stream",
     "text": [
      "\r",
      " 10%|███████▊                                                                          | 17/178 [01:27<14:34,  5.43s/it]"
     ]
    },
    {
     "name": "stdout",
     "output_type": "stream",
     "text": [
      "++++++++++++++++index:16++++++++++++++++++++++++\n",
      "正确表名： musical\n",
      "预测表名： musical\n",
      "############################################\n"
     ]
    },
    {
     "name": "stderr",
     "output_type": "stream",
     "text": [
      "\r",
      " 10%|████████▎                                                                         | 18/178 [01:32<13:54,  5.22s/it]"
     ]
    },
    {
     "name": "stdout",
     "output_type": "stream",
     "text": [
      "++++++++++++++++index:17++++++++++++++++++++++++\n",
      "正确表名： actor, musical\n",
      "预测表名： musical, actor\n",
      "############################################\n"
     ]
    },
    {
     "name": "stderr",
     "output_type": "stream",
     "text": [
      "\r",
      " 11%|████████▊                                                                         | 19/178 [01:36<13:19,  5.03s/it]"
     ]
    },
    {
     "name": "stdout",
     "output_type": "stream",
     "text": [
      "++++++++++++++++index:18++++++++++++++++++++++++\n",
      "正确表名： musical, actor\n",
      "预测表名： musical, actor\n",
      "############################################\n"
     ]
    },
    {
     "name": "stderr",
     "output_type": "stream",
     "text": [
      "\r",
      " 11%|█████████▏                                                                        | 20/178 [01:41<12:59,  4.93s/it]"
     ]
    },
    {
     "name": "stdout",
     "output_type": "stream",
     "text": [
      "++++++++++++++++index:19++++++++++++++++++++++++\n",
      "正确表名： actor, musical\n",
      "预测表名： musical, actor\n",
      "############################################\n"
     ]
    },
    {
     "name": "stderr",
     "output_type": "stream",
     "text": [
      "\r",
      " 12%|█████████▋                                                                        | 21/178 [01:46<13:04,  4.99s/it]"
     ]
    },
    {
     "name": "stdout",
     "output_type": "stream",
     "text": [
      "++++++++++++++++index:20++++++++++++++++++++++++\n",
      "正确表名： entrepreneur, people\n",
      "预测表名： entrepreneur\n",
      "############################################\n"
     ]
    },
    {
     "name": "stderr",
     "output_type": "stream",
     "text": [
      "\r",
      " 12%|██████████▏                                                                       | 22/178 [01:51<12:53,  4.96s/it]"
     ]
    },
    {
     "name": "stdout",
     "output_type": "stream",
     "text": [
      "++++++++++++++++index:21++++++++++++++++++++++++\n",
      "正确表名： entrepreneur, people\n",
      "预测表名： entrepreneur, people\n",
      "############################################\n"
     ]
    },
    {
     "name": "stderr",
     "output_type": "stream",
     "text": [
      "\r",
      " 13%|██████████▌                                                                       | 23/178 [01:56<12:50,  4.97s/it]"
     ]
    },
    {
     "name": "stdout",
     "output_type": "stream",
     "text": [
      "++++++++++++++++index:22++++++++++++++++++++++++\n",
      "正确表名： people\n",
      "预测表名： person, people\n",
      "############################################\n"
     ]
    },
    {
     "name": "stderr",
     "output_type": "stream",
     "text": [
      "\r",
      " 13%|███████████                                                                       | 24/178 [02:01<12:48,  4.99s/it]"
     ]
    },
    {
     "name": "stdout",
     "output_type": "stream",
     "text": [
      "++++++++++++++++index:23++++++++++++++++++++++++\n",
      "正确表名： entrepreneur\n",
      "预测表名： companies\n",
      "############################################\n"
     ]
    },
    {
     "name": "stderr",
     "output_type": "stream",
     "text": [
      "\r",
      " 14%|███████████▌                                                                      | 25/178 [02:07<13:45,  5.40s/it]"
     ]
    },
    {
     "name": "stdout",
     "output_type": "stream",
     "text": [
      "++++++++++++++++index:24++++++++++++++++++++++++\n",
      "正确表名： tourist_attractions, visitors, visits\n",
      "预测表名： tourist_attractions, visits\n",
      "############################################\n"
     ]
    },
    {
     "name": "stderr",
     "output_type": "stream",
     "text": [
      "\r",
      " 15%|███████████▉                                                                      | 26/178 [02:12<13:00,  5.13s/it]"
     ]
    },
    {
     "name": "stdout",
     "output_type": "stream",
     "text": [
      "++++++++++++++++index:25++++++++++++++++++++++++\n",
      "正确表名： visits\n",
      "预测表名： visits\n",
      "############################################\n"
     ]
    },
    {
     "name": "stderr",
     "output_type": "stream",
     "text": [
      "\r",
      " 15%|████████████▍                                                                     | 27/178 [02:17<12:58,  5.15s/it]"
     ]
    },
    {
     "name": "stdout",
     "output_type": "stream",
     "text": [
      "++++++++++++++++index:26++++++++++++++++++++++++\n",
      "正确表名： locations, tourist_attractions\n",
      "预测表名： tourist_attractions, locations\n",
      "############################################\n"
     ]
    },
    {
     "name": "stderr",
     "output_type": "stream",
     "text": [
      "\r",
      " 16%|████████████▉                                                                     | 28/178 [02:22<12:36,  5.04s/it]"
     ]
    },
    {
     "name": "stdout",
     "output_type": "stream",
     "text": [
      "++++++++++++++++index:27++++++++++++++++++++++++\n",
      "正确表名： tourist_attractions\n",
      "预测表名： tourist_attractions\n",
      "############################################\n"
     ]
    },
    {
     "name": "stderr",
     "output_type": "stream",
     "text": [
      "\r",
      " 16%|█████████████▎                                                                    | 29/178 [02:27<12:22,  4.98s/it]"
     ]
    },
    {
     "name": "stdout",
     "output_type": "stream",
     "text": [
      "++++++++++++++++index:28++++++++++++++++++++++++\n",
      "正确表名： museums, tourist_attractions\n",
      "预测表名： museums\n",
      "############################################\n"
     ]
    },
    {
     "name": "stderr",
     "output_type": "stream",
     "text": [
      "\r",
      " 17%|█████████████▊                                                                    | 30/178 [02:32<12:11,  4.95s/it]"
     ]
    },
    {
     "name": "stdout",
     "output_type": "stream",
     "text": [
      "++++++++++++++++index:29++++++++++++++++++++++++\n",
      "正确表名： locations, tourist_attractions\n",
      "预测表名： tourist_attractions, locations\n",
      "############################################\n"
     ]
    },
    {
     "name": "stderr",
     "output_type": "stream",
     "text": [
      "\r",
      " 17%|██████████████▎                                                                   | 31/178 [02:36<11:58,  4.89s/it]"
     ]
    },
    {
     "name": "stdout",
     "output_type": "stream",
     "text": [
      "++++++++++++++++index:30++++++++++++++++++++++++\n",
      "正确表名： photos\n",
      "预测表名： photos\n",
      "############################################\n"
     ]
    },
    {
     "name": "stderr",
     "output_type": "stream",
     "text": [
      "\r",
      " 18%|██████████████▋                                                                   | 32/178 [02:42<12:17,  5.05s/it]"
     ]
    },
    {
     "name": "stdout",
     "output_type": "stream",
     "text": [
      "++++++++++++++++index:31++++++++++++++++++++++++\n",
      "正确表名： staff, tourist_attractions\n",
      "预测表名： staff, tourist_attractions\n",
      "############################################\n"
     ]
    },
    {
     "name": "stderr",
     "output_type": "stream",
     "text": [
      "\r",
      " 19%|███████████████▏                                                                  | 33/178 [02:47<12:14,  5.07s/it]"
     ]
    },
    {
     "name": "stdout",
     "output_type": "stream",
     "text": [
      "++++++++++++++++index:32++++++++++++++++++++++++\n",
      "正确表名： elimination\n",
      "预测表名： elimination\n",
      "############################################\n"
     ]
    },
    {
     "name": "stderr",
     "output_type": "stream",
     "text": [
      "\r",
      " 19%|███████████████▋                                                                  | 34/178 [02:52<11:50,  4.93s/it]"
     ]
    },
    {
     "name": "stdout",
     "output_type": "stream",
     "text": [
      "++++++++++++++++index:33++++++++++++++++++++++++\n",
      "正确表名： wrestler\n",
      "预测表名： wrestler\n",
      "############################################\n"
     ]
    },
    {
     "name": "stderr",
     "output_type": "stream",
     "text": [
      "\r",
      " 20%|████████████████                                                                  | 35/178 [02:56<11:21,  4.76s/it]"
     ]
    },
    {
     "name": "stdout",
     "output_type": "stream",
     "text": [
      "++++++++++++++++index:34++++++++++++++++++++++++\n",
      "正确表名： wrestler\n",
      "预测表名： wrestler\n",
      "############################################\n"
     ]
    },
    {
     "name": "stderr",
     "output_type": "stream",
     "text": [
      "\r",
      " 20%|████████████████▌                                                                 | 36/178 [03:01<11:20,  4.80s/it]"
     ]
    },
    {
     "name": "stdout",
     "output_type": "stream",
     "text": [
      "++++++++++++++++index:35++++++++++++++++++++++++\n",
      "正确表名： elimination\n",
      "预测表名： elimination\n",
      "############################################\n"
     ]
    },
    {
     "name": "stderr",
     "output_type": "stream",
     "text": [
      "\r",
      " 21%|█████████████████                                                                 | 37/178 [03:06<11:15,  4.79s/it]"
     ]
    },
    {
     "name": "stdout",
     "output_type": "stream",
     "text": [
      "++++++++++++++++index:36++++++++++++++++++++++++\n",
      "正确表名： user, tip\n",
      "预测表名： tip\n",
      "############################################\n"
     ]
    },
    {
     "name": "stderr",
     "output_type": "stream",
     "text": [
      "\r",
      " 21%|█████████████████▌                                                                | 38/178 [03:11<11:35,  4.97s/it]"
     ]
    },
    {
     "name": "stdout",
     "output_type": "stream",
     "text": [
      "++++++++++++++++index:37++++++++++++++++++++++++\n",
      "正确表名： category, business, review, user\n",
      "预测表名： user, review, business\n",
      "############################################\n"
     ]
    },
    {
     "name": "stderr",
     "output_type": "stream",
     "text": [
      "\r",
      " 22%|█████████████████▉                                                                | 39/178 [03:16<11:32,  4.98s/it]"
     ]
    },
    {
     "name": "stdout",
     "output_type": "stream",
     "text": [
      "++++++++++++++++index:38++++++++++++++++++++++++\n",
      "正确表名： category, business, review, user\n",
      "预测表名： review, restaurant, business\n",
      "############################################\n"
     ]
    },
    {
     "name": "stderr",
     "output_type": "stream",
     "text": [
      "\r",
      " 22%|██████████████████▍                                                               | 40/178 [03:22<12:03,  5.24s/it]"
     ]
    },
    {
     "name": "stdout",
     "output_type": "stream",
     "text": [
      "++++++++++++++++index:39++++++++++++++++++++++++\n",
      "正确表名： category, business, neighbourhood\n",
      "预测表名： business, neighbourhood, category\n",
      "############################################\n"
     ]
    },
    {
     "name": "stderr",
     "output_type": "stream",
     "text": [
      "\r",
      " 23%|██████████████████▉                                                               | 41/178 [03:26<11:33,  5.07s/it]"
     ]
    },
    {
     "name": "stdout",
     "output_type": "stream",
     "text": [
      "++++++++++++++++index:40++++++++++++++++++++++++\n",
      "正确表名： category, business\n",
      "预测表名： None\n",
      "############################################\n"
     ]
    },
    {
     "name": "stderr",
     "output_type": "stream",
     "text": [
      "\r",
      " 24%|███████████████████▎                                                              | 42/178 [03:31<11:24,  5.03s/it]"
     ]
    },
    {
     "name": "stdout",
     "output_type": "stream",
     "text": [
      "++++++++++++++++index:41++++++++++++++++++++++++\n",
      "正确表名： user, review\n",
      "预测表名： user, review\n",
      "############################################\n"
     ]
    },
    {
     "name": "stderr",
     "output_type": "stream",
     "text": [
      "\r",
      " 24%|███████████████████▊                                                              | 43/178 [03:37<11:20,  5.04s/it]"
     ]
    },
    {
     "name": "stdout",
     "output_type": "stream",
     "text": [
      "++++++++++++++++index:42++++++++++++++++++++++++\n",
      "正确表名： category, business\n",
      "预测表名： business, restaurant, location, category\n",
      "############################################\n"
     ]
    },
    {
     "name": "stderr",
     "output_type": "stream",
     "text": [
      "\r",
      " 25%|████████████████████▎                                                             | 44/178 [03:42<11:14,  5.03s/it]"
     ]
    },
    {
     "name": "stdout",
     "output_type": "stream",
     "text": [
      "++++++++++++++++index:43++++++++++++++++++++++++\n",
      "正确表名： user, review\n",
      "预测表名： user, review\n",
      "############################################\n"
     ]
    },
    {
     "name": "stderr",
     "output_type": "stream",
     "text": [
      "\r",
      " 25%|████████████████████▋                                                             | 45/178 [03:47<11:27,  5.17s/it]"
     ]
    },
    {
     "name": "stdout",
     "output_type": "stream",
     "text": [
      "++++++++++++++++index:44++++++++++++++++++++++++\n",
      "正确表名： review, business, user\n",
      "预测表名： review, business\n",
      "############################################\n"
     ]
    },
    {
     "name": "stderr",
     "output_type": "stream",
     "text": [
      "\r",
      " 26%|█████████████████████▏                                                            | 46/178 [03:52<11:08,  5.07s/it]"
     ]
    },
    {
     "name": "stdout",
     "output_type": "stream",
     "text": [
      "++++++++++++++++index:45++++++++++++++++++++++++\n",
      "正确表名： tip, business, user\n",
      "预测表名： business, user, tip\n",
      "############################################\n"
     ]
    },
    {
     "name": "stderr",
     "output_type": "stream",
     "text": [
      "\r",
      " 26%|█████████████████████▋                                                            | 47/178 [03:57<11:07,  5.09s/it]"
     ]
    },
    {
     "name": "stdout",
     "output_type": "stream",
     "text": [
      "++++++++++++++++index:46++++++++++++++++++++++++\n",
      "正确表名： review, business\n",
      "预测表名： review, business\n",
      "############################################\n"
     ]
    },
    {
     "name": "stderr",
     "output_type": "stream",
     "text": [
      "\r",
      " 27%|██████████████████████                                                            | 48/178 [04:02<11:05,  5.12s/it]"
     ]
    },
    {
     "name": "stdout",
     "output_type": "stream",
     "text": [
      "++++++++++++++++index:47++++++++++++++++++++++++\n",
      "正确表名： behavior_incident\n",
      "预测表名： ref_incident_type, behavior_incident\n",
      "############################################\n"
     ]
    },
    {
     "name": "stderr",
     "output_type": "stream",
     "text": [
      "\r",
      " 28%|██████████████████████▌                                                           | 49/178 [04:07<10:39,  4.96s/it]"
     ]
    },
    {
     "name": "stdout",
     "output_type": "stream",
     "text": [
      "++++++++++++++++index:48++++++++++++++++++++++++\n",
      "正确表名： student_addresses\n",
      "预测表名： student_addresses\n",
      "############################################\n"
     ]
    },
    {
     "name": "stderr",
     "output_type": "stream",
     "text": [
      "\r",
      " 28%|███████████████████████                                                           | 50/178 [04:11<10:22,  4.86s/it]"
     ]
    },
    {
     "name": "stdout",
     "output_type": "stream",
     "text": [
      "++++++++++++++++index:49++++++++++++++++++++++++\n",
      "正确表名： teachers\n",
      "预测表名： teachers\n",
      "############################################\n"
     ]
    },
    {
     "name": "stderr",
     "output_type": "stream",
     "text": [
      "\r",
      " 29%|███████████████████████▍                                                          | 51/178 [04:17<10:34,  4.99s/it]"
     ]
    },
    {
     "name": "stdout",
     "output_type": "stream",
     "text": [
      "++++++++++++++++index:50++++++++++++++++++++++++\n",
      "正确表名： students_in_detention\n",
      "预测表名： students_in_detention\n",
      "############################################\n"
     ]
    },
    {
     "name": "stderr",
     "output_type": "stream",
     "text": [
      "\r",
      " 29%|███████████████████████▉                                                          | 52/178 [04:22<10:28,  4.99s/it]"
     ]
    },
    {
     "name": "stdout",
     "output_type": "stream",
     "text": [
      "++++++++++++++++index:51++++++++++++++++++++++++\n",
      "正确表名： film\n",
      "预测表名： film\n",
      "############################################\n"
     ]
    },
    {
     "name": "stderr",
     "output_type": "stream",
     "text": [
      "\r",
      " 30%|████████████████████████▍                                                         | 53/178 [04:27<10:24,  4.99s/it]"
     ]
    },
    {
     "name": "stdout",
     "output_type": "stream",
     "text": [
      "++++++++++++++++index:52++++++++++++++++++++++++\n",
      "正确表名： film\n",
      "预测表名： film\n",
      "############################################\n"
     ]
    },
    {
     "name": "stderr",
     "output_type": "stream",
     "text": [
      "\r",
      " 30%|████████████████████████▉                                                         | 54/178 [04:32<10:30,  5.08s/it]"
     ]
    },
    {
     "name": "stdout",
     "output_type": "stream",
     "text": [
      "++++++++++++++++index:53++++++++++++++++++++++++\n",
      "正确表名： film_market_estimation\n",
      "预测表名： film_market_estimation\n",
      "############################################\n"
     ]
    },
    {
     "name": "stderr",
     "output_type": "stream",
     "text": [
      "\r",
      " 31%|█████████████████████████▎                                                        | 55/178 [04:37<10:10,  4.96s/it]"
     ]
    },
    {
     "name": "stdout",
     "output_type": "stream",
     "text": [
      "++++++++++++++++index:54++++++++++++++++++++++++\n",
      "正确表名： film\n",
      "预测表名： film\n",
      "############################################\n"
     ]
    },
    {
     "name": "stderr",
     "output_type": "stream",
     "text": [
      "\r",
      " 31%|█████████████████████████▊                                                        | 56/178 [04:42<10:08,  4.98s/it]"
     ]
    },
    {
     "name": "stdout",
     "output_type": "stream",
     "text": [
      "++++++++++++++++index:55++++++++++++++++++++++++\n",
      "正确表名： catalog_contents, catalog_contents_Additional_Attributes\n",
      "预测表名： catalog_contents_additional_attributes, catalogs, category\n",
      "############################################\n"
     ]
    },
    {
     "name": "stderr",
     "output_type": "stream",
     "text": [
      "\r",
      " 32%|██████████████████████████▎                                                       | 57/178 [04:47<10:07,  5.02s/it]"
     ]
    },
    {
     "name": "stdout",
     "output_type": "stream",
     "text": [
      "++++++++++++++++index:56++++++++++++++++++++++++\n",
      "正确表名： catalog_structure\n",
      "预测表名： catalog_structure\n",
      "############################################\n"
     ]
    },
    {
     "name": "stderr",
     "output_type": "stream",
     "text": [
      "\r",
      " 33%|██████████████████████████▋                                                       | 58/178 [04:52<09:56,  4.97s/it]"
     ]
    },
    {
     "name": "stdout",
     "output_type": "stream",
     "text": [
      "++++++++++++++++index:57++++++++++++++++++++++++\n",
      "正确表名： catalogs\n",
      "预测表名： catalogs\n",
      "############################################\n"
     ]
    },
    {
     "name": "stderr",
     "output_type": "stream",
     "text": [
      "\r",
      " 33%|███████████████████████████▏                                                      | 59/178 [04:56<09:46,  4.93s/it]"
     ]
    },
    {
     "name": "stdout",
     "output_type": "stream",
     "text": [
      "++++++++++++++++index:58++++++++++++++++++++++++\n",
      "正确表名： catalog_contents\n",
      "预测表名： catalog_contents, catalogs\n",
      "############################################\n"
     ]
    },
    {
     "name": "stderr",
     "output_type": "stream",
     "text": [
      "\r",
      " 34%|███████████████████████████▋                                                      | 60/178 [05:01<09:40,  4.92s/it]"
     ]
    },
    {
     "name": "stdout",
     "output_type": "stream",
     "text": [
      "++++++++++++++++index:59++++++++++++++++++++++++\n",
      "正确表名： airports\n",
      "预测表名： airports\n",
      "############################################\n"
     ]
    },
    {
     "name": "stderr",
     "output_type": "stream",
     "text": [
      "\r",
      " 34%|████████████████████████████                                                      | 61/178 [05:07<09:51,  5.05s/it]"
     ]
    },
    {
     "name": "stdout",
     "output_type": "stream",
     "text": [
      "++++++++++++++++index:60++++++++++++++++++++++++\n",
      "正确表名： airports\n",
      "预测表名： airports\n",
      "############################################\n"
     ]
    },
    {
     "name": "stderr",
     "output_type": "stream",
     "text": [
      "\r",
      " 35%|████████████████████████████▌                                                     | 62/178 [05:12<09:35,  4.96s/it]"
     ]
    },
    {
     "name": "stdout",
     "output_type": "stream",
     "text": [
      "++++++++++++++++index:61++++++++++++++++++++++++\n",
      "正确表名： airports\n",
      "预测表名： airports\n",
      "############################################\n"
     ]
    },
    {
     "name": "stderr",
     "output_type": "stream",
     "text": [
      "\r",
      " 35%|█████████████████████████████                                                     | 63/178 [05:16<09:18,  4.86s/it]"
     ]
    },
    {
     "name": "stdout",
     "output_type": "stream",
     "text": [
      "++++++++++++++++index:62++++++++++++++++++++++++\n",
      "正确表名： airlines\n",
      "预测表名： routes, airlines\n",
      "############################################\n"
     ]
    },
    {
     "name": "stderr",
     "output_type": "stream",
     "text": [
      "\r",
      " 36%|█████████████████████████████▍                                                    | 64/178 [05:22<09:34,  5.04s/it]"
     ]
    },
    {
     "name": "stdout",
     "output_type": "stream",
     "text": [
      "++++++++++++++++index:63++++++++++++++++++++++++\n",
      "正确表名： airports\n",
      "预测表名： airports\n",
      "############################################\n"
     ]
    },
    {
     "name": "stderr",
     "output_type": "stream",
     "text": [
      "\r",
      " 37%|█████████████████████████████▉                                                    | 65/178 [05:27<09:52,  5.24s/it]"
     ]
    },
    {
     "name": "stdout",
     "output_type": "stream",
     "text": [
      "++++++++++++++++index:64++++++++++++++++++++++++\n",
      "正确表名： airports\n",
      "预测表名： airports\n",
      "############################################\n"
     ]
    },
    {
     "name": "stderr",
     "output_type": "stream",
     "text": [
      "\r",
      " 37%|██████████████████████████████▍                                                   | 66/178 [05:32<09:33,  5.12s/it]"
     ]
    },
    {
     "name": "stdout",
     "output_type": "stream",
     "text": [
      "++++++++++++++++index:65++++++++++++++++++++++++\n",
      "正确表名： airlines\n",
      "预测表名： airlines\n",
      "############################################\n"
     ]
    },
    {
     "name": "stderr",
     "output_type": "stream",
     "text": [
      "\r",
      " 38%|██████████████████████████████▊                                                   | 67/178 [05:37<09:12,  4.98s/it]"
     ]
    },
    {
     "name": "stdout",
     "output_type": "stream",
     "text": [
      "++++++++++++++++index:66++++++++++++++++++++++++\n",
      "正确表名： airlines, routes\n",
      "预测表名： routes, airlines\n",
      "############################################\n"
     ]
    },
    {
     "name": "stderr",
     "output_type": "stream",
     "text": [
      "\r",
      " 38%|███████████████████████████████▎                                                  | 68/178 [05:42<09:30,  5.18s/it]"
     ]
    },
    {
     "name": "stdout",
     "output_type": "stream",
     "text": [
      "++++++++++++++++index:67++++++++++++++++++++++++\n",
      "正确表名： game\n",
      "预测表名： game\n",
      "############################################\n"
     ]
    },
    {
     "name": "stderr",
     "output_type": "stream",
     "text": [
      "\r",
      " 39%|███████████████████████████████▊                                                  | 69/178 [05:48<09:29,  5.22s/it]"
     ]
    },
    {
     "name": "stdout",
     "output_type": "stream",
     "text": [
      "++++++++++++++++index:68++++++++++++++++++++++++\n",
      "正确表名： physician, patient\n",
      "预测表名： physician, patient\n",
      "############################################\n"
     ]
    },
    {
     "name": "stderr",
     "output_type": "stream",
     "text": [
      "\r",
      " 39%|████████████████████████████████▏                                                 | 70/178 [05:52<09:06,  5.06s/it]"
     ]
    },
    {
     "name": "stdout",
     "output_type": "stream",
     "text": [
      "++++++++++++++++index:69++++++++++++++++++++++++\n",
      "正确表名： department\n",
      "预测表名： department\n",
      "############################################\n"
     ]
    },
    {
     "name": "stderr",
     "output_type": "stream",
     "text": [
      "\r",
      " 40%|████████████████████████████████▋                                                 | 71/178 [05:58<09:05,  5.10s/it]"
     ]
    },
    {
     "name": "stdout",
     "output_type": "stream",
     "text": [
      "++++++++++++++++index:70++++++++++++++++++++++++\n",
      "正确表名： procedures\n",
      "预测表名： procedures\n",
      "############################################\n"
     ]
    },
    {
     "name": "stderr",
     "output_type": "stream",
     "text": [
      "\r",
      " 40%|█████████████████████████████████▏                                                | 72/178 [06:03<09:00,  5.10s/it]"
     ]
    },
    {
     "name": "stdout",
     "output_type": "stream",
     "text": [
      "++++++++++++++++index:71++++++++++++++++++++++++\n",
      "正确表名： procedures, physician, trained_in\n",
      "预测表名： physician, trained_in, procedures\n",
      "############################################\n"
     ]
    },
    {
     "name": "stderr",
     "output_type": "stream",
     "text": [
      "\r",
      " 41%|█████████████████████████████████▋                                                | 73/178 [06:08<08:53,  5.09s/it]"
     ]
    },
    {
     "name": "stdout",
     "output_type": "stream",
     "text": [
      "++++++++++++++++index:72++++++++++++++++++++++++\n",
      "正确表名： physician, prescribes\n",
      "预测表名： physician, prescribes\n",
      "############################################\n"
     ]
    },
    {
     "name": "stderr",
     "output_type": "stream",
     "text": [
      "\r",
      " 42%|██████████████████████████████████                                                | 74/178 [06:12<08:29,  4.90s/it]"
     ]
    },
    {
     "name": "stdout",
     "output_type": "stream",
     "text": [
      "++++++++++++++++index:73++++++++++++++++++++++++\n",
      "正确表名： appointment\n",
      "预测表名： appointment\n",
      "############################################\n"
     ]
    },
    {
     "name": "stderr",
     "output_type": "stream",
     "text": [
      "\r",
      " 42%|██████████████████████████████████▌                                               | 75/178 [06:17<08:27,  4.93s/it]"
     ]
    },
    {
     "name": "stdout",
     "output_type": "stream",
     "text": [
      "++++++++++++++++index:74++++++++++++++++++++++++\n",
      "正确表名： nurse, on_call\n",
      "预测表名： on_call, nurse\n",
      "############################################\n"
     ]
    },
    {
     "name": "stderr",
     "output_type": "stream",
     "text": [
      "\r",
      " 43%|███████████████████████████████████                                               | 76/178 [06:22<08:26,  4.96s/it]"
     ]
    },
    {
     "name": "stdout",
     "output_type": "stream",
     "text": [
      "++++++++++++++++index:75++++++++++++++++++++++++\n",
      "正确表名： procedures, physician, trained_in\n",
      "预测表名： physician, trained_in, procedures\n",
      "############################################\n"
     ]
    },
    {
     "name": "stderr",
     "output_type": "stream",
     "text": [
      "\r",
      " 43%|███████████████████████████████████▍                                              | 77/178 [06:27<08:12,  4.88s/it]"
     ]
    },
    {
     "name": "stdout",
     "output_type": "stream",
     "text": [
      "++++++++++++++++index:76++++++++++++++++++++++++\n",
      "正确表名： department\n",
      "预测表名： department\n",
      "############################################\n"
     ]
    },
    {
     "name": "stderr",
     "output_type": "stream",
     "text": [
      "\r",
      " 44%|███████████████████████████████████▉                                              | 78/178 [06:32<08:15,  4.95s/it]"
     ]
    },
    {
     "name": "stdout",
     "output_type": "stream",
     "text": [
      "++++++++++++++++index:77++++++++++++++++++++++++\n",
      "正确表名： procedures, physician, trained_in\n",
      "预测表名： physician, trained_in, procedures\n",
      "############################################\n"
     ]
    },
    {
     "name": "stderr",
     "output_type": "stream",
     "text": [
      "\r",
      " 44%|████████████████████████████████████▍                                             | 79/178 [06:37<08:04,  4.89s/it]"
     ]
    },
    {
     "name": "stdout",
     "output_type": "stream",
     "text": [
      "++++++++++++++++index:78++++++++++++++++++++++++\n",
      "正确表名： buildings\n",
      "预测表名： buildings\n",
      "############################################\n"
     ]
    },
    {
     "name": "stderr",
     "output_type": "stream",
     "text": [
      "\r",
      " 45%|████████████████████████████████████▊                                             | 80/178 [06:42<08:15,  5.06s/it]"
     ]
    },
    {
     "name": "stdout",
     "output_type": "stream",
     "text": [
      "++++++++++++++++index:79++++++++++++++++++++++++\n",
      "正确表名： companies\n",
      "预测表名： companies\n",
      "############################################\n"
     ]
    },
    {
     "name": "stderr",
     "output_type": "stream",
     "text": [
      "\r",
      " 46%|█████████████████████████████████████▎                                            | 81/178 [06:47<08:03,  4.98s/it]"
     ]
    },
    {
     "name": "stdout",
     "output_type": "stream",
     "text": [
      "++++++++++++++++index:80++++++++++++++++++++++++\n",
      "正确表名： companies\n",
      "预测表名： company, companies\n",
      "############################################\n"
     ]
    },
    {
     "name": "stderr",
     "output_type": "stream",
     "text": [
      "\r",
      " 46%|█████████████████████████████████████▊                                            | 82/178 [06:52<07:49,  4.89s/it]"
     ]
    },
    {
     "name": "stdout",
     "output_type": "stream",
     "text": [
      "++++++++++++++++index:81++++++++++++++++++++++++\n",
      "正确表名： buildings\n",
      "预测表名： buildings\n",
      "############################################\n"
     ]
    },
    {
     "name": "stderr",
     "output_type": "stream",
     "text": [
      "\r",
      " 47%|██████████████████████████████████████▏                                           | 83/178 [06:57<07:42,  4.86s/it]"
     ]
    },
    {
     "name": "stdout",
     "output_type": "stream",
     "text": [
      "++++++++++++++++index:82++++++++++++++++++++++++\n",
      "正确表名： party\n",
      "预测表名： party\n",
      "############################################\n"
     ]
    },
    {
     "name": "stderr",
     "output_type": "stream",
     "text": [
      "\r",
      " 47%|██████████████████████████████████████▋                                           | 84/178 [07:01<07:32,  4.82s/it]"
     ]
    },
    {
     "name": "stdout",
     "output_type": "stream",
     "text": [
      "++++++++++++++++index:83++++++++++++++++++++++++\n",
      "正确表名： party\n",
      "预测表名： party\n",
      "############################################\n"
     ]
    },
    {
     "name": "stderr",
     "output_type": "stream",
     "text": [
      "\r",
      " 48%|███████████████████████████████████████▏                                          | 85/178 [07:06<07:26,  4.81s/it]"
     ]
    },
    {
     "name": "stdout",
     "output_type": "stream",
     "text": [
      "++++++++++++++++index:84++++++++++++++++++++++++\n",
      "正确表名： party\n",
      "预测表名： party\n",
      "############################################\n"
     ]
    },
    {
     "name": "stderr",
     "output_type": "stream",
     "text": [
      "\r",
      " 48%|███████████████████████████████████████▌                                          | 86/178 [07:11<07:26,  4.85s/it]"
     ]
    },
    {
     "name": "stdout",
     "output_type": "stream",
     "text": [
      "++++++++++++++++index:85++++++++++++++++++++++++\n",
      "正确表名： party_events, party\n",
      "预测表名： party, party_events\n",
      "############################################\n"
     ]
    },
    {
     "name": "stderr",
     "output_type": "stream",
     "text": [
      "\r",
      " 49%|████████████████████████████████████████                                          | 87/178 [07:18<08:13,  5.42s/it]"
     ]
    },
    {
     "name": "stdout",
     "output_type": "stream",
     "text": [
      "++++++++++++++++index:86++++++++++++++++++++++++\n",
      "正确表名： browser, accelerator_compatible_browser, web_client_accelerator\n",
      "预测表名： web_client_accelerator, accelerator_compatible_browser\n",
      "############################################\n"
     ]
    },
    {
     "name": "stderr",
     "output_type": "stream",
     "text": [
      "\r",
      " 49%|████████████████████████████████████████▌                                         | 88/178 [07:24<08:22,  5.59s/it]"
     ]
    },
    {
     "name": "stdout",
     "output_type": "stream",
     "text": [
      "++++++++++++++++index:87++++++++++++++++++++++++\n",
      "正确表名： transactions, transactions_lots\n",
      "预测表名： transactions_lots, transactions, lots\n",
      "############################################\n"
     ]
    },
    {
     "name": "stderr",
     "output_type": "stream",
     "text": [
      "\r",
      " 50%|█████████████████████████████████████████                                         | 89/178 [07:29<08:08,  5.49s/it]"
     ]
    },
    {
     "name": "stdout",
     "output_type": "stream",
     "text": [
      "++++++++++++++++index:88++++++++++++++++++++++++\n",
      "正确表名： investors\n",
      "预测表名： investors\n",
      "############################################\n"
     ]
    },
    {
     "name": "stderr",
     "output_type": "stream",
     "text": [
      "\r",
      " 51%|█████████████████████████████████████████▍                                        | 90/178 [07:34<07:53,  5.38s/it]"
     ]
    },
    {
     "name": "stdout",
     "output_type": "stream",
     "text": [
      "++++++++++++++++index:89++++++++++++++++++++++++\n",
      "正确表名： lots, transactions_lots\n",
      "预测表名： lots, transactions_lots\n",
      "############################################\n"
     ]
    },
    {
     "name": "stderr",
     "output_type": "stream",
     "text": [
      "\r",
      " 51%|█████████████████████████████████████████▉                                        | 91/178 [07:39<07:47,  5.38s/it]"
     ]
    },
    {
     "name": "stdout",
     "output_type": "stream",
     "text": [
      "++++++++++++++++index:90++++++++++++++++++++++++\n",
      "正确表名： transactions\n",
      "预测表名： transactions, ref_transaction_types\n",
      "############################################\n"
     ]
    },
    {
     "name": "stderr",
     "output_type": "stream",
     "text": [
      "\r",
      " 52%|██████████████████████████████████████████▍                                       | 92/178 [07:44<07:25,  5.18s/it]"
     ]
    },
    {
     "name": "stdout",
     "output_type": "stream",
     "text": [
      "++++++++++++++++index:91++++++++++++++++++++++++\n",
      "正确表名： university\n",
      "预测表名： university\n",
      "############################################\n"
     ]
    },
    {
     "name": "stderr",
     "output_type": "stream",
     "text": [
      "\r",
      " 52%|██████████████████████████████████████████▊                                       | 93/178 [07:49<07:09,  5.05s/it]"
     ]
    },
    {
     "name": "stdout",
     "output_type": "stream",
     "text": [
      "++++++++++++++++index:92++++++++++++++++++++++++\n",
      "正确表名： university\n",
      "预测表名： university\n",
      "############################################\n"
     ]
    },
    {
     "name": "stderr",
     "output_type": "stream",
     "text": [
      "\r",
      " 53%|███████████████████████████████████████████▎                                      | 94/178 [07:54<06:57,  4.97s/it]"
     ]
    },
    {
     "name": "stdout",
     "output_type": "stream",
     "text": [
      "++++++++++++++++index:93++++++++++++++++++++++++\n",
      "正确表名： university\n",
      "预测表名： university\n",
      "############################################\n"
     ]
    },
    {
     "name": "stderr",
     "output_type": "stream",
     "text": [
      "\r",
      " 53%|███████████████████████████████████████████▊                                      | 95/178 [07:59<06:47,  4.91s/it]"
     ]
    },
    {
     "name": "stdout",
     "output_type": "stream",
     "text": [
      "++++++++++++++++index:94++++++++++++++++++++++++\n",
      "正确表名： university, basketball_match\n",
      "预测表名： basketball_match, university\n",
      "############################################\n"
     ]
    },
    {
     "name": "stderr",
     "output_type": "stream",
     "text": [
      "\r",
      " 54%|████████████████████████████████████████████▏                                     | 96/178 [08:04<06:44,  4.94s/it]"
     ]
    },
    {
     "name": "stdout",
     "output_type": "stream",
     "text": [
      "++++++++++++++++index:95++++++++++++++++++++++++\n",
      "正确表名： restaurant, geographic, location\n",
      "预测表名： geographic, location, restaurant\n",
      "############################################\n"
     ]
    },
    {
     "name": "stderr",
     "output_type": "stream",
     "text": [
      "\r",
      " 54%|████████████████████████████████████████████▋                                     | 97/178 [08:08<06:37,  4.91s/it]"
     ]
    },
    {
     "name": "stdout",
     "output_type": "stream",
     "text": [
      "++++++++++++++++index:96++++++++++++++++++++++++\n",
      "正确表名： restaurant, location\n",
      "预测表名： location, restaurant\n",
      "############################################\n"
     ]
    },
    {
     "name": "stderr",
     "output_type": "stream",
     "text": [
      "\r",
      " 55%|█████████████████████████████████████████████▏                                    | 98/178 [08:13<06:27,  4.85s/it]"
     ]
    },
    {
     "name": "stdout",
     "output_type": "stream",
     "text": [
      "++++++++++++++++index:97++++++++++++++++++++++++\n",
      "正确表名： location, restaurant, geographic\n",
      "预测表名： geographic, location, restaurant\n",
      "############################################\n"
     ]
    },
    {
     "name": "stderr",
     "output_type": "stream",
     "text": [
      "\r",
      " 56%|█████████████████████████████████████████████▌                                    | 99/178 [08:18<06:24,  4.86s/it]"
     ]
    },
    {
     "name": "stdout",
     "output_type": "stream",
     "text": [
      "++++++++++++++++index:98++++++++++++++++++++++++\n",
      "正确表名： restaurant, location\n",
      "预测表名： locations, location, restaurant\n",
      "############################################\n"
     ]
    },
    {
     "name": "stderr",
     "output_type": "stream",
     "text": [
      "\r",
      " 56%|█████████████████████████████████████████████▌                                   | 100/178 [08:23<06:20,  4.88s/it]"
     ]
    },
    {
     "name": "stdout",
     "output_type": "stream",
     "text": [
      "++++++++++++++++index:99++++++++++++++++++++++++\n",
      "正确表名： restaurant, location\n",
      "预测表名： None\n",
      "############################################\n"
     ]
    },
    {
     "name": "stderr",
     "output_type": "stream",
     "text": [
      "\r",
      " 57%|█████████████████████████████████████████████▉                                   | 101/178 [08:28<06:11,  4.82s/it]"
     ]
    },
    {
     "name": "stdout",
     "output_type": "stream",
     "text": [
      "++++++++++++++++index:100++++++++++++++++++++++++\n",
      "正确表名： restaurant, location\n",
      "预测表名： location, restaurant\n",
      "############################################\n"
     ]
    },
    {
     "name": "stderr",
     "output_type": "stream",
     "text": [
      "\r",
      " 57%|██████████████████████████████████████████████▍                                  | 102/178 [08:32<06:04,  4.80s/it]"
     ]
    },
    {
     "name": "stdout",
     "output_type": "stream",
     "text": [
      "++++++++++++++++index:101++++++++++++++++++++++++\n",
      "正确表名： restaurant, location\n",
      "预测表名： location, restaurant\n",
      "############################################\n"
     ]
    },
    {
     "name": "stderr",
     "output_type": "stream",
     "text": [
      "\r",
      " 58%|██████████████████████████████████████████████▊                                  | 103/178 [08:37<06:01,  4.82s/it]"
     ]
    },
    {
     "name": "stdout",
     "output_type": "stream",
     "text": [
      "++++++++++++++++index:102++++++++++++++++++++++++\n",
      "正确表名： restaurant, location\n",
      "预测表名： location, restaurant\n",
      "############################################\n"
     ]
    },
    {
     "name": "stderr",
     "output_type": "stream",
     "text": [
      "\r",
      " 58%|███████████████████████████████████████████████▎                                 | 104/178 [08:42<05:57,  4.83s/it]"
     ]
    },
    {
     "name": "stdout",
     "output_type": "stream",
     "text": [
      "++++++++++++++++index:103++++++++++++++++++++++++\n",
      "正确表名： restaurant, location\n",
      "预测表名： geometric, location, restaurant\n",
      "############################################\n"
     ]
    },
    {
     "name": "stderr",
     "output_type": "stream",
     "text": [
      "\r",
      " 59%|███████████████████████████████████████████████▊                                 | 105/178 [08:47<05:52,  4.83s/it]"
     ]
    },
    {
     "name": "stdout",
     "output_type": "stream",
     "text": [
      "++++++++++++++++index:104++++++++++++++++++++++++\n",
      "正确表名： restaurant, geographic, location\n",
      "预测表名： location, restaurant\n",
      "############################################\n"
     ]
    },
    {
     "name": "stderr",
     "output_type": "stream",
     "text": [
      "\r",
      " 60%|████████████████████████████████████████████████▏                                | 106/178 [08:52<05:49,  4.85s/it]"
     ]
    },
    {
     "name": "stdout",
     "output_type": "stream",
     "text": [
      "++++++++++++++++index:105++++++++++++++++++++++++\n",
      "正确表名： restaurant, geographic, location\n",
      "预测表名： location, restaurant\n",
      "############################################\n"
     ]
    },
    {
     "name": "stderr",
     "output_type": "stream",
     "text": [
      "\r",
      " 60%|████████████████████████████████████████████████▋                                | 107/178 [08:57<05:46,  4.88s/it]"
     ]
    },
    {
     "name": "stdout",
     "output_type": "stream",
     "text": [
      "++++++++++++++++index:106++++++++++++++++++++++++\n",
      "正确表名： restaurant, location\n",
      "预测表名： None\n",
      "############################################\n"
     ]
    },
    {
     "name": "stderr",
     "output_type": "stream",
     "text": [
      "\r",
      " 61%|█████████████████████████████████████████████████▏                               | 108/178 [09:01<05:37,  4.83s/it]"
     ]
    },
    {
     "name": "stdout",
     "output_type": "stream",
     "text": [
      "++++++++++++++++index:107++++++++++++++++++++++++\n",
      "正确表名： user_profiles\n",
      "预测表名： user_profiles\n",
      "############################################\n"
     ]
    },
    {
     "name": "stderr",
     "output_type": "stream",
     "text": [
      "\r",
      " 61%|█████████████████████████████████████████████████▌                               | 109/178 [09:06<05:31,  4.80s/it]"
     ]
    },
    {
     "name": "stdout",
     "output_type": "stream",
     "text": [
      "++++++++++++++++index:108++++++++++++++++++++++++\n",
      "正确表名： user_profiles\n",
      "预测表名： user_profiles\n",
      "############################################\n"
     ]
    },
    {
     "name": "stderr",
     "output_type": "stream",
     "text": [
      "\r",
      " 62%|██████████████████████████████████████████████████                               | 110/178 [09:11<05:22,  4.74s/it]"
     ]
    },
    {
     "name": "stdout",
     "output_type": "stream",
     "text": [
      "++++++++++++++++index:109++++++++++++++++++++++++\n",
      "正确表名： weather\n",
      "预测表名： weather\n",
      "############################################\n"
     ]
    },
    {
     "name": "stderr",
     "output_type": "stream",
     "text": [
      "\r",
      " 62%|██████████████████████████████████████████████████▌                              | 111/178 [09:16<05:25,  4.86s/it]"
     ]
    },
    {
     "name": "stdout",
     "output_type": "stream",
     "text": [
      "++++++++++++++++index:110++++++++++++++++++++++++\n",
      "正确表名： weather, trip\n",
      "预测表名： trip, weather\n",
      "############################################\n"
     ]
    },
    {
     "name": "stderr",
     "output_type": "stream",
     "text": [
      "\r",
      " 63%|██████████████████████████████████████████████████▉                              | 112/178 [09:21<05:18,  4.82s/it]"
     ]
    },
    {
     "name": "stdout",
     "output_type": "stream",
     "text": [
      "++++++++++++++++index:111++++++++++++++++++++++++\n",
      "正确表名： trip, weather\n",
      "预测表名： trip, weather\n",
      "############################################\n"
     ]
    },
    {
     "name": "stderr",
     "output_type": "stream",
     "text": [
      "\r",
      " 63%|███████████████████████████████████████████████████▍                             | 113/178 [09:25<05:08,  4.75s/it]"
     ]
    },
    {
     "name": "stdout",
     "output_type": "stream",
     "text": [
      "++++++++++++++++index:112++++++++++++++++++++++++\n",
      "正确表名： trip\n",
      "预测表名： trip\n",
      "############################################\n"
     ]
    },
    {
     "name": "stderr",
     "output_type": "stream",
     "text": [
      "\r",
      " 64%|███████████████████████████████████████████████████▉                             | 114/178 [09:31<05:15,  4.93s/it]"
     ]
    },
    {
     "name": "stdout",
     "output_type": "stream",
     "text": [
      "++++++++++++++++index:113++++++++++++++++++++++++\n",
      "正确表名： station, status\n",
      "预测表名： status, station\n",
      "############################################\n"
     ]
    },
    {
     "name": "stderr",
     "output_type": "stream",
     "text": [
      "\r",
      " 65%|████████████████████████████████████████████████████▎                            | 115/178 [09:36<05:14,  5.00s/it]"
     ]
    },
    {
     "name": "stdout",
     "output_type": "stream",
     "text": [
      "++++++++++++++++index:114++++++++++++++++++++++++\n",
      "正确表名： trip\n",
      "预测表名： trip\n",
      "############################################\n"
     ]
    },
    {
     "name": "stderr",
     "output_type": "stream",
     "text": [
      "\r",
      " 65%|████████████████████████████████████████████████████▊                            | 116/178 [09:41<05:06,  4.94s/it]"
     ]
    },
    {
     "name": "stdout",
     "output_type": "stream",
     "text": [
      "++++++++++++++++index:115++++++++++++++++++++++++\n",
      "正确表名： weather\n",
      "预测表名： weather\n",
      "############################################\n"
     ]
    },
    {
     "name": "stderr",
     "output_type": "stream",
     "text": [
      "\r",
      " 66%|█████████████████████████████████████████████████████▏                           | 117/178 [09:45<04:55,  4.85s/it]"
     ]
    },
    {
     "name": "stdout",
     "output_type": "stream",
     "text": [
      "++++++++++++++++index:116++++++++++++++++++++++++\n",
      "正确表名： station\n",
      "预测表名： station\n",
      "############################################\n"
     ]
    },
    {
     "name": "stderr",
     "output_type": "stream",
     "text": [
      "\r",
      " 66%|█████████████████████████████████████████████████████▋                           | 118/178 [09:50<04:50,  4.85s/it]"
     ]
    },
    {
     "name": "stdout",
     "output_type": "stream",
     "text": [
      "++++++++++++++++index:117++++++++++++++++++++++++\n",
      "正确表名： trip\n",
      "预测表名： trip\n",
      "############################################\n"
     ]
    },
    {
     "name": "stderr",
     "output_type": "stream",
     "text": [
      "\r",
      " 67%|██████████████████████████████████████████████████████▏                          | 119/178 [09:55<04:47,  4.86s/it]"
     ]
    },
    {
     "name": "stdout",
     "output_type": "stream",
     "text": [
      "++++++++++++++++index:118++++++++++++++++++++++++\n",
      "正确表名： trip\n",
      "预测表名： trip, station\n",
      "############################################\n"
     ]
    },
    {
     "name": "stderr",
     "output_type": "stream",
     "text": [
      "\r",
      " 67%|██████████████████████████████████████████████████████▌                          | 120/178 [10:00<04:50,  5.01s/it]"
     ]
    },
    {
     "name": "stdout",
     "output_type": "stream",
     "text": [
      "++++++++++++++++index:119++++++++++++++++++++++++\n",
      "正确表名： campuses\n",
      "预测表名： None\n",
      "############################################\n"
     ]
    },
    {
     "name": "stderr",
     "output_type": "stream",
     "text": [
      "\r",
      " 68%|███████████████████████████████████████████████████████                          | 121/178 [10:05<04:42,  4.96s/it]"
     ]
    },
    {
     "name": "stdout",
     "output_type": "stream",
     "text": [
      "++++++++++++++++index:120++++++++++++++++++++++++\n",
      "正确表名： campuses\n",
      "预测表名： campuses\n",
      "############################################\n"
     ]
    },
    {
     "name": "stderr",
     "output_type": "stream",
     "text": [
      "\r",
      " 69%|███████████████████████████████████████████████████████▌                         | 122/178 [10:10<04:33,  4.89s/it]"
     ]
    },
    {
     "name": "stdout",
     "output_type": "stream",
     "text": [
      "++++++++++++++++index:121++++++++++++++++++++++++\n",
      "正确表名： campuses\n",
      "预测表名： campuses\n",
      "############################################\n"
     ]
    },
    {
     "name": "stderr",
     "output_type": "stream",
     "text": [
      "\r",
      " 69%|███████████████████████████████████████████████████████▉                         | 123/178 [10:15<04:32,  4.95s/it]"
     ]
    },
    {
     "name": "stdout",
     "output_type": "stream",
     "text": [
      "++++++++++++++++index:122++++++++++++++++++++++++\n",
      "正确表名： campuses\n",
      "预测表名： None\n",
      "############################################\n"
     ]
    },
    {
     "name": "stderr",
     "output_type": "stream",
     "text": [
      "\r",
      " 70%|████████████████████████████████████████████████████████▍                        | 124/178 [10:20<04:24,  4.90s/it]"
     ]
    },
    {
     "name": "stdout",
     "output_type": "stream",
     "text": [
      "++++++++++++++++index:123++++++++++++++++++++++++\n",
      "正确表名： campuses, degrees\n",
      "预测表名： degrees, campuses\n",
      "############################################\n"
     ]
    },
    {
     "name": "stderr",
     "output_type": "stream",
     "text": [
      "\r",
      " 70%|████████████████████████████████████████████████████████▉                        | 125/178 [10:25<04:24,  5.00s/it]"
     ]
    },
    {
     "name": "stdout",
     "output_type": "stream",
     "text": [
      "++++++++++++++++index:124++++++++++++++++++++++++\n",
      "正确表名： faculty, campuses\n",
      "预测表名： faculty, campuses\n",
      "############################################\n"
     ]
    },
    {
     "name": "stderr",
     "output_type": "stream",
     "text": [
      "\r",
      " 71%|█████████████████████████████████████████████████████████▎                       | 126/178 [10:30<04:19,  4.98s/it]"
     ]
    },
    {
     "name": "stdout",
     "output_type": "stream",
     "text": [
      "++++++++++++++++index:125++++++++++++++++++++++++\n",
      "正确表名： campuses\n",
      "预测表名： None\n",
      "############################################\n"
     ]
    },
    {
     "name": "stderr",
     "output_type": "stream",
     "text": [
      "\r",
      " 71%|█████████████████████████████████████████████████████████▊                       | 127/178 [10:35<04:09,  4.88s/it]"
     ]
    },
    {
     "name": "stdout",
     "output_type": "stream",
     "text": [
      "++++++++++++++++index:126++++++++++++++++++++++++\n",
      "正确表名： journalist\n",
      "预测表名： journalist\n",
      "############################################\n"
     ]
    },
    {
     "name": "stderr",
     "output_type": "stream",
     "text": [
      "\r",
      " 72%|██████████████████████████████████████████████████████████▏                      | 128/178 [10:40<04:12,  5.06s/it]"
     ]
    },
    {
     "name": "stdout",
     "output_type": "stream",
     "text": [
      "++++++++++++++++index:127++++++++++++++++++++++++\n",
      "正确表名： authors, authorship, papers\n",
      "预测表名： authors, authorship, papers\n",
      "############################################\n"
     ]
    },
    {
     "name": "stderr",
     "output_type": "stream",
     "text": [
      "\r",
      " 72%|██████████████████████████████████████████████████████████▋                      | 129/178 [10:45<04:07,  5.06s/it]"
     ]
    },
    {
     "name": "stdout",
     "output_type": "stream",
     "text": [
      "++++++++++++++++index:128++++++++++++++++++++++++\n",
      "正确表名： papers, authorship, inst\n",
      "预测表名： inst, authors, authorship, papers\n",
      "############################################\n"
     ]
    },
    {
     "name": "stderr",
     "output_type": "stream",
     "text": [
      "\r",
      " 73%|███████████████████████████████████████████████████████████▏                     | 130/178 [10:50<03:55,  4.91s/it]"
     ]
    },
    {
     "name": "stdout",
     "output_type": "stream",
     "text": [
      "++++++++++++++++index:129++++++++++++++++++++++++\n",
      "正确表名： inst, authorship, papers\n",
      "预测表名： inst, authorship, papers\n",
      "############################################\n"
     ]
    },
    {
     "name": "stderr",
     "output_type": "stream",
     "text": [
      "\r",
      " 74%|███████████████████████████████████████████████████████████▌                     | 131/178 [10:55<04:03,  5.18s/it]"
     ]
    },
    {
     "name": "stdout",
     "output_type": "stream",
     "text": [
      "++++++++++++++++index:130++++++++++++++++++++++++\n",
      "正确表名： authors, authorship, papers\n",
      "预测表名： authors, authorship, papers\n",
      "############################################\n"
     ]
    },
    {
     "name": "stderr",
     "output_type": "stream",
     "text": [
      "\r",
      " 74%|████████████████████████████████████████████████████████████                     | 132/178 [11:00<03:54,  5.09s/it]"
     ]
    },
    {
     "name": "stdout",
     "output_type": "stream",
     "text": [
      "++++++++++++++++index:131++++++++++++++++++++++++\n",
      "正确表名： inst, authorship, papers\n",
      "预测表名： authors, authorship, papers\n",
      "############################################\n"
     ]
    },
    {
     "name": "stderr",
     "output_type": "stream",
     "text": [
      "\r",
      " 75%|████████████████████████████████████████████████████████████▌                    | 133/178 [11:06<03:59,  5.32s/it]"
     ]
    },
    {
     "name": "stdout",
     "output_type": "stream",
     "text": [
      "++++++++++++++++index:132++++++++++++++++++++++++\n",
      "正确表名： authors, authorship, papers\n",
      "预测表名： authors, authorship, papers\n",
      "############################################\n"
     ]
    },
    {
     "name": "stderr",
     "output_type": "stream",
     "text": [
      "\r",
      " 75%|████████████████████████████████████████████████████████████▉                    | 134/178 [11:11<03:42,  5.06s/it]"
     ]
    },
    {
     "name": "stdout",
     "output_type": "stream",
     "text": [
      "++++++++++++++++index:133++++++++++++++++++++++++\n",
      "正确表名： furniture\n",
      "预测表名： furniture\n",
      "############################################\n"
     ]
    },
    {
     "name": "stderr",
     "output_type": "stream",
     "text": [
      "\r",
      " 76%|█████████████████████████████████████████████████████████████▍                   | 135/178 [11:16<03:36,  5.04s/it]"
     ]
    },
    {
     "name": "stdout",
     "output_type": "stream",
     "text": [
      "++++++++++++++++index:134++++++++++++++++++++++++\n",
      "正确表名： person, personFriend\n",
      "预测表名： personFriend, person\n",
      "############################################\n"
     ]
    },
    {
     "name": "stderr",
     "output_type": "stream",
     "text": [
      "\r",
      " 76%|█████████████████████████████████████████████████████████████▉                   | 136/178 [11:21<03:30,  5.01s/it]"
     ]
    },
    {
     "name": "stdout",
     "output_type": "stream",
     "text": [
      "++++++++++++++++index:135++++++++++++++++++++++++\n",
      "正确表名： person, personfriend\n",
      "预测表名： personfriend\n",
      "############################################\n"
     ]
    },
    {
     "name": "stderr",
     "output_type": "stream",
     "text": [
      "\r",
      " 77%|██████████████████████████████████████████████████████████████▎                  | 137/178 [11:25<03:20,  4.89s/it]"
     ]
    },
    {
     "name": "stdout",
     "output_type": "stream",
     "text": [
      "++++++++++++++++index:136++++++++++++++++++++++++\n",
      "正确表名： person, personFriend\n",
      "预测表名： personfriend\n",
      "############################################\n"
     ]
    },
    {
     "name": "stderr",
     "output_type": "stream",
     "text": [
      "\r",
      " 78%|██████████████████████████████████████████████████████████████▊                  | 138/178 [11:30<03:11,  4.79s/it]"
     ]
    },
    {
     "name": "stdout",
     "output_type": "stream",
     "text": [
      "++++++++++++++++index:137++++++++++++++++++++++++\n",
      "正确表名： person\n",
      "预测表名： person\n",
      "############################################\n"
     ]
    },
    {
     "name": "stderr",
     "output_type": "stream",
     "text": [
      "\r",
      " 78%|███████████████████████████████████████████████████████████████▎                 | 139/178 [11:34<03:02,  4.69s/it]"
     ]
    },
    {
     "name": "stdout",
     "output_type": "stream",
     "text": [
      "++++++++++++++++index:138++++++++++++++++++++++++\n",
      "正确表名： person\n",
      "预测表名： person\n",
      "############################################\n"
     ]
    },
    {
     "name": "stderr",
     "output_type": "stream",
     "text": [
      "\r",
      " 79%|███████████████████████████████████████████████████████████████▋                 | 140/178 [11:39<02:57,  4.67s/it]"
     ]
    },
    {
     "name": "stdout",
     "output_type": "stream",
     "text": [
      "++++++++++++++++index:139++++++++++++++++++++++++\n",
      "正确表名： person\n",
      "预测表名： person, student\n",
      "############################################\n"
     ]
    },
    {
     "name": "stderr",
     "output_type": "stream",
     "text": [
      "\r",
      " 79%|████████████████████████████████████████████████████████████████▏                | 141/178 [11:44<02:54,  4.72s/it]"
     ]
    },
    {
     "name": "stdout",
     "output_type": "stream",
     "text": [
      "++++++++++++++++index:140++++++++++++++++++++++++\n",
      "正确表名： personfriend, person\n",
      "预测表名： personfriend\n",
      "############################################\n"
     ]
    },
    {
     "name": "stderr",
     "output_type": "stream",
     "text": [
      "\r",
      " 80%|████████████████████████████████████████████████████████████████▌                | 142/178 [11:48<02:47,  4.65s/it]"
     ]
    },
    {
     "name": "stdout",
     "output_type": "stream",
     "text": [
      "++++++++++++++++index:141++++++++++++++++++++++++\n",
      "正确表名： person\n",
      "预测表名： person\n",
      "############################################\n"
     ]
    },
    {
     "name": "stderr",
     "output_type": "stream",
     "text": [
      "\r",
      " 80%|█████████████████████████████████████████████████████████████████                | 143/178 [11:53<02:44,  4.70s/it]"
     ]
    },
    {
     "name": "stdout",
     "output_type": "stream",
     "text": [
      "++++++++++++++++index:142++++++++++++++++++++++++\n",
      "正确表名： enzyme\n",
      "预测表名： enzyme\n",
      "############################################\n"
     ]
    },
    {
     "name": "stderr",
     "output_type": "stream",
     "text": [
      "\r",
      " 81%|█████████████████████████████████████████████████████████████████▌               | 144/178 [11:58<02:39,  4.68s/it]"
     ]
    },
    {
     "name": "stdout",
     "output_type": "stream",
     "text": [
      "++++++++++++++++index:143++++++++++++++++++++++++\n",
      "正确表名： enzyme\n",
      "预测表名： enzyme\n",
      "############################################\n"
     ]
    },
    {
     "name": "stderr",
     "output_type": "stream",
     "text": [
      "\r",
      " 81%|█████████████████████████████████████████████████████████████████▉               | 145/178 [12:02<02:35,  4.70s/it]"
     ]
    },
    {
     "name": "stdout",
     "output_type": "stream",
     "text": [
      "++++++++++++++++index:144++++++++++++++++++++++++\n",
      "正确表名： enzyme\n",
      "预测表名： enzyme\n",
      "############################################\n"
     ]
    },
    {
     "name": "stderr",
     "output_type": "stream",
     "text": [
      "\r",
      " 82%|██████████████████████████████████████████████████████████████████▍              | 146/178 [12:07<02:31,  4.75s/it]"
     ]
    },
    {
     "name": "stdout",
     "output_type": "stream",
     "text": [
      "++++++++++++++++index:145++++++++++++++++++++++++\n",
      "正确表名： medicine, medicine_enzyme_interaction\n",
      "预测表名： medicine, medicine_enzyme_interaction\n",
      "############################################\n"
     ]
    },
    {
     "name": "stderr",
     "output_type": "stream",
     "text": [
      "\r",
      " 83%|██████████████████████████████████████████████████████████████████▉              | 147/178 [12:13<02:34,  4.98s/it]"
     ]
    },
    {
     "name": "stdout",
     "output_type": "stream",
     "text": [
      "++++++++++++++++index:146++++++++++++++++++++++++\n",
      "正确表名： apartment_bookings, apartments\n",
      "预测表名： apartments, apartment_bookings\n",
      "############################################\n"
     ]
    },
    {
     "name": "stderr",
     "output_type": "stream",
     "text": [
      "\r",
      " 83%|███████████████████████████████████████████████████████████████████▎             | 148/178 [12:18<02:31,  5.06s/it]"
     ]
    },
    {
     "name": "stdout",
     "output_type": "stream",
     "text": [
      "++++++++++++++++index:147++++++++++++++++++++++++\n",
      "正确表名： apartment_bookings, guests\n",
      "预测表名： apartment_bookings, guests\n",
      "############################################\n"
     ]
    },
    {
     "name": "stderr",
     "output_type": "stream",
     "text": [
      "\r",
      " 84%|███████████████████████████████████████████████████████████████████▊             | 149/178 [12:24<02:35,  5.36s/it]"
     ]
    },
    {
     "name": "stdout",
     "output_type": "stream",
     "text": [
      "++++++++++++++++index:148++++++++++++++++++++++++\n",
      "正确表名： apartment_buildings, apartments\n",
      "预测表名： apartments, apartment_buildings\n",
      "############################################\n"
     ]
    },
    {
     "name": "stderr",
     "output_type": "stream",
     "text": [
      "\r",
      " 84%|████████████████████████████████████████████████████████████████████▎            | 150/178 [12:30<02:31,  5.42s/it]"
     ]
    },
    {
     "name": "stdout",
     "output_type": "stream",
     "text": [
      "++++++++++++++++index:149++++++++++++++++++++++++\n",
      "正确表名： apartment_bookings, guests\n",
      "预测表名： apartments, apartment_bookings, guests\n",
      "############################################\n"
     ]
    },
    {
     "name": "stderr",
     "output_type": "stream",
     "text": [
      "\r",
      " 85%|████████████████████████████████████████████████████████████████████▋            | 151/178 [12:35<02:23,  5.31s/it]"
     ]
    },
    {
     "name": "stdout",
     "output_type": "stream",
     "text": [
      "++++++++++++++++index:150++++++++++++++++++++++++\n",
      "正确表名： apartment_facilities, apartments\n",
      "预测表名： apartments, apartment_facilities\n",
      "############################################\n"
     ]
    },
    {
     "name": "stderr",
     "output_type": "stream",
     "text": [
      "\r",
      " 85%|█████████████████████████████████████████████████████████████████████▏           | 152/178 [12:40<02:21,  5.46s/it]"
     ]
    },
    {
     "name": "stdout",
     "output_type": "stream",
     "text": [
      "++++++++++++++++index:151++++++++++++++++++++++++\n",
      "正确表名： apartments\n",
      "预测表名： apartments\n",
      "############################################\n"
     ]
    },
    {
     "name": "stderr",
     "output_type": "stream",
     "text": [
      "\r",
      " 86%|█████████████████████████████████████████████████████████████████████▌           | 153/178 [12:46<02:19,  5.60s/it]"
     ]
    },
    {
     "name": "stdout",
     "output_type": "stream",
     "text": [
      "++++++++++++++++index:152++++++++++++++++++++++++\n",
      "正确表名： apartments\n",
      "预测表名： apartments\n",
      "############################################\n"
     ]
    },
    {
     "name": "stderr",
     "output_type": "stream",
     "text": [
      "\r",
      " 87%|██████████████████████████████████████████████████████████████████████           | 154/178 [12:51<02:09,  5.41s/it]"
     ]
    },
    {
     "name": "stdout",
     "output_type": "stream",
     "text": [
      "++++++++++++++++index:153++++++++++++++++++++++++\n",
      "正确表名： apartment_buildings\n",
      "预测表名： apartment_buildings\n",
      "############################################\n"
     ]
    },
    {
     "name": "stderr",
     "output_type": "stream",
     "text": [
      "\r",
      " 87%|██████████████████████████████████████████████████████████████████████▌          | 155/178 [12:57<02:03,  5.37s/it]"
     ]
    },
    {
     "name": "stdout",
     "output_type": "stream",
     "text": [
      "++++++++++++++++index:154++++++++++++++++++++++++\n",
      "正确表名： program\n",
      "预测表名： program\n",
      "############################################\n"
     ]
    },
    {
     "name": "stderr",
     "output_type": "stream",
     "text": [
      "\r",
      " 88%|██████████████████████████████████████████████████████████████████████▉          | 156/178 [13:01<01:54,  5.21s/it]"
     ]
    },
    {
     "name": "stdout",
     "output_type": "stream",
     "text": [
      "++++++++++++++++index:155++++++++++++++++++++++++\n",
      "正确表名： program, broadcast\n",
      "预测表名： broadcast, program\n",
      "############################################\n"
     ]
    },
    {
     "name": "stderr",
     "output_type": "stream",
     "text": [
      "\r",
      " 88%|███████████████████████████████████████████████████████████████████████▍         | 157/178 [13:06<01:47,  5.13s/it]"
     ]
    },
    {
     "name": "stdout",
     "output_type": "stream",
     "text": [
      "++++++++++++++++index:156++++++++++++++++++++++++\n",
      "正确表名： channel\n",
      "预测表名： channel\n",
      "############################################\n"
     ]
    },
    {
     "name": "stderr",
     "output_type": "stream",
     "text": [
      "\r",
      " 89%|███████████████████████████████████████████████████████████████████████▉         | 158/178 [13:11<01:39,  4.97s/it]"
     ]
    },
    {
     "name": "stdout",
     "output_type": "stream",
     "text": [
      "++++++++++++++++index:157++++++++++++++++++++++++\n",
      "正确表名： channel\n",
      "预测表名： channel\n",
      "############################################\n"
     ]
    },
    {
     "name": "stderr",
     "output_type": "stream",
     "text": [
      "\r",
      " 89%|████████████████████████████████████████████████████████████████████████▎        | 159/178 [13:16<01:36,  5.07s/it]"
     ]
    },
    {
     "name": "stdout",
     "output_type": "stream",
     "text": [
      "++++++++++++++++index:158++++++++++++++++++++++++\n",
      "正确表名： customer_master_index\n",
      "预测表名： customer_master_index\n",
      "############################################\n"
     ]
    },
    {
     "name": "stderr",
     "output_type": "stream",
     "text": [
      "\r",
      " 90%|████████████████████████████████████████████████████████████████████████▊        | 160/178 [13:21<01:31,  5.07s/it]"
     ]
    },
    {
     "name": "stdout",
     "output_type": "stream",
     "text": [
      "++++++++++++++++index:159++++++++++++++++++++++++\n",
      "正确表名： district\n",
      "预测表名： district\n",
      "############################################\n"
     ]
    },
    {
     "name": "stderr",
     "output_type": "stream",
     "text": [
      "\r",
      " 90%|█████████████████████████████████████████████████████████████████████████▎       | 161/178 [13:26<01:24,  5.00s/it]"
     ]
    },
    {
     "name": "stdout",
     "output_type": "stream",
     "text": [
      "++++++++++++++++index:160++++++++++++++++++++++++\n",
      "正确表名： district\n",
      "预测表名： district\n",
      "############################################\n"
     ]
    },
    {
     "name": "stderr",
     "output_type": "stream",
     "text": [
      "\r",
      " 91%|█████████████████████████████████████████████████████████████████████████▋       | 162/178 [13:31<01:18,  4.92s/it]"
     ]
    },
    {
     "name": "stdout",
     "output_type": "stream",
     "text": [
      "++++++++++++++++index:161++++++++++++++++++++++++\n",
      "正确表名： district\n",
      "预测表名： district\n",
      "############################################\n"
     ]
    },
    {
     "name": "stderr",
     "output_type": "stream",
     "text": [
      "\r",
      " 92%|██████████████████████████████████████████████████████████████████████████▏      | 163/178 [13:36<01:13,  4.88s/it]"
     ]
    },
    {
     "name": "stdout",
     "output_type": "stream",
     "text": [
      "++++++++++++++++index:162++++++++++++++++++++++++\n",
      "正确表名： district\n",
      "预测表名： district\n",
      "############################################\n"
     ]
    },
    {
     "name": "stderr",
     "output_type": "stream",
     "text": [
      "\r",
      " 92%|██████████████████████████████████████████████████████████████████████████▋      | 164/178 [13:41<01:08,  4.87s/it]"
     ]
    },
    {
     "name": "stdout",
     "output_type": "stream",
     "text": [
      "++++++++++++++++index:163++++++++++++++++++++++++\n",
      "正确表名： gas_station\n",
      "预测表名： manager, gas_station, station\n",
      "############################################\n"
     ]
    },
    {
     "name": "stderr",
     "output_type": "stream",
     "text": [
      "\r",
      " 93%|███████████████████████████████████████████████████████████████████████████      | 165/178 [13:46<01:05,  5.00s/it]"
     ]
    },
    {
     "name": "stdout",
     "output_type": "stream",
     "text": [
      "++++++++++++++++index:164++++++++++++++++++++++++\n",
      "正确表名： company\n",
      "预测表名： station_company, company\n",
      "############################################\n"
     ]
    },
    {
     "name": "stderr",
     "output_type": "stream",
     "text": [
      "\r",
      " 93%|███████████████████████████████████████████████████████████████████████████▌     | 166/178 [13:51<00:58,  4.91s/it]"
     ]
    },
    {
     "name": "stdout",
     "output_type": "stream",
     "text": [
      "++++++++++++++++index:165++++++++++++++++++++++++\n",
      "正确表名： company\n",
      "预测表名： company, companies\n",
      "############################################\n"
     ]
    },
    {
     "name": "stderr",
     "output_type": "stream",
     "text": [
      "\r",
      " 94%|███████████████████████████████████████████████████████████████████████████▉     | 167/178 [13:55<00:54,  4.92s/it]"
     ]
    },
    {
     "name": "stdout",
     "output_type": "stream",
     "text": [
      "++++++++++++++++index:166++++++++++++++++++++++++\n",
      "正确表名： station_company, company, gas_station\n",
      "预测表名： station_company, gas_station\n",
      "############################################\n"
     ]
    },
    {
     "name": "stderr",
     "output_type": "stream",
     "text": [
      "\r",
      " 94%|████████████████████████████████████████████████████████████████████████████▍    | 168/178 [14:00<00:48,  4.83s/it]"
     ]
    },
    {
     "name": "stdout",
     "output_type": "stream",
     "text": [
      "++++++++++++++++index:167++++++++++++++++++++++++\n",
      "正确表名： festival_detail\n",
      "预测表名： festival_detail\n",
      "############################################\n"
     ]
    },
    {
     "name": "stderr",
     "output_type": "stream",
     "text": [
      "\r",
      " 95%|████████████████████████████████████████████████████████████████████████████▉    | 169/178 [14:05<00:43,  4.78s/it]"
     ]
    },
    {
     "name": "stdout",
     "output_type": "stream",
     "text": [
      "++++++++++++++++index:168++++++++++++++++++++++++\n",
      "正确表名： festival_detail\n",
      "预测表名： festival_detail\n",
      "############################################\n"
     ]
    },
    {
     "name": "stderr",
     "output_type": "stream",
     "text": [
      "\r",
      " 96%|█████████████████████████████████████████████████████████████████████████████▎   | 170/178 [14:09<00:37,  4.71s/it]"
     ]
    },
    {
     "name": "stdout",
     "output_type": "stream",
     "text": [
      "++++++++++++++++index:169++++++++++++++++++++++++\n",
      "正确表名： building, institution\n",
      "预测表名： building, buildings, institution\n",
      "############################################\n"
     ]
    },
    {
     "name": "stderr",
     "output_type": "stream",
     "text": [
      "\r",
      " 96%|█████████████████████████████████████████████████████████████████████████████▊   | 171/178 [14:14<00:33,  4.81s/it]"
     ]
    },
    {
     "name": "stdout",
     "output_type": "stream",
     "text": [
      "++++++++++++++++index:170++++++++++++++++++++++++\n",
      "正确表名： building, institution\n",
      "预测表名： building, institution\n",
      "############################################\n"
     ]
    },
    {
     "name": "stderr",
     "output_type": "stream",
     "text": [
      "\r",
      " 97%|██████████████████████████████████████████████████████████████████████████████▎  | 172/178 [14:19<00:29,  4.84s/it]"
     ]
    },
    {
     "name": "stdout",
     "output_type": "stream",
     "text": [
      "++++++++++++++++index:171++++++++++++++++++++++++\n",
      "正确表名： roller_coaster\n",
      "预测表名： roller_coaster\n",
      "############################################\n"
     ]
    },
    {
     "name": "stderr",
     "output_type": "stream",
     "text": [
      "\r",
      " 97%|██████████████████████████████████████████████████████████████████████████████▋  | 173/178 [14:24<00:24,  4.80s/it]"
     ]
    },
    {
     "name": "stdout",
     "output_type": "stream",
     "text": [
      "++++++++++++++++index:172++++++++++++++++++++++++\n",
      "正确表名： participants\n",
      "预测表名： participants_in_events, participants\n",
      "############################################\n"
     ]
    },
    {
     "name": "stderr",
     "output_type": "stream",
     "text": [
      "\r",
      " 98%|███████████████████████████████████████████████████████████████████████████████▏ | 174/178 [14:29<00:19,  4.85s/it]"
     ]
    },
    {
     "name": "stdout",
     "output_type": "stream",
     "text": [
      "++++++++++++++++index:173++++++++++++++++++++++++\n",
      "正确表名： mill\n",
      "预测表名： mill\n",
      "############################################\n"
     ]
    },
    {
     "name": "stderr",
     "output_type": "stream",
     "text": [
      "\r",
      " 98%|███████████████████████████████████████████████████████████████████████████████▋ | 175/178 [14:34<00:14,  4.78s/it]"
     ]
    },
    {
     "name": "stdout",
     "output_type": "stream",
     "text": [
      "++++++++++++++++index:174++++++++++++++++++++++++\n",
      "正确表名： railway\n",
      "预测表名： railway\n",
      "############################################\n"
     ]
    },
    {
     "name": "stderr",
     "output_type": "stream",
     "text": [
      "\r",
      " 99%|████████████████████████████████████████████████████████████████████████████████ | 176/178 [14:38<00:09,  4.78s/it]"
     ]
    },
    {
     "name": "stdout",
     "output_type": "stream",
     "text": [
      "++++++++++++++++index:175++++++++++++++++++++++++\n",
      "正确表名： railway\n",
      "预测表名： railway\n",
      "############################################\n"
     ]
    },
    {
     "name": "stderr",
     "output_type": "stream",
     "text": [
      "\r",
      " 99%|████████████████████████████████████████████████████████████████████████████████▌| 177/178 [14:43<00:04,  4.81s/it]"
     ]
    },
    {
     "name": "stdout",
     "output_type": "stream",
     "text": [
      "++++++++++++++++index:176++++++++++++++++++++++++\n",
      "正确表名： book\n",
      "预测表名： book\n",
      "############################################\n"
     ]
    },
    {
     "name": "stderr",
     "output_type": "stream",
     "text": [
      "100%|█████████████████████████████████████████████████████████████████████████████████| 178/178 [14:48<00:00,  4.99s/it]"
     ]
    },
    {
     "name": "stdout",
     "output_type": "stream",
     "text": [
      "++++++++++++++++index:177++++++++++++++++++++++++\n",
      "正确表名： book, publication\n",
      "预测表名： book, publication\n",
      "############################################\n"
     ]
    },
    {
     "name": "stderr",
     "output_type": "stream",
     "text": [
      "\n"
     ]
    }
   ],
   "source": [
    "df = pd.read_csv(\"./mydataset_new/validation_dataset_formatted_cropped.csv\",encoding=\"utf-8\")\n",
    "outer_index = 0\n",
    "import re\n",
    "pattern = re.compile(r'-- Tables: ([\\w, ]+);')\n",
    "results = []\n",
    "#  schema_slicing\n",
    "import time \n",
    "start_time = time.time()\n",
    "for index, row in tqdm(df.iterrows(), total=len(df)):\n",
    "    question = row['question']\n",
    "    ref_tables = row['correct_tables']\n",
    "    selected_table_set = set()\n",
    "    result_count = 0\n",
    "    for schema in schema_slicing:\n",
    "        result_count += 1\n",
    "        if len(selected_table_set) > 0:\n",
    "            selected_table =  ', '.join(list(selected_table_set))\n",
    "        else:\n",
    "            selected_table = \"None\"\n",
    "#         instruction = get_instruction(schema)\n",
    "#         input_value = get_input_value(question,selected_table)\n",
    "        input_value = get_input_value(question, selected_table, schema)\n",
    "        messages = [{\"role\": \"user\", \"content\": input_value.strip()}]\n",
    "        inputs = tokenizer.apply_chat_template(messages, return_tensors=\"pt\",add_generation_prompt=True,tokenize = True).to(model.device)\n",
    "        response = call_mistral(inputs)\n",
    "#         print(response)\n",
    "        if \"#None#\" not in response:\n",
    "            match = re.search(pattern, response)\n",
    "            if match:\n",
    "            # 提取匹配的表名字符串\n",
    "                table_names_str = match.group(1)\n",
    "                table_names = table_names_str.split(', ')\n",
    "                for item in table_names:\n",
    "                     selected_table_set.add(item)\n",
    "            else:\n",
    "                predict_table = \"None\"\n",
    "    if len(selected_table_set) > 0:\n",
    "        total_selected_table =  ', '.join(list(selected_table_set))\n",
    "    else:\n",
    "        total_selected_table = \"None\"\n",
    "    print(f\"++++++++++++++++index:{index}++++++++++++++++++++++++\")\n",
    "    print(\"正确表名：\",ref_tables)\n",
    "    print(\"预测表名：\",total_selected_table)\n",
    "    print(\"############################################\")\n",
    "    results.append([ref_tables,total_selected_table])\n",
    "end_time = time.time()"
   ]
  },
  {
   "cell_type": "code",
   "execution_count": 9,
   "metadata": {
    "colab": {
     "base_uri": "https://localhost:8080/"
    },
    "id": "hgz-2h6SVj1Z",
    "outputId": "ff9a916b-c865-4e74-b4ca-9dcb8de57730"
   },
   "outputs": [
    {
     "name": "stdout",
     "output_type": "stream",
     "text": [
      "4.993609802106793\n"
     ]
    }
   ],
   "source": [
    "total_data = len(df['question'])\n",
    "total_time = end_time - start_time\n",
    "# print(total_data)\n",
    "signal_infernece_time = total_time/total_data\n",
    "print(signal_infernece_time)"
   ]
  },
  {
   "cell_type": "code",
   "execution_count": 10,
   "metadata": {},
   "outputs": [],
   "source": [
    "# new_df = pd.DataFrame(results, columns = ['predicted_tables','correct_tables','reference_tables','query','question','db_id'])\n",
    "# new_df.to_csv('new_Prompt.csv', index=False)\n",
    "#     print(f\"++++++++++++++++index:{index}++++++++++++++++++++++++\")\n",
    "#     print(\"正确表名：\",ref_tables)\n",
    "#     print(\"预测表名：\",total_selected_table)\n",
    "#     print(\"############################################\")\n",
    "#     results.append([ref_tables,total_selected_table])\n",
    "new_df = pd.DataFrame(results, columns = ['correct_tables','predicted_tables'])"
   ]
  },
  {
   "cell_type": "code",
   "execution_count": 11,
   "metadata": {},
   "outputs": [
    {
     "name": "stdout",
     "output_type": "stream",
     "text": [
      "Total Accuracy: 0.7359550561797753\n",
      "Filtered Accuracy: 0.8539325842696629\n",
      "Average Precision: 0.8890449438202249\n",
      "Average Recall: 0.9096441947565544\n"
     ]
    }
   ],
   "source": [
    "total_samples = len(new_df)\n",
    "total_accuracy = 0\n",
    "filtered_accuracy = 0\n",
    "total_precision = 0\n",
    "total_recall = 0\n",
    "\n",
    "for index, row in new_df.iterrows():\n",
    "    \n",
    "    if not row['predicted_tables'] or pd.isna(row['predicted_tables']):\n",
    "        continue\n",
    "    predicted_tables = row['predicted_tables'].split(\", \")\n",
    "    reference_tables = row['correct_tables'].split(\", \")\n",
    "    \n",
    "    # Convert to lowercase and strip whitespace for comparison\n",
    "    predicted_tables = [x.lower().replace(\"--\",\"\").replace(\"**\",\"\").strip() for x in predicted_tables]\n",
    "    reference_tables = [x.lower().strip() for x in reference_tables]\n",
    "    \n",
    "    # Calculate accuracy\n",
    "    if set(predicted_tables) == set(reference_tables):\n",
    "        total_accuracy += 1\n",
    "    \n",
    "    # Calculate precision and recall\n",
    "    true_positives = len(set(predicted_tables) & set(reference_tables))\n",
    "    false_positives = len(set(predicted_tables) - set(reference_tables))\n",
    "    false_negatives = len(set(reference_tables) - set(predicted_tables))\n",
    "\n",
    "    if true_positives == len(reference_tables):\n",
    "        filtered_accuracy += 1\n",
    "    \n",
    "    if len(predicted_tables) > 0:\n",
    "        precision = true_positives / (true_positives + false_positives)\n",
    "        recall = true_positives / (true_positives + false_negatives)\n",
    "    \n",
    "    total_precision += precision\n",
    "    total_recall += recall\n",
    "\n",
    "# Calculate average precision and recall\n",
    "avg_precision = total_precision / total_samples\n",
    "avg_recall = total_recall / total_samples\n",
    "\n",
    "# Calculate total accuracy\n",
    "accuracy = total_accuracy / total_samples\n",
    "filtered_accuracy = filtered_accuracy / total_samples\n",
    "\n",
    "print(\"Total Accuracy:\", accuracy)\n",
    "print(\"Filtered Accuracy:\", filtered_accuracy)\n",
    "print(\"Average Precision:\", avg_precision)\n",
    "print(\"Average Recall:\", avg_recall)\n",
    "\n",
    "# new_df.to_csv(\"generated_schema_links.csv\", index=False)"
   ]
  },
  {
   "cell_type": "code",
   "execution_count": null,
   "metadata": {},
   "outputs": [],
   "source": []
  },
  {
   "cell_type": "code",
   "execution_count": null,
   "metadata": {},
   "outputs": [],
   "source": []
  },
  {
   "cell_type": "code",
   "execution_count": 13,
   "metadata": {},
   "outputs": [],
   "source": [
    "new_df.to_csv(\"generated_schema_links.csv\", index=False)"
   ]
  },
  {
   "cell_type": "code",
   "execution_count": null,
   "metadata": {},
   "outputs": [],
   "source": []
  }
 ],
 "metadata": {
  "accelerator": "GPU",
  "colab": {
   "gpuType": "V100",
   "provenance": []
  },
  "kernelspec": {
   "display_name": "DTS_SQL",
   "language": "python",
   "name": "dts_sql"
  },
  "language_info": {
   "codemirror_mode": {
    "name": "ipython",
    "version": 3
   },
   "file_extension": ".py",
   "mimetype": "text/x-python",
   "name": "python",
   "nbconvert_exporter": "python",
   "pygments_lexer": "ipython3",
   "version": "3.10.14"
  },
  "widgets": {
   "application/vnd.jupyter.widget-state+json": {
    "08d81d35451441abb5a8069816d96bf4": {
     "model_module": "@jupyter-widgets/base",
     "model_module_version": "1.2.0",
     "model_name": "LayoutModel",
     "state": {
      "_model_module": "@jupyter-widgets/base",
      "_model_module_version": "1.2.0",
      "_model_name": "LayoutModel",
      "_view_count": null,
      "_view_module": "@jupyter-widgets/base",
      "_view_module_version": "1.2.0",
      "_view_name": "LayoutView",
      "align_content": null,
      "align_items": null,
      "align_self": null,
      "border": null,
      "bottom": null,
      "display": null,
      "flex": null,
      "flex_flow": null,
      "grid_area": null,
      "grid_auto_columns": null,
      "grid_auto_flow": null,
      "grid_auto_rows": null,
      "grid_column": null,
      "grid_gap": null,
      "grid_row": null,
      "grid_template_areas": null,
      "grid_template_columns": null,
      "grid_template_rows": null,
      "height": null,
      "justify_content": null,
      "justify_items": null,
      "left": null,
      "margin": null,
      "max_height": null,
      "max_width": null,
      "min_height": null,
      "min_width": null,
      "object_fit": null,
      "object_position": null,
      "order": null,
      "overflow": null,
      "overflow_x": null,
      "overflow_y": null,
      "padding": null,
      "right": null,
      "top": null,
      "visibility": null,
      "width": null
     }
    },
    "16576d8e9bca4a978cf1807800d2993f": {
     "model_module": "@jupyter-widgets/controls",
     "model_module_version": "1.5.0",
     "model_name": "HTMLModel",
     "state": {
      "_dom_classes": [],
      "_model_module": "@jupyter-widgets/controls",
      "_model_module_version": "1.5.0",
      "_model_name": "HTMLModel",
      "_view_count": null,
      "_view_module": "@jupyter-widgets/controls",
      "_view_module_version": "1.5.0",
      "_view_name": "HTMLView",
      "description": "",
      "description_tooltip": null,
      "layout": "IPY_MODEL_f87cf27bd7aa4c5fbcb796155236a983",
      "placeholder": "​",
      "style": "IPY_MODEL_a0010a2bcdc94d609fe271442e1db441",
      "value": " 2/2 [01:14&lt;00:00, 34.39s/it]"
     }
    },
    "30c71ab2e03d40d7968624b3dc15656c": {
     "model_module": "@jupyter-widgets/controls",
     "model_module_version": "1.5.0",
     "model_name": "FloatProgressModel",
     "state": {
      "_dom_classes": [],
      "_model_module": "@jupyter-widgets/controls",
      "_model_module_version": "1.5.0",
      "_model_name": "FloatProgressModel",
      "_view_count": null,
      "_view_module": "@jupyter-widgets/controls",
      "_view_module_version": "1.5.0",
      "_view_name": "ProgressView",
      "bar_style": "success",
      "description": "",
      "description_tooltip": null,
      "layout": "IPY_MODEL_a49f174c025644d7a99e414244390a0d",
      "max": 2,
      "min": 0,
      "orientation": "horizontal",
      "style": "IPY_MODEL_f30459f7d7254a7abc3cabe448a60681",
      "value": 2
     }
    },
    "4fde92ad16cc4bd18d9c48dc91d28696": {
     "model_module": "@jupyter-widgets/base",
     "model_module_version": "1.2.0",
     "model_name": "LayoutModel",
     "state": {
      "_model_module": "@jupyter-widgets/base",
      "_model_module_version": "1.2.0",
      "_model_name": "LayoutModel",
      "_view_count": null,
      "_view_module": "@jupyter-widgets/base",
      "_view_module_version": "1.2.0",
      "_view_name": "LayoutView",
      "align_content": null,
      "align_items": null,
      "align_self": null,
      "border": null,
      "bottom": null,
      "display": null,
      "flex": null,
      "flex_flow": null,
      "grid_area": null,
      "grid_auto_columns": null,
      "grid_auto_flow": null,
      "grid_auto_rows": null,
      "grid_column": null,
      "grid_gap": null,
      "grid_row": null,
      "grid_template_areas": null,
      "grid_template_columns": null,
      "grid_template_rows": null,
      "height": null,
      "justify_content": null,
      "justify_items": null,
      "left": null,
      "margin": null,
      "max_height": null,
      "max_width": null,
      "min_height": null,
      "min_width": null,
      "object_fit": null,
      "object_position": null,
      "order": null,
      "overflow": null,
      "overflow_x": null,
      "overflow_y": null,
      "padding": null,
      "right": null,
      "top": null,
      "visibility": null,
      "width": null
     }
    },
    "6e2db7ee351248f4b08587a275bfde8a": {
     "model_module": "@jupyter-widgets/controls",
     "model_module_version": "1.5.0",
     "model_name": "HTMLModel",
     "state": {
      "_dom_classes": [],
      "_model_module": "@jupyter-widgets/controls",
      "_model_module_version": "1.5.0",
      "_model_name": "HTMLModel",
      "_view_count": null,
      "_view_module": "@jupyter-widgets/controls",
      "_view_module_version": "1.5.0",
      "_view_name": "HTMLView",
      "description": "",
      "description_tooltip": null,
      "layout": "IPY_MODEL_08d81d35451441abb5a8069816d96bf4",
      "placeholder": "​",
      "style": "IPY_MODEL_eed7debb70434c16aeda3d744d131d30",
      "value": "Loading checkpoint shards: 100%"
     }
    },
    "a0010a2bcdc94d609fe271442e1db441": {
     "model_module": "@jupyter-widgets/controls",
     "model_module_version": "1.5.0",
     "model_name": "DescriptionStyleModel",
     "state": {
      "_model_module": "@jupyter-widgets/controls",
      "_model_module_version": "1.5.0",
      "_model_name": "DescriptionStyleModel",
      "_view_count": null,
      "_view_module": "@jupyter-widgets/base",
      "_view_module_version": "1.2.0",
      "_view_name": "StyleView",
      "description_width": ""
     }
    },
    "a49f174c025644d7a99e414244390a0d": {
     "model_module": "@jupyter-widgets/base",
     "model_module_version": "1.2.0",
     "model_name": "LayoutModel",
     "state": {
      "_model_module": "@jupyter-widgets/base",
      "_model_module_version": "1.2.0",
      "_model_name": "LayoutModel",
      "_view_count": null,
      "_view_module": "@jupyter-widgets/base",
      "_view_module_version": "1.2.0",
      "_view_name": "LayoutView",
      "align_content": null,
      "align_items": null,
      "align_self": null,
      "border": null,
      "bottom": null,
      "display": null,
      "flex": null,
      "flex_flow": null,
      "grid_area": null,
      "grid_auto_columns": null,
      "grid_auto_flow": null,
      "grid_auto_rows": null,
      "grid_column": null,
      "grid_gap": null,
      "grid_row": null,
      "grid_template_areas": null,
      "grid_template_columns": null,
      "grid_template_rows": null,
      "height": null,
      "justify_content": null,
      "justify_items": null,
      "left": null,
      "margin": null,
      "max_height": null,
      "max_width": null,
      "min_height": null,
      "min_width": null,
      "object_fit": null,
      "object_position": null,
      "order": null,
      "overflow": null,
      "overflow_x": null,
      "overflow_y": null,
      "padding": null,
      "right": null,
      "top": null,
      "visibility": null,
      "width": null
     }
    },
    "eed7debb70434c16aeda3d744d131d30": {
     "model_module": "@jupyter-widgets/controls",
     "model_module_version": "1.5.0",
     "model_name": "DescriptionStyleModel",
     "state": {
      "_model_module": "@jupyter-widgets/controls",
      "_model_module_version": "1.5.0",
      "_model_name": "DescriptionStyleModel",
      "_view_count": null,
      "_view_module": "@jupyter-widgets/base",
      "_view_module_version": "1.2.0",
      "_view_name": "StyleView",
      "description_width": ""
     }
    },
    "f0d5986597124099bf09d298575c5126": {
     "model_module": "@jupyter-widgets/controls",
     "model_module_version": "1.5.0",
     "model_name": "HBoxModel",
     "state": {
      "_dom_classes": [],
      "_model_module": "@jupyter-widgets/controls",
      "_model_module_version": "1.5.0",
      "_model_name": "HBoxModel",
      "_view_count": null,
      "_view_module": "@jupyter-widgets/controls",
      "_view_module_version": "1.5.0",
      "_view_name": "HBoxView",
      "box_style": "",
      "children": [
       "IPY_MODEL_6e2db7ee351248f4b08587a275bfde8a",
       "IPY_MODEL_30c71ab2e03d40d7968624b3dc15656c",
       "IPY_MODEL_16576d8e9bca4a978cf1807800d2993f"
      ],
      "layout": "IPY_MODEL_4fde92ad16cc4bd18d9c48dc91d28696"
     }
    },
    "f30459f7d7254a7abc3cabe448a60681": {
     "model_module": "@jupyter-widgets/controls",
     "model_module_version": "1.5.0",
     "model_name": "ProgressStyleModel",
     "state": {
      "_model_module": "@jupyter-widgets/controls",
      "_model_module_version": "1.5.0",
      "_model_name": "ProgressStyleModel",
      "_view_count": null,
      "_view_module": "@jupyter-widgets/base",
      "_view_module_version": "1.2.0",
      "_view_name": "StyleView",
      "bar_color": null,
      "description_width": ""
     }
    },
    "f87cf27bd7aa4c5fbcb796155236a983": {
     "model_module": "@jupyter-widgets/base",
     "model_module_version": "1.2.0",
     "model_name": "LayoutModel",
     "state": {
      "_model_module": "@jupyter-widgets/base",
      "_model_module_version": "1.2.0",
      "_model_name": "LayoutModel",
      "_view_count": null,
      "_view_module": "@jupyter-widgets/base",
      "_view_module_version": "1.2.0",
      "_view_name": "LayoutView",
      "align_content": null,
      "align_items": null,
      "align_self": null,
      "border": null,
      "bottom": null,
      "display": null,
      "flex": null,
      "flex_flow": null,
      "grid_area": null,
      "grid_auto_columns": null,
      "grid_auto_flow": null,
      "grid_auto_rows": null,
      "grid_column": null,
      "grid_gap": null,
      "grid_row": null,
      "grid_template_areas": null,
      "grid_template_columns": null,
      "grid_template_rows": null,
      "height": null,
      "justify_content": null,
      "justify_items": null,
      "left": null,
      "margin": null,
      "max_height": null,
      "max_width": null,
      "min_height": null,
      "min_width": null,
      "object_fit": null,
      "object_position": null,
      "order": null,
      "overflow": null,
      "overflow_x": null,
      "overflow_y": null,
      "padding": null,
      "right": null,
      "top": null,
      "visibility": null,
      "width": null
     }
    }
   }
  }
 },
 "nbformat": 4,
 "nbformat_minor": 4
}
