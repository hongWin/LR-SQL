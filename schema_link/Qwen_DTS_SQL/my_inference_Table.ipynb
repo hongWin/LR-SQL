{
 "cells": [
  {
   "cell_type": "code",
   "execution_count": 1,
   "id": "f5713b27",
   "metadata": {},
   "outputs": [
    {
     "name": "stderr",
     "output_type": "stream",
     "text": [
      "/home/vipuser/anaconda3/envs/GLM_4/lib/python3.10/site-packages/tqdm/auto.py:21: TqdmWarning: IProgress not found. Please update jupyter and ipywidgets. See https://ipywidgets.readthedocs.io/en/stable/user_install.html\n",
      "  from .autonotebook import tqdm as notebook_tqdm\n"
     ]
    }
   ],
   "source": [
    "import torch\n",
    "from peft import AutoPeftModelForCausalLM\n",
    "from transformers import AutoModelForCausalLM, AutoTokenizer\n",
    "import pandas as pd"
   ]
  },
  {
   "cell_type": "code",
   "execution_count": 2,
   "id": "890cc0df",
   "metadata": {},
   "outputs": [],
   "source": [
    "model_path = '/home/LLM_para/para_Qwen'\n",
    "lora_path = './final_checkpoint_Qwen_Table_SFT'\n",
    "# val_dataset_path = \"/home/code/chat_SQL/Dataset/GLM4/ENG_ori/My_idea_dataset/T2Q_GLM4_SFT_val_table.jsonl\""
   ]
  },
  {
   "cell_type": "code",
   "execution_count": 3,
   "id": "dc0d02ac",
   "metadata": {},
   "outputs": [
    {
     "name": "stderr",
     "output_type": "stream",
     "text": [
      "Loading checkpoint shards: 100%|██████████████████████████████████████████████████████████| 4/4 [00:25<00:00,  6.26s/it]\n"
     ]
    }
   ],
   "source": [
    "model = AutoPeftModelForCausalLM.from_pretrained(\n",
    "        lora_path, trust_remote_code= True, device_map='auto')"
   ]
  },
  {
   "cell_type": "code",
   "execution_count": 4,
   "id": "8579551c",
   "metadata": {},
   "outputs": [
    {
     "name": "stderr",
     "output_type": "stream",
     "text": [
      "Special tokens have been added in the vocabulary, make sure the associated word embeddings are fine-tuned or trained.\n"
     ]
    }
   ],
   "source": [
    "tokenizer = AutoTokenizer.from_pretrained(model_path, trust_remote_code=True)"
   ]
  },
  {
   "cell_type": "code",
   "execution_count": 5,
   "id": "24ae3b5e",
   "metadata": {},
   "outputs": [],
   "source": [
    "def filter_descibe(sql_statement):\n",
    "    modified_sql = re.sub(r'(\\w+)\\s+(INTEGER|int|NUMERIC|INT|REAL|TEXT|DATETIME|datetime|bigint\\(?\\d*\\)?|CHAR\\(?\\d*\\)?|char\\(?\\d*\\)?|varchar2\\(?\\d*\\)|VARCHAR\\(?\\d*\\)|varchar\\(?\\d*\\)|DECIMAL\\(?\\d*,\\s*\\d*\\)?)', r'\\1', sql_statement)\n",
    "    return  modified_sql"
   ]
  },
  {
   "cell_type": "code",
   "execution_count": 6,
   "id": "3500436d",
   "metadata": {},
   "outputs": [
    {
     "name": "stderr",
     "output_type": "stream",
     "text": [
      "100%|███████████████████████████████████████████████████████████████████████████████| 142/142 [00:00<00:00, 7078.74it/s]\n",
      "100%|████████████████████████████████████████████████████████████████████████████████| 30/30 [00:00<00:00, 13834.98it/s]"
     ]
    },
    {
     "name": "stdout",
     "output_type": "stream",
     "text": [
      "4913\n"
     ]
    },
    {
     "name": "stderr",
     "output_type": "stream",
     "text": [
      "\n"
     ]
    }
   ],
   "source": [
    "from tqdm import tqdm\n",
    "import copy\n",
    "import re\n",
    "\n",
    "# 获取REF表数据\n",
    "tab_str = \"\"\n",
    "count = 0\n",
    "df = pd.read_csv(\"./mydataset_new/table_schema_Reference_cropped.csv\", encoding=\"utf-8\")\n",
    "for index, row in tqdm(df.iterrows(), total=len(df)):\n",
    "    table_group = row['Reference_group']\n",
    "    table_group = filter_descibe(table_group)\n",
    "    table_group = table_group.replace(\"\\r\",\"\")\n",
    "    table_group = table_group.replace(\"\\n\",\"\")\n",
    "    table_group = table_group.replace(\"  \",\" \")\n",
    "    tab_str += table_group + \"\\n\"\n",
    "    \n",
    "df = pd.read_csv(\"./mydataset_new/table_schema_noReference_cropped.csv\", encoding=\"utf-8\")\n",
    "for index, row in tqdm(df.iterrows(), total=len(df)):\n",
    "    table_group = row['noReference_group']\n",
    "    table_group = filter_descibe(table_group)\n",
    "    table_group = table_group.replace(\"\\r\", \"\")\n",
    "    table_group = table_group.replace(\"\\n\", \"\")\n",
    "    table_group = table_group.replace(\"  \", \" \")\n",
    "    tab_str += table_group + \"\\n\"\n",
    "\n",
    "schema_str = tab_str.strip()\n",
    "check_token = tokenizer(f\"{schema_str}\", add_special_tokens=False)\n",
    "print(len(check_token[\"input_ids\"]))\n",
    "max_token = 5200"
   ]
  },
  {
   "cell_type": "code",
   "execution_count": 7,
   "id": "32ec16ba",
   "metadata": {},
   "outputs": [],
   "source": [
    "def predict(messages, model, tokenizer):\n",
    "    device = \"cuda\"\n",
    "    text = tokenizer.apply_chat_template(\n",
    "        messages,\n",
    "        tokenize=False,\n",
    "        add_generation_prompt=True\n",
    "    )\n",
    "    model_inputs = tokenizer([text], return_tensors=\"pt\").to(device)\n",
    "\n",
    "    generated_ids = model.generate(\n",
    "        model_inputs.input_ids,\n",
    "        max_new_tokens=512\n",
    "    )\n",
    "    generated_ids = [\n",
    "        output_ids[len(input_ids):] for input_ids, output_ids in zip(model_inputs.input_ids, generated_ids)\n",
    "    ]\n",
    "    \n",
    "    response = tokenizer.batch_decode(generated_ids, skip_special_tokens=True)[0]\n",
    "    \n",
    "#     print(response)\n",
    "     \n",
    "    return response\n",
    "\n",
    "# instruction = row['instruction']\n",
    "# input_value = row['input']\n",
    "def get_instruction(schema):\n",
    "    instruction = f\" I want you to act as a relation extraction robot for a sample SQL table. You only need to return the tables related to the user's input question. Below are instructions describing the relationship between tables. Please write a response that appropriately completes the request. \\n##instruction:{schema}\"\n",
    "    return instruction\n",
    "\n",
    "def get_input_value(question):\n",
    "    input_value = f\"{question}\"\n",
    "    return input_value"
   ]
  },
  {
   "cell_type": "code",
   "execution_count": 9,
   "id": "c39a6635",
   "metadata": {},
   "outputs": [
    {
     "name": "stderr",
     "output_type": "stream",
     "text": [
      "  1%|▍                                                                                  | 1/178 [00:05<14:52,  5.04s/it]"
     ]
    },
    {
     "name": "stdout",
     "output_type": "stream",
     "text": [
      "++++++++++++++++index:0++++++++++++++++++++++++\n",
      "预测表名： products, manufacturers\n",
      "正确表名： products, manufacturers\n",
      "############################################\n"
     ]
    },
    {
     "name": "stderr",
     "output_type": "stream",
     "text": [
      "\r",
      "  1%|▉                                                                                  | 2/178 [00:10<14:43,  5.02s/it]"
     ]
    },
    {
     "name": "stdout",
     "output_type": "stream",
     "text": [
      "++++++++++++++++index:1++++++++++++++++++++++++\n",
      "预测表名： products\n",
      "正确表名： products\n",
      "############################################\n"
     ]
    },
    {
     "name": "stderr",
     "output_type": "stream",
     "text": [
      "\r",
      "  2%|█▍                                                                                 | 3/178 [00:15<14:38,  5.02s/it]"
     ]
    },
    {
     "name": "stdout",
     "output_type": "stream",
     "text": [
      "++++++++++++++++index:2++++++++++++++++++++++++\n",
      "预测表名： manufacturers\n",
      "正确表名： manufacturers\n",
      "############################################\n"
     ]
    },
    {
     "name": "stderr",
     "output_type": "stream",
     "text": [
      "\r",
      "  2%|█▊                                                                                 | 4/178 [00:20<14:28,  4.99s/it]"
     ]
    },
    {
     "name": "stdout",
     "output_type": "stream",
     "text": [
      "++++++++++++++++index:3++++++++++++++++++++++++\n",
      "预测表名： manufacturers\n",
      "正确表名： manufacturers\n",
      "############################################\n"
     ]
    },
    {
     "name": "stderr",
     "output_type": "stream",
     "text": [
      "\r",
      "  3%|██▎                                                                                | 5/178 [00:25<14:27,  5.01s/it]"
     ]
    },
    {
     "name": "stdout",
     "output_type": "stream",
     "text": [
      "++++++++++++++++index:4++++++++++++++++++++++++\n",
      "预测表名： manufacturers\n",
      "正确表名： manufacturers\n",
      "############################################\n"
     ]
    },
    {
     "name": "stderr",
     "output_type": "stream",
     "text": [
      "\r",
      "  3%|██▊                                                                                | 6/178 [00:30<14:29,  5.05s/it]"
     ]
    },
    {
     "name": "stdout",
     "output_type": "stream",
     "text": [
      "++++++++++++++++index:5++++++++++++++++++++++++\n",
      "预测表名： products, manufacturers\n",
      "正确表名： products, manufacturers\n",
      "############################################\n"
     ]
    },
    {
     "name": "stderr",
     "output_type": "stream",
     "text": [
      "\r",
      "  4%|███▎                                                                               | 7/178 [00:35<14:21,  5.04s/it]"
     ]
    },
    {
     "name": "stdout",
     "output_type": "stream",
     "text": [
      "++++++++++++++++index:6++++++++++++++++++++++++\n",
      "预测表名： manufacturers\n",
      "正确表名： manufacturers\n",
      "############################################\n"
     ]
    },
    {
     "name": "stderr",
     "output_type": "stream",
     "text": [
      "\r",
      "  4%|███▋                                                                               | 8/178 [00:40<14:16,  5.04s/it]"
     ]
    },
    {
     "name": "stdout",
     "output_type": "stream",
     "text": [
      "++++++++++++++++index:7++++++++++++++++++++++++\n",
      "预测表名： products\n",
      "正确表名： products\n",
      "############################################\n"
     ]
    },
    {
     "name": "stderr",
     "output_type": "stream",
     "text": [
      "\r",
      "  5%|████▏                                                                              | 9/178 [00:45<14:22,  5.10s/it]"
     ]
    },
    {
     "name": "stdout",
     "output_type": "stream",
     "text": [
      "++++++++++++++++index:8++++++++++++++++++++++++\n",
      "预测表名： sportsinfo, student\n",
      "正确表名： student, sportsinfo\n",
      "############################################\n"
     ]
    },
    {
     "name": "stderr",
     "output_type": "stream",
     "text": [
      "\r",
      "  6%|████▌                                                                             | 10/178 [00:50<14:25,  5.15s/it]"
     ]
    },
    {
     "name": "stdout",
     "output_type": "stream",
     "text": [
      "++++++++++++++++index:9++++++++++++++++++++++++\n",
      "预测表名： plays_games, video_games\n",
      "正确表名： plays_games, video_games\n",
      "############################################\n"
     ]
    },
    {
     "name": "stderr",
     "output_type": "stream",
     "text": [
      "\r",
      "  6%|█████                                                                             | 11/178 [00:55<14:15,  5.12s/it]"
     ]
    },
    {
     "name": "stdout",
     "output_type": "stream",
     "text": [
      "++++++++++++++++index:10++++++++++++++++++++++++\n",
      "预测表名： video_games\n",
      "正确表名： video_games\n",
      "############################################\n"
     ]
    },
    {
     "name": "stderr",
     "output_type": "stream",
     "text": [
      "\r",
      "  7%|█████▌                                                                            | 12/178 [01:00<14:06,  5.10s/it]"
     ]
    },
    {
     "name": "stdout",
     "output_type": "stream",
     "text": [
      "++++++++++++++++index:11++++++++++++++++++++++++\n",
      "预测表名： video_games\n",
      "正确表名： video_games\n",
      "############################################\n"
     ]
    },
    {
     "name": "stderr",
     "output_type": "stream",
     "text": [
      "\r",
      "  7%|█████▉                                                                            | 13/178 [01:05<13:59,  5.09s/it]"
     ]
    },
    {
     "name": "stdout",
     "output_type": "stream",
     "text": [
      "++++++++++++++++index:12++++++++++++++++++++++++\n",
      "预测表名： video_games\n",
      "正确表名： video_games\n",
      "############################################\n"
     ]
    },
    {
     "name": "stderr",
     "output_type": "stream",
     "text": [
      "\r",
      "  8%|██████▍                                                                           | 14/178 [01:11<14:01,  5.13s/it]"
     ]
    },
    {
     "name": "stdout",
     "output_type": "stream",
     "text": [
      "++++++++++++++++index:13++++++++++++++++++++++++\n",
      "预测表名： sportsinfo, student\n",
      "正确表名： sportsinfo, student\n",
      "############################################\n"
     ]
    },
    {
     "name": "stderr",
     "output_type": "stream",
     "text": [
      "\r",
      "  8%|██████▉                                                                           | 15/178 [01:16<13:58,  5.14s/it]"
     ]
    },
    {
     "name": "stdout",
     "output_type": "stream",
     "text": [
      "++++++++++++++++index:14++++++++++++++++++++++++\n",
      "预测表名： student, plays_games\n",
      "正确表名： student, plays_games\n",
      "############################################\n"
     ]
    },
    {
     "name": "stderr",
     "output_type": "stream",
     "text": [
      "\r",
      "  9%|███████▎                                                                          | 16/178 [01:21<13:57,  5.17s/it]"
     ]
    },
    {
     "name": "stdout",
     "output_type": "stream",
     "text": [
      "++++++++++++++++index:15++++++++++++++++++++++++\n",
      "预测表名： student, sportsinfo\n",
      "正确表名： student, sportsinfo\n",
      "############################################\n"
     ]
    },
    {
     "name": "stderr",
     "output_type": "stream",
     "text": [
      "\r",
      " 10%|███████▊                                                                          | 17/178 [01:26<13:48,  5.14s/it]"
     ]
    },
    {
     "name": "stdout",
     "output_type": "stream",
     "text": [
      "++++++++++++++++index:16++++++++++++++++++++++++\n",
      "预测表名： musical\n",
      "正确表名： musical\n",
      "############################################\n"
     ]
    },
    {
     "name": "stderr",
     "output_type": "stream",
     "text": [
      "\r",
      " 10%|████████▎                                                                         | 18/178 [01:31<13:41,  5.14s/it]"
     ]
    },
    {
     "name": "stdout",
     "output_type": "stream",
     "text": [
      "++++++++++++++++index:17++++++++++++++++++++++++\n",
      "预测表名： actor, musical\n",
      "正确表名： actor, musical\n",
      "############################################\n"
     ]
    },
    {
     "name": "stderr",
     "output_type": "stream",
     "text": [
      "\r",
      " 11%|████████▊                                                                         | 19/178 [01:36<13:36,  5.14s/it]"
     ]
    },
    {
     "name": "stdout",
     "output_type": "stream",
     "text": [
      "++++++++++++++++index:18++++++++++++++++++++++++\n",
      "预测表名： musical, actor\n",
      "正确表名： musical, actor\n",
      "############################################\n"
     ]
    },
    {
     "name": "stderr",
     "output_type": "stream",
     "text": [
      "\r",
      " 11%|█████████▏                                                                        | 20/178 [01:42<13:34,  5.16s/it]"
     ]
    },
    {
     "name": "stdout",
     "output_type": "stream",
     "text": [
      "++++++++++++++++index:19++++++++++++++++++++++++\n",
      "预测表名： actor, musical\n",
      "正确表名： actor, musical\n",
      "############################################\n"
     ]
    },
    {
     "name": "stderr",
     "output_type": "stream",
     "text": [
      "\r",
      " 12%|█████████▋                                                                        | 21/178 [01:47<13:30,  5.16s/it]"
     ]
    },
    {
     "name": "stdout",
     "output_type": "stream",
     "text": [
      "++++++++++++++++index:20++++++++++++++++++++++++\n",
      "预测表名： entrepreneur, people\n",
      "正确表名： entrepreneur, people\n",
      "############################################\n"
     ]
    },
    {
     "name": "stderr",
     "output_type": "stream",
     "text": [
      "\r",
      " 12%|██████████▏                                                                       | 22/178 [01:52<13:23,  5.15s/it]"
     ]
    },
    {
     "name": "stdout",
     "output_type": "stream",
     "text": [
      "++++++++++++++++index:21++++++++++++++++++++++++\n",
      "预测表名： entrepreneur, people\n",
      "正确表名： entrepreneur, people\n",
      "############################################\n"
     ]
    },
    {
     "name": "stderr",
     "output_type": "stream",
     "text": [
      "\r",
      " 13%|██████████▌                                                                       | 23/178 [01:57<13:13,  5.12s/it]"
     ]
    },
    {
     "name": "stdout",
     "output_type": "stream",
     "text": [
      "++++++++++++++++index:22++++++++++++++++++++++++\n",
      "预测表名： people\n",
      "正确表名： people\n",
      "############################################\n"
     ]
    },
    {
     "name": "stderr",
     "output_type": "stream",
     "text": [
      "\r",
      " 13%|███████████                                                                       | 24/178 [02:02<13:05,  5.10s/it]"
     ]
    },
    {
     "name": "stdout",
     "output_type": "stream",
     "text": [
      "++++++++++++++++index:23++++++++++++++++++++++++\n",
      "预测表名： manufacturers\n",
      "正确表名： entrepreneur\n",
      "############################################\n"
     ]
    },
    {
     "name": "stderr",
     "output_type": "stream",
     "text": [
      "\r",
      " 14%|███████████▌                                                                      | 25/178 [02:07<13:15,  5.20s/it]"
     ]
    },
    {
     "name": "stdout",
     "output_type": "stream",
     "text": [
      "++++++++++++++++index:24++++++++++++++++++++++++\n",
      "预测表名： tourist_attractions, visitors, visits\n",
      "正确表名： tourist_attractions, visitors, visits\n",
      "############################################\n"
     ]
    },
    {
     "name": "stderr",
     "output_type": "stream",
     "text": [
      "\r",
      " 15%|███████████▉                                                                      | 26/178 [02:12<13:01,  5.14s/it]"
     ]
    },
    {
     "name": "stdout",
     "output_type": "stream",
     "text": [
      "++++++++++++++++index:25++++++++++++++++++++++++\n",
      "预测表名： visits\n",
      "正确表名： visits\n",
      "############################################\n"
     ]
    },
    {
     "name": "stderr",
     "output_type": "stream",
     "text": [
      "\r",
      " 15%|████████████▍                                                                     | 27/178 [02:18<13:04,  5.19s/it]"
     ]
    },
    {
     "name": "stdout",
     "output_type": "stream",
     "text": [
      "++++++++++++++++index:26++++++++++++++++++++++++\n",
      "预测表名： locations, tourist_attractions\n",
      "正确表名： locations, tourist_attractions\n",
      "############################################\n"
     ]
    },
    {
     "name": "stderr",
     "output_type": "stream",
     "text": [
      "\r",
      " 16%|████████████▉                                                                     | 28/178 [02:23<12:59,  5.20s/it]"
     ]
    },
    {
     "name": "stdout",
     "output_type": "stream",
     "text": [
      "++++++++++++++++index:27++++++++++++++++++++++++\n",
      "预测表名： tourist_attractions\n",
      "正确表名： tourist_attractions\n",
      "############################################\n"
     ]
    },
    {
     "name": "stderr",
     "output_type": "stream",
     "text": [
      "\r",
      " 16%|█████████████▎                                                                    | 29/178 [02:28<12:56,  5.21s/it]"
     ]
    },
    {
     "name": "stdout",
     "output_type": "stream",
     "text": [
      "++++++++++++++++index:28++++++++++++++++++++++++\n",
      "预测表名： museums, tourist_attractions\n",
      "正确表名： museums, tourist_attractions\n",
      "############################################\n"
     ]
    },
    {
     "name": "stderr",
     "output_type": "stream",
     "text": [
      "\r",
      " 17%|█████████████▊                                                                    | 30/178 [02:33<12:54,  5.23s/it]"
     ]
    },
    {
     "name": "stdout",
     "output_type": "stream",
     "text": [
      "++++++++++++++++index:29++++++++++++++++++++++++\n",
      "预测表名： locations, tourist_attractions\n",
      "正确表名： locations, tourist_attractions\n",
      "############################################\n"
     ]
    },
    {
     "name": "stderr",
     "output_type": "stream",
     "text": [
      "\r",
      " 17%|██████████████▎                                                                   | 31/178 [02:38<12:39,  5.17s/it]"
     ]
    },
    {
     "name": "stdout",
     "output_type": "stream",
     "text": [
      "++++++++++++++++index:30++++++++++++++++++++++++\n",
      "预测表名： photos\n",
      "正确表名： photos\n",
      "############################################\n"
     ]
    },
    {
     "name": "stderr",
     "output_type": "stream",
     "text": [
      "\r",
      " 18%|██████████████▋                                                                   | 32/178 [02:44<12:39,  5.20s/it]"
     ]
    },
    {
     "name": "stdout",
     "output_type": "stream",
     "text": [
      "++++++++++++++++index:31++++++++++++++++++++++++\n",
      "预测表名： staff, tourist_attractions\n",
      "正确表名： staff, tourist_attractions\n",
      "############################################\n"
     ]
    },
    {
     "name": "stderr",
     "output_type": "stream",
     "text": [
      "\r",
      " 19%|███████████████▏                                                                  | 33/178 [02:49<12:26,  5.15s/it]"
     ]
    },
    {
     "name": "stdout",
     "output_type": "stream",
     "text": [
      "++++++++++++++++index:32++++++++++++++++++++++++\n",
      "预测表名： elimination\n",
      "正确表名： elimination\n",
      "############################################\n"
     ]
    },
    {
     "name": "stderr",
     "output_type": "stream",
     "text": [
      "\r",
      " 19%|███████████████▋                                                                  | 34/178 [02:54<12:15,  5.11s/it]"
     ]
    },
    {
     "name": "stdout",
     "output_type": "stream",
     "text": [
      "++++++++++++++++index:33++++++++++++++++++++++++\n",
      "预测表名： wrestler\n",
      "正确表名： wrestler\n",
      "############################################\n"
     ]
    },
    {
     "name": "stderr",
     "output_type": "stream",
     "text": [
      "\r",
      " 20%|████████████████                                                                  | 35/178 [02:59<12:08,  5.09s/it]"
     ]
    },
    {
     "name": "stdout",
     "output_type": "stream",
     "text": [
      "++++++++++++++++index:34++++++++++++++++++++++++\n",
      "预测表名： wrestler\n",
      "正确表名： wrestler\n",
      "############################################\n"
     ]
    },
    {
     "name": "stderr",
     "output_type": "stream",
     "text": [
      "\r",
      " 20%|████████████████▌                                                                 | 36/178 [03:04<12:00,  5.07s/it]"
     ]
    },
    {
     "name": "stdout",
     "output_type": "stream",
     "text": [
      "++++++++++++++++index:35++++++++++++++++++++++++\n",
      "预测表名： elimination\n",
      "正确表名： elimination\n",
      "############################################\n"
     ]
    },
    {
     "name": "stderr",
     "output_type": "stream",
     "text": [
      "\r",
      " 21%|█████████████████                                                                 | 37/178 [03:09<11:57,  5.09s/it]"
     ]
    },
    {
     "name": "stdout",
     "output_type": "stream",
     "text": [
      "++++++++++++++++index:36++++++++++++++++++++++++\n",
      "预测表名： user, tip\n",
      "正确表名： user, tip\n",
      "############################################\n"
     ]
    },
    {
     "name": "stderr",
     "output_type": "stream",
     "text": [
      "\r",
      " 21%|█████████████████▌                                                                | 38/178 [03:14<11:58,  5.13s/it]"
     ]
    },
    {
     "name": "stdout",
     "output_type": "stream",
     "text": [
      "++++++++++++++++index:37++++++++++++++++++++++++\n",
      "预测表名： review, business, user\n",
      "正确表名： category, business, review, user\n",
      "############################################\n"
     ]
    },
    {
     "name": "stderr",
     "output_type": "stream",
     "text": [
      "\r",
      " 22%|█████████████████▉                                                                | 39/178 [03:20<11:59,  5.17s/it]"
     ]
    },
    {
     "name": "stdout",
     "output_type": "stream",
     "text": [
      "++++++++++++++++index:38++++++++++++++++++++++++\n",
      "预测表名： review, business, user\n",
      "正确表名： category, business, review, user\n",
      "############################################\n"
     ]
    },
    {
     "name": "stderr",
     "output_type": "stream",
     "text": [
      "\r",
      " 22%|██████████████████▍                                                               | 40/178 [03:25<11:56,  5.19s/it]"
     ]
    },
    {
     "name": "stdout",
     "output_type": "stream",
     "text": [
      "++++++++++++++++index:39++++++++++++++++++++++++\n",
      "预测表名： category, business, neighbourhood\n",
      "正确表名： category, business, neighbourhood\n",
      "############################################\n"
     ]
    },
    {
     "name": "stderr",
     "output_type": "stream",
     "text": [
      "\r",
      " 23%|██████████████████▉                                                               | 41/178 [03:30<11:47,  5.17s/it]"
     ]
    },
    {
     "name": "stdout",
     "output_type": "stream",
     "text": [
      "++++++++++++++++index:40++++++++++++++++++++++++\n",
      "预测表名： category, business\n",
      "正确表名： category, business\n",
      "############################################\n"
     ]
    },
    {
     "name": "stderr",
     "output_type": "stream",
     "text": [
      "\r",
      " 24%|███████████████████▎                                                              | 42/178 [03:35<11:43,  5.17s/it]"
     ]
    },
    {
     "name": "stdout",
     "output_type": "stream",
     "text": [
      "++++++++++++++++index:41++++++++++++++++++++++++\n",
      "预测表名： user, review\n",
      "正确表名： user, review\n",
      "############################################\n"
     ]
    },
    {
     "name": "stderr",
     "output_type": "stream",
     "text": [
      "\r",
      " 24%|███████████████████▊                                                              | 43/178 [03:40<11:36,  5.16s/it]"
     ]
    },
    {
     "name": "stdout",
     "output_type": "stream",
     "text": [
      "++++++++++++++++index:42++++++++++++++++++++++++\n",
      "预测表名： category, business\n",
      "正确表名： category, business\n",
      "############################################\n"
     ]
    },
    {
     "name": "stderr",
     "output_type": "stream",
     "text": [
      "\r",
      " 25%|████████████████████▎                                                             | 44/178 [03:45<11:29,  5.14s/it]"
     ]
    },
    {
     "name": "stdout",
     "output_type": "stream",
     "text": [
      "++++++++++++++++index:43++++++++++++++++++++++++\n",
      "预测表名： user, review\n",
      "正确表名： user, review\n",
      "############################################\n"
     ]
    },
    {
     "name": "stderr",
     "output_type": "stream",
     "text": [
      "\r",
      " 25%|████████████████████▋                                                             | 45/178 [03:50<11:27,  5.17s/it]"
     ]
    },
    {
     "name": "stdout",
     "output_type": "stream",
     "text": [
      "++++++++++++++++index:44++++++++++++++++++++++++\n",
      "预测表名： business, review, user\n",
      "正确表名： review, business, user\n",
      "############################################\n"
     ]
    },
    {
     "name": "stderr",
     "output_type": "stream",
     "text": [
      "\r",
      " 26%|█████████████████████▏                                                            | 46/178 [03:56<11:22,  5.17s/it]"
     ]
    },
    {
     "name": "stdout",
     "output_type": "stream",
     "text": [
      "++++++++++++++++index:45++++++++++++++++++++++++\n",
      "预测表名： user, tip\n",
      "正确表名： tip, business, user\n",
      "############################################\n"
     ]
    },
    {
     "name": "stderr",
     "output_type": "stream",
     "text": [
      "\r",
      " 26%|█████████████████████▋                                                            | 47/178 [04:01<11:21,  5.20s/it]"
     ]
    },
    {
     "name": "stdout",
     "output_type": "stream",
     "text": [
      "++++++++++++++++index:46++++++++++++++++++++++++\n",
      "预测表名： category, business, review\n",
      "正确表名： review, business\n",
      "############################################\n"
     ]
    },
    {
     "name": "stderr",
     "output_type": "stream",
     "text": [
      "\r",
      " 27%|██████████████████████                                                            | 48/178 [04:06<11:15,  5.20s/it]"
     ]
    },
    {
     "name": "stdout",
     "output_type": "stream",
     "text": [
      "++++++++++++++++index:47++++++++++++++++++++++++\n",
      "预测表名： behavior_incident\n",
      "正确表名： behavior_incident\n",
      "############################################\n"
     ]
    },
    {
     "name": "stderr",
     "output_type": "stream",
     "text": [
      "\r",
      " 28%|██████████████████████▌                                                           | 49/178 [04:11<11:09,  5.19s/it]"
     ]
    },
    {
     "name": "stdout",
     "output_type": "stream",
     "text": [
      "++++++++++++++++index:48++++++++++++++++++++++++\n",
      "预测表名： addresses, Student_addresses\n",
      "正确表名： student_addresses\n",
      "############################################\n"
     ]
    },
    {
     "name": "stderr",
     "output_type": "stream",
     "text": [
      "\r",
      " 28%|███████████████████████                                                           | 50/178 [04:16<10:59,  5.15s/it]"
     ]
    },
    {
     "name": "stdout",
     "output_type": "stream",
     "text": [
      "++++++++++++++++index:49++++++++++++++++++++++++\n",
      "预测表名： teachers\n",
      "正确表名： teachers\n",
      "############################################\n"
     ]
    },
    {
     "name": "stderr",
     "output_type": "stream",
     "text": [
      "\r",
      " 29%|███████████████████████▍                                                          | 51/178 [04:22<10:55,  5.16s/it]"
     ]
    },
    {
     "name": "stdout",
     "output_type": "stream",
     "text": [
      "++++++++++++++++index:50++++++++++++++++++++++++\n",
      "预测表名： students_in_detention\n",
      "正确表名： students_in_detention\n",
      "############################################\n"
     ]
    },
    {
     "name": "stderr",
     "output_type": "stream",
     "text": [
      "\r",
      " 29%|███████████████████████▉                                                          | 52/178 [04:27<10:45,  5.12s/it]"
     ]
    },
    {
     "name": "stdout",
     "output_type": "stream",
     "text": [
      "++++++++++++++++index:51++++++++++++++++++++++++\n",
      "预测表名： film\n",
      "正确表名： film\n",
      "############################################\n"
     ]
    },
    {
     "name": "stderr",
     "output_type": "stream",
     "text": [
      "\r",
      " 30%|████████████████████████▍                                                         | 53/178 [04:32<10:39,  5.11s/it]"
     ]
    },
    {
     "name": "stdout",
     "output_type": "stream",
     "text": [
      "++++++++++++++++index:52++++++++++++++++++++++++\n",
      "预测表名： film\n",
      "正确表名： film\n",
      "############################################\n"
     ]
    },
    {
     "name": "stderr",
     "output_type": "stream",
     "text": [
      "\r",
      " 30%|████████████████████████▉                                                         | 54/178 [04:37<10:36,  5.13s/it]"
     ]
    },
    {
     "name": "stdout",
     "output_type": "stream",
     "text": [
      "++++++++++++++++index:53++++++++++++++++++++++++\n",
      "预测表名： film_market_estimation\n",
      "正确表名： film_market_estimation\n",
      "############################################\n"
     ]
    },
    {
     "name": "stderr",
     "output_type": "stream",
     "text": [
      "\r",
      " 31%|█████████████████████████▎                                                        | 55/178 [04:42<10:26,  5.10s/it]"
     ]
    },
    {
     "name": "stdout",
     "output_type": "stream",
     "text": [
      "++++++++++++++++index:54++++++++++++++++++++++++\n",
      "预测表名： film\n",
      "正确表名： film\n",
      "############################################\n"
     ]
    },
    {
     "name": "stderr",
     "output_type": "stream",
     "text": [
      "\r",
      " 31%|█████████████████████████▊                                                        | 56/178 [04:47<10:22,  5.11s/it]"
     ]
    },
    {
     "name": "stdout",
     "output_type": "stream",
     "text": [
      "++++++++++++++++index:55++++++++++++++++++++++++\n",
      "预测表名： catalog_contents\n",
      "正确表名： catalog_contents, catalog_contents_Additional_Attributes\n",
      "############################################\n"
     ]
    },
    {
     "name": "stderr",
     "output_type": "stream",
     "text": [
      "\r",
      " 32%|██████████████████████████▎                                                       | 57/178 [04:52<10:19,  5.12s/it]"
     ]
    },
    {
     "name": "stdout",
     "output_type": "stream",
     "text": [
      "++++++++++++++++index:56++++++++++++++++++++++++\n",
      "预测表名： catalog_structure\n",
      "正确表名： catalog_structure\n",
      "############################################\n"
     ]
    },
    {
     "name": "stderr",
     "output_type": "stream",
     "text": [
      "\r",
      " 33%|██████████████████████████▋                                                       | 58/178 [04:57<10:11,  5.10s/it]"
     ]
    },
    {
     "name": "stdout",
     "output_type": "stream",
     "text": [
      "++++++++++++++++index:57++++++++++++++++++++++++\n",
      "预测表名： catalogs\n",
      "正确表名： catalogs\n",
      "############################################\n"
     ]
    },
    {
     "name": "stderr",
     "output_type": "stream",
     "text": [
      "\r",
      " 33%|███████████████████████████▏                                                      | 59/178 [05:02<10:08,  5.11s/it]"
     ]
    },
    {
     "name": "stdout",
     "output_type": "stream",
     "text": [
      "++++++++++++++++index:58++++++++++++++++++++++++\n",
      "预测表名： catalog_contents\n",
      "正确表名： catalog_contents\n",
      "############################################\n"
     ]
    },
    {
     "name": "stderr",
     "output_type": "stream",
     "text": [
      "\r",
      " 34%|███████████████████████████▋                                                      | 60/178 [05:07<10:01,  5.10s/it]"
     ]
    },
    {
     "name": "stdout",
     "output_type": "stream",
     "text": [
      "++++++++++++++++index:59++++++++++++++++++++++++\n",
      "预测表名： airports\n",
      "正确表名： airports\n",
      "############################################\n"
     ]
    },
    {
     "name": "stderr",
     "output_type": "stream",
     "text": [
      "\r",
      " 34%|████████████████████████████                                                      | 61/178 [05:12<09:55,  5.09s/it]"
     ]
    },
    {
     "name": "stdout",
     "output_type": "stream",
     "text": [
      "++++++++++++++++index:60++++++++++++++++++++++++\n",
      "预测表名： airports\n",
      "正确表名： airports\n",
      "############################################\n"
     ]
    },
    {
     "name": "stderr",
     "output_type": "stream",
     "text": [
      "\r",
      " 35%|████████████████████████████▌                                                     | 62/178 [05:18<09:50,  5.09s/it]"
     ]
    },
    {
     "name": "stdout",
     "output_type": "stream",
     "text": [
      "++++++++++++++++index:61++++++++++++++++++++++++\n",
      "预测表名： airports\n",
      "正确表名： airports\n",
      "############################################\n"
     ]
    },
    {
     "name": "stderr",
     "output_type": "stream",
     "text": [
      "\r",
      " 35%|█████████████████████████████                                                     | 63/178 [05:23<09:42,  5.07s/it]"
     ]
    },
    {
     "name": "stdout",
     "output_type": "stream",
     "text": [
      "++++++++++++++++index:62++++++++++++++++++++++++\n",
      "预测表名： airlines\n",
      "正确表名： airlines\n",
      "############################################\n"
     ]
    },
    {
     "name": "stderr",
     "output_type": "stream",
     "text": [
      "\r",
      " 36%|█████████████████████████████▍                                                    | 64/178 [05:28<09:37,  5.07s/it]"
     ]
    },
    {
     "name": "stdout",
     "output_type": "stream",
     "text": [
      "++++++++++++++++index:63++++++++++++++++++++++++\n",
      "预测表名： airports\n",
      "正确表名： airports\n",
      "############################################\n"
     ]
    },
    {
     "name": "stderr",
     "output_type": "stream",
     "text": [
      "\r",
      " 37%|█████████████████████████████▉                                                    | 65/178 [05:33<09:33,  5.07s/it]"
     ]
    },
    {
     "name": "stdout",
     "output_type": "stream",
     "text": [
      "++++++++++++++++index:64++++++++++++++++++++++++\n",
      "预测表名： airports\n",
      "正确表名： airports\n",
      "############################################\n"
     ]
    },
    {
     "name": "stderr",
     "output_type": "stream",
     "text": [
      "\r",
      " 37%|██████████████████████████████▍                                                   | 66/178 [05:38<09:26,  5.06s/it]"
     ]
    },
    {
     "name": "stdout",
     "output_type": "stream",
     "text": [
      "++++++++++++++++index:65++++++++++++++++++++++++\n",
      "预测表名： airlines\n",
      "正确表名： airlines\n",
      "############################################\n"
     ]
    },
    {
     "name": "stderr",
     "output_type": "stream",
     "text": [
      "\r",
      " 38%|██████████████████████████████▊                                                   | 67/178 [05:43<09:25,  5.10s/it]"
     ]
    },
    {
     "name": "stdout",
     "output_type": "stream",
     "text": [
      "++++++++++++++++index:66++++++++++++++++++++++++\n",
      "预测表名： airlines, routes\n",
      "正确表名： airlines, routes\n",
      "############################################\n"
     ]
    },
    {
     "name": "stderr",
     "output_type": "stream",
     "text": [
      "\r",
      " 38%|███████████████████████████████▎                                                  | 68/178 [05:48<09:19,  5.09s/it]"
     ]
    },
    {
     "name": "stdout",
     "output_type": "stream",
     "text": [
      "++++++++++++++++index:67++++++++++++++++++++++++\n",
      "预测表名： game\n",
      "正确表名： game\n",
      "############################################\n"
     ]
    },
    {
     "name": "stderr",
     "output_type": "stream",
     "text": [
      "\r",
      " 39%|███████████████████████████████▊                                                  | 69/178 [05:53<09:17,  5.12s/it]"
     ]
    },
    {
     "name": "stdout",
     "output_type": "stream",
     "text": [
      "++++++++++++++++index:68++++++++++++++++++++++++\n",
      "预测表名： physician, patient\n",
      "正确表名： physician, patient\n",
      "############################################\n"
     ]
    },
    {
     "name": "stderr",
     "output_type": "stream",
     "text": [
      "\r",
      " 39%|████████████████████████████████▏                                                 | 70/178 [05:58<09:10,  5.10s/it]"
     ]
    },
    {
     "name": "stdout",
     "output_type": "stream",
     "text": [
      "++++++++++++++++index:69++++++++++++++++++++++++\n",
      "预测表名： department\n",
      "正确表名： department\n",
      "############################################\n"
     ]
    },
    {
     "name": "stderr",
     "output_type": "stream",
     "text": [
      "\r",
      " 40%|████████████████████████████████▋                                                 | 71/178 [06:03<09:04,  5.09s/it]"
     ]
    },
    {
     "name": "stdout",
     "output_type": "stream",
     "text": [
      "++++++++++++++++index:70++++++++++++++++++++++++\n",
      "预测表名： procedures\n",
      "正确表名： procedures\n",
      "############################################\n"
     ]
    },
    {
     "name": "stderr",
     "output_type": "stream",
     "text": [
      "\r",
      " 40%|█████████████████████████████████▏                                                | 72/178 [06:09<09:07,  5.17s/it]"
     ]
    },
    {
     "name": "stdout",
     "output_type": "stream",
     "text": [
      "++++++++++++++++index:71++++++++++++++++++++++++\n",
      "预测表名： procedures, physician, trained_in\n",
      "正确表名： procedures, physician, trained_in\n",
      "############################################\n"
     ]
    },
    {
     "name": "stderr",
     "output_type": "stream",
     "text": [
      "\r",
      " 41%|█████████████████████████████████▋                                                | 73/178 [06:14<09:04,  5.19s/it]"
     ]
    },
    {
     "name": "stdout",
     "output_type": "stream",
     "text": [
      "++++++++++++++++index:72++++++++++++++++++++++++\n",
      "预测表名： physician, prescribes\n",
      "正确表名： physician, prescribes\n",
      "############################################\n"
     ]
    },
    {
     "name": "stderr",
     "output_type": "stream",
     "text": [
      "\r",
      " 42%|██████████████████████████████████                                                | 74/178 [06:19<08:56,  5.15s/it]"
     ]
    },
    {
     "name": "stdout",
     "output_type": "stream",
     "text": [
      "++++++++++++++++index:73++++++++++++++++++++++++\n",
      "预测表名： appointment\n",
      "正确表名： appointment\n",
      "############################################\n"
     ]
    },
    {
     "name": "stderr",
     "output_type": "stream",
     "text": [
      "\r",
      " 42%|██████████████████████████████████▌                                               | 75/178 [06:24<08:52,  5.17s/it]"
     ]
    },
    {
     "name": "stdout",
     "output_type": "stream",
     "text": [
      "++++++++++++++++index:74++++++++++++++++++++++++\n",
      "预测表名： on_call, nurse\n",
      "正确表名： nurse, on_call\n",
      "############################################\n"
     ]
    },
    {
     "name": "stderr",
     "output_type": "stream",
     "text": [
      "\r",
      " 43%|███████████████████████████████████                                               | 76/178 [06:30<08:52,  5.22s/it]"
     ]
    },
    {
     "name": "stdout",
     "output_type": "stream",
     "text": [
      "++++++++++++++++index:75++++++++++++++++++++++++\n",
      "预测表名： procedures, physician, trained_in\n",
      "正确表名： procedures, physician, trained_in\n",
      "############################################\n"
     ]
    },
    {
     "name": "stderr",
     "output_type": "stream",
     "text": [
      "\r",
      " 43%|███████████████████████████████████▍                                              | 77/178 [06:35<08:44,  5.19s/it]"
     ]
    },
    {
     "name": "stdout",
     "output_type": "stream",
     "text": [
      "++++++++++++++++index:76++++++++++++++++++++++++\n",
      "预测表名： department\n",
      "正确表名： department\n",
      "############################################\n"
     ]
    },
    {
     "name": "stderr",
     "output_type": "stream",
     "text": [
      "\r",
      " 44%|███████████████████████████████████▉                                              | 78/178 [06:40<08:43,  5.24s/it]"
     ]
    },
    {
     "name": "stdout",
     "output_type": "stream",
     "text": [
      "++++++++++++++++index:77++++++++++++++++++++++++\n",
      "预测表名： procedure, physician, trained_in\n",
      "正确表名： procedures, physician, trained_in\n",
      "############################################\n"
     ]
    },
    {
     "name": "stderr",
     "output_type": "stream",
     "text": [
      "\r",
      " 44%|████████████████████████████████████▍                                             | 79/178 [06:45<08:32,  5.17s/it]"
     ]
    },
    {
     "name": "stdout",
     "output_type": "stream",
     "text": [
      "++++++++++++++++index:78++++++++++++++++++++++++\n",
      "预测表名： buildings\n",
      "正确表名： buildings\n",
      "############################################\n"
     ]
    },
    {
     "name": "stderr",
     "output_type": "stream",
     "text": [
      "\r",
      " 45%|████████████████████████████████████▊                                             | 80/178 [06:50<08:25,  5.16s/it]"
     ]
    },
    {
     "name": "stdout",
     "output_type": "stream",
     "text": [
      "++++++++++++++++index:79++++++++++++++++++++++++\n",
      "预测表名： company\n",
      "正确表名： companies\n",
      "############################################\n"
     ]
    },
    {
     "name": "stderr",
     "output_type": "stream",
     "text": [
      "\r",
      " 46%|█████████████████████████████████████▎                                            | 81/178 [06:55<08:18,  5.14s/it]"
     ]
    },
    {
     "name": "stdout",
     "output_type": "stream",
     "text": [
      "++++++++++++++++index:80++++++++++++++++++++++++\n",
      "预测表名： companies\n",
      "正确表名： companies\n",
      "############################################\n"
     ]
    },
    {
     "name": "stderr",
     "output_type": "stream",
     "text": [
      "\r",
      " 46%|█████████████████████████████████████▊                                            | 82/178 [07:00<08:12,  5.13s/it]"
     ]
    },
    {
     "name": "stdout",
     "output_type": "stream",
     "text": [
      "++++++++++++++++index:81++++++++++++++++++++++++\n",
      "预测表名： buildings\n",
      "正确表名： buildings\n",
      "############################################\n"
     ]
    },
    {
     "name": "stderr",
     "output_type": "stream",
     "text": [
      "\r",
      " 47%|██████████████████████████████████████▏                                           | 83/178 [07:05<08:04,  5.10s/it]"
     ]
    },
    {
     "name": "stdout",
     "output_type": "stream",
     "text": [
      "++++++++++++++++index:82++++++++++++++++++++++++\n",
      "预测表名： party\n",
      "正确表名： party\n",
      "############################################\n"
     ]
    },
    {
     "name": "stderr",
     "output_type": "stream",
     "text": [
      "\r",
      " 47%|██████████████████████████████████████▋                                           | 84/178 [07:10<07:59,  5.10s/it]"
     ]
    },
    {
     "name": "stdout",
     "output_type": "stream",
     "text": [
      "++++++++++++++++index:83++++++++++++++++++++++++\n",
      "预测表名： party\n",
      "正确表名： party\n",
      "############################################\n"
     ]
    },
    {
     "name": "stderr",
     "output_type": "stream",
     "text": [
      "\r",
      " 48%|███████████████████████████████████████▏                                          | 85/178 [07:16<07:54,  5.10s/it]"
     ]
    },
    {
     "name": "stdout",
     "output_type": "stream",
     "text": [
      "++++++++++++++++index:84++++++++++++++++++++++++\n",
      "预测表名： party\n",
      "正确表名： party\n",
      "############################################\n"
     ]
    },
    {
     "name": "stderr",
     "output_type": "stream",
     "text": [
      "\r",
      " 48%|███████████████████████████████████████▌                                          | 86/178 [07:21<07:53,  5.15s/it]"
     ]
    },
    {
     "name": "stdout",
     "output_type": "stream",
     "text": [
      "++++++++++++++++index:85++++++++++++++++++++++++\n",
      "预测表名： party_events, party\n",
      "正确表名： party_events, party\n",
      "############################################\n"
     ]
    },
    {
     "name": "stderr",
     "output_type": "stream",
     "text": [
      "\r",
      " 49%|████████████████████████████████████████                                          | 87/178 [07:27<08:04,  5.32s/it]"
     ]
    },
    {
     "name": "stdout",
     "output_type": "stream",
     "text": [
      "++++++++++++++++index:86++++++++++++++++++++++++\n",
      "预测表名： web_client_accelerator, accelerator_compatible_browser, browser\n",
      "正确表名： browser, accelerator_compatible_browser, web_client_accelerator\n",
      "############################################\n"
     ]
    },
    {
     "name": "stderr",
     "output_type": "stream",
     "text": [
      "\r",
      " 49%|████████████████████████████████████████▌                                         | 88/178 [07:32<07:58,  5.31s/it]"
     ]
    },
    {
     "name": "stdout",
     "output_type": "stream",
     "text": [
      "++++++++++++++++index:87++++++++++++++++++++++++\n",
      "预测表名： transactions_lots, lots\n",
      "正确表名： transactions, transactions_lots\n",
      "############################################\n"
     ]
    },
    {
     "name": "stderr",
     "output_type": "stream",
     "text": [
      "\r",
      " 50%|█████████████████████████████████████████                                         | 89/178 [07:37<07:45,  5.23s/it]"
     ]
    },
    {
     "name": "stdout",
     "output_type": "stream",
     "text": [
      "++++++++++++++++index:88++++++++++++++++++++++++\n",
      "预测表名： investors\n",
      "正确表名： investors\n",
      "############################################\n"
     ]
    },
    {
     "name": "stderr",
     "output_type": "stream",
     "text": [
      "\r",
      " 51%|█████████████████████████████████████████▍                                        | 90/178 [07:42<07:43,  5.26s/it]"
     ]
    },
    {
     "name": "stdout",
     "output_type": "stream",
     "text": [
      "++++++++++++++++index:89++++++++++++++++++++++++\n",
      "预测表名： lots, transactions_lots\n",
      "正确表名： lots, transactions_lots\n",
      "############################################\n"
     ]
    },
    {
     "name": "stderr",
     "output_type": "stream",
     "text": [
      "\r",
      " 51%|█████████████████████████████████████████▉                                        | 91/178 [07:47<07:34,  5.22s/it]"
     ]
    },
    {
     "name": "stdout",
     "output_type": "stream",
     "text": [
      "++++++++++++++++index:90++++++++++++++++++++++++\n",
      "预测表名： transactions\n",
      "正确表名： transactions\n",
      "############################################\n"
     ]
    },
    {
     "name": "stderr",
     "output_type": "stream",
     "text": [
      "\r",
      " 52%|██████████████████████████████████████████▍                                       | 92/178 [07:52<07:26,  5.19s/it]"
     ]
    },
    {
     "name": "stdout",
     "output_type": "stream",
     "text": [
      "++++++++++++++++index:91++++++++++++++++++++++++\n",
      "预测表名： university\n",
      "正确表名： university\n",
      "############################################\n"
     ]
    },
    {
     "name": "stderr",
     "output_type": "stream",
     "text": [
      "\r",
      " 52%|██████████████████████████████████████████▊                                       | 93/178 [07:58<07:18,  5.16s/it]"
     ]
    },
    {
     "name": "stdout",
     "output_type": "stream",
     "text": [
      "++++++++++++++++index:92++++++++++++++++++++++++\n",
      "预测表名： university\n",
      "正确表名： university\n",
      "############################################\n"
     ]
    },
    {
     "name": "stderr",
     "output_type": "stream",
     "text": [
      "\r",
      " 53%|███████████████████████████████████████████▎                                      | 94/178 [08:03<07:10,  5.12s/it]"
     ]
    },
    {
     "name": "stdout",
     "output_type": "stream",
     "text": [
      "++++++++++++++++index:93++++++++++++++++++++++++\n",
      "预测表名： university\n",
      "正确表名： university\n",
      "############################################\n"
     ]
    },
    {
     "name": "stderr",
     "output_type": "stream",
     "text": [
      "\r",
      " 53%|███████████████████████████████████████████▊                                      | 95/178 [08:08<07:07,  5.15s/it]"
     ]
    },
    {
     "name": "stdout",
     "output_type": "stream",
     "text": [
      "++++++++++++++++index:94++++++++++++++++++++++++\n",
      "预测表名： university, basketball_match\n",
      "正确表名： university, basketball_match\n",
      "############################################\n"
     ]
    },
    {
     "name": "stderr",
     "output_type": "stream",
     "text": [
      "\r",
      " 54%|████████████████████████████████████████████▏                                     | 96/178 [08:13<07:06,  5.20s/it]"
     ]
    },
    {
     "name": "stdout",
     "output_type": "stream",
     "text": [
      "++++++++++++++++index:95++++++++++++++++++++++++\n",
      "预测表名： restaurant, geographic, location\n",
      "正确表名： restaurant, geographic, location\n",
      "############################################\n"
     ]
    },
    {
     "name": "stderr",
     "output_type": "stream",
     "text": [
      "\r",
      " 54%|████████████████████████████████████████████▋                                     | 97/178 [08:18<07:02,  5.21s/it]"
     ]
    },
    {
     "name": "stdout",
     "output_type": "stream",
     "text": [
      "++++++++++++++++index:96++++++++++++++++++++++++\n",
      "预测表名： restaurant, location\n",
      "正确表名： restaurant, location\n",
      "############################################\n"
     ]
    },
    {
     "name": "stderr",
     "output_type": "stream",
     "text": [
      "\r",
      " 55%|█████████████████████████████████████████████▏                                    | 98/178 [08:24<06:57,  5.21s/it]"
     ]
    },
    {
     "name": "stdout",
     "output_type": "stream",
     "text": [
      "++++++++++++++++index:97++++++++++++++++++++++++\n",
      "预测表名： location, restaurant, geographic\n",
      "正确表名： location, restaurant, geographic\n",
      "############################################\n"
     ]
    },
    {
     "name": "stderr",
     "output_type": "stream",
     "text": [
      "\r",
      " 56%|█████████████████████████████████████████████▌                                    | 99/178 [08:29<06:52,  5.22s/it]"
     ]
    },
    {
     "name": "stdout",
     "output_type": "stream",
     "text": [
      "++++++++++++++++index:98++++++++++++++++++++++++\n",
      "预测表名： restaurant, location\n",
      "正确表名： restaurant, location\n",
      "############################################\n"
     ]
    },
    {
     "name": "stderr",
     "output_type": "stream",
     "text": [
      "\r",
      " 56%|█████████████████████████████████████████████▌                                   | 100/178 [08:34<06:45,  5.19s/it]"
     ]
    },
    {
     "name": "stdout",
     "output_type": "stream",
     "text": [
      "++++++++++++++++index:99++++++++++++++++++++++++\n",
      "预测表名： restaurant, location\n",
      "正确表名： restaurant, location\n",
      "############################################\n"
     ]
    },
    {
     "name": "stderr",
     "output_type": "stream",
     "text": [
      "\r",
      " 57%|█████████████████████████████████████████████▉                                   | 101/178 [08:39<06:39,  5.19s/it]"
     ]
    },
    {
     "name": "stdout",
     "output_type": "stream",
     "text": [
      "++++++++++++++++index:100++++++++++++++++++++++++\n",
      "预测表名： restaurant, location\n",
      "正确表名： restaurant, location\n",
      "############################################\n"
     ]
    },
    {
     "name": "stderr",
     "output_type": "stream",
     "text": [
      "\r",
      " 57%|██████████████████████████████████████████████▍                                  | 102/178 [08:44<06:35,  5.20s/it]"
     ]
    },
    {
     "name": "stdout",
     "output_type": "stream",
     "text": [
      "++++++++++++++++index:101++++++++++++++++++++++++\n",
      "预测表名： restaurant, location\n",
      "正确表名： restaurant, location\n",
      "############################################\n"
     ]
    },
    {
     "name": "stderr",
     "output_type": "stream",
     "text": [
      "\r",
      " 58%|██████████████████████████████████████████████▊                                  | 103/178 [08:50<06:29,  5.20s/it]"
     ]
    },
    {
     "name": "stdout",
     "output_type": "stream",
     "text": [
      "++++++++++++++++index:102++++++++++++++++++++++++\n",
      "预测表名： restaurant, location\n",
      "正确表名： restaurant, location\n",
      "############################################\n"
     ]
    },
    {
     "name": "stderr",
     "output_type": "stream",
     "text": [
      "\r",
      " 58%|███████████████████████████████████████████████▎                                 | 104/178 [08:55<06:23,  5.18s/it]"
     ]
    },
    {
     "name": "stdout",
     "output_type": "stream",
     "text": [
      "++++++++++++++++index:103++++++++++++++++++++++++\n",
      "预测表名： restaurant, location\n",
      "正确表名： restaurant, location\n",
      "############################################\n"
     ]
    },
    {
     "name": "stderr",
     "output_type": "stream",
     "text": [
      "\r",
      " 59%|███████████████████████████████████████████████▊                                 | 105/178 [09:00<06:19,  5.20s/it]"
     ]
    },
    {
     "name": "stdout",
     "output_type": "stream",
     "text": [
      "++++++++++++++++index:104++++++++++++++++++++++++\n",
      "预测表名： restaurant, geographic, location\n",
      "正确表名： restaurant, geographic, location\n",
      "############################################\n"
     ]
    },
    {
     "name": "stderr",
     "output_type": "stream",
     "text": [
      "\r",
      " 60%|████████████████████████████████████████████████▏                                | 106/178 [09:05<06:17,  5.25s/it]"
     ]
    },
    {
     "name": "stdout",
     "output_type": "stream",
     "text": [
      "++++++++++++++++index:105++++++++++++++++++++++++\n",
      "预测表名： restaurant, geographic, location\n",
      "正确表名： restaurant, geographic, location\n",
      "############################################\n"
     ]
    },
    {
     "name": "stderr",
     "output_type": "stream",
     "text": [
      "\r",
      " 60%|████████████████████████████████████████████████▋                                | 107/178 [09:11<06:12,  5.25s/it]"
     ]
    },
    {
     "name": "stdout",
     "output_type": "stream",
     "text": [
      "++++++++++++++++index:106++++++++++++++++++++++++\n",
      "预测表名： restaurant, location\n",
      "正确表名： restaurant, location\n",
      "############################################\n"
     ]
    },
    {
     "name": "stderr",
     "output_type": "stream",
     "text": [
      "\r",
      " 61%|█████████████████████████████████████████████████▏                               | 108/178 [09:16<06:04,  5.20s/it]"
     ]
    },
    {
     "name": "stdout",
     "output_type": "stream",
     "text": [
      "++++++++++++++++index:107++++++++++++++++++++++++\n",
      "预测表名： follows\n",
      "正确表名： user_profiles\n",
      "############################################\n"
     ]
    },
    {
     "name": "stderr",
     "output_type": "stream",
     "text": [
      "\r",
      " 61%|█████████████████████████████████████████████████▌                               | 109/178 [09:21<05:57,  5.19s/it]"
     ]
    },
    {
     "name": "stdout",
     "output_type": "stream",
     "text": [
      "++++++++++++++++index:108++++++++++++++++++++++++\n",
      "预测表名： user_profiles\n",
      "正确表名： user_profiles\n",
      "############################################\n"
     ]
    },
    {
     "name": "stderr",
     "output_type": "stream",
     "text": [
      "\r",
      " 62%|██████████████████████████████████████████████████                               | 110/178 [09:26<05:50,  5.16s/it]"
     ]
    },
    {
     "name": "stdout",
     "output_type": "stream",
     "text": [
      "++++++++++++++++index:109++++++++++++++++++++++++\n",
      "预测表名： weather\n",
      "正确表名： weather\n",
      "############################################\n"
     ]
    },
    {
     "name": "stderr",
     "output_type": "stream",
     "text": [
      "\r",
      " 62%|██████████████████████████████████████████████████▌                              | 111/178 [09:31<05:46,  5.17s/it]"
     ]
    },
    {
     "name": "stdout",
     "output_type": "stream",
     "text": [
      "++++++++++++++++index:110++++++++++++++++++++++++\n",
      "预测表名： weather, trip\n",
      "正确表名： weather, trip\n",
      "############################################\n"
     ]
    },
    {
     "name": "stderr",
     "output_type": "stream",
     "text": [
      "\r",
      " 63%|██████████████████████████████████████████████████▉                              | 112/178 [09:36<05:42,  5.19s/it]"
     ]
    },
    {
     "name": "stdout",
     "output_type": "stream",
     "text": [
      "++++++++++++++++index:111++++++++++++++++++++++++\n",
      "预测表名： trip, weather\n",
      "正确表名： trip, weather\n",
      "############################################\n"
     ]
    },
    {
     "name": "stderr",
     "output_type": "stream",
     "text": [
      "\r",
      " 63%|███████████████████████████████████████████████████▍                             | 113/178 [09:41<05:36,  5.17s/it]"
     ]
    },
    {
     "name": "stdout",
     "output_type": "stream",
     "text": [
      "++++++++++++++++index:112++++++++++++++++++++++++\n",
      "预测表名： trip\n",
      "正确表名： trip\n",
      "############################################\n"
     ]
    },
    {
     "name": "stderr",
     "output_type": "stream",
     "text": [
      "\r",
      " 64%|███████████████████████████████████████████████████▉                             | 114/178 [09:47<05:31,  5.18s/it]"
     ]
    },
    {
     "name": "stdout",
     "output_type": "stream",
     "text": [
      "++++++++++++++++index:113++++++++++++++++++++++++\n",
      "预测表名： station, status\n",
      "正确表名： station, status\n",
      "############################################\n"
     ]
    },
    {
     "name": "stderr",
     "output_type": "stream",
     "text": [
      "\r",
      " 65%|████████████████████████████████████████████████████▎                            | 115/178 [09:52<05:25,  5.17s/it]"
     ]
    },
    {
     "name": "stdout",
     "output_type": "stream",
     "text": [
      "++++++++++++++++index:114++++++++++++++++++++++++\n",
      "预测表名： trip\n",
      "正确表名： trip\n",
      "############################################\n"
     ]
    },
    {
     "name": "stderr",
     "output_type": "stream",
     "text": [
      "\r",
      " 65%|████████████████████████████████████████████████████▊                            | 116/178 [09:57<05:21,  5.18s/it]"
     ]
    },
    {
     "name": "stdout",
     "output_type": "stream",
     "text": [
      "++++++++++++++++index:115++++++++++++++++++++++++\n",
      "预测表名： weather\n",
      "正确表名： weather\n",
      "############################################\n"
     ]
    },
    {
     "name": "stderr",
     "output_type": "stream",
     "text": [
      "\r",
      " 66%|█████████████████████████████████████████████████████▏                           | 117/178 [10:02<05:14,  5.15s/it]"
     ]
    },
    {
     "name": "stdout",
     "output_type": "stream",
     "text": [
      "++++++++++++++++index:116++++++++++++++++++++++++\n",
      "预测表名： station\n",
      "正确表名： station\n",
      "############################################\n"
     ]
    },
    {
     "name": "stderr",
     "output_type": "stream",
     "text": [
      "\r",
      " 66%|█████████████████████████████████████████████████████▋                           | 118/178 [10:07<05:08,  5.14s/it]"
     ]
    },
    {
     "name": "stdout",
     "output_type": "stream",
     "text": [
      "++++++++++++++++index:117++++++++++++++++++++++++\n",
      "预测表名： trip\n",
      "正确表名： trip\n",
      "############################################\n"
     ]
    },
    {
     "name": "stderr",
     "output_type": "stream",
     "text": [
      "\r",
      " 67%|██████████████████████████████████████████████████████▏                          | 119/178 [10:12<05:04,  5.16s/it]"
     ]
    },
    {
     "name": "stdout",
     "output_type": "stream",
     "text": [
      "++++++++++++++++index:118++++++++++++++++++++++++\n",
      "预测表名： station, trip\n",
      "正确表名： trip\n",
      "############################################\n"
     ]
    },
    {
     "name": "stderr",
     "output_type": "stream",
     "text": [
      "\r",
      " 67%|██████████████████████████████████████████████████████▌                          | 120/178 [10:17<04:56,  5.12s/it]"
     ]
    },
    {
     "name": "stdout",
     "output_type": "stream",
     "text": [
      "++++++++++++++++index:119++++++++++++++++++++++++\n",
      "预测表名： campuses\n",
      "正确表名： campuses\n",
      "############################################\n"
     ]
    },
    {
     "name": "stderr",
     "output_type": "stream",
     "text": [
      "\r",
      " 68%|███████████████████████████████████████████████████████                          | 121/178 [10:22<04:50,  5.10s/it]"
     ]
    },
    {
     "name": "stdout",
     "output_type": "stream",
     "text": [
      "++++++++++++++++index:120++++++++++++++++++++++++\n",
      "预测表名： campuses\n",
      "正确表名： campuses\n",
      "############################################\n"
     ]
    },
    {
     "name": "stderr",
     "output_type": "stream",
     "text": [
      "\r",
      " 69%|███████████████████████████████████████████████████████▌                         | 122/178 [10:28<04:44,  5.09s/it]"
     ]
    },
    {
     "name": "stdout",
     "output_type": "stream",
     "text": [
      "++++++++++++++++index:121++++++++++++++++++++++++\n",
      "预测表名： campuses\n",
      "正确表名： campuses\n",
      "############################################\n"
     ]
    },
    {
     "name": "stderr",
     "output_type": "stream",
     "text": [
      "\r",
      " 69%|███████████████████████████████████████████████████████▉                         | 123/178 [10:33<04:38,  5.07s/it]"
     ]
    },
    {
     "name": "stdout",
     "output_type": "stream",
     "text": [
      "++++++++++++++++index:122++++++++++++++++++++++++\n",
      "预测表名： campuses\n",
      "正确表名： campuses\n",
      "############################################\n"
     ]
    },
    {
     "name": "stderr",
     "output_type": "stream",
     "text": [
      "\r",
      " 70%|████████████████████████████████████████████████████████▍                        | 124/178 [10:38<04:35,  5.10s/it]"
     ]
    },
    {
     "name": "stdout",
     "output_type": "stream",
     "text": [
      "++++++++++++++++index:123++++++++++++++++++++++++\n",
      "预测表名： campuses, degrees\n",
      "正确表名： campuses, degrees\n",
      "############################################\n"
     ]
    },
    {
     "name": "stderr",
     "output_type": "stream",
     "text": [
      "\r",
      " 70%|████████████████████████████████████████████████████████▉                        | 125/178 [10:43<04:31,  5.13s/it]"
     ]
    },
    {
     "name": "stdout",
     "output_type": "stream",
     "text": [
      "++++++++++++++++index:124++++++++++++++++++++++++\n",
      "预测表名： faculty, campuses\n",
      "正确表名： faculty, campuses\n",
      "############################################\n"
     ]
    },
    {
     "name": "stderr",
     "output_type": "stream",
     "text": [
      "\r",
      " 71%|█████████████████████████████████████████████████████████▎                       | 126/178 [10:48<04:24,  5.09s/it]"
     ]
    },
    {
     "name": "stdout",
     "output_type": "stream",
     "text": [
      "++++++++++++++++index:125++++++++++++++++++++++++\n",
      "预测表名： campuses\n",
      "正确表名： campuses\n",
      "############################################\n"
     ]
    },
    {
     "name": "stderr",
     "output_type": "stream",
     "text": [
      "\r",
      " 71%|█████████████████████████████████████████████████████████▊                       | 127/178 [10:53<04:19,  5.08s/it]"
     ]
    },
    {
     "name": "stdout",
     "output_type": "stream",
     "text": [
      "++++++++++++++++index:126++++++++++++++++++++++++\n",
      "预测表名： journalist\n",
      "正确表名： journalist\n",
      "############################################\n"
     ]
    },
    {
     "name": "stderr",
     "output_type": "stream",
     "text": [
      "\r",
      " 72%|██████████████████████████████████████████████████████████▏                      | 128/178 [10:58<04:19,  5.18s/it]"
     ]
    },
    {
     "name": "stdout",
     "output_type": "stream",
     "text": [
      "++++++++++++++++index:127++++++++++++++++++++++++\n",
      "预测表名： authors, authorship, papers\n",
      "正确表名： authors, authorship, papers\n",
      "############################################\n"
     ]
    },
    {
     "name": "stderr",
     "output_type": "stream",
     "text": [
      "\r",
      " 72%|██████████████████████████████████████████████████████████▋                      | 129/178 [11:04<04:16,  5.24s/it]"
     ]
    },
    {
     "name": "stdout",
     "output_type": "stream",
     "text": [
      "++++++++++++++++index:128++++++++++++++++++++++++\n",
      "预测表名： papers, authorship, inst\n",
      "正确表名： papers, authorship, inst\n",
      "############################################\n"
     ]
    },
    {
     "name": "stderr",
     "output_type": "stream",
     "text": [
      "\r",
      " 73%|███████████████████████████████████████████████████████████▏                     | 130/178 [11:09<04:13,  5.27s/it]"
     ]
    },
    {
     "name": "stdout",
     "output_type": "stream",
     "text": [
      "++++++++++++++++index:129++++++++++++++++++++++++\n",
      "预测表名： inst, authorship, papers\n",
      "正确表名： inst, authorship, papers\n",
      "############################################\n"
     ]
    },
    {
     "name": "stderr",
     "output_type": "stream",
     "text": [
      "\r",
      " 74%|███████████████████████████████████████████████████████████▌                     | 131/178 [11:14<04:09,  5.30s/it]"
     ]
    },
    {
     "name": "stdout",
     "output_type": "stream",
     "text": [
      "++++++++++++++++index:130++++++++++++++++++++++++\n",
      "预测表名： authors, authorship, papers\n",
      "正确表名： authors, authorship, papers\n",
      "############################################\n"
     ]
    },
    {
     "name": "stderr",
     "output_type": "stream",
     "text": [
      "\r",
      " 74%|████████████████████████████████████████████████████████████                     | 132/178 [11:20<04:04,  5.31s/it]"
     ]
    },
    {
     "name": "stdout",
     "output_type": "stream",
     "text": [
      "++++++++++++++++index:131++++++++++++++++++++++++\n",
      "预测表名： inst, authorship, papers\n",
      "正确表名： inst, authorship, papers\n",
      "############################################\n"
     ]
    },
    {
     "name": "stderr",
     "output_type": "stream",
     "text": [
      "\r",
      " 75%|████████████████████████████████████████████████████████████▌                    | 133/178 [11:25<03:59,  5.32s/it]"
     ]
    },
    {
     "name": "stdout",
     "output_type": "stream",
     "text": [
      "++++++++++++++++index:132++++++++++++++++++++++++\n",
      "预测表名： authors, authorship, papers\n",
      "正确表名： authors, authorship, papers\n",
      "############################################\n"
     ]
    },
    {
     "name": "stderr",
     "output_type": "stream",
     "text": [
      "\r",
      " 75%|████████████████████████████████████████████████████████████▉                    | 134/178 [11:30<03:50,  5.24s/it]"
     ]
    },
    {
     "name": "stdout",
     "output_type": "stream",
     "text": [
      "++++++++++++++++index:133++++++++++++++++++++++++\n",
      "预测表名： furniture\n",
      "正确表名： furniture\n",
      "############################################\n"
     ]
    },
    {
     "name": "stderr",
     "output_type": "stream",
     "text": [
      "\r",
      " 76%|█████████████████████████████████████████████████████████████▍                   | 135/178 [11:35<03:44,  5.22s/it]"
     ]
    },
    {
     "name": "stdout",
     "output_type": "stream",
     "text": [
      "++++++++++++++++index:134++++++++++++++++++++++++\n",
      "预测表名： person, personFriend\n",
      "正确表名： person, personFriend\n",
      "############################################\n"
     ]
    },
    {
     "name": "stderr",
     "output_type": "stream",
     "text": [
      "\r",
      " 76%|█████████████████████████████████████████████████████████████▉                   | 136/178 [11:41<03:38,  5.20s/it]"
     ]
    },
    {
     "name": "stdout",
     "output_type": "stream",
     "text": [
      "++++++++++++++++index:135++++++++++++++++++++++++\n",
      "预测表名： personfriend\n",
      "正确表名： person, personfriend\n",
      "############################################\n"
     ]
    },
    {
     "name": "stderr",
     "output_type": "stream",
     "text": [
      "\r",
      " 77%|██████████████████████████████████████████████████████████████▎                  | 137/178 [11:46<03:33,  5.21s/it]"
     ]
    },
    {
     "name": "stdout",
     "output_type": "stream",
     "text": [
      "++++++++++++++++index:136++++++++++++++++++++++++\n",
      "预测表名： person, personFriend\n",
      "正确表名： person, personFriend\n",
      "############################################\n"
     ]
    },
    {
     "name": "stderr",
     "output_type": "stream",
     "text": [
      "\r",
      " 78%|██████████████████████████████████████████████████████████████▊                  | 138/178 [11:51<03:26,  5.17s/it]"
     ]
    },
    {
     "name": "stdout",
     "output_type": "stream",
     "text": [
      "++++++++++++++++index:137++++++++++++++++++++++++\n",
      "预测表名： person\n",
      "正确表名： person\n",
      "############################################\n"
     ]
    },
    {
     "name": "stderr",
     "output_type": "stream",
     "text": [
      "\r",
      " 78%|███████████████████████████████████████████████████████████████▎                 | 139/178 [11:56<03:20,  5.13s/it]"
     ]
    },
    {
     "name": "stdout",
     "output_type": "stream",
     "text": [
      "++++++++++++++++index:138++++++++++++++++++++++++\n",
      "预测表名： person\n",
      "正确表名： person\n",
      "############################################\n"
     ]
    },
    {
     "name": "stderr",
     "output_type": "stream",
     "text": [
      "\r",
      " 79%|███████████████████████████████████████████████████████████████▋                 | 140/178 [12:01<03:14,  5.11s/it]"
     ]
    },
    {
     "name": "stdout",
     "output_type": "stream",
     "text": [
      "++++++++++++++++index:139++++++++++++++++++++++++\n",
      "预测表名： person\n",
      "正确表名： person\n",
      "############################################\n"
     ]
    },
    {
     "name": "stderr",
     "output_type": "stream",
     "text": [
      "\r",
      " 79%|████████████████████████████████████████████████████████████████▏                | 141/178 [12:06<03:09,  5.13s/it]"
     ]
    },
    {
     "name": "stdout",
     "output_type": "stream",
     "text": [
      "++++++++++++++++index:140++++++++++++++++++++++++\n",
      "预测表名： personfriend, person\n",
      "正确表名： personfriend, person\n",
      "############################################\n"
     ]
    },
    {
     "name": "stderr",
     "output_type": "stream",
     "text": [
      "\r",
      " 80%|████████████████████████████████████████████████████████████████▌                | 142/178 [12:11<03:03,  5.11s/it]"
     ]
    },
    {
     "name": "stdout",
     "output_type": "stream",
     "text": [
      "++++++++++++++++index:141++++++++++++++++++++++++\n",
      "预测表名： person\n",
      "正确表名： person\n",
      "############################################\n"
     ]
    },
    {
     "name": "stderr",
     "output_type": "stream",
     "text": [
      "\r",
      " 80%|█████████████████████████████████████████████████████████████████                | 143/178 [12:16<02:58,  5.10s/it]"
     ]
    },
    {
     "name": "stdout",
     "output_type": "stream",
     "text": [
      "++++++++++++++++index:142++++++++++++++++++++++++\n",
      "预测表名： enzyme\n",
      "正确表名： enzyme\n",
      "############################################\n"
     ]
    },
    {
     "name": "stderr",
     "output_type": "stream",
     "text": [
      "\r",
      " 81%|█████████████████████████████████████████████████████████████████▌               | 144/178 [12:21<02:53,  5.10s/it]"
     ]
    },
    {
     "name": "stdout",
     "output_type": "stream",
     "text": [
      "++++++++++++++++index:143++++++++++++++++++++++++\n",
      "预测表名： enzyme\n",
      "正确表名： enzyme\n",
      "############################################\n"
     ]
    },
    {
     "name": "stderr",
     "output_type": "stream",
     "text": [
      "\r",
      " 81%|█████████████████████████████████████████████████████████████████▉               | 145/178 [12:26<02:47,  5.07s/it]"
     ]
    },
    {
     "name": "stdout",
     "output_type": "stream",
     "text": [
      "++++++++++++++++index:144++++++++++++++++++++++++\n",
      "预测表名： enzyme\n",
      "正确表名： enzyme\n",
      "############################################\n"
     ]
    },
    {
     "name": "stderr",
     "output_type": "stream",
     "text": [
      "\r",
      " 82%|██████████████████████████████████████████████████████████████████▍              | 146/178 [12:32<02:45,  5.16s/it]"
     ]
    },
    {
     "name": "stdout",
     "output_type": "stream",
     "text": [
      "++++++++++++++++index:145++++++++++++++++++++++++\n",
      "预测表名： medicine, medicine_enzyme_interaction\n",
      "正确表名： medicine, medicine_enzyme_interaction\n",
      "############################################\n"
     ]
    },
    {
     "name": "stderr",
     "output_type": "stream",
     "text": [
      "\r",
      " 83%|██████████████████████████████████████████████████████████████████▉              | 147/178 [12:37<02:41,  5.21s/it]"
     ]
    },
    {
     "name": "stdout",
     "output_type": "stream",
     "text": [
      "++++++++++++++++index:146++++++++++++++++++++++++\n",
      "预测表名： apartment_bookings, apartments\n",
      "正确表名： apartment_bookings, apartments\n",
      "############################################\n"
     ]
    },
    {
     "name": "stderr",
     "output_type": "stream",
     "text": [
      "\r",
      " 83%|███████████████████████████████████████████████████████████████████▎             | 148/178 [12:42<02:37,  5.24s/it]"
     ]
    },
    {
     "name": "stdout",
     "output_type": "stream",
     "text": [
      "++++++++++++++++index:147++++++++++++++++++++++++\n",
      "预测表名： apartment_bookings, guests\n",
      "正确表名： apartment_bookings, guests\n",
      "############################################\n"
     ]
    },
    {
     "name": "stderr",
     "output_type": "stream",
     "text": [
      "\r",
      " 84%|███████████████████████████████████████████████████████████████████▊             | 149/178 [12:48<02:32,  5.25s/it]"
     ]
    },
    {
     "name": "stdout",
     "output_type": "stream",
     "text": [
      "++++++++++++++++index:148++++++++++++++++++++++++\n",
      "预测表名： apartment_buildings, apartments\n",
      "正确表名： apartment_buildings, apartments\n",
      "############################################\n"
     ]
    },
    {
     "name": "stderr",
     "output_type": "stream",
     "text": [
      "\r",
      " 84%|████████████████████████████████████████████████████████████████████▎            | 150/178 [12:53<02:27,  5.26s/it]"
     ]
    },
    {
     "name": "stdout",
     "output_type": "stream",
     "text": [
      "++++++++++++++++index:149++++++++++++++++++++++++\n",
      "预测表名： apartment_bookings, guests\n",
      "正确表名： apartment_bookings, guests\n",
      "############################################\n"
     ]
    },
    {
     "name": "stderr",
     "output_type": "stream",
     "text": [
      "\r",
      " 85%|████████████████████████████████████████████████████████████████████▋            | 151/178 [12:58<02:22,  5.29s/it]"
     ]
    },
    {
     "name": "stdout",
     "output_type": "stream",
     "text": [
      "++++++++++++++++index:150++++++++++++++++++++++++\n",
      "预测表名： apartment_facilities, apartments\n",
      "正确表名： apartment_facilities, apartments\n",
      "############################################\n"
     ]
    },
    {
     "name": "stderr",
     "output_type": "stream",
     "text": [
      "\r",
      " 85%|█████████████████████████████████████████████████████████████████████▏           | 152/178 [13:03<02:16,  5.24s/it]"
     ]
    },
    {
     "name": "stdout",
     "output_type": "stream",
     "text": [
      "++++++++++++++++index:151++++++++++++++++++++++++\n",
      "预测表名： apartments\n",
      "正确表名： apartments\n",
      "############################################\n"
     ]
    },
    {
     "name": "stderr",
     "output_type": "stream",
     "text": [
      "\r",
      " 86%|█████████████████████████████████████████████████████████████████████▌           | 153/178 [13:08<02:09,  5.19s/it]"
     ]
    },
    {
     "name": "stdout",
     "output_type": "stream",
     "text": [
      "++++++++++++++++index:152++++++++++++++++++++++++\n",
      "预测表名： apartments\n",
      "正确表名： apartments\n",
      "############################################\n"
     ]
    },
    {
     "name": "stderr",
     "output_type": "stream",
     "text": [
      "\r",
      " 87%|██████████████████████████████████████████████████████████████████████           | 154/178 [13:14<02:04,  5.20s/it]"
     ]
    },
    {
     "name": "stdout",
     "output_type": "stream",
     "text": [
      "++++++++++++++++index:153++++++++++++++++++++++++\n",
      "预测表名： apartment_buildings\n",
      "正确表名： apartment_buildings\n",
      "############################################\n"
     ]
    },
    {
     "name": "stderr",
     "output_type": "stream",
     "text": [
      "\r",
      " 87%|██████████████████████████████████████████████████████████████████████▌          | 155/178 [13:19<01:58,  5.15s/it]"
     ]
    },
    {
     "name": "stdout",
     "output_type": "stream",
     "text": [
      "++++++++++++++++index:154++++++++++++++++++++++++\n",
      "预测表名： program\n",
      "正确表名： program\n",
      "############################################\n"
     ]
    },
    {
     "name": "stderr",
     "output_type": "stream",
     "text": [
      "\r",
      " 88%|██████████████████████████████████████████████████████████████████████▉          | 156/178 [13:24<01:53,  5.17s/it]"
     ]
    },
    {
     "name": "stdout",
     "output_type": "stream",
     "text": [
      "++++++++++++++++index:155++++++++++++++++++++++++\n",
      "预测表名： program, broadcast\n",
      "正确表名： program, broadcast\n",
      "############################################\n"
     ]
    },
    {
     "name": "stderr",
     "output_type": "stream",
     "text": [
      "\r",
      " 88%|███████████████████████████████████████████████████████████████████████▍         | 157/178 [13:29<01:48,  5.15s/it]"
     ]
    },
    {
     "name": "stdout",
     "output_type": "stream",
     "text": [
      "++++++++++++++++index:156++++++++++++++++++++++++\n",
      "预测表名： channel\n",
      "正确表名： channel\n",
      "############################################\n"
     ]
    },
    {
     "name": "stderr",
     "output_type": "stream",
     "text": [
      "\r",
      " 89%|███████████████████████████████████████████████████████████████████████▉         | 158/178 [13:34<01:42,  5.13s/it]"
     ]
    },
    {
     "name": "stdout",
     "output_type": "stream",
     "text": [
      "++++++++++++++++index:157++++++++++++++++++++++++\n",
      "预测表名： channel\n",
      "正确表名： channel\n",
      "############################################\n"
     ]
    },
    {
     "name": "stderr",
     "output_type": "stream",
     "text": [
      "\r",
      " 89%|████████████████████████████████████████████████████████████████████████▎        | 159/178 [13:39<01:37,  5.15s/it]"
     ]
    },
    {
     "name": "stdout",
     "output_type": "stream",
     "text": [
      "++++++++++++++++index:158++++++++++++++++++++++++\n",
      "预测表名： customer_master_index\n",
      "正确表名： customer_master_index\n",
      "############################################\n"
     ]
    },
    {
     "name": "stderr",
     "output_type": "stream",
     "text": [
      "\r",
      " 90%|████████████████████████████████████████████████████████████████████████▊        | 160/178 [13:44<01:32,  5.14s/it]"
     ]
    },
    {
     "name": "stdout",
     "output_type": "stream",
     "text": [
      "++++++++++++++++index:159++++++++++++++++++++++++\n",
      "预测表名： district\n",
      "正确表名： district\n",
      "############################################\n"
     ]
    },
    {
     "name": "stderr",
     "output_type": "stream",
     "text": [
      "\r",
      " 90%|█████████████████████████████████████████████████████████████████████████▎       | 161/178 [13:49<01:26,  5.10s/it]"
     ]
    },
    {
     "name": "stdout",
     "output_type": "stream",
     "text": [
      "++++++++++++++++index:160++++++++++++++++++++++++\n",
      "预测表名： district\n",
      "正确表名： district\n",
      "############################################\n"
     ]
    },
    {
     "name": "stderr",
     "output_type": "stream",
     "text": [
      "\r",
      " 91%|█████████████████████████████████████████████████████████████████████████▋       | 162/178 [13:55<01:21,  5.10s/it]"
     ]
    },
    {
     "name": "stdout",
     "output_type": "stream",
     "text": [
      "++++++++++++++++index:161++++++++++++++++++++++++\n",
      "预测表名： district\n",
      "正确表名： district\n",
      "############################################\n"
     ]
    },
    {
     "name": "stderr",
     "output_type": "stream",
     "text": [
      "\r",
      " 92%|██████████████████████████████████████████████████████████████████████████▏      | 163/178 [14:00<01:16,  5.11s/it]"
     ]
    },
    {
     "name": "stdout",
     "output_type": "stream",
     "text": [
      "++++++++++++++++index:162++++++++++++++++++++++++\n",
      "预测表名： district\n",
      "正确表名： district\n",
      "############################################\n"
     ]
    },
    {
     "name": "stderr",
     "output_type": "stream",
     "text": [
      "\r",
      " 92%|██████████████████████████████████████████████████████████████████████████▋      | 164/178 [14:05<01:11,  5.12s/it]"
     ]
    },
    {
     "name": "stdout",
     "output_type": "stream",
     "text": [
      "++++++++++++++++index:163++++++++++++++++++++++++\n",
      "预测表名： gas_station\n",
      "正确表名： gas_station\n",
      "############################################\n"
     ]
    },
    {
     "name": "stderr",
     "output_type": "stream",
     "text": [
      "\r",
      " 93%|███████████████████████████████████████████████████████████████████████████      | 165/178 [14:10<01:06,  5.12s/it]"
     ]
    },
    {
     "name": "stdout",
     "output_type": "stream",
     "text": [
      "++++++++++++++++index:164++++++++++++++++++++++++\n",
      "预测表名： company\n",
      "正确表名： company\n",
      "############################################\n"
     ]
    },
    {
     "name": "stderr",
     "output_type": "stream",
     "text": [
      "\r",
      " 93%|███████████████████████████████████████████████████████████████████████████▌     | 166/178 [14:15<01:01,  5.12s/it]"
     ]
    },
    {
     "name": "stdout",
     "output_type": "stream",
     "text": [
      "++++++++++++++++index:165++++++++++++++++++++++++\n",
      "预测表名： company\n",
      "正确表名： company\n",
      "############################################\n"
     ]
    },
    {
     "name": "stderr",
     "output_type": "stream",
     "text": [
      "\r",
      " 94%|███████████████████████████████████████████████████████████████████████████▉     | 167/178 [14:20<00:57,  5.20s/it]"
     ]
    },
    {
     "name": "stdout",
     "output_type": "stream",
     "text": [
      "++++++++++++++++index:166++++++++++++++++++++++++\n",
      "预测表名： gas_station, station_company, company\n",
      "正确表名： station_company, company, gas_station\n",
      "############################################\n"
     ]
    },
    {
     "name": "stderr",
     "output_type": "stream",
     "text": [
      "\r",
      " 94%|████████████████████████████████████████████████████████████████████████████▍    | 168/178 [14:26<00:51,  5.19s/it]"
     ]
    },
    {
     "name": "stdout",
     "output_type": "stream",
     "text": [
      "++++++++++++++++index:167++++++++++++++++++++++++\n",
      "预测表名： festival_detail\n",
      "正确表名： festival_detail\n",
      "############################################\n"
     ]
    },
    {
     "name": "stderr",
     "output_type": "stream",
     "text": [
      "\r",
      " 95%|████████████████████████████████████████████████████████████████████████████▉    | 169/178 [14:31<00:46,  5.15s/it]"
     ]
    },
    {
     "name": "stdout",
     "output_type": "stream",
     "text": [
      "++++++++++++++++index:168++++++++++++++++++++++++\n",
      "预测表名： festival_detail\n",
      "正确表名： festival_detail\n",
      "############################################\n"
     ]
    },
    {
     "name": "stderr",
     "output_type": "stream",
     "text": [
      "\r",
      " 96%|█████████████████████████████████████████████████████████████████████████████▎   | 170/178 [14:36<00:41,  5.16s/it]"
     ]
    },
    {
     "name": "stdout",
     "output_type": "stream",
     "text": [
      "++++++++++++++++index:169++++++++++++++++++++++++\n",
      "预测表名： building, institution\n",
      "正确表名： building, institution\n",
      "############################################\n"
     ]
    },
    {
     "name": "stderr",
     "output_type": "stream",
     "text": [
      "\r",
      " 96%|█████████████████████████████████████████████████████████████████████████████▊   | 171/178 [14:41<00:36,  5.17s/it]"
     ]
    },
    {
     "name": "stdout",
     "output_type": "stream",
     "text": [
      "++++++++++++++++index:170++++++++++++++++++++++++\n",
      "预测表名： building, institution\n",
      "正确表名： building, institution\n",
      "############################################\n"
     ]
    },
    {
     "name": "stderr",
     "output_type": "stream",
     "text": [
      "\r",
      " 97%|██████████████████████████████████████████████████████████████████████████████▎  | 172/178 [14:46<00:31,  5.17s/it]"
     ]
    },
    {
     "name": "stdout",
     "output_type": "stream",
     "text": [
      "++++++++++++++++index:171++++++++++++++++++++++++\n",
      "预测表名： roller_coaster\n",
      "正确表名： roller_coaster\n",
      "############################################\n"
     ]
    },
    {
     "name": "stderr",
     "output_type": "stream",
     "text": [
      "\r",
      " 97%|██████████████████████████████████████████████████████████████████████████████▋  | 173/178 [14:51<00:25,  5.13s/it]"
     ]
    },
    {
     "name": "stdout",
     "output_type": "stream",
     "text": [
      "++++++++++++++++index:172++++++++++++++++++++++++\n",
      "预测表名： participants\n",
      "正确表名： participants\n",
      "############################################\n"
     ]
    },
    {
     "name": "stderr",
     "output_type": "stream",
     "text": [
      "\r",
      " 98%|███████████████████████████████████████████████████████████████████████████████▏ | 174/178 [14:56<00:20,  5.13s/it]"
     ]
    },
    {
     "name": "stdout",
     "output_type": "stream",
     "text": [
      "++++++++++++++++index:173++++++++++++++++++++++++\n",
      "预测表名： mill\n",
      "正确表名： mill\n",
      "############################################\n"
     ]
    },
    {
     "name": "stderr",
     "output_type": "stream",
     "text": [
      "\r",
      " 98%|███████████████████████████████████████████████████████████████████████████████▋ | 175/178 [15:02<00:15,  5.13s/it]"
     ]
    },
    {
     "name": "stdout",
     "output_type": "stream",
     "text": [
      "++++++++++++++++index:174++++++++++++++++++++++++\n",
      "预测表名： railway\n",
      "正确表名： railway\n",
      "############################################\n"
     ]
    },
    {
     "name": "stderr",
     "output_type": "stream",
     "text": [
      "\r",
      " 99%|████████████████████████████████████████████████████████████████████████████████ | 176/178 [15:07<00:10,  5.09s/it]"
     ]
    },
    {
     "name": "stdout",
     "output_type": "stream",
     "text": [
      "++++++++++++++++index:175++++++++++++++++++++++++\n",
      "预测表名： railway\n",
      "正确表名： railway\n",
      "############################################\n"
     ]
    },
    {
     "name": "stderr",
     "output_type": "stream",
     "text": [
      "\r",
      " 99%|████████████████████████████████████████████████████████████████████████████████▌| 177/178 [15:12<00:05,  5.08s/it]"
     ]
    },
    {
     "name": "stdout",
     "output_type": "stream",
     "text": [
      "++++++++++++++++index:176++++++++++++++++++++++++\n",
      "预测表名： book\n",
      "正确表名： book\n",
      "############################################\n"
     ]
    },
    {
     "name": "stderr",
     "output_type": "stream",
     "text": [
      "100%|█████████████████████████████████████████████████████████████████████████████████| 178/178 [15:17<00:00,  5.15s/it]"
     ]
    },
    {
     "name": "stdout",
     "output_type": "stream",
     "text": [
      "++++++++++++++++index:177++++++++++++++++++++++++\n",
      "预测表名： book, publication\n",
      "正确表名： book, publication\n",
      "############################################\n",
      "17\n"
     ]
    },
    {
     "name": "stderr",
     "output_type": "stream",
     "text": [
      "\n"
     ]
    }
   ],
   "source": [
    "import re\n",
    "df = pd.read_csv(\"./mydataset_new/validation_dataset_formatted_cropped.csv\",encoding=\"utf-8\")\n",
    "outer_index = 0\n",
    "import re\n",
    "pattern = re.compile(r'-- Tables: ([\\w, ]+);')\n",
    "results = []\n",
    "instruction = get_instruction(schema_str)\n",
    "#  schema_slicing\n",
    "for index, row in tqdm(df.iterrows(), total=len(df)):\n",
    "    question = row['question']\n",
    "    ref_tables = row['correct_tables']\n",
    "    messages = [\n",
    "    {\"role\": \"system\", \"content\": f\"{instruction}\"},\n",
    "    {\"role\": \"user\", \"content\": f\"{question}\"}]\n",
    "    response = predict(messages, model, tokenizer)\n",
    "#     print(response)\n",
    "    match = re.search(pattern, response)\n",
    "    if match:\n",
    "    # 提取匹配的表名字符串\n",
    "        table_names_str = match.group(1)\n",
    "\n",
    "        # 使用中文逗号分隔表名，这里我们替换中文逗号为英文逗号并去除空格\n",
    "    #         table_names = [name.strip() for name in table_names_str.replace('，', ',').split(',')]\n",
    "        table_names = table_names_str.split(', ')\n",
    "        # 将table_names整合成一个由英文逗号分隔的字符串\n",
    "        predict_table = ', '.join(table_names)\n",
    "        print(f\"++++++++++++++++index:{index}++++++++++++++++++++++++\")\n",
    "        print(\"预测表名：\", predict_table)\n",
    "        print(\"正确表名：\", ref_tables)\n",
    "        print(\"############################################\")\n",
    "    else:\n",
    "        predict_table = \"None\"\n",
    "    results.append([ref_tables,predict_table])\n",
    "print(len(predict_table))  "
   ]
  },
  {
   "cell_type": "code",
   "execution_count": 12,
   "id": "5ae1fb2c",
   "metadata": {},
   "outputs": [],
   "source": [
    "new_df = pd.DataFrame(results, columns = ['reference_tables','predicted_tables'])"
   ]
  },
  {
   "cell_type": "code",
   "execution_count": 13,
   "id": "7def6952",
   "metadata": {},
   "outputs": [
    {
     "name": "stdout",
     "output_type": "stream",
     "text": [
      "Total Accuracy: 0.9269662921348315\n",
      "Filtered Accuracy: 0.9438202247191011\n",
      "Average Precision: 0.9709737827715355\n",
      "Average Recall: 0.9681647940074906\n"
     ]
    }
   ],
   "source": [
    "total_samples = len(new_df)\n",
    "total_accuracy = 0\n",
    "filtered_accuracy = 0\n",
    "total_precision = 0\n",
    "total_recall = 0\n",
    "count = 0\n",
    "for index, row in new_df.iterrows():\n",
    "#     count+=1\n",
    "#     print(\"index:\",count)\n",
    "    if not row['predicted_tables'] or pd.isna(row['predicted_tables']):\n",
    "        continue\n",
    "    predicted_tables = row['predicted_tables'].split(\",\")\n",
    "    reference_tables = row['reference_tables'].split(\",\")\n",
    "    \n",
    "    # Convert to lowercase and strip whitespace for comparison\n",
    "    predicted_tables = [x.lower().replace(\"--\",\"\").replace(\"**\",\"\").strip() for x in predicted_tables]\n",
    "    reference_tables = [x.lower().strip() for x in reference_tables]\n",
    "    \n",
    "    # Calculate accuracy\n",
    "    if set(predicted_tables) == set(reference_tables):\n",
    "        total_accuracy += 1\n",
    "\n",
    "    # Calculate precision and recall\n",
    "    true_positives = len(set(predicted_tables) & set(reference_tables))\n",
    "    false_positives = len(set(predicted_tables) - set(reference_tables))\n",
    "    false_negatives = len(set(reference_tables) - set(predicted_tables))\n",
    "\n",
    "    if true_positives == len(reference_tables):\n",
    "        filtered_accuracy += 1\n",
    "    \n",
    "    if len(predicted_tables) > 0:\n",
    "        precision = true_positives / (true_positives + false_positives)\n",
    "        recall = true_positives / (true_positives + false_negatives)\n",
    "    \n",
    "    total_precision += precision\n",
    "    total_recall += recall\n",
    "\n",
    "# Calculate average precision and recall\n",
    "avg_precision = total_precision / total_samples\n",
    "avg_recall = total_recall / total_samples\n",
    "\n",
    "# Calculate total accuracy\n",
    "accuracy = total_accuracy / total_samples\n",
    "filtered_accuracy = filtered_accuracy / total_samples\n",
    "\n",
    "print(\"Total Accuracy:\", accuracy)\n",
    "print(\"Filtered Accuracy:\", filtered_accuracy)\n",
    "print(\"Average Precision:\", avg_precision)\n",
    "print(\"Average Recall:\", avg_recall)"
   ]
  },
  {
   "cell_type": "code",
   "execution_count": null,
   "id": "faac209d",
   "metadata": {},
   "outputs": [],
   "source": []
  },
  {
   "cell_type": "code",
   "execution_count": null,
   "id": "c5b1fdf1",
   "metadata": {},
   "outputs": [],
   "source": []
  },
  {
   "cell_type": "code",
   "execution_count": null,
   "id": "45764df1",
   "metadata": {},
   "outputs": [],
   "source": [
    "\"#Noooooooooooooooooo#"
   ]
  },
  {
   "cell_type": "code",
   "execution_count": null,
   "id": "cd06989a",
   "metadata": {},
   "outputs": [],
   "source": []
  },
  {
   "cell_type": "code",
   "execution_count": null,
   "id": "35fc6039",
   "metadata": {},
   "outputs": [],
   "source": []
  },
  {
   "cell_type": "code",
   "execution_count": null,
   "id": "13b4a8bc",
   "metadata": {},
   "outputs": [],
   "source": []
  },
  {
   "cell_type": "code",
   "execution_count": null,
   "id": "e3719867",
   "metadata": {},
   "outputs": [],
   "source": []
  }
 ],
 "metadata": {
  "kernelspec": {
   "display_name": "GLM_4",
   "language": "python",
   "name": "glm_4"
  },
  "language_info": {
   "codemirror_mode": {
    "name": "ipython",
    "version": 3
   },
   "file_extension": ".py",
   "mimetype": "text/x-python",
   "name": "python",
   "nbconvert_exporter": "python",
   "pygments_lexer": "ipython3",
   "version": "3.10.14"
  }
 },
 "nbformat": 4,
 "nbformat_minor": 5
}
